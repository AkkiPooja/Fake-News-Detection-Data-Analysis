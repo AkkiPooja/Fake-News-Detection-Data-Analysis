{
 "cells": [
  {
   "cell_type": "code",
   "execution_count": 1,
   "id": "c8bef67e-f94d-4522-bc77-fa16ef8ca3ef",
   "metadata": {},
   "outputs": [
    {
     "name": "stderr",
     "output_type": "stream",
     "text": [
      "Setting default log level to \"WARN\".\n",
      "To adjust logging level use sc.setLogLevel(newLevel). For SparkR, use setLogLevel(newLevel).\n"
     ]
    },
    {
     "name": "stdout",
     "output_type": "stream",
     "text": [
      "22/12/04 23:31:15 WARN NativeCodeLoader: Unable to load native-hadoop library for your platform... using builtin-java classes where applicable\n"
     ]
    },
    {
     "name": "stderr",
     "output_type": "stream",
     "text": [
      "/Users/poojaakki/opt/anaconda3/lib/python3.9/site-packages/pyspark/sql/context.py:157: FutureWarning: Deprecated in 3.0.0. Use SparkSession.builder.getOrCreate() instead.\n",
      "  warnings.warn(\n"
     ]
    }
   ],
   "source": [
    "import os\n",
    "import pyspark\n",
    "conf = pyspark.SparkConf()\n",
    "# conf.set('spark.ui.proxyBase'\n",
    "# , '/user/' + os.environ['JUPYTERHUB_USER'] + '/proxy/4041')\n",
    "conf.set('spark.sql.repl.eagerEval.enabled', True)\n",
    "conf.set('spark.driver.memory','4g')\n",
    "sc = pyspark.SparkContext(conf=conf)\n",
    "spark = pyspark.SQLContext.getOrCreate(sc)"
   ]
  },
  {
   "cell_type": "code",
   "execution_count": 37,
   "id": "52b73545-e2e0-4db7-a571-5e8c303b3575",
   "metadata": {},
   "outputs": [],
   "source": [
    "import pandas as pd\n",
    "from pyspark.sql.types import StructType, StructField\n",
    "from pyspark.sql.types import StringType\n",
    "\n",
    "schema= StructType(\n",
    "      [StructField('title',StringType(),True),\n",
    "      StructField('text',StringType(),True),\n",
    "      StructField('subject',StringType(),True),\n",
    "      StructField('date',StringType(),True)])\n",
    "\n",
    "df0 = pd.read_csv('/Users/poojaakki/Desktop/projects/Fake-News-Detection-Data-Analysis/datasets/Kaggle/fake.csv')\n",
    "df1 = pd.read_csv('/Users/poojaakki/Desktop/projects/Fake-News-Detection-Data-Analysis/datasets/Kaggle/true.csv')\n",
    "df_fake = spark.createDataFrame(df0,schema=schema)\n",
    "df_true = spark.createDataFrame(df1,schema=schema)"
   ]
  },
  {
   "cell_type": "code",
   "execution_count": 38,
   "id": "54de89ac-6ac2-4559-a965-5c15485efbfe",
   "metadata": {},
   "outputs": [],
   "source": [
    "# df_fake.show(20)"
   ]
  },
  {
   "cell_type": "code",
   "execution_count": 39,
   "id": "304887a4-614c-4e41-bdd0-c6e2c59b0d33",
   "metadata": {},
   "outputs": [],
   "source": [
    "# df_true.show(20)"
   ]
  },
  {
   "cell_type": "code",
   "execution_count": 40,
   "id": "47d9d708-63ea-4d44-9651-8d59165e9911",
   "metadata": {},
   "outputs": [],
   "source": [
    "# add a label to the data for fake news as 0 and true news as 1 and shuffle using rand\n",
    "from pyspark.sql.functions import lit, rand\n",
    "\n",
    "df= df_true.withColumn('flag', lit(1)).union(df_fake.withColumn('flag', lit(0))).orderBy(rand())"
   ]
  },
  {
   "cell_type": "code",
   "execution_count": 41,
   "id": "fef51cca-ad22-4b64-9d26-6fc0d05d9cb9",
   "metadata": {},
   "outputs": [
    {
     "name": "stdout",
     "output_type": "stream",
     "text": [
      "root\n",
      " |-- title: string (nullable = true)\n",
      " |-- text: string (nullable = true)\n",
      " |-- subject: string (nullable = true)\n",
      " |-- date: string (nullable = true)\n",
      " |-- flag: integer (nullable = false)\n",
      "\n"
     ]
    }
   ],
   "source": [
    "df.printSchema()"
   ]
  },
  {
   "cell_type": "code",
   "execution_count": 42,
   "id": "0c6c2eb9-6523-48e9-b0a5-228d4b3db576",
   "metadata": {},
   "outputs": [
    {
     "name": "stdout",
     "output_type": "stream",
     "text": [
      "22/12/04 23:37:20 WARN TaskSetManager: Stage 21 contains a task of very large size (4983 KiB). The maximum recommended task size is 1000 KiB.\n",
      "22/12/04 23:37:20 WARN TaskSetManager: Stage 24 contains a task of very large size (4983 KiB). The maximum recommended task size is 1000 KiB.\n"
     ]
    },
    {
     "data": {
      "text/html": [
       "<table border='1'>\n",
       "<tr><th>subject</th><th>count</th></tr>\n",
       "<tr><td>politicsNews</td><td>11272</td></tr>\n",
       "<tr><td>worldnews</td><td>10145</td></tr>\n",
       "<tr><td>News</td><td>9050</td></tr>\n",
       "<tr><td>politics</td><td>6841</td></tr>\n",
       "<tr><td>left-news</td><td>4459</td></tr>\n",
       "<tr><td>Government News</td><td>1570</td></tr>\n",
       "<tr><td>US_News</td><td>783</td></tr>\n",
       "<tr><td>Middle-east</td><td>778</td></tr>\n",
       "</table>\n"
      ],
      "text/plain": [
       "+---------------+-----+\n",
       "|        subject|count|\n",
       "+---------------+-----+\n",
       "|   politicsNews|11272|\n",
       "|      worldnews|10145|\n",
       "|           News| 9050|\n",
       "|       politics| 6841|\n",
       "|      left-news| 4459|\n",
       "|Government News| 1570|\n",
       "|        US_News|  783|\n",
       "|    Middle-east|  778|\n",
       "+---------------+-----+"
      ]
     },
     "execution_count": 42,
     "metadata": {},
     "output_type": "execute_result"
    }
   ],
   "source": [
    "#types of news and highest number of news in order\n",
    "from pyspark.sql.functions import col\n",
    "\n",
    "df.groupby('subject').count().sort(col(\"count\").desc())"
   ]
  },
  {
   "cell_type": "code",
   "execution_count": 43,
   "id": "e92245b8-0876-4eba-82d6-ff9fe16368df",
   "metadata": {},
   "outputs": [],
   "source": [
    "# text pre-processing\n",
    "\n",
    "from pyspark.sql.functions import col, split, lower, regexp_replace, length\n",
    "\n",
    "df = df.select('title',(lower(regexp_replace('text', \"[^a-zA-Z\\\\s]\", \"\")).alias('text')), 'subject', 'date', 'flag')"
   ]
  },
  {
   "cell_type": "code",
   "execution_count": 44,
   "id": "afed8e9a-409b-4e9b-830e-e027d3d694c5",
   "metadata": {},
   "outputs": [],
   "source": [
    "# tokenize the text\n",
    "\n",
    "from pyspark.ml.feature import Tokenizer\n",
    "\n",
    "tokenizer = Tokenizer(inputCol='text', outputCol='words_token')\n",
    "\n",
    "df = tokenizer.transform(df).select('title','words_token','subject','date','flag')"
   ]
  },
  {
   "cell_type": "code",
   "execution_count": 45,
   "id": "14f450f5-b0f2-495a-8d06-f3e02cd2aa64",
   "metadata": {},
   "outputs": [],
   "source": [
    "# df.first()"
   ]
  },
  {
   "cell_type": "code",
   "execution_count": 46,
   "id": "aaf20a61-5661-48de-bf60-a019d1ad4b61",
   "metadata": {},
   "outputs": [],
   "source": [
    "# remove the stop words\n",
    "\n",
    "# tokens=['paris', 'reuters', '', 'plans', 'to', 'buy', 'a', 'new', 'presidential', 'jet', 'for', 'france', 's', 'emmanuel', 'macron', 'could', 'be']\n",
    "\n",
    "# clean_tokens = [ tok for tok in tokens if tok ]\n",
    "\n",
    "# clean_tokens"
   ]
  },
  {
   "cell_type": "code",
   "execution_count": 48,
   "id": "5fcbfe70-d172-4436-b3d2-b460542502b4",
   "metadata": {},
   "outputs": [],
   "source": [
    "#remove empty string from the frame\n",
    "from pyspark.sql.functions import udf\n",
    "import pyspark.sql.functions as f\n",
    "from pyspark.sql.types import ArrayType\n",
    "\n",
    "def space_removal(f):\n",
    "    clean_tokens = []\n",
    "    for tok in f:\n",
    "        if tok:\n",
    "            clean_tokens.append(tok)\n",
    "    return clean_tokens\n",
    "\n",
    "udf_space_removal = udf(space_removal, ArrayType(StringType()))\n",
    "\n",
    "df = df.withColumn('words_token', udf_space_removal(f.col('words_token')))"
   ]
  },
  {
   "cell_type": "code",
   "execution_count": 49,
   "id": "86ab0b29-4320-459f-8ea4-12f06f6df2b4",
   "metadata": {},
   "outputs": [],
   "source": [
    "# df.first()"
   ]
  },
  {
   "cell_type": "code",
   "execution_count": 50,
   "id": "92ad4e15-b56a-4eb7-85a1-e50299b52fb2",
   "metadata": {},
   "outputs": [
    {
     "name": "stderr",
     "output_type": "stream",
     "text": [
      "[nltk_data] Downloading package stopwords to\n",
      "[nltk_data]     /Users/poojaakki/nltk_data...\n",
      "[nltk_data]   Package stopwords is already up-to-date!\n"
     ]
    }
   ],
   "source": [
    "import nltk\n",
    "nltk.download('stopwords')\n",
    "from nltk.corpus import stopwords\n",
    "stop = stopwords.words('english')"
   ]
  },
  {
   "cell_type": "code",
   "execution_count": 51,
   "id": "f9056b40-9d7f-403c-8244-0f5e51d3dc47",
   "metadata": {},
   "outputs": [],
   "source": [
    "# remove the stop words\n",
    "from pyspark.ml.feature import StopWordsRemover\n",
    "\n",
    "stop_words_remover = StopWordsRemover(inputCol='words_token', outputCol='text').setStopWords(stop)"
   ]
  },
  {
   "cell_type": "code",
   "execution_count": 52,
   "id": "b74dc0ff-7c4b-412c-8db9-c608dade0533",
   "metadata": {},
   "outputs": [],
   "source": [
    "from pyspark.ml import Pipeline\n",
    "\n",
    "stopWordRemovalPipeline = Pipeline(stages=[stop_words_remover])\n",
    "pipelineFitRemoveStopWords = stopWordRemovalPipeline.fit(df)"
   ]
  },
  {
   "cell_type": "code",
   "execution_count": 53,
   "id": "04e09d68-33c7-47d1-a1c0-ed3cf1740ef3",
   "metadata": {},
   "outputs": [],
   "source": [
    "df = pipelineFitRemoveStopWords.transform(df) #added here"
   ]
  },
  {
   "cell_type": "code",
   "execution_count": 54,
   "id": "80ea64a0-9283-4a15-bf05-7f0d44f09bcd",
   "metadata": {},
   "outputs": [],
   "source": [
    "# df.first()"
   ]
  },
  {
   "cell_type": "code",
   "execution_count": 55,
   "id": "e777fe51-9f6c-4216-9015-234d02a9d0d1",
   "metadata": {},
   "outputs": [],
   "source": [
    "# stematizing the words\n",
    "# from nltk.stem.snowball import SnowballStemmer\n",
    "\n",
    "# stemmer = SnowballStemmer(language='english')\n",
    "# stemmer_udf = udf(lambda tokens: [stemmer.stem(token) for token in tokens], ArrayType(StringType()))\n",
    "\n",
    "# df = df.withColumn(\"words_stemmed\", stemmer_udf(\"text\")).select('title','words_token','subject','date','flag','words_stemmed')"
   ]
  },
  {
   "cell_type": "code",
   "execution_count": 14,
   "id": "dc89562f-1be3-47bb-bfec-db9a28c4949d",
   "metadata": {},
   "outputs": [],
   "source": [
    "# df.first()"
   ]
  },
  {
   "cell_type": "code",
   "execution_count": 56,
   "id": "94ddc611-08c4-4135-a67a-a1ef4b66010e",
   "metadata": {},
   "outputs": [],
   "source": [
    "# df = df.withColumnRenamed(\"words_stemmed\",\"text\")"
   ]
  },
  {
   "cell_type": "code",
   "execution_count": 57,
   "id": "37ccd01f-dee0-4787-96e8-61c187a04a8a",
   "metadata": {},
   "outputs": [],
   "source": [
    "# df"
   ]
  },
  {
   "cell_type": "code",
   "execution_count": 58,
   "id": "f94d9533-351e-4b7a-a356-cbbf76aa76fa",
   "metadata": {},
   "outputs": [],
   "source": [
    "# most freq words in data\n",
    "\n",
    "from pyspark.sql.functions import concat_ws\n",
    "\n",
    "df_freq = df.withColumn(\"text\", concat_ws(\" \", df[\"text\"]))\n",
    "\n",
    "# df_freq.show(5)"
   ]
  },
  {
   "cell_type": "code",
   "execution_count": 59,
   "id": "f3d26157-f87e-4b99-9199-5bfb2ecdf63c",
   "metadata": {},
   "outputs": [],
   "source": [
    "# most frequent fake words\n",
    "\n",
    "df_fake_freq = df_freq.filter(df[\"flag\"] == 0)\n",
    "\n",
    "df_fake_text = df_fake_freq.select(\"text\")\n"
   ]
  },
  {
   "cell_type": "code",
   "execution_count": 60,
   "id": "7164bfbe-2673-4769-8b62-75f7c79cca61",
   "metadata": {},
   "outputs": [
    {
     "name": "stdout",
     "output_type": "stream",
     "text": [
      "22/12/04 23:37:59 WARN TaskSetManager: Stage 27 contains a task of very large size (4983 KiB). The maximum recommended task size is 1000 KiB.\n"
     ]
    },
    {
     "name": "stderr",
     "output_type": "stream",
     "text": [
      "                                                                                \r"
     ]
    },
    {
     "name": "stdout",
     "output_type": "stream",
     "text": [
      "22/12/04 23:38:01 WARN TaskSetManager: Stage 28 contains a task of very large size (4983 KiB). The maximum recommended task size is 1000 KiB.\n"
     ]
    },
    {
     "name": "stderr",
     "output_type": "stream",
     "text": [
      "[Stage 30:============>                                             (2 + 7) / 9]\r"
     ]
    },
    {
     "name": "stdout",
     "output_type": "stream",
     "text": [
      "+---------+-----+\n",
      "|     word|count|\n",
      "+---------+-----+\n",
      "|    trump|73933|\n",
      "|     said|31013|\n",
      "|   people|25963|\n",
      "|president|25586|\n",
      "|    would|23427|\n",
      "|      one|22935|\n",
      "|       us|22049|\n",
      "|  clinton|18011|\n",
      "|    obama|17813|\n",
      "|     like|17621|\n",
      "|   donald|17215|\n",
      "|     also|15242|\n",
      "|      new|14158|\n",
      "|     news|14126|\n",
      "|     even|13717|\n",
      "|  hillary|13565|\n",
      "|    white|12778|\n",
      "|     time|12728|\n",
      "|    state|12525|\n",
      "|      via|11273|\n",
      "+---------+-----+\n",
      "only showing top 20 rows\n",
      "\n"
     ]
    },
    {
     "name": "stderr",
     "output_type": "stream",
     "text": [
      "                                                                                \r"
     ]
    }
   ],
   "source": [
    "from pyspark.sql.functions import explode\n",
    "\n",
    "df_fake_text = df_fake_text\\\n",
    ".withColumn(\"words\", split(col(\"text\"), \" \"))\\\n",
    ".where(length(\"text\")>0)\n",
    "\n",
    "df_freq_fake = df_fake_text\\\n",
    ".select(explode(col(\"words\")).alias(\"word\"))\\\n",
    ".groupBy(\"word\").count()\\\n",
    "\n",
    "df_freq_fake.orderBy(col(\"count\").desc()).show()"
   ]
  },
  {
   "cell_type": "code",
   "execution_count": 124,
   "id": "0e1f3aac-3764-4da3-8b94-d1c24743549c",
   "metadata": {},
   "outputs": [],
   "source": [
    "#most true words\n",
    "\n",
    "df_true_freq = df_freq.filter(df[\"flag\"] == 1)\n",
    "\n",
    "df_true_text = df_true_freq.select(\"text\")"
   ]
  },
  {
   "cell_type": "code",
   "execution_count": 125,
   "id": "2d810c99-54a3-4764-b88e-cf005d1c8c13",
   "metadata": {},
   "outputs": [
    {
     "name": "stdout",
     "output_type": "stream",
     "text": [
      "22/12/04 23:09:54 WARN TaskSetManager: Stage 70 contains a task of very large size (4983 KiB). The maximum recommended task size is 1000 KiB.\n"
     ]
    },
    {
     "name": "stderr",
     "output_type": "stream",
     "text": [
      "                                                                                \r"
     ]
    },
    {
     "name": "stdout",
     "output_type": "stream",
     "text": [
      "22/12/04 23:10:06 WARN TaskSetManager: Stage 71 contains a task of very large size (4983 KiB). The maximum recommended task size is 1000 KiB.\n"
     ]
    },
    {
     "name": "stderr",
     "output_type": "stream",
     "text": [
      "[Stage 73:==================================================>       (7 + 1) / 8]\r"
     ]
    },
    {
     "name": "stdout",
     "output_type": "stream",
     "text": [
      "+----------+-----+\n",
      "|      word|count|\n",
      "+----------+-----+\n",
      "|      said|98985|\n",
      "|     trump|54341|\n",
      "|        us|41137|\n",
      "|     state|36638|\n",
      "|     would|31514|\n",
      "|    presid|28367|\n",
      "|    reuter|28306|\n",
      "|republican|22108|\n",
      "|    govern|20215|\n",
      "|      year|19294|\n",
      "|      hous|17525|\n",
      "|       new|16786|\n",
      "|      unit|16525|\n",
      "|  democrat|16214|\n",
      "|      also|15944|\n",
      "|       say|15942|\n",
      "|     senat|15705|\n",
      "|     elect|15524|\n",
      "|     peopl|15322|\n",
      "|     parti|15002|\n",
      "+----------+-----+\n",
      "only showing top 20 rows\n",
      "\n"
     ]
    },
    {
     "name": "stderr",
     "output_type": "stream",
     "text": [
      "                                                                                \r"
     ]
    }
   ],
   "source": [
    "from pyspark.sql.functions import explode\n",
    "\n",
    "df_true_text = df_true_text\\\n",
    ".withColumn(\"words\", split(col(\"text\"), \" \"))\\\n",
    ".where(length(\"text\")>0)\n",
    "\n",
    "df_freq_true = df_true_text\\\n",
    ".select(explode(col(\"words\")).alias(\"word\"))\\\n",
    ".groupBy(\"word\").count()\\\n",
    "\n",
    "df_freq_true.orderBy(col(\"count\").desc()).show()"
   ]
  },
  {
   "cell_type": "code",
   "execution_count": 76,
   "id": "eec22931-121d-4e9d-849d-f660964bfd78",
   "metadata": {},
   "outputs": [
    {
     "name": "stdout",
     "output_type": "stream",
     "text": [
      "root\n",
      " |-- title: string (nullable = true)\n",
      " |-- words_token: array (nullable = true)\n",
      " |    |-- element: string (containsNull = true)\n",
      " |-- subject: string (nullable = true)\n",
      " |-- date: string (nullable = true)\n",
      " |-- flag: integer (nullable = false)\n",
      " |-- text: string (nullable = false)\n",
      "\n"
     ]
    }
   ],
   "source": [
    "df_freq.printSchema()"
   ]
  },
  {
   "cell_type": "code",
   "execution_count": 125,
   "id": "d7e0b522-c6ba-463c-9d98-24dfcf61768a",
   "metadata": {},
   "outputs": [
    {
     "name": "stdout",
     "output_type": "stream",
     "text": [
      "22/12/04 22:10:01 WARN TaskSetManager: Stage 126 contains a task of very large size (4983 KiB). The maximum recommended task size is 1000 KiB.\n"
     ]
    },
    {
     "name": "stderr",
     "output_type": "stream",
     "text": [
      "                                                                                \r"
     ]
    },
    {
     "data": {
      "text/plain": [
       "44898"
      ]
     },
     "execution_count": 125,
     "metadata": {},
     "output_type": "execute_result"
    }
   ],
   "source": [
    "df_freq.count()"
   ]
  },
  {
   "cell_type": "code",
   "execution_count": 61,
   "id": "5a459d10-e4df-43a9-a0b9-20d2d87c0a77",
   "metadata": {},
   "outputs": [
    {
     "name": "stdout",
     "output_type": "stream",
     "text": [
      "root\n",
      " |-- subject: string (nullable = true)\n",
      " |-- flag: integer (nullable = false)\n",
      " |-- text: string (nullable = false)\n",
      "\n"
     ]
    }
   ],
   "source": [
    "# drop unwanted coloumns\n",
    "\n",
    "df_ml = df_freq.drop(\"title\",\"words_token\",\"date\")\n",
    "df_ml.printSchema()"
   ]
  },
  {
   "cell_type": "code",
   "execution_count": 62,
   "id": "e2aebece-ee74-4a37-9433-238f2fd32d95",
   "metadata": {},
   "outputs": [
    {
     "name": "stdout",
     "output_type": "stream",
     "text": [
      "22/12/04 23:38:20 WARN TaskSetManager: Stage 34 contains a task of very large size (4983 KiB). The maximum recommended task size is 1000 KiB.\n",
      "22/12/04 23:38:20 WARN TaskSetManager: Stage 35 contains a task of very large size (4983 KiB). The maximum recommended task size is 1000 KiB.\n",
      "+---------------+----+--------------------+---+\n",
      "|        subject|flag|                text| id|\n",
      "+---------------+----+--------------------+---+\n",
      "|           News|   0|using pimp pedoph...|  0|\n",
      "|           News|   0|donald trump appe...|  1|\n",
      "|   politicsNews|   1|mexico city reute...|  2|\n",
      "|           News|   0|debate french tel...|  3|\n",
      "|           News|   0|injured killed te...|  4|\n",
      "|      worldnews|   1|johannesburg reut...|  5|\n",
      "|           News|   0|trump presidentia...|  6|\n",
      "|       politics|   0|one thing preside...|  7|\n",
      "|   politicsNews|   1|vatican city reut...|  8|\n",
      "|   politicsNews|   1|charleston sc reu...|  9|\n",
      "|      worldnews|   1|townsville austra...| 10|\n",
      "|        US_News|   0|us army stryker a...| 11|\n",
      "|      left-news|   0|peace america whi...| 12|\n",
      "|   politicsNews|   1|tampa fla reuters...| 13|\n",
      "|   politicsNews|   1|reuters group us ...| 14|\n",
      "|   politicsNews|   1|chicago reuters t...| 15|\n",
      "|      left-news|   0|nevertrump moveme...| 16|\n",
      "|   politicsNews|   1|washington reuter...| 17|\n",
      "|           News|   0|florida toxic dan...| 18|\n",
      "|   politicsNews|   1|prague reuters cz...| 19|\n",
      "|      worldnews|   1|bogota reuters tw...| 20|\n",
      "|      worldnews|   1|beirut reuters we...| 21|\n",
      "|   politicsNews|   1|new york reuters ...| 22|\n",
      "|      worldnews|   1|isiolo kenya reut...| 23|\n",
      "|      left-news|   0|httpswwwyoutubeco...| 24|\n",
      "|      left-news|   0|msnbc cable news ...| 25|\n",
      "|    Middle-east|   0|st century wire s...| 26|\n",
      "|   politicsNews|   1|reuters following...| 27|\n",
      "|   politicsNews|   1|washington reuter...| 28|\n",
      "|       politics|   0|new us ambassador...| 29|\n",
      "|   politicsNews|   1|washington reuter...| 30|\n",
      "|      worldnews|   1|beirut reuters he...| 31|\n",
      "|   politicsNews|   1|washington reuter...| 32|\n",
      "|   politicsNews|   1|tallahassee fla r...| 33|\n",
      "|       politics|   0|knew probably eve...| 34|\n",
      "|   politicsNews|   1|washington reuter...| 35|\n",
      "|           News|   0|kind poetic russi...| 36|\n",
      "|      worldnews|   1|beirutlondon reut...| 37|\n",
      "|           News|   0|thought richard n...| 38|\n",
      "|      worldnews|   1|dublin reuters ir...| 39|\n",
      "|   politicsNews|   1|washington reuter...| 40|\n",
      "|   politicsNews|   1|washington reuter...| 41|\n",
      "|           News|   0|democratic nation...| 42|\n",
      "|           News|   0|people life still...| 43|\n",
      "|   politicsNews|   1|washington reuter...| 44|\n",
      "|   politicsNews|   1|washington reuter...| 45|\n",
      "|      worldnews|   1|washington reuter...| 46|\n",
      "|           News|   0|want evidence fox...| 47|\n",
      "|      worldnews|   1|beirut reuters us...| 48|\n",
      "|   politicsNews|   1|atlanta reuters a...| 49|\n",
      "|   politicsNews|   1|washington reuter...| 50|\n",
      "|           News|   0|donald trump mout...| 51|\n",
      "|   politicsNews|   1|washington reuter...| 52|\n",
      "|       politics|   0|well take long tr...| 53|\n",
      "|      worldnews|   1|munichpotsdam ger...| 54|\n",
      "|      worldnews|   1|sydney reuters au...| 55|\n",
      "|   politicsNews|   1|washington reuter...| 56|\n",
      "|   politicsNews|   1|washington reuter...| 57|\n",
      "|      worldnews|   1|cairo reuters for...| 58|\n",
      "|      worldnews|   1|tokyo reuters isr...| 59|\n",
      "|      worldnews|   1|sochi russia reut...| 60|\n",
      "|   politicsNews|   1|washington reuter...| 61|\n",
      "|      worldnews|   1|moscowwashington ...| 62|\n",
      "|      left-news|   0|jeb bush unoffici...| 63|\n",
      "|           News|   0|noticed donald tr...| 64|\n",
      "|           News|   0|convenient distra...| 65|\n",
      "|   politicsNews|   1|washington reuter...| 66|\n",
      "|           News|   0|hours donald trum...| 67|\n",
      "|   politicsNews|   1|washington reuter...| 68|\n",
      "|   politicsNews|   1|washington reuter...| 69|\n",
      "|      worldnews|   1|beirut reuters th...| 70|\n",
      "|      left-news|   0|former democratic...| 71|\n",
      "|       politics|   0|baton rouge becam...| 72|\n",
      "|Government News|   0|jeffrey toobin ch...| 73|\n",
      "|      worldnews|   1|paris reuters fra...| 74|\n",
      "|      worldnews|   1|geneva reuters in...| 75|\n",
      "|      worldnews|   1|jerusalem reuters...| 76|\n",
      "|      left-news|   0|conflict interest...| 77|\n",
      "|       politics|   0|defense departmen...| 78|\n",
      "|      worldnews|   1|erbil reuters ira...| 79|\n",
      "|       politics|   0|great wonderful s...| 80|\n",
      "|           News|   0|donald trump atta...| 81|\n",
      "|   politicsNews|   1|washington reuter...| 82|\n",
      "|      left-news|   0|liberals internal...| 83|\n",
      "|    Middle-east|   0|tune alternate cu...| 84|\n",
      "|   politicsNews|   1|boston reuters ne...| 85|\n",
      "|      worldnews|   1|jakarta reuters i...| 86|\n",
      "|   politicsNews|   1|washington reuter...| 87|\n",
      "|   politicsNews|   1|washington reuter...| 88|\n",
      "|      left-news|   0|karma bitch way a...| 89|\n",
      "|      worldnews|   1|brussels reuters ...| 90|\n",
      "|      left-news|   0|another example r...| 91|\n",
      "|       politics|   0|democrats fightin...| 92|\n",
      "|      worldnews|   1|sydney reuters ha...| 93|\n",
      "|      worldnews|   1|ajaccio france re...| 94|\n",
      "|      left-news|   0|                    | 95|\n",
      "|      worldnews|   1|washington reuter...| 96|\n",
      "|      worldnews|   1|brasilia reuters ...| 97|\n",
      "|   politicsNews|   1|washington reuter...| 98|\n",
      "|       politics|   0|rebel media attac...| 99|\n",
      "|      worldnews|   1|seoul reuters nor...|100|\n",
      "|Government News|   0|dr ben carson giv...|101|\n",
      "|      left-news|   0|karen handel hard...|102|\n",
      "|       politics|   0|embarrassing foot...|103|\n",
      "|      worldnews|   1|brussels reuters ...|104|\n",
      "|      worldnews|   1|paris reuters fir...|105|\n",
      "|       politics|   0|serving less year...|106|\n",
      "|      worldnews|   1|amsterdam reuters...|107|\n",
      "|      worldnews|   1|london reuters pr...|108|\n",
      "|           News|   0|ever selfabsorbed...|109|\n",
      "|           News|   0|think civil right...|110|\n",
      "|   politicsNews|   1|washington reuter...|111|\n",
      "|       politics|   0|says women whose ...|112|\n",
      "|       politics|   0|melanie trump pre...|113|\n",
      "|      worldnews|   1|geneva reuters ne...|114|\n",
      "|   politicsNews|   1|washington reuter...|115|\n",
      "|   politicsNews|   1|reuters republica...|116|\n",
      "|      worldnews|   1|peshawar pakistan...|117|\n",
      "|   politicsNews|   1|reuters former ca...|118|\n",
      "|    Middle-east|   0|st century wire s...|119|\n",
      "|   politicsNews|   1|washington reuter...|120|\n",
      "|      left-news|   0|sure slipped feeb...|121|\n",
      "|      worldnews|   1|geneva reuters no...|122|\n",
      "|           News|   0|recent interview ...|123|\n",
      "|   politicsNews|   1|washingtonlong be...|124|\n",
      "|           News|   0|point election re...|125|\n",
      "|           News|   0|white house getti...|126|\n",
      "|    Middle-east|   0|tune alternate cu...|127|\n",
      "|   politicsNews|   1|washington reuter...|128|\n",
      "|   politicsNews|   1|washington reuter...|129|\n",
      "|   politicsNews|   1|detroitwashington...|130|\n",
      "|   politicsNews|   1|garner iowamexico...|131|\n",
      "|   politicsNews|   1|washington reuter...|132|\n",
      "|       politics|   0|news enough end h...|133|\n",
      "|           News|   0|democrats lot rep...|134|\n",
      "|   politicsNews|   1|aboard air force ...|135|\n",
      "|       politics|   0|hillary pawn elec...|136|\n",
      "|           News|   0|rally california ...|137|\n",
      "|           News|   0|ever since passin...|138|\n",
      "|   politicsNews|   1|mexico city reute...|139|\n",
      "|      left-news|   0|month ago people ...|140|\n",
      "|   politicsNews|   1|washington reuter...|141|\n",
      "|           News|   0|one fox news bigg...|142|\n",
      "|           News|   0|always interestin...|143|\n",
      "|      worldnews|   1|dar es salaam reu...|144|\n",
      "|       politics|   0|huh people live b...|145|\n",
      "|       politics|   0|man two super bow...|146|\n",
      "|           News|   0|one revered supre...|147|\n",
      "|      worldnews|   1|beijingseoul reut...|148|\n",
      "|           News|   0|trump promised ma...|149|\n",
      "|      worldnews|   1|ettadamentunisia ...|150|\n",
      "|           News|   0|counterintuitive ...|151|\n",
      "|       politics|   0|gets sheriff said...|152|\n",
      "|           News|   0|secret german cha...|153|\n",
      "|   politicsNews|   1|reuters nbc suspe...|154|\n",
      "|           News|   0|something wildly ...|155|\n",
      "|   politicsNews|   1|washington reuter...|156|\n",
      "|      worldnews|   1|seoul reuters sou...|157|\n",
      "|           News|   0|whether realize s...|158|\n",
      "|      left-news|   0|jennifer hudson d...|159|\n",
      "|      left-news|   0|muslim community ...|160|\n",
      "|           News|   0|ku klux klan quit...|161|\n",
      "|      worldnews|   1|johannesburg reut...|162|\n",
      "|   politicsNews|   1|chicago reuters f...|163|\n",
      "|      left-news|   0|going go well oba...|164|\n",
      "|      left-news|   0|members los angel...|165|\n",
      "|Government News|   0|dc lawyer victori...|166|\n",
      "|           News|   0|go low go high fi...|167|\n",
      "|      left-news|   0|pardoning black p...|168|\n",
      "|Government News|   0|thank god america...|169|\n",
      "|      worldnews|   1|bauchi nigeria re...|170|\n",
      "|       politics|   0|yuge trump suppor...|171|\n",
      "|      worldnews|   1|moscow reuters ru...|172|\n",
      "|           News|   0|mark zuckerberg d...|173|\n",
      "|   politicsNews|   1|havana reuters go...|174|\n",
      "|   politicsNews|   1|augusta maine reu...|175|\n",
      "|   politicsNews|   1|new york reuters ...|176|\n",
      "|      worldnews|   1|genevashamlapur b...|177|\n",
      "|      worldnews|   1|london reuters ir...|178|\n",
      "|           News|   0|republicans poise...|179|\n",
      "|       politics|   0|gonna go limb gue...|180|\n",
      "|       politics|   0|sex secrets young...|181|\n",
      "|      worldnews|   1|tokyo reuters jap...|182|\n",
      "|      left-news|   0|today distorted w...|183|\n",
      "|      left-news|   0|former nbc anchor...|184|\n",
      "|       politics|   0|nordstrom yesterd...|185|\n",
      "|      worldnews|   1|seoul reuters jap...|186|\n",
      "|      worldnews|   1|wellington reuter...|187|\n",
      "|      worldnews|   1|tokyo reuters emp...|188|\n",
      "|Government News|   0|donald trump righ...|189|\n",
      "|           News|   0|appearing late sh...|190|\n",
      "|           News|   0|tuesday announced...|191|\n",
      "|   politicsNews|   1|washington reuter...|192|\n",
      "|       politics|   0|crowd people list...|193|\n",
      "|           News|   0|sen richard blume...|194|\n",
      "|      left-news|   0|remember press us...|195|\n",
      "|      worldnews|   1|bratislava reuter...|196|\n",
      "|           News|   0|house republican ...|197|\n",
      "|           News|   0|slip tongue sign ...|198|\n",
      "|Government News|   0|course obama putz...|199|\n",
      "+---------------+----+--------------------+---+\n",
      "only showing top 200 rows\n",
      "\n"
     ]
    }
   ],
   "source": [
    "from pyspark.sql.functions import monotonically_increasing_id \n",
    "\n",
    "df_ml = df_ml.select(\"*\").withColumn(\"id\", monotonically_increasing_id())\n",
    "\n",
    "df_ml.show(200)"
   ]
  },
  {
   "cell_type": "code",
   "execution_count": 63,
   "id": "66c936e2-3d6e-4f62-bbf2-ca93547a3ed6",
   "metadata": {},
   "outputs": [
    {
     "name": "stdout",
     "output_type": "stream",
     "text": [
      "22/12/04 23:38:35 WARN TaskSetManager: Stage 38 contains a task of very large size (4983 KiB). The maximum recommended task size is 1000 KiB.\n",
      "22/12/04 23:38:35 WARN TaskSetManager: Stage 39 contains a task of very large size (4983 KiB). The maximum recommended task size is 1000 KiB.\n"
     ]
    },
    {
     "name": "stderr",
     "output_type": "stream",
     "text": [
      "                                                                                \r"
     ]
    },
    {
     "name": "stdout",
     "output_type": "stream",
     "text": [
      "22/12/04 23:38:38 WARN TaskSetManager: Stage 42 contains a task of very large size (4983 KiB). The maximum recommended task size is 1000 KiB.\n",
      "22/12/04 23:38:38 WARN TaskSetManager: Stage 43 contains a task of very large size (4983 KiB). The maximum recommended task size is 1000 KiB.\n"
     ]
    }
   ],
   "source": [
    "# x values and Y values\n",
    "\n",
    "x = df_ml.select('text').rdd.flatMap(lambda x: x).collect()\n",
    "y = df_ml.select('flag').rdd.flatMap(lambda x: x).collect()"
   ]
  },
  {
   "cell_type": "code",
   "execution_count": 64,
   "id": "8b78c8d4-0c75-4a24-9658-be065015fcb4",
   "metadata": {},
   "outputs": [],
   "source": [
    "from sklearn.model_selection import train_test_split\n",
    "from sklearn.metrics import classification_report\n",
    "\n",
    "x_train, x_test, y_train, y_test = train_test_split(x,y,test_size=.25)"
   ]
  },
  {
   "cell_type": "code",
   "execution_count": 65,
   "id": "7f5d52f9-5e40-40ed-a9e6-15e1aff35790",
   "metadata": {},
   "outputs": [],
   "source": [
    "# print(x_train[0])\n",
    "# print(y_train[0])"
   ]
  },
  {
   "cell_type": "code",
   "execution_count": 66,
   "id": "9fa9c01d-6bc6-4aa2-88e2-bec5be2ffe0b",
   "metadata": {},
   "outputs": [],
   "source": [
    "#vectorize the text\n",
    "\n",
    "from sklearn.feature_extraction.text import TfidfVectorizer"
   ]
  },
  {
   "cell_type": "code",
   "execution_count": 67,
   "id": "88a581c7-1eff-412c-b461-6e3e18d24183",
   "metadata": {},
   "outputs": [],
   "source": [
    "vectorization = TfidfVectorizer()\n",
    "xv_train = vectorization.fit_transform(x_train)\n",
    "xv_test = vectorization.transform(x_test)"
   ]
  },
  {
   "cell_type": "code",
   "execution_count": 68,
   "id": "35d5fc64-0068-4a86-a0af-671fbbaa7a47",
   "metadata": {},
   "outputs": [
    {
     "data": {
      "text/plain": [
       "<33673x184287 sparse matrix of type '<class 'numpy.float64'>'\n",
       "\twith 5459366 stored elements in Compressed Sparse Row format>"
      ]
     },
     "execution_count": 68,
     "metadata": {},
     "output_type": "execute_result"
    }
   ],
   "source": [
    "xv_train"
   ]
  },
  {
   "cell_type": "code",
   "execution_count": 69,
   "id": "e77b3db7-eb5f-4f78-8238-074c846fdc5f",
   "metadata": {},
   "outputs": [
    {
     "data": {
      "text/plain": [
       "array([0., 0., 0., ..., 0., 0., 0.])"
      ]
     },
     "execution_count": 69,
     "metadata": {},
     "output_type": "execute_result"
    }
   ],
   "source": [
    "xv_train.toarray()[0]"
   ]
  },
  {
   "cell_type": "code",
   "execution_count": 70,
   "id": "d640734a-d7dc-48aa-8d6f-07112b6970ec",
   "metadata": {},
   "outputs": [],
   "source": [
    "from sklearn.linear_model import LogisticRegression"
   ]
  },
  {
   "cell_type": "code",
   "execution_count": 71,
   "id": "15be177c-bd0b-441e-a4b6-864909c0414f",
   "metadata": {},
   "outputs": [
    {
     "data": {
      "text/plain": [
       "LogisticRegression()"
      ]
     },
     "execution_count": 71,
     "metadata": {},
     "output_type": "execute_result"
    }
   ],
   "source": [
    "LR = LogisticRegression()\n",
    "LR.fit(xv_train, y_train)"
   ]
  },
  {
   "cell_type": "code",
   "execution_count": 72,
   "id": "a1aab4ff-7b57-4d6c-81da-53d8273c1ff8",
   "metadata": {},
   "outputs": [
    {
     "data": {
      "text/plain": [
       "0.9867260579064588"
      ]
     },
     "execution_count": 72,
     "metadata": {},
     "output_type": "execute_result"
    }
   ],
   "source": [
    "LR.score(xv_test, y_test)"
   ]
  },
  {
   "cell_type": "code",
   "execution_count": 73,
   "id": "06daee6b-4065-4f34-b7bc-22a90f2b7452",
   "metadata": {},
   "outputs": [],
   "source": [
    "pred_LR = LR.predict(xv_test)"
   ]
  },
  {
   "cell_type": "code",
   "execution_count": 74,
   "id": "8ba3e649-b971-40ae-a73f-f019d4048097",
   "metadata": {},
   "outputs": [
    {
     "name": "stdout",
     "output_type": "stream",
     "text": [
      "              precision    recall  f1-score   support\n",
      "\n",
      "           0       0.99      0.99      0.99      5827\n",
      "           1       0.98      0.99      0.99      5398\n",
      "\n",
      "    accuracy                           0.99     11225\n",
      "   macro avg       0.99      0.99      0.99     11225\n",
      "weighted avg       0.99      0.99      0.99     11225\n",
      "\n"
     ]
    }
   ],
   "source": [
    "print(classification_report(y_test, pred_LR))"
   ]
  },
  {
   "cell_type": "code",
   "execution_count": 33,
   "id": "4d1ef1ea-c1af-41b5-b4db-3b60a3a7a55e",
   "metadata": {},
   "outputs": [],
   "source": [
    "import re, string\n",
    "def wordopt(text):\n",
    "    text = text.lower()\n",
    "    text = re.sub('\\[.*?\\]', '', text)\n",
    "    text = re.sub(\"\\\\W\",\" \",text) \n",
    "    text = re.sub('https?://\\S+|www\\.\\S+', '', text)\n",
    "    text = re.sub('<.*?>+', '', text)\n",
    "    text = re.sub('[%s]' % re.escape(string.punctuation), '', text)\n",
    "    text = re.sub('\\n', '', text)\n",
    "    text = re.sub('\\w*\\d\\w*', '', text)    \n",
    "    return text"
   ]
  },
  {
   "cell_type": "code",
   "execution_count": 34,
   "id": "db253665-1ce8-4dcf-9189-297f7544ec47",
   "metadata": {},
   "outputs": [],
   "source": [
    "import pandas as pd\n",
    "def output_lable(n):\n",
    "    if n == 0:\n",
    "        return \"Fake News\"\n",
    "    elif n == 1:\n",
    "        return \"Not A Fake News\"\n",
    "    \n",
    "def manual_testing(news):\n",
    "    testing_news = {\"text\":[news]}\n",
    "    new_def_test = pd.DataFrame(testing_news)\n",
    "    new_def_test[\"text\"] = new_def_test[\"text\"].apply(wordopt) \n",
    "    new_x_test = new_def_test[\"text\"]\n",
    "    new_xv_test = vectorization.transform(new_x_test)\n",
    "    pred_LR = LR.predict(new_xv_test)\n",
    "    print(\"*****\")\n",
    "    #print(pred_LR[0])\n",
    "    print(new_xv_test)\n",
    "    print(type(pred_LR[0]))\n",
    "    # pred_DT = DT.predict(new_xv_test)\n",
    "    # pred_GBC = GBC.predict(new_xv_test)\n",
    "    # pred_RFC = RFC.predict(new_xv_test)\n",
    "\n",
    "    return print(\"\\n\\nLR Prediction: {} \\n\".format(output_lable(pred_LR[0])))"
   ]
  },
  {
   "cell_type": "code",
   "execution_count": 36,
   "id": "b36ae219-cfc4-48b7-93e0-562e30fea614",
   "metadata": {},
   "outputs": [
    {
     "name": "stdin",
     "output_type": "stream",
     "text": [
      " GENEVA (Reuters) - North Korea and the United States clashed at a U.N. forum on Tuesday over their military intentions towards one another, with Pyongyang s envoy declaring it would  never  put its nuclear deterrent on the negotiating table. Japan, well within reach of North Korea s missiles, said the world must maintain pressure on the reclusive country to rein in its nuclear and missile programs and now was not the time for a resumption of multi-party talks. North Korea has pursued its weapons programs in defiance of U.N. Security Council sanctions and ignored all calls, including from major ally China, to stop, prompting a bellicose exchange of rhetoric between the North and the United States. North Korea justifies its weapons programs, including its recent threat to fire missiles towards the U.S. Pacific territory of Guam, by pointing to perceived U.S. hostility, such as military exercises with South Korea this week. U.S. disarmament ambassador Robert Wood told a U.N.-sponsored Conference on Disarmament in Geneva U.S. President Donald Trump s top priority was to protect the United States and its allies against the  growing threat  from North Korea and America was ready to use  the full range of capabilities  at its disposal. The  path to dialogue still remained an option  for Pyongyang and it had the choice between poverty and belligerence on the one hand and prosperity and acceptance. North Korea s envoy told the same forum the North s nuclear deterrent would never be up for negotiation, echoing Pyongyang s regular denunciation of U.S.  aggression .  The measures taken by the DPRK to strengthen its nuclear deterrence and develop inter-continental rockets is justifiable and a legitimate option for self-defense in the face of such apparent and real threats,  diplomat Ju Yong Chol told the forum, referring to  constant nuclear threats  by the United States. DPRK stands for the North s official name, the Democratic People s Republic of Korea. Regarding joint U.S.-South Korean military exercises that began on Monday, he warned:  The ongoing military adventure would certainly add gasoline to the fire, driving the current tense situation to further deterioration.  Japanese Foreign Minister Taro Kono said pressure must be maintained until the North demonstrated it would give up its nuclear program.  It s not the time to discuss (the resumption of) six-party talks,  Kono said, referring to stalled negotiations involving both Koreas, the United States, Russia, China and Japan.  It s time to exert pressure,  he told reporters. The head of the U.S. military s Pacific Command said diplomacy was key. Admiral Harry Harris was in South Korea to observe annual joint military drills with the South Korean military, which the North called a step towards nuclear conflict masterminded by  war maniacs .  So we hope and we work for diplomatic solutions to the challenge presented by Kim Jong Un,  Harris told reporters at a U.S. air base in Osan, about an hour from Seoul, referring to the North Korean leader. He said diplomacy was  the most important starting point  in response to the North s threat, when asked what actions by North Korea might trigger a preemptive U.S. strike against it.  As far as a timeline, it would be crazy for me to share with you those tripwires in advance. If we did that, it would hardly be a military strategy,  he said. The United States and South Korea began the long-planned exercises on Monday, called the Ulchi Freedom Guardian, which the allies have said are purely defensive. The drills involve tens of thousands of troops as well as computer simulations designed to prepare for war with a nuclear-capable North Korea. The United States and South Korea are technically still at war with the North because their 1950-53 conflict ended in a truce, not a peace treaty.  Delegations from about 20 countries spoke at the four-hour U.N. session, including Britain, France, Australia and South Korea, all of which criticized North Korea.  I would like to repeat the appeal to the DPRK to listen to the fact that there is no alternative to stopping the different provocations and to return to dialogue,  South Korean ambassador Kim Inchul said.  We have never threatened the DPRK with any attacks and we have never promoted the use of force.\n"
     ]
    },
    {
     "name": "stdout",
     "output_type": "stream",
     "text": [
      "*****\n",
      "  (0, 156170)\t0.016954924286470552\n",
      "  (0, 154512)\t0.02650776478056512\n",
      "  (0, 154238)\t0.006298867340384674\n",
      "  (0, 154038)\t0.005267483548213173\n",
      "  (0, 153904)\t0.013792583774074454\n",
      "  (0, 153479)\t0.008114144293972194\n",
      "  (0, 153440)\t0.16313172634949624\n",
      "  (0, 152166)\t0.014089192053292149\n",
      "  (0, 151596)\t0.01202210086534217\n",
      "  (0, 151266)\t0.005284337654835528\n",
      "  (0, 149959)\t0.021188517777870883\n",
      "  (0, 146805)\t0.010488395975697225\n",
      "  (0, 146359)\t0.0320198674929311\n",
      "  (0, 146271)\t0.02421962962263452\n",
      "  (0, 144894)\t0.009028343666646878\n",
      "  (0, 144775)\t0.022655260477836264\n",
      "  (0, 143325)\t0.006303291467913902\n",
      "  (0, 142461)\t0.003876503086332489\n",
      "  (0, 142344)\t0.015866133040270944\n",
      "  (0, 142078)\t0.010722981818063854\n",
      "  (0, 140910)\t0.0069399840275102325\n",
      "  (0, 140553)\t0.023524795941624228\n",
      "  (0, 140261)\t0.6292223730623426\n",
      "  (0, 139476)\t0.013601268636630753\n",
      "  (0, 138924)\t0.023799035284195698\n",
      "  :\t:\n",
      "  (0, 28858)\t0.008801759294083104\n",
      "  (0, 27638)\t0.011522671561104982\n",
      "  (0, 27178)\t0.01766483188099952\n",
      "  (0, 26795)\t0.022655260477836264\n",
      "  (0, 26100)\t0.009831787609909716\n",
      "  (0, 23271)\t0.019260696759053605\n",
      "  (0, 23043)\t0.017306574007406147\n",
      "  (0, 19252)\t0.04843925924526904\n",
      "  (0, 18860)\t0.14531777773580712\n",
      "  (0, 17472)\t0.009610398574331018\n",
      "  (0, 12687)\t0.016616308948200334\n",
      "  (0, 12309)\t0.059333659015379965\n",
      "  (0, 11863)\t0.007490387245416399\n",
      "  (0, 9920)\t0.012602210179275777\n",
      "  (0, 8731)\t0.1210981481131726\n",
      "  (0, 8015)\t0.04843925924526904\n",
      "  (0, 7548)\t0.009324331685633229\n",
      "  (0, 6351)\t0.009944114355884064\n",
      "  (0, 5953)\t0.48939517904848867\n",
      "  (0, 5833)\t0.04660906467128464\n",
      "  (0, 5326)\t0.006207523534793743\n",
      "  (0, 5216)\t0.019490090625935902\n",
      "  (0, 4103)\t0.043480326381688125\n",
      "  (0, 3158)\t0.008359630036866841\n",
      "  (0, 1400)\t0.010216516008235949\n",
      "<class 'numpy.int64'>\n",
      "\n",
      "\n",
      "LR Prediction: Fake News \n",
      "\n"
     ]
    }
   ],
   "source": [
    "news = str(input())\n",
    "manual_testing(news)"
   ]
  },
  {
   "cell_type": "code",
   "execution_count": null,
   "id": "5614960a-c052-4dca-91ab-08778e0fde38",
   "metadata": {},
   "outputs": [],
   "source": []
  }
 ],
 "metadata": {
  "kernelspec": {
   "display_name": "Python 3 (ipykernel)",
   "language": "python",
   "name": "python3"
  },
  "language_info": {
   "codemirror_mode": {
    "name": "ipython",
    "version": 3
   },
   "file_extension": ".py",
   "mimetype": "text/x-python",
   "name": "python",
   "nbconvert_exporter": "python",
   "pygments_lexer": "ipython3",
   "version": "3.9.12"
  }
 },
 "nbformat": 4,
 "nbformat_minor": 5
}
