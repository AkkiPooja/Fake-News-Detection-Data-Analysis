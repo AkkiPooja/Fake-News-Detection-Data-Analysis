{
 "cells": [
  {
   "cell_type": "code",
   "execution_count": 1,
   "id": "22999917-9bb2-4809-a857-4982e35d2e01",
   "metadata": {},
   "outputs": [
    {
     "name": "stderr",
     "output_type": "stream",
     "text": [
      "Setting default log level to \"WARN\".\n",
      "To adjust logging level use sc.setLogLevel(newLevel). For SparkR, use setLogLevel(newLevel).\n"
     ]
    },
    {
     "name": "stdout",
     "output_type": "stream",
     "text": [
      "22/12/04 19:03:49 WARN NativeCodeLoader: Unable to load native-hadoop library for your platform... using builtin-java classes where applicable\n"
     ]
    },
    {
     "name": "stderr",
     "output_type": "stream",
     "text": [
      "/Users/poojaakki/opt/anaconda3/lib/python3.9/site-packages/pyspark/sql/context.py:157: FutureWarning: Deprecated in 3.0.0. Use SparkSession.builder.getOrCreate() instead.\n",
      "  warnings.warn(\n"
     ]
    }
   ],
   "source": [
    "import os\n",
    "import pyspark\n",
    "conf = pyspark.SparkConf()\n",
    "# conf.set('spark.ui.proxyBase'\n",
    "# , '/user/' + os.environ['JUPYTERHUB_USER'] + '/proxy/4041')\n",
    "conf.set('spark.sql.repl.eagerEval.enabled', True)\n",
    "conf.set('spark.driver.memory','4g')\n",
    "sc = pyspark.SparkContext(conf=conf)\n",
    "spark = pyspark.SQLContext.getOrCreate(sc)"
   ]
  },
  {
   "cell_type": "code",
   "execution_count": 2,
   "id": "efbe8b36-1119-40e6-a364-1fa1a3b7bb95",
   "metadata": {},
   "outputs": [],
   "source": [
    "# df_fake = spark.read.option(\"header\", \"true\").csv('/Users/poojaakki/Desktop/projects/Fake-News-Detection-Data-Analysis/datasets/Kaggle/fake.csv', sep=',', multiLine=True)\n",
    "# df_true = spark.read.option(\"header\", \"true\").csv('/Users/poojaakki/Desktop/projects/Fake-News-Detection-Data-Analysis/datasets/Kaggle/true.csv', sep=',', multiLine=True)"
   ]
  },
  {
   "cell_type": "code",
   "execution_count": 10,
   "id": "e0a1aebf-2150-4dce-9c9b-843f750ca765",
   "metadata": {},
   "outputs": [],
   "source": [
    "# Funtion for conver Pandas Dataframe to Spark Dataframe\n",
    "import pandas as pd\n",
    "from pyspark.sql.types import StringType, StructField, StructType\n",
    "def read_data(path):\n",
    "  schema= StructType(\n",
    "      [StructField('title',StringType(),True),\n",
    "      StructField('text',StringType(),True),\n",
    "      StructField('subject',StringType(),True),\n",
    "      StructField('date',StringType(),True)])\n",
    "  pd_df= pd.read_csv(path)\n",
    "  sp_df= spark.createDataFrame(pd_df, schema= schema)\n",
    "  return sp_df"
   ]
  },
  {
   "cell_type": "code",
   "execution_count": 11,
   "id": "f6826f07-e784-4c2f-91e0-578233ac5198",
   "metadata": {},
   "outputs": [],
   "source": [
    "df_fake= read_data(\"/Users/poojaakki/Desktop/projects/Fake-News-Detection-Data-Analysis/datasets/Kaggle/fake.csv\")\n",
    "df_true= read_data(\"/Users/poojaakki/Desktop/projects/Fake-News-Detection-Data-Analysis/datasets/Kaggle/true.csv\")"
   ]
  },
  {
   "cell_type": "code",
   "execution_count": 13,
   "id": "b1671f81-9d8b-4f8a-9a8b-77627cd6110a",
   "metadata": {},
   "outputs": [],
   "source": [
    "# Concatenate 2 data sets into one and shuffle data set\n",
    "from pyspark.sql.functions import lit, rand\n",
    "df_concat= df_true.withColumn('fake', lit(0)).union(df_fake.withColumn('fake', lit(1))).orderBy(rand())"
   ]
  },
  {
   "cell_type": "code",
   "execution_count": 14,
   "id": "59d74737-e2c2-4674-8dde-bd9b9879225a",
   "metadata": {},
   "outputs": [
    {
     "name": "stdout",
     "output_type": "stream",
     "text": [
      "22/12/04 19:04:45 WARN TaskSetManager: Stage 0 contains a task of very large size (4983 KiB). The maximum recommended task size is 1000 KiB.\n"
     ]
    },
    {
     "name": "stderr",
     "output_type": "stream",
     "text": [
      "                                                                                \r"
     ]
    },
    {
     "name": "stdout",
     "output_type": "stream",
     "text": [
      "22/12/04 19:04:46 WARN TaskSetManager: Stage 1 contains a task of very large size (4983 KiB). The maximum recommended task size is 1000 KiB.\n"
     ]
    },
    {
     "data": {
      "text/html": [
       "<table border='1'>\n",
       "<tr><th>title</th><th>text</th><th>subject</th><th>date</th><th>fake</th></tr>\n",
       "<tr><td>WILL TAYLOR SWIFT...</td><td> Misogyny is ingr...</td><td>left-news</td><td>May 20, 2015</td><td>1</td></tr>\n",
       "<tr><td>Highlights of Reu...</td><td>WASHINGTON (Reute...</td><td>politicsNews</td><td>April 28, 2017 </td><td>0</td></tr>\n",
       "<tr><td>Obama makes new p...</td><td>WASHINGTON (Reute...</td><td>politicsNews</td><td>January 26, 2016 </td><td>0</td></tr>\n",
       "<tr><td>Trump&#x27;s whirlwind...</td><td>LYON, France (Reu...</td><td>politicsNews</td><td>February 5, 2017 </td><td>0</td></tr>\n",
       "<tr><td>WATCH: FORMER DNC...</td><td>Former Democratic...</td><td>politics</td><td>Aug 26, 2017</td><td>1</td></tr>\n",
       "<tr><td>Legal Fears Push ...</td><td>21st Century Wire...</td><td>US_News</td><td>July 23, 2017</td><td>1</td></tr>\n",
       "<tr><td>LT GEN MCINERNEY’...</td><td> </td><td>politics</td><td>Jan 13, 2017</td><td>1</td></tr>\n",
       "<tr><td>WATCH MAGA RALLY ...</td><td>PRESIDENT TRUMP I...</td><td>left-news</td><td>Aug 22, 2017</td><td>1</td></tr>\n",
       "<tr><td> Billion Dollar C...</td><td>You may not be fa...</td><td>News</td><td>September 25, 2017</td><td>1</td></tr>\n",
       "<tr><td>Brazil government...</td><td>BRASILIA (Reuters...</td><td>worldnews</td><td>October 20, 2017 </td><td>0</td></tr>\n",
       "<tr><td>WATCH: VICTIM Of ...</td><td>President Trump a...</td><td>politics</td><td>Oct 4, 2017</td><td>1</td></tr>\n",
       "<tr><td>WINNING! COAL MIN...</td><td>President Trump s...</td><td>politics</td><td>Jun 9, 2017</td><td>1</td></tr>\n",
       "<tr><td>Republican govern...</td><td>WASHINGTON (Reute...</td><td>politicsNews</td><td>March 4, 2016 </td><td>0</td></tr>\n",
       "<tr><td>WATCH: The View’s...</td><td>After reporter an...</td><td>politics</td><td>Nov 16, 2017</td><td>1</td></tr>\n",
       "<tr><td>Trump adviser&#x27;s R...</td><td>MOSCOW (Reuters) ...</td><td>politicsNews</td><td>August 24, 2016 </td><td>0</td></tr>\n",
       "<tr><td> Trump Tweets Chi...</td><td>Donald Trump has ...</td><td>News</td><td>January 2, 2017</td><td>1</td></tr>\n",
       "<tr><td>Hamas leader in C...</td><td>GAZA (Reuters) - ...</td><td>worldnews</td><td>September 9, 2017 </td><td>0</td></tr>\n",
       "<tr><td>“NEVER-TRUMP” BUS...</td><td>Just another memb...</td><td>left-news</td><td>Dec 9, 2017</td><td>1</td></tr>\n",
       "<tr><td>Panama says Odebr...</td><td>PANAMA CITY (Reut...</td><td>worldnews</td><td>November 10, 2017 </td><td>0</td></tr>\n",
       "<tr><td> African-American...</td><td>Congressman Al Gr...</td><td>News</td><td>May 20, 2017</td><td>1</td></tr>\n",
       "</table>\n",
       "only showing top 20 rows\n"
      ],
      "text/plain": [
       "+--------------------+--------------------+------------+------------------+----+\n",
       "|               title|                text|     subject|              date|fake|\n",
       "+--------------------+--------------------+------------+------------------+----+\n",
       "|WILL TAYLOR SWIFT...| Misogyny is ingr...|   left-news|      May 20, 2015|   1|\n",
       "|Highlights of Reu...|WASHINGTON (Reute...|politicsNews|   April 28, 2017 |   0|\n",
       "|Obama makes new p...|WASHINGTON (Reute...|politicsNews| January 26, 2016 |   0|\n",
       "|Trump's whirlwind...|LYON, France (Reu...|politicsNews| February 5, 2017 |   0|\n",
       "|WATCH: FORMER DNC...|Former Democratic...|    politics|      Aug 26, 2017|   1|\n",
       "|Legal Fears Push ...|21st Century Wire...|     US_News|     July 23, 2017|   1|\n",
       "|LT GEN MCINERNEY’...|                    |    politics|      Jan 13, 2017|   1|\n",
       "|WATCH MAGA RALLY ...|PRESIDENT TRUMP I...|   left-news|      Aug 22, 2017|   1|\n",
       "| Billion Dollar C...|You may not be fa...|        News|September 25, 2017|   1|\n",
       "|Brazil government...|BRASILIA (Reuters...|   worldnews| October 20, 2017 |   0|\n",
       "|WATCH: VICTIM Of ...|President Trump a...|    politics|       Oct 4, 2017|   1|\n",
       "|WINNING! COAL MIN...|President Trump s...|    politics|       Jun 9, 2017|   1|\n",
       "|Republican govern...|WASHINGTON (Reute...|politicsNews|    March 4, 2016 |   0|\n",
       "|WATCH: The View’s...|After reporter an...|    politics|      Nov 16, 2017|   1|\n",
       "|Trump adviser's R...|MOSCOW (Reuters) ...|politicsNews|  August 24, 2016 |   0|\n",
       "| Trump Tweets Chi...|Donald Trump has ...|        News|   January 2, 2017|   1|\n",
       "|Hamas leader in C...|GAZA (Reuters) - ...|   worldnews|September 9, 2017 |   0|\n",
       "|“NEVER-TRUMP” BUS...|Just another memb...|   left-news|       Dec 9, 2017|   1|\n",
       "|Panama says Odebr...|PANAMA CITY (Reut...|   worldnews|November 10, 2017 |   0|\n",
       "| African-American...|Congressman Al Gr...|        News|      May 20, 2017|   1|\n",
       "+--------------------+--------------------+------------+------------------+----+\n",
       "only showing top 20 rows"
      ]
     },
     "execution_count": 14,
     "metadata": {},
     "output_type": "execute_result"
    }
   ],
   "source": [
    "df_concat"
   ]
  },
  {
   "cell_type": "code",
   "execution_count": 15,
   "id": "8fc2f632-c549-48bc-8738-386aab172d75",
   "metadata": {},
   "outputs": [],
   "source": [
    "# # Remove the unwanted coloumn\n",
    "\n",
    "# df_concat =  df_concat.drop(df_concat[\"date\"])\n",
    "# df_concat"
   ]
  },
  {
   "cell_type": "code",
   "execution_count": 16,
   "id": "3ef9fbe2-b179-43ed-ba72-6754be6a6447",
   "metadata": {},
   "outputs": [],
   "source": [
    "# # Remove the title for analysis\n",
    "\n",
    "# df_concat =  df_concat.drop(df_concat[\"title\"])\n",
    "# df_concat"
   ]
  },
  {
   "cell_type": "code",
   "execution_count": 17,
   "id": "88b263c0-6b90-4172-8b3c-4dc95d5be9af",
   "metadata": {},
   "outputs": [],
   "source": [
    "# df_concat.select('subject').distinct().show()"
   ]
  },
  {
   "cell_type": "code",
   "execution_count": 18,
   "id": "c6b116e2-0926-4114-9891-f88e746cf5fa",
   "metadata": {},
   "outputs": [
    {
     "name": "stdout",
     "output_type": "stream",
     "text": [
      "22/12/04 19:04:49 WARN TaskSetManager: Stage 2 contains a task of very large size (4983 KiB). The maximum recommended task size is 1000 KiB.\n"
     ]
    },
    {
     "name": "stderr",
     "output_type": "stream",
     "text": [
      "                                                                                \r"
     ]
    },
    {
     "name": "stdout",
     "output_type": "stream",
     "text": [
      "22/12/04 19:04:50 WARN TaskSetManager: Stage 3 contains a task of very large size (4983 KiB). The maximum recommended task size is 1000 KiB.\n"
     ]
    },
    {
     "name": "stderr",
     "output_type": "stream",
     "text": [
      "                                                                                \r"
     ]
    },
    {
     "data": {
      "text/html": [
       "<table border='1'>\n",
       "<tr><th>title</th><th>text</th><th>subject</th><th>date</th><th>fake</th></tr>\n",
       "<tr><td>WILL TAYLOR SWIFT...</td><td> misogyny is ingr...</td><td>left-news</td><td>May 20, 2015</td><td>1</td></tr>\n",
       "<tr><td>Highlights of Reu...</td><td>washington  reute...</td><td>politicsNews</td><td>April 28, 2017 </td><td>0</td></tr>\n",
       "<tr><td>Obama makes new p...</td><td>washington  reute...</td><td>politicsNews</td><td>January 26, 2016 </td><td>0</td></tr>\n",
       "<tr><td>Trump&#x27;s whirlwind...</td><td>lyon  france  reu...</td><td>politicsNews</td><td>February 5, 2017 </td><td>0</td></tr>\n",
       "<tr><td>WATCH: FORMER DNC...</td><td>former democratic...</td><td>politics</td><td>Aug 26, 2017</td><td>1</td></tr>\n",
       "<tr><td>Legal Fears Push ...</td><td>21st century wire...</td><td>US_News</td><td>July 23, 2017</td><td>1</td></tr>\n",
       "<tr><td>LT GEN MCINERNEY’...</td><td> </td><td>politics</td><td>Jan 13, 2017</td><td>1</td></tr>\n",
       "<tr><td>WATCH MAGA RALLY ...</td><td>president trump i...</td><td>left-news</td><td>Aug 22, 2017</td><td>1</td></tr>\n",
       "<tr><td> Billion Dollar C...</td><td>you may not be fa...</td><td>News</td><td>September 25, 2017</td><td>1</td></tr>\n",
       "<tr><td>Brazil government...</td><td>brasilia  reuters...</td><td>worldnews</td><td>October 20, 2017 </td><td>0</td></tr>\n",
       "<tr><td>WATCH: VICTIM Of ...</td><td>president trump a...</td><td>politics</td><td>Oct 4, 2017</td><td>1</td></tr>\n",
       "<tr><td>WINNING! COAL MIN...</td><td>president trump s...</td><td>politics</td><td>Jun 9, 2017</td><td>1</td></tr>\n",
       "<tr><td>Republican govern...</td><td>washington  reute...</td><td>politicsNews</td><td>March 4, 2016 </td><td>0</td></tr>\n",
       "<tr><td>WATCH: The View’s...</td><td>after reporter an...</td><td>politics</td><td>Nov 16, 2017</td><td>1</td></tr>\n",
       "<tr><td>Trump adviser&#x27;s R...</td><td>moscow  reuters  ...</td><td>politicsNews</td><td>August 24, 2016 </td><td>0</td></tr>\n",
       "<tr><td> Trump Tweets Chi...</td><td>donald trump has ...</td><td>News</td><td>January 2, 2017</td><td>1</td></tr>\n",
       "<tr><td>Hamas leader in C...</td><td>gaza  reuters    ...</td><td>worldnews</td><td>September 9, 2017 </td><td>0</td></tr>\n",
       "<tr><td>“NEVER-TRUMP” BUS...</td><td>just another memb...</td><td>left-news</td><td>Dec 9, 2017</td><td>1</td></tr>\n",
       "<tr><td>Panama says Odebr...</td><td>panama city  reut...</td><td>worldnews</td><td>November 10, 2017 </td><td>0</td></tr>\n",
       "<tr><td> African-American...</td><td>congressman al gr...</td><td>News</td><td>May 20, 2017</td><td>1</td></tr>\n",
       "</table>\n",
       "only showing top 20 rows\n"
      ],
      "text/plain": [
       "+--------------------+--------------------+------------+------------------+----+\n",
       "|               title|                text|     subject|              date|fake|\n",
       "+--------------------+--------------------+------------+------------------+----+\n",
       "|WILL TAYLOR SWIFT...| misogyny is ingr...|   left-news|      May 20, 2015|   1|\n",
       "|Highlights of Reu...|washington  reute...|politicsNews|   April 28, 2017 |   0|\n",
       "|Obama makes new p...|washington  reute...|politicsNews| January 26, 2016 |   0|\n",
       "|Trump's whirlwind...|lyon  france  reu...|politicsNews| February 5, 2017 |   0|\n",
       "|WATCH: FORMER DNC...|former democratic...|    politics|      Aug 26, 2017|   1|\n",
       "|Legal Fears Push ...|21st century wire...|     US_News|     July 23, 2017|   1|\n",
       "|LT GEN MCINERNEY’...|                    |    politics|      Jan 13, 2017|   1|\n",
       "|WATCH MAGA RALLY ...|president trump i...|   left-news|      Aug 22, 2017|   1|\n",
       "| Billion Dollar C...|you may not be fa...|        News|September 25, 2017|   1|\n",
       "|Brazil government...|brasilia  reuters...|   worldnews| October 20, 2017 |   0|\n",
       "|WATCH: VICTIM Of ...|president trump a...|    politics|       Oct 4, 2017|   1|\n",
       "|WINNING! COAL MIN...|president trump s...|    politics|       Jun 9, 2017|   1|\n",
       "|Republican govern...|washington  reute...|politicsNews|    March 4, 2016 |   0|\n",
       "|WATCH: The View’s...|after reporter an...|    politics|      Nov 16, 2017|   1|\n",
       "|Trump adviser's R...|moscow  reuters  ...|politicsNews|  August 24, 2016 |   0|\n",
       "| Trump Tweets Chi...|donald trump has ...|        News|   January 2, 2017|   1|\n",
       "|Hamas leader in C...|gaza  reuters    ...|   worldnews|September 9, 2017 |   0|\n",
       "|“NEVER-TRUMP” BUS...|just another memb...|   left-news|       Dec 9, 2017|   1|\n",
       "|Panama says Odebr...|panama city  reut...|   worldnews|November 10, 2017 |   0|\n",
       "| African-American...|congressman al gr...|        News|      May 20, 2017|   1|\n",
       "+--------------------+--------------------+------------+------------------+----+\n",
       "only showing top 20 rows"
      ]
     },
     "execution_count": 18,
     "metadata": {},
     "output_type": "execute_result"
    }
   ],
   "source": [
    "# In order to avaoid the confusion convert everything to lowercase\n",
    "from pyspark.sql.functions import col, split, lower, regexp_replace, length\n",
    "\n",
    "df_concat = df_concat\\\n",
    ".withColumn(\"text\", regexp_replace(lower(col(\"text\")), r\"[^0-9a-z]\", \" \"))\\\n",
    ".where(length(\"text\")>0)\n",
    "\n",
    "df_concat"
   ]
  },
  {
   "cell_type": "code",
   "execution_count": 19,
   "id": "f32b1249-b966-4a48-bf43-3a04e8af1b20",
   "metadata": {},
   "outputs": [
    {
     "name": "stderr",
     "output_type": "stream",
     "text": [
      "[nltk_data] Downloading package stopwords to\n",
      "[nltk_data]     /Users/poojaakki/nltk_data...\n",
      "[nltk_data]   Package stopwords is already up-to-date!\n"
     ]
    }
   ],
   "source": [
    "# remove stop words from it\n",
    "import nltk\n",
    "nltk.download('stopwords')\n",
    "from nltk.corpus import stopwords\n",
    "stop = stopwords.words('english')\n",
    "\n"
   ]
  },
  {
   "cell_type": "code",
   "execution_count": 20,
   "id": "6137a7ae-475e-4c50-a881-7689de18ccbe",
   "metadata": {},
   "outputs": [
    {
     "name": "stdout",
     "output_type": "stream",
     "text": [
      "22/12/04 19:04:53 WARN TaskSetManager: Stage 4 contains a task of very large size (4983 KiB). The maximum recommended task size is 1000 KiB.\n"
     ]
    },
    {
     "name": "stderr",
     "output_type": "stream",
     "text": [
      "                                                                                \r"
     ]
    },
    {
     "name": "stdout",
     "output_type": "stream",
     "text": [
      "22/12/04 19:04:53 WARN TaskSetManager: Stage 5 contains a task of very large size (4983 KiB). The maximum recommended task size is 1000 KiB.\n"
     ]
    },
    {
     "name": "stderr",
     "output_type": "stream",
     "text": [
      "                                                                                \r"
     ]
    },
    {
     "name": "stdout",
     "output_type": "stream",
     "text": [
      "22/12/04 19:04:54 WARN TaskSetManager: Stage 8 contains a task of very large size (4983 KiB). The maximum recommended task size is 1000 KiB.\n"
     ]
    },
    {
     "name": "stderr",
     "output_type": "stream",
     "text": [
      "                                                                                \r"
     ]
    },
    {
     "name": "stdout",
     "output_type": "stream",
     "text": [
      "22/12/04 19:04:55 WARN TaskSetManager: Stage 9 contains a task of very large size (4983 KiB). The maximum recommended task size is 1000 KiB.\n"
     ]
    },
    {
     "name": "stderr",
     "output_type": "stream",
     "text": [
      "                                                                                \r"
     ]
    },
    {
     "data": {
      "text/html": [
       "<table border='1'>\n",
       "<tr><th>title</th><th>text</th><th>subject</th><th>date</th><th>fake</th><th>words</th></tr>\n",
       "<tr><td>WILL TAYLOR SWIFT...</td><td> misogyny is ingr...</td><td>left-news</td><td>May 20, 2015</td><td>1</td><td>[, misogyny, is, ...</td></tr>\n",
       "<tr><td>Highlights of Reu...</td><td>washington  reute...</td><td>politicsNews</td><td>April 28, 2017 </td><td>0</td><td>[washington, , re...</td></tr>\n",
       "<tr><td>Obama makes new p...</td><td>washington  reute...</td><td>politicsNews</td><td>January 26, 2016 </td><td>0</td><td>[washington, , re...</td></tr>\n",
       "<tr><td>Trump&#x27;s whirlwind...</td><td>lyon  france  reu...</td><td>politicsNews</td><td>February 5, 2017 </td><td>0</td><td>[lyon, , france, ...</td></tr>\n",
       "<tr><td>WATCH: FORMER DNC...</td><td>former democratic...</td><td>politics</td><td>Aug 26, 2017</td><td>1</td><td>[former, democrat...</td></tr>\n",
       "<tr><td>Legal Fears Push ...</td><td>21st century wire...</td><td>US_News</td><td>July 23, 2017</td><td>1</td><td>[21st, century, w...</td></tr>\n",
       "<tr><td>LT GEN MCINERNEY’...</td><td> </td><td>politics</td><td>Jan 13, 2017</td><td>1</td><td>[, ]</td></tr>\n",
       "<tr><td>WATCH MAGA RALLY ...</td><td>president trump i...</td><td>left-news</td><td>Aug 22, 2017</td><td>1</td><td>[president, trump...</td></tr>\n",
       "<tr><td> Billion Dollar C...</td><td>you may not be fa...</td><td>News</td><td>September 25, 2017</td><td>1</td><td>[you, may, not, b...</td></tr>\n",
       "<tr><td>Brazil government...</td><td>brasilia  reuters...</td><td>worldnews</td><td>October 20, 2017 </td><td>0</td><td>[brasilia, , reut...</td></tr>\n",
       "<tr><td>WATCH: VICTIM Of ...</td><td>president trump a...</td><td>politics</td><td>Oct 4, 2017</td><td>1</td><td>[president, trump...</td></tr>\n",
       "<tr><td>WINNING! COAL MIN...</td><td>president trump s...</td><td>politics</td><td>Jun 9, 2017</td><td>1</td><td>[president, trump...</td></tr>\n",
       "<tr><td>Republican govern...</td><td>washington  reute...</td><td>politicsNews</td><td>March 4, 2016 </td><td>0</td><td>[washington, , re...</td></tr>\n",
       "<tr><td>WATCH: The View’s...</td><td>after reporter an...</td><td>politics</td><td>Nov 16, 2017</td><td>1</td><td>[after, reporter,...</td></tr>\n",
       "<tr><td>Trump adviser&#x27;s R...</td><td>moscow  reuters  ...</td><td>politicsNews</td><td>August 24, 2016 </td><td>0</td><td>[moscow, , reuter...</td></tr>\n",
       "<tr><td> Trump Tweets Chi...</td><td>donald trump has ...</td><td>News</td><td>January 2, 2017</td><td>1</td><td>[donald, trump, h...</td></tr>\n",
       "<tr><td>Hamas leader in C...</td><td>gaza  reuters    ...</td><td>worldnews</td><td>September 9, 2017 </td><td>0</td><td>[gaza, , reuters,...</td></tr>\n",
       "<tr><td>“NEVER-TRUMP” BUS...</td><td>just another memb...</td><td>left-news</td><td>Dec 9, 2017</td><td>1</td><td>[just, another, m...</td></tr>\n",
       "<tr><td>Panama says Odebr...</td><td>panama city  reut...</td><td>worldnews</td><td>November 10, 2017 </td><td>0</td><td>[panama, city, , ...</td></tr>\n",
       "<tr><td> African-American...</td><td>congressman al gr...</td><td>News</td><td>May 20, 2017</td><td>1</td><td>[congressman, al,...</td></tr>\n",
       "</table>\n",
       "only showing top 20 rows\n"
      ],
      "text/plain": [
       "+--------------------+--------------------+------------+------------------+----+--------------------+\n",
       "|               title|                text|     subject|              date|fake|               words|\n",
       "+--------------------+--------------------+------------+------------------+----+--------------------+\n",
       "|WILL TAYLOR SWIFT...| misogyny is ingr...|   left-news|      May 20, 2015|   1|[, misogyny, is, ...|\n",
       "|Highlights of Reu...|washington  reute...|politicsNews|   April 28, 2017 |   0|[washington, , re...|\n",
       "|Obama makes new p...|washington  reute...|politicsNews| January 26, 2016 |   0|[washington, , re...|\n",
       "|Trump's whirlwind...|lyon  france  reu...|politicsNews| February 5, 2017 |   0|[lyon, , france, ...|\n",
       "|WATCH: FORMER DNC...|former democratic...|    politics|      Aug 26, 2017|   1|[former, democrat...|\n",
       "|Legal Fears Push ...|21st century wire...|     US_News|     July 23, 2017|   1|[21st, century, w...|\n",
       "|LT GEN MCINERNEY’...|                    |    politics|      Jan 13, 2017|   1|                [, ]|\n",
       "|WATCH MAGA RALLY ...|president trump i...|   left-news|      Aug 22, 2017|   1|[president, trump...|\n",
       "| Billion Dollar C...|you may not be fa...|        News|September 25, 2017|   1|[you, may, not, b...|\n",
       "|Brazil government...|brasilia  reuters...|   worldnews| October 20, 2017 |   0|[brasilia, , reut...|\n",
       "|WATCH: VICTIM Of ...|president trump a...|    politics|       Oct 4, 2017|   1|[president, trump...|\n",
       "|WINNING! COAL MIN...|president trump s...|    politics|       Jun 9, 2017|   1|[president, trump...|\n",
       "|Republican govern...|washington  reute...|politicsNews|    March 4, 2016 |   0|[washington, , re...|\n",
       "|WATCH: The View’s...|after reporter an...|    politics|      Nov 16, 2017|   1|[after, reporter,...|\n",
       "|Trump adviser's R...|moscow  reuters  ...|politicsNews|  August 24, 2016 |   0|[moscow, , reuter...|\n",
       "| Trump Tweets Chi...|donald trump has ...|        News|   January 2, 2017|   1|[donald, trump, h...|\n",
       "|Hamas leader in C...|gaza  reuters    ...|   worldnews|September 9, 2017 |   0|[gaza, , reuters,...|\n",
       "|“NEVER-TRUMP” BUS...|just another memb...|   left-news|       Dec 9, 2017|   1|[just, another, m...|\n",
       "|Panama says Odebr...|panama city  reut...|   worldnews|November 10, 2017 |   0|[panama, city, , ...|\n",
       "| African-American...|congressman al gr...|        News|      May 20, 2017|   1|[congressman, al,...|\n",
       "+--------------------+--------------------+------------+------------------+----+--------------------+\n",
       "only showing top 20 rows"
      ]
     },
     "execution_count": 20,
     "metadata": {},
     "output_type": "execute_result"
    }
   ],
   "source": [
    "import pyspark.sql.functions as F\n",
    "\n",
    "df_concat = df_concat.withColumn('words',F.split(F.col('text'),' '))\n",
    "df_concat"
   ]
  },
  {
   "cell_type": "code",
   "execution_count": 21,
   "id": "0a958cf7-d56f-4a82-aede-d9b92a5094c0",
   "metadata": {},
   "outputs": [],
   "source": [
    "from pyspark.ml.feature import StopWordsRemover \n",
    "\n",
    "stopwordsRemovalFeature = StopWordsRemover(inputCol=\"words\", \n",
    "                   outputCol=\"words without stop\").setStopWords(stop)"
   ]
  },
  {
   "cell_type": "code",
   "execution_count": 22,
   "id": "5935f5e8-ecec-4dbf-b7a5-46804dc75026",
   "metadata": {},
   "outputs": [],
   "source": [
    "from pyspark.ml import Pipeline\n",
    "\n",
    "stopWordRemovalPipeline = Pipeline(stages=[stopwordsRemovalFeature])\n",
    "pipelineFitRemoveStopWords = stopWordRemovalPipeline.fit(df_concat)"
   ]
  },
  {
   "cell_type": "code",
   "execution_count": 23,
   "id": "cb6f15fe-9b95-4810-91fa-fbf80b3c4dbc",
   "metadata": {},
   "outputs": [],
   "source": [
    "df_concat = pipelineFitRemoveStopWords.transform(df_concat)"
   ]
  },
  {
   "cell_type": "code",
   "execution_count": 24,
   "id": "2007ce16-2706-4167-b897-5618795fd537",
   "metadata": {},
   "outputs": [
    {
     "name": "stdout",
     "output_type": "stream",
     "text": [
      "22/12/04 19:04:57 WARN TaskSetManager: Stage 12 contains a task of very large size (4983 KiB). The maximum recommended task size is 1000 KiB.\n"
     ]
    },
    {
     "name": "stderr",
     "output_type": "stream",
     "text": [
      "                                                                                \r"
     ]
    },
    {
     "name": "stdout",
     "output_type": "stream",
     "text": [
      "22/12/04 19:04:57 WARN TaskSetManager: Stage 13 contains a task of very large size (4983 KiB). The maximum recommended task size is 1000 KiB.\n"
     ]
    },
    {
     "name": "stderr",
     "output_type": "stream",
     "text": [
      "                                                                                \r"
     ]
    },
    {
     "name": "stdout",
     "output_type": "stream",
     "text": [
      "22/12/04 19:04:58 WARN TaskSetManager: Stage 16 contains a task of very large size (4983 KiB). The maximum recommended task size is 1000 KiB.\n"
     ]
    },
    {
     "name": "stderr",
     "output_type": "stream",
     "text": [
      "                                                                                \r"
     ]
    },
    {
     "name": "stdout",
     "output_type": "stream",
     "text": [
      "22/12/04 19:04:59 WARN TaskSetManager: Stage 17 contains a task of very large size (4983 KiB). The maximum recommended task size is 1000 KiB.\n"
     ]
    },
    {
     "name": "stderr",
     "output_type": "stream",
     "text": [
      "                                                                                \r"
     ]
    },
    {
     "data": {
      "text/html": [
       "<table border='1'>\n",
       "<tr><th>title</th><th>text</th><th>subject</th><th>date</th><th>fake</th><th>words</th><th>words without stop</th></tr>\n",
       "<tr><td>WILL TAYLOR SWIFT...</td><td> misogyny is ingr...</td><td>left-news</td><td>May 20, 2015</td><td>1</td><td>[, misogyny, is, ...</td><td>[, misogyny, ingr...</td></tr>\n",
       "<tr><td>Highlights of Reu...</td><td>washington  reute...</td><td>politicsNews</td><td>April 28, 2017 </td><td>0</td><td>[washington, , re...</td><td>[washington, , re...</td></tr>\n",
       "<tr><td>Obama makes new p...</td><td>washington  reute...</td><td>politicsNews</td><td>January 26, 2016 </td><td>0</td><td>[washington, , re...</td><td>[washington, , re...</td></tr>\n",
       "<tr><td>Trump&#x27;s whirlwind...</td><td>lyon  france  reu...</td><td>politicsNews</td><td>February 5, 2017 </td><td>0</td><td>[lyon, , france, ...</td><td>[lyon, , france, ...</td></tr>\n",
       "<tr><td>WATCH: FORMER DNC...</td><td>former democratic...</td><td>politics</td><td>Aug 26, 2017</td><td>1</td><td>[former, democrat...</td><td>[former, democrat...</td></tr>\n",
       "<tr><td>Legal Fears Push ...</td><td>21st century wire...</td><td>US_News</td><td>July 23, 2017</td><td>1</td><td>[21st, century, w...</td><td>[21st, century, w...</td></tr>\n",
       "<tr><td>LT GEN MCINERNEY’...</td><td> </td><td>politics</td><td>Jan 13, 2017</td><td>1</td><td>[, ]</td><td>[, ]</td></tr>\n",
       "<tr><td>WATCH MAGA RALLY ...</td><td>president trump i...</td><td>left-news</td><td>Aug 22, 2017</td><td>1</td><td>[president, trump...</td><td>[president, trump...</td></tr>\n",
       "<tr><td> Billion Dollar C...</td><td>you may not be fa...</td><td>News</td><td>September 25, 2017</td><td>1</td><td>[you, may, not, b...</td><td>[may, familiar, n...</td></tr>\n",
       "<tr><td>Brazil government...</td><td>brasilia  reuters...</td><td>worldnews</td><td>October 20, 2017 </td><td>0</td><td>[brasilia, , reut...</td><td>[brasilia, , reut...</td></tr>\n",
       "<tr><td>WATCH: VICTIM Of ...</td><td>president trump a...</td><td>politics</td><td>Oct 4, 2017</td><td>1</td><td>[president, trump...</td><td>[president, trump...</td></tr>\n",
       "<tr><td>WINNING! COAL MIN...</td><td>president trump s...</td><td>politics</td><td>Jun 9, 2017</td><td>1</td><td>[president, trump...</td><td>[president, trump...</td></tr>\n",
       "<tr><td>Republican govern...</td><td>washington  reute...</td><td>politicsNews</td><td>March 4, 2016 </td><td>0</td><td>[washington, , re...</td><td>[washington, , re...</td></tr>\n",
       "<tr><td>WATCH: The View’s...</td><td>after reporter an...</td><td>politics</td><td>Nov 16, 2017</td><td>1</td><td>[after, reporter,...</td><td>[reporter, model,...</td></tr>\n",
       "<tr><td>Trump adviser&#x27;s R...</td><td>moscow  reuters  ...</td><td>politicsNews</td><td>August 24, 2016 </td><td>0</td><td>[moscow, , reuter...</td><td>[moscow, , reuter...</td></tr>\n",
       "<tr><td> Trump Tweets Chi...</td><td>donald trump has ...</td><td>News</td><td>January 2, 2017</td><td>1</td><td>[donald, trump, h...</td><td>[donald, trump, l...</td></tr>\n",
       "<tr><td>Hamas leader in C...</td><td>gaza  reuters    ...</td><td>worldnews</td><td>September 9, 2017 </td><td>0</td><td>[gaza, , reuters,...</td><td>[gaza, , reuters,...</td></tr>\n",
       "<tr><td>“NEVER-TRUMP” BUS...</td><td>just another memb...</td><td>left-news</td><td>Dec 9, 2017</td><td>1</td><td>[just, another, m...</td><td>[another, member,...</td></tr>\n",
       "<tr><td>Panama says Odebr...</td><td>panama city  reut...</td><td>worldnews</td><td>November 10, 2017 </td><td>0</td><td>[panama, city, , ...</td><td>[panama, city, , ...</td></tr>\n",
       "<tr><td> African-American...</td><td>congressman al gr...</td><td>News</td><td>May 20, 2017</td><td>1</td><td>[congressman, al,...</td><td>[congressman, al,...</td></tr>\n",
       "</table>\n",
       "only showing top 20 rows\n"
      ],
      "text/plain": [
       "+--------------------+--------------------+------------+------------------+----+--------------------+--------------------+\n",
       "|               title|                text|     subject|              date|fake|               words|  words without stop|\n",
       "+--------------------+--------------------+------------+------------------+----+--------------------+--------------------+\n",
       "|WILL TAYLOR SWIFT...| misogyny is ingr...|   left-news|      May 20, 2015|   1|[, misogyny, is, ...|[, misogyny, ingr...|\n",
       "|Highlights of Reu...|washington  reute...|politicsNews|   April 28, 2017 |   0|[washington, , re...|[washington, , re...|\n",
       "|Obama makes new p...|washington  reute...|politicsNews| January 26, 2016 |   0|[washington, , re...|[washington, , re...|\n",
       "|Trump's whirlwind...|lyon  france  reu...|politicsNews| February 5, 2017 |   0|[lyon, , france, ...|[lyon, , france, ...|\n",
       "|WATCH: FORMER DNC...|former democratic...|    politics|      Aug 26, 2017|   1|[former, democrat...|[former, democrat...|\n",
       "|Legal Fears Push ...|21st century wire...|     US_News|     July 23, 2017|   1|[21st, century, w...|[21st, century, w...|\n",
       "|LT GEN MCINERNEY’...|                    |    politics|      Jan 13, 2017|   1|                [, ]|                [, ]|\n",
       "|WATCH MAGA RALLY ...|president trump i...|   left-news|      Aug 22, 2017|   1|[president, trump...|[president, trump...|\n",
       "| Billion Dollar C...|you may not be fa...|        News|September 25, 2017|   1|[you, may, not, b...|[may, familiar, n...|\n",
       "|Brazil government...|brasilia  reuters...|   worldnews| October 20, 2017 |   0|[brasilia, , reut...|[brasilia, , reut...|\n",
       "|WATCH: VICTIM Of ...|president trump a...|    politics|       Oct 4, 2017|   1|[president, trump...|[president, trump...|\n",
       "|WINNING! COAL MIN...|president trump s...|    politics|       Jun 9, 2017|   1|[president, trump...|[president, trump...|\n",
       "|Republican govern...|washington  reute...|politicsNews|    March 4, 2016 |   0|[washington, , re...|[washington, , re...|\n",
       "|WATCH: The View’s...|after reporter an...|    politics|      Nov 16, 2017|   1|[after, reporter,...|[reporter, model,...|\n",
       "|Trump adviser's R...|moscow  reuters  ...|politicsNews|  August 24, 2016 |   0|[moscow, , reuter...|[moscow, , reuter...|\n",
       "| Trump Tweets Chi...|donald trump has ...|        News|   January 2, 2017|   1|[donald, trump, h...|[donald, trump, l...|\n",
       "|Hamas leader in C...|gaza  reuters    ...|   worldnews|September 9, 2017 |   0|[gaza, , reuters,...|[gaza, , reuters,...|\n",
       "|“NEVER-TRUMP” BUS...|just another memb...|   left-news|       Dec 9, 2017|   1|[just, another, m...|[another, member,...|\n",
       "|Panama says Odebr...|panama city  reut...|   worldnews|November 10, 2017 |   0|[panama, city, , ...|[panama, city, , ...|\n",
       "| African-American...|congressman al gr...|        News|      May 20, 2017|   1|[congressman, al,...|[congressman, al,...|\n",
       "+--------------------+--------------------+------------+------------------+----+--------------------+--------------------+\n",
       "only showing top 20 rows"
      ]
     },
     "execution_count": 24,
     "metadata": {},
     "output_type": "execute_result"
    }
   ],
   "source": [
    "df_concat"
   ]
  },
  {
   "cell_type": "code",
   "execution_count": 25,
   "id": "77798040-a3f2-474a-8d0c-d4003e9e8ab0",
   "metadata": {},
   "outputs": [
    {
     "name": "stdout",
     "output_type": "stream",
     "text": [
      "22/12/04 19:05:01 WARN TaskSetManager: Stage 20 contains a task of very large size (4983 KiB). The maximum recommended task size is 1000 KiB.\n"
     ]
    },
    {
     "name": "stderr",
     "output_type": "stream",
     "text": [
      "                                                                                \r"
     ]
    },
    {
     "name": "stdout",
     "output_type": "stream",
     "text": [
      "22/12/04 19:05:01 WARN TaskSetManager: Stage 21 contains a task of very large size (4983 KiB). The maximum recommended task size is 1000 KiB.\n"
     ]
    },
    {
     "name": "stderr",
     "output_type": "stream",
     "text": [
      "                                                                                \r"
     ]
    },
    {
     "name": "stdout",
     "output_type": "stream",
     "text": [
      "22/12/04 19:05:02 WARN TaskSetManager: Stage 24 contains a task of very large size (4983 KiB). The maximum recommended task size is 1000 KiB.\n"
     ]
    },
    {
     "name": "stderr",
     "output_type": "stream",
     "text": [
      "                                                                                \r"
     ]
    },
    {
     "name": "stdout",
     "output_type": "stream",
     "text": [
      "22/12/04 19:05:03 WARN TaskSetManager: Stage 25 contains a task of very large size (4983 KiB). The maximum recommended task size is 1000 KiB.\n"
     ]
    },
    {
     "name": "stderr",
     "output_type": "stream",
     "text": [
      "                                                                                \r"
     ]
    },
    {
     "data": {
      "text/html": [
       "<table border='1'>\n",
       "<tr><th>title</th><th>text</th><th>subject</th><th>date</th><th>fake</th><th>words</th><th>words without stop</th><th>text1</th></tr>\n",
       "<tr><td>WILL TAYLOR SWIFT...</td><td> misogyny is ingr...</td><td>left-news</td><td>May 20, 2015</td><td>1</td><td>[, misogyny, is, ...</td><td>[, misogyny, ingr...</td><td> misogyny ingrain...</td></tr>\n",
       "<tr><td>Highlights of Reu...</td><td>washington  reute...</td><td>politicsNews</td><td>April 28, 2017 </td><td>0</td><td>[washington, , re...</td><td>[washington, , re...</td><td>washington  reute...</td></tr>\n",
       "<tr><td>Obama makes new p...</td><td>washington  reute...</td><td>politicsNews</td><td>January 26, 2016 </td><td>0</td><td>[washington, , re...</td><td>[washington, , re...</td><td>washington  reute...</td></tr>\n",
       "<tr><td>Trump&#x27;s whirlwind...</td><td>lyon  france  reu...</td><td>politicsNews</td><td>February 5, 2017 </td><td>0</td><td>[lyon, , france, ...</td><td>[lyon, , france, ...</td><td>lyon  france  reu...</td></tr>\n",
       "<tr><td>WATCH: FORMER DNC...</td><td>former democratic...</td><td>politics</td><td>Aug 26, 2017</td><td>1</td><td>[former, democrat...</td><td>[former, democrat...</td><td>former democratic...</td></tr>\n",
       "<tr><td>Legal Fears Push ...</td><td>21st century wire...</td><td>US_News</td><td>July 23, 2017</td><td>1</td><td>[21st, century, w...</td><td>[21st, century, w...</td><td>21st century wire...</td></tr>\n",
       "<tr><td>LT GEN MCINERNEY’...</td><td> </td><td>politics</td><td>Jan 13, 2017</td><td>1</td><td>[, ]</td><td>[, ]</td><td> </td></tr>\n",
       "<tr><td>WATCH MAGA RALLY ...</td><td>president trump i...</td><td>left-news</td><td>Aug 22, 2017</td><td>1</td><td>[president, trump...</td><td>[president, trump...</td><td>president trump p...</td></tr>\n",
       "<tr><td> Billion Dollar C...</td><td>you may not be fa...</td><td>News</td><td>September 25, 2017</td><td>1</td><td>[you, may, not, b...</td><td>[may, familiar, n...</td><td>may familiar name...</td></tr>\n",
       "<tr><td>Brazil government...</td><td>brasilia  reuters...</td><td>worldnews</td><td>October 20, 2017 </td><td>0</td><td>[brasilia, , reut...</td><td>[brasilia, , reut...</td><td>brasilia  reuters...</td></tr>\n",
       "<tr><td>WATCH: VICTIM Of ...</td><td>president trump a...</td><td>politics</td><td>Oct 4, 2017</td><td>1</td><td>[president, trump...</td><td>[president, trump...</td><td>president trump l...</td></tr>\n",
       "<tr><td>WINNING! COAL MIN...</td><td>president trump s...</td><td>politics</td><td>Jun 9, 2017</td><td>1</td><td>[president, trump...</td><td>[president, trump...</td><td>president trump s...</td></tr>\n",
       "<tr><td>Republican govern...</td><td>washington  reute...</td><td>politicsNews</td><td>March 4, 2016 </td><td>0</td><td>[washington, , re...</td><td>[washington, , re...</td><td>washington  reute...</td></tr>\n",
       "<tr><td>WATCH: The View’s...</td><td>after reporter an...</td><td>politics</td><td>Nov 16, 2017</td><td>1</td><td>[after, reporter,...</td><td>[reporter, model,...</td><td>reporter model  l...</td></tr>\n",
       "<tr><td>Trump adviser&#x27;s R...</td><td>moscow  reuters  ...</td><td>politicsNews</td><td>August 24, 2016 </td><td>0</td><td>[moscow, , reuter...</td><td>[moscow, , reuter...</td><td>moscow  reuters  ...</td></tr>\n",
       "<tr><td> Trump Tweets Chi...</td><td>donald trump has ...</td><td>News</td><td>January 2, 2017</td><td>1</td><td>[donald, trump, h...</td><td>[donald, trump, l...</td><td>donald trump long...</td></tr>\n",
       "<tr><td>Hamas leader in C...</td><td>gaza  reuters    ...</td><td>worldnews</td><td>September 9, 2017 </td><td>0</td><td>[gaza, , reuters,...</td><td>[gaza, , reuters,...</td><td>gaza  reuters    ...</td></tr>\n",
       "<tr><td>“NEVER-TRUMP” BUS...</td><td>just another memb...</td><td>left-news</td><td>Dec 9, 2017</td><td>1</td><td>[just, another, m...</td><td>[another, member,...</td><td>another member sw...</td></tr>\n",
       "<tr><td>Panama says Odebr...</td><td>panama city  reut...</td><td>worldnews</td><td>November 10, 2017 </td><td>0</td><td>[panama, city, , ...</td><td>[panama, city, , ...</td><td>panama city  reut...</td></tr>\n",
       "<tr><td> African-American...</td><td>congressman al gr...</td><td>News</td><td>May 20, 2017</td><td>1</td><td>[congressman, al,...</td><td>[congressman, al,...</td><td>congressman al gr...</td></tr>\n",
       "</table>\n",
       "only showing top 20 rows\n"
      ],
      "text/plain": [
       "+--------------------+--------------------+------------+------------------+----+--------------------+--------------------+--------------------+\n",
       "|               title|                text|     subject|              date|fake|               words|  words without stop|               text1|\n",
       "+--------------------+--------------------+------------+------------------+----+--------------------+--------------------+--------------------+\n",
       "|WILL TAYLOR SWIFT...| misogyny is ingr...|   left-news|      May 20, 2015|   1|[, misogyny, is, ...|[, misogyny, ingr...| misogyny ingrain...|\n",
       "|Highlights of Reu...|washington  reute...|politicsNews|   April 28, 2017 |   0|[washington, , re...|[washington, , re...|washington  reute...|\n",
       "|Obama makes new p...|washington  reute...|politicsNews| January 26, 2016 |   0|[washington, , re...|[washington, , re...|washington  reute...|\n",
       "|Trump's whirlwind...|lyon  france  reu...|politicsNews| February 5, 2017 |   0|[lyon, , france, ...|[lyon, , france, ...|lyon  france  reu...|\n",
       "|WATCH: FORMER DNC...|former democratic...|    politics|      Aug 26, 2017|   1|[former, democrat...|[former, democrat...|former democratic...|\n",
       "|Legal Fears Push ...|21st century wire...|     US_News|     July 23, 2017|   1|[21st, century, w...|[21st, century, w...|21st century wire...|\n",
       "|LT GEN MCINERNEY’...|                    |    politics|      Jan 13, 2017|   1|                [, ]|                [, ]|                    |\n",
       "|WATCH MAGA RALLY ...|president trump i...|   left-news|      Aug 22, 2017|   1|[president, trump...|[president, trump...|president trump p...|\n",
       "| Billion Dollar C...|you may not be fa...|        News|September 25, 2017|   1|[you, may, not, b...|[may, familiar, n...|may familiar name...|\n",
       "|Brazil government...|brasilia  reuters...|   worldnews| October 20, 2017 |   0|[brasilia, , reut...|[brasilia, , reut...|brasilia  reuters...|\n",
       "|WATCH: VICTIM Of ...|president trump a...|    politics|       Oct 4, 2017|   1|[president, trump...|[president, trump...|president trump l...|\n",
       "|WINNING! COAL MIN...|president trump s...|    politics|       Jun 9, 2017|   1|[president, trump...|[president, trump...|president trump s...|\n",
       "|Republican govern...|washington  reute...|politicsNews|    March 4, 2016 |   0|[washington, , re...|[washington, , re...|washington  reute...|\n",
       "|WATCH: The View’s...|after reporter an...|    politics|      Nov 16, 2017|   1|[after, reporter,...|[reporter, model,...|reporter model  l...|\n",
       "|Trump adviser's R...|moscow  reuters  ...|politicsNews|  August 24, 2016 |   0|[moscow, , reuter...|[moscow, , reuter...|moscow  reuters  ...|\n",
       "| Trump Tweets Chi...|donald trump has ...|        News|   January 2, 2017|   1|[donald, trump, h...|[donald, trump, l...|donald trump long...|\n",
       "|Hamas leader in C...|gaza  reuters    ...|   worldnews|September 9, 2017 |   0|[gaza, , reuters,...|[gaza, , reuters,...|gaza  reuters    ...|\n",
       "|“NEVER-TRUMP” BUS...|just another memb...|   left-news|       Dec 9, 2017|   1|[just, another, m...|[another, member,...|another member sw...|\n",
       "|Panama says Odebr...|panama city  reut...|   worldnews|November 10, 2017 |   0|[panama, city, , ...|[panama, city, , ...|panama city  reut...|\n",
       "| African-American...|congressman al gr...|        News|      May 20, 2017|   1|[congressman, al,...|[congressman, al,...|congressman al gr...|\n",
       "+--------------------+--------------------+------------+------------------+----+--------------------+--------------------+--------------------+\n",
       "only showing top 20 rows"
      ]
     },
     "execution_count": 25,
     "metadata": {},
     "output_type": "execute_result"
    }
   ],
   "source": [
    "# convert array of strings to strings\n",
    "from pyspark.sql.functions import concat_ws\n",
    "\n",
    "df_concat = df_concat.withColumn(\"text1\", concat_ws(\" \", df_concat[\"words without stop\"]))\n",
    "df_concat"
   ]
  },
  {
   "cell_type": "code",
   "execution_count": 26,
   "id": "907d018b-c82b-43d7-bfdb-467c2657a309",
   "metadata": {},
   "outputs": [
    {
     "name": "stdout",
     "output_type": "stream",
     "text": [
      "22/12/04 19:05:04 WARN TaskSetManager: Stage 28 contains a task of very large size (4983 KiB). The maximum recommended task size is 1000 KiB.\n"
     ]
    },
    {
     "name": "stderr",
     "output_type": "stream",
     "text": [
      "                                                                                \r"
     ]
    },
    {
     "name": "stdout",
     "output_type": "stream",
     "text": [
      "22/12/04 19:05:05 WARN TaskSetManager: Stage 29 contains a task of very large size (4983 KiB). The maximum recommended task size is 1000 KiB.\n"
     ]
    },
    {
     "name": "stderr",
     "output_type": "stream",
     "text": [
      "                                                                                \r"
     ]
    },
    {
     "name": "stdout",
     "output_type": "stream",
     "text": [
      "22/12/04 19:05:06 WARN TaskSetManager: Stage 32 contains a task of very large size (4983 KiB). The maximum recommended task size is 1000 KiB.\n"
     ]
    },
    {
     "name": "stderr",
     "output_type": "stream",
     "text": [
      "                                                                                \r"
     ]
    },
    {
     "name": "stdout",
     "output_type": "stream",
     "text": [
      "22/12/04 19:05:07 WARN TaskSetManager: Stage 33 contains a task of very large size (4983 KiB). The maximum recommended task size is 1000 KiB.\n"
     ]
    },
    {
     "name": "stderr",
     "output_type": "stream",
     "text": [
      "                                                                                \r"
     ]
    },
    {
     "data": {
      "text/html": [
       "<table border='1'>\n",
       "<tr><th>title</th><th>text</th><th>subject</th><th>date</th><th>fake</th><th>text1</th></tr>\n",
       "<tr><td>WILL TAYLOR SWIFT...</td><td> misogyny is ingr...</td><td>left-news</td><td>May 20, 2015</td><td>1</td><td> misogyny ingrain...</td></tr>\n",
       "<tr><td>Highlights of Reu...</td><td>washington  reute...</td><td>politicsNews</td><td>April 28, 2017 </td><td>0</td><td>washington  reute...</td></tr>\n",
       "<tr><td>Obama makes new p...</td><td>washington  reute...</td><td>politicsNews</td><td>January 26, 2016 </td><td>0</td><td>washington  reute...</td></tr>\n",
       "<tr><td>Trump&#x27;s whirlwind...</td><td>lyon  france  reu...</td><td>politicsNews</td><td>February 5, 2017 </td><td>0</td><td>lyon  france  reu...</td></tr>\n",
       "<tr><td>WATCH: FORMER DNC...</td><td>former democratic...</td><td>politics</td><td>Aug 26, 2017</td><td>1</td><td>former democratic...</td></tr>\n",
       "<tr><td>Legal Fears Push ...</td><td>21st century wire...</td><td>US_News</td><td>July 23, 2017</td><td>1</td><td>21st century wire...</td></tr>\n",
       "<tr><td>LT GEN MCINERNEY’...</td><td> </td><td>politics</td><td>Jan 13, 2017</td><td>1</td><td> </td></tr>\n",
       "<tr><td>WATCH MAGA RALLY ...</td><td>president trump i...</td><td>left-news</td><td>Aug 22, 2017</td><td>1</td><td>president trump p...</td></tr>\n",
       "<tr><td> Billion Dollar C...</td><td>you may not be fa...</td><td>News</td><td>September 25, 2017</td><td>1</td><td>may familiar name...</td></tr>\n",
       "<tr><td>Brazil government...</td><td>brasilia  reuters...</td><td>worldnews</td><td>October 20, 2017 </td><td>0</td><td>brasilia  reuters...</td></tr>\n",
       "<tr><td>WATCH: VICTIM Of ...</td><td>president trump a...</td><td>politics</td><td>Oct 4, 2017</td><td>1</td><td>president trump l...</td></tr>\n",
       "<tr><td>WINNING! COAL MIN...</td><td>president trump s...</td><td>politics</td><td>Jun 9, 2017</td><td>1</td><td>president trump s...</td></tr>\n",
       "<tr><td>Republican govern...</td><td>washington  reute...</td><td>politicsNews</td><td>March 4, 2016 </td><td>0</td><td>washington  reute...</td></tr>\n",
       "<tr><td>WATCH: The View’s...</td><td>after reporter an...</td><td>politics</td><td>Nov 16, 2017</td><td>1</td><td>reporter model  l...</td></tr>\n",
       "<tr><td>Trump adviser&#x27;s R...</td><td>moscow  reuters  ...</td><td>politicsNews</td><td>August 24, 2016 </td><td>0</td><td>moscow  reuters  ...</td></tr>\n",
       "<tr><td> Trump Tweets Chi...</td><td>donald trump has ...</td><td>News</td><td>January 2, 2017</td><td>1</td><td>donald trump long...</td></tr>\n",
       "<tr><td>Hamas leader in C...</td><td>gaza  reuters    ...</td><td>worldnews</td><td>September 9, 2017 </td><td>0</td><td>gaza  reuters    ...</td></tr>\n",
       "<tr><td>“NEVER-TRUMP” BUS...</td><td>just another memb...</td><td>left-news</td><td>Dec 9, 2017</td><td>1</td><td>another member sw...</td></tr>\n",
       "<tr><td>Panama says Odebr...</td><td>panama city  reut...</td><td>worldnews</td><td>November 10, 2017 </td><td>0</td><td>panama city  reut...</td></tr>\n",
       "<tr><td> African-American...</td><td>congressman al gr...</td><td>News</td><td>May 20, 2017</td><td>1</td><td>congressman al gr...</td></tr>\n",
       "</table>\n",
       "only showing top 20 rows\n"
      ],
      "text/plain": [
       "+--------------------+--------------------+------------+------------------+----+--------------------+\n",
       "|               title|                text|     subject|              date|fake|               text1|\n",
       "+--------------------+--------------------+------------+------------------+----+--------------------+\n",
       "|WILL TAYLOR SWIFT...| misogyny is ingr...|   left-news|      May 20, 2015|   1| misogyny ingrain...|\n",
       "|Highlights of Reu...|washington  reute...|politicsNews|   April 28, 2017 |   0|washington  reute...|\n",
       "|Obama makes new p...|washington  reute...|politicsNews| January 26, 2016 |   0|washington  reute...|\n",
       "|Trump's whirlwind...|lyon  france  reu...|politicsNews| February 5, 2017 |   0|lyon  france  reu...|\n",
       "|WATCH: FORMER DNC...|former democratic...|    politics|      Aug 26, 2017|   1|former democratic...|\n",
       "|Legal Fears Push ...|21st century wire...|     US_News|     July 23, 2017|   1|21st century wire...|\n",
       "|LT GEN MCINERNEY’...|                    |    politics|      Jan 13, 2017|   1|                    |\n",
       "|WATCH MAGA RALLY ...|president trump i...|   left-news|      Aug 22, 2017|   1|president trump p...|\n",
       "| Billion Dollar C...|you may not be fa...|        News|September 25, 2017|   1|may familiar name...|\n",
       "|Brazil government...|brasilia  reuters...|   worldnews| October 20, 2017 |   0|brasilia  reuters...|\n",
       "|WATCH: VICTIM Of ...|president trump a...|    politics|       Oct 4, 2017|   1|president trump l...|\n",
       "|WINNING! COAL MIN...|president trump s...|    politics|       Jun 9, 2017|   1|president trump s...|\n",
       "|Republican govern...|washington  reute...|politicsNews|    March 4, 2016 |   0|washington  reute...|\n",
       "|WATCH: The View’s...|after reporter an...|    politics|      Nov 16, 2017|   1|reporter model  l...|\n",
       "|Trump adviser's R...|moscow  reuters  ...|politicsNews|  August 24, 2016 |   0|moscow  reuters  ...|\n",
       "| Trump Tweets Chi...|donald trump has ...|        News|   January 2, 2017|   1|donald trump long...|\n",
       "|Hamas leader in C...|gaza  reuters    ...|   worldnews|September 9, 2017 |   0|gaza  reuters    ...|\n",
       "|“NEVER-TRUMP” BUS...|just another memb...|   left-news|       Dec 9, 2017|   1|another member sw...|\n",
       "|Panama says Odebr...|panama city  reut...|   worldnews|November 10, 2017 |   0|panama city  reut...|\n",
       "| African-American...|congressman al gr...|        News|      May 20, 2017|   1|congressman al gr...|\n",
       "+--------------------+--------------------+------------+------------------+----+--------------------+\n",
       "only showing top 20 rows"
      ]
     },
     "execution_count": 26,
     "metadata": {},
     "output_type": "execute_result"
    }
   ],
   "source": [
    "df_concat = df_concat.drop(\"words\",\"words without stop\")\n",
    "\n",
    "df_concat"
   ]
  },
  {
   "cell_type": "code",
   "execution_count": 27,
   "id": "8b18f591-7b9b-4880-8657-c9fe7ad9bacf",
   "metadata": {},
   "outputs": [
    {
     "name": "stdout",
     "output_type": "stream",
     "text": [
      "22/12/04 19:05:08 WARN TaskSetManager: Stage 36 contains a task of very large size (4983 KiB). The maximum recommended task size is 1000 KiB.\n"
     ]
    },
    {
     "name": "stderr",
     "output_type": "stream",
     "text": [
      "                                                                                \r"
     ]
    },
    {
     "name": "stdout",
     "output_type": "stream",
     "text": [
      "22/12/04 19:05:09 WARN TaskSetManager: Stage 37 contains a task of very large size (4983 KiB). The maximum recommended task size is 1000 KiB.\n"
     ]
    },
    {
     "name": "stderr",
     "output_type": "stream",
     "text": [
      "                                                                                \r"
     ]
    },
    {
     "data": {
      "text/html": [
       "<table border='1'>\n",
       "<tr><th>title</th><th>subject</th><th>date</th><th>fake</th><th>text1</th></tr>\n",
       "<tr><td>WILL TAYLOR SWIFT...</td><td>left-news</td><td>May 20, 2015</td><td>1</td><td> misogyny ingrain...</td></tr>\n",
       "<tr><td>Highlights of Reu...</td><td>politicsNews</td><td>April 28, 2017 </td><td>0</td><td>washington  reute...</td></tr>\n",
       "<tr><td>Obama makes new p...</td><td>politicsNews</td><td>January 26, 2016 </td><td>0</td><td>washington  reute...</td></tr>\n",
       "<tr><td>Trump&#x27;s whirlwind...</td><td>politicsNews</td><td>February 5, 2017 </td><td>0</td><td>lyon  france  reu...</td></tr>\n",
       "<tr><td>WATCH: FORMER DNC...</td><td>politics</td><td>Aug 26, 2017</td><td>1</td><td>former democratic...</td></tr>\n",
       "<tr><td>Legal Fears Push ...</td><td>US_News</td><td>July 23, 2017</td><td>1</td><td>21st century wire...</td></tr>\n",
       "<tr><td>LT GEN MCINERNEY’...</td><td>politics</td><td>Jan 13, 2017</td><td>1</td><td> </td></tr>\n",
       "<tr><td>WATCH MAGA RALLY ...</td><td>left-news</td><td>Aug 22, 2017</td><td>1</td><td>president trump p...</td></tr>\n",
       "<tr><td> Billion Dollar C...</td><td>News</td><td>September 25, 2017</td><td>1</td><td>may familiar name...</td></tr>\n",
       "<tr><td>Brazil government...</td><td>worldnews</td><td>October 20, 2017 </td><td>0</td><td>brasilia  reuters...</td></tr>\n",
       "<tr><td>WATCH: VICTIM Of ...</td><td>politics</td><td>Oct 4, 2017</td><td>1</td><td>president trump l...</td></tr>\n",
       "<tr><td>WINNING! COAL MIN...</td><td>politics</td><td>Jun 9, 2017</td><td>1</td><td>president trump s...</td></tr>\n",
       "<tr><td>Republican govern...</td><td>politicsNews</td><td>March 4, 2016 </td><td>0</td><td>washington  reute...</td></tr>\n",
       "<tr><td>WATCH: The View’s...</td><td>politics</td><td>Nov 16, 2017</td><td>1</td><td>reporter model  l...</td></tr>\n",
       "<tr><td>Trump adviser&#x27;s R...</td><td>politicsNews</td><td>August 24, 2016 </td><td>0</td><td>moscow  reuters  ...</td></tr>\n",
       "<tr><td> Trump Tweets Chi...</td><td>News</td><td>January 2, 2017</td><td>1</td><td>donald trump long...</td></tr>\n",
       "<tr><td>Hamas leader in C...</td><td>worldnews</td><td>September 9, 2017 </td><td>0</td><td>gaza  reuters    ...</td></tr>\n",
       "<tr><td>“NEVER-TRUMP” BUS...</td><td>left-news</td><td>Dec 9, 2017</td><td>1</td><td>another member sw...</td></tr>\n",
       "<tr><td>Panama says Odebr...</td><td>worldnews</td><td>November 10, 2017 </td><td>0</td><td>panama city  reut...</td></tr>\n",
       "<tr><td> African-American...</td><td>News</td><td>May 20, 2017</td><td>1</td><td>congressman al gr...</td></tr>\n",
       "</table>\n",
       "only showing top 20 rows\n"
      ],
      "text/plain": [
       "+--------------------+------------+------------------+----+--------------------+\n",
       "|               title|     subject|              date|fake|               text1|\n",
       "+--------------------+------------+------------------+----+--------------------+\n",
       "|WILL TAYLOR SWIFT...|   left-news|      May 20, 2015|   1| misogyny ingrain...|\n",
       "|Highlights of Reu...|politicsNews|   April 28, 2017 |   0|washington  reute...|\n",
       "|Obama makes new p...|politicsNews| January 26, 2016 |   0|washington  reute...|\n",
       "|Trump's whirlwind...|politicsNews| February 5, 2017 |   0|lyon  france  reu...|\n",
       "|WATCH: FORMER DNC...|    politics|      Aug 26, 2017|   1|former democratic...|\n",
       "|Legal Fears Push ...|     US_News|     July 23, 2017|   1|21st century wire...|\n",
       "|LT GEN MCINERNEY’...|    politics|      Jan 13, 2017|   1|                    |\n",
       "|WATCH MAGA RALLY ...|   left-news|      Aug 22, 2017|   1|president trump p...|\n",
       "| Billion Dollar C...|        News|September 25, 2017|   1|may familiar name...|\n",
       "|Brazil government...|   worldnews| October 20, 2017 |   0|brasilia  reuters...|\n",
       "|WATCH: VICTIM Of ...|    politics|       Oct 4, 2017|   1|president trump l...|\n",
       "|WINNING! COAL MIN...|    politics|       Jun 9, 2017|   1|president trump s...|\n",
       "|Republican govern...|politicsNews|    March 4, 2016 |   0|washington  reute...|\n",
       "|WATCH: The View’s...|    politics|      Nov 16, 2017|   1|reporter model  l...|\n",
       "|Trump adviser's R...|politicsNews|  August 24, 2016 |   0|moscow  reuters  ...|\n",
       "| Trump Tweets Chi...|        News|   January 2, 2017|   1|donald trump long...|\n",
       "|Hamas leader in C...|   worldnews|September 9, 2017 |   0|gaza  reuters    ...|\n",
       "|“NEVER-TRUMP” BUS...|   left-news|       Dec 9, 2017|   1|another member sw...|\n",
       "|Panama says Odebr...|   worldnews|November 10, 2017 |   0|panama city  reut...|\n",
       "| African-American...|        News|      May 20, 2017|   1|congressman al gr...|\n",
       "+--------------------+------------+------------------+----+--------------------+\n",
       "only showing top 20 rows"
      ]
     },
     "execution_count": 27,
     "metadata": {},
     "output_type": "execute_result"
    }
   ],
   "source": [
    "df_concat = df_concat.drop(\"text\")\n",
    "\n",
    "df_concat"
   ]
  },
  {
   "cell_type": "code",
   "execution_count": 28,
   "id": "93a47ddb-1513-462f-a38a-b21bf2d53029",
   "metadata": {},
   "outputs": [
    {
     "name": "stdout",
     "output_type": "stream",
     "text": [
      "22/12/04 19:05:10 WARN TaskSetManager: Stage 38 contains a task of very large size (4983 KiB). The maximum recommended task size is 1000 KiB.\n"
     ]
    },
    {
     "name": "stderr",
     "output_type": "stream",
     "text": [
      "                                                                                \r"
     ]
    },
    {
     "name": "stdout",
     "output_type": "stream",
     "text": [
      "22/12/04 19:05:10 WARN TaskSetManager: Stage 39 contains a task of very large size (4983 KiB). The maximum recommended task size is 1000 KiB.\n"
     ]
    },
    {
     "name": "stderr",
     "output_type": "stream",
     "text": [
      "                                                                                \r"
     ]
    },
    {
     "data": {
      "text/html": [
       "<table border='1'>\n",
       "<tr><th>title</th><th>subject</th><th>date</th><th>fake</th><th>text</th></tr>\n",
       "<tr><td>WILL TAYLOR SWIFT...</td><td>left-news</td><td>May 20, 2015</td><td>1</td><td> misogyny ingrain...</td></tr>\n",
       "<tr><td>Highlights of Reu...</td><td>politicsNews</td><td>April 28, 2017 </td><td>0</td><td>washington  reute...</td></tr>\n",
       "<tr><td>Obama makes new p...</td><td>politicsNews</td><td>January 26, 2016 </td><td>0</td><td>washington  reute...</td></tr>\n",
       "<tr><td>Trump&#x27;s whirlwind...</td><td>politicsNews</td><td>February 5, 2017 </td><td>0</td><td>lyon  france  reu...</td></tr>\n",
       "<tr><td>WATCH: FORMER DNC...</td><td>politics</td><td>Aug 26, 2017</td><td>1</td><td>former democratic...</td></tr>\n",
       "<tr><td>Legal Fears Push ...</td><td>US_News</td><td>July 23, 2017</td><td>1</td><td>21st century wire...</td></tr>\n",
       "<tr><td>LT GEN MCINERNEY’...</td><td>politics</td><td>Jan 13, 2017</td><td>1</td><td> </td></tr>\n",
       "<tr><td>WATCH MAGA RALLY ...</td><td>left-news</td><td>Aug 22, 2017</td><td>1</td><td>president trump p...</td></tr>\n",
       "<tr><td> Billion Dollar C...</td><td>News</td><td>September 25, 2017</td><td>1</td><td>may familiar name...</td></tr>\n",
       "<tr><td>Brazil government...</td><td>worldnews</td><td>October 20, 2017 </td><td>0</td><td>brasilia  reuters...</td></tr>\n",
       "<tr><td>WATCH: VICTIM Of ...</td><td>politics</td><td>Oct 4, 2017</td><td>1</td><td>president trump l...</td></tr>\n",
       "<tr><td>WINNING! COAL MIN...</td><td>politics</td><td>Jun 9, 2017</td><td>1</td><td>president trump s...</td></tr>\n",
       "<tr><td>Republican govern...</td><td>politicsNews</td><td>March 4, 2016 </td><td>0</td><td>washington  reute...</td></tr>\n",
       "<tr><td>WATCH: The View’s...</td><td>politics</td><td>Nov 16, 2017</td><td>1</td><td>reporter model  l...</td></tr>\n",
       "<tr><td>Trump adviser&#x27;s R...</td><td>politicsNews</td><td>August 24, 2016 </td><td>0</td><td>moscow  reuters  ...</td></tr>\n",
       "<tr><td> Trump Tweets Chi...</td><td>News</td><td>January 2, 2017</td><td>1</td><td>donald trump long...</td></tr>\n",
       "<tr><td>Hamas leader in C...</td><td>worldnews</td><td>September 9, 2017 </td><td>0</td><td>gaza  reuters    ...</td></tr>\n",
       "<tr><td>“NEVER-TRUMP” BUS...</td><td>left-news</td><td>Dec 9, 2017</td><td>1</td><td>another member sw...</td></tr>\n",
       "<tr><td>Panama says Odebr...</td><td>worldnews</td><td>November 10, 2017 </td><td>0</td><td>panama city  reut...</td></tr>\n",
       "<tr><td> African-American...</td><td>News</td><td>May 20, 2017</td><td>1</td><td>congressman al gr...</td></tr>\n",
       "</table>\n",
       "only showing top 20 rows\n"
      ],
      "text/plain": [
       "+--------------------+------------+------------------+----+--------------------+\n",
       "|               title|     subject|              date|fake|                text|\n",
       "+--------------------+------------+------------------+----+--------------------+\n",
       "|WILL TAYLOR SWIFT...|   left-news|      May 20, 2015|   1| misogyny ingrain...|\n",
       "|Highlights of Reu...|politicsNews|   April 28, 2017 |   0|washington  reute...|\n",
       "|Obama makes new p...|politicsNews| January 26, 2016 |   0|washington  reute...|\n",
       "|Trump's whirlwind...|politicsNews| February 5, 2017 |   0|lyon  france  reu...|\n",
       "|WATCH: FORMER DNC...|    politics|      Aug 26, 2017|   1|former democratic...|\n",
       "|Legal Fears Push ...|     US_News|     July 23, 2017|   1|21st century wire...|\n",
       "|LT GEN MCINERNEY’...|    politics|      Jan 13, 2017|   1|                    |\n",
       "|WATCH MAGA RALLY ...|   left-news|      Aug 22, 2017|   1|president trump p...|\n",
       "| Billion Dollar C...|        News|September 25, 2017|   1|may familiar name...|\n",
       "|Brazil government...|   worldnews| October 20, 2017 |   0|brasilia  reuters...|\n",
       "|WATCH: VICTIM Of ...|    politics|       Oct 4, 2017|   1|president trump l...|\n",
       "|WINNING! COAL MIN...|    politics|       Jun 9, 2017|   1|president trump s...|\n",
       "|Republican govern...|politicsNews|    March 4, 2016 |   0|washington  reute...|\n",
       "|WATCH: The View’s...|    politics|      Nov 16, 2017|   1|reporter model  l...|\n",
       "|Trump adviser's R...|politicsNews|  August 24, 2016 |   0|moscow  reuters  ...|\n",
       "| Trump Tweets Chi...|        News|   January 2, 2017|   1|donald trump long...|\n",
       "|Hamas leader in C...|   worldnews|September 9, 2017 |   0|gaza  reuters    ...|\n",
       "|“NEVER-TRUMP” BUS...|   left-news|       Dec 9, 2017|   1|another member sw...|\n",
       "|Panama says Odebr...|   worldnews|November 10, 2017 |   0|panama city  reut...|\n",
       "| African-American...|        News|      May 20, 2017|   1|congressman al gr...|\n",
       "+--------------------+------------+------------------+----+--------------------+\n",
       "only showing top 20 rows"
      ]
     },
     "execution_count": 28,
     "metadata": {},
     "output_type": "execute_result"
    }
   ],
   "source": [
    "df_concat = df_concat.withColumnRenamed(\"text1\",\"text\")\n",
    "\n",
    "df_concat"
   ]
  },
  {
   "cell_type": "code",
   "execution_count": 29,
   "id": "d229ef49-dfc0-44a9-bb1c-6457571f4db3",
   "metadata": {},
   "outputs": [
    {
     "name": "stdout",
     "output_type": "stream",
     "text": [
      "22/12/04 19:05:11 WARN TaskSetManager: Stage 40 contains a task of very large size (4983 KiB). The maximum recommended task size is 1000 KiB.\n"
     ]
    },
    {
     "name": "stderr",
     "output_type": "stream",
     "text": [
      "[Stage 40:============================>                            (8 + 8) / 16]\r"
     ]
    },
    {
     "name": "stdout",
     "output_type": "stream",
     "text": [
      "+--------------------+\n",
      "|                text|\n",
      "+--------------------+\n",
      "| misogyny ingrain...|\n",
      "|former democratic...|\n",
      "|21st century wire...|\n",
      "|                    |\n",
      "|president trump p...|\n",
      "|may familiar name...|\n",
      "|president trump l...|\n",
      "|president trump s...|\n",
      "|reporter model  l...|\n",
      "|donald trump long...|\n",
      "|another member sw...|\n",
      "|congressman al gr...|\n",
      "| salt police  com...|\n",
      "|american liberal ...|\n",
      "|conservatives rep...|\n",
      "|donald trump beha...|\n",
      "|hillary clinton c...|\n",
      "|thursday visit me...|\n",
      "|another staged ph...|\n",
      "|muslims faith mus...|\n",
      "+--------------------+\n",
      "only showing top 20 rows\n",
      "\n"
     ]
    },
    {
     "name": "stderr",
     "output_type": "stream",
     "text": [
      "                                                                                \r"
     ]
    }
   ],
   "source": [
    "# most frequent words in fake news\n",
    "\n",
    "df_fake = df_concat.filter(df_concat[\"fake\"] == 1)\n",
    "\n",
    "df_fake_text = df_fake.select(\"text\")\n",
    "\n",
    "df_fake_text.show()"
   ]
  },
  {
   "cell_type": "code",
   "execution_count": 30,
   "id": "bf79d06a-c31d-46b2-aa13-ec13dd33d37a",
   "metadata": {},
   "outputs": [
    {
     "name": "stdout",
     "output_type": "stream",
     "text": [
      "22/12/04 19:05:12 WARN TaskSetManager: Stage 41 contains a task of very large size (4983 KiB). The maximum recommended task size is 1000 KiB.\n"
     ]
    },
    {
     "name": "stderr",
     "output_type": "stream",
     "text": [
      "                                                                                \r"
     ]
    },
    {
     "name": "stdout",
     "output_type": "stream",
     "text": [
      "22/12/04 19:05:15 WARN TaskSetManager: Stage 42 contains a task of very large size (4983 KiB). The maximum recommended task size is 1000 KiB.\n"
     ]
    },
    {
     "name": "stderr",
     "output_type": "stream",
     "text": [
      "[Stage 44:>                                                         (0 + 8) / 8]\r"
     ]
    },
    {
     "name": "stdout",
     "output_type": "stream",
     "text": [
      "+---------+-------+\n",
      "|     word|  count|\n",
      "+---------+-------+\n",
      "|         |1358755|\n",
      "|    trump|  79352|\n",
      "|     said|  33763|\n",
      "|president|  27715|\n",
      "|   people|  26570|\n",
      "|      one|  24531|\n",
      "|    would|  23562|\n",
      "|  clinton|  19173|\n",
      "|    obama|  18797|\n",
      "|     like|  18098|\n",
      "|   donald|  17681|\n",
      "|     also|  15403|\n",
      "|       us|  14822|\n",
      "|     news|  14629|\n",
      "|      new|  14394|\n",
      "|  hillary|  14122|\n",
      "|     even|  14011|\n",
      "|     time|  13870|\n",
      "|    state|  13465|\n",
      "|    white|  13189|\n",
      "+---------+-------+\n",
      "only showing top 20 rows\n",
      "\n"
     ]
    },
    {
     "name": "stderr",
     "output_type": "stream",
     "text": [
      "                                                                                \r"
     ]
    }
   ],
   "source": [
    "from pyspark.sql.functions import explode\n",
    "\n",
    "df_fake_text = df_fake_text\\\n",
    ".withColumn(\"words\", split(col(\"text\"), \" \"))\\\n",
    ".where(length(\"text\")>0)\n",
    "\n",
    "df_freq_fake = df_fake_text\\\n",
    ".select(explode(col(\"words\")).alias(\"word\"))\\\n",
    ".groupBy(\"word\").count()\\\n",
    "\n",
    "df_freq_fake.orderBy(col(\"count\").desc()).show()"
   ]
  },
  {
   "cell_type": "code",
   "execution_count": 31,
   "id": "35c8bc3d-5e60-46ba-bfad-cae0fc9c996f",
   "metadata": {},
   "outputs": [
    {
     "name": "stdout",
     "output_type": "stream",
     "text": [
      "22/12/04 19:05:20 WARN TaskSetManager: Stage 48 contains a task of very large size (4983 KiB). The maximum recommended task size is 1000 KiB.\n"
     ]
    },
    {
     "name": "stderr",
     "output_type": "stream",
     "text": [
      "[Stage 48:================================>                        (9 + 7) / 16]\r"
     ]
    },
    {
     "name": "stdout",
     "output_type": "stream",
     "text": [
      "+---------------+-----+\n",
      "|subject        |count|\n",
      "+---------------+-----+\n",
      "|politicsNews   |11272|\n",
      "|worldnews      |10145|\n",
      "|News           |9050 |\n",
      "|politics       |6841 |\n",
      "|left-news      |4459 |\n",
      "|Government News|1570 |\n",
      "|US_News        |783  |\n",
      "|Middle-east    |778  |\n",
      "+---------------+-----+\n",
      "\n"
     ]
    },
    {
     "name": "stderr",
     "output_type": "stream",
     "text": [
      "                                                                                \r"
     ]
    }
   ],
   "source": [
    "# The highest number of news\n",
    "\n",
    "df = df_concat.groupBy('subject').count()\n",
    "df.orderBy(col(\"count\").desc()).show(truncate=False)"
   ]
  },
  {
   "cell_type": "code",
   "execution_count": 32,
   "id": "97874ef4-da5e-4075-96c1-3ba20c7218c3",
   "metadata": {},
   "outputs": [],
   "source": [
    "from pyspark.ml.feature import SQLTransformer, RegexTokenizer, StopWordsRemover, CountVectorizer, Imputer, IDF\n",
    "from pyspark.ml.feature import StringIndexer, VectorAssembler\n",
    "StopWordsRemover.loadDefaultStopWords('english')\n",
    "\n",
    "# 0. Extract tokens from title\n",
    "title_tokenizer= RegexTokenizer(inputCol= 'title', outputCol= 'title_words',\n",
    "                                pattern= '\\\\W', toLowercase= True)\n",
    "# 1. Remove stop words from title\n",
    "title_sw_remover= StopWordsRemover(inputCol= 'title_words', outputCol= 'title_sw_removed')\n",
    "# 2. Compute Term frequency from title\n",
    "title_count_vectorizer= CountVectorizer(inputCol= 'title_sw_removed', outputCol= 'tf_title')\n",
    "# 3. Compute Term frequency-inverse document frequency from title\n",
    "title_tfidf= IDF(inputCol= 'tf_title', outputCol= 'tf_idf_title')\n",
    "# 4. Extract tokens from text\n",
    "text_tokenizer= RegexTokenizer(inputCol= 'text', outputCol= 'text_words',\n",
    "                                pattern= '\\\\W', toLowercase= True)\n",
    "# 5. Remove stop words from text\n",
    "text_sw_remover= StopWordsRemover(inputCol= 'text_words', outputCol= 'text_sw_removed')\n",
    "# 6. Compute Term frequency from text\n",
    "text_count_vectorizer= CountVectorizer(inputCol= 'text_sw_removed', outputCol= 'tf_text')\n",
    "# 7. Compute Term frequency-inverse document frequency text\n",
    "text_tfidf= IDF(inputCol= 'tf_text', outputCol= 'tf_idf_text')\n",
    "# 8. StringIndexer subject\n",
    "subject_str_indexer= StringIndexer(inputCol= 'subject', outputCol= 'subject_idx')\n",
    "# 9. VectorAssembler\n",
    "vec_assembler= VectorAssembler(inputCols=['tf_idf_title', 'tf_idf_text', 'subject_idx'], outputCol= 'features')"
   ]
  },
  {
   "cell_type": "code",
   "execution_count": 33,
   "id": "cbee174d-d7e7-4b49-985b-8bd88beb771e",
   "metadata": {},
   "outputs": [
    {
     "data": {
      "text/plain": [
       "RandomForestClassifier_8fcfd1c67b8b"
      ]
     },
     "execution_count": 33,
     "metadata": {},
     "output_type": "execute_result"
    }
   ],
   "source": [
    "from pyspark.ml.classification import RandomForestClassifier\n",
    "# 10 Random Forest Classifier\n",
    "rf= RandomForestClassifier(featuresCol= 'features', labelCol= 'fake', predictionCol= 'fake_predict', maxDepth= 7, numTrees= 20)\n",
    "\n",
    "rf"
   ]
  },
  {
   "cell_type": "code",
   "execution_count": 34,
   "id": "4e204091-f146-48c7-ac5c-5e8d37c9dc98",
   "metadata": {},
   "outputs": [],
   "source": [
    "from pyspark.ml import Pipeline\n",
    "rf_pipe= Pipeline(stages=[title_tokenizer, # 0\n",
    "                title_sw_remover, # 1\n",
    "                title_count_vectorizer, # 2\n",
    "                title_tfidf, # 3\n",
    "                text_tokenizer, # 4\n",
    "                text_sw_remover, # 5\n",
    "                text_count_vectorizer, # 6\n",
    "                text_tfidf, # 7\n",
    "                subject_str_indexer, # 8\n",
    "                vec_assembler, # 9\n",
    "                rf]) # 10 model"
   ]
  },
  {
   "cell_type": "code",
   "execution_count": 35,
   "id": "51c37c2b-8967-4b2d-a187-837fa5a7f594",
   "metadata": {},
   "outputs": [],
   "source": [
    "train, test= df_concat.randomSplit([0.8, 0.2])"
   ]
  },
  {
   "cell_type": "code",
   "execution_count": 36,
   "id": "7d33515a-8f70-4cb4-b832-e7d1c82f4769",
   "metadata": {},
   "outputs": [
    {
     "name": "stdout",
     "output_type": "stream",
     "text": [
      "22/12/04 19:06:07 WARN TaskSetManager: Stage 51 contains a task of very large size (4983 KiB). The maximum recommended task size is 1000 KiB.\n"
     ]
    },
    {
     "name": "stderr",
     "output_type": "stream",
     "text": [
      "                                                                                \r"
     ]
    },
    {
     "name": "stdout",
     "output_type": "stream",
     "text": [
      "22/12/04 19:06:10 WARN TaskSetManager: Stage 55 contains a task of very large size (4983 KiB). The maximum recommended task size is 1000 KiB.\n"
     ]
    },
    {
     "name": "stderr",
     "output_type": "stream",
     "text": [
      "                                                                                \r"
     ]
    },
    {
     "name": "stdout",
     "output_type": "stream",
     "text": [
      "22/12/04 19:06:13 WARN TaskSetManager: Stage 57 contains a task of very large size (4983 KiB). The maximum recommended task size is 1000 KiB.\n"
     ]
    },
    {
     "name": "stderr",
     "output_type": "stream",
     "text": [
      "                                                                                \r"
     ]
    },
    {
     "name": "stdout",
     "output_type": "stream",
     "text": [
      "22/12/04 19:06:17 WARN DAGScheduler: Broadcasting large task binary with size 1282.1 KiB\n",
      "22/12/04 19:06:17 WARN TaskSetManager: Stage 61 contains a task of very large size (4983 KiB). The maximum recommended task size is 1000 KiB.\n"
     ]
    },
    {
     "name": "stderr",
     "output_type": "stream",
     "text": [
      "[Stage 61:====================================================>   (15 + 1) / 16]\r"
     ]
    },
    {
     "name": "stdout",
     "output_type": "stream",
     "text": [
      "22/12/04 19:06:20 WARN DAGScheduler: Broadcasting large task binary with size 1283.1 KiB\n",
      "22/12/04 19:06:20 WARN TaskSetManager: Stage 63 contains a task of very large size (4983 KiB). The maximum recommended task size is 1000 KiB.\n"
     ]
    },
    {
     "name": "stderr",
     "output_type": "stream",
     "text": [
      "                                                                                \r"
     ]
    },
    {
     "name": "stdout",
     "output_type": "stream",
     "text": [
      "22/12/04 19:06:23 WARN TaskSetManager: Stage 66 contains a task of very large size (4983 KiB). The maximum recommended task size is 1000 KiB.\n"
     ]
    },
    {
     "name": "stderr",
     "output_type": "stream",
     "text": [
      "                                                                                \r"
     ]
    },
    {
     "name": "stdout",
     "output_type": "stream",
     "text": [
      "22/12/04 19:06:25 WARN DAGScheduler: Broadcasting large task binary with size 11.1 MiB\n",
      "22/12/04 19:06:25 WARN TaskSetManager: Stage 69 contains a task of very large size (4983 KiB). The maximum recommended task size is 1000 KiB.\n",
      "22/12/04 19:06:26 WARN DAGScheduler: Broadcasting large task binary with size 11.1 MiB\n",
      "22/12/04 19:06:26 WARN TaskSetManager: Stage 70 contains a task of very large size (4983 KiB). The maximum recommended task size is 1000 KiB.\n"
     ]
    },
    {
     "name": "stderr",
     "output_type": "stream",
     "text": [
      "                                                                                \r"
     ]
    },
    {
     "name": "stdout",
     "output_type": "stream",
     "text": [
      "22/12/04 19:06:31 WARN DAGScheduler: Broadcasting large task binary with size 12.4 MiB\n",
      "22/12/04 19:06:31 WARN TaskSetManager: Stage 71 contains a task of very large size (4983 KiB). The maximum recommended task size is 1000 KiB.\n"
     ]
    },
    {
     "name": "stderr",
     "output_type": "stream",
     "text": [
      "                                                                                \r"
     ]
    },
    {
     "name": "stdout",
     "output_type": "stream",
     "text": [
      "22/12/04 19:06:47 WARN DAGScheduler: Broadcasting large task binary with size 14.0 MiB\n",
      "22/12/04 19:06:47 WARN TaskSetManager: Stage 73 contains a task of very large size (4983 KiB). The maximum recommended task size is 1000 KiB.\n"
     ]
    },
    {
     "name": "stderr",
     "output_type": "stream",
     "text": [
      "[Stage 73:>                                                        (0 + 8) / 16]\r"
     ]
    },
    {
     "name": "stdout",
     "output_type": "stream",
     "text": [
      "22/12/04 19:06:49 WARN MemoryStore: Not enough space to cache rdd_265_3 in memory! (computed 135.9 MiB so far)\n",
      "22/12/04 19:06:49 WARN BlockManager: Persisting block rdd_265_3 to disk instead.\n",
      "22/12/04 19:06:49 WARN MemoryStore: Not enough space to cache rdd_265_4 in memory! (computed 208.8 MiB so far)\n",
      "22/12/04 19:06:49 WARN BlockManager: Persisting block rdd_265_4 to disk instead.\n",
      "22/12/04 19:06:49 WARN MemoryStore: Not enough space to cache rdd_265_5 in memory! (computed 314.0 MiB so far)\n",
      "22/12/04 19:06:49 WARN BlockManager: Persisting block rdd_265_5 to disk instead.\n",
      "22/12/04 19:06:49 WARN MemoryStore: Not enough space to cache rdd_265_7 in memory! (computed 314.0 MiB so far)\n",
      "22/12/04 19:06:49 WARN BlockManager: Persisting block rdd_265_7 to disk instead.\n",
      "22/12/04 19:06:49 WARN MemoryStore: Not enough space to cache rdd_265_2 in memory! (computed 314.0 MiB so far)\n",
      "22/12/04 19:06:49 WARN BlockManager: Persisting block rdd_265_2 to disk instead.\n",
      "22/12/04 19:06:51 WARN MemoryStore: Not enough space to cache rdd_265_0 in memory! (computed 715.0 MiB so far)\n",
      "22/12/04 19:06:51 WARN BlockManager: Persisting block rdd_265_0 to disk instead.\n",
      "22/12/04 19:06:52 WARN MemoryStore: Not enough space to cache rdd_265_6 in memory! (computed 715.0 MiB so far)\n",
      "22/12/04 19:06:52 WARN BlockManager: Persisting block rdd_265_6 to disk instead.\n",
      "22/12/04 19:06:53 WARN MemoryStore: Not enough space to cache rdd_265_2 in memory! (computed 135.9 MiB so far)\n",
      "22/12/04 19:06:53 WARN MemoryStore: Not enough space to cache rdd_265_0 in memory! (computed 208.8 MiB so far)\n",
      "22/12/04 19:06:54 WARN MemoryStore: Not enough space to cache rdd_265_1 in memory! (computed 1096.1 MiB so far)\n",
      "22/12/04 19:06:54 WARN BlockManager: Persisting block rdd_265_1 to disk instead.\n"
     ]
    },
    {
     "name": "stderr",
     "output_type": "stream",
     "text": [
      "[Stage 73:==========>                                              (3 + 8) / 16]\r"
     ]
    },
    {
     "name": "stdout",
     "output_type": "stream",
     "text": [
      "22/12/04 19:06:56 WARN MemoryStore: Not enough space to cache rdd_265_3 in memory! (computed 208.8 MiB so far)\n",
      "22/12/04 19:06:56 WARN MemoryStore: Not enough space to cache rdd_265_7 in memory! (computed 314.0 MiB so far)\n",
      "22/12/04 19:06:56 WARN MemoryStore: Not enough space to cache rdd_265_4 in memory! (computed 314.0 MiB so far)\n",
      "[189.232s][warning][gc,alloc] Executor task launch worker for task 8.0 in stage 73.0 (TID 697): Retried waiting for GCLocker too often allocating 65282 words\n",
      "22/12/04 19:06:57 WARN BlockManager: Block rdd_265_8 could not be removed as it was not found on disk or in memory\n",
      "[189.241s][warning][gc,alloc] Executor task launch worker for task 6.0 in stage 73.0 (TID 695): Retried waiting for GCLocker too often allocating 65282 words\n",
      "[189.241s][warning][gc,alloc] Executor task launch worker for task 7.0 in stage 73.0 (TID 696): Retried waiting for GCLocker too often allocating 65282 words\n",
      "22/12/04 19:06:57 ERROR Executor: Exception in task 8.0 in stage 73.0 (TID 697)\n",
      "java.lang.OutOfMemoryError: Java heap space\n",
      "\tat org.apache.spark.ml.tree.impl.TreePoint$.labeledPointToTreePoint(TreePoint.scala:91)\n",
      "\tat org.apache.spark.ml.tree.impl.TreePoint$.$anonfun$convertToTreeRDD$4(TreePoint.scala:75)\n",
      "\tat org.apache.spark.ml.tree.impl.TreePoint$$$Lambda$4508/0x0000000801dc1a50.apply(Unknown Source)\n",
      "\tat scala.collection.Iterator$$anon$10.next(Iterator.scala:461)\n",
      "\tat scala.collection.Iterator$$anon$10.next(Iterator.scala:461)\n",
      "\tat org.apache.spark.storage.memory.MemoryStore.putIterator(MemoryStore.scala:224)\n",
      "\tat org.apache.spark.storage.memory.MemoryStore.putIteratorAsValues(MemoryStore.scala:302)\n",
      "\tat org.apache.spark.storage.BlockManager.$anonfun$doPutIterator$1(BlockManager.scala:1508)\n",
      "\tat org.apache.spark.storage.BlockManager$$Lambda$2302/0x000000080189c000.apply(Unknown Source)\n",
      "\tat org.apache.spark.storage.BlockManager.org$apache$spark$storage$BlockManager$$doPut(BlockManager.scala:1435)\n",
      "\tat org.apache.spark.storage.BlockManager.doPutIterator(BlockManager.scala:1499)\n",
      "\tat org.apache.spark.storage.BlockManager.getOrElseUpdate(BlockManager.scala:1322)\n",
      "\tat org.apache.spark.rdd.RDD.getOrCompute(RDD.scala:376)\n",
      "\tat org.apache.spark.rdd.RDD.iterator(RDD.scala:327)\n",
      "\tat org.apache.spark.rdd.MapPartitionsRDD.compute(MapPartitionsRDD.scala:52)\n",
      "\tat org.apache.spark.rdd.RDD.computeOrReadCheckpoint(RDD.scala:365)\n",
      "\tat org.apache.spark.rdd.RDD.iterator(RDD.scala:329)\n",
      "\tat org.apache.spark.shuffle.ShuffleWriteProcessor.write(ShuffleWriteProcessor.scala:59)\n",
      "\tat org.apache.spark.scheduler.ShuffleMapTask.runTask(ShuffleMapTask.scala:99)\n",
      "\tat org.apache.spark.scheduler.ShuffleMapTask.runTask(ShuffleMapTask.scala:52)\n",
      "\tat org.apache.spark.scheduler.Task.run(Task.scala:136)\n",
      "\tat org.apache.spark.executor.Executor$TaskRunner.$anonfun$run$3(Executor.scala:548)\n",
      "\tat org.apache.spark.executor.Executor$TaskRunner$$Lambda$2469/0x000000080192e7d8.apply(Unknown Source)\n",
      "\tat org.apache.spark.util.Utils$.tryWithSafeFinally(Utils.scala:1504)\n",
      "\tat org.apache.spark.executor.Executor$TaskRunner.run(Executor.scala:551)\n",
      "\tat java.base/java.util.concurrent.ThreadPoolExecutor.runWorker(ThreadPoolExecutor.java:1136)\n",
      "\tat java.base/java.util.concurrent.ThreadPoolExecutor$Worker.run(ThreadPoolExecutor.java:635)\n",
      "\tat java.base/java.lang.Thread.run(Thread.java:833)\n",
      "22/12/04 19:06:57 ERROR Executor: Exception in task 7.0 in stage 73.0 (TID 696)\n",
      "java.lang.OutOfMemoryError: Java heap space\n",
      "22/12/04 19:06:57 ERROR Executor: Exception in task 6.0 in stage 73.0 (TID 695)\n",
      "java.lang.OutOfMemoryError: Java heap space\n",
      "\tat java.base/java.lang.reflect.Array.newInstance(Array.java:78)\n",
      "\tat java.base/java.io.ObjectInputStream.readArray(ObjectInputStream.java:2106)\n",
      "\tat java.base/java.io.ObjectInputStream.readObject0(ObjectInputStream.java:1730)\n",
      "\tat java.base/java.io.ObjectInputStream$FieldValues.<init>(ObjectInputStream.java:2584)\n",
      "\tat java.base/java.io.ObjectInputStream.readSerialData(ObjectInputStream.java:2442)\n",
      "\tat java.base/java.io.ObjectInputStream.readOrdinaryObject(ObjectInputStream.java:2242)\n",
      "\tat java.base/java.io.ObjectInputStream.readObject0(ObjectInputStream.java:1742)\n",
      "\tat java.base/java.io.ObjectInputStream$FieldValues.<init>(ObjectInputStream.java:2584)\n",
      "\tat java.base/java.io.ObjectInputStream.readSerialData(ObjectInputStream.java:2442)\n",
      "\tat java.base/java.io.ObjectInputStream.readOrdinaryObject(ObjectInputStream.java:2242)\n",
      "\tat java.base/java.io.ObjectInputStream.readObject0(ObjectInputStream.java:1742)\n",
      "\tat java.base/java.io.ObjectInputStream.readObject(ObjectInputStream.java:514)\n",
      "\tat java.base/java.io.ObjectInputStream.readObject(ObjectInputStream.java:472)\n",
      "\tat org.apache.spark.serializer.JavaDeserializationStream.readObject(JavaSerializer.scala:87)\n",
      "\tat org.apache.spark.serializer.DeserializationStream$$anon$1.getNext(Serializer.scala:168)\n",
      "\tat org.apache.spark.util.NextIterator.hasNext(NextIterator.scala:73)\n",
      "\tat org.apache.spark.storage.memory.MemoryStore.putIterator(MemoryStore.scala:223)\n",
      "\tat org.apache.spark.storage.memory.MemoryStore.putIteratorAsValues(MemoryStore.scala:302)\n",
      "\tat org.apache.spark.storage.BlockManager.maybeCacheDiskValuesInMemory(BlockManager.scala:1654)\n",
      "\tat org.apache.spark.storage.BlockManager.getLocalValues(BlockManager.scala:943)\n",
      "\tat org.apache.spark.storage.BlockManager.getOrElseUpdate(BlockManager.scala:1326)\n",
      "\tat org.apache.spark.rdd.RDD.getOrCompute(RDD.scala:376)\n",
      "\tat org.apache.spark.rdd.RDD.iterator(RDD.scala:327)\n",
      "\tat org.apache.spark.rdd.MapPartitionsRDD.compute(MapPartitionsRDD.scala:52)\n",
      "\tat org.apache.spark.rdd.RDD.computeOrReadCheckpoint(RDD.scala:365)\n",
      "\tat org.apache.spark.rdd.RDD.iterator(RDD.scala:329)\n",
      "\tat org.apache.spark.shuffle.ShuffleWriteProcessor.write(ShuffleWriteProcessor.scala:59)\n",
      "\tat org.apache.spark.scheduler.ShuffleMapTask.runTask(ShuffleMapTask.scala:99)\n",
      "\tat org.apache.spark.scheduler.ShuffleMapTask.runTask(ShuffleMapTask.scala:52)\n",
      "\tat org.apache.spark.scheduler.Task.run(Task.scala:136)\n",
      "\tat org.apache.spark.executor.Executor$TaskRunner.$anonfun$run$3(Executor.scala:548)\n",
      "\tat org.apache.spark.executor.Executor$TaskRunner$$Lambda$2469/0x000000080192e7d8.apply(Unknown Source)\n",
      "22/12/04 19:06:57 ERROR SparkUncaughtExceptionHandler: Uncaught exception in thread Thread[Executor task launch worker for task 8.0 in stage 73.0 (TID 697),5,main]\n",
      "java.lang.OutOfMemoryError: Java heap space\n",
      "\tat org.apache.spark.ml.tree.impl.TreePoint$.labeledPointToTreePoint(TreePoint.scala:91)\n",
      "\tat org.apache.spark.ml.tree.impl.TreePoint$.$anonfun$convertToTreeRDD$4(TreePoint.scala:75)\n",
      "\tat org.apache.spark.ml.tree.impl.TreePoint$$$Lambda$4508/0x0000000801dc1a50.apply(Unknown Source)\n",
      "\tat scala.collection.Iterator$$anon$10.next(Iterator.scala:461)\n",
      "\tat scala.collection.Iterator$$anon$10.next(Iterator.scala:461)\n",
      "\tat org.apache.spark.storage.memory.MemoryStore.putIterator(MemoryStore.scala:224)\n",
      "\tat org.apache.spark.storage.memory.MemoryStore.putIteratorAsValues(MemoryStore.scala:302)\n",
      "\tat org.apache.spark.storage.BlockManager.$anonfun$doPutIterator$1(BlockManager.scala:1508)\n",
      "\tat org.apache.spark.storage.BlockManager$$Lambda$2302/0x000000080189c000.apply(Unknown Source)\n",
      "\tat org.apache.spark.storage.BlockManager.org$apache$spark$storage$BlockManager$$doPut(BlockManager.scala:1435)\n",
      "\tat org.apache.spark.storage.BlockManager.doPutIterator(BlockManager.scala:1499)\n",
      "\tat org.apache.spark.storage.BlockManager.getOrElseUpdate(BlockManager.scala:1322)\n",
      "\tat org.apache.spark.rdd.RDD.getOrCompute(RDD.scala:376)\n",
      "\tat org.apache.spark.rdd.RDD.iterator(RDD.scala:327)\n",
      "\tat org.apache.spark.rdd.MapPartitionsRDD.compute(MapPartitionsRDD.scala:52)\n",
      "\tat org.apache.spark.rdd.RDD.computeOrReadCheckpoint(RDD.scala:365)\n",
      "\tat org.apache.spark.rdd.RDD.iterator(RDD.scala:329)\n",
      "\tat org.apache.spark.shuffle.ShuffleWriteProcessor.write(ShuffleWriteProcessor.scala:59)\n",
      "\tat org.apache.spark.scheduler.ShuffleMapTask.runTask(ShuffleMapTask.scala:99)\n",
      "\tat org.apache.spark.scheduler.ShuffleMapTask.runTask(ShuffleMapTask.scala:52)\n",
      "\tat org.apache.spark.scheduler.Task.run(Task.scala:136)\n",
      "\tat org.apache.spark.executor.Executor$TaskRunner.$anonfun$run$3(Executor.scala:548)\n",
      "\tat org.apache.spark.executor.Executor$TaskRunner$$Lambda$2469/0x000000080192e7d8.apply(Unknown Source)\n",
      "\tat org.apache.spark.util.Utils$.tryWithSafeFinally(Utils.scala:1504)\n",
      "\tat org.apache.spark.executor.Executor$TaskRunner.run(Executor.scala:551)\n",
      "\tat java.base/java.util.concurrent.ThreadPoolExecutor.runWorker(ThreadPoolExecutor.java:1136)\n",
      "\tat java.base/java.util.concurrent.ThreadPoolExecutor$Worker.run(ThreadPoolExecutor.java:635)\n",
      "\tat java.base/java.lang.Thread.run(Thread.java:833)\n",
      "22/12/04 19:06:57 ERROR SparkUncaughtExceptionHandler: Uncaught exception in thread Thread[Executor task launch worker for task 7.0 in stage 73.0 (TID 696),5,main]\n",
      "java.lang.OutOfMemoryError: Java heap space\n",
      "22/12/04 19:06:57 ERROR SparkUncaughtExceptionHandler: Uncaught exception in thread Thread[Executor task launch worker for task 6.0 in stage 73.0 (TID 695),5,main]\n",
      "java.lang.OutOfMemoryError: Java heap space\n",
      "\tat java.base/java.lang.reflect.Array.newInstance(Array.java:78)\n",
      "\tat java.base/java.io.ObjectInputStream.readArray(ObjectInputStream.java:2106)\n",
      "\tat java.base/java.io.ObjectInputStream.readObject0(ObjectInputStream.java:1730)\n",
      "\tat java.base/java.io.ObjectInputStream$FieldValues.<init>(ObjectInputStream.java:2584)\n",
      "\tat java.base/java.io.ObjectInputStream.readSerialData(ObjectInputStream.java:2442)\n",
      "\tat java.base/java.io.ObjectInputStream.readOrdinaryObject(ObjectInputStream.java:2242)\n",
      "\tat java.base/java.io.ObjectInputStream.readObject0(ObjectInputStream.java:1742)\n",
      "\tat java.base/java.io.ObjectInputStream$FieldValues.<init>(ObjectInputStream.java:2584)\n",
      "\tat java.base/java.io.ObjectInputStream.readSerialData(ObjectInputStream.java:2442)\n",
      "\tat java.base/java.io.ObjectInputStream.readOrdinaryObject(ObjectInputStream.java:2242)\n",
      "\tat java.base/java.io.ObjectInputStream.readObject0(ObjectInputStream.java:1742)\n",
      "\tat java.base/java.io.ObjectInputStream.readObject(ObjectInputStream.java:514)\n",
      "\tat java.base/java.io.ObjectInputStream.readObject(ObjectInputStream.java:472)\n",
      "\tat org.apache.spark.serializer.JavaDeserializationStream.readObject(JavaSerializer.scala:87)\n",
      "\tat org.apache.spark.serializer.DeserializationStream$$anon$1.getNext(Serializer.scala:168)\n",
      "\tat org.apache.spark.util.NextIterator.hasNext(NextIterator.scala:73)\n",
      "\tat org.apache.spark.storage.memory.MemoryStore.putIterator(MemoryStore.scala:223)\n",
      "\tat org.apache.spark.storage.memory.MemoryStore.putIteratorAsValues(MemoryStore.scala:302)\n",
      "\tat org.apache.spark.storage.BlockManager.maybeCacheDiskValuesInMemory(BlockManager.scala:1654)\n",
      "\tat org.apache.spark.storage.BlockManager.getLocalValues(BlockManager.scala:943)\n",
      "\tat org.apache.spark.storage.BlockManager.getOrElseUpdate(BlockManager.scala:1326)\n",
      "\tat org.apache.spark.rdd.RDD.getOrCompute(RDD.scala:376)\n",
      "\tat org.apache.spark.rdd.RDD.iterator(RDD.scala:327)\n",
      "\tat org.apache.spark.rdd.MapPartitionsRDD.compute(MapPartitionsRDD.scala:52)\n",
      "\tat org.apache.spark.rdd.RDD.computeOrReadCheckpoint(RDD.scala:365)\n",
      "\tat org.apache.spark.rdd.RDD.iterator(RDD.scala:329)\n",
      "\tat org.apache.spark.shuffle.ShuffleWriteProcessor.write(ShuffleWriteProcessor.scala:59)\n",
      "\tat org.apache.spark.scheduler.ShuffleMapTask.runTask(ShuffleMapTask.scala:99)\n",
      "\tat org.apache.spark.scheduler.ShuffleMapTask.runTask(ShuffleMapTask.scala:52)\n",
      "\tat org.apache.spark.scheduler.Task.run(Task.scala:136)\n",
      "\tat org.apache.spark.executor.Executor$TaskRunner.$anonfun$run$3(Executor.scala:548)\n",
      "\tat org.apache.spark.executor.Executor$TaskRunner$$Lambda$2469/0x000000080192e7d8.apply(Unknown Source)\n",
      "22/12/04 19:06:57 WARN TaskSetManager: Lost task 7.0 in stage 73.0 (TID 696) (poojas-mbp.fios-router.home executor driver): java.lang.OutOfMemoryError: Java heap space\n",
      "\n",
      "22/12/04 19:06:57 ERROR TaskSetManager: Task 7 in stage 73.0 failed 1 times; aborting job\n",
      "22/12/04 19:06:57 ERROR Instrumentation: org.apache.spark.SparkException: Job aborted due to stage failure: Task 7 in stage 73.0 failed 1 times, most recent failure: Lost task 7.0 in stage 73.0 (TID 696) (poojas-mbp.fios-router.home executor driver): java.lang.OutOfMemoryError: Java heap space\n",
      "\n",
      "Driver stacktrace:\n",
      "\tat org.apache.spark.scheduler.DAGScheduler.failJobAndIndependentStages(DAGScheduler.scala:2672)\n",
      "\tat org.apache.spark.scheduler.DAGScheduler.$anonfun$abortStage$2(DAGScheduler.scala:2608)\n",
      "\tat org.apache.spark.scheduler.DAGScheduler.$anonfun$abortStage$2$adapted(DAGScheduler.scala:2607)\n",
      "\tat scala.collection.mutable.ResizableArray.foreach(ResizableArray.scala:62)\n",
      "\tat scala.collection.mutable.ResizableArray.foreach$(ResizableArray.scala:55)\n",
      "\tat scala.collection.mutable.ArrayBuffer.foreach(ArrayBuffer.scala:49)\n",
      "\tat org.apache.spark.scheduler.DAGScheduler.abortStage(DAGScheduler.scala:2607)\n",
      "\tat org.apache.spark.scheduler.DAGScheduler.$anonfun$handleTaskSetFailed$1(DAGScheduler.scala:1182)\n",
      "\tat org.apache.spark.scheduler.DAGScheduler.$anonfun$handleTaskSetFailed$1$adapted(DAGScheduler.scala:1182)\n",
      "\tat scala.Option.foreach(Option.scala:407)\n",
      "\tat org.apache.spark.scheduler.DAGScheduler.handleTaskSetFailed(DAGScheduler.scala:1182)\n",
      "\tat org.apache.spark.scheduler.DAGSchedulerEventProcessLoop.doOnReceive(DAGScheduler.scala:2860)\n",
      "\tat org.apache.spark.scheduler.DAGSchedulerEventProcessLoop.onReceive(DAGScheduler.scala:2802)\n",
      "\tat org.apache.spark.scheduler.DAGSchedulerEventProcessLoop.onReceive(DAGScheduler.scala:2791)\n",
      "\tat org.apache.spark.util.EventLoop$$anon$1.run(EventLoop.scala:49)\n",
      "\tat org.apache.spark.scheduler.DAGScheduler.runJob(DAGScheduler.scala:952)\n",
      "\tat org.apache.spark.SparkContext.runJob(SparkContext.scala:2228)\n",
      "\tat org.apache.spark.SparkContext.runJob(SparkContext.scala:2249)\n",
      "\tat org.apache.spark.SparkContext.runJob(SparkContext.scala:2268)\n",
      "\tat org.apache.spark.SparkContext.runJob(SparkContext.scala:2293)\n",
      "\tat org.apache.spark.rdd.RDD.$anonfun$collect$1(RDD.scala:1021)\n",
      "\tat org.apache.spark.rdd.RDDOperationScope$.withScope(RDDOperationScope.scala:151)\n",
      "\tat org.apache.spark.rdd.RDDOperationScope$.withScope(RDDOperationScope.scala:112)\n",
      "\tat org.apache.spark.rdd.RDD.withScope(RDD.scala:406)\n",
      "\tat org.apache.spark.rdd.RDD.collect(RDD.scala:1020)\n",
      "\tat org.apache.spark.rdd.PairRDDFunctions.$anonfun$collectAsMap$1(PairRDDFunctions.scala:738)\n",
      "\tat org.apache.spark.rdd.RDDOperationScope$.withScope(RDDOperationScope.scala:151)\n",
      "\tat org.apache.spark.rdd.RDDOperationScope$.withScope(RDDOperationScope.scala:112)\n",
      "\tat org.apache.spark.rdd.RDD.withScope(RDD.scala:406)\n",
      "\tat org.apache.spark.rdd.PairRDDFunctions.collectAsMap(PairRDDFunctions.scala:737)\n",
      "\tat org.apache.spark.ml.tree.impl.RandomForest$.findBestSplits(RandomForest.scala:663)\n",
      "\tat org.apache.spark.ml.tree.impl.RandomForest$.runBagged(RandomForest.scala:208)\n",
      "\tat org.apache.spark.ml.tree.impl.RandomForest$.run(RandomForest.scala:302)\n",
      "\tat org.apache.spark.ml.classification.RandomForestClassifier.$anonfun$train$1(RandomForestClassifier.scala:161)\n",
      "\tat org.apache.spark.ml.util.Instrumentation$.$anonfun$instrumented$1(Instrumentation.scala:191)\n",
      "\tat scala.util.Try$.apply(Try.scala:213)\n",
      "\tat org.apache.spark.ml.util.Instrumentation$.instrumented(Instrumentation.scala:191)\n",
      "\tat org.apache.spark.ml.classification.RandomForestClassifier.train(RandomForestClassifier.scala:138)\n",
      "\tat org.apache.spark.ml.classification.RandomForestClassifier.train(RandomForestClassifier.scala:46)\n",
      "\tat org.apache.spark.ml.Predictor.fit(Predictor.scala:151)\n",
      "\tat java.base/jdk.internal.reflect.NativeMethodAccessorImpl.invoke0(Native Method)\n",
      "\tat java.base/jdk.internal.reflect.NativeMethodAccessorImpl.invoke(NativeMethodAccessorImpl.java:77)\n",
      "\tat java.base/jdk.internal.reflect.DelegatingMethodAccessorImpl.invoke(DelegatingMethodAccessorImpl.java:43)\n",
      "\tat java.base/java.lang.reflect.Method.invoke(Method.java:568)\n",
      "\tat py4j.reflection.MethodInvoker.invoke(MethodInvoker.java:244)\n",
      "\tat py4j.reflection.ReflectionEngine.invoke(ReflectionEngine.java:357)\n",
      "\tat py4j.Gateway.invoke(Gateway.java:282)\n",
      "\tat py4j.commands.AbstractCommand.invokeMethod(AbstractCommand.java:132)\n",
      "\tat py4j.commands.CallCommand.execute(CallCommand.java:79)\n",
      "\tat py4j.ClientServerConnection.waitForCommands(ClientServerConnection.java:182)\n",
      "\tat py4j.ClientServerConnection.run(ClientServerConnection.java:106)\n",
      "\tat java.base/java.lang.Thread.run(Thread.java:833)\n",
      "Caused by: java.lang.OutOfMemoryError: Java heap space\n",
      "\n",
      "22/12/04 19:06:57 WARN BlockManager: Putting block rdd_265_10 failed due to exception org.apache.spark.TaskKilledException.\n",
      "22/12/04 19:06:57 WARN BlockManager: Block rdd_265_10 could not be removed as it was not found on disk or in memory\n",
      "22/12/04 19:06:57 WARN TaskSetManager: Lost task 4.0 in stage 73.0 (TID 693) (poojas-mbp.fios-router.home executor driver): TaskKilled (Stage cancelled)\n",
      "22/12/04 19:06:57 WARN BlockManager: Putting block rdd_265_9 failed due to exception org.apache.spark.TaskKilledException.\n",
      "22/12/04 19:06:57 WARN BlockManager: Block rdd_265_9 could not be removed as it was not found on disk or in memory\n",
      "22/12/04 19:06:57 WARN TaskSetManager: Lost task 10.0 in stage 73.0 (TID 699) (poojas-mbp.fios-router.home executor driver): TaskKilled (Stage cancelled)\n",
      "22/12/04 19:06:57 WARN TaskSetManager: Lost task 9.0 in stage 73.0 (TID 698) (poojas-mbp.fios-router.home executor driver): TaskKilled (Stage cancelled)\n",
      "22/12/04 19:06:57 WARN TaskSetManager: Lost task 3.0 in stage 73.0 (TID 692) (poojas-mbp.fios-router.home executor driver): TaskKilled (Stage cancelled)\n",
      "22/12/04 19:06:57 ERROR Utils: Uncaught exception in thread Executor task launch worker for task 12.0 in stage 73.0 (TID 701)\n",
      "java.lang.NullPointerException: Cannot invoke \"org.apache.spark.SparkEnv.blockManager()\" because the return value of \"org.apache.spark.SparkEnv$.get()\" is null\n",
      "\tat org.apache.spark.scheduler.Task.$anonfun$run$3(Task.scala:157)\n",
      "\tat org.apache.spark.util.Utils$.tryLogNonFatalError(Utils.scala:1484)\n",
      "\tat org.apache.spark.scheduler.Task.run(Task.scala:155)\n",
      "\tat org.apache.spark.executor.Executor$TaskRunner.$anonfun$run$3(Executor.scala:548)\n",
      "\tat org.apache.spark.util.Utils$.tryWithSafeFinally(Utils.scala:1504)\n",
      "\tat org.apache.spark.executor.Executor$TaskRunner.run(Executor.scala:551)\n",
      "\tat java.base/java.util.concurrent.ThreadPoolExecutor.runWorker(ThreadPoolExecutor.java:1136)\n",
      "\tat java.base/java.util.concurrent.ThreadPoolExecutor$Worker.run(ThreadPoolExecutor.java:635)\n",
      "\tat java.base/java.lang.Thread.run(Thread.java:833)\n",
      "22/12/04 19:06:57 ERROR Utils: Uncaught exception in thread Executor task launch worker for task 11.0 in stage 73.0 (TID 700)\n",
      "java.lang.NullPointerException: Cannot invoke \"org.apache.spark.SparkEnv.blockManager()\" because the return value of \"org.apache.spark.SparkEnv$.get()\" is null\n",
      "\tat org.apache.spark.scheduler.Task.$anonfun$run$3(Task.scala:157)\n",
      "\tat org.apache.spark.util.Utils$.tryLogNonFatalError(Utils.scala:1484)\n",
      "\tat org.apache.spark.scheduler.Task.run(Task.scala:155)\n",
      "\tat org.apache.spark.executor.Executor$TaskRunner.$anonfun$run$3(Executor.scala:548)\n",
      "\tat org.apache.spark.util.Utils$.tryWithSafeFinally(Utils.scala:1504)\n",
      "\tat org.apache.spark.executor.Executor$TaskRunner.run(Executor.scala:551)\n",
      "\tat java.base/java.util.concurrent.ThreadPoolExecutor.runWorker(ThreadPoolExecutor.java:1136)\n",
      "\tat java.base/java.util.concurrent.ThreadPoolExecutor$Worker.run(ThreadPoolExecutor.java:635)\n",
      "\tat java.base/java.lang.Thread.run(Thread.java:833)\n"
     ]
    },
    {
     "name": "stderr",
     "output_type": "stream",
     "text": [
      "----------------------------------------\n",
      "Exception occurred during processing of request from ('127.0.0.1', 49446)\n",
      "ERROR:root:Exception while sending command.\n",
      "Traceback (most recent call last):\n",
      "  File \"/Users/poojaakki/opt/anaconda3/lib/python3.9/site-packages/IPython/core/interactiveshell.py\", line 3369, in run_code\n",
      "    exec(code_obj, self.user_global_ns, self.user_ns)\n",
      "  File \"/var/folders/s6/3zpv69vn7939njdmq8qdwbrm0000gn/T/ipykernel_1036/1782348987.py\", line 1, in <cell line: 1>\n",
      "    rf_model= rf_pipe.fit(train)\n",
      "  File \"/Users/poojaakki/opt/anaconda3/lib/python3.9/site-packages/pyspark/ml/base.py\", line 205, in fit\n",
      "    return self._fit(dataset)\n",
      "  File \"/Users/poojaakki/opt/anaconda3/lib/python3.9/site-packages/pyspark/ml/pipeline.py\", line 134, in _fit\n",
      "    model = stage.fit(dataset)\n",
      "  File \"/Users/poojaakki/opt/anaconda3/lib/python3.9/site-packages/pyspark/ml/base.py\", line 205, in fit\n",
      "    return self._fit(dataset)\n",
      "  File \"/Users/poojaakki/opt/anaconda3/lib/python3.9/site-packages/pyspark/ml/wrapper.py\", line 379, in _fit\n",
      "    java_model = self._fit_java(dataset)\n",
      "  File \"/Users/poojaakki/opt/anaconda3/lib/python3.9/site-packages/pyspark/ml/wrapper.py\", line 376, in _fit_java\n",
      "    return self._java_obj.fit(dataset._jdf)\n",
      "  File \"/Users/poojaakki/opt/anaconda3/lib/python3.9/site-packages/py4j/java_gateway.py\", line 1321, in __call__\n",
      "    return_value = get_return_value(\n",
      "  File \"/Users/poojaakki/opt/anaconda3/lib/python3.9/site-packages/pyspark/sql/utils.py\", line 190, in deco\n",
      "    return f(*a, **kw)\n",
      "  File \"/Users/poojaakki/opt/anaconda3/lib/python3.9/site-packages/py4j/protocol.py\", line 326, in get_return_value\n",
      "    raise Py4JJavaError(\n",
      "py4j.protocol.Py4JJavaError: <unprintable Py4JJavaError object>\n",
      "\n",
      "During handling of the above exception, another exception occurred:\n",
      "\n",
      "Traceback (most recent call last):\n",
      "  File \"/Users/poojaakki/opt/anaconda3/lib/python3.9/site-packages/py4j/clientserver.py\", line 516, in send_command\n",
      "    raise Py4JNetworkError(\"Answer from Java side is empty\")\n",
      "py4j.protocol.Py4JNetworkError: Answer from Java side is empty\n",
      "\n",
      "During handling of the above exception, another exception occurred:\n",
      "\n",
      "Traceback (most recent call last):\n",
      "  File \"/Users/poojaakki/opt/anaconda3/lib/python3.9/site-packages/py4j/java_gateway.py\", line 1038, in send_command\n",
      "    response = connection.send_command(command)\n",
      "  File \"/Users/poojaakki/opt/anaconda3/lib/python3.9/site-packages/py4j/clientserver.py\", line 539, in send_command\n",
      "    raise Py4JNetworkError(\n",
      "py4j.protocol.Py4JNetworkError: Error while sending or receiving\n",
      "Traceback (most recent call last):\n",
      "  File \"/Users/poojaakki/opt/anaconda3/lib/python3.9/socketserver.py\", line 316, in _handle_request_noblock\n",
      "    self.process_request(request, client_address)\n",
      "  File \"/Users/poojaakki/opt/anaconda3/lib/python3.9/socketserver.py\", line 347, in process_request\n",
      "    self.finish_request(request, client_address)\n",
      "  File \"/Users/poojaakki/opt/anaconda3/lib/python3.9/socketserver.py\", line 360, in finish_request\n",
      "    self.RequestHandlerClass(request, client_address, self)\n",
      "  File \"/Users/poojaakki/opt/anaconda3/lib/python3.9/socketserver.py\", line 747, in __init__\n",
      "    self.handle()\n",
      "  File \"/Users/poojaakki/opt/anaconda3/lib/python3.9/site-packages/pyspark/accumulators.py\", line 281, in handle\n",
      "    poll(accum_updates)\n",
      "  File \"/Users/poojaakki/opt/anaconda3/lib/python3.9/site-packages/pyspark/accumulators.py\", line 253, in poll\n",
      "    if func():\n",
      "  File \"/Users/poojaakki/opt/anaconda3/lib/python3.9/site-packages/pyspark/accumulators.py\", line 257, in accum_updates\n",
      "    num_updates = read_int(self.rfile)\n",
      "  File \"/Users/poojaakki/opt/anaconda3/lib/python3.9/site-packages/pyspark/serializers.py\", line 595, in read_int\n",
      "    raise EOFError\n",
      "EOFError\n",
      "----------------------------------------\n"
     ]
    },
    {
     "ename": "ConnectionRefusedError",
     "evalue": "[Errno 61] Connection refused",
     "output_type": "error",
     "traceback": [
      "\u001b[0;31m---------------------------------------------------------------------------\u001b[0m",
      "\u001b[0;31mPy4JJavaError\u001b[0m                             Traceback (most recent call last)",
      "    \u001b[0;31m[... skipping hidden 1 frame]\u001b[0m\n",
      "Input \u001b[0;32mIn [36]\u001b[0m, in \u001b[0;36m<cell line: 1>\u001b[0;34m()\u001b[0m\n\u001b[0;32m----> 1\u001b[0m rf_model\u001b[38;5;241m=\u001b[39m \u001b[43mrf_pipe\u001b[49m\u001b[38;5;241;43m.\u001b[39;49m\u001b[43mfit\u001b[49m\u001b[43m(\u001b[49m\u001b[43mtrain\u001b[49m\u001b[43m)\u001b[49m\n",
      "File \u001b[0;32m~/opt/anaconda3/lib/python3.9/site-packages/pyspark/ml/base.py:205\u001b[0m, in \u001b[0;36mEstimator.fit\u001b[0;34m(self, dataset, params)\u001b[0m\n\u001b[1;32m    204\u001b[0m     \u001b[38;5;28;01melse\u001b[39;00m:\n\u001b[0;32m--> 205\u001b[0m         \u001b[38;5;28;01mreturn\u001b[39;00m \u001b[38;5;28;43mself\u001b[39;49m\u001b[38;5;241;43m.\u001b[39;49m\u001b[43m_fit\u001b[49m\u001b[43m(\u001b[49m\u001b[43mdataset\u001b[49m\u001b[43m)\u001b[49m\n\u001b[1;32m    206\u001b[0m \u001b[38;5;28;01melse\u001b[39;00m:\n",
      "File \u001b[0;32m~/opt/anaconda3/lib/python3.9/site-packages/pyspark/ml/pipeline.py:134\u001b[0m, in \u001b[0;36mPipeline._fit\u001b[0;34m(self, dataset)\u001b[0m\n\u001b[1;32m    133\u001b[0m \u001b[38;5;28;01melse\u001b[39;00m:  \u001b[38;5;66;03m# must be an Estimator\u001b[39;00m\n\u001b[0;32m--> 134\u001b[0m     model \u001b[38;5;241m=\u001b[39m \u001b[43mstage\u001b[49m\u001b[38;5;241;43m.\u001b[39;49m\u001b[43mfit\u001b[49m\u001b[43m(\u001b[49m\u001b[43mdataset\u001b[49m\u001b[43m)\u001b[49m\n\u001b[1;32m    135\u001b[0m     transformers\u001b[38;5;241m.\u001b[39mappend(model)\n",
      "File \u001b[0;32m~/opt/anaconda3/lib/python3.9/site-packages/pyspark/ml/base.py:205\u001b[0m, in \u001b[0;36mEstimator.fit\u001b[0;34m(self, dataset, params)\u001b[0m\n\u001b[1;32m    204\u001b[0m     \u001b[38;5;28;01melse\u001b[39;00m:\n\u001b[0;32m--> 205\u001b[0m         \u001b[38;5;28;01mreturn\u001b[39;00m \u001b[38;5;28;43mself\u001b[39;49m\u001b[38;5;241;43m.\u001b[39;49m\u001b[43m_fit\u001b[49m\u001b[43m(\u001b[49m\u001b[43mdataset\u001b[49m\u001b[43m)\u001b[49m\n\u001b[1;32m    206\u001b[0m \u001b[38;5;28;01melse\u001b[39;00m:\n",
      "File \u001b[0;32m~/opt/anaconda3/lib/python3.9/site-packages/pyspark/ml/wrapper.py:379\u001b[0m, in \u001b[0;36mJavaEstimator._fit\u001b[0;34m(self, dataset)\u001b[0m\n\u001b[1;32m    378\u001b[0m \u001b[38;5;28;01mdef\u001b[39;00m \u001b[38;5;21m_fit\u001b[39m(\u001b[38;5;28mself\u001b[39m, dataset: DataFrame) \u001b[38;5;241m-\u001b[39m\u001b[38;5;241m>\u001b[39m JM:\n\u001b[0;32m--> 379\u001b[0m     java_model \u001b[38;5;241m=\u001b[39m \u001b[38;5;28;43mself\u001b[39;49m\u001b[38;5;241;43m.\u001b[39;49m\u001b[43m_fit_java\u001b[49m\u001b[43m(\u001b[49m\u001b[43mdataset\u001b[49m\u001b[43m)\u001b[49m\n\u001b[1;32m    380\u001b[0m     model \u001b[38;5;241m=\u001b[39m \u001b[38;5;28mself\u001b[39m\u001b[38;5;241m.\u001b[39m_create_model(java_model)\n",
      "File \u001b[0;32m~/opt/anaconda3/lib/python3.9/site-packages/pyspark/ml/wrapper.py:376\u001b[0m, in \u001b[0;36mJavaEstimator._fit_java\u001b[0;34m(self, dataset)\u001b[0m\n\u001b[1;32m    375\u001b[0m \u001b[38;5;28mself\u001b[39m\u001b[38;5;241m.\u001b[39m_transfer_params_to_java()\n\u001b[0;32m--> 376\u001b[0m \u001b[38;5;28;01mreturn\u001b[39;00m \u001b[38;5;28;43mself\u001b[39;49m\u001b[38;5;241;43m.\u001b[39;49m\u001b[43m_java_obj\u001b[49m\u001b[38;5;241;43m.\u001b[39;49m\u001b[43mfit\u001b[49m\u001b[43m(\u001b[49m\u001b[43mdataset\u001b[49m\u001b[38;5;241;43m.\u001b[39;49m\u001b[43m_jdf\u001b[49m\u001b[43m)\u001b[49m\n",
      "File \u001b[0;32m~/opt/anaconda3/lib/python3.9/site-packages/py4j/java_gateway.py:1321\u001b[0m, in \u001b[0;36mJavaMember.__call__\u001b[0;34m(self, *args)\u001b[0m\n\u001b[1;32m   1320\u001b[0m answer \u001b[38;5;241m=\u001b[39m \u001b[38;5;28mself\u001b[39m\u001b[38;5;241m.\u001b[39mgateway_client\u001b[38;5;241m.\u001b[39msend_command(command)\n\u001b[0;32m-> 1321\u001b[0m return_value \u001b[38;5;241m=\u001b[39m \u001b[43mget_return_value\u001b[49m\u001b[43m(\u001b[49m\n\u001b[1;32m   1322\u001b[0m \u001b[43m    \u001b[49m\u001b[43manswer\u001b[49m\u001b[43m,\u001b[49m\u001b[43m \u001b[49m\u001b[38;5;28;43mself\u001b[39;49m\u001b[38;5;241;43m.\u001b[39;49m\u001b[43mgateway_client\u001b[49m\u001b[43m,\u001b[49m\u001b[43m \u001b[49m\u001b[38;5;28;43mself\u001b[39;49m\u001b[38;5;241;43m.\u001b[39;49m\u001b[43mtarget_id\u001b[49m\u001b[43m,\u001b[49m\u001b[43m \u001b[49m\u001b[38;5;28;43mself\u001b[39;49m\u001b[38;5;241;43m.\u001b[39;49m\u001b[43mname\u001b[49m\u001b[43m)\u001b[49m\n\u001b[1;32m   1324\u001b[0m \u001b[38;5;28;01mfor\u001b[39;00m temp_arg \u001b[38;5;129;01min\u001b[39;00m temp_args:\n",
      "File \u001b[0;32m~/opt/anaconda3/lib/python3.9/site-packages/pyspark/sql/utils.py:190\u001b[0m, in \u001b[0;36mcapture_sql_exception.<locals>.deco\u001b[0;34m(*a, **kw)\u001b[0m\n\u001b[1;32m    189\u001b[0m \u001b[38;5;28;01mtry\u001b[39;00m:\n\u001b[0;32m--> 190\u001b[0m     \u001b[38;5;28;01mreturn\u001b[39;00m \u001b[43mf\u001b[49m\u001b[43m(\u001b[49m\u001b[38;5;241;43m*\u001b[39;49m\u001b[43ma\u001b[49m\u001b[43m,\u001b[49m\u001b[43m \u001b[49m\u001b[38;5;241;43m*\u001b[39;49m\u001b[38;5;241;43m*\u001b[39;49m\u001b[43mkw\u001b[49m\u001b[43m)\u001b[49m\n\u001b[1;32m    191\u001b[0m \u001b[38;5;28;01mexcept\u001b[39;00m Py4JJavaError \u001b[38;5;28;01mas\u001b[39;00m e:\n",
      "File \u001b[0;32m~/opt/anaconda3/lib/python3.9/site-packages/py4j/protocol.py:326\u001b[0m, in \u001b[0;36mget_return_value\u001b[0;34m(answer, gateway_client, target_id, name)\u001b[0m\n\u001b[1;32m    325\u001b[0m \u001b[38;5;28;01mif\u001b[39;00m answer[\u001b[38;5;241m1\u001b[39m] \u001b[38;5;241m==\u001b[39m REFERENCE_TYPE:\n\u001b[0;32m--> 326\u001b[0m     \u001b[38;5;28;01mraise\u001b[39;00m Py4JJavaError(\n\u001b[1;32m    327\u001b[0m         \u001b[38;5;124m\"\u001b[39m\u001b[38;5;124mAn error occurred while calling \u001b[39m\u001b[38;5;132;01m{0}\u001b[39;00m\u001b[38;5;132;01m{1}\u001b[39;00m\u001b[38;5;132;01m{2}\u001b[39;00m\u001b[38;5;124m.\u001b[39m\u001b[38;5;130;01m\\n\u001b[39;00m\u001b[38;5;124m\"\u001b[39m\u001b[38;5;241m.\u001b[39m\n\u001b[1;32m    328\u001b[0m         \u001b[38;5;28mformat\u001b[39m(target_id, \u001b[38;5;124m\"\u001b[39m\u001b[38;5;124m.\u001b[39m\u001b[38;5;124m\"\u001b[39m, name), value)\n\u001b[1;32m    329\u001b[0m \u001b[38;5;28;01melse\u001b[39;00m:\n",
      "\u001b[0;31m<class 'str'>\u001b[0m: (<class 'ConnectionRefusedError'>, ConnectionRefusedError(61, 'Connection refused'))",
      "\nDuring handling of the above exception, another exception occurred:\n",
      "\u001b[0;31mConnectionRefusedError\u001b[0m                    Traceback (most recent call last)",
      "    \u001b[0;31m[... skipping hidden 1 frame]\u001b[0m\n",
      "File \u001b[0;32m~/opt/anaconda3/lib/python3.9/site-packages/IPython/core/interactiveshell.py:1993\u001b[0m, in \u001b[0;36mInteractiveShell.showtraceback\u001b[0;34m(self, exc_tuple, filename, tb_offset, exception_only, running_compiled_code)\u001b[0m\n\u001b[1;32m   1990\u001b[0m     traceback\u001b[38;5;241m.\u001b[39mprint_exc()\n\u001b[1;32m   1991\u001b[0m     \u001b[38;5;28;01mreturn\u001b[39;00m \u001b[38;5;28;01mNone\u001b[39;00m\n\u001b[0;32m-> 1993\u001b[0m \u001b[38;5;28;43mself\u001b[39;49m\u001b[38;5;241;43m.\u001b[39;49m\u001b[43m_showtraceback\u001b[49m\u001b[43m(\u001b[49m\u001b[43metype\u001b[49m\u001b[43m,\u001b[49m\u001b[43m \u001b[49m\u001b[43mvalue\u001b[49m\u001b[43m,\u001b[49m\u001b[43m \u001b[49m\u001b[43mstb\u001b[49m\u001b[43m)\u001b[49m\n\u001b[1;32m   1994\u001b[0m \u001b[38;5;28;01mif\u001b[39;00m \u001b[38;5;28mself\u001b[39m\u001b[38;5;241m.\u001b[39mcall_pdb:\n\u001b[1;32m   1995\u001b[0m     \u001b[38;5;66;03m# drop into debugger\u001b[39;00m\n\u001b[1;32m   1996\u001b[0m     \u001b[38;5;28mself\u001b[39m\u001b[38;5;241m.\u001b[39mdebugger(force\u001b[38;5;241m=\u001b[39m\u001b[38;5;28;01mTrue\u001b[39;00m)\n",
      "File \u001b[0;32m~/opt/anaconda3/lib/python3.9/site-packages/ipykernel/zmqshell.py:542\u001b[0m, in \u001b[0;36mZMQInteractiveShell._showtraceback\u001b[0;34m(self, etype, evalue, stb)\u001b[0m\n\u001b[1;32m    536\u001b[0m sys\u001b[38;5;241m.\u001b[39mstdout\u001b[38;5;241m.\u001b[39mflush()\n\u001b[1;32m    537\u001b[0m sys\u001b[38;5;241m.\u001b[39mstderr\u001b[38;5;241m.\u001b[39mflush()\n\u001b[1;32m    539\u001b[0m exc_content \u001b[38;5;241m=\u001b[39m {\n\u001b[1;32m    540\u001b[0m     \u001b[38;5;124m'\u001b[39m\u001b[38;5;124mtraceback\u001b[39m\u001b[38;5;124m'\u001b[39m : stb,\n\u001b[1;32m    541\u001b[0m     \u001b[38;5;124m'\u001b[39m\u001b[38;5;124mename\u001b[39m\u001b[38;5;124m'\u001b[39m : \u001b[38;5;28mstr\u001b[39m(etype\u001b[38;5;241m.\u001b[39m\u001b[38;5;18m__name__\u001b[39m),\n\u001b[0;32m--> 542\u001b[0m     \u001b[38;5;124m'\u001b[39m\u001b[38;5;124mevalue\u001b[39m\u001b[38;5;124m'\u001b[39m : \u001b[38;5;28;43mstr\u001b[39;49m\u001b[43m(\u001b[49m\u001b[43mevalue\u001b[49m\u001b[43m)\u001b[49m,\n\u001b[1;32m    543\u001b[0m }\n\u001b[1;32m    545\u001b[0m dh \u001b[38;5;241m=\u001b[39m \u001b[38;5;28mself\u001b[39m\u001b[38;5;241m.\u001b[39mdisplayhook\n\u001b[1;32m    546\u001b[0m \u001b[38;5;66;03m# Send exception info over pub socket for other clients than the caller\u001b[39;00m\n\u001b[1;32m    547\u001b[0m \u001b[38;5;66;03m# to pick up\u001b[39;00m\n",
      "File \u001b[0;32m~/opt/anaconda3/lib/python3.9/site-packages/py4j/protocol.py:471\u001b[0m, in \u001b[0;36mPy4JJavaError.__str__\u001b[0;34m(self)\u001b[0m\n\u001b[1;32m    469\u001b[0m \u001b[38;5;28;01mdef\u001b[39;00m \u001b[38;5;21m__str__\u001b[39m(\u001b[38;5;28mself\u001b[39m):\n\u001b[1;32m    470\u001b[0m     gateway_client \u001b[38;5;241m=\u001b[39m \u001b[38;5;28mself\u001b[39m\u001b[38;5;241m.\u001b[39mjava_exception\u001b[38;5;241m.\u001b[39m_gateway_client\n\u001b[0;32m--> 471\u001b[0m     answer \u001b[38;5;241m=\u001b[39m \u001b[43mgateway_client\u001b[49m\u001b[38;5;241;43m.\u001b[39;49m\u001b[43msend_command\u001b[49m\u001b[43m(\u001b[49m\u001b[38;5;28;43mself\u001b[39;49m\u001b[38;5;241;43m.\u001b[39;49m\u001b[43mexception_cmd\u001b[49m\u001b[43m)\u001b[49m\n\u001b[1;32m    472\u001b[0m     return_value \u001b[38;5;241m=\u001b[39m get_return_value(answer, gateway_client, \u001b[38;5;28;01mNone\u001b[39;00m, \u001b[38;5;28;01mNone\u001b[39;00m)\n\u001b[1;32m    473\u001b[0m     \u001b[38;5;66;03m# Note: technically this should return a bytestring 'str' rather than\u001b[39;00m\n\u001b[1;32m    474\u001b[0m     \u001b[38;5;66;03m# unicodes in Python 2; however, it can return unicodes for now.\u001b[39;00m\n\u001b[1;32m    475\u001b[0m     \u001b[38;5;66;03m# See https://github.com/bartdag/py4j/issues/306 for more details.\u001b[39;00m\n",
      "File \u001b[0;32m~/opt/anaconda3/lib/python3.9/site-packages/py4j/java_gateway.py:1036\u001b[0m, in \u001b[0;36mGatewayClient.send_command\u001b[0;34m(self, command, retry, binary)\u001b[0m\n\u001b[1;32m   1015\u001b[0m \u001b[38;5;28;01mdef\u001b[39;00m \u001b[38;5;21msend_command\u001b[39m(\u001b[38;5;28mself\u001b[39m, command, retry\u001b[38;5;241m=\u001b[39m\u001b[38;5;28;01mTrue\u001b[39;00m, binary\u001b[38;5;241m=\u001b[39m\u001b[38;5;28;01mFalse\u001b[39;00m):\n\u001b[1;32m   1016\u001b[0m     \u001b[38;5;124;03m\"\"\"Sends a command to the JVM. This method is not intended to be\u001b[39;00m\n\u001b[1;32m   1017\u001b[0m \u001b[38;5;124;03m       called directly by Py4J users. It is usually called by\u001b[39;00m\n\u001b[1;32m   1018\u001b[0m \u001b[38;5;124;03m       :class:`JavaMember` instances.\u001b[39;00m\n\u001b[0;32m   (...)\u001b[0m\n\u001b[1;32m   1034\u001b[0m \u001b[38;5;124;03m     if `binary` is `True`.\u001b[39;00m\n\u001b[1;32m   1035\u001b[0m \u001b[38;5;124;03m    \"\"\"\u001b[39;00m\n\u001b[0;32m-> 1036\u001b[0m     connection \u001b[38;5;241m=\u001b[39m \u001b[38;5;28;43mself\u001b[39;49m\u001b[38;5;241;43m.\u001b[39;49m\u001b[43m_get_connection\u001b[49m\u001b[43m(\u001b[49m\u001b[43m)\u001b[49m\n\u001b[1;32m   1037\u001b[0m     \u001b[38;5;28;01mtry\u001b[39;00m:\n\u001b[1;32m   1038\u001b[0m         response \u001b[38;5;241m=\u001b[39m connection\u001b[38;5;241m.\u001b[39msend_command(command)\n",
      "File \u001b[0;32m~/opt/anaconda3/lib/python3.9/site-packages/py4j/clientserver.py:284\u001b[0m, in \u001b[0;36mJavaClient._get_connection\u001b[0;34m(self)\u001b[0m\n\u001b[1;32m    281\u001b[0m     \u001b[38;5;28;01mpass\u001b[39;00m\n\u001b[1;32m    283\u001b[0m \u001b[38;5;28;01mif\u001b[39;00m connection \u001b[38;5;129;01mis\u001b[39;00m \u001b[38;5;28;01mNone\u001b[39;00m \u001b[38;5;129;01mor\u001b[39;00m connection\u001b[38;5;241m.\u001b[39msocket \u001b[38;5;129;01mis\u001b[39;00m \u001b[38;5;28;01mNone\u001b[39;00m:\n\u001b[0;32m--> 284\u001b[0m     connection \u001b[38;5;241m=\u001b[39m \u001b[38;5;28;43mself\u001b[39;49m\u001b[38;5;241;43m.\u001b[39;49m\u001b[43m_create_new_connection\u001b[49m\u001b[43m(\u001b[49m\u001b[43m)\u001b[49m\n\u001b[1;32m    285\u001b[0m \u001b[38;5;28;01mreturn\u001b[39;00m connection\n",
      "File \u001b[0;32m~/opt/anaconda3/lib/python3.9/site-packages/py4j/clientserver.py:291\u001b[0m, in \u001b[0;36mJavaClient._create_new_connection\u001b[0;34m(self)\u001b[0m\n\u001b[1;32m    287\u001b[0m \u001b[38;5;28;01mdef\u001b[39;00m \u001b[38;5;21m_create_new_connection\u001b[39m(\u001b[38;5;28mself\u001b[39m):\n\u001b[1;32m    288\u001b[0m     connection \u001b[38;5;241m=\u001b[39m ClientServerConnection(\n\u001b[1;32m    289\u001b[0m         \u001b[38;5;28mself\u001b[39m\u001b[38;5;241m.\u001b[39mjava_parameters, \u001b[38;5;28mself\u001b[39m\u001b[38;5;241m.\u001b[39mpython_parameters,\n\u001b[1;32m    290\u001b[0m         \u001b[38;5;28mself\u001b[39m\u001b[38;5;241m.\u001b[39mgateway_property, \u001b[38;5;28mself\u001b[39m)\n\u001b[0;32m--> 291\u001b[0m     \u001b[43mconnection\u001b[49m\u001b[38;5;241;43m.\u001b[39;49m\u001b[43mconnect_to_java_server\u001b[49m\u001b[43m(\u001b[49m\u001b[43m)\u001b[49m\n\u001b[1;32m    292\u001b[0m     \u001b[38;5;28mself\u001b[39m\u001b[38;5;241m.\u001b[39mset_thread_connection(connection)\n\u001b[1;32m    293\u001b[0m     \u001b[38;5;28;01mreturn\u001b[39;00m connection\n",
      "File \u001b[0;32m~/opt/anaconda3/lib/python3.9/site-packages/py4j/clientserver.py:438\u001b[0m, in \u001b[0;36mClientServerConnection.connect_to_java_server\u001b[0;34m(self)\u001b[0m\n\u001b[1;32m    435\u001b[0m \u001b[38;5;28;01mif\u001b[39;00m \u001b[38;5;28mself\u001b[39m\u001b[38;5;241m.\u001b[39mssl_context:\n\u001b[1;32m    436\u001b[0m     \u001b[38;5;28mself\u001b[39m\u001b[38;5;241m.\u001b[39msocket \u001b[38;5;241m=\u001b[39m \u001b[38;5;28mself\u001b[39m\u001b[38;5;241m.\u001b[39mssl_context\u001b[38;5;241m.\u001b[39mwrap_socket(\n\u001b[1;32m    437\u001b[0m         \u001b[38;5;28mself\u001b[39m\u001b[38;5;241m.\u001b[39msocket, server_hostname\u001b[38;5;241m=\u001b[39m\u001b[38;5;28mself\u001b[39m\u001b[38;5;241m.\u001b[39mjava_address)\n\u001b[0;32m--> 438\u001b[0m \u001b[38;5;28;43mself\u001b[39;49m\u001b[38;5;241;43m.\u001b[39;49m\u001b[43msocket\u001b[49m\u001b[38;5;241;43m.\u001b[39;49m\u001b[43mconnect\u001b[49m\u001b[43m(\u001b[49m\u001b[43m(\u001b[49m\u001b[38;5;28;43mself\u001b[39;49m\u001b[38;5;241;43m.\u001b[39;49m\u001b[43mjava_address\u001b[49m\u001b[43m,\u001b[49m\u001b[43m \u001b[49m\u001b[38;5;28;43mself\u001b[39;49m\u001b[38;5;241;43m.\u001b[39;49m\u001b[43mjava_port\u001b[49m\u001b[43m)\u001b[49m\u001b[43m)\u001b[49m\n\u001b[1;32m    439\u001b[0m \u001b[38;5;28mself\u001b[39m\u001b[38;5;241m.\u001b[39mstream \u001b[38;5;241m=\u001b[39m \u001b[38;5;28mself\u001b[39m\u001b[38;5;241m.\u001b[39msocket\u001b[38;5;241m.\u001b[39mmakefile(\u001b[38;5;124m\"\u001b[39m\u001b[38;5;124mrb\u001b[39m\u001b[38;5;124m\"\u001b[39m)\n\u001b[1;32m    440\u001b[0m \u001b[38;5;28mself\u001b[39m\u001b[38;5;241m.\u001b[39mis_connected \u001b[38;5;241m=\u001b[39m \u001b[38;5;28;01mTrue\u001b[39;00m\n",
      "\u001b[0;31mConnectionRefusedError\u001b[0m: [Errno 61] Connection refused"
     ]
    },
    {
     "name": "stderr",
     "output_type": "stream",
     "text": [
      "ERROR:root:Exception while sending command.\n",
      "Traceback (most recent call last):\n",
      "  File \"/Users/poojaakki/opt/anaconda3/lib/python3.9/site-packages/py4j/clientserver.py\", line 511, in send_command\n",
      "    answer = smart_decode(self.stream.readline()[:-1])\n",
      "  File \"/Users/poojaakki/opt/anaconda3/lib/python3.9/socket.py\", line 704, in readinto\n",
      "    return self._sock.recv_into(b)\n",
      "ConnectionResetError: [Errno 54] Connection reset by peer\n",
      "\n",
      "During handling of the above exception, another exception occurred:\n",
      "\n",
      "Traceback (most recent call last):\n",
      "  File \"/Users/poojaakki/opt/anaconda3/lib/python3.9/site-packages/py4j/java_gateway.py\", line 1038, in send_command\n",
      "    response = connection.send_command(command)\n",
      "  File \"/Users/poojaakki/opt/anaconda3/lib/python3.9/site-packages/py4j/clientserver.py\", line 539, in send_command\n",
      "    raise Py4JNetworkError(\n",
      "py4j.protocol.Py4JNetworkError: Error while sending or receiving\n"
     ]
    }
   ],
   "source": [
    "rf_model= rf_pipe.fit(train)"
   ]
  },
  {
   "cell_type": "markdown",
   "id": "86affca1-a778-4097-9d45-9de30737e5b4",
   "metadata": {},
   "source": [
    "## Fake News Detection (You Tube)"
   ]
  },
  {
   "cell_type": "code",
   "execution_count": 37,
   "id": "b65f0581-6f01-4eba-abc9-6cd352f05537",
   "metadata": {},
   "outputs": [],
   "source": [
    "import pandas as pd\n",
    "import numpy as np\n",
    "from sklearn.model_selection import train_test_split\n",
    "from sklearn.metrics import classification_report\n",
    "import re\n",
    "import string"
   ]
  },
  {
   "cell_type": "code",
   "execution_count": 38,
   "id": "43a51c4b-da36-453d-aa15-b84698203410",
   "metadata": {},
   "outputs": [],
   "source": [
    "df_fake = pd.read_csv(\"./datasets/kaggle/Fake.csv\")\n",
    "df_true = pd.read_csv(\"./datasets/kaggle/True.csv\")"
   ]
  },
  {
   "cell_type": "code",
   "execution_count": 39,
   "id": "6c8370ae-3d0e-47c4-8f6c-e803cb22430d",
   "metadata": {},
   "outputs": [
    {
     "data": {
      "text/html": [
       "<div>\n",
       "<style scoped>\n",
       "    .dataframe tbody tr th:only-of-type {\n",
       "        vertical-align: middle;\n",
       "    }\n",
       "\n",
       "    .dataframe tbody tr th {\n",
       "        vertical-align: top;\n",
       "    }\n",
       "\n",
       "    .dataframe thead th {\n",
       "        text-align: right;\n",
       "    }\n",
       "</style>\n",
       "<table border=\"1\" class=\"dataframe\">\n",
       "  <thead>\n",
       "    <tr style=\"text-align: right;\">\n",
       "      <th></th>\n",
       "      <th>title</th>\n",
       "      <th>text</th>\n",
       "      <th>subject</th>\n",
       "      <th>date</th>\n",
       "    </tr>\n",
       "  </thead>\n",
       "  <tbody>\n",
       "    <tr>\n",
       "      <th>0</th>\n",
       "      <td>Donald Trump Sends Out Embarrassing New Year’...</td>\n",
       "      <td>Donald Trump just couldn t wish all Americans ...</td>\n",
       "      <td>News</td>\n",
       "      <td>December 31, 2017</td>\n",
       "    </tr>\n",
       "    <tr>\n",
       "      <th>1</th>\n",
       "      <td>Drunk Bragging Trump Staffer Started Russian ...</td>\n",
       "      <td>House Intelligence Committee Chairman Devin Nu...</td>\n",
       "      <td>News</td>\n",
       "      <td>December 31, 2017</td>\n",
       "    </tr>\n",
       "    <tr>\n",
       "      <th>2</th>\n",
       "      <td>Sheriff David Clarke Becomes An Internet Joke...</td>\n",
       "      <td>On Friday, it was revealed that former Milwauk...</td>\n",
       "      <td>News</td>\n",
       "      <td>December 30, 2017</td>\n",
       "    </tr>\n",
       "    <tr>\n",
       "      <th>3</th>\n",
       "      <td>Trump Is So Obsessed He Even Has Obama’s Name...</td>\n",
       "      <td>On Christmas day, Donald Trump announced that ...</td>\n",
       "      <td>News</td>\n",
       "      <td>December 29, 2017</td>\n",
       "    </tr>\n",
       "    <tr>\n",
       "      <th>4</th>\n",
       "      <td>Pope Francis Just Called Out Donald Trump Dur...</td>\n",
       "      <td>Pope Francis used his annual Christmas Day mes...</td>\n",
       "      <td>News</td>\n",
       "      <td>December 25, 2017</td>\n",
       "    </tr>\n",
       "  </tbody>\n",
       "</table>\n",
       "</div>"
      ],
      "text/plain": [
       "                                               title  \\\n",
       "0   Donald Trump Sends Out Embarrassing New Year’...   \n",
       "1   Drunk Bragging Trump Staffer Started Russian ...   \n",
       "2   Sheriff David Clarke Becomes An Internet Joke...   \n",
       "3   Trump Is So Obsessed He Even Has Obama’s Name...   \n",
       "4   Pope Francis Just Called Out Donald Trump Dur...   \n",
       "\n",
       "                                                text subject  \\\n",
       "0  Donald Trump just couldn t wish all Americans ...    News   \n",
       "1  House Intelligence Committee Chairman Devin Nu...    News   \n",
       "2  On Friday, it was revealed that former Milwauk...    News   \n",
       "3  On Christmas day, Donald Trump announced that ...    News   \n",
       "4  Pope Francis used his annual Christmas Day mes...    News   \n",
       "\n",
       "                date  \n",
       "0  December 31, 2017  \n",
       "1  December 31, 2017  \n",
       "2  December 30, 2017  \n",
       "3  December 29, 2017  \n",
       "4  December 25, 2017  "
      ]
     },
     "execution_count": 39,
     "metadata": {},
     "output_type": "execute_result"
    }
   ],
   "source": [
    "df_fake.head()"
   ]
  },
  {
   "cell_type": "code",
   "execution_count": 40,
   "id": "d19ec75e-2934-4e9a-946f-f7ca8d0a4967",
   "metadata": {},
   "outputs": [
    {
     "data": {
      "text/html": [
       "<div>\n",
       "<style scoped>\n",
       "    .dataframe tbody tr th:only-of-type {\n",
       "        vertical-align: middle;\n",
       "    }\n",
       "\n",
       "    .dataframe tbody tr th {\n",
       "        vertical-align: top;\n",
       "    }\n",
       "\n",
       "    .dataframe thead th {\n",
       "        text-align: right;\n",
       "    }\n",
       "</style>\n",
       "<table border=\"1\" class=\"dataframe\">\n",
       "  <thead>\n",
       "    <tr style=\"text-align: right;\">\n",
       "      <th></th>\n",
       "      <th>title</th>\n",
       "      <th>text</th>\n",
       "      <th>subject</th>\n",
       "      <th>date</th>\n",
       "    </tr>\n",
       "  </thead>\n",
       "  <tbody>\n",
       "    <tr>\n",
       "      <th>0</th>\n",
       "      <td>As U.S. budget fight looms, Republicans flip t...</td>\n",
       "      <td>WASHINGTON (Reuters) - The head of a conservat...</td>\n",
       "      <td>politicsNews</td>\n",
       "      <td>December 31, 2017</td>\n",
       "    </tr>\n",
       "    <tr>\n",
       "      <th>1</th>\n",
       "      <td>U.S. military to accept transgender recruits o...</td>\n",
       "      <td>WASHINGTON (Reuters) - Transgender people will...</td>\n",
       "      <td>politicsNews</td>\n",
       "      <td>December 29, 2017</td>\n",
       "    </tr>\n",
       "    <tr>\n",
       "      <th>2</th>\n",
       "      <td>Senior U.S. Republican senator: 'Let Mr. Muell...</td>\n",
       "      <td>WASHINGTON (Reuters) - The special counsel inv...</td>\n",
       "      <td>politicsNews</td>\n",
       "      <td>December 31, 2017</td>\n",
       "    </tr>\n",
       "    <tr>\n",
       "      <th>3</th>\n",
       "      <td>FBI Russia probe helped by Australian diplomat...</td>\n",
       "      <td>WASHINGTON (Reuters) - Trump campaign adviser ...</td>\n",
       "      <td>politicsNews</td>\n",
       "      <td>December 30, 2017</td>\n",
       "    </tr>\n",
       "    <tr>\n",
       "      <th>4</th>\n",
       "      <td>Trump wants Postal Service to charge 'much mor...</td>\n",
       "      <td>SEATTLE/WASHINGTON (Reuters) - President Donal...</td>\n",
       "      <td>politicsNews</td>\n",
       "      <td>December 29, 2017</td>\n",
       "    </tr>\n",
       "  </tbody>\n",
       "</table>\n",
       "</div>"
      ],
      "text/plain": [
       "                                               title  \\\n",
       "0  As U.S. budget fight looms, Republicans flip t...   \n",
       "1  U.S. military to accept transgender recruits o...   \n",
       "2  Senior U.S. Republican senator: 'Let Mr. Muell...   \n",
       "3  FBI Russia probe helped by Australian diplomat...   \n",
       "4  Trump wants Postal Service to charge 'much mor...   \n",
       "\n",
       "                                                text       subject  \\\n",
       "0  WASHINGTON (Reuters) - The head of a conservat...  politicsNews   \n",
       "1  WASHINGTON (Reuters) - Transgender people will...  politicsNews   \n",
       "2  WASHINGTON (Reuters) - The special counsel inv...  politicsNews   \n",
       "3  WASHINGTON (Reuters) - Trump campaign adviser ...  politicsNews   \n",
       "4  SEATTLE/WASHINGTON (Reuters) - President Donal...  politicsNews   \n",
       "\n",
       "                 date  \n",
       "0  December 31, 2017   \n",
       "1  December 29, 2017   \n",
       "2  December 31, 2017   \n",
       "3  December 30, 2017   \n",
       "4  December 29, 2017   "
      ]
     },
     "execution_count": 40,
     "metadata": {},
     "output_type": "execute_result"
    }
   ],
   "source": [
    "df_true.head()"
   ]
  },
  {
   "cell_type": "code",
   "execution_count": 41,
   "id": "1cd4ee25-9f01-4bbb-8df2-06da68ec9467",
   "metadata": {},
   "outputs": [
    {
     "data": {
      "text/plain": [
       "((23481, 4), (21417, 4))"
      ]
     },
     "execution_count": 41,
     "metadata": {},
     "output_type": "execute_result"
    }
   ],
   "source": [
    "df_fake.shape, df_true.shape"
   ]
  },
  {
   "cell_type": "code",
   "execution_count": 42,
   "id": "52934e01-cae4-45e5-921a-adf6c3fa1dce",
   "metadata": {},
   "outputs": [],
   "source": [
    "df_fake[\"class\"] = 0\n",
    "df_true[\"class\"] = 1"
   ]
  },
  {
   "cell_type": "code",
   "execution_count": 43,
   "id": "306f73d0-6946-4089-bf7b-8757ddbc6cd3",
   "metadata": {},
   "outputs": [],
   "source": [
    "df_fake_manula_tesing = df_fake.tail(10)\n",
    "for i in range(23480, 23470, -1):\n",
    "    df_fake.drop([i],axis=0, inplace=True)\n",
    "df_true_manual_testing = df_true.tail(10)\n",
    "for i in range(21416, 21406, -1):\n",
    "    df_true.drop([i],axis=0, inplace=True)"
   ]
  },
  {
   "cell_type": "code",
   "execution_count": 44,
   "id": "2a824de5-76e3-489c-bcfd-18285d8f9d62",
   "metadata": {},
   "outputs": [],
   "source": [
    "df_manual_testing = pd.concat([df_fake_manula_tesing, df_true_manual_testing], axis=0)\n",
    "df_manual_testing.to_csv(\"manual_testing.csv\")"
   ]
  },
  {
   "cell_type": "code",
   "execution_count": 45,
   "id": "60eac126-8a15-4906-9596-617568869444",
   "metadata": {},
   "outputs": [
    {
     "data": {
      "text/html": [
       "<div>\n",
       "<style scoped>\n",
       "    .dataframe tbody tr th:only-of-type {\n",
       "        vertical-align: middle;\n",
       "    }\n",
       "\n",
       "    .dataframe tbody tr th {\n",
       "        vertical-align: top;\n",
       "    }\n",
       "\n",
       "    .dataframe thead th {\n",
       "        text-align: right;\n",
       "    }\n",
       "</style>\n",
       "<table border=\"1\" class=\"dataframe\">\n",
       "  <thead>\n",
       "    <tr style=\"text-align: right;\">\n",
       "      <th></th>\n",
       "      <th>title</th>\n",
       "      <th>text</th>\n",
       "      <th>subject</th>\n",
       "      <th>date</th>\n",
       "      <th>class</th>\n",
       "    </tr>\n",
       "  </thead>\n",
       "  <tbody>\n",
       "    <tr>\n",
       "      <th>0</th>\n",
       "      <td>Donald Trump Sends Out Embarrassing New Year’...</td>\n",
       "      <td>Donald Trump just couldn t wish all Americans ...</td>\n",
       "      <td>News</td>\n",
       "      <td>December 31, 2017</td>\n",
       "      <td>0</td>\n",
       "    </tr>\n",
       "    <tr>\n",
       "      <th>1</th>\n",
       "      <td>Drunk Bragging Trump Staffer Started Russian ...</td>\n",
       "      <td>House Intelligence Committee Chairman Devin Nu...</td>\n",
       "      <td>News</td>\n",
       "      <td>December 31, 2017</td>\n",
       "      <td>0</td>\n",
       "    </tr>\n",
       "    <tr>\n",
       "      <th>2</th>\n",
       "      <td>Sheriff David Clarke Becomes An Internet Joke...</td>\n",
       "      <td>On Friday, it was revealed that former Milwauk...</td>\n",
       "      <td>News</td>\n",
       "      <td>December 30, 2017</td>\n",
       "      <td>0</td>\n",
       "    </tr>\n",
       "    <tr>\n",
       "      <th>3</th>\n",
       "      <td>Trump Is So Obsessed He Even Has Obama’s Name...</td>\n",
       "      <td>On Christmas day, Donald Trump announced that ...</td>\n",
       "      <td>News</td>\n",
       "      <td>December 29, 2017</td>\n",
       "      <td>0</td>\n",
       "    </tr>\n",
       "    <tr>\n",
       "      <th>4</th>\n",
       "      <td>Pope Francis Just Called Out Donald Trump Dur...</td>\n",
       "      <td>Pope Francis used his annual Christmas Day mes...</td>\n",
       "      <td>News</td>\n",
       "      <td>December 25, 2017</td>\n",
       "      <td>0</td>\n",
       "    </tr>\n",
       "    <tr>\n",
       "      <th>5</th>\n",
       "      <td>Racist Alabama Cops Brutalize Black Boy While...</td>\n",
       "      <td>The number of cases of cops brutalizing and ki...</td>\n",
       "      <td>News</td>\n",
       "      <td>December 25, 2017</td>\n",
       "      <td>0</td>\n",
       "    </tr>\n",
       "    <tr>\n",
       "      <th>6</th>\n",
       "      <td>Fresh Off The Golf Course, Trump Lashes Out A...</td>\n",
       "      <td>Donald Trump spent a good portion of his day a...</td>\n",
       "      <td>News</td>\n",
       "      <td>December 23, 2017</td>\n",
       "      <td>0</td>\n",
       "    </tr>\n",
       "    <tr>\n",
       "      <th>7</th>\n",
       "      <td>Trump Said Some INSANELY Racist Stuff Inside ...</td>\n",
       "      <td>In the wake of yet another court decision that...</td>\n",
       "      <td>News</td>\n",
       "      <td>December 23, 2017</td>\n",
       "      <td>0</td>\n",
       "    </tr>\n",
       "    <tr>\n",
       "      <th>8</th>\n",
       "      <td>Former CIA Director Slams Trump Over UN Bully...</td>\n",
       "      <td>Many people have raised the alarm regarding th...</td>\n",
       "      <td>News</td>\n",
       "      <td>December 22, 2017</td>\n",
       "      <td>0</td>\n",
       "    </tr>\n",
       "    <tr>\n",
       "      <th>9</th>\n",
       "      <td>WATCH: Brand-New Pro-Trump Ad Features So Muc...</td>\n",
       "      <td>Just when you might have thought we d get a br...</td>\n",
       "      <td>News</td>\n",
       "      <td>December 21, 2017</td>\n",
       "      <td>0</td>\n",
       "    </tr>\n",
       "  </tbody>\n",
       "</table>\n",
       "</div>"
      ],
      "text/plain": [
       "                                               title  \\\n",
       "0   Donald Trump Sends Out Embarrassing New Year’...   \n",
       "1   Drunk Bragging Trump Staffer Started Russian ...   \n",
       "2   Sheriff David Clarke Becomes An Internet Joke...   \n",
       "3   Trump Is So Obsessed He Even Has Obama’s Name...   \n",
       "4   Pope Francis Just Called Out Donald Trump Dur...   \n",
       "5   Racist Alabama Cops Brutalize Black Boy While...   \n",
       "6   Fresh Off The Golf Course, Trump Lashes Out A...   \n",
       "7   Trump Said Some INSANELY Racist Stuff Inside ...   \n",
       "8   Former CIA Director Slams Trump Over UN Bully...   \n",
       "9   WATCH: Brand-New Pro-Trump Ad Features So Muc...   \n",
       "\n",
       "                                                text subject  \\\n",
       "0  Donald Trump just couldn t wish all Americans ...    News   \n",
       "1  House Intelligence Committee Chairman Devin Nu...    News   \n",
       "2  On Friday, it was revealed that former Milwauk...    News   \n",
       "3  On Christmas day, Donald Trump announced that ...    News   \n",
       "4  Pope Francis used his annual Christmas Day mes...    News   \n",
       "5  The number of cases of cops brutalizing and ki...    News   \n",
       "6  Donald Trump spent a good portion of his day a...    News   \n",
       "7  In the wake of yet another court decision that...    News   \n",
       "8  Many people have raised the alarm regarding th...    News   \n",
       "9  Just when you might have thought we d get a br...    News   \n",
       "\n",
       "                date  class  \n",
       "0  December 31, 2017      0  \n",
       "1  December 31, 2017      0  \n",
       "2  December 30, 2017      0  \n",
       "3  December 29, 2017      0  \n",
       "4  December 25, 2017      0  \n",
       "5  December 25, 2017      0  \n",
       "6  December 23, 2017      0  \n",
       "7  December 23, 2017      0  \n",
       "8  December 22, 2017      0  \n",
       "9  December 21, 2017      0  "
      ]
     },
     "execution_count": 45,
     "metadata": {},
     "output_type": "execute_result"
    }
   ],
   "source": [
    "df_merge = pd.concat([df_fake,df_true], axis=0)\n",
    "df_merge.head(10)"
   ]
  },
  {
   "cell_type": "code",
   "execution_count": 46,
   "id": "007105d4-022c-4cd9-baaf-8cd60ad5dbca",
   "metadata": {},
   "outputs": [
    {
     "data": {
      "text/html": [
       "<div>\n",
       "<style scoped>\n",
       "    .dataframe tbody tr th:only-of-type {\n",
       "        vertical-align: middle;\n",
       "    }\n",
       "\n",
       "    .dataframe tbody tr th {\n",
       "        vertical-align: top;\n",
       "    }\n",
       "\n",
       "    .dataframe thead th {\n",
       "        text-align: right;\n",
       "    }\n",
       "</style>\n",
       "<table border=\"1\" class=\"dataframe\">\n",
       "  <thead>\n",
       "    <tr style=\"text-align: right;\">\n",
       "      <th></th>\n",
       "      <th>text</th>\n",
       "      <th>class</th>\n",
       "    </tr>\n",
       "  </thead>\n",
       "  <tbody>\n",
       "    <tr>\n",
       "      <th>0</th>\n",
       "      <td>Donald Trump just couldn t wish all Americans ...</td>\n",
       "      <td>0</td>\n",
       "    </tr>\n",
       "    <tr>\n",
       "      <th>1</th>\n",
       "      <td>House Intelligence Committee Chairman Devin Nu...</td>\n",
       "      <td>0</td>\n",
       "    </tr>\n",
       "    <tr>\n",
       "      <th>2</th>\n",
       "      <td>On Friday, it was revealed that former Milwauk...</td>\n",
       "      <td>0</td>\n",
       "    </tr>\n",
       "    <tr>\n",
       "      <th>3</th>\n",
       "      <td>On Christmas day, Donald Trump announced that ...</td>\n",
       "      <td>0</td>\n",
       "    </tr>\n",
       "    <tr>\n",
       "      <th>4</th>\n",
       "      <td>Pope Francis used his annual Christmas Day mes...</td>\n",
       "      <td>0</td>\n",
       "    </tr>\n",
       "    <tr>\n",
       "      <th>...</th>\n",
       "      <td>...</td>\n",
       "      <td>...</td>\n",
       "    </tr>\n",
       "    <tr>\n",
       "      <th>21402</th>\n",
       "      <td>ON BOARD A U.S. MILITARY AIRCRAFT (Reuters) - ...</td>\n",
       "      <td>1</td>\n",
       "    </tr>\n",
       "    <tr>\n",
       "      <th>21403</th>\n",
       "      <td>WASHINGTON (Reuters) - The United States sugge...</td>\n",
       "      <td>1</td>\n",
       "    </tr>\n",
       "    <tr>\n",
       "      <th>21404</th>\n",
       "      <td>WASHINGTON (Reuters) - The United States has d...</td>\n",
       "      <td>1</td>\n",
       "    </tr>\n",
       "    <tr>\n",
       "      <th>21405</th>\n",
       "      <td>ISLAMABAD (Reuters) - Outlining a new strategy...</td>\n",
       "      <td>1</td>\n",
       "    </tr>\n",
       "    <tr>\n",
       "      <th>21406</th>\n",
       "      <td>GENEVA (Reuters) - North Korea and the United ...</td>\n",
       "      <td>1</td>\n",
       "    </tr>\n",
       "  </tbody>\n",
       "</table>\n",
       "<p>44878 rows × 2 columns</p>\n",
       "</div>"
      ],
      "text/plain": [
       "                                                    text  class\n",
       "0      Donald Trump just couldn t wish all Americans ...      0\n",
       "1      House Intelligence Committee Chairman Devin Nu...      0\n",
       "2      On Friday, it was revealed that former Milwauk...      0\n",
       "3      On Christmas day, Donald Trump announced that ...      0\n",
       "4      Pope Francis used his annual Christmas Day mes...      0\n",
       "...                                                  ...    ...\n",
       "21402  ON BOARD A U.S. MILITARY AIRCRAFT (Reuters) - ...      1\n",
       "21403  WASHINGTON (Reuters) - The United States sugge...      1\n",
       "21404  WASHINGTON (Reuters) - The United States has d...      1\n",
       "21405  ISLAMABAD (Reuters) - Outlining a new strategy...      1\n",
       "21406  GENEVA (Reuters) - North Korea and the United ...      1\n",
       "\n",
       "[44878 rows x 2 columns]"
      ]
     },
     "execution_count": 46,
     "metadata": {},
     "output_type": "execute_result"
    }
   ],
   "source": [
    "df = df_merge.drop([\"title\",\"subject\",\"date\"],axis=1)\n",
    "df"
   ]
  },
  {
   "cell_type": "code",
   "execution_count": 47,
   "id": "95a88745-2619-48c6-b704-24c6d78f2b95",
   "metadata": {},
   "outputs": [
    {
     "data": {
      "text/html": [
       "<div>\n",
       "<style scoped>\n",
       "    .dataframe tbody tr th:only-of-type {\n",
       "        vertical-align: middle;\n",
       "    }\n",
       "\n",
       "    .dataframe tbody tr th {\n",
       "        vertical-align: top;\n",
       "    }\n",
       "\n",
       "    .dataframe thead th {\n",
       "        text-align: right;\n",
       "    }\n",
       "</style>\n",
       "<table border=\"1\" class=\"dataframe\">\n",
       "  <thead>\n",
       "    <tr style=\"text-align: right;\">\n",
       "      <th></th>\n",
       "      <th>text</th>\n",
       "      <th>class</th>\n",
       "    </tr>\n",
       "  </thead>\n",
       "  <tbody>\n",
       "    <tr>\n",
       "      <th>19935</th>\n",
       "      <td></td>\n",
       "      <td>0</td>\n",
       "    </tr>\n",
       "    <tr>\n",
       "      <th>2136</th>\n",
       "      <td>NEW YORK/WASHINGTON (Reuters) - Several U.S. c...</td>\n",
       "      <td>1</td>\n",
       "    </tr>\n",
       "    <tr>\n",
       "      <th>21498</th>\n",
       "      <td>Disrupting people when they re trying to have ...</td>\n",
       "      <td>0</td>\n",
       "    </tr>\n",
       "    <tr>\n",
       "      <th>6051</th>\n",
       "      <td>It would make sense why Trump claimed wages ar...</td>\n",
       "      <td>0</td>\n",
       "    </tr>\n",
       "    <tr>\n",
       "      <th>13232</th>\n",
       "      <td>Crooked lying Hillary</td>\n",
       "      <td>0</td>\n",
       "    </tr>\n",
       "    <tr>\n",
       "      <th>...</th>\n",
       "      <td>...</td>\n",
       "      <td>...</td>\n",
       "    </tr>\n",
       "    <tr>\n",
       "      <th>1653</th>\n",
       "      <td>WASHINGTON (Reuters) - Senate Republican leade...</td>\n",
       "      <td>1</td>\n",
       "    </tr>\n",
       "    <tr>\n",
       "      <th>13327</th>\n",
       "      <td>SEOUL/MOSCOW (Reuters) - North Korea s latest ...</td>\n",
       "      <td>1</td>\n",
       "    </tr>\n",
       "    <tr>\n",
       "      <th>272</th>\n",
       "      <td>Clearly, Donald Trump intends to do absolutely...</td>\n",
       "      <td>0</td>\n",
       "    </tr>\n",
       "    <tr>\n",
       "      <th>11893</th>\n",
       "      <td></td>\n",
       "      <td>0</td>\n",
       "    </tr>\n",
       "    <tr>\n",
       "      <th>18565</th>\n",
       "      <td>MADRID (Reuters) - The head of the Catalan reg...</td>\n",
       "      <td>1</td>\n",
       "    </tr>\n",
       "  </tbody>\n",
       "</table>\n",
       "<p>44878 rows × 2 columns</p>\n",
       "</div>"
      ],
      "text/plain": [
       "                                                    text  class\n",
       "19935                                                         0\n",
       "2136   NEW YORK/WASHINGTON (Reuters) - Several U.S. c...      1\n",
       "21498  Disrupting people when they re trying to have ...      0\n",
       "6051   It would make sense why Trump claimed wages ar...      0\n",
       "13232                             Crooked lying Hillary       0\n",
       "...                                                  ...    ...\n",
       "1653   WASHINGTON (Reuters) - Senate Republican leade...      1\n",
       "13327  SEOUL/MOSCOW (Reuters) - North Korea s latest ...      1\n",
       "272    Clearly, Donald Trump intends to do absolutely...      0\n",
       "11893                                                         0\n",
       "18565  MADRID (Reuters) - The head of the Catalan reg...      1\n",
       "\n",
       "[44878 rows x 2 columns]"
      ]
     },
     "execution_count": 47,
     "metadata": {},
     "output_type": "execute_result"
    }
   ],
   "source": [
    "#shuffle\n",
    "df = df.sample(frac=1)\n",
    "df"
   ]
  },
  {
   "cell_type": "code",
   "execution_count": 48,
   "id": "b34e564e-1529-49c3-85f8-ff6b714b1205",
   "metadata": {},
   "outputs": [
    {
     "data": {
      "text/plain": [
       "text     0\n",
       "class    0\n",
       "dtype: int64"
      ]
     },
     "execution_count": 48,
     "metadata": {},
     "output_type": "execute_result"
    }
   ],
   "source": [
    "#to check null values\n",
    "df.isnull().sum()"
   ]
  },
  {
   "cell_type": "code",
   "execution_count": 49,
   "id": "af66eaf5-b6ae-46d9-ab4c-056419689dcd",
   "metadata": {},
   "outputs": [
    {
     "data": {
      "text/html": [
       "<div>\n",
       "<style scoped>\n",
       "    .dataframe tbody tr th:only-of-type {\n",
       "        vertical-align: middle;\n",
       "    }\n",
       "\n",
       "    .dataframe tbody tr th {\n",
       "        vertical-align: top;\n",
       "    }\n",
       "\n",
       "    .dataframe thead th {\n",
       "        text-align: right;\n",
       "    }\n",
       "</style>\n",
       "<table border=\"1\" class=\"dataframe\">\n",
       "  <thead>\n",
       "    <tr style=\"text-align: right;\">\n",
       "      <th></th>\n",
       "      <th>text</th>\n",
       "      <th>class</th>\n",
       "    </tr>\n",
       "  </thead>\n",
       "  <tbody>\n",
       "    <tr>\n",
       "      <th>19935</th>\n",
       "      <td></td>\n",
       "      <td>0</td>\n",
       "    </tr>\n",
       "    <tr>\n",
       "      <th>2136</th>\n",
       "      <td>new york/washington (reuters) - several u.s. c...</td>\n",
       "      <td>1</td>\n",
       "    </tr>\n",
       "    <tr>\n",
       "      <th>21498</th>\n",
       "      <td>disrupting people when they re trying to have ...</td>\n",
       "      <td>0</td>\n",
       "    </tr>\n",
       "    <tr>\n",
       "      <th>6051</th>\n",
       "      <td>it would make sense why trump claimed wages ar...</td>\n",
       "      <td>0</td>\n",
       "    </tr>\n",
       "    <tr>\n",
       "      <th>13232</th>\n",
       "      <td>crooked lying hillary</td>\n",
       "      <td>0</td>\n",
       "    </tr>\n",
       "  </tbody>\n",
       "</table>\n",
       "</div>"
      ],
      "text/plain": [
       "                                                    text  class\n",
       "19935                                                         0\n",
       "2136   new york/washington (reuters) - several u.s. c...      1\n",
       "21498  disrupting people when they re trying to have ...      0\n",
       "6051   it would make sense why trump claimed wages ar...      0\n",
       "13232                             crooked lying hillary       0"
      ]
     },
     "execution_count": 49,
     "metadata": {},
     "output_type": "execute_result"
    }
   ],
   "source": [
    "df['text'] = df['text'].apply(lambda x: x.lower())\n",
    "df.head()"
   ]
  },
  {
   "cell_type": "code",
   "execution_count": 50,
   "id": "6d836775-6802-4b59-bd82-a4ab0350396a",
   "metadata": {},
   "outputs": [
    {
     "data": {
      "text/html": [
       "<div>\n",
       "<style scoped>\n",
       "    .dataframe tbody tr th:only-of-type {\n",
       "        vertical-align: middle;\n",
       "    }\n",
       "\n",
       "    .dataframe tbody tr th {\n",
       "        vertical-align: top;\n",
       "    }\n",
       "\n",
       "    .dataframe thead th {\n",
       "        text-align: right;\n",
       "    }\n",
       "</style>\n",
       "<table border=\"1\" class=\"dataframe\">\n",
       "  <thead>\n",
       "    <tr style=\"text-align: right;\">\n",
       "      <th></th>\n",
       "      <th>text</th>\n",
       "      <th>class</th>\n",
       "    </tr>\n",
       "  </thead>\n",
       "  <tbody>\n",
       "    <tr>\n",
       "      <th>19935</th>\n",
       "      <td></td>\n",
       "      <td>0</td>\n",
       "    </tr>\n",
       "    <tr>\n",
       "      <th>2136</th>\n",
       "      <td>new yorkwashington reuters  several us chief e...</td>\n",
       "      <td>1</td>\n",
       "    </tr>\n",
       "    <tr>\n",
       "      <th>21498</th>\n",
       "      <td>disrupting people when they re trying to have ...</td>\n",
       "      <td>0</td>\n",
       "    </tr>\n",
       "    <tr>\n",
       "      <th>6051</th>\n",
       "      <td>it would make sense why trump claimed wages ar...</td>\n",
       "      <td>0</td>\n",
       "    </tr>\n",
       "    <tr>\n",
       "      <th>13232</th>\n",
       "      <td>crooked lying hillary</td>\n",
       "      <td>0</td>\n",
       "    </tr>\n",
       "    <tr>\n",
       "      <th>...</th>\n",
       "      <td>...</td>\n",
       "      <td>...</td>\n",
       "    </tr>\n",
       "    <tr>\n",
       "      <th>1653</th>\n",
       "      <td>washington reuters  senate republican leader m...</td>\n",
       "      <td>1</td>\n",
       "    </tr>\n",
       "    <tr>\n",
       "      <th>13327</th>\n",
       "      <td>seoulmoscow reuters  north korea s latest miss...</td>\n",
       "      <td>1</td>\n",
       "    </tr>\n",
       "    <tr>\n",
       "      <th>272</th>\n",
       "      <td>clearly donald trump intends to do absolutely ...</td>\n",
       "      <td>0</td>\n",
       "    </tr>\n",
       "    <tr>\n",
       "      <th>11893</th>\n",
       "      <td></td>\n",
       "      <td>0</td>\n",
       "    </tr>\n",
       "    <tr>\n",
       "      <th>18565</th>\n",
       "      <td>madrid reuters  the head of the catalan region...</td>\n",
       "      <td>1</td>\n",
       "    </tr>\n",
       "  </tbody>\n",
       "</table>\n",
       "<p>44878 rows × 2 columns</p>\n",
       "</div>"
      ],
      "text/plain": [
       "                                                    text  class\n",
       "19935                                                         0\n",
       "2136   new yorkwashington reuters  several us chief e...      1\n",
       "21498  disrupting people when they re trying to have ...      0\n",
       "6051   it would make sense why trump claimed wages ar...      0\n",
       "13232                             crooked lying hillary       0\n",
       "...                                                  ...    ...\n",
       "1653   washington reuters  senate republican leader m...      1\n",
       "13327  seoulmoscow reuters  north korea s latest miss...      1\n",
       "272    clearly donald trump intends to do absolutely ...      0\n",
       "11893                                                         0\n",
       "18565  madrid reuters  the head of the catalan region...      1\n",
       "\n",
       "[44878 rows x 2 columns]"
      ]
     },
     "execution_count": 50,
     "metadata": {},
     "output_type": "execute_result"
    }
   ],
   "source": [
    "# Remove punctuation\n",
    "\n",
    "import string\n",
    "\n",
    "def punctuation_removal(text):\n",
    "    all_list = [char for char in text if char not in string.punctuation]\n",
    "    clean_str = ''.join(all_list)\n",
    "    return clean_str\n",
    "\n",
    "df['text'] = df['text'].apply(punctuation_removal)\n",
    "df"
   ]
  },
  {
   "cell_type": "code",
   "execution_count": 51,
   "id": "ff9f2017-1ffe-4a03-b6e8-b9b8f97ba923",
   "metadata": {},
   "outputs": [
    {
     "name": "stderr",
     "output_type": "stream",
     "text": [
      "[nltk_data] Downloading package stopwords to\n",
      "[nltk_data]     /Users/poojaakki/nltk_data...\n",
      "[nltk_data]   Package stopwords is already up-to-date!\n"
     ]
    }
   ],
   "source": [
    "# Removing stopwords\n",
    "import nltk\n",
    "nltk.download('stopwords')\n",
    "from nltk.corpus import stopwords\n",
    "stop = stopwords.words('english')\n",
    "\n",
    "df['text'] = df['text'].apply(lambda x: ' '.join([word for word in x.split() if word not in (stop)]))"
   ]
  },
  {
   "cell_type": "code",
   "execution_count": 52,
   "id": "41594013-1681-4046-90a1-8e9b1257ae3f",
   "metadata": {},
   "outputs": [
    {
     "data": {
      "text/html": [
       "<div>\n",
       "<style scoped>\n",
       "    .dataframe tbody tr th:only-of-type {\n",
       "        vertical-align: middle;\n",
       "    }\n",
       "\n",
       "    .dataframe tbody tr th {\n",
       "        vertical-align: top;\n",
       "    }\n",
       "\n",
       "    .dataframe thead th {\n",
       "        text-align: right;\n",
       "    }\n",
       "</style>\n",
       "<table border=\"1\" class=\"dataframe\">\n",
       "  <thead>\n",
       "    <tr style=\"text-align: right;\">\n",
       "      <th></th>\n",
       "      <th>text</th>\n",
       "      <th>class</th>\n",
       "    </tr>\n",
       "  </thead>\n",
       "  <tbody>\n",
       "    <tr>\n",
       "      <th>19935</th>\n",
       "      <td></td>\n",
       "      <td>0</td>\n",
       "    </tr>\n",
       "    <tr>\n",
       "      <th>2136</th>\n",
       "      <td>new yorkwashington reuters several us chief ex...</td>\n",
       "      <td>1</td>\n",
       "    </tr>\n",
       "    <tr>\n",
       "      <th>21498</th>\n",
       "      <td>disrupting people trying dinner came end ted c...</td>\n",
       "      <td>0</td>\n",
       "    </tr>\n",
       "    <tr>\n",
       "      <th>6051</th>\n",
       "      <td>would make sense trump claimed wages high supp...</td>\n",
       "      <td>0</td>\n",
       "    </tr>\n",
       "    <tr>\n",
       "      <th>13232</th>\n",
       "      <td>crooked lying hillary</td>\n",
       "      <td>0</td>\n",
       "    </tr>\n",
       "    <tr>\n",
       "      <th>...</th>\n",
       "      <td>...</td>\n",
       "      <td>...</td>\n",
       "    </tr>\n",
       "    <tr>\n",
       "      <th>1653</th>\n",
       "      <td>washington reuters senate republican leader mi...</td>\n",
       "      <td>1</td>\n",
       "    </tr>\n",
       "    <tr>\n",
       "      <th>13327</th>\n",
       "      <td>seoulmoscow reuters north korea latest missile...</td>\n",
       "      <td>1</td>\n",
       "    </tr>\n",
       "    <tr>\n",
       "      <th>272</th>\n",
       "      <td>clearly donald trump intends absolutely nothin...</td>\n",
       "      <td>0</td>\n",
       "    </tr>\n",
       "    <tr>\n",
       "      <th>11893</th>\n",
       "      <td></td>\n",
       "      <td>0</td>\n",
       "    </tr>\n",
       "    <tr>\n",
       "      <th>18565</th>\n",
       "      <td>madrid reuters head catalan regional governmen...</td>\n",
       "      <td>1</td>\n",
       "    </tr>\n",
       "  </tbody>\n",
       "</table>\n",
       "<p>44878 rows × 2 columns</p>\n",
       "</div>"
      ],
      "text/plain": [
       "                                                    text  class\n",
       "19935                                                         0\n",
       "2136   new yorkwashington reuters several us chief ex...      1\n",
       "21498  disrupting people trying dinner came end ted c...      0\n",
       "6051   would make sense trump claimed wages high supp...      0\n",
       "13232                              crooked lying hillary      0\n",
       "...                                                  ...    ...\n",
       "1653   washington reuters senate republican leader mi...      1\n",
       "13327  seoulmoscow reuters north korea latest missile...      1\n",
       "272    clearly donald trump intends absolutely nothin...      0\n",
       "11893                                                         0\n",
       "18565  madrid reuters head catalan regional governmen...      1\n",
       "\n",
       "[44878 rows x 2 columns]"
      ]
     },
     "execution_count": 52,
     "metadata": {},
     "output_type": "execute_result"
    }
   ],
   "source": [
    "df"
   ]
  },
  {
   "cell_type": "code",
   "execution_count": 53,
   "id": "88db7db5-c71a-4520-90e4-8651c5deb091",
   "metadata": {},
   "outputs": [
    {
     "name": "stdout",
     "output_type": "stream",
     "text": [
      "<class 'pandas.core.series.Series'>\n"
     ]
    }
   ],
   "source": [
    "x = df[\"text\"]\n",
    "y= df[\"class\"]\n",
    "print(type(x))"
   ]
  },
  {
   "cell_type": "code",
   "execution_count": 54,
   "id": "6fa5d7d3-2381-4476-9597-3bceafee86e4",
   "metadata": {},
   "outputs": [],
   "source": [
    "x_train, x_test, y_train, y_test = train_test_split(x,y,test_size=.25)"
   ]
  },
  {
   "cell_type": "code",
   "execution_count": 55,
   "id": "a331d8cd-a660-456d-a0c4-e030d1c616fa",
   "metadata": {},
   "outputs": [],
   "source": [
    "#vectorize the text\n",
    "\n",
    "from sklearn.feature_extraction.text import TfidfVectorizer"
   ]
  },
  {
   "cell_type": "code",
   "execution_count": 56,
   "id": "22554036-362a-4a00-a8d0-a4f46425eebc",
   "metadata": {},
   "outputs": [],
   "source": [
    "vectorization = TfidfVectorizer()\n",
    "xv_train = vectorization.fit_transform(x_train)\n",
    "xv_test = vectorization.transform(x_test)"
   ]
  },
  {
   "cell_type": "markdown",
   "id": "58d79ce2-29d2-42d7-a838-1c6988a76713",
   "metadata": {},
   "source": [
    "Logistic regression"
   ]
  },
  {
   "cell_type": "code",
   "execution_count": 57,
   "id": "d2c9957d-6f1f-4bc3-a77b-d0af288a3ba1",
   "metadata": {},
   "outputs": [],
   "source": [
    "from sklearn.linear_model import LogisticRegression"
   ]
  },
  {
   "cell_type": "code",
   "execution_count": 58,
   "id": "f59432c9-035b-46cf-be75-55a062417582",
   "metadata": {},
   "outputs": [
    {
     "data": {
      "text/plain": [
       "LogisticRegression()"
      ]
     },
     "execution_count": 58,
     "metadata": {},
     "output_type": "execute_result"
    }
   ],
   "source": [
    "LR = LogisticRegression()\n",
    "LR.fit(xv_train, y_train)"
   ]
  },
  {
   "cell_type": "code",
   "execution_count": 59,
   "id": "3d9767a7-aafd-4cb2-a0f0-66014f36b254",
   "metadata": {},
   "outputs": [
    {
     "data": {
      "text/plain": [
       "0.9901069518716578"
      ]
     },
     "execution_count": 59,
     "metadata": {},
     "output_type": "execute_result"
    }
   ],
   "source": [
    "LR.score(xv_test, y_test)"
   ]
  },
  {
   "cell_type": "code",
   "execution_count": 60,
   "id": "c2361c7d-dce4-4157-a12b-5b9bddc83e07",
   "metadata": {},
   "outputs": [],
   "source": [
    "pred_LR = LR.predict(xv_test)"
   ]
  },
  {
   "cell_type": "code",
   "execution_count": 61,
   "id": "c1902d53-31cc-45b4-80df-6153ef55d675",
   "metadata": {},
   "outputs": [
    {
     "name": "stdout",
     "output_type": "stream",
     "text": [
      "              precision    recall  f1-score   support\n",
      "\n",
      "           0       0.99      0.99      0.99      5871\n",
      "           1       0.99      0.99      0.99      5349\n",
      "\n",
      "    accuracy                           0.99     11220\n",
      "   macro avg       0.99      0.99      0.99     11220\n",
      "weighted avg       0.99      0.99      0.99     11220\n",
      "\n"
     ]
    }
   ],
   "source": [
    "print(classification_report(y_test, pred_LR))"
   ]
  },
  {
   "cell_type": "markdown",
   "id": "6379e78f-0018-4e3e-b674-9c91d8c7e7a4",
   "metadata": {},
   "source": [
    "Decidion Tree"
   ]
  },
  {
   "cell_type": "code",
   "execution_count": 240,
   "id": "05567d11-4012-4f9f-8d58-ce411e1b8661",
   "metadata": {},
   "outputs": [],
   "source": [
    "from sklearn.tree import DecisionTreeClassifier"
   ]
  },
  {
   "cell_type": "code",
   "execution_count": 241,
   "id": "34e87237-a11f-44c8-b6ea-0ce1f5f13da4",
   "metadata": {},
   "outputs": [
    {
     "data": {
      "text/plain": [
       "DecisionTreeClassifier()"
      ]
     },
     "execution_count": 241,
     "metadata": {},
     "output_type": "execute_result"
    }
   ],
   "source": [
    "DT = DecisionTreeClassifier()\n",
    "DT.fit(xv_train, y_train)"
   ]
  },
  {
   "cell_type": "code",
   "execution_count": 243,
   "id": "420fa5e4-faea-4d76-81c7-eae374a3b632",
   "metadata": {},
   "outputs": [
    {
     "data": {
      "text/plain": [
       "0.9977718360071302"
      ]
     },
     "execution_count": 243,
     "metadata": {},
     "output_type": "execute_result"
    }
   ],
   "source": [
    "DT.score(xv_test, y_test)"
   ]
  },
  {
   "cell_type": "code",
   "execution_count": 244,
   "id": "5e2b3a51-55b7-48aa-8c8d-5b5779633175",
   "metadata": {},
   "outputs": [],
   "source": [
    "pred_DT = DT.predict(xv_test)"
   ]
  },
  {
   "cell_type": "code",
   "execution_count": 245,
   "id": "3c8468a4-ba53-4ced-b15c-0becf6df1495",
   "metadata": {},
   "outputs": [
    {
     "name": "stdout",
     "output_type": "stream",
     "text": [
      "              precision    recall  f1-score   support\n",
      "\n",
      "           0       1.00      1.00      1.00      5927\n",
      "           1       1.00      1.00      1.00      5293\n",
      "\n",
      "    accuracy                           1.00     11220\n",
      "   macro avg       1.00      1.00      1.00     11220\n",
      "weighted avg       1.00      1.00      1.00     11220\n",
      "\n"
     ]
    }
   ],
   "source": [
    "print(classification_report(y_test, pred_DT))"
   ]
  },
  {
   "cell_type": "markdown",
   "id": "a5c0bd21-f9ab-4470-b3a2-f12258aa274e",
   "metadata": {},
   "source": [
    "Gradient boosting classifier"
   ]
  },
  {
   "cell_type": "code",
   "execution_count": 246,
   "id": "0ad5374e-8e48-4ff1-9296-51609d657230",
   "metadata": {},
   "outputs": [],
   "source": [
    "from sklearn.ensemble import GradientBoostingClassifier"
   ]
  },
  {
   "cell_type": "code",
   "execution_count": 247,
   "id": "af9019e2-81b4-4029-85ca-0a827c690a8d",
   "metadata": {},
   "outputs": [
    {
     "data": {
      "text/plain": [
       "GradientBoostingClassifier(random_state=0)"
      ]
     },
     "execution_count": 247,
     "metadata": {},
     "output_type": "execute_result"
    }
   ],
   "source": [
    "GBC = GradientBoostingClassifier(random_state=0)\n",
    "GBC.fit(xv_train, y_train)"
   ]
  },
  {
   "cell_type": "code",
   "execution_count": 248,
   "id": "88a3d1d9-13a1-4cdf-98c7-ecc426c8246e",
   "metadata": {},
   "outputs": [],
   "source": [
    "pred_gbc = GBC.predict(xv_test)"
   ]
  },
  {
   "cell_type": "code",
   "execution_count": 249,
   "id": "e023ced1-b7ea-4bea-90b7-2cc8b58b00c5",
   "metadata": {},
   "outputs": [
    {
     "data": {
      "text/plain": [
       "0.9963458110516934"
      ]
     },
     "execution_count": 249,
     "metadata": {},
     "output_type": "execute_result"
    }
   ],
   "source": [
    "GBC.score(xv_test, y_test)"
   ]
  },
  {
   "cell_type": "code",
   "execution_count": 250,
   "id": "6ff924c7-e38b-4d98-b60f-994e58624ed8",
   "metadata": {},
   "outputs": [
    {
     "name": "stdout",
     "output_type": "stream",
     "text": [
      "              precision    recall  f1-score   support\n",
      "\n",
      "           0       1.00      0.99      1.00      5927\n",
      "           1       0.99      1.00      1.00      5293\n",
      "\n",
      "    accuracy                           1.00     11220\n",
      "   macro avg       1.00      1.00      1.00     11220\n",
      "weighted avg       1.00      1.00      1.00     11220\n",
      "\n"
     ]
    }
   ],
   "source": [
    "print(classification_report(y_test, pred_gbc))"
   ]
  },
  {
   "cell_type": "markdown",
   "id": "55a4d039-1c73-496a-a9c9-7d91fb29f249",
   "metadata": {},
   "source": [
    "Random Forest Classifier"
   ]
  },
  {
   "cell_type": "code",
   "execution_count": 252,
   "id": "06e47046-6857-4f13-9e7a-b2a32168e359",
   "metadata": {},
   "outputs": [],
   "source": [
    "from sklearn.ensemble import RandomForestClassifier"
   ]
  },
  {
   "cell_type": "code",
   "execution_count": 253,
   "id": "39ff37e3-7750-4597-9d11-1f2a2bfe8d0e",
   "metadata": {},
   "outputs": [
    {
     "data": {
      "text/plain": [
       "RandomForestClassifier(random_state=0)"
      ]
     },
     "execution_count": 253,
     "metadata": {},
     "output_type": "execute_result"
    }
   ],
   "source": [
    "RFC = RandomForestClassifier(random_state=0)\n",
    "RFC.fit(xv_train, y_train)"
   ]
  },
  {
   "cell_type": "code",
   "execution_count": 254,
   "id": "28da8e40-2b5b-4f9e-91ed-217df692787d",
   "metadata": {},
   "outputs": [],
   "source": [
    "pred_rfc = RFC.predict(xv_test)"
   ]
  },
  {
   "cell_type": "code",
   "execution_count": 255,
   "id": "f9d8f7e4-a28f-43f3-a954-1fc5b05b3d3a",
   "metadata": {},
   "outputs": [
    {
     "data": {
      "text/plain": [
       "0.9942959001782531"
      ]
     },
     "execution_count": 255,
     "metadata": {},
     "output_type": "execute_result"
    }
   ],
   "source": [
    "RFC.score(xv_test, y_test)"
   ]
  },
  {
   "cell_type": "code",
   "execution_count": 256,
   "id": "c7f1dfd8-ade8-4352-95a9-e6830f0c0b90",
   "metadata": {},
   "outputs": [
    {
     "name": "stdout",
     "output_type": "stream",
     "text": [
      "              precision    recall  f1-score   support\n",
      "\n",
      "           0       1.00      0.99      0.99      5927\n",
      "           1       0.99      1.00      0.99      5293\n",
      "\n",
      "    accuracy                           0.99     11220\n",
      "   macro avg       0.99      0.99      0.99     11220\n",
      "weighted avg       0.99      0.99      0.99     11220\n",
      "\n"
     ]
    }
   ],
   "source": [
    "print(classification_report(y_test, pred_rfc))"
   ]
  },
  {
   "cell_type": "code",
   "execution_count": 62,
   "id": "3e0542b3-82e2-4dae-adfd-51b73739b013",
   "metadata": {},
   "outputs": [],
   "source": [
    "def wordopt(text):\n",
    "    text = text.lower()\n",
    "    text = re.sub('\\[.*?\\]', '', text)\n",
    "    text = re.sub(\"\\\\W\",\" \",text) \n",
    "    text = re.sub('https?://\\S+|www\\.\\S+', '', text)\n",
    "    text = re.sub('<.*?>+', '', text)\n",
    "    text = re.sub('[%s]' % re.escape(string.punctuation), '', text)\n",
    "    text = re.sub('\\n', '', text)\n",
    "    text = re.sub('\\w*\\d\\w*', '', text)    \n",
    "    return text"
   ]
  },
  {
   "cell_type": "code",
   "execution_count": 313,
   "id": "62e8df9b-ad88-433b-9716-1a06238a8e18",
   "metadata": {},
   "outputs": [],
   "source": [
    "def output_lable(n):\n",
    "    print(type(n))\n",
    "    if n == 0:\n",
    "        return \"Fake News\"\n",
    "    elif n == 1:\n",
    "        return \"Not A Fake News\"\n",
    "    \n",
    "def manual_testing(news):\n",
    "    testing_news = {\"text\":[news]}\n",
    "    new_def_test = pd.DataFrame(testing_news)\n",
    "    new_def_test[\"text\"] = new_def_test[\"text\"].apply(wordopt) \n",
    "    new_x_test = new_def_test[\"text\"]\n",
    "    new_xv_test = vectorization.transform(new_x_test)\n",
    "    pred_LR = LR.predict(new_xv_test)\n",
    "    pred_DT = DT.predict(new_xv_test)\n",
    "    pred_GBC = GBC.predict(new_xv_test)\n",
    "    pred_RFC = RFC.predict(new_xv_test)\n",
    "\n",
    "    return print(\"\\n\\nLR Prediction: {} \\nDT Prediction: {} \\nGBC Prediction: {} \\nRFC Prediction: {}\".format(output_lable(pred_LR[0]), \n",
    "                                                                                                              output_lable(pred_DT[0]), \n",
    "                                                                                                              output_lable(pred_GBC[0]), \n",
    "                                                                                                              output_lable(pred_RFC[0])))"
   ]
  },
  {
   "cell_type": "code",
   "execution_count": 315,
   "id": "8bc9196d-01c1-4b4d-851e-9181590689ec",
   "metadata": {},
   "outputs": [
    {
     "name": "stdin",
     "output_type": "stream",
     "text": [
      " By Dady Chery and Gilbert MercierAll writers with a desire to rattle people out of their torpor occasionally wonder if it is worthwhile to continue to try to raise their voices over the din of lies and distractions.More and more for us, such thoughts are occasioned, not by the mainstream, which predictably treats all the pronouncements from the powerful as being newsworthy, but by the fake left, which lobotomizes most of whom it touches. The increasing sophistication of this group and its rate of expansion are astounding. Its purpose is to annihilate and replace the real left, and it is making great strides in this regard.The real left includes those who, like Dr. Martin Luther King Jr. (MLK), came to realize that quantum leaps are the way to proceed, rather than tiny incremental change. The real left does not curry favor or approval from those in power; it challenges the social status quo and respects the inherent right of an injured and indignant population to rebel against authority. It is not for rent or for sale, and it does not cave in to power. Martin Luther King March (Image Source: Wikicommons)By contrast, the motivations of the fake left are money and fame: the preservation of their place in their ivory towers, together with all the trimmings of an upper middle class or wealthy lifestyle. For them, the path is smoothed and the wheels of the machine are oiled for lucrative book deals, speaking tours, radio and television interviews, and articles that are infinitely reverberated through approved sites in the Internet. Their spokespeople channel political ideas toward electoral cycles and transform revolutionary musings into banalities, paralysis, and futile actions. They attack the public s thought process itself and engender an attention-deficit disorder. Ideas are not pursued, shared, honed, and acted upon but instead displaced by fleeting slogans like  hope and change,  or  feel the Bern. Alternatively, the ideas are muddled, branded and labeled with names like  shock doctrine,   disaster capitalism,  or  climate capitalism,  so that they may be put away and no longer examined. An important function of the fake left is to diffuse legitimate, spontaneous defense. Righteous anger is made to give way to confusion, and the impetus to revolt is transformed into the futility of virtual actions. Slogans are used as vaccines to prevent the contagion of dissent. Thoughts, not quite fully formed and the beginning of spontaneous actions, like blockage of bridges and highways, quickly dissipate. They are aborted into quick visual scans of an image or rapidly associated with a few words, like  black lives matter,  and then shared on social media. Today, Thomas Paine s Common Sense would not kindle a revolution; instead it would be quoted, posted, pinned, and tweeted. The fake left is a decoy: a hunter s trap to break the leg of any possible revolution. One of the fake left s godfathers is the multibillionaire George Soros, who obviously believes that wealth equals wisdom and has come up with a clever model to launder his vast financial gains into global political influence. Soros has developed an extremely diversified portfolio of intellectual properties and non-governmental organizations (NGO) in more than 37 countries. Artists throughout the world who present their people as victims, and promote passivity and despair, are rewarded with support and prestigious prizes. Supported organizations like Human Rights Watch and Amnesty International are accused not only of selectively collecting data on human rights abuses but also of exploiting some of those data to pressure countries into policy changes that are unrelated to human rights. Independent  journalism is a major focus of Soros  Open Society Foundation, which was founded in 1993, soon after the collapse of the Soviet Union and right before the explosion of the Internet. When US-friendly corrupt governments, and US-sponsored institutions like USAID and the United Nations are exposed by the real left, Soros-sponsored think tanks and news organizations like the Center for Economic and Policy Research (CEPR) spring into action and become the voice of reason, demanding that these organizations self-reform. Countless others, also related to the Open Society Foundation, echo and amplify their message. Dismantlement and profound systemic change are never on the agenda. In most of the world, and especially the US, elections are staged, with the primary goal being to let off steam from targeted sectors of the population. A secondary goal is to make a rigged political process appear believable and give the impression of a free exchange of ideas. The candidates are presented as caricatures that trigger an emotional identification in specific groups of people. In the US in 2016, the mean, misogynist and racist ugly American stereotype is served well by Donald Trump for the right. On the other side, the reincarnated Occupy leftist champion of social justice is played by Bernie Sanders. Nonetheless it is Hillary Clinton s turn to win. Trump and Sanders serve to keep the elections in the news and to make Clinton the only supposed pragmatic choice. The ambition of Sanders to beat Hillary Clinton is questionable in light of the fact that he did not run for the presidency in 2012, although the issues were the same, and he could have benefited then from the energy of Occupy. Sander s platform is a reactivation of the Occupy themes. Occupy, however, is not what it used to be. Indeed it is a perfect example of something from the real left that was hijacked. It began as a leaderless anti-capitalist movement called US Day of Rage, but soon it acquired leaders like Chris Hedges, and its most radical elements, like the Black Bloc anarchists, were vilified and excluded. The fake left poaches the narrative of the real left so as to kill it. Outright plagiarism and abundant appropriations and rewrites are hallmarks of the fake left.  Since it lacks a heartfelt leftist rhetoric, it must continually borrow one, ironically, to excoriate it so as to present a superficial version of it. Any critical examination will show that the self-proclaimed firebrands of the left have, for decades, never moved the revolutionary dial an iota. If books like Noam Chomsky s Occupy or Naomi Klein s Shock Doctrine, or Chris Hedges and Joe Sacco s Days of Destruction, Days of Revolt had been genuine, they would have brought people to the barricades in the streets, and there would surely have been attempts to suppress them. Instead the books have been celebrated and glorified by the media establishment, because these pseudo-radical manifestos have not brought action but paralysis.The latest offering by Naomi Klein, This Changes Everything, will, by design, change absolutely nothing at all, except the balance of her bank account. TOAST OF THE LEFT: Author Naomi Klein.Those few of us who are genuinely trying to change the course of events sometimes wonder how we can compete against this powerful new machine that appropriates our message, twists it, and then blasts a degraded version of it through countless bullhorns. Doesn t the public realize that wealth and fame are not the normal trappings of revolutionaries? Don t people know that revolution is never easy, and that if it appears to be, it is not real? If words like earth, nature, life, democracy, dissent, protest, love, and revolution are allowed to lose their weight, our voices will go the way of the song of the extinct Dodo bird. It is imperative that these words be reappropriated and reinfused with meaning.Revolutionary talk cannot be permitted to become an exercise in futile venting or a validation of passivity; to mean anything at all, it must be enacted in community.Dady Chery is the author of We Have Dared to Be Free, and Gilbert Mercier is the author of The Orwellian Empire. This article was originally published at New Junkie PostREAD MORE 2016 ELECTION NEWS AT: 21st Century Wire 2016 Files\n"
     ]
    },
    {
     "name": "stdout",
     "output_type": "stream",
     "text": [
      "<class 'numpy.int64'>\n",
      "<class 'numpy.int64'>\n",
      "<class 'numpy.int64'>\n",
      "<class 'numpy.int64'>\n",
      "\n",
      "\n",
      "LR Prediction: Not A Fake News \n",
      "DT Prediction: Not A Fake News \n",
      "GBC Prediction: Not A Fake News \n",
      "RFC Prediction: Not A Fake News\n"
     ]
    }
   ],
   "source": [
    "news = str(input())\n",
    "manual_testing(news)"
   ]
  },
  {
   "cell_type": "code",
   "execution_count": null,
   "id": "fb1d2453-7260-486a-8fde-3d2b46411080",
   "metadata": {},
   "outputs": [
    {
     "data": {
      "text/plain": [
       "<pyspark.sql.context.SQLContext at 0x7f9ff82f83a0>"
      ]
     },
     "execution_count": 293,
     "metadata": {},
     "output_type": "execute_result"
    }
   ],
   "source": []
  }
 ],
 "metadata": {
  "kernelspec": {
   "display_name": "Python 3 (ipykernel)",
   "language": "python",
   "name": "python3"
  },
  "language_info": {
   "codemirror_mode": {
    "name": "ipython",
    "version": 3
   },
   "file_extension": ".py",
   "mimetype": "text/x-python",
   "name": "python",
   "nbconvert_exporter": "python",
   "pygments_lexer": "ipython3",
   "version": "3.9.12"
  }
 },
 "nbformat": 4,
 "nbformat_minor": 5
}
