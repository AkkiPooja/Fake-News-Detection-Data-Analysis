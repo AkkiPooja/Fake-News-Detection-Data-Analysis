{
 "cells": [
  {
   "cell_type": "code",
   "execution_count": 1,
   "id": "12db00c9",
   "metadata": {},
   "outputs": [
    {
     "name": "stderr",
     "output_type": "stream",
     "text": [
      "Setting default log level to \"WARN\".\n",
      "To adjust logging level use sc.setLogLevel(newLevel). For SparkR, use setLogLevel(newLevel).\n"
     ]
    },
    {
     "name": "stdout",
     "output_type": "stream",
     "text": [
      "22/12/04 22:26:32 WARN NativeCodeLoader: Unable to load native-hadoop library for your platform... using builtin-java classes where applicable\n",
      "22/12/04 22:26:32 WARN Utils: Service 'SparkUI' could not bind on port 4040. Attempting port 4041.\n"
     ]
    },
    {
     "name": "stderr",
     "output_type": "stream",
     "text": [
      "/Users/poojaakki/opt/anaconda3/lib/python3.9/site-packages/pyspark/sql/context.py:157: FutureWarning: Deprecated in 3.0.0. Use SparkSession.builder.getOrCreate() instead.\n",
      "  warnings.warn(\n"
     ]
    }
   ],
   "source": [
    "import os\n",
    "import pyspark\n",
    "conf = pyspark.SparkConf()\n",
    "# conf.set('spark.ui.proxyBase'\n",
    "# , '/user/' + os.environ['JUPYTERHUB_USER'] + '/proxy/4041')\n",
    "conf.set('spark.sql.repl.eagerEval.enabled', True)\n",
    "conf.set('spark.driver.memory','4g')\n",
    "sc = pyspark.SparkContext(conf=conf)\n",
    "spark = pyspark.SQLContext.getOrCreate(sc)"
   ]
  },
  {
   "cell_type": "code",
   "execution_count": 67,
   "id": "739eae2e",
   "metadata": {},
   "outputs": [],
   "source": [
    "# Read the csv files from datasets\n",
    "\n",
    "#Fake news\n",
    "df_fake = spark.read.option(\"header\", \"true\").csv(\"/Users/poojaakki/Desktop/projects/Fake-News-Detection-Data-Analysis/datasets/News _dataset/Fake.csv\")\n",
    "# df_fake.show()"
   ]
  },
  {
   "cell_type": "code",
   "execution_count": 68,
   "id": "6fdf7c39",
   "metadata": {},
   "outputs": [],
   "source": [
    "#Truth news\n",
    "df_true = spark.read.option(\"header\", \"true\").csv(\"/Users/poojaakki/Desktop/projects/Fake-News-Detection-Data-Analysis/datasets/News _dataset/True.csv\")\n",
    "#df_true.show()"
   ]
  },
  {
   "cell_type": "code",
   "execution_count": 69,
   "id": "9eaef2c6",
   "metadata": {},
   "outputs": [],
   "source": [
    "# count of data and the. umber of coloumns\n",
    "# print((df_fake.count(), len(df_fake.columns)))\n",
    "# print((df_true.count(), len(df_true.columns)))"
   ]
  },
  {
   "cell_type": "code",
   "execution_count": 70,
   "id": "58c30187",
   "metadata": {},
   "outputs": [],
   "source": [
    "#Add the column for fake news and also a column for true news\n",
    "from pyspark.sql.functions import lit\n",
    "\n",
    "df_fake = df_fake.withColumn(\"Flag\", lit(\"Fake_News\"))\n",
    "#df_fake.show()"
   ]
  },
  {
   "cell_type": "code",
   "execution_count": 71,
   "id": "b48d8968",
   "metadata": {},
   "outputs": [],
   "source": [
    "df_true = df_true.withColumn(\"Flag\", lit(\"True_News\"))\n",
    "# df_true.show()"
   ]
  },
  {
   "cell_type": "code",
   "execution_count": 72,
   "id": "4783d4fb",
   "metadata": {},
   "outputs": [],
   "source": [
    "#concat the two tables\n",
    "df_concat = df_fake.unionByName(df_true, allowMissingColumns=True)\n",
    "# df_concat.show()"
   ]
  },
  {
   "cell_type": "code",
   "execution_count": 74,
   "id": "2ca7ec2c",
   "metadata": {},
   "outputs": [
    {
     "name": "stdout",
     "output_type": "stream",
     "text": [
      "root\n",
      " |-- title: string (nullable = true)\n",
      " |-- text: string (nullable = true)\n",
      " |-- subject: string (nullable = true)\n",
      " |-- date: string (nullable = true)\n",
      " |-- Flag: string (nullable = false)\n",
      " |-- id: long (nullable = false)\n",
      "\n"
     ]
    }
   ],
   "source": [
    "#specifying the row number to each row\n",
    "\n",
    "from pyspark.sql.functions import monotonically_increasing_id \n",
    "\n",
    "df_concat = df_concat.select(\"*\").withColumn(\"id\", monotonically_increasing_id())\n",
    "\n",
    "df_concat.printSchema()"
   ]
  },
  {
   "cell_type": "code",
   "execution_count": 9,
   "id": "e005e429",
   "metadata": {},
   "outputs": [],
   "source": [
    "# print((df_concat.count(), len(df_concat.columns)))"
   ]
  },
  {
   "cell_type": "code",
   "execution_count": 10,
   "id": "a40c86a2",
   "metadata": {},
   "outputs": [],
   "source": [
    "#### has to randomly shuffle the data\n",
    "import pyspark.sql.functions as F\n",
    "\n",
    "df_concat = df_concat.select(\"*\").orderBy(F.rand())\n",
    "# df_concat.show()"
   ]
  },
  {
   "cell_type": "code",
   "execution_count": 11,
   "id": "3c756638",
   "metadata": {},
   "outputs": [],
   "source": [
    "# Remove the unwanted coloumn\n",
    "\n",
    "df_concat =  df_concat.drop(df_concat[\"date\"])\n",
    "# df_concat"
   ]
  },
  {
   "cell_type": "code",
   "execution_count": 12,
   "id": "143d6976-15d2-4efd-b978-9fc4acb4d543",
   "metadata": {},
   "outputs": [],
   "source": [
    "# Remove the title for analysis\n",
    "\n",
    "df_concat =  df_concat.drop(df_concat[\"title\"])\n",
    "# df_concat"
   ]
  },
  {
   "cell_type": "code",
   "execution_count": 13,
   "id": "c3d34b0b-410c-4a2b-ab7b-780baf0353cb",
   "metadata": {},
   "outputs": [],
   "source": [
    "# In order to avaoid the confusion convert everything to lowercase\n",
    "from pyspark.sql.functions import col, split, lower, regexp_replace, length\n",
    "\n",
    "df_concat = df_concat\\\n",
    ".withColumn(\"text\", regexp_replace(lower(col(\"text\")), r\"[^0-9a-z]\", \" \"))\\\n",
    ".where(length(\"text\")>0)\n",
    "\n",
    "# df_concat"
   ]
  },
  {
   "cell_type": "code",
   "execution_count": 14,
   "id": "c24daf05-c26c-44cd-945c-68735ef5031b",
   "metadata": {},
   "outputs": [
    {
     "name": "stderr",
     "output_type": "stream",
     "text": [
      "[nltk_data] Downloading package stopwords to\n",
      "[nltk_data]     /Users/poojaakki/nltk_data...\n",
      "[nltk_data]   Package stopwords is already up-to-date!\n"
     ]
    }
   ],
   "source": [
    "# remove stop words from it\n",
    "import nltk\n",
    "nltk.download('stopwords')\n",
    "from nltk.corpus import stopwords\n",
    "stop = stopwords.words('english')\n"
   ]
  },
  {
   "cell_type": "code",
   "execution_count": 15,
   "id": "80b547ef-f09f-41db-84b0-99982929cf87",
   "metadata": {},
   "outputs": [],
   "source": [
    "df_concat = df_concat.withColumn('words',F.split(F.col('text'),' '))\n",
    "# df_concat"
   ]
  },
  {
   "cell_type": "code",
   "execution_count": 16,
   "id": "52299c32-7650-4396-a7b6-d8bb8f28d834",
   "metadata": {},
   "outputs": [],
   "source": [
    "from pyspark.ml.feature import StopWordsRemover \n",
    "\n",
    "stopwordsRemovalFeature = StopWordsRemover(inputCol=\"words\", \n",
    "                   outputCol=\"words without stop\").setStopWords(stop)"
   ]
  },
  {
   "cell_type": "code",
   "execution_count": 17,
   "id": "9477e023-a186-4f32-98f1-d3dba1c2368e",
   "metadata": {},
   "outputs": [],
   "source": [
    "from pyspark.ml import Pipeline\n",
    "\n",
    "stopWordRemovalPipeline = Pipeline(stages=[stopwordsRemovalFeature])\n",
    "pipelineFitRemoveStopWords = stopWordRemovalPipeline.fit(df_concat)"
   ]
  },
  {
   "cell_type": "code",
   "execution_count": 18,
   "id": "8e3e66d4-0ec4-4222-b7a0-f9d34162431c",
   "metadata": {},
   "outputs": [],
   "source": [
    "df_concat = pipelineFitRemoveStopWords.transform(df_concat)"
   ]
  },
  {
   "cell_type": "code",
   "execution_count": 19,
   "id": "4e0ad9f1-2d7a-401f-81d9-c80c23d6c698",
   "metadata": {},
   "outputs": [],
   "source": [
    "# df_concat"
   ]
  },
  {
   "cell_type": "code",
   "execution_count": 20,
   "id": "07f34f6a-f560-4491-8291-818317c57c67",
   "metadata": {},
   "outputs": [],
   "source": [
    "# convert array of strings to strings\n",
    "from pyspark.sql.functions import concat_ws\n",
    "\n",
    "df_concat = df_concat.withColumn(\"text1\", concat_ws(\" \", df_concat[\"words without stop\"]))\n",
    "# df_concat"
   ]
  },
  {
   "cell_type": "code",
   "execution_count": 21,
   "id": "d71dafa7-c5c3-4325-9ed6-169a0cd57036",
   "metadata": {},
   "outputs": [],
   "source": [
    "df_concat = df_concat.drop(\"words\",\"words without stop\")\n",
    "\n",
    "# df_concat"
   ]
  },
  {
   "cell_type": "code",
   "execution_count": 22,
   "id": "dff8f3e4-d720-4a7a-b532-e6e8145b71e0",
   "metadata": {},
   "outputs": [],
   "source": [
    "df_concat = df_concat.drop(\"text\")\n",
    "\n",
    "# df_concat"
   ]
  },
  {
   "cell_type": "code",
   "execution_count": 23,
   "id": "fdb5514e-08a1-4445-8cc4-b75470172e9c",
   "metadata": {},
   "outputs": [],
   "source": [
    "df_concat = df_concat.withColumnRenamed(\"text1\",\"text\")\n",
    "\n",
    "# df_concat"
   ]
  },
  {
   "cell_type": "code",
   "execution_count": 24,
   "id": "9cf03244-bc7f-4ef6-a3ec-7b4df5a07600",
   "metadata": {},
   "outputs": [],
   "source": [
    "# most frequent words in fake news\n",
    "\n",
    "# import pyspark.sql.functions as F\n",
    "\n",
    "# fake_words_freq_df = df_concat.withColumn(\"text\", F.split(\"text\", \" \")) \\\n",
    "#     .groupBy(\"Flag\") \\\n",
    "#     .agg(F.collect_list(F.col(\"text\")).alias(\"text\")) \\\n",
    "#     .withColumn(\"w\", F.array_distinct(F.flatten(\"text\"))) \\\n",
    "#     .withColumn(\"text\", F.array_join(F.expr(\"filter(w, x -> size(filter(text, y -> array_contains(y, x))) = size(text))\"), \" \")) \\\n",
    "#     .drop(\"w\")\n",
    "\n",
    "# fake_words_freq_df"
   ]
  },
  {
   "cell_type": "code",
   "execution_count": 25,
   "id": "a1570119-2933-4882-8287-cb3487a2e343",
   "metadata": {},
   "outputs": [],
   "source": [
    "# from nltk import tokenize\n",
    "\n",
    "# token_space = tokenize.WhitespaceTokenizer()\n",
    "\n",
    "# def counter(text, column_text, quantity):\n",
    "#     all_words = ' '.join([text for text in text[column_text]])\n",
    "#     token_phrase = token_space.tokenize(all_words)\n",
    "#     frequency = nltk.FreqDist(token_phrase)\n",
    "#     df_frequency = pd.DataFrame({\"Word\": list(frequency.keys()),\n",
    "#                                    \"Frequency\": list(frequency.values())})\n",
    "#     df_frequency = df_frequency.nlargest(columns = \"Frequency\", n = quantity)\n",
    "#     plt.figure(figsize=(12,8))\n",
    "#     ax = sns.barplot(data = df_frequency, x = \"Word\", y = \"Frequency\", color = 'blue')\n",
    "#     ax.set(ylabel = \"Count\")\n",
    "#     plt.xticks(rotation='vertical')\n",
    "#     plt.show()"
   ]
  },
  {
   "cell_type": "code",
   "execution_count": 26,
   "id": "95616b60-10aa-45c6-b99e-a0a6d410afc1",
   "metadata": {},
   "outputs": [],
   "source": [
    "# most frequent words in fake news\n",
    "\n",
    "df_fake = df_concat.filter(df_concat[\"Flag\"] == \"Fake_News\")\n",
    "\n",
    "df_fake_text = df_fake.select(\"text\")\n",
    "\n",
    "# df_fake_text.show()"
   ]
  },
  {
   "cell_type": "code",
   "execution_count": 28,
   "id": "a2d3d3a7-f27c-4b22-bc2c-68b352b849ae",
   "metadata": {},
   "outputs": [
    {
     "name": "stderr",
     "output_type": "stream",
     "text": [
      "[Stage 5:>                                                          (0 + 8) / 9]\r"
     ]
    },
    {
     "name": "stdout",
     "output_type": "stream",
     "text": [
      "+---------+-------+\n",
      "|     word|  count|\n",
      "+---------+-------+\n",
      "|         |1305341|\n",
      "|    trump|  76773|\n",
      "|     said|  32978|\n",
      "|president|  26921|\n",
      "|   people|  25870|\n",
      "|      one|  23900|\n",
      "|    would|  23022|\n",
      "|  clinton|  18660|\n",
      "|    obama|  18344|\n",
      "|     like|  17514|\n",
      "|   donald|  17160|\n",
      "|     also|  15029|\n",
      "|       us|  14363|\n",
      "|     news|  14179|\n",
      "|      new|  14095|\n",
      "|  hillary|  13738|\n",
      "|     even|  13690|\n",
      "|     time|  13493|\n",
      "|    state|  13247|\n",
      "|    white|  12831|\n",
      "+---------+-------+\n",
      "only showing top 20 rows\n",
      "\n"
     ]
    },
    {
     "name": "stderr",
     "output_type": "stream",
     "text": [
      "                                                                                \r"
     ]
    }
   ],
   "source": [
    "from pyspark.sql.functions import explode\n",
    "\n",
    "df_fake_text = df_fake_text\\\n",
    ".withColumn(\"words\", split(col(\"text\"), \" \"))\\\n",
    ".where(length(\"text\")>0)\n",
    "\n",
    "df_freq_fake = df_fake_text\\\n",
    ".select(explode(col(\"words\")).alias(\"word\"))\\\n",
    ".groupBy(\"word\").count()\\\n",
    "\n",
    "df_freq_fake.orderBy(col(\"count\").desc()).show()"
   ]
  },
  {
   "cell_type": "code",
   "execution_count": 29,
   "id": "aa43bcb0-0e44-4533-9908-5e5499720fd1",
   "metadata": {},
   "outputs": [],
   "source": [
    "# most frequent words in true news\n",
    "\n",
    "df_true = df_concat.filter(df_concat[\"Flag\"] == \"True_News\")\n",
    "\n",
    "df_true_text = df_true.select(\"text\")\n",
    "\n",
    "# df_true_text.show()"
   ]
  },
  {
   "cell_type": "code",
   "execution_count": 30,
   "id": "c1d301e6-6901-4f6d-81bf-43e9d33dbc6a",
   "metadata": {},
   "outputs": [],
   "source": [
    "df_true_text = df_true_text\\\n",
    ".withColumn(\"line\", regexp_replace(lower(col(\"text\")), r\"[^0-9a-z]\", \" \"))\\\n",
    ".withColumn(\"words\", split(col(\"line\"), \" \"))\\\n",
    ".where(length(\"line\")>0)\n",
    "\n",
    "# df_true_text"
   ]
  },
  {
   "cell_type": "code",
   "execution_count": 31,
   "id": "c8540eb5-1966-4b6f-a4f4-adf4f88c577a",
   "metadata": {},
   "outputs": [],
   "source": [
    "from pyspark.sql.functions import explode\n",
    "\n",
    "df_fake_text = df_fake_text\\\n",
    ".withColumn(\"words\", split(col(\"text\"), \" \"))\\\n",
    ".where(length(\"text\")>0)\n",
    "\n",
    "df_freq_fake = df_fake_text\\\n",
    ".select(explode(col(\"words\")).alias(\"word\"))\\\n",
    ".groupBy(\"word\").count()\\\n",
    "\n",
    "# df_freq_fake.orderBy(col(\"count\").desc()).show()"
   ]
  },
  {
   "cell_type": "code",
   "execution_count": 75,
   "id": "497174c3-8b2d-4c39-9e5c-68d19c192d0c",
   "metadata": {},
   "outputs": [
    {
     "name": "stderr",
     "output_type": "stream",
     "text": [
      "                                                                                \r"
     ]
    },
    {
     "name": "stdout",
     "output_type": "stream",
     "text": [
      "+--------------------+----+------------+--------------------+\n",
      "|             subject|Flag|          id|                text|\n",
      "+--------------------+----+------------+--------------------+\n",
      "|           left-news|   0| 51539608306|wonder latino ame...|\n",
      "|           worldnews|   1|120259084538|rome  reuters    ...|\n",
      "|        politicsNews|   1| 94489280901|washington  reute...|\n",
      "|        politicsNews|   1| 94489282582|washington  reute...|\n",
      "|            politics|   0| 25769804623|president trump f...|\n",
      "|                News|   0|  8589936987|fox news host fou...|\n",
      "|           left-news|   0| 42949673879|silly  silly donn...|\n",
      "|           worldnews|   1|111669152472|madrid  reuters  ...|\n",
      "|                News|   0| 17179871539|new jersey teenag...|\n",
      "|                News|   0| 17179870762|group house repub...|\n",
      "|           worldnews|   1|128849020006|bangkok  reuters ...|\n",
      "|            politics|   0| 25769805299|msnbc lawrence do...|\n",
      "|           left-news|   0| 51539608051|would ellen motiv...|\n",
      "|           worldnews|   1|120259085139|canberra  reuters...|\n",
      "|           worldnews|   1|111669150933|seoul  reuters   ...|\n",
      "|           worldnews|   1|111669151198|beirut  reuters  ...|\n",
      "|                News|   0|  8589934995|trump cannot hand...|\n",
      "|           worldnews|   1|111669152287|beijing  reuters ...|\n",
      "|     Government News|   0| 34359741324|president trump s...|\n",
      "|                News|   0| 17179870972|six people dead w...|\n",
      "|            politics|   0| 25769804521|kid rock official...|\n",
      "|            politics|   0| 25769806932|student governmen...|\n",
      "|           worldnews|   1|120259087058|marseille  reuter...|\n",
      "|            politics|   0| 34359739086|totally left fiel...|\n",
      "|        politicsNews|   1|103079215196|washington  reute...|\n",
      "|                News|   0|  8589937039|white privilege f...|\n",
      "|         Middle-east|   0| 60129542782|21st century wire...|\n",
      "|           worldnews|   1|120259084635| reuters    drone...|\n",
      "|           worldnews|   1|111669151682|washington  reute...|\n",
      "|                News|   0| 17179869835|michigan governor...|\n",
      "|            politics|   0| 34359739095|florida governor ...|\n",
      "|        politicsNews|   1| 94489281194|warsaw  poland  r...|\n",
      "|            politics|   0| 25769805933|complete list lin...|\n",
      "|        politicsNews|   1|103079215555|washington  reute...|\n",
      "|           worldnews|   1|128849019445|moscow  reuters  ...|\n",
      "|           left-news|   0| 42949674252|kind woman brough...|\n",
      "|           worldnews|   1|128849019254|juchitan  mexico ...|\n",
      "|            politics|   0| 25769807287|                    |\n",
      "|            politics|   0| 25769805536| threw reputation...|\n",
      "|           worldnews|   1|111669151765|tehran  reuters  ...|\n",
      "|           left-news|   0| 42949675218|                    |\n",
      "|        politicsNews|   1| 94489281688|new york  reuters...|\n",
      "|           worldnews|   1|103079215669|beijing taipei  r...|\n",
      "|                News|   0|        2875|donald trump thre...|\n",
      "|           worldnews|   1|128849020150|moscow  reuters  ...|\n",
      "|             US_News|   0| 51539609863|21st century wire...|\n",
      "|            politics|   0| 34359740336|many people aroun...|\n",
      "|           left-news|   0| 42949675127|former english de...|\n",
      "|           worldnews|   1|111669151370|seoul  reuters   ...|\n",
      "|        politicsNews|   1| 85899346739|washington  reute...|\n",
      "|           worldnews|   1|128849019573|lagos  reuters   ...|\n",
      "|        politicsNews|   1| 94489282874| reuters    conse...|\n",
      "|           worldnews|   1|128849019704|moscow  reuters  ...|\n",
      "|        politicsNews|   1| 68719478145| reuters    bipar...|\n",
      "|           worldnews|   1|120259084522|brussels  reuters...|\n",
      "|           worldnews|   1|111669150507|moscow  reuters  ...|\n",
      "|           worldnews|   1|111669151977|dubai  reuters   ...|\n",
      "|        politicsNews|   1| 68719476982|new york  reuters...|\n",
      "|        politicsNews|   1| 85899346095|washington  reute...|\n",
      "|                News|   0| 17179871243|year people flint...|\n",
      "|                News|   0|        1697|bad trump gop  se...|\n",
      "|        politicsNews|   1| 85899348282|washington  reute...|\n",
      "|           worldnews|   1|103079217680|amsterdam  reuter...|\n",
      "|             US_News|   0| 51539609793|21st century wire...|\n",
      "|        politicsNews|   1| 68719479560|washington  reute...|\n",
      "|            politics|   0| 25769804262|thanks one brave ...|\n",
      "|                News|   0|  8589935262|donald trump says...|\n",
      "|     Government News|   0| 34359741593|https   www youtu...|\n",
      "|           worldnews|   1|120259086490|lusaka  reuters  ...|\n",
      "|           worldnews|   1|111669151666|united nations  r...|\n",
      "|           left-news|   0| 42949673956| america seen cra...|\n",
      "|        politicsNews|   1| 85899347849|new york  reuters...|\n",
      "|           worldnews|   1|120259084839|united nations  r...|\n",
      "|             US_News|   0| 51539609558|patrick henningse...|\n",
      "|            politics|   0| 25769805279|watch happens lau...|\n",
      "|        politicsNews|   1| 68719479521|washington  reute...|\n",
      "|     Government News|   0| 42949673563|bah  humbug   man...|\n",
      "|        politicsNews|   1| 77309411846|los angeles  reut...|\n",
      "|           worldnews|   1|111669150911|baghdad  reuters ...|\n",
      "|        politicsNews|   1| 94489280866| reuters    repub...|\n",
      "|        politicsNews|   1| 94489281258|chicago  reuters ...|\n",
      "|            politics|   0| 25769805311|reza aslan cnn ho...|\n",
      "|        politicsNews|   1| 68719479532|little hocking  o...|\n",
      "|        politicsNews|   1| 77309412463|  april 27 story ...|\n",
      "|                News|   0| 17179869437|plant workers lar...|\n",
      "|           worldnews|   1|103079218053|nairobi    reuter...|\n",
      "|                News|   0| 17179870684|noticed donald tr...|\n",
      "|                News|   0| 17179871770|david daleiden  m...|\n",
      "| believe them.\"\" ...|   0| 17179870209| donald trump abs...|\n",
      "| Jr is toast.  Cl...|   0|         876| entire weekend  ...|\n",
      "|        politicsNews|   1| 68719479224|moscow  reuters  ...|\n",
      "|     fjs);}(document|   0| 17179871451| salesperson  try...|\n",
      "|     Government News|   0| 42949673544|war american flag...|\n",
      "|                News|   0|  8589936049|protests erupted ...|\n",
      "|                News|   0|  8589935324|post election  me...|\n",
      "|            politics|   0| 34359740140|spoken like true ...|\n",
      "|        politicsNews|   1| 85899347472|seoul  reuters   ...|\n",
      "|                News|   0| 17179870218|mississippi repub...|\n",
      "|            politics|   0| 25769805026|maine state repre...|\n",
      "|           worldnews|   1|103079216080|new delhi  reuter...|\n",
      "|           worldnews|   1|103079216457|vienna  reuters  ...|\n",
      "|        politicsNews|   1| 68719476849|new york  reuters...|\n",
      "|                News|   0|  8589937112|11 tuesday mornin...|\n",
      "|     Government News|   0| 34359741897|little dose commo...|\n",
      "|        politicsNews|   1| 77309413556|new york  reuters...|\n",
      "|           left-news|   0| 42949674226|1999 video jesse ...|\n",
      "|        politicsNews|   1| 77309412927|washington  reute...|\n",
      "|           worldnews|   1|120259085069|washington  reute...|\n",
      "|     Government News|   0| 42949673530|apparently  keepi...|\n",
      "|           worldnews|   1|120259086164|wellington  reute...|\n",
      "|           left-news|   0| 42949674225|excerpt advocate ...|\n",
      "|        politicsNews|   1| 85899347941| reuters    petit...|\n",
      "|                News|   0| 17179871805|last night state ...|\n",
      "|           worldnews|   1|103079216650|paris  reuters   ...|\n",
      "|           worldnews|   1|111669150277|cairo  reuters   ...|\n",
      "|        politicsNews|   1| 94489281367|san francisco  re...|\n",
      "|           left-news|   0| 51539608736|drip drip drip co...|\n",
      "|        politicsNews|   1| 85899346947| reuters    presi...|\n",
      "|            politics|   0| 25769804571|washington post  ...|\n",
      "|        politicsNews|   1| 68719478338|chicago  reuters ...|\n",
      "|           worldnews|   1|111669150826|moscow  reuters  ...|\n",
      "|                News|   0|        2211|house plan repeal...|\n",
      "|                News|   0|        2370|trump young admin...|\n",
      "|                News|   0|         561|sure take long do...|\n",
      "|        politicsNews|   1| 94489280894|washington  reute...|\n",
      "|        politicsNews|   1| 68719477162|washington  reute...|\n",
      "|           worldnews|   1|120259084830|brussels  reuters...|\n",
      "|                News|   0|        1816|washington post r...|\n",
      "|        politicsNews|   1| 85899347284|washington  reute...|\n",
      "|                News|   0|  8589935626|way trump talk im...|\n",
      "|           worldnews|   1|120259086482|zurich  reuters  ...|\n",
      "|         Middle-east|   0| 60129542843|see also  orlando...|\n",
      "|        politicsNews|   1| 94489281930|geneva  reuters  ...|\n",
      "|           worldnews|   1|111669152240|athens  reuters  ...|\n",
      "|            politics|   0| 34359739988|sad  tragic misun...|\n",
      "|           left-news|   0| 51539607622|corporations firs...|\n",
      "|        politicsNews|   1| 85899347181|washington new yo...|\n",
      "|        politicsNews|   1| 77309411937|washington  reute...|\n",
      "|           left-news|   0| 42949674525|meanwhile  virtua...|\n",
      "|        politicsNews|   1| 94489282274| reuters    repub...|\n",
      "|           worldnews|   1|103079217321|tripoli  reuters ...|\n",
      "|                News|   0|         650|donald trump piss...|\n",
      "| 2017Did @SenJohn...|   0|          71| senator john mcc...|\n",
      "|        politicsNews|   1| 68719478885|santiago  reuters...|\n",
      "|           worldnews|   1|128849019922|seoul  reuters   ...|\n",
      "|           left-news|   0| 42949673726|yesterday  coward...|\n",
      "|     Government News|   0| 34359741712|                    |\n",
      "| whose home they ...|   0| 25769803939| fox news anchor ...|\n",
      "|             US_News|   0| 51539609577|andrew korybko gl...|\n",
      "|        politicsNews|   1| 85899346622|washington  reute...|\n",
      "|            politics|   0| 34359740963|44th president pa...|\n",
      "|            politics|   0| 25769806502|pussyhat project ...|\n",
      "|                News|   0| 17179871298|content mere robo...|\n",
      "|           worldnews|   1|103079217548|amman  reuters   ...|\n",
      "|        politicsNews|   1| 77309411860|washington  reute...|\n",
      "|        politicsNews|   1| 94489280690|washington  reute...|\n",
      "|                News|   0|        3036|republicans hilar...|\n",
      "|           worldnews|   1|111669151511|aden  reuters    ...|\n",
      "|     Government News|   0| 42949673094|say  new york tow...|\n",
      "|                News|   0|        1832|video passenger v...|\n",
      "|           worldnews|   1|128849019306|mexico city  reut...|\n",
      "|        politicsNews|   1| 94489280648|washington new yo...|\n",
      "|                News|   0|         525|donald trump wast...|\n",
      "|        politicsNews|   1| 94489281091|cleveland  reuter...|\n",
      "|            politics|   0| 34359739523|remember college ...|\n",
      "|        politicsNews|   1| 68719477145|washington  reute...|\n",
      "|        politicsNews|   1| 68719479281|washington  reute...|\n",
      "|        politicsNews|   1| 77309412558|washington  reute...|\n",
      "|             US_News|   0| 51539609854|21st century wire...|\n",
      "|           left-news|   0| 42949674873|disturbing wake c...|\n",
      "|           worldnews|   1|111669150590|berlin  reuters  ...|\n",
      "|                News|   0| 17179870146|saturday night li...|\n",
      "|            politics|   0| 34359739511| really know    n...|\n",
      "|           worldnews|   1|103079218040|mexico city  reut...|\n",
      "|           worldnews|   1|120259084998|manila  reuters  ...|\n",
      "|           worldnews|   1|120259086360|ankara  reuters  ...|\n",
      "|                News|   0|  8589935496|james comey  dire...|\n",
      "|           worldnews|   1|120259086127|karangasem  indon...|\n",
      "|            politics|   0| 25769807295| warning  story c...|\n",
      "|            politics|   0| 25769806631|                    |\n",
      "|                News|   0|        2345|paul ryan said ho...|\n",
      "|        politicsNews|   1| 94489282257| reuters    u  su...|\n",
      "|        politicsNews|   1| 77309412747|moscow washington...|\n",
      "| 2016Hey @HomeDep...|   0| 51539608037| people angry wea...|\n",
      "|        politicsNews|   1| 94489280722|des moines  iowa ...|\n",
      "|              2017 \"|   0| 25769804833| bad news lyin  l...|\n",
      "|     Government News|   0| 34359742027|obama clearly att...|\n",
      "|        politicsNews|   1| 68719478611|washington  reute...|\n",
      "|            politics|   0| 25769807480|hillary fights ba...|\n",
      "|        politicsNews|   1| 94489281967|  version may 10 ...|\n",
      "|           worldnews|   1|111669151256|moscow  reuters  ...|\n",
      "|        politicsNews|   1| 68719478882|washington  reute...|\n",
      "|                News|   0| 17179869611|republicans great...|\n",
      "|        politicsNews|   1| 68719478239|washington  reute...|\n",
      "|       2016Of course|   0|  8589936549| former new york ...|\n",
      "|            politics|   0| 25769807407|wonder want anyon...|\n",
      "|        politicsNews|   1| 68719478995| reuters    five ...|\n",
      "|                News|   0| 17179870182|thursday  u  dist...|\n",
      "|        politicsNews|   1| 94489282318|washington  reute...|\n",
      "|           left-news|   0| 42949674662|ceo outdoor cloth...|\n",
      "+--------------------+----+------------+--------------------+\n",
      "only showing top 200 rows\n",
      "\n"
     ]
    }
   ],
   "source": [
    "df3.show(200)"
   ]
  },
  {
   "cell_type": "markdown",
   "id": "bf9fa185-f6ab-471b-a15a-26d1e4583e1e",
   "metadata": {},
   "source": [
    "#### Logistic Regression"
   ]
  },
  {
   "cell_type": "code",
   "execution_count": 32,
   "id": "ff29d0f7-4f90-4569-838f-35068d8412f0",
   "metadata": {},
   "outputs": [],
   "source": [
    "df = df_concat\n",
    "\n",
    "# df"
   ]
  },
  {
   "cell_type": "code",
   "execution_count": 33,
   "id": "a6a19b7a-6a6a-42ec-a5d5-62f8c4f54b67",
   "metadata": {},
   "outputs": [],
   "source": [
    "from pyspark.sql.functions import when\n",
    "\n",
    "df3 = df.withColumn(\"Flag\", when(df.Flag == \"True_News\",1) \\\n",
    "      .when(df.Flag == \"Fake_News\",0) \\\n",
    "      .otherwise(df.Flag))\n",
    "\n",
    "# df3"
   ]
  },
  {
   "cell_type": "code",
   "execution_count": 35,
   "id": "328f26be-4bc7-4849-816d-c396d00d39b5",
   "metadata": {},
   "outputs": [
    {
     "name": "stdout",
     "output_type": "stream",
     "text": [
      "root\n",
      " |-- subject: string (nullable = true)\n",
      " |-- Flag: integer (nullable = true)\n",
      " |-- id: long (nullable = false)\n",
      " |-- text: string (nullable = false)\n",
      "\n"
     ]
    },
    {
     "name": "stderr",
     "output_type": "stream",
     "text": [
      "                                                                                \r"
     ]
    },
    {
     "data": {
      "text/plain": [
       "44898"
      ]
     },
     "execution_count": 35,
     "metadata": {},
     "output_type": "execute_result"
    }
   ],
   "source": [
    "df3 = df3.withColumn(\"Flag\",col(\"Flag\").cast(\"int\"))\n",
    "df3.printSchema()\n",
    "df3.count()"
   ]
  },
  {
   "cell_type": "code",
   "execution_count": 36,
   "id": "a444b1c5-06cf-45b5-966c-cddee6608214",
   "metadata": {},
   "outputs": [
    {
     "name": "stderr",
     "output_type": "stream",
     "text": [
      "                                                                                \r"
     ]
    }
   ],
   "source": [
    "# x values and Y values\n",
    "\n",
    "x = df3.select('text').rdd.flatMap(lambda x: x).collect()\n",
    "y = df3.select('Flag').rdd.flatMap(lambda x: x).collect()"
   ]
  },
  {
   "cell_type": "code",
   "execution_count": 37,
   "id": "4d6fc825-65cc-41c5-a32d-79df0f147b2e",
   "metadata": {},
   "outputs": [],
   "source": [
    "from sklearn.model_selection import train_test_split\n",
    "from sklearn.metrics import classification_report\n",
    "\n",
    "x_train, x_test, y_train, y_test = train_test_split(x,y,test_size=.25)"
   ]
  },
  {
   "cell_type": "code",
   "execution_count": 38,
   "id": "7c021327-26a8-4a64-aaa6-8dcb234d3f9b",
   "metadata": {},
   "outputs": [
    {
     "data": {
      "text/plain": [
       "'washington  reuters    republican u  president elect donald trump removed new jersey governor chris christie leader transition team  handing reins vice president elect mike pence  former u  lawmaker deep washington ties  new york times reported friday   times  citing several sources close transition team  said trump told advisers wanted use pence contacts move transition process along  nbc news also reported handover  came one week two former christie associates found guilty new jersey  bridgegate  scandal   '"
      ]
     },
     "execution_count": 38,
     "metadata": {},
     "output_type": "execute_result"
    }
   ],
   "source": [
    "x_train[0]"
   ]
  },
  {
   "cell_type": "code",
   "execution_count": 39,
   "id": "3c19d2aa-afaf-462b-87de-e902312ad233",
   "metadata": {},
   "outputs": [
    {
     "data": {
      "text/plain": [
       "1"
      ]
     },
     "execution_count": 39,
     "metadata": {},
     "output_type": "execute_result"
    }
   ],
   "source": [
    "y_train[0]"
   ]
  },
  {
   "cell_type": "code",
   "execution_count": 40,
   "id": "f2ac6478-8538-4f5e-b58b-305180c40e2a",
   "metadata": {},
   "outputs": [],
   "source": [
    "#vectorize the text\n",
    "\n",
    "from sklearn.feature_extraction.text import TfidfVectorizer"
   ]
  },
  {
   "cell_type": "code",
   "execution_count": 41,
   "id": "ec160a67-d003-45a2-ba86-5c44d8878c2e",
   "metadata": {},
   "outputs": [],
   "source": [
    "vectorization = TfidfVectorizer()\n",
    "xv_train = vectorization.fit_transform(x_train)\n",
    "xv_test = vectorization.transform(x_test)"
   ]
  },
  {
   "cell_type": "code",
   "execution_count": 42,
   "id": "c8175c86-f483-4606-8d33-d59c4e8f4882",
   "metadata": {},
   "outputs": [
    {
     "data": {
      "text/plain": [
       "<33673x105679 sparse matrix of type '<class 'numpy.float64'>'\n",
       "\twith 5475333 stored elements in Compressed Sparse Row format>"
      ]
     },
     "execution_count": 42,
     "metadata": {},
     "output_type": "execute_result"
    }
   ],
   "source": [
    "xv_train"
   ]
  },
  {
   "cell_type": "code",
   "execution_count": 43,
   "id": "d20e7fa8-fa28-4237-91b9-c69c7bf4a279",
   "metadata": {},
   "outputs": [
    {
     "data": {
      "text/plain": [
       "array([0., 0., 0., ..., 0., 0., 0.])"
      ]
     },
     "execution_count": 43,
     "metadata": {},
     "output_type": "execute_result"
    }
   ],
   "source": [
    "xv_train.toarray()[0]"
   ]
  },
  {
   "cell_type": "code",
   "execution_count": 44,
   "id": "0d9fc314-def7-4d88-92fe-942d012d7c58",
   "metadata": {},
   "outputs": [],
   "source": [
    "from sklearn.linear_model import LogisticRegression"
   ]
  },
  {
   "cell_type": "code",
   "execution_count": 45,
   "id": "caf0a8a7-48a6-49e1-ba86-00042022bb8d",
   "metadata": {},
   "outputs": [
    {
     "data": {
      "text/plain": [
       "LogisticRegression()"
      ]
     },
     "execution_count": 45,
     "metadata": {},
     "output_type": "execute_result"
    }
   ],
   "source": [
    "LR = LogisticRegression()\n",
    "LR.fit(xv_train, y_train)"
   ]
  },
  {
   "cell_type": "code",
   "execution_count": 46,
   "id": "fe9ee1b1-b16a-42fa-9226-8c9c4338732b",
   "metadata": {},
   "outputs": [
    {
     "data": {
      "text/plain": [
       "0.9841425389755011"
      ]
     },
     "execution_count": 46,
     "metadata": {},
     "output_type": "execute_result"
    }
   ],
   "source": [
    "LR.score(xv_test, y_test)"
   ]
  },
  {
   "cell_type": "code",
   "execution_count": 47,
   "id": "2a5ae986-e771-46de-a6cb-96020b558fed",
   "metadata": {},
   "outputs": [
    {
     "data": {
      "text/plain": [
       "array([1, 1, 1, ..., 1, 1, 1])"
      ]
     },
     "execution_count": 47,
     "metadata": {},
     "output_type": "execute_result"
    }
   ],
   "source": [
    "pred_LR = LR.predict(xv_test)\n",
    "pred_LR"
   ]
  },
  {
   "cell_type": "code",
   "execution_count": 48,
   "id": "8ff2e26c-ec46-4e5a-b9e5-452d3c04ce04",
   "metadata": {},
   "outputs": [
    {
     "name": "stdout",
     "output_type": "stream",
     "text": [
      "              precision    recall  f1-score   support\n",
      "\n",
      "           0       0.99      0.98      0.98      5885\n",
      "           1       0.98      0.99      0.98      5340\n",
      "\n",
      "    accuracy                           0.98     11225\n",
      "   macro avg       0.98      0.98      0.98     11225\n",
      "weighted avg       0.98      0.98      0.98     11225\n",
      "\n"
     ]
    }
   ],
   "source": [
    "print(classification_report(y_test, pred_LR))"
   ]
  },
  {
   "cell_type": "code",
   "execution_count": 49,
   "id": "8108ea8b-4192-40b7-8113-6082b1e8d982",
   "metadata": {},
   "outputs": [],
   "source": [
    "import re, string\n",
    "def wordopt(text):\n",
    "    text = text.lower()\n",
    "    text = re.sub('\\[.*?\\]', '', text)\n",
    "    text = re.sub(\"\\\\W\",\" \",text) \n",
    "    text = re.sub('https?://\\S+|www\\.\\S+', '', text)\n",
    "    text = re.sub('<.*?>+', '', text)\n",
    "    text = re.sub('[%s]' % re.escape(string.punctuation), '', text)\n",
    "    text = re.sub('\\n', '', text)\n",
    "    text = re.sub('\\w*\\d\\w*', '', text)    \n",
    "    return text"
   ]
  },
  {
   "cell_type": "code",
   "execution_count": 50,
   "id": "05d34421-4a9f-44a3-af73-2d6361e2298e",
   "metadata": {},
   "outputs": [],
   "source": [
    "import pandas as pd\n",
    "def output_lable(n):\n",
    "    if n == 0:\n",
    "        return \"Fake News\"\n",
    "    elif n == 1:\n",
    "        return \"Not A Fake News\"\n",
    "    \n",
    "def manual_testing(news):\n",
    "    testing_news = {\"text\":[news]}\n",
    "    new_def_test = pd.DataFrame(testing_news)\n",
    "    new_def_test[\"text\"] = new_def_test[\"text\"].apply(wordopt) \n",
    "    new_x_test = new_def_test[\"text\"]\n",
    "    new_xv_test = vectorization.transform(new_x_test)\n",
    "    pred_LR = LR.predict(new_xv_test)\n",
    "    print(\"*****\")\n",
    "    print(new_xv_test)\n",
    "    print(type(pred_LR[0]))\n",
    "    print(type(pred_LR[0]))\n",
    "    # pred_DT = DT.predict(new_xv_test)\n",
    "    # pred_GBC = GBC.predict(new_xv_test)\n",
    "    # pred_RFC = RFC.predict(new_xv_test)\n",
    "\n",
    "    return print(\"\\n\\nLR Prediction: {} \\n\".format(output_lable(pred_LR[0])))"
   ]
  },
  {
   "cell_type": "code",
   "execution_count": 52,
   "id": "0ddc1a59-579c-407f-af0c-2b68161de342",
   "metadata": {},
   "outputs": [
    {
     "name": "stdin",
     "output_type": "stream",
     "text": [
      " LONDON (Reuters) - LexisNexis, a provider of legal, regulatory and business information, said on Tuesday it had withdrawn two products from the Chinese market in March this year after it was asked to remove some content.  The issue of academic freedom in China hit the headlines this week after the leading British academic publisher,  Cambridge University Press, said it had complied with a request to block online access to some scholarly articles in China.  It later reversed its position.   Earlier this year LexisNexis Business Insight Solutions in China was asked to remove some content from its database,  LexisNexis said in a statement.  In March 2017, the company withdrew two products (Nexis and LexisNexis Academic) from the Chinese market.  LexisNexis is owned by information group Relx.\n"
     ]
    },
    {
     "name": "stdout",
     "output_type": "stream",
     "text": [
      "*****\n",
      "  (0, 104261)\t0.062113217743404024\n",
      "  (0, 102875)\t0.08884373683939102\n",
      "  (0, 102873)\t0.09400165271267218\n",
      "  (0, 101706)\t0.03666925169281988\n",
      "  (0, 98195)\t0.05458166324095393\n",
      "  (0, 96929)\t0.06307502582305753\n",
      "  (0, 96442)\t0.039818455021442156\n",
      "  (0, 89389)\t0.039032819256168645\n",
      "  (0, 87947)\t0.08206146553502687\n",
      "  (0, 83633)\t0.1184982886307607\n",
      "  (0, 82450)\t0.05685332712766565\n",
      "  (0, 80126)\t0.08602251020559346\n",
      "  (0, 80066)\t0.02482659723026979\n",
      "  (0, 79597)\t0.05718615515651515\n",
      "  (0, 79172)\t0.1386950791720891\n",
      "  (0, 78764)\t0.07817873577256551\n",
      "  (0, 75680)\t0.1008427948247376\n",
      "  (0, 75442)\t0.09444383072265919\n",
      "  (0, 74998)\t0.1480535164968732\n",
      "  (0, 74607)\t0.049535052730624016\n",
      "  (0, 73861)\t0.05314917160400599\n",
      "  (0, 69943)\t0.06807439451240366\n",
      "  (0, 68671)\t0.06304618034404079\n",
      "  (0, 65939)\t0.15420553110690025\n",
      "  (0, 59321)\t0.12084414939648837\n",
      "  :\t:\n",
      "  (0, 55599)\t0.050652401115840545\n",
      "  (0, 55397)\t0.05642559211190205\n",
      "  (0, 55067)\t0.04633053030584754\n",
      "  (0, 49261)\t0.047025710870372474\n",
      "  (0, 48133)\t0.09715382010183829\n",
      "  (0, 47801)\t0.09865883754928201\n",
      "  (0, 44663)\t0.05659384755010926\n",
      "  (0, 43525)\t0.08154904117157867\n",
      "  (0, 41602)\t0.0404594913488153\n",
      "  (0, 38024)\t0.059397048115089626\n",
      "  (0, 31629)\t0.04601058458271816\n",
      "  (0, 26722)\t0.0914180883801491\n",
      "  (0, 24102)\t0.15346735722019725\n",
      "  (0, 23339)\t0.0995051178907135\n",
      "  (0, 23227)\t0.05472247427916371\n",
      "  (0, 21197)\t0.1297788325610487\n",
      "  (0, 21185)\t0.16561351584504838\n",
      "  (0, 18891)\t0.11011867975826141\n",
      "  (0, 18258)\t0.09409286270383962\n",
      "  (0, 17428)\t0.061559992985282704\n",
      "  (0, 15743)\t0.06442333267283747\n",
      "  (0, 11360)\t0.08227742060796285\n",
      "  (0, 11159)\t0.08565245581229332\n",
      "  (0, 7073)\t0.0571107677127392\n",
      "  (0, 7032)\t0.25920704069010314\n",
      "<class 'numpy.int64'>\n",
      "<class 'numpy.int64'>\n",
      "\n",
      "\n",
      "LR Prediction: Not A Fake News \n",
      "\n"
     ]
    }
   ],
   "source": [
    "news = str(input())\n",
    "manual_testing(news)"
   ]
  },
  {
   "cell_type": "code",
   "execution_count": 63,
   "id": "b03e4596-4fe6-46b9-9f21-3891870ba01c",
   "metadata": {},
   "outputs": [
    {
     "name": "stdout",
     "output_type": "stream",
     "text": [
      "root\n",
      " |-- subject: string (nullable = true)\n",
      " |-- Flag: integer (nullable = true)\n",
      " |-- id: long (nullable = false)\n",
      " |-- text: string (nullable = false)\n",
      "\n"
     ]
    }
   ],
   "source": [
    "df3.printSchema()"
   ]
  },
  {
   "cell_type": "code",
   "execution_count": 64,
   "id": "54773d3e-6838-4759-8233-2bf96c36d8bf",
   "metadata": {},
   "outputs": [
    {
     "name": "stderr",
     "output_type": "stream",
     "text": [
      "                                                                                \r"
     ]
    },
    {
     "data": {
      "text/html": [
       "<table border='1'>\n",
       "<tr><th>flag</th><th>count</th></tr>\n",
       "<tr><td>0</td><td>23481</td></tr>\n",
       "<tr><td>1</td><td>21417</td></tr>\n",
       "</table>\n"
      ],
      "text/plain": [
       "+----+-----+\n",
       "|flag|count|\n",
       "+----+-----+\n",
       "|   0|23481|\n",
       "|   1|21417|\n",
       "+----+-----+"
      ]
     },
     "execution_count": 64,
     "metadata": {},
     "output_type": "execute_result"
    }
   ],
   "source": [
    "df3.groupby('flag').count()"
   ]
  },
  {
   "cell_type": "code",
   "execution_count": 66,
   "id": "30aa7bbb-528a-41d6-88d4-8470bf7ecd18",
   "metadata": {},
   "outputs": [
    {
     "name": "stdout",
     "output_type": "stream",
     "text": [
      "+--------------------+----+------------+--------------------+\n",
      "|             subject|Flag|          id|                text|\n",
      "+--------------------+----+------------+--------------------+\n",
      "|           left-news|   0| 51539608306|wonder latino ame...|\n",
      "|           worldnews|   1|120259084538|rome  reuters    ...|\n",
      "|        politicsNews|   1| 94489280901|washington  reute...|\n",
      "|        politicsNews|   1| 94489282582|washington  reute...|\n",
      "|            politics|   0| 25769804623|president trump f...|\n",
      "|                News|   0|  8589936987|fox news host fou...|\n",
      "|           left-news|   0| 42949673879|silly  silly donn...|\n",
      "|           worldnews|   1|111669152472|madrid  reuters  ...|\n",
      "|                News|   0| 17179871539|new jersey teenag...|\n",
      "|                News|   0| 17179870762|group house repub...|\n",
      "|           worldnews|   1|128849020006|bangkok  reuters ...|\n",
      "|            politics|   0| 25769805299|msnbc lawrence do...|\n",
      "|           left-news|   0| 51539608051|would ellen motiv...|\n",
      "|           worldnews|   1|120259085139|canberra  reuters...|\n",
      "|           worldnews|   1|111669150933|seoul  reuters   ...|\n",
      "|           worldnews|   1|111669151198|beirut  reuters  ...|\n",
      "|                News|   0|  8589934995|trump cannot hand...|\n",
      "|           worldnews|   1|111669152287|beijing  reuters ...|\n",
      "|     Government News|   0| 34359741324|president trump s...|\n",
      "|                News|   0| 17179870972|six people dead w...|\n",
      "|            politics|   0| 25769804521|kid rock official...|\n",
      "|            politics|   0| 25769806932|student governmen...|\n",
      "|           worldnews|   1|120259087058|marseille  reuter...|\n",
      "|            politics|   0| 34359739086|totally left fiel...|\n",
      "|        politicsNews|   1|103079215196|washington  reute...|\n",
      "|                News|   0|  8589937039|white privilege f...|\n",
      "|         Middle-east|   0| 60129542782|21st century wire...|\n",
      "|           worldnews|   1|120259084635| reuters    drone...|\n",
      "|           worldnews|   1|111669151682|washington  reute...|\n",
      "|                News|   0| 17179869835|michigan governor...|\n",
      "|            politics|   0| 34359739095|florida governor ...|\n",
      "|        politicsNews|   1| 94489281194|warsaw  poland  r...|\n",
      "|            politics|   0| 25769805933|complete list lin...|\n",
      "|        politicsNews|   1|103079215555|washington  reute...|\n",
      "|           worldnews|   1|128849019445|moscow  reuters  ...|\n",
      "|           left-news|   0| 42949674252|kind woman brough...|\n",
      "|           worldnews|   1|128849019254|juchitan  mexico ...|\n",
      "|            politics|   0| 25769807287|                    |\n",
      "|            politics|   0| 25769805536| threw reputation...|\n",
      "|           worldnews|   1|111669151765|tehran  reuters  ...|\n",
      "|           left-news|   0| 42949675218|                    |\n",
      "|        politicsNews|   1| 94489281688|new york  reuters...|\n",
      "|           worldnews|   1|103079215669|beijing taipei  r...|\n",
      "|                News|   0|        2875|donald trump thre...|\n",
      "|           worldnews|   1|128849020150|moscow  reuters  ...|\n",
      "|             US_News|   0| 51539609863|21st century wire...|\n",
      "|            politics|   0| 34359740336|many people aroun...|\n",
      "|           left-news|   0| 42949675127|former english de...|\n",
      "|           worldnews|   1|111669151370|seoul  reuters   ...|\n",
      "|        politicsNews|   1| 85899346739|washington  reute...|\n",
      "|           worldnews|   1|128849019573|lagos  reuters   ...|\n",
      "|        politicsNews|   1| 94489282874| reuters    conse...|\n",
      "|           worldnews|   1|128849019704|moscow  reuters  ...|\n",
      "|        politicsNews|   1| 68719478145| reuters    bipar...|\n",
      "|           worldnews|   1|120259084522|brussels  reuters...|\n",
      "|           worldnews|   1|111669150507|moscow  reuters  ...|\n",
      "|           worldnews|   1|111669151977|dubai  reuters   ...|\n",
      "|        politicsNews|   1| 68719476982|new york  reuters...|\n",
      "|        politicsNews|   1| 85899346095|washington  reute...|\n",
      "|                News|   0| 17179871243|year people flint...|\n",
      "|                News|   0|        1697|bad trump gop  se...|\n",
      "|        politicsNews|   1| 85899348282|washington  reute...|\n",
      "|           worldnews|   1|103079217680|amsterdam  reuter...|\n",
      "|             US_News|   0| 51539609793|21st century wire...|\n",
      "|        politicsNews|   1| 68719479560|washington  reute...|\n",
      "|            politics|   0| 25769804262|thanks one brave ...|\n",
      "|                News|   0|  8589935262|donald trump says...|\n",
      "|     Government News|   0| 34359741593|https   www youtu...|\n",
      "|           worldnews|   1|120259086490|lusaka  reuters  ...|\n",
      "|           worldnews|   1|111669151666|united nations  r...|\n",
      "|           left-news|   0| 42949673956| america seen cra...|\n",
      "|        politicsNews|   1| 85899347849|new york  reuters...|\n",
      "|           worldnews|   1|120259084839|united nations  r...|\n",
      "|             US_News|   0| 51539609558|patrick henningse...|\n",
      "|            politics|   0| 25769805279|watch happens lau...|\n",
      "|        politicsNews|   1| 68719479521|washington  reute...|\n",
      "|     Government News|   0| 42949673563|bah  humbug   man...|\n",
      "|        politicsNews|   1| 77309411846|los angeles  reut...|\n",
      "|           worldnews|   1|111669150911|baghdad  reuters ...|\n",
      "|        politicsNews|   1| 94489280866| reuters    repub...|\n",
      "|        politicsNews|   1| 94489281258|chicago  reuters ...|\n",
      "|            politics|   0| 25769805311|reza aslan cnn ho...|\n",
      "|        politicsNews|   1| 68719479532|little hocking  o...|\n",
      "|        politicsNews|   1| 77309412463|  april 27 story ...|\n",
      "|                News|   0| 17179869437|plant workers lar...|\n",
      "|           worldnews|   1|103079218053|nairobi    reuter...|\n",
      "|                News|   0| 17179870684|noticed donald tr...|\n",
      "|                News|   0| 17179871770|david daleiden  m...|\n",
      "| believe them.\"\" ...|   0| 17179870209| donald trump abs...|\n",
      "| Jr is toast.  Cl...|   0|         876| entire weekend  ...|\n",
      "|        politicsNews|   1| 68719479224|moscow  reuters  ...|\n",
      "|     fjs);}(document|   0| 17179871451| salesperson  try...|\n",
      "|     Government News|   0| 42949673544|war american flag...|\n",
      "|                News|   0|  8589936049|protests erupted ...|\n",
      "|                News|   0|  8589935324|post election  me...|\n",
      "|            politics|   0| 34359740140|spoken like true ...|\n",
      "|        politicsNews|   1| 85899347472|seoul  reuters   ...|\n",
      "|                News|   0| 17179870218|mississippi repub...|\n",
      "|            politics|   0| 25769805026|maine state repre...|\n",
      "|           worldnews|   1|103079216080|new delhi  reuter...|\n",
      "|           worldnews|   1|103079216457|vienna  reuters  ...|\n",
      "|        politicsNews|   1| 68719476849|new york  reuters...|\n",
      "|                News|   0|  8589937112|11 tuesday mornin...|\n",
      "|     Government News|   0| 34359741897|little dose commo...|\n",
      "|        politicsNews|   1| 77309413556|new york  reuters...|\n",
      "|           left-news|   0| 42949674226|1999 video jesse ...|\n",
      "|        politicsNews|   1| 77309412927|washington  reute...|\n",
      "|           worldnews|   1|120259085069|washington  reute...|\n",
      "|     Government News|   0| 42949673530|apparently  keepi...|\n",
      "|           worldnews|   1|120259086164|wellington  reute...|\n",
      "|           left-news|   0| 42949674225|excerpt advocate ...|\n",
      "|        politicsNews|   1| 85899347941| reuters    petit...|\n",
      "|                News|   0| 17179871805|last night state ...|\n",
      "|           worldnews|   1|103079216650|paris  reuters   ...|\n",
      "|           worldnews|   1|111669150277|cairo  reuters   ...|\n",
      "|        politicsNews|   1| 94489281367|san francisco  re...|\n",
      "|           left-news|   0| 51539608736|drip drip drip co...|\n",
      "|        politicsNews|   1| 85899346947| reuters    presi...|\n",
      "|            politics|   0| 25769804571|washington post  ...|\n",
      "|        politicsNews|   1| 68719478338|chicago  reuters ...|\n",
      "|           worldnews|   1|111669150826|moscow  reuters  ...|\n",
      "|                News|   0|        2211|house plan repeal...|\n",
      "|                News|   0|        2370|trump young admin...|\n",
      "|                News|   0|         561|sure take long do...|\n",
      "|        politicsNews|   1| 94489280894|washington  reute...|\n",
      "|        politicsNews|   1| 68719477162|washington  reute...|\n",
      "|           worldnews|   1|120259084830|brussels  reuters...|\n",
      "|                News|   0|        1816|washington post r...|\n",
      "|        politicsNews|   1| 85899347284|washington  reute...|\n",
      "|                News|   0|  8589935626|way trump talk im...|\n",
      "|           worldnews|   1|120259086482|zurich  reuters  ...|\n",
      "|         Middle-east|   0| 60129542843|see also  orlando...|\n",
      "|        politicsNews|   1| 94489281930|geneva  reuters  ...|\n",
      "|           worldnews|   1|111669152240|athens  reuters  ...|\n",
      "|            politics|   0| 34359739988|sad  tragic misun...|\n",
      "|           left-news|   0| 51539607622|corporations firs...|\n",
      "|        politicsNews|   1| 85899347181|washington new yo...|\n",
      "|        politicsNews|   1| 77309411937|washington  reute...|\n",
      "|           left-news|   0| 42949674525|meanwhile  virtua...|\n",
      "|        politicsNews|   1| 94489282274| reuters    repub...|\n",
      "|           worldnews|   1|103079217321|tripoli  reuters ...|\n",
      "|                News|   0|         650|donald trump piss...|\n",
      "| 2017Did @SenJohn...|   0|          71| senator john mcc...|\n",
      "|        politicsNews|   1| 68719478885|santiago  reuters...|\n",
      "|           worldnews|   1|128849019922|seoul  reuters   ...|\n",
      "|           left-news|   0| 42949673726|yesterday  coward...|\n",
      "|     Government News|   0| 34359741712|                    |\n",
      "| whose home they ...|   0| 25769803939| fox news anchor ...|\n",
      "|             US_News|   0| 51539609577|andrew korybko gl...|\n",
      "|        politicsNews|   1| 85899346622|washington  reute...|\n",
      "|            politics|   0| 34359740963|44th president pa...|\n",
      "|            politics|   0| 25769806502|pussyhat project ...|\n",
      "|                News|   0| 17179871298|content mere robo...|\n",
      "|           worldnews|   1|103079217548|amman  reuters   ...|\n",
      "|        politicsNews|   1| 77309411860|washington  reute...|\n",
      "|        politicsNews|   1| 94489280690|washington  reute...|\n",
      "|                News|   0|        3036|republicans hilar...|\n",
      "|           worldnews|   1|111669151511|aden  reuters    ...|\n",
      "|     Government News|   0| 42949673094|say  new york tow...|\n",
      "|                News|   0|        1832|video passenger v...|\n",
      "|           worldnews|   1|128849019306|mexico city  reut...|\n",
      "|        politicsNews|   1| 94489280648|washington new yo...|\n",
      "|                News|   0|         525|donald trump wast...|\n",
      "|        politicsNews|   1| 94489281091|cleveland  reuter...|\n",
      "|            politics|   0| 34359739523|remember college ...|\n",
      "|        politicsNews|   1| 68719477145|washington  reute...|\n",
      "|        politicsNews|   1| 68719479281|washington  reute...|\n",
      "|        politicsNews|   1| 77309412558|washington  reute...|\n",
      "|             US_News|   0| 51539609854|21st century wire...|\n",
      "|           left-news|   0| 42949674873|disturbing wake c...|\n",
      "|           worldnews|   1|111669150590|berlin  reuters  ...|\n",
      "|                News|   0| 17179870146|saturday night li...|\n",
      "|            politics|   0| 34359739511| really know    n...|\n",
      "|           worldnews|   1|103079218040|mexico city  reut...|\n",
      "|           worldnews|   1|120259084998|manila  reuters  ...|\n",
      "|           worldnews|   1|120259086360|ankara  reuters  ...|\n",
      "|                News|   0|  8589935496|james comey  dire...|\n",
      "|           worldnews|   1|120259086127|karangasem  indon...|\n",
      "|            politics|   0| 25769807295| warning  story c...|\n",
      "|            politics|   0| 25769806631|                    |\n",
      "|                News|   0|        2345|paul ryan said ho...|\n",
      "|        politicsNews|   1| 94489282257| reuters    u  su...|\n",
      "|        politicsNews|   1| 77309412747|moscow washington...|\n",
      "| 2016Hey @HomeDep...|   0| 51539608037| people angry wea...|\n",
      "|        politicsNews|   1| 94489280722|des moines  iowa ...|\n",
      "|              2017 \"|   0| 25769804833| bad news lyin  l...|\n",
      "|     Government News|   0| 34359742027|obama clearly att...|\n",
      "|        politicsNews|   1| 68719478611|washington  reute...|\n",
      "|            politics|   0| 25769807480|hillary fights ba...|\n",
      "|        politicsNews|   1| 94489281967|  version may 10 ...|\n",
      "|           worldnews|   1|111669151256|moscow  reuters  ...|\n",
      "|        politicsNews|   1| 68719478882|washington  reute...|\n",
      "|                News|   0| 17179869611|republicans great...|\n",
      "|        politicsNews|   1| 68719478239|washington  reute...|\n",
      "|       2016Of course|   0|  8589936549| former new york ...|\n",
      "|            politics|   0| 25769807407|wonder want anyon...|\n",
      "|        politicsNews|   1| 68719478995| reuters    five ...|\n",
      "|                News|   0| 17179870182|thursday  u  dist...|\n",
      "|        politicsNews|   1| 94489282318|washington  reute...|\n",
      "|           left-news|   0| 42949674662|ceo outdoor cloth...|\n",
      "+--------------------+----+------------+--------------------+\n",
      "only showing top 200 rows\n",
      "\n"
     ]
    },
    {
     "name": "stderr",
     "output_type": "stream",
     "text": [
      "                                                                                \r"
     ]
    }
   ],
   "source": [
    "df3.show(200)"
   ]
  },
  {
   "cell_type": "code",
   "execution_count": null,
   "id": "75614d45-107c-447b-a844-73086df61c99",
   "metadata": {},
   "outputs": [],
   "source": []
  }
 ],
 "metadata": {
  "kernelspec": {
   "display_name": "Python 3 (ipykernel)",
   "language": "python",
   "name": "python3"
  },
  "language_info": {
   "codemirror_mode": {
    "name": "ipython",
    "version": 3
   },
   "file_extension": ".py",
   "mimetype": "text/x-python",
   "name": "python",
   "nbconvert_exporter": "python",
   "pygments_lexer": "ipython3",
   "version": "3.9.12"
  }
 },
 "nbformat": 4,
 "nbformat_minor": 5
}
