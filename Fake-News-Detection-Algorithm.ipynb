{
 "cells": [
  {
   "cell_type": "markdown",
   "id": "2b6d5012-8238-4506-87e1-d985b9045a66",
   "metadata": {},
   "source": [
    "Fake News Detection"
   ]
  },
  {
   "cell_type": "code",
   "execution_count": 1,
   "id": "4700c700-4e6f-41fc-a130-4d6cebfa11c0",
   "metadata": {},
   "outputs": [
    {
     "name": "stderr",
     "output_type": "stream",
     "text": [
      "Setting default log level to \"WARN\".\n",
      "To adjust logging level use sc.setLogLevel(newLevel). For SparkR, use setLogLevel(newLevel).\n"
     ]
    },
    {
     "name": "stdout",
     "output_type": "stream",
     "text": [
      "22/12/22 13:39:23 WARN NativeCodeLoader: Unable to load native-hadoop library for your platform... using builtin-java classes where applicable\n"
     ]
    },
    {
     "name": "stderr",
     "output_type": "stream",
     "text": [
      "/Users/poojaakki/opt/anaconda3/lib/python3.9/site-packages/pyspark/sql/context.py:157: FutureWarning: Deprecated in 3.0.0. Use SparkSession.builder.getOrCreate() instead.\n",
      "  warnings.warn(\n"
     ]
    }
   ],
   "source": [
    "import os\n",
    "import pyspark\n",
    "conf = pyspark.SparkConf()\n",
    "# conf.set('spark.ui.proxyBase'\n",
    "# , '/user/' + os.environ['JUPYTERHUB_USER'] + '/proxy/4041')\n",
    "conf.set('spark.sql.repl.eagerEval.enabled', True)\n",
    "conf.set('spark.driver.memory','4g')\n",
    "sc = pyspark.SparkContext(conf=conf)\n",
    "spark = pyspark.SQLContext.getOrCreate(sc)"
   ]
  },
  {
   "cell_type": "code",
   "execution_count": 2,
   "id": "52b73545-e2e0-4db7-a571-5e8c303b3575",
   "metadata": {},
   "outputs": [],
   "source": [
    "import pandas as pd\n",
    "from pyspark.sql.types import StructType, StructField\n",
    "from pyspark.sql.types import StringType\n",
    "\n",
    "schema= StructType(\n",
    "      [StructField('title',StringType(),True),\n",
    "      StructField('text',StringType(),True),\n",
    "      StructField('subject',StringType(),True),\n",
    "      StructField('date',StringType(),True)])\n",
    "\n",
    "df0 = pd.read_csv('Fake.csv')\n",
    "df1 = pd.read_csv('True.csv')\n",
    "df_fake = spark.createDataFrame(df0,schema=schema)\n",
    "df_true = spark.createDataFrame(df1,schema=schema)"
   ]
  },
  {
   "cell_type": "code",
   "execution_count": 3,
   "id": "54de89ac-6ac2-4559-a965-5c15485efbfe",
   "metadata": {},
   "outputs": [
    {
     "name": "stdout",
     "output_type": "stream",
     "text": [
      "22/12/22 13:39:27 WARN TaskSetManager: Stage 0 contains a task of very large size (5255 KiB). The maximum recommended task size is 1000 KiB.\n"
     ]
    },
    {
     "name": "stderr",
     "output_type": "stream",
     "text": [
      "[Stage 0:>                                                          (0 + 1) / 1]\r"
     ]
    },
    {
     "name": "stdout",
     "output_type": "stream",
     "text": [
      "+--------------------+--------------------+-------+-----------------+\n",
      "|               title|                text|subject|             date|\n",
      "+--------------------+--------------------+-------+-----------------+\n",
      "| Donald Trump Sen...|Donald Trump just...|   News|December 31, 2017|\n",
      "| Drunk Bragging T...|House Intelligenc...|   News|December 31, 2017|\n",
      "| Sheriff David Cl...|On Friday, it was...|   News|December 30, 2017|\n",
      "| Trump Is So Obse...|On Christmas day,...|   News|December 29, 2017|\n",
      "| Pope Francis Jus...|Pope Francis used...|   News|December 25, 2017|\n",
      "| Racist Alabama C...|The number of cas...|   News|December 25, 2017|\n",
      "| Fresh Off The Go...|Donald Trump spen...|   News|December 23, 2017|\n",
      "| Trump Said Some ...|In the wake of ye...|   News|December 23, 2017|\n",
      "| Former CIA Direc...|Many people have ...|   News|December 22, 2017|\n",
      "| WATCH: Brand-New...|Just when you mig...|   News|December 21, 2017|\n",
      "| Papa John’s Foun...|A centerpiece of ...|   News|December 21, 2017|\n",
      "| WATCH: Paul Ryan...|Republicans are w...|   News|December 21, 2017|\n",
      "| Bad News For Tru...|Republicans have ...|   News|December 21, 2017|\n",
      "| WATCH: Lindsey G...|The media has bee...|   News|December 20, 2017|\n",
      "| Heiress To Disne...|Abigail Disney is...|   News|December 20, 2017|\n",
      "| Tone Deaf Trump:...|Donald Trump just...|   News|December 20, 2017|\n",
      "| The Internet Bru...|A new animatronic...|   News|December 19, 2017|\n",
      "| Mueller Spokesma...|Trump supporters ...|   News|December 17, 2017|\n",
      "| SNL Hilariously ...|Right now, the wh...|   News|December 17, 2017|\n",
      "| Republican Senat...|Senate Majority W...|   News|December 16, 2017|\n",
      "+--------------------+--------------------+-------+-----------------+\n",
      "only showing top 20 rows\n",
      "\n"
     ]
    },
    {
     "name": "stderr",
     "output_type": "stream",
     "text": [
      "                                                                                \r"
     ]
    }
   ],
   "source": [
    "# Display fake news\n",
    "\n",
    "df_fake.show()"
   ]
  },
  {
   "cell_type": "code",
   "execution_count": 4,
   "id": "304887a4-614c-4e41-bdd0-c6e2c59b0d33",
   "metadata": {},
   "outputs": [
    {
     "name": "stdout",
     "output_type": "stream",
     "text": [
      "22/12/22 13:39:28 WARN TaskSetManager: Stage 1 contains a task of very large size (4983 KiB). The maximum recommended task size is 1000 KiB.\n"
     ]
    },
    {
     "name": "stderr",
     "output_type": "stream",
     "text": [
      "[Stage 1:>                                                          (0 + 1) / 1]\r"
     ]
    },
    {
     "name": "stdout",
     "output_type": "stream",
     "text": [
      "22/12/22 13:39:32 WARN PythonRunner: Detected deadlock while completing task 0.0 in stage 1 (TID 1): Attempting to kill Python Worker\n",
      "+--------------------+--------------------+------------+------------------+\n",
      "|               title|                text|     subject|              date|\n",
      "+--------------------+--------------------+------------+------------------+\n",
      "|As U.S. budget fi...|WASHINGTON (Reute...|politicsNews|December 31, 2017 |\n",
      "|U.S. military to ...|WASHINGTON (Reute...|politicsNews|December 29, 2017 |\n",
      "|Senior U.S. Repub...|WASHINGTON (Reute...|politicsNews|December 31, 2017 |\n",
      "|FBI Russia probe ...|WASHINGTON (Reute...|politicsNews|December 30, 2017 |\n",
      "|Trump wants Posta...|SEATTLE/WASHINGTO...|politicsNews|December 29, 2017 |\n",
      "|White House, Cong...|WEST PALM BEACH, ...|politicsNews|December 29, 2017 |\n",
      "|Trump says Russia...|WEST PALM BEACH, ...|politicsNews|December 29, 2017 |\n",
      "|Factbox: Trump on...|The following sta...|politicsNews|December 29, 2017 |\n",
      "|Trump on Twitter ...|The following sta...|politicsNews|December 29, 2017 |\n",
      "|Alabama official ...|WASHINGTON (Reute...|politicsNews|December 28, 2017 |\n",
      "|Jones certified U...|(Reuters) - Alaba...|politicsNews|December 28, 2017 |\n",
      "|New York governor...|NEW YORK/WASHINGT...|politicsNews|December 28, 2017 |\n",
      "|Factbox: Trump on...|The following sta...|politicsNews|December 28, 2017 |\n",
      "|Trump on Twitter ...|The following sta...|politicsNews|December 28, 2017 |\n",
      "|Man says he deliv...| (In Dec. 25 stor...|politicsNews|December 25, 2017 |\n",
      "|Virginia official...|(Reuters) - A lot...|politicsNews|December 27, 2017 |\n",
      "|U.S. lawmakers qu...|WASHINGTON (Reute...|politicsNews|December 27, 2017 |\n",
      "|Trump on Twitter ...|The following sta...|politicsNews|December 26, 2017 |\n",
      "|U.S. appeals cour...|(Reuters) - A U.S...|politicsNews|December 26, 2017 |\n",
      "|Treasury Secretar...|(Reuters) - A gif...|politicsNews|December 24, 2017 |\n",
      "+--------------------+--------------------+------------+------------------+\n",
      "only showing top 20 rows\n",
      "\n"
     ]
    },
    {
     "name": "stderr",
     "output_type": "stream",
     "text": [
      "                                                                                \r"
     ]
    }
   ],
   "source": [
    "# Display fake news\n",
    "\n",
    "df_true.show()"
   ]
  },
  {
   "cell_type": "code",
   "execution_count": 5,
   "id": "47d9d708-63ea-4d44-9651-8d59165e9911",
   "metadata": {},
   "outputs": [],
   "source": [
    "# add a label to the data for fake news as 0 and true news as 1 and shuffle using rand\n",
    "from pyspark.sql.functions import lit, rand\n",
    "\n",
    "df= df_true.withColumn('flag', lit(1)).union(df_fake.withColumn('flag', lit(0))).orderBy(rand())"
   ]
  },
  {
   "cell_type": "code",
   "execution_count": 6,
   "id": "fef51cca-ad22-4b64-9d26-6fc0d05d9cb9",
   "metadata": {},
   "outputs": [
    {
     "name": "stdout",
     "output_type": "stream",
     "text": [
      "root\n",
      " |-- title: string (nullable = true)\n",
      " |-- text: string (nullable = true)\n",
      " |-- subject: string (nullable = true)\n",
      " |-- date: string (nullable = true)\n",
      " |-- flag: integer (nullable = false)\n",
      "\n"
     ]
    }
   ],
   "source": [
    "df.printSchema()"
   ]
  },
  {
   "cell_type": "code",
   "execution_count": 7,
   "id": "8f1fcb54-bc8c-433c-beab-ad188b095115",
   "metadata": {},
   "outputs": [
    {
     "name": "stdout",
     "output_type": "stream",
     "text": [
      "22/12/22 13:39:32 WARN TaskSetManager: Stage 2 contains a task of very large size (4983 KiB). The maximum recommended task size is 1000 KiB.\n",
      "+--------------------+--------------------+---------------+-------------------+----+\n",
      "|               title|                text|        subject|               date|flag|\n",
      "+--------------------+--------------------+---------------+-------------------+----+\n",
      "|U.S. Labor Dept n...|WASHINGTON (Reute...|   politicsNews| February 15, 2017 |   1|\n",
      "| Fox Host: Don’t ...|Fox News host Tuc...|           News|      June 19, 2016|   0|\n",
      "|Amnesty Internati...|CAIRO (Reuters) -...|      worldnews|September 12, 2017 |   1|\n",
      "|Civil liberties g...|BOSTON (Reuters) ...|   politicsNews|    April 12, 2017 |   1|\n",
      "|China tells Austr...|BEIJING (Reuters)...|      worldnews| December 15, 2017 |   1|\n",
      "|LOL! $45 MILLION ...|She s pulling dow...|      left-news|        Jan 9, 2017|   0|\n",
      "|JUST IN: Obama Re...|This could be one...|       politics|       Dec 18, 2017|   0|\n",
      "|Senators call for...|WASHINGTON (Reute...|   politicsNews| December 18, 2016 |   1|\n",
      "|Clinton’s ‘No-Fly...|Prof Michel Choss...|        US_News|   October 26, 2016|   0|\n",
      "|FACTBOX - German ...|BERLIN (Reuters) ...|      worldnews|  October 15, 2017 |   1|\n",
      "|Trump to nominate...|WASHINGTON (Reute...|   politicsNews|     April 7, 2017 |   1|\n",
      "|Son Of Egyptian I...|Dr. Abdul El-Saye...|       politics|        May 8, 2017|   0|\n",
      "|ARROGANT ILLEGAL ...|              Watch:|       politics|       Feb 11, 2017|   0|\n",
      "| Ted Cruz Gets Hi...|Seth Meyers destr...|           News|  February 24, 2016|   0|\n",
      "|What Will Happen ...|21st Century Wire...|        US_News|     March 14, 2017|   0|\n",
      "|WERE HIS HANDS UP...|This is such a sa...|Government News|       Jan 29, 2016|   0|\n",
      "|BLACK BOSTON COP ...|We ve seen an esc...|       politics|       Aug 20, 2017|   0|\n",
      "|Banana Peel In Tr...|You won t believe...|       politics|        Sep 2, 2017|   0|\n",
      "|LOL! WHOOPI GOLDB...|Newt Gingrich was...|      left-news|       Jun 13, 2017|   0|\n",
      "|Trump tax plan to...|WASHINGTON (Reute...|   politicsNews|  February 9, 2017 |   1|\n",
      "+--------------------+--------------------+---------------+-------------------+----+\n",
      "only showing top 20 rows\n",
      "\n"
     ]
    }
   ],
   "source": [
    "df.show()"
   ]
  },
  {
   "cell_type": "markdown",
   "id": "a21a641d-9487-42d1-bcc2-b398cd5b5308",
   "metadata": {
    "tags": []
   },
   "source": [
    "#Graph Analysis"
   ]
  },
  {
   "cell_type": "code",
   "execution_count": 8,
   "id": "d07d8f0d-7fb2-472f-996e-924c2aac78eb",
   "metadata": {},
   "outputs": [
    {
     "name": "stdout",
     "output_type": "stream",
     "text": [
      "22/12/22 13:39:33 WARN TaskSetManager: Stage 3 contains a task of very large size (5255 KiB). The maximum recommended task size is 1000 KiB.\n"
     ]
    },
    {
     "data": {
      "text/plain": [
       "<AxesSubplot:xlabel='date'>"
      ]
     },
     "execution_count": 8,
     "metadata": {},
     "output_type": "execute_result"
    },
    {
     "data": {
      "image/png": "[encoded data removed]",
      "text/plain": [
       "<Figure size 432x288 with 1 Axes>"
      ]
     },
     "metadata": {
      "needs_background": "light"
     },
     "output_type": "display_data"
    }
   ],
   "source": [
    "# number of fake and true news spread based on date\n",
    "import calendar\n",
    "from pyspark.sql.functions import col,to_timestamp, to_date, when, date_format\n",
    "from calendar import month_abbr\n",
    "\n",
    "d = {'January':1, 'February':2, 'March':3, 'April':4, 'May':5, 'June':6, 'July':7, 'August':8, 'September':9, 'October':10, 'November':11, 'Decenmber':12 }\n",
    "\n",
    "df_pandas = df_fake.toPandas()\n",
    "df_pandas['date'] = df_pandas.date.str.replace(',',\"\")\n",
    "\n",
    "monthDict = {'Jan': '01', 'Feb':'02', 'Mar':'03', 'Apr':'04', 'May':'05', 'Jun':'06', \n",
    "            'Jul':'07', 'Aug':'08', 'Sep':'09', 'Oct':'10', 'Nov':'11', 'Dec':'12'}\n",
    "\n",
    "from datetime import datetime\n",
    "\n",
    "def check_date(x):\n",
    "    correctDate = None\n",
    "    try:\n",
    "        correctDate=datetime.strptime(x, \"%m-%d-%Y\") \n",
    "    except ValueError:\n",
    "        correctDate = None\n",
    "    return correctDate\n",
    "\n",
    "\n",
    "def convert(x):\n",
    "    x[0] = x[0].capitalize()\n",
    "    x[0] = x[0][0:3]\n",
    "    if x[0] in monthDict.keys():\n",
    "        x[0] = monthDict[x[0]]\n",
    "    return x\n",
    "\n",
    "df_pandas['date'] = df_pandas['date'].str.lower().map(lambda x: x.rstrip())\n",
    "df_pandas['date'] = df_pandas['date'].str.lower().map(lambda x: x.split(' '))\n",
    "df_pandas['date'] = df_pandas['date'].map(lambda x: convert(x))\n",
    "df_pandas['date'] = df_pandas['date'].agg(lambda x: '-'.join(map(str, x)))\n",
    "df_pandas['date'] = df_pandas['date'].map(lambda x:check_date(x))\n",
    "df_pandas.groupby(df_pandas.date)['text'].count().plot(kind=\"line\")\n"
   ]
  },
  {
   "cell_type": "code",
   "execution_count": 9,
   "id": "5e7fddb5-03e3-4a2b-83f0-f3e1c1411de2",
   "metadata": {},
   "outputs": [
    {
     "name": "stdout",
     "output_type": "stream",
     "text": [
      "22/12/22 13:39:35 WARN TaskSetManager: Stage 4 contains a task of very large size (4983 KiB). The maximum recommended task size is 1000 KiB.\n"
     ]
    },
    {
     "data": {
      "text/plain": [
       "<AxesSubplot:xlabel='date'>"
      ]
     },
     "execution_count": 9,
     "metadata": {},
     "output_type": "execute_result"
    },
    {
     "data": {
      "image/png": "[encoded data removed]",
      "text/plain": [
       "<Figure size 432x288 with 1 Axes>"
      ]
     },
     "metadata": {
      "needs_background": "light"
     },
     "output_type": "display_data"
    }
   ],
   "source": [
    "# number of true news spread based on date\n",
    "import calendar\n",
    "from pyspark.sql.functions import col,to_timestamp, to_date, when, date_format\n",
    "from calendar import month_abbr\n",
    "\n",
    "d = {'January':1, 'February':2, 'March':3, 'April':4, 'May':5, 'June':6, 'July':7, 'August':8, 'September':9, 'October':10, 'November':11, 'Decenmber':12 }\n",
    "\n",
    "df_pandas = df_true.toPandas()\n",
    "df_pandas['date'] = df_pandas.date.str.replace(',',\"\")\n",
    "\n",
    "monthDict = {'Jan': '01', 'Feb':'02', 'Mar':'03', 'Apr':'04', 'May':'05', 'Jun':'06', \n",
    "            'Jul':'07', 'Aug':'08', 'Sep':'09', 'Oct':'10', 'Nov':'11', 'Dec':'12'}\n",
    "\n",
    "from datetime import datetime\n",
    "\n",
    "def check_date(x):\n",
    "    correctDate = None\n",
    "    try:\n",
    "        correctDate=datetime.strptime(x, \"%m-%d-%Y\") \n",
    "    except ValueError:\n",
    "        correctDate = None\n",
    "    return correctDate\n",
    "\n",
    "\n",
    "def convert(x):\n",
    "    x[0] = x[0].capitalize()\n",
    "    x[0] = x[0][0:3]\n",
    "    if x[0] in monthDict.keys():\n",
    "        x[0] = monthDict[x[0]]\n",
    "    return x\n",
    "\n",
    "df_pandas['date'] = df_pandas['date'].str.lower().map(lambda x: x.rstrip())\n",
    "df_pandas['date'] = df_pandas['date'].str.lower().map(lambda x: x.split(' '))\n",
    "df_pandas['date'] = df_pandas['date'].map(lambda x: convert(x))\n",
    "df_pandas['date'] = df_pandas['date'].agg(lambda x: '-'.join(map(str, x)))\n",
    "df_pandas['date'] = df_pandas['date'].map(lambda x:check_date(x))\n",
    "df_pandas.groupby(df_pandas.date)['text'].count().plot(kind=\"line\")\n"
   ]
  },
  {
   "cell_type": "code",
   "execution_count": 10,
   "id": "0c6c2eb9-6523-48e9-b0a5-228d4b3db576",
   "metadata": {},
   "outputs": [
    {
     "name": "stdout",
     "output_type": "stream",
     "text": [
      "22/12/22 13:39:37 WARN TaskSetManager: Stage 5 contains a task of very large size (4983 KiB). The maximum recommended task size is 1000 KiB.\n",
      "22/12/22 13:39:37 WARN TaskSetManager: Stage 8 contains a task of very large size (4983 KiB). The maximum recommended task size is 1000 KiB.\n"
     ]
    },
    {
     "data": {
      "text/html": [
       "<table border='1'>\n",
       "<tr><th>subject</th><th>count</th></tr>\n",
       "<tr><td>politicsNews</td><td>11272</td></tr>\n",
       "<tr><td>worldnews</td><td>10145</td></tr>\n",
       "<tr><td>News</td><td>9050</td></tr>\n",
       "<tr><td>politics</td><td>6841</td></tr>\n",
       "<tr><td>left-news</td><td>4459</td></tr>\n",
       "<tr><td>Government News</td><td>1570</td></tr>\n",
       "<tr><td>US_News</td><td>783</td></tr>\n",
       "<tr><td>Middle-east</td><td>778</td></tr>\n",
       "</table>\n"
      ],
      "text/plain": [
       "+---------------+-----+\n",
       "|        subject|count|\n",
       "+---------------+-----+\n",
       "|   politicsNews|11272|\n",
       "|      worldnews|10145|\n",
       "|           News| 9050|\n",
       "|       politics| 6841|\n",
       "|      left-news| 4459|\n",
       "|Government News| 1570|\n",
       "|        US_News|  783|\n",
       "|    Middle-east|  778|\n",
       "+---------------+-----+"
      ]
     },
     "execution_count": 10,
     "metadata": {},
     "output_type": "execute_result"
    }
   ],
   "source": [
    "#types of news and highest number of news in order fromt he dataset\n",
    "from pyspark.sql.functions import col\n",
    "\n",
    "df.groupby('subject').count().sort(col(\"count\").desc())"
   ]
  },
  {
   "cell_type": "code",
   "execution_count": 11,
   "id": "ddfc7782-6748-4c48-b9b5-271717685655",
   "metadata": {},
   "outputs": [
    {
     "name": "stdout",
     "output_type": "stream",
     "text": [
      "22/12/22 13:39:38 WARN TaskSetManager: Stage 11 contains a task of very large size (4983 KiB). The maximum recommended task size is 1000 KiB.\n",
      "22/12/22 13:39:38 WARN TaskSetManager: Stage 12 contains a task of very large size (4983 KiB). The maximum recommended task size is 1000 KiB.\n"
     ]
    },
    {
     "data": {
      "text/plain": [
       "<AxesSubplot:title={'center':'Articles per subject'}, ylabel='title'>"
      ]
     },
     "execution_count": 11,
     "metadata": {},
     "output_type": "execute_result"
    },
    {
     "data": {
      "image/png": "[encoded data removed]",
      "text/plain": [
       "<Figure size 432x288 with 1 Axes>"
      ]
     },
     "metadata": {},
     "output_type": "display_data"
    }
   ],
   "source": [
    "# Pie chart with counts of various news subjects Political and world news contained the highest counts .\n",
    "from matplotlib import pyplot as plt\n",
    "\n",
    "df1 = df\n",
    "\n",
    "df1 = df1.toPandas()\n",
    "\n",
    "colors = ['pink', 'silver', 'steelblue']\n",
    "\n",
    "df1.groupby(['subject'])['title'].count().plot(kind='pie', y='count', autopct='%1.0f%%',\n",
    "                                colors = ['red', 'pink', 'steelblue'],\n",
    "                                title='Articles per subject')\n"
   ]
  },
  {
   "cell_type": "code",
   "execution_count": 12,
   "id": "35e99e97-a9d5-4cb8-9739-b9f587caf546",
   "metadata": {},
   "outputs": [
    {
     "name": "stdout",
     "output_type": "stream",
     "text": [
      "22/12/22 13:39:39 WARN TaskSetManager: Stage 15 contains a task of very large size (5255 KiB). The maximum recommended task size is 1000 KiB.\n",
      "22/12/22 13:39:39 WARN TaskSetManager: Stage 18 contains a task of very large size (5255 KiB). The maximum recommended task size is 1000 KiB.\n"
     ]
    },
    {
     "data": {
      "text/html": [
       "<table border='1'>\n",
       "<tr><th>subject</th><th>count</th></tr>\n",
       "<tr><td>News</td><td>9050</td></tr>\n",
       "<tr><td>politics</td><td>6841</td></tr>\n",
       "<tr><td>Government News</td><td>1570</td></tr>\n",
       "<tr><td>left-news</td><td>4459</td></tr>\n",
       "<tr><td>US_News</td><td>783</td></tr>\n",
       "<tr><td>Middle-east</td><td>778</td></tr>\n",
       "</table>\n"
      ],
      "text/plain": [
       "+---------------+-----+\n",
       "|        subject|count|\n",
       "+---------------+-----+\n",
       "|           News| 9050|\n",
       "|       politics| 6841|\n",
       "|Government News| 1570|\n",
       "|      left-news| 4459|\n",
       "|        US_News|  783|\n",
       "|    Middle-east|  778|\n",
       "+---------------+-----+"
      ]
     },
     "execution_count": 12,
     "metadata": {},
     "output_type": "execute_result"
    }
   ],
   "source": [
    "# type of article which have fake news\n",
    "\n",
    "df1_fake = df_fake\n",
    "\n",
    "df1_fake.groupby(['subject']).count()"
   ]
  },
  {
   "cell_type": "code",
   "execution_count": 13,
   "id": "4215e74f-e356-4916-bc8c-5dc2c6c4dea5",
   "metadata": {},
   "outputs": [
    {
     "name": "stdout",
     "output_type": "stream",
     "text": [
      "22/12/22 13:39:40 WARN TaskSetManager: Stage 21 contains a task of very large size (4983 KiB). The maximum recommended task size is 1000 KiB.\n",
      "22/12/22 13:39:40 WARN TaskSetManager: Stage 24 contains a task of very large size (4983 KiB). The maximum recommended task size is 1000 KiB.\n"
     ]
    },
    {
     "data": {
      "text/html": [
       "<table border='1'>\n",
       "<tr><th>subject</th><th>count</th></tr>\n",
       "<tr><td>politicsNews</td><td>11272</td></tr>\n",
       "<tr><td>worldnews</td><td>10145</td></tr>\n",
       "</table>\n"
      ],
      "text/plain": [
       "+------------+-----+\n",
       "|     subject|count|\n",
       "+------------+-----+\n",
       "|politicsNews|11272|\n",
       "|   worldnews|10145|\n",
       "+------------+-----+"
      ]
     },
     "execution_count": 13,
     "metadata": {},
     "output_type": "execute_result"
    }
   ],
   "source": [
    "# type of article which have true news\n",
    "\n",
    "df1_true = df_true\n",
    "\n",
    "df1_true.groupby(['subject']).count()"
   ]
  },
  {
   "cell_type": "code",
   "execution_count": 14,
   "id": "e92245b8-0876-4eba-82d6-ff9fe16368df",
   "metadata": {},
   "outputs": [],
   "source": [
    "# text pre-processing\n",
    "\n",
    "from pyspark.sql.functions import col, split, lower, regexp_replace, length\n",
    "\n",
    "df = df.select('title',(lower(regexp_replace('text', \"[^a-zA-Z\\\\s]\", \"\")).alias('text')), 'subject', 'date', 'flag')"
   ]
  },
  {
   "cell_type": "code",
   "execution_count": 15,
   "id": "afed8e9a-409b-4e9b-830e-e027d3d694c5",
   "metadata": {},
   "outputs": [],
   "source": [
    "# tokenize the text\n",
    "\n",
    "from pyspark.ml.feature import Tokenizer\n",
    "\n",
    "tokenizer = Tokenizer(inputCol='text', outputCol='words_token')\n",
    "\n",
    "df = tokenizer.transform(df).select('title','words_token','subject','date','flag')"
   ]
  },
  {
   "cell_type": "code",
   "execution_count": 16,
   "id": "14f450f5-b0f2-495a-8d06-f3e02cd2aa64",
   "metadata": {},
   "outputs": [
    {
     "name": "stdout",
     "output_type": "stream",
     "text": [
      "22/12/22 13:39:45 WARN TaskSetManager: Stage 27 contains a task of very large size (4983 KiB). The maximum recommended task size is 1000 KiB.\n"
     ]
    },
    {
     "data": {
      "text/plain": [
       "Row(title='U.S. Labor Dept nominee Puzder withdraws, in blow to Trump', words_token=['washington', 'reuters', '', 'in', 'a', 'blow', 'to', 'president', 'donald', 'trump', 'as', 'he', 'tries', 'to', 'assemble', 'his', 'administration', 'his', 'nominee', 'for', 'labor', 'secretary', 'andrew', 'puzder', 'withdrew', 'his', 'name', 'from', 'consideration', 'on', 'wednesday', 'amid', 'concerns', 'that', 'he', 'could', 'not', 'garner', 'enough', 'senate', 'votes', 'to', 'be', 'confirmed', 'puzders', 'decision', 'to', 'withdraw', 'is', 'yet', 'another', 'setback', 'this', 'week', 'for', 'a', 'white', 'house', 'still', 'grappling', 'with', 'fallout', 'from', 'monday', 'nights', 'abrupt', 'resignation', 'of', 'national', 'security', 'adviser', 'michael', 'flynn', 'after', 'less', 'than', 'a', 'month', 'in', 'the', 'job', 'puzder', 'the', 'chief', 'executive', 'officer', 'of', 'cke', 'restaurants', 'inc', 'which', 'franchises', 'fastfood', 'chains', 'including', 'hardees', 'and', 'carls', 'jr', 'has', 'been', 'at', 'the', 'center', 'of', 'a', 'swirl', 'of', 'controversies', 'complaints', 'and', 'potential', 'conflicts', 'he', 'admitted', 'earlier', 'this', 'month', 'that', 'he', 'and', 'his', 'wife', 'had', 'employed', 'an', 'undocumented', 'person', 'as', 'a', 'housekeeper', 'he', 'faced', 'a', 'flurry', 'of', 'complaints', 'and', 'legal', 'cases', 'brought', 'in', 'recent', 'weeks', 'and', 'months', 'by', 'workers', 'against', 'his', 'business', 'and', 'its', 'franchises', '', 'most', 'recently', 'a', 'decadesold', 'oprah', 'winfrey', 'tape', 'raising', 'allegations', 'of', 'domestic', 'abuse', 'by', 'his', 'exwife', 'resurfaced', 'though', 'those', 'allegations', 'had', 'been', 'withdrawn', 'after', 'careful', 'consideration', 'and', 'discussions', 'with', 'my', 'family', 'i', 'am', 'withdrawing', 'my', 'nomination', 'for', 'secretary', 'of', 'labor', 'puzder', 'said', 'in', 'a', 'statement', '', 'puzders', 'withdrawal', 'came', 'one', 'day', 'before', 'his', 'scheduled', 'confirmation', 'hearing', 'at', 'least', 'seven', 'republican', 'senators', 'including', 'susan', 'collins', 'of', 'maine', 'and', 'lisa', 'murkowski', 'of', 'alaska', 'declined', 'to', 'publicly', 'back', 'puzder', 'in', 'advance', 'of', 'the', 'confirmation', 'hearing', 'for', 'weeks', 'now', 'republican', 'senators', 'have', 'been', 'telling', 'senator', 'john', 'cornyn', 'the', 'secondhighest', 'ranking', 'republican', 'that', 'they', 'believed', 'some', 'of', 'their', 'colleagues', 'would', 'join', 'collins', 'and', 'murkowski', 'in', 'opposing', 'puzder', 'according', 'to', 'a', 'senior', 'senate', 'republican', 'aide', 'the', 'labor', 'department', 'oversees', 'compliance', 'with', 'federal', 'laws', 'that', 'mandate', 'safe', 'working', 'conditions', 'a', 'minimum', 'hourly', 'wage', 'overtime', 'wages', 'and', 'prohibit', 'employment', 'discrimination', '', 'as', 'labor', 'secretary', 'puzder', 'would', 'have', 'shaped', 'the', 'departments', 'approach', 'to', 'these', 'issues', 'including', 'whether', 'to', 'defend', 'an', 'obama', 'administration', 'rule', 'expanding', 'overtime', 'pay', 'to', 'millions', 'of', 'workers', 'that', 'has', 'been', 'challenged', 'in', 'the', 'courts', '', 'earlier', 'this', 'month', 'puzder', 'admitted', 'he', 'and', 'his', 'wife', 'had', 'employed', 'an', 'undocumented', 'person', 'as', 'a', 'housekeeper', 'and', 'had', 'to', 'pay', 'back', 'taxes', 'as', 'a', 'result', 'workers', 'at', 'some', 'of', 'ckes', 'restaurants', 'have', 'filed', 'claims', 'in', 'recent', 'weeks', 'alleging', 'they', 'were', 'victims', 'of', 'wage', 'theft', 'or', 'victims', 'of', 'sexual', 'harassment', 'in', 'the', 'workplace', 'another', 'possible', 'problem', 'were', 'allegations', 'dating', 'back', 'to', '', 'that', 'puzder', 'had', 'physically', 'abused', 'his', 'now', 'exwife', 'lisa', 'henning', 'now', 'known', 'as', 'lisa', 'fierstein', 'fierstein', 'filed', 'for', 'divorce', 'in', '', 'and', 'later', 'retracted', 'her', 'allegations', 'but', 'not', 'before', 'appearing', 'anonymously', 'as', 'a', 'victim', 'of', 'domestic', 'abuse', 'on', 'the', 'oprah', 'winfrey', 'show', 'last', 'week', 'the', 'own', 'network', 'released', 'a', 'copy', 'of', 'that', 'tape', 'to', 'the', 'senate', 'committee', 'so', 'both', 'democratic', 'and', 'republican', 'members', 'could', 'view', 'it', 'according', 'to', 'an', 'aide', 'democrats', 'on', 'wednesday', 'cheered', 'over', 'the', 'news', 'of', 'puzders', 'withdrawal', '', 'from', 'the', 'start', 'its', 'been', 'clear', 'that', 'puzder', 'is', 'uniquely', 'unqualified', 'to', 'serve', 'as', 'secretary', 'of', 'labor', 'said', 'patty', 'murray', 'the', 'ranking', 'member', 'of', 'the', 'us', 'senate', 'committee', 'on', 'health', 'education', 'labor', 'and', 'pensions'], subject='politicsNews', date='February 15, 2017 ', flag=1)"
      ]
     },
     "execution_count": 16,
     "metadata": {},
     "output_type": "execute_result"
    }
   ],
   "source": [
    "df.first()"
   ]
  },
  {
   "cell_type": "code",
   "execution_count": 17,
   "id": "5fcbfe70-d172-4436-b3d2-b460542502b4",
   "metadata": {},
   "outputs": [],
   "source": [
    "#remove empty string from the frame\n",
    "from pyspark.sql.functions import udf\n",
    "import pyspark.sql.functions as f\n",
    "from pyspark.sql.types import ArrayType\n",
    "\n",
    "def space_removal(f):\n",
    "    clean_tokens = []\n",
    "    for tok in f:\n",
    "        if tok:\n",
    "            clean_tokens.append(tok)\n",
    "    return clean_tokens\n",
    "\n",
    "udf_space_removal = udf(space_removal, ArrayType(StringType()))\n",
    "\n",
    "df = df.withColumn('words_token', udf_space_removal(f.col('words_token')))"
   ]
  },
  {
   "cell_type": "code",
   "execution_count": 18,
   "id": "86ab0b29-4320-459f-8ea4-12f06f6df2b4",
   "metadata": {},
   "outputs": [
    {
     "name": "stdout",
     "output_type": "stream",
     "text": [
      "22/12/22 13:39:47 WARN TaskSetManager: Stage 28 contains a task of very large size (4983 KiB). The maximum recommended task size is 1000 KiB.\n",
      "22/12/22 13:39:48 WARN TaskSetManager: Stage 29 contains a task of very large size (4983 KiB). The maximum recommended task size is 1000 KiB.\n"
     ]
    },
    {
     "name": "stderr",
     "output_type": "stream",
     "text": [
      "                                                                                \r"
     ]
    },
    {
     "data": {
      "text/plain": [
       "Row(title='U.S. Labor Dept nominee Puzder withdraws, in blow to Trump', words_token=['washington', 'reuters', 'in', 'a', 'blow', 'to', 'president', 'donald', 'trump', 'as', 'he', 'tries', 'to', 'assemble', 'his', 'administration', 'his', 'nominee', 'for', 'labor', 'secretary', 'andrew', 'puzder', 'withdrew', 'his', 'name', 'from', 'consideration', 'on', 'wednesday', 'amid', 'concerns', 'that', 'he', 'could', 'not', 'garner', 'enough', 'senate', 'votes', 'to', 'be', 'confirmed', 'puzders', 'decision', 'to', 'withdraw', 'is', 'yet', 'another', 'setback', 'this', 'week', 'for', 'a', 'white', 'house', 'still', 'grappling', 'with', 'fallout', 'from', 'monday', 'nights', 'abrupt', 'resignation', 'of', 'national', 'security', 'adviser', 'michael', 'flynn', 'after', 'less', 'than', 'a', 'month', 'in', 'the', 'job', 'puzder', 'the', 'chief', 'executive', 'officer', 'of', 'cke', 'restaurants', 'inc', 'which', 'franchises', 'fastfood', 'chains', 'including', 'hardees', 'and', 'carls', 'jr', 'has', 'been', 'at', 'the', 'center', 'of', 'a', 'swirl', 'of', 'controversies', 'complaints', 'and', 'potential', 'conflicts', 'he', 'admitted', 'earlier', 'this', 'month', 'that', 'he', 'and', 'his', 'wife', 'had', 'employed', 'an', 'undocumented', 'person', 'as', 'a', 'housekeeper', 'he', 'faced', 'a', 'flurry', 'of', 'complaints', 'and', 'legal', 'cases', 'brought', 'in', 'recent', 'weeks', 'and', 'months', 'by', 'workers', 'against', 'his', 'business', 'and', 'its', 'franchises', 'most', 'recently', 'a', 'decadesold', 'oprah', 'winfrey', 'tape', 'raising', 'allegations', 'of', 'domestic', 'abuse', 'by', 'his', 'exwife', 'resurfaced', 'though', 'those', 'allegations', 'had', 'been', 'withdrawn', 'after', 'careful', 'consideration', 'and', 'discussions', 'with', 'my', 'family', 'i', 'am', 'withdrawing', 'my', 'nomination', 'for', 'secretary', 'of', 'labor', 'puzder', 'said', 'in', 'a', 'statement', 'puzders', 'withdrawal', 'came', 'one', 'day', 'before', 'his', 'scheduled', 'confirmation', 'hearing', 'at', 'least', 'seven', 'republican', 'senators', 'including', 'susan', 'collins', 'of', 'maine', 'and', 'lisa', 'murkowski', 'of', 'alaska', 'declined', 'to', 'publicly', 'back', 'puzder', 'in', 'advance', 'of', 'the', 'confirmation', 'hearing', 'for', 'weeks', 'now', 'republican', 'senators', 'have', 'been', 'telling', 'senator', 'john', 'cornyn', 'the', 'secondhighest', 'ranking', 'republican', 'that', 'they', 'believed', 'some', 'of', 'their', 'colleagues', 'would', 'join', 'collins', 'and', 'murkowski', 'in', 'opposing', 'puzder', 'according', 'to', 'a', 'senior', 'senate', 'republican', 'aide', 'the', 'labor', 'department', 'oversees', 'compliance', 'with', 'federal', 'laws', 'that', 'mandate', 'safe', 'working', 'conditions', 'a', 'minimum', 'hourly', 'wage', 'overtime', 'wages', 'and', 'prohibit', 'employment', 'discrimination', 'as', 'labor', 'secretary', 'puzder', 'would', 'have', 'shaped', 'the', 'departments', 'approach', 'to', 'these', 'issues', 'including', 'whether', 'to', 'defend', 'an', 'obama', 'administration', 'rule', 'expanding', 'overtime', 'pay', 'to', 'millions', 'of', 'workers', 'that', 'has', 'been', 'challenged', 'in', 'the', 'courts', 'earlier', 'this', 'month', 'puzder', 'admitted', 'he', 'and', 'his', 'wife', 'had', 'employed', 'an', 'undocumented', 'person', 'as', 'a', 'housekeeper', 'and', 'had', 'to', 'pay', 'back', 'taxes', 'as', 'a', 'result', 'workers', 'at', 'some', 'of', 'ckes', 'restaurants', 'have', 'filed', 'claims', 'in', 'recent', 'weeks', 'alleging', 'they', 'were', 'victims', 'of', 'wage', 'theft', 'or', 'victims', 'of', 'sexual', 'harassment', 'in', 'the', 'workplace', 'another', 'possible', 'problem', 'were', 'allegations', 'dating', 'back', 'to', 'that', 'puzder', 'had', 'physically', 'abused', 'his', 'now', 'exwife', 'lisa', 'henning', 'now', 'known', 'as', 'lisa', 'fierstein', 'fierstein', 'filed', 'for', 'divorce', 'in', 'and', 'later', 'retracted', 'her', 'allegations', 'but', 'not', 'before', 'appearing', 'anonymously', 'as', 'a', 'victim', 'of', 'domestic', 'abuse', 'on', 'the', 'oprah', 'winfrey', 'show', 'last', 'week', 'the', 'own', 'network', 'released', 'a', 'copy', 'of', 'that', 'tape', 'to', 'the', 'senate', 'committee', 'so', 'both', 'democratic', 'and', 'republican', 'members', 'could', 'view', 'it', 'according', 'to', 'an', 'aide', 'democrats', 'on', 'wednesday', 'cheered', 'over', 'the', 'news', 'of', 'puzders', 'withdrawal', 'from', 'the', 'start', 'its', 'been', 'clear', 'that', 'puzder', 'is', 'uniquely', 'unqualified', 'to', 'serve', 'as', 'secretary', 'of', 'labor', 'said', 'patty', 'murray', 'the', 'ranking', 'member', 'of', 'the', 'us', 'senate', 'committee', 'on', 'health', 'education', 'labor', 'and', 'pensions'], subject='politicsNews', date='February 15, 2017 ', flag=1)"
      ]
     },
     "execution_count": 18,
     "metadata": {},
     "output_type": "execute_result"
    }
   ],
   "source": [
    "df.first()"
   ]
  },
  {
   "cell_type": "code",
   "execution_count": 19,
   "id": "92ad4e15-b56a-4eb7-85a1-e50299b52fb2",
   "metadata": {},
   "outputs": [
    {
     "name": "stderr",
     "output_type": "stream",
     "text": [
      "[nltk_data] Downloading package stopwords to\n",
      "[nltk_data]     /Users/poojaakki/nltk_data...\n",
      "[nltk_data]   Package stopwords is already up-to-date!\n"
     ]
    }
   ],
   "source": [
    "import nltk\n",
    "nltk.download('stopwords')\n",
    "from nltk.corpus import stopwords\n",
    "stop = stopwords.words('english')"
   ]
  },
  {
   "cell_type": "code",
   "execution_count": 20,
   "id": "f9056b40-9d7f-403c-8244-0f5e51d3dc47",
   "metadata": {},
   "outputs": [],
   "source": [
    "# remove the stop words\n",
    "from pyspark.ml.feature import StopWordsRemover\n",
    "\n",
    "stop_words_remover = StopWordsRemover(inputCol='words_token', outputCol='text').setStopWords(stop)"
   ]
  },
  {
   "cell_type": "code",
   "execution_count": 21,
   "id": "b74dc0ff-7c4b-412c-8db9-c608dade0533",
   "metadata": {},
   "outputs": [],
   "source": [
    "from pyspark.ml import Pipeline\n",
    "\n",
    "stopWordRemovalPipeline = Pipeline(stages=[stop_words_remover])\n",
    "pipelineFitRemoveStopWords = stopWordRemovalPipeline.fit(df)"
   ]
  },
  {
   "cell_type": "code",
   "execution_count": 22,
   "id": "04e09d68-33c7-47d1-a1c0-ed3cf1740ef3",
   "metadata": {},
   "outputs": [],
   "source": [
    "df = pipelineFitRemoveStopWords.transform(df) #added here"
   ]
  },
  {
   "cell_type": "code",
   "execution_count": 23,
   "id": "80ea64a0-9283-4a15-bf05-7f0d44f09bcd",
   "metadata": {},
   "outputs": [
    {
     "name": "stdout",
     "output_type": "stream",
     "text": [
      "22/12/22 13:39:54 WARN TaskSetManager: Stage 32 contains a task of very large size (4983 KiB). The maximum recommended task size is 1000 KiB.\n",
      "22/12/22 13:39:55 WARN TaskSetManager: Stage 33 contains a task of very large size (4983 KiB). The maximum recommended task size is 1000 KiB.\n"
     ]
    },
    {
     "name": "stderr",
     "output_type": "stream",
     "text": [
      "                                                                                \r"
     ]
    },
    {
     "data": {
      "text/plain": [
       "Row(title='U.S. Labor Dept nominee Puzder withdraws, in blow to Trump', words_token=['washington', 'reuters', 'in', 'a', 'blow', 'to', 'president', 'donald', 'trump', 'as', 'he', 'tries', 'to', 'assemble', 'his', 'administration', 'his', 'nominee', 'for', 'labor', 'secretary', 'andrew', 'puzder', 'withdrew', 'his', 'name', 'from', 'consideration', 'on', 'wednesday', 'amid', 'concerns', 'that', 'he', 'could', 'not', 'garner', 'enough', 'senate', 'votes', 'to', 'be', 'confirmed', 'puzders', 'decision', 'to', 'withdraw', 'is', 'yet', 'another', 'setback', 'this', 'week', 'for', 'a', 'white', 'house', 'still', 'grappling', 'with', 'fallout', 'from', 'monday', 'nights', 'abrupt', 'resignation', 'of', 'national', 'security', 'adviser', 'michael', 'flynn', 'after', 'less', 'than', 'a', 'month', 'in', 'the', 'job', 'puzder', 'the', 'chief', 'executive', 'officer', 'of', 'cke', 'restaurants', 'inc', 'which', 'franchises', 'fastfood', 'chains', 'including', 'hardees', 'and', 'carls', 'jr', 'has', 'been', 'at', 'the', 'center', 'of', 'a', 'swirl', 'of', 'controversies', 'complaints', 'and', 'potential', 'conflicts', 'he', 'admitted', 'earlier', 'this', 'month', 'that', 'he', 'and', 'his', 'wife', 'had', 'employed', 'an', 'undocumented', 'person', 'as', 'a', 'housekeeper', 'he', 'faced', 'a', 'flurry', 'of', 'complaints', 'and', 'legal', 'cases', 'brought', 'in', 'recent', 'weeks', 'and', 'months', 'by', 'workers', 'against', 'his', 'business', 'and', 'its', 'franchises', 'most', 'recently', 'a', 'decadesold', 'oprah', 'winfrey', 'tape', 'raising', 'allegations', 'of', 'domestic', 'abuse', 'by', 'his', 'exwife', 'resurfaced', 'though', 'those', 'allegations', 'had', 'been', 'withdrawn', 'after', 'careful', 'consideration', 'and', 'discussions', 'with', 'my', 'family', 'i', 'am', 'withdrawing', 'my', 'nomination', 'for', 'secretary', 'of', 'labor', 'puzder', 'said', 'in', 'a', 'statement', 'puzders', 'withdrawal', 'came', 'one', 'day', 'before', 'his', 'scheduled', 'confirmation', 'hearing', 'at', 'least', 'seven', 'republican', 'senators', 'including', 'susan', 'collins', 'of', 'maine', 'and', 'lisa', 'murkowski', 'of', 'alaska', 'declined', 'to', 'publicly', 'back', 'puzder', 'in', 'advance', 'of', 'the', 'confirmation', 'hearing', 'for', 'weeks', 'now', 'republican', 'senators', 'have', 'been', 'telling', 'senator', 'john', 'cornyn', 'the', 'secondhighest', 'ranking', 'republican', 'that', 'they', 'believed', 'some', 'of', 'their', 'colleagues', 'would', 'join', 'collins', 'and', 'murkowski', 'in', 'opposing', 'puzder', 'according', 'to', 'a', 'senior', 'senate', 'republican', 'aide', 'the', 'labor', 'department', 'oversees', 'compliance', 'with', 'federal', 'laws', 'that', 'mandate', 'safe', 'working', 'conditions', 'a', 'minimum', 'hourly', 'wage', 'overtime', 'wages', 'and', 'prohibit', 'employment', 'discrimination', 'as', 'labor', 'secretary', 'puzder', 'would', 'have', 'shaped', 'the', 'departments', 'approach', 'to', 'these', 'issues', 'including', 'whether', 'to', 'defend', 'an', 'obama', 'administration', 'rule', 'expanding', 'overtime', 'pay', 'to', 'millions', 'of', 'workers', 'that', 'has', 'been', 'challenged', 'in', 'the', 'courts', 'earlier', 'this', 'month', 'puzder', 'admitted', 'he', 'and', 'his', 'wife', 'had', 'employed', 'an', 'undocumented', 'person', 'as', 'a', 'housekeeper', 'and', 'had', 'to', 'pay', 'back', 'taxes', 'as', 'a', 'result', 'workers', 'at', 'some', 'of', 'ckes', 'restaurants', 'have', 'filed', 'claims', 'in', 'recent', 'weeks', 'alleging', 'they', 'were', 'victims', 'of', 'wage', 'theft', 'or', 'victims', 'of', 'sexual', 'harassment', 'in', 'the', 'workplace', 'another', 'possible', 'problem', 'were', 'allegations', 'dating', 'back', 'to', 'that', 'puzder', 'had', 'physically', 'abused', 'his', 'now', 'exwife', 'lisa', 'henning', 'now', 'known', 'as', 'lisa', 'fierstein', 'fierstein', 'filed', 'for', 'divorce', 'in', 'and', 'later', 'retracted', 'her', 'allegations', 'but', 'not', 'before', 'appearing', 'anonymously', 'as', 'a', 'victim', 'of', 'domestic', 'abuse', 'on', 'the', 'oprah', 'winfrey', 'show', 'last', 'week', 'the', 'own', 'network', 'released', 'a', 'copy', 'of', 'that', 'tape', 'to', 'the', 'senate', 'committee', 'so', 'both', 'democratic', 'and', 'republican', 'members', 'could', 'view', 'it', 'according', 'to', 'an', 'aide', 'democrats', 'on', 'wednesday', 'cheered', 'over', 'the', 'news', 'of', 'puzders', 'withdrawal', 'from', 'the', 'start', 'its', 'been', 'clear', 'that', 'puzder', 'is', 'uniquely', 'unqualified', 'to', 'serve', 'as', 'secretary', 'of', 'labor', 'said', 'patty', 'murray', 'the', 'ranking', 'member', 'of', 'the', 'us', 'senate', 'committee', 'on', 'health', 'education', 'labor', 'and', 'pensions'], subject='politicsNews', date='February 15, 2017 ', flag=1, text=['washington', 'reuters', 'blow', 'president', 'donald', 'trump', 'tries', 'assemble', 'administration', 'nominee', 'labor', 'secretary', 'andrew', 'puzder', 'withdrew', 'name', 'consideration', 'wednesday', 'amid', 'concerns', 'could', 'garner', 'enough', 'senate', 'votes', 'confirmed', 'puzders', 'decision', 'withdraw', 'yet', 'another', 'setback', 'week', 'white', 'house', 'still', 'grappling', 'fallout', 'monday', 'nights', 'abrupt', 'resignation', 'national', 'security', 'adviser', 'michael', 'flynn', 'less', 'month', 'job', 'puzder', 'chief', 'executive', 'officer', 'cke', 'restaurants', 'inc', 'franchises', 'fastfood', 'chains', 'including', 'hardees', 'carls', 'jr', 'center', 'swirl', 'controversies', 'complaints', 'potential', 'conflicts', 'admitted', 'earlier', 'month', 'wife', 'employed', 'undocumented', 'person', 'housekeeper', 'faced', 'flurry', 'complaints', 'legal', 'cases', 'brought', 'recent', 'weeks', 'months', 'workers', 'business', 'franchises', 'recently', 'decadesold', 'oprah', 'winfrey', 'tape', 'raising', 'allegations', 'domestic', 'abuse', 'exwife', 'resurfaced', 'though', 'allegations', 'withdrawn', 'careful', 'consideration', 'discussions', 'family', 'withdrawing', 'nomination', 'secretary', 'labor', 'puzder', 'said', 'statement', 'puzders', 'withdrawal', 'came', 'one', 'day', 'scheduled', 'confirmation', 'hearing', 'least', 'seven', 'republican', 'senators', 'including', 'susan', 'collins', 'maine', 'lisa', 'murkowski', 'alaska', 'declined', 'publicly', 'back', 'puzder', 'advance', 'confirmation', 'hearing', 'weeks', 'republican', 'senators', 'telling', 'senator', 'john', 'cornyn', 'secondhighest', 'ranking', 'republican', 'believed', 'colleagues', 'would', 'join', 'collins', 'murkowski', 'opposing', 'puzder', 'according', 'senior', 'senate', 'republican', 'aide', 'labor', 'department', 'oversees', 'compliance', 'federal', 'laws', 'mandate', 'safe', 'working', 'conditions', 'minimum', 'hourly', 'wage', 'overtime', 'wages', 'prohibit', 'employment', 'discrimination', 'labor', 'secretary', 'puzder', 'would', 'shaped', 'departments', 'approach', 'issues', 'including', 'whether', 'defend', 'obama', 'administration', 'rule', 'expanding', 'overtime', 'pay', 'millions', 'workers', 'challenged', 'courts', 'earlier', 'month', 'puzder', 'admitted', 'wife', 'employed', 'undocumented', 'person', 'housekeeper', 'pay', 'back', 'taxes', 'result', 'workers', 'ckes', 'restaurants', 'filed', 'claims', 'recent', 'weeks', 'alleging', 'victims', 'wage', 'theft', 'victims', 'sexual', 'harassment', 'workplace', 'another', 'possible', 'problem', 'allegations', 'dating', 'back', 'puzder', 'physically', 'abused', 'exwife', 'lisa', 'henning', 'known', 'lisa', 'fierstein', 'fierstein', 'filed', 'divorce', 'later', 'retracted', 'allegations', 'appearing', 'anonymously', 'victim', 'domestic', 'abuse', 'oprah', 'winfrey', 'show', 'last', 'week', 'network', 'released', 'copy', 'tape', 'senate', 'committee', 'democratic', 'republican', 'members', 'could', 'view', 'according', 'aide', 'democrats', 'wednesday', 'cheered', 'news', 'puzders', 'withdrawal', 'start', 'clear', 'puzder', 'uniquely', 'unqualified', 'serve', 'secretary', 'labor', 'said', 'patty', 'murray', 'ranking', 'member', 'us', 'senate', 'committee', 'health', 'education', 'labor', 'pensions'])"
      ]
     },
     "execution_count": 23,
     "metadata": {},
     "output_type": "execute_result"
    }
   ],
   "source": [
    "df.first()"
   ]
  },
  {
   "cell_type": "code",
   "execution_count": 24,
   "id": "f94d9533-351e-4b7a-a356-cbbf76aa76fa",
   "metadata": {},
   "outputs": [
    {
     "name": "stdout",
     "output_type": "stream",
     "text": [
      "22/12/22 13:39:55 WARN TaskSetManager: Stage 36 contains a task of very large size (4983 KiB). The maximum recommended task size is 1000 KiB.\n",
      "22/12/22 13:39:56 WARN TaskSetManager: Stage 37 contains a task of very large size (4983 KiB). The maximum recommended task size is 1000 KiB.\n",
      "+--------------------+--------------------+------------+-------------------+----+--------------------+\n",
      "|               title|         words_token|     subject|               date|flag|                text|\n",
      "+--------------------+--------------------+------------+-------------------+----+--------------------+\n",
      "|U.S. Labor Dept n...|[washington, reut...|politicsNews| February 15, 2017 |   1|washington reuter...|\n",
      "| Fox Host: Don’t ...|[fox, news, host,...|        News|      June 19, 2016|   0|fox news host tuc...|\n",
      "|Amnesty Internati...|[cairo, reuters, ...|   worldnews|September 12, 2017 |   1|cairo reuters amn...|\n",
      "|Civil liberties g...|[boston, reuters,...|politicsNews|    April 12, 2017 |   1|boston reuters ci...|\n",
      "|China tells Austr...|[beijing, reuters...|   worldnews| December 15, 2017 |   1|beijing reuters c...|\n",
      "+--------------------+--------------------+------------+-------------------+----+--------------------+\n",
      "only showing top 5 rows\n",
      "\n"
     ]
    }
   ],
   "source": [
    "# most freq words in data\n",
    "\n",
    "from pyspark.sql.functions import concat_ws\n",
    "\n",
    "df_freq = df.withColumn(\"text\", concat_ws(\" \", df[\"text\"]))\n",
    "\n",
    "df_freq.show(5)"
   ]
  },
  {
   "cell_type": "code",
   "execution_count": 25,
   "id": "f3d26157-f87e-4b99-9199-5bfb2ecdf63c",
   "metadata": {},
   "outputs": [],
   "source": [
    "# most frequent fake words\n",
    "\n",
    "df_fake_freq = df_freq.filter(df[\"flag\"] == 0)\n",
    "\n",
    "df_fake_text = df_fake_freq.select(\"text\")\n"
   ]
  },
  {
   "cell_type": "code",
   "execution_count": 26,
   "id": "7164bfbe-2673-4769-8b62-75f7c79cca61",
   "metadata": {},
   "outputs": [
    {
     "name": "stdout",
     "output_type": "stream",
     "text": [
      "22/12/22 13:39:58 WARN TaskSetManager: Stage 40 contains a task of very large size (4983 KiB). The maximum recommended task size is 1000 KiB.\n"
     ]
    },
    {
     "name": "stderr",
     "output_type": "stream",
     "text": [
      "                                                                                \r"
     ]
    },
    {
     "name": "stdout",
     "output_type": "stream",
     "text": [
      "22/12/22 13:40:02 WARN TaskSetManager: Stage 41 contains a task of very large size (4983 KiB). The maximum recommended task size is 1000 KiB.\n"
     ]
    },
    {
     "name": "stderr",
     "output_type": "stream",
     "text": [
      "[Stage 43:===========================================>              (6 + 2) / 8]\r"
     ]
    },
    {
     "name": "stdout",
     "output_type": "stream",
     "text": [
      "+---------+-----+\n",
      "|     word|count|\n",
      "+---------+-----+\n",
      "|    trump|73933|\n",
      "|     said|31013|\n",
      "|   people|25963|\n",
      "|president|25586|\n",
      "|    would|23427|\n",
      "|      one|22935|\n",
      "|       us|22049|\n",
      "|  clinton|18011|\n",
      "|    obama|17813|\n",
      "|     like|17621|\n",
      "|   donald|17215|\n",
      "|     also|15242|\n",
      "|      new|14158|\n",
      "|     news|14126|\n",
      "|     even|13717|\n",
      "|  hillary|13565|\n",
      "|    white|12778|\n",
      "|     time|12728|\n",
      "|    state|12525|\n",
      "|      via|11273|\n",
      "+---------+-----+\n",
      "only showing top 20 rows\n",
      "\n"
     ]
    },
    {
     "name": "stderr",
     "output_type": "stream",
     "text": [
      "                                                                                \r"
     ]
    }
   ],
   "source": [
    "from pyspark.sql.functions import explode\n",
    "\n",
    "df_fake_text = df_fake_text\\\n",
    ".withColumn(\"words\", split(col(\"text\"), \" \"))\\\n",
    ".where(length(\"text\")>0)\n",
    "\n",
    "df_freq_fake = df_fake_text\\\n",
    ".select(explode(col(\"words\")).alias(\"word\"))\\\n",
    ".groupBy(\"word\").count()\\\n",
    "\n",
    "df_freq_fake.orderBy(col(\"count\").desc()).show()"
   ]
  },
  {
   "cell_type": "code",
   "execution_count": 27,
   "id": "0e1f3aac-3764-4da3-8b94-d1c24743549c",
   "metadata": {},
   "outputs": [],
   "source": [
    "#most true words\n",
    "\n",
    "df_true_freq = df_freq.filter(df[\"flag\"] == 1)\n",
    "\n",
    "df_true_text = df_true_freq.select(\"text\")"
   ]
  },
  {
   "cell_type": "code",
   "execution_count": 28,
   "id": "2d810c99-54a3-4764-b88e-cf005d1c8c13",
   "metadata": {},
   "outputs": [
    {
     "name": "stdout",
     "output_type": "stream",
     "text": [
      "22/12/22 13:40:07 WARN TaskSetManager: Stage 47 contains a task of very large size (4983 KiB). The maximum recommended task size is 1000 KiB.\n"
     ]
    },
    {
     "name": "stderr",
     "output_type": "stream",
     "text": [
      "                                                                                \r"
     ]
    },
    {
     "name": "stdout",
     "output_type": "stream",
     "text": [
      "22/12/22 13:40:09 WARN TaskSetManager: Stage 48 contains a task of very large size (4983 KiB). The maximum recommended task size is 1000 KiB.\n"
     ]
    },
    {
     "name": "stderr",
     "output_type": "stream",
     "text": [
      "[Stage 50:>                                                         (0 + 8) / 8]\r"
     ]
    },
    {
     "name": "stdout",
     "output_type": "stream",
     "text": [
      "+----------+-----+\n",
      "|      word|count|\n",
      "+----------+-----+\n",
      "|      said|98985|\n",
      "|     trump|42577|\n",
      "|        us|41137|\n",
      "|     would|31514|\n",
      "|   reuters|28306|\n",
      "| president|25533|\n",
      "|     state|18753|\n",
      "|government|17976|\n",
      "|    states|17634|\n",
      "|       new|16785|\n",
      "|     house|16405|\n",
      "|      also|15944|\n",
      "|    united|15572|\n",
      "|republican|15288|\n",
      "|    people|15111|\n",
      "|      told|14242|\n",
      "|     could|13697|\n",
      "|       one|12674|\n",
      "|      last|12613|\n",
      "|washington|12140|\n",
      "+----------+-----+\n",
      "only showing top 20 rows\n",
      "\n"
     ]
    },
    {
     "name": "stderr",
     "output_type": "stream",
     "text": [
      "                                                                                \r"
     ]
    }
   ],
   "source": [
    "from pyspark.sql.functions import explode\n",
    "\n",
    "df_true_text = df_true_text\\\n",
    ".withColumn(\"words\", split(col(\"text\"), \" \"))\\\n",
    ".where(length(\"text\")>0)\n",
    "\n",
    "df_freq_true = df_true_text\\\n",
    ".select(explode(col(\"words\")).alias(\"word\"))\\\n",
    ".groupBy(\"word\").count()\\\n",
    "\n",
    "df_freq_true.orderBy(col(\"count\").desc()).show()"
   ]
  },
  {
   "cell_type": "code",
   "execution_count": 29,
   "id": "eec22931-121d-4e9d-849d-f660964bfd78",
   "metadata": {},
   "outputs": [
    {
     "name": "stdout",
     "output_type": "stream",
     "text": [
      "root\n",
      " |-- title: string (nullable = true)\n",
      " |-- words_token: array (nullable = true)\n",
      " |    |-- element: string (containsNull = true)\n",
      " |-- subject: string (nullable = true)\n",
      " |-- date: string (nullable = true)\n",
      " |-- flag: integer (nullable = false)\n",
      " |-- text: string (nullable = false)\n",
      "\n"
     ]
    }
   ],
   "source": [
    "df_freq.printSchema()"
   ]
  },
  {
   "cell_type": "code",
   "execution_count": 30,
   "id": "d7e0b522-c6ba-463c-9d98-24dfcf61768a",
   "metadata": {},
   "outputs": [
    {
     "name": "stdout",
     "output_type": "stream",
     "text": [
      "22/12/22 13:40:14 WARN TaskSetManager: Stage 54 contains a task of very large size (4983 KiB). The maximum recommended task size is 1000 KiB.\n"
     ]
    },
    {
     "data": {
      "text/plain": [
       "44898"
      ]
     },
     "execution_count": 30,
     "metadata": {},
     "output_type": "execute_result"
    }
   ],
   "source": [
    "df_freq.count()"
   ]
  },
  {
   "cell_type": "code",
   "execution_count": 31,
   "id": "5a459d10-e4df-43a9-a0b9-20d2d87c0a77",
   "metadata": {},
   "outputs": [
    {
     "name": "stdout",
     "output_type": "stream",
     "text": [
      "root\n",
      " |-- subject: string (nullable = true)\n",
      " |-- flag: integer (nullable = false)\n",
      " |-- text: string (nullable = false)\n",
      "\n"
     ]
    }
   ],
   "source": [
    "# drop unwanted coloumns\n",
    "\n",
    "df_ml = df_freq.drop(\"title\",\"words_token\",\"date\")\n",
    "df_ml.printSchema()"
   ]
  },
  {
   "cell_type": "code",
   "execution_count": 32,
   "id": "e2aebece-ee74-4a37-9433-238f2fd32d95",
   "metadata": {},
   "outputs": [
    {
     "name": "stdout",
     "output_type": "stream",
     "text": [
      "22/12/22 13:40:15 WARN TaskSetManager: Stage 57 contains a task of very large size (4983 KiB). The maximum recommended task size is 1000 KiB.\n",
      "22/12/22 13:40:15 WARN TaskSetManager: Stage 58 contains a task of very large size (4983 KiB). The maximum recommended task size is 1000 KiB.\n"
     ]
    },
    {
     "name": "stderr",
     "output_type": "stream",
     "text": [
      "[Stage 58:================================>                        (9 + 7) / 16]\r"
     ]
    },
    {
     "name": "stdout",
     "output_type": "stream",
     "text": [
      "+---------------+----+--------------------+---+\n",
      "|        subject|flag|                text| id|\n",
      "+---------------+----+--------------------+---+\n",
      "|   politicsNews|   1|washington reuter...|  0|\n",
      "|           News|   0|fox news host tuc...|  1|\n",
      "|      worldnews|   1|cairo reuters amn...|  2|\n",
      "|   politicsNews|   1|boston reuters ci...|  3|\n",
      "|      worldnews|   1|beijing reuters c...|  4|\n",
      "|      left-news|   0|pulling cool mill...|  5|\n",
      "|       politics|   0|could one largest...|  6|\n",
      "|   politicsNews|   1|washington reuter...|  7|\n",
      "|        US_News|   0|prof michel choss...|  8|\n",
      "|      worldnews|   1|berlin reuters ch...|  9|\n",
      "|   politicsNews|   1|washington reuter...| 10|\n",
      "|       politics|   0|dr abdul elsayed ...| 11|\n",
      "|       politics|   0|               watch| 12|\n",
      "|           News|   0|seth meyers destr...| 13|\n",
      "|        US_News|   0|st century wire s...| 14|\n",
      "|Government News|   0|sad tragic misund...| 15|\n",
      "|       politics|   0|seen escalation v...| 16|\n",
      "|       politics|   0|believe passes of...| 17|\n",
      "|      left-news|   0|newt gingrich pro...| 18|\n",
      "|   politicsNews|   1|washington reuter...| 19|\n",
      "+---------------+----+--------------------+---+\n",
      "only showing top 20 rows\n",
      "\n"
     ]
    },
    {
     "name": "stderr",
     "output_type": "stream",
     "text": [
      "                                                                                \r"
     ]
    }
   ],
   "source": [
    "from pyspark.sql.functions import monotonically_increasing_id \n",
    "\n",
    "df_ml = df_ml.select(\"*\").withColumn(\"id\", monotonically_increasing_id())\n",
    "\n",
    "df_ml.show()"
   ]
  },
  {
   "cell_type": "code",
   "execution_count": 33,
   "id": "66c936e2-3d6e-4f62-bbf2-ca93547a3ed6",
   "metadata": {},
   "outputs": [
    {
     "name": "stdout",
     "output_type": "stream",
     "text": [
      "22/12/22 13:40:16 WARN TaskSetManager: Stage 61 contains a task of very large size (4983 KiB). The maximum recommended task size is 1000 KiB.\n",
      "22/12/22 13:40:16 WARN TaskSetManager: Stage 62 contains a task of very large size (4983 KiB). The maximum recommended task size is 1000 KiB.\n"
     ]
    },
    {
     "name": "stderr",
     "output_type": "stream",
     "text": [
      "                                                                                \r"
     ]
    },
    {
     "name": "stdout",
     "output_type": "stream",
     "text": [
      "22/12/22 13:40:21 WARN TaskSetManager: Stage 65 contains a task of very large size (4983 KiB). The maximum recommended task size is 1000 KiB.\n",
      "22/12/22 13:40:21 WARN TaskSetManager: Stage 66 contains a task of very large size (4983 KiB). The maximum recommended task size is 1000 KiB.\n"
     ]
    },
    {
     "name": "stderr",
     "output_type": "stream",
     "text": [
      "                                                                                \r"
     ]
    }
   ],
   "source": [
    "# x values and Y values\n",
    "\n",
    "x = df_ml.select('text').rdd.flatMap(lambda x: x).collect()\n",
    "y = df_ml.select('flag').rdd.flatMap(lambda x: x).collect()"
   ]
  },
  {
   "cell_type": "code",
   "execution_count": 34,
   "id": "8b78c8d4-0c75-4a24-9658-be065015fcb4",
   "metadata": {},
   "outputs": [],
   "source": [
    "from sklearn.model_selection import train_test_split\n",
    "from sklearn.metrics import classification_report\n",
    "\n",
    "x_train, x_test, y_train, y_test = train_test_split(x,y,test_size=.25)"
   ]
  },
  {
   "cell_type": "code",
   "execution_count": 35,
   "id": "7f5d52f9-5e40-40ed-a9e6-15e1aff35790",
   "metadata": {},
   "outputs": [
    {
     "name": "stdout",
     "output_type": "stream",
     "text": [
      "athens reuters greek police said arrested year old syrian man suspected involvement terrorist acts abroad man arrested thursday northern city alexandroupolis expected appear state prosecutor friday police said statement man requested asylum northern greece police official said arrested violating restriction order imposed wife accused participating terrorist acts investigating participation extent past terrorist acts outside greece police said authorities also examining photographs found mobile phone police source said\n",
      "1\n"
     ]
    }
   ],
   "source": [
    "print(x_train[0])\n",
    "print(y_train[0])"
   ]
  },
  {
   "cell_type": "code",
   "execution_count": 36,
   "id": "9fa9c01d-6bc6-4aa2-88e2-bec5be2ffe0b",
   "metadata": {},
   "outputs": [],
   "source": [
    "#vectorize the text\n",
    "\n",
    "from sklearn.feature_extraction.text import TfidfVectorizer"
   ]
  },
  {
   "cell_type": "code",
   "execution_count": 37,
   "id": "88a581c7-1eff-412c-b461-6e3e18d24183",
   "metadata": {},
   "outputs": [],
   "source": [
    "vectorization = TfidfVectorizer()\n",
    "xv_train = vectorization.fit_transform(x_train)\n",
    "xv_test = vectorization.transform(x_test)"
   ]
  },
  {
   "cell_type": "code",
   "execution_count": 38,
   "id": "35d5fc64-0068-4a86-a0af-671fbbaa7a47",
   "metadata": {},
   "outputs": [
    {
     "data": {
      "text/plain": [
       "<33673x184500 sparse matrix of type '<class 'numpy.float64'>'\n",
       "\twith 5441418 stored elements in Compressed Sparse Row format>"
      ]
     },
     "execution_count": 38,
     "metadata": {},
     "output_type": "execute_result"
    }
   ],
   "source": [
    "xv_train"
   ]
  },
  {
   "cell_type": "code",
   "execution_count": 39,
   "id": "e77b3db7-eb5f-4f78-8238-074c846fdc5f",
   "metadata": {},
   "outputs": [
    {
     "data": {
      "text/plain": [
       "array([0., 0., 0., ..., 0., 0., 0.])"
      ]
     },
     "execution_count": 39,
     "metadata": {},
     "output_type": "execute_result"
    }
   ],
   "source": [
    "xv_train.toarray()[0]"
   ]
  },
  {
   "cell_type": "code",
   "execution_count": 40,
   "id": "d640734a-d7dc-48aa-8d6f-07112b6970ec",
   "metadata": {},
   "outputs": [],
   "source": [
    "from sklearn.linear_model import LogisticRegression"
   ]
  },
  {
   "cell_type": "code",
   "execution_count": 41,
   "id": "15be177c-bd0b-441e-a4b6-864909c0414f",
   "metadata": {},
   "outputs": [
    {
     "data": {
      "text/plain": [
       "LogisticRegression()"
      ]
     },
     "execution_count": 41,
     "metadata": {},
     "output_type": "execute_result"
    }
   ],
   "source": [
    "LR = LogisticRegression()\n",
    "LR.fit(xv_train, y_train)"
   ]
  },
  {
   "cell_type": "code",
   "execution_count": 42,
   "id": "a1aab4ff-7b57-4d6c-81da-53d8273c1ff8",
   "metadata": {},
   "outputs": [
    {
     "data": {
      "text/plain": [
       "0.9896659242761693"
      ]
     },
     "execution_count": 42,
     "metadata": {},
     "output_type": "execute_result"
    }
   ],
   "source": [
    "LR.score(xv_test, y_test)"
   ]
  },
  {
   "cell_type": "code",
   "execution_count": 43,
   "id": "06daee6b-4065-4f34-b7bc-22a90f2b7452",
   "metadata": {},
   "outputs": [],
   "source": [
    "pred_LR = LR.predict(xv_test)"
   ]
  },
  {
   "cell_type": "code",
   "execution_count": 44,
   "id": "8ba3e649-b971-40ae-a73f-f019d4048097",
   "metadata": {},
   "outputs": [
    {
     "data": {
      "text/plain": [
       "'              precision    recall  f1-score   support\\n\\n           0       0.99      0.99      0.99      5882\\n           1       0.99      0.99      0.99      5343\\n\\n    accuracy                           0.99     11225\\n   macro avg       0.99      0.99      0.99     11225\\nweighted avg       0.99      0.99      0.99     11225\\n'"
      ]
     },
     "execution_count": 44,
     "metadata": {},
     "output_type": "execute_result"
    }
   ],
   "source": [
    "classification_report(y_test, pred_LR)"
   ]
  },
  {
   "cell_type": "code",
   "execution_count": 45,
   "id": "4d1ef1ea-c1af-41b5-b4db-3b60a3a7a55e",
   "metadata": {},
   "outputs": [],
   "source": [
    "import re, string\n",
    "def wordopt(text):\n",
    "    text = text.lower()\n",
    "    text = re.sub('\\[.*?\\]', '', text)\n",
    "    text = re.sub(\"\\\\W\",\" \",text) \n",
    "    text = re.sub('https?://\\S+|www\\.\\S+', '', text)\n",
    "    text = re.sub('<.*?>+', '', text)\n",
    "    text = re.sub('[%s]' % re.escape(string.punctuation), '', text)\n",
    "    text = re.sub('\\n', '', text)\n",
    "    text = re.sub('\\w*\\d\\w*', '', text)    \n",
    "    return text"
   ]
  },
  {
   "cell_type": "code",
   "execution_count": 46,
   "id": "db253665-1ce8-4dcf-9189-297f7544ec47",
   "metadata": {},
   "outputs": [],
   "source": [
    "import pandas as pd\n",
    "def output_lable(n):\n",
    "    if n == 0:\n",
    "        return \"Fake News\"\n",
    "    elif n == 1:\n",
    "        return \"Not A Fake News\"\n",
    "    \n",
    "def manual_testing(news):\n",
    "    testing_news = {\"text\":[news]}\n",
    "    new_def_test = pd.DataFrame(testing_news)\n",
    "    new_def_test[\"text\"] = new_def_test[\"text\"].apply(wordopt) \n",
    "    new_x_test = new_def_test[\"text\"]\n",
    "    new_xv_test = vectorization.transform(new_x_test)\n",
    "    pred_LR = LR.predict(new_xv_test)\n",
    "\n",
    "    return print(\"\\n\\nLR Prediction: {} \\n\".format(output_lable(pred_LR[0])))"
   ]
  },
  {
   "cell_type": "code",
   "execution_count": 48,
   "id": "b36ae219-cfc4-48b7-93e0-562e30fea614",
   "metadata": {},
   "outputs": [
    {
     "name": "stdin",
     "output_type": "stream",
     "text": [
      " Donald Trump just couldn t wish all Americans a Happy New Year and leave it at that. Instead, he had to give a shout out to his enemies, haters and  the very dishonest fake news media.  The former reality show star had just one job to do and he couldn t do it. As our Country rapidly grows stronger and smarter, I want to wish all of my friends, supporters, enemies, haters, and even the very dishonest Fake News Media, a Happy and Healthy New Year,  President Angry Pants tweeted.  2018 will be a great year for America! As our Country rapidly grows stronger and smarter, I want to wish all of my friends, supporters, enemies, haters, and even the very dishonest Fake News Media, a Happy and Healthy New Year. 2018 will be a great year for America!  Donald J. Trump (@realDonaldTrump) December 31, 2017Trump s tweet went down about as welll as you d expect.What kind of president sends a New Year s greeting like this despicable, petty, infantile gibberish? Only Trump! His lack of decency won t even allow him to rise above the gutter long enough to wish the American citizens a happy new year!  Bishop Talbert Swan (@TalbertSwan) December 31, 2017no one likes you  Calvin (@calvinstowell) December 31, 2017Your impeachment would make 2018 a great year for America, but I ll also accept regaining control of Congress.  Miranda Yaver (@mirandayaver) December 31, 2017Do you hear yourself talk? When you have to include that many people that hate you you have to wonder? Why do the they all hate me?  Alan Sandoval (@AlanSandoval13) December 31, 2017Who uses the word Haters in a New Years wish??  Marlene (@marlene399) December 31, 2017You can t just say happy new year?  Koren pollitt (@Korencarpenter) December 31, 2017Here s Trump s New Year s Eve tweet from 2016.Happy New Year to all, including to my many enemies and those who have fought me and lost so badly they just don t know what to do. Love!  Donald J. Trump (@realDonaldTrump) December 31, 2016This is nothing new for Trump. He s been doing this for years.Trump has directed messages to his  enemies  and  haters  for New Year s, Easter, Thanksgiving, and the anniversary of 9/11. pic.twitter.com/4FPAe2KypA  Daniel Dale (@ddale8) December 31, 2017Trump s holiday tweets are clearly not presidential.How long did he work at Hallmark before becoming President?  Steven Goodine (@SGoodine) December 31, 2017He s always been like this . . . the only difference is that in the last few years, his filter has been breaking down.  Roy Schulze (@thbthttt) December 31, 2017Who, apart from a teenager uses the term haters?  Wendy (@WendyWhistles) December 31, 2017he s a fucking 5 year old  Who Knows (@rainyday80) December 31, 2017So, to all the people who voted for this a hole thinking he would change once he got into power, you were wrong! 70-year-old men don t change and now he s a year older.Photo by Andrew Burton/Getty Images.\n"
     ]
    },
    {
     "name": "stdout",
     "output_type": "stream",
     "text": [
      "\n",
      "\n",
      "LR Prediction: Fake News \n",
      "\n"
     ]
    }
   ],
   "source": [
    "news = str(input())\n",
    "manual_testing(news)"
   ]
  },
  {
   "cell_type": "markdown",
   "id": "a96481c0-5ff1-4819-90f8-8b6270838b1d",
   "metadata": {},
   "source": [
    "#Flagging Twitter Data"
   ]
  },
  {
   "cell_type": "code",
   "execution_count": 49,
   "id": "5614960a-c052-4dca-91ab-08778e0fde38",
   "metadata": {},
   "outputs": [],
   "source": [
    "schema= StructType(\n",
    "      [StructField('UserName',StringType(),True),\n",
    "      StructField('Tweet ID',StringType(),True),\n",
    "      StructField('Date',StringType(),True),\n",
    "      StructField('Tweet_Text',StringType(),True)])\n",
    "df = pd.read_csv('tweets.csv')\n",
    "df = spark.createDataFrame(df,schema = schema)"
   ]
  },
  {
   "cell_type": "code",
   "execution_count": 50,
   "id": "a4b0a5bf-c4a3-4d4f-b542-6d576a840966",
   "metadata": {},
   "outputs": [
    {
     "name": "stdout",
     "output_type": "stream",
     "text": [
      "+---------------+-------------------+--------------------+--------------------+\n",
      "|       UserName|           Tweet ID|                Date|          Tweet_Text|\n",
      "+---------------+-------------------+--------------------+--------------------+\n",
      "|robertaisbtlrdy|1605352339480649729|2022-12-20 23:59:...|RT @MariaBartirom...|\n",
      "| PurpRmPolitics|1605352288507281409|2022-12-20 23:59:...|Full story https:...|\n",
      "|   DailyPattaya|1605352287219732480|2022-12-20 23:59:...|The latest The Pa...|\n",
      "|    basimtrades|1605352262754148352|2022-12-20 23:59:...|RT @BetterLunc: ?...|\n",
      "|   hatomasu0704|1605352123222609921|2022-12-20 23:59:...|RT @NEWS_4_KMSY: ...|\n",
      "|       railpage|1605352119502262273|2022-12-20 23:59:...|Boost for Wagon F...|\n",
      "| thepsychicseer|1605352109163311104|2022-12-20 23:59:...|#MusicNews #News ...|\n",
      "|       FaktTech|1605352103819345920|2022-12-20 23:59:...|~Elon Musk Casts ...|\n",
      "|        vxmxuan|1605352078184189952|2022-12-20 23:58:...|RT @BetterLunc: ?...|\n",
      "|  BigPharmaHarm|1605352035385110528|2022-12-20 23:58:...|@MickinGong Do yo...|\n",
      "|       FaktTech|1605351889515581444|2022-12-20 23:58:...|~Winter Solstice ...|\n",
      "|      NewsToter|1605351854984290304|2022-12-20 23:58:...|#News: Task Force...|\n",
      "|     HouseOfSeb|1605351782506438656|2022-12-20 23:57:...|Thank you Kira Ca...|\n",
      "|   JavierSotoTV|1605351723912019968|2022-12-20 23:57:...|Good Evening All....|\n",
      "|     Tbrown1981|1605351700612751361|2022-12-20 23:57:...|RT @voicelifetech...|\n",
      "|themarketherald|1605351693650206720|2022-12-20 23:57:...|Heavy Minerals (A...|\n",
      "|        MasMiL0|1605351677531656193|2022-12-20 23:57:...|RT @BetterLunc: ?...|\n",
      "|     BetterLunc|1605351583205703680|2022-12-20 23:56:...|🚨BREAKING \\n\\nWe...|\n",
      "|  BumpyBarz3200|1605351496811307008|2022-12-20 23:56:...|RT @HouseofColors...|\n",
      "| embedded_house|1605351483071172608|2022-12-20 23:56:...|How to Change a m...|\n",
      "+---------------+-------------------+--------------------+--------------------+\n",
      "only showing top 20 rows\n",
      "\n"
     ]
    }
   ],
   "source": [
    "df.show()"
   ]
  },
  {
   "cell_type": "code",
   "execution_count": 51,
   "id": "30442f90-a3da-4c2b-8ddf-052303559632",
   "metadata": {},
   "outputs": [
    {
     "name": "stdout",
     "output_type": "stream",
     "text": [
      "+---------------+-------------------+--------------------+--------------------+----------------+\n",
      "|       UserName|           Tweet ID|                Date|          Tweet_Text|        hashtags|\n",
      "+---------------+-------------------+--------------------+--------------------+----------------+\n",
      "|robertaisbtlrdy|1605352339480649729|2022-12-20 23:59:...|RT : Rep. James C...|    #foxbusiness|\n",
      "| PurpRmPolitics|1605352288507281409|2022-12-20 23:59:...|Full story https:...|           #2022|\n",
      "|   DailyPattaya|1605352287219732480|2022-12-20 23:59:...|The latest The Pa...|       #thailand|\n",
      "|    basimtrades|1605352262754148352|2022-12-20 23:59:...|RT : 🚨BREAKING\\n...|           #Lunc|\n",
      "|   hatomasu0704|1605352123222609921|2022-12-20 23:59:...|RT : NEWS  |  ｢KI...|           #NEWS|\n",
      "|       railpage|1605352119502262273|2022-12-20 23:59:...|Boost for Wagon F...|           #news|\n",
      "| thepsychicseer|1605352109163311104|2022-12-20 23:59:...|   The Specials’ ...|      #MusicNews|\n",
      "|       FaktTech|1605352103819345920|2022-12-20 23:59:...|~Elon Musk Casts ...|           #News|\n",
      "|        vxmxuan|1605352078184189952|2022-12-20 23:58:...|RT : 🚨BREAKING \\...|                |\n",
      "|  BigPharmaHarm|1605352035385110528|2022-12-20 23:58:...| Do you think thi...|           #news|\n",
      "|       FaktTech|1605351889515581444|2022-12-20 23:58:...|~Winter Solstice ...|           #News|\n",
      "|      NewsToter|1605351854984290304|2022-12-20 23:58:...|: Task Force To S...|           #News|\n",
      "|     HouseOfSeb|1605351782506438656|2022-12-20 23:57:...|Thank you Kira Ca...|        #rtitbot|\n",
      "|   JavierSotoTV|1605351723912019968|2022-12-20 23:57:...|Good Evening All....|             #AZ|\n",
      "|     Tbrown1981|1605351700612751361|2022-12-20 23:57:...|RT : We are pleas...|                |\n",
      "|themarketherald|1605351693650206720|2022-12-20 23:57:...|Heavy Minerals (A...|#themarketherald|\n",
      "|        MasMiL0|1605351677531656193|2022-12-20 23:57:...|RT : 🚨BREAKING \\...|                |\n",
      "|     BetterLunc|1605351583205703680|2022-12-20 23:56:...|🚨BREAKING \\n\\nWe...|           #Lunc|\n",
      "|  BumpyBarz3200|1605351496811307008|2022-12-20 23:56:...|RT : Bumpy Barz s...|          #House|\n",
      "| embedded_house|1605351483071172608|2022-12-20 23:56:...|How to Change a m...|            #mac|\n",
      "+---------------+-------------------+--------------------+--------------------+----------------+\n",
      "only showing top 20 rows\n",
      "\n"
     ]
    }
   ],
   "source": [
    "from pyspark.sql.functions import regexp_extract, split, explode\n",
    "df = df.withColumn(\"hashtags\", regexp_extract(\"Tweet_Text\", \"#\\w+\", 0))\n",
    "df = df.withColumn(\"Tweet_Text\", regexp_replace(\"Tweet_Text\", \"#\\w+\", \"\"))\n",
    "df = df.withColumn(\"Tweet_Text\", regexp_replace(\"Tweet_Text\", \"@\\w+\", \"\"))\n",
    "df = df.withColumn(\"hashtags\", split(\"hashtags\", \" \"))\n",
    "df = df.withColumn(\"hashtags\", explode(\"hashtags\"))\n",
    "df.show()"
   ]
  },
  {
   "cell_type": "code",
   "execution_count": 52,
   "id": "1b9d54b0-9703-414c-b42e-c802f17c6348",
   "metadata": {},
   "outputs": [],
   "source": [
    "from pyspark.sql.functions import col, split, lower, regexp_replace, length\n",
    "\n",
    "df = df.select('Tweet_Text',(lower(regexp_replace('Tweet_Text', \"[^a-zA-Z\\\\s]\", \"\")).alias('Text')), 'UserName', 'Date')\n",
    "# df = df.withColumn(\"Text\", regexp_replace(\"text\", \"\\\\s+\", \"\"))\n",
    "df = df.drop(\"Tweet_Text\")"
   ]
  },
  {
   "cell_type": "code",
   "execution_count": 53,
   "id": "661fae57-c8c0-4025-aaac-e2ac722a2530",
   "metadata": {},
   "outputs": [
    {
     "name": "stdout",
     "output_type": "stream",
     "text": [
      "+--------------------+--------------------+---------------+--------------------+\n",
      "|                Text|         words_token|       UserName|                Date|\n",
      "+--------------------+--------------------+---------------+--------------------+\n",
      "|rt  rep james com...|[rt, , rep, james...|robertaisbtlrdy|2022-12-20 23:59:...|\n",
      "|full story httpst...|[full, story, htt...| PurpRmPolitics|2022-12-20 23:59:...|\n",
      "|the latest the pa...|[the, latest, the...|   DailyPattaya|2022-12-20 23:59:...|\n",
      "|rt  breaking\\n\\nw...|[rt, , breaking, ...|    basimtrades|2022-12-20 23:59:...|\n",
      "|rt  news    kingd...|[rt, , news, , , ...|   hatomasu0704|2022-12-20 23:59:...|\n",
      "|boost for wagon f...|[boost, for, wago...|       railpage|2022-12-20 23:59:...|\n",
      "|   the specials h...|[, , , the, speci...| thepsychicseer|2022-12-20 23:59:...|\n",
      "|elon musk casts d...|[elon, musk, cast...|       FaktTech|2022-12-20 23:59:...|\n",
      "|rt  breaking \\n\\n...|[rt, , breaking, ...|        vxmxuan|2022-12-20 23:58:...|\n",
      "| do you think thi...|[, do, you, think...|  BigPharmaHarm|2022-12-20 23:58:...|\n",
      "|winter solstice  ...|[winter, solstice...|       FaktTech|2022-12-20 23:58:...|\n",
      "| task force to st...|[, task, force, t...|      NewsToter|2022-12-20 23:58:...|\n",
      "|thank you kira ca...|[thank, you, kira...|     HouseOfSeb|2022-12-20 23:57:...|\n",
      "|good evening all ...|[good, evening, a...|   JavierSotoTV|2022-12-20 23:57:...|\n",
      "|rt  we are please...|[rt, , we, are, p...|     Tbrown1981|2022-12-20 23:57:...|\n",
      "|heavy minerals as...|[heavy, minerals,...|themarketherald|2022-12-20 23:57:...|\n",
      "|rt  breaking \\n\\n...|[rt, , breaking, ...|        MasMiL0|2022-12-20 23:57:...|\n",
      "|breaking \\n\\nwe h...|[breaking, , , we...|     BetterLunc|2022-12-20 23:56:...|\n",
      "|rt  bumpy barz sp...|[rt, , bumpy, bar...|  BumpyBarz3200|2022-12-20 23:56:...|\n",
      "|how to change a m...|[how, to, change,...| embedded_house|2022-12-20 23:56:...|\n",
      "+--------------------+--------------------+---------------+--------------------+\n",
      "only showing top 20 rows\n",
      "\n"
     ]
    }
   ],
   "source": [
    "from pyspark.ml.feature import Tokenizer\n",
    "\n",
    "tokenizer = Tokenizer(inputCol='Text', outputCol='words_token')\n",
    "\n",
    "df = tokenizer.transform(df).select('Text','words_token','UserName','Date')\n",
    "df.show()"
   ]
  },
  {
   "cell_type": "code",
   "execution_count": 54,
   "id": "3198c032-51dd-4126-9754-6f3eaf645244",
   "metadata": {},
   "outputs": [],
   "source": [
    "from pyspark.sql.functions import udf\n",
    "import pyspark.sql.functions as f\n",
    "from pyspark.sql.types import ArrayType\n",
    "\n",
    "def space_removal(f):\n",
    "    clean_tokens = []\n",
    "    for tok in f:\n",
    "        if tok:\n",
    "            clean_tokens.append(tok)\n",
    "    return clean_tokens\n",
    "\n",
    "udf_space_removal = udf(space_removal, ArrayType(StringType()))\n",
    "\n",
    "df = df.withColumn('words_token', udf_space_removal(f.col('words_token')))"
   ]
  },
  {
   "cell_type": "code",
   "execution_count": 63,
   "id": "972776af-d859-4182-b08e-955f52a1e201",
   "metadata": {},
   "outputs": [],
   "source": [
    "# remove the stop words\n",
    "from pyspark.ml.feature import StopWordsRemover\n",
    "\n",
    "stop_words_remover = StopWordsRemover(inputCol='words_token', outputCol='text').setStopWords(stop)"
   ]
  },
  {
   "cell_type": "code",
   "execution_count": 64,
   "id": "efce9e42-d81b-4875-a44b-415298c37521",
   "metadata": {},
   "outputs": [],
   "source": [
    "from pyspark.ml import Pipeline\n",
    "\n",
    "stopWordRemovalPipeline = Pipeline(stages=[stop_words_remover])\n",
    "pipelineFitRemoveStopWords = stopWordRemovalPipeline.fit(df)"
   ]
  },
  {
   "cell_type": "code",
   "execution_count": 65,
   "id": "534153f6-2eb5-4b87-86ba-3e8bcd050854",
   "metadata": {},
   "outputs": [
    {
     "name": "stdout",
     "output_type": "stream",
     "text": [
      "+--------------------+--------------------+---------------+--------------------+\n",
      "|                text|         words_token|       UserName|                Date|\n",
      "+--------------------+--------------------+---------------+--------------------+\n",
      "|[rt, rep, james, ...|[rt, rep, james, ...|robertaisbtlrdy|2022-12-20 23:59:...|\n",
      "|[full, story, htt...|[full, story, htt...| PurpRmPolitics|2022-12-20 23:59:...|\n",
      "|[latest, pattaya,...|[the, latest, the...|   DailyPattaya|2022-12-20 23:59:...|\n",
      "|[rt, breaking, vo...|[rt, breaking, we...|    basimtrades|2022-12-20 23:59:...|\n",
      "|[rt, news, kingdo...|[rt, news, kingdo...|   hatomasu0704|2022-12-20 23:59:...|\n",
      "|[boost, wagon, fa...|[boost, for, wago...|       railpage|2022-12-20 23:59:...|\n",
      "|[specials, horace...|[the, specials, h...| thepsychicseer|2022-12-20 23:59:...|\n",
      "|[elon, musk, cast...|[elon, musk, cast...|       FaktTech|2022-12-20 23:59:...|\n",
      "|[rt, breaking, vo...|[rt, breaking, we...|        vxmxuan|2022-12-20 23:58:...|\n",
      "|[think, bought, d...|[do, you, think, ...|  BigPharmaHarm|2022-12-20 23:58:...|\n",
      "|[winter, solstice...|[winter, solstice...|       FaktTech|2022-12-20 23:58:...|\n",
      "|[task, force, stu...|[task, force, to,...|      NewsToter|2022-12-20 23:58:...|\n",
      "|[thank, kira, cat...|[thank, you, kira...|     HouseOfSeb|2022-12-20 23:57:...|\n",
      "|[good, evening, s...|[good, evening, a...|   JavierSotoTV|2022-12-20 23:57:...|\n",
      "|[rt, pleased, ann...|[rt, we, are, ple...|     Tbrown1981|2022-12-20 23:57:...|\n",
      "|[heavy, minerals,...|[heavy, minerals,...|themarketherald|2022-12-20 23:57:...|\n",
      "|[rt, breaking, vo...|[rt, breaking, we...|        MasMiL0|2022-12-20 23:57:...|\n",
      "|[breaking, voted,...|[breaking, we, ha...|     BetterLunc|2022-12-20 23:56:...|\n",
      "|[rt, bumpy, barz,...|[rt, bumpy, barz,...|  BumpyBarz3200|2022-12-20 23:56:...|\n",
      "|[change, macos, u...|[how, to, change,...| embedded_house|2022-12-20 23:56:...|\n",
      "+--------------------+--------------------+---------------+--------------------+\n",
      "only showing top 20 rows\n",
      "\n"
     ]
    }
   ],
   "source": [
    "df = pipelineFitRemoveStopWords.transform(df)\n",
    "df.show()"
   ]
  },
  {
   "cell_type": "code",
   "execution_count": 66,
   "id": "0d74248b-4959-47c6-936e-fc41c77fcbb4",
   "metadata": {},
   "outputs": [
    {
     "name": "stdout",
     "output_type": "stream",
     "text": [
      "+--------------------+--------------------+---------------+--------------------+\n",
      "|                text|         words_token|       UserName|                Date|\n",
      "+--------------------+--------------------+---------------+--------------------+\n",
      "|rt rep james come...|[rt, rep, james, ...|robertaisbtlrdy|2022-12-20 23:59:...|\n",
      "|full story httpst...|[full, story, htt...| PurpRmPolitics|2022-12-20 23:59:...|\n",
      "|latest pattaya da...|[the, latest, the...|   DailyPattaya|2022-12-20 23:59:...|\n",
      "|rt breaking voted...|[rt, breaking, we...|    basimtrades|2022-12-20 23:59:...|\n",
      "|rt news kingdom s...|[rt, news, kingdo...|   hatomasu0704|2022-12-20 23:59:...|\n",
      "+--------------------+--------------------+---------------+--------------------+\n",
      "only showing top 5 rows\n",
      "\n"
     ]
    }
   ],
   "source": [
    "\n",
    "from pyspark.sql.functions import concat_ws\n",
    "\n",
    "df_freq = df.withColumn(\"text\", concat_ws(\" \", df[\"text\"]))\n",
    "\n",
    "df_freq.show(5)"
   ]
  },
  {
   "cell_type": "code",
   "execution_count": 67,
   "id": "e756a516-5859-4f27-86f4-595010467e9d",
   "metadata": {},
   "outputs": [
    {
     "name": "stdout",
     "output_type": "stream",
     "text": [
      "+--------------------+--------------------+---------------+--------------------+---+\n",
      "|                text|         words_token|       UserName|                Date| id|\n",
      "+--------------------+--------------------+---------------+--------------------+---+\n",
      "|rt rep james come...|[rt, rep, james, ...|robertaisbtlrdy|2022-12-20 23:59:...|  0|\n",
      "|full story httpst...|[full, story, htt...| PurpRmPolitics|2022-12-20 23:59:...|  1|\n",
      "|latest pattaya da...|[the, latest, the...|   DailyPattaya|2022-12-20 23:59:...|  2|\n",
      "|rt breaking voted...|[rt, breaking, we...|    basimtrades|2022-12-20 23:59:...|  3|\n",
      "|rt news kingdom s...|[rt, news, kingdo...|   hatomasu0704|2022-12-20 23:59:...|  4|\n",
      "|boost wagon facil...|[boost, for, wago...|       railpage|2022-12-20 23:59:...|  5|\n",
      "|specials horace p...|[the, specials, h...| thepsychicseer|2022-12-20 23:59:...|  6|\n",
      "|elon musk casts d...|[elon, musk, cast...|       FaktTech|2022-12-20 23:59:...|  7|\n",
      "|rt breaking voted...|[rt, breaking, we...|        vxmxuan|2022-12-20 23:58:...|  8|\n",
      "|think bought dr p...|[do, you, think, ...|  BigPharmaHarm|2022-12-20 23:58:...|  9|\n",
      "|winter solstice r...|[winter, solstice...|       FaktTech|2022-12-20 23:58:...| 10|\n",
      "|task force study ...|[task, force, to,...|      NewsToter|2022-12-20 23:58:...| 11|\n",
      "|thank kira catanz...|[thank, you, kira...|     HouseOfSeb|2022-12-20 23:57:...| 12|\n",
      "|good evening solo...|[good, evening, a...|   JavierSotoTV|2022-12-20 23:57:...| 13|\n",
      "|rt pleased announ...|[rt, we, are, ple...|     Tbrown1981|2022-12-20 23:57:...| 14|\n",
      "|heavy minerals as...|[heavy, minerals,...|themarketherald|2022-12-20 23:57:...| 15|\n",
      "|rt breaking voted...|[rt, breaking, we...|        MasMiL0|2022-12-20 23:57:...| 16|\n",
      "|breaking voted pr...|[breaking, we, ha...|     BetterLunc|2022-12-20 23:56:...| 17|\n",
      "|rt bumpy barz spe...|[rt, bumpy, barz,...|  BumpyBarz3200|2022-12-20 23:56:...| 18|\n",
      "|change macos user...|[how, to, change,...| embedded_house|2022-12-20 23:56:...| 19|\n",
      "+--------------------+--------------------+---------------+--------------------+---+\n",
      "only showing top 20 rows\n",
      "\n"
     ]
    }
   ],
   "source": [
    "from pyspark.sql.functions import monotonically_increasing_id \n",
    "\n",
    "df_ml = df_freq.select(\"*\").withColumn(\"id\", monotonically_increasing_id())\n",
    "\n",
    "df_ml.show()"
   ]
  },
  {
   "cell_type": "code",
   "execution_count": 68,
   "id": "6b25a765-3842-41f4-9e67-4cbb542aafc5",
   "metadata": {},
   "outputs": [],
   "source": [
    "tweets = df_ml.select('text').rdd.flatMap(lambda x: x).collect()"
   ]
  },
  {
   "cell_type": "code",
   "execution_count": 69,
   "id": "f46fd781-df11-48d0-8af8-a648c7143410",
   "metadata": {},
   "outputs": [],
   "source": [
    "#vectorizing tweet data \n",
    "tweets_vector = vectorization.transform(tweets)\n"
   ]
  },
  {
   "cell_type": "code",
   "execution_count": 70,
   "id": "23eafc3c-75bd-44ae-bc74-791d44a91970",
   "metadata": {},
   "outputs": [],
   "source": [
    "y_pred = LR.predict(tweets_vector)"
   ]
  },
  {
   "cell_type": "code",
   "execution_count": 72,
   "id": "c59570b9-7f46-4d47-a0f2-a754371f21ab",
   "metadata": {},
   "outputs": [
    {
     "name": "stdout",
     "output_type": "stream",
     "text": [
      "[0 0 0 0 0 0 0 0 0 0 0 0 0 0 0 0 0 0 0 0 0 0 0 0 0 0 0 0 0 0 0 0 0 0 0 0 0\n",
      " 0 0 0 0 0 0 0 0 0 0 0 0 0 0 0 0 0 0 0 0 0 0 0 0 0 0 0 0 0 0 0 0 0 0 0 0 0\n",
      " 0 0 0 0 0 0 0 0 0 0 0 0 0 0 0 0 0 0 0 0 0 0 0 0 0 0 0 0 0 0 0 0 0 0 0 0 0\n",
      " 0 0 0 0 0 0 0 0 0 0 0 0 0 0 0 0 0 0 0 0 0 0 0 0 0 0 0 0 0 0 0 0 0 0 0 0 0\n",
      " 0 0 0 0 0 0 0 0 0 0 0 0 0 0 0 0 0 0 0 0 0 0 0 0 0 0 0 0 0 0 0 0 0 0 0 0 0\n",
      " 0 0 0 0 0 0 0 0 0 0 0 0 0 0 0 0 0 0 0 0 0 0 0 0 0 0 0 0 0 0 0 0 0 0 0 0 0\n",
      " 0 0 0 0 0 0 0 0 0 0 0 0 0 0 0 0 0 0 0 0 0 0 0 0 0 0 0 0 0 0 0 0 0 0 0 0 0\n",
      " 0 0 0 0 0 0 0 0 0 0 0 0 0 0 0 0 0 0 0 0 0 0 0 0 0 0 0 0 0 0 0 0 0 0 0 0 0\n",
      " 0 0 0 0 0 0 0 0 0 0 0 0 0 0 0 0 0 0 0 0 0 0 0 0 0 0 0 0 0 0 1 0 0 1 0 1 0\n",
      " 0 1 0 0 0 0 0 1 0 0 0 0 0 0 0 0 0 1 0 1 0 0 0 0 0 0 0 0 0 0 0 0 0 0 0 0 0\n",
      " 0 0 0 0 0 0 0 0 0 0 0 0 0 0 0 0 0 0 0 0 0 0 0 0 0 0 0 0 0 0 0 0 0 0 0 0 0\n",
      " 0 0 0 0 0 0 0 0 0 0 0 0 0 0 0 0 0 0 0 0 0 0 0 0 0 0 0 0 0 0 0 0 0 0 0 0 0\n",
      " 0 0 0 0 0 0 0 0 0 0 0 0 0 0 0 0 0 0 0 0 0 0 0 0 0 0 0 0 0 0 0 0 0 0 0 0 0\n",
      " 0 0 1 0 0 1 0 0 0 0 0 0 0 0 0 0 0 0 0 0 0 0 0 0 0 0 0 0 0 0 0 0 0 0 0 0 0\n",
      " 0 0 0 0 0 0 0 0 0 0 0 0 0 0 1 0 0 0 0 0 0 0 0 0 0 0 0 0 0 0 0 0 0 0 0 0 0\n",
      " 0 0 0 0 0 0 0 0 0 0 0 0 0 0 0 0 0 0 0 0 0 0 0 0 0 0 0 0 0 0 0 0 0 0 0 0 0\n",
      " 0 0 0 0 0 0 0 0 0 0 0 0 0 0 0 0 0 0 0 0 0 0 0 0 0 0 1 0 0 0 0 0 0 0 0 0 0\n",
      " 0 0 0 0 0 0 0 0 0 0 0 0 0 0 0 0 0 0 0 0 0 0 0 0 0 0 0 0 0 0 0 0 0 0 0 0 0\n",
      " 0 0 0 0 0 0 0 0 0 0 0 0 0 0 0 0 0 0 0 0 0 0 0 0 0 0 0 0 0 0 0 0 0 0 0 0 0\n",
      " 0 0 0 0 0 0 0 0 0 0 0 0 0 0 0 0 1 0 0 0 0 0 0 0 0 0 0 0 0 0 0 0 0 0 0 0 0\n",
      " 0 0 0 0 0 0 0 0 0 0 0 0 0 0 0 0 0 0 0 0 0 0 0 0 0 0 0 0 0 0 0 0 0 0 0 0 0\n",
      " 0 0 0 0 1 0 0 0 0 0 0 0 0 0 0 0 0 0 0 0 0 0 0 0 0 0 0 0 0 0 0 0 0 0 0 0 0\n",
      " 0 0 0 0 0 0 0 0 0 0 0 0 0 0 1 0 0 0 0 0 0 0 0 0 0 0 0 0 0 0 0 0 0 0 0 0 0\n",
      " 0 0 0 0 0 0 0 0 0 0 0 0 0 0 0 0 0 0 0 0 0 0 0 0 0 0 0 0 0 0 0 0 0 0 0 0 0\n",
      " 0 0 0 0 0 0 0 0 0 0 0 0]\n"
     ]
    }
   ],
   "source": [
    "# result of prediction of the data from twitter : 0 represents false news and 1 represents true news \n",
    "print(y_pred)"
   ]
  },
  {
   "cell_type": "code",
   "execution_count": null,
   "id": "97d5b4f2-e46f-475f-ae5c-bb75f007cc97",
   "metadata": {},
   "outputs": [],
   "source": []
  }
 ],
 "metadata": {
  "kernelspec": {
   "display_name": "Python 3 (ipykernel)",
   "language": "python",
   "name": "python3"
  },
  "language_info": {
   "codemirror_mode": {
    "name": "ipython",
    "version": 3
   },
   "file_extension": ".py",
   "mimetype": "text/x-python",
   "name": "python",
   "nbconvert_exporter": "python",
   "pygments_lexer": "ipython3",
   "version": "3.9.12"
  }
 },
 "nbformat": 4,
 "nbformat_minor": 5
}
