{
 "cells": [
  {
   "cell_type": "code",
   "execution_count": 2,
   "id": "12db00c9",
   "metadata": {},
   "outputs": [
    {
     "name": "stderr",
     "output_type": "stream",
     "text": [
      "Setting default log level to \"WARN\".\n",
      "To adjust logging level use sc.setLogLevel(newLevel). For SparkR, use setLogLevel(newLevel).\n"
     ]
    },
    {
     "name": "stdout",
     "output_type": "stream",
     "text": [
      "22/12/04 21:58:45 WARN NativeCodeLoader: Unable to load native-hadoop library for your platform... using builtin-java classes where applicable\n",
      "22/12/04 21:58:46 WARN Utils: Service 'SparkUI' could not bind on port 4040. Attempting port 4041.\n"
     ]
    },
    {
     "name": "stderr",
     "output_type": "stream",
     "text": [
      "/Users/poojaakki/opt/anaconda3/lib/python3.9/site-packages/pyspark/sql/context.py:157: FutureWarning: Deprecated in 3.0.0. Use SparkSession.builder.getOrCreate() instead.\n",
      "  warnings.warn(\n"
     ]
    }
   ],
   "source": [
    "import os\n",
    "import pyspark\n",
    "conf = pyspark.SparkConf()\n",
    "# conf.set('spark.ui.proxyBase'\n",
    "# , '/user/' + os.environ['JUPYTERHUB_USER'] + '/proxy/4041')\n",
    "conf.set('spark.sql.repl.eagerEval.enabled', True)\n",
    "conf.set('spark.driver.memory','4g')\n",
    "sc = pyspark.SparkContext(conf=conf)\n",
    "spark = pyspark.SQLContext.getOrCreate(sc)"
   ]
  },
  {
   "cell_type": "code",
   "execution_count": 3,
   "id": "739eae2e",
   "metadata": {},
   "outputs": [
    {
     "name": "stdout",
     "output_type": "stream",
     "text": [
      "+--------------------+--------------------+-------+-----------------+\n",
      "|               title|                text|subject|             date|\n",
      "+--------------------+--------------------+-------+-----------------+\n",
      "| Donald Trump Sen...|Donald Trump just...|   News|December 31, 2017|\n",
      "| Drunk Bragging T...|House Intelligenc...|   News|December 31, 2017|\n",
      "| Sheriff David Cl...|On Friday, it was...|   News|December 30, 2017|\n",
      "| Trump Is So Obse...|On Christmas day,...|   News|December 29, 2017|\n",
      "| Pope Francis Jus...|Pope Francis used...|   News|December 25, 2017|\n",
      "| Racist Alabama C...|The number of cas...|   News|December 25, 2017|\n",
      "| Fresh Off The Go...|Donald Trump spen...|   News|December 23, 2017|\n",
      "| Trump Said Some ...|In the wake of ye...|   News|December 23, 2017|\n",
      "| Former CIA Direc...|Many people have ...|   News|December 22, 2017|\n",
      "| WATCH: Brand-New...|Just when you mig...|   News|December 21, 2017|\n",
      "| Papa John’s Foun...|A centerpiece of ...|   News|December 21, 2017|\n",
      "| WATCH: Paul Ryan...|Republicans are w...|   News|December 21, 2017|\n",
      "| Bad News For Tru...|Republicans have ...|   News|December 21, 2017|\n",
      "| WATCH: Lindsey G...|The media has bee...|   News|December 20, 2017|\n",
      "| Heiress To Disne...|Abigail Disney is...|   News|December 20, 2017|\n",
      "| Tone Deaf Trump:...|Donald Trump just...|   News|December 20, 2017|\n",
      "| The Internet Bru...|A new animatronic...|   News|December 19, 2017|\n",
      "| Mueller Spokesma...|Trump supporters ...|   News|December 17, 2017|\n",
      "| SNL Hilariously ...|Right now, the wh...|   News|December 17, 2017|\n",
      "| Republican Senat...|Senate Majority W...|   News|December 16, 2017|\n",
      "+--------------------+--------------------+-------+-----------------+\n",
      "only showing top 20 rows\n",
      "\n"
     ]
    }
   ],
   "source": [
    "# Read the csv files from datasets\n",
    "\n",
    "#Fake news\n",
    "df_fake = spark.read.option(\"header\", \"true\").csv(\"/Users/poojaakki/Desktop/projects/Fake-News-Detection-Data-Analysis/datasets/News _dataset/Fake.csv\")\n",
    "df_fake.show()"
   ]
  },
  {
   "cell_type": "code",
   "execution_count": 4,
   "id": "6fdf7c39",
   "metadata": {},
   "outputs": [],
   "source": [
    "#Truth news\n",
    "df_true = spark.read.option(\"header\", \"true\").csv(\"/Users/poojaakki/Desktop/projects/Fake-News-Detection-Data-Analysis/datasets/News _dataset/True.csv\")\n",
    "#df_true.show()"
   ]
  },
  {
   "cell_type": "code",
   "execution_count": 5,
   "id": "9eaef2c6",
   "metadata": {},
   "outputs": [],
   "source": [
    "# count of data and the. umber of coloumns\n",
    "# print((df_fake.count(), len(df_fake.columns)))\n",
    "# print((df_true.count(), len(df_true.columns)))"
   ]
  },
  {
   "cell_type": "code",
   "execution_count": 6,
   "id": "58c30187",
   "metadata": {},
   "outputs": [],
   "source": [
    "#Add the column for fake news and also a column for true news\n",
    "from pyspark.sql.functions import lit\n",
    "\n",
    "df_fake = df_fake.withColumn(\"Flag\", lit(\"Fake_News\"))\n",
    "#df_fake.show()"
   ]
  },
  {
   "cell_type": "code",
   "execution_count": 7,
   "id": "b48d8968",
   "metadata": {},
   "outputs": [],
   "source": [
    "df_true = df_true.withColumn(\"Flag\", lit(\"True_News\"))\n",
    "# df_true.show()"
   ]
  },
  {
   "cell_type": "code",
   "execution_count": 8,
   "id": "4783d4fb",
   "metadata": {},
   "outputs": [],
   "source": [
    "#concat the two tables\n",
    "df_concat = df_fake.unionByName(df_true, allowMissingColumns=True)\n",
    "# df_concat.show()"
   ]
  },
  {
   "cell_type": "code",
   "execution_count": 9,
   "id": "2ca7ec2c",
   "metadata": {},
   "outputs": [],
   "source": [
    "#specifying the row number to each row\n",
    "\n",
    "from pyspark.sql.functions import monotonically_increasing_id \n",
    "\n",
    "df_concat = df_concat.select(\"*\").withColumn(\"id\", monotonically_increasing_id())\n",
    "\n",
    "# df_concat.show()"
   ]
  },
  {
   "cell_type": "code",
   "execution_count": 10,
   "id": "e005e429",
   "metadata": {},
   "outputs": [],
   "source": [
    "# print((df_concat.count(), len(df_concat.columns)))"
   ]
  },
  {
   "cell_type": "code",
   "execution_count": 11,
   "id": "a40c86a2",
   "metadata": {},
   "outputs": [],
   "source": [
    "#### has to randomly shuffle the data\n",
    "import pyspark.sql.functions as F\n",
    "\n",
    "df_concat = df_concat.select(\"*\").orderBy(F.rand())\n",
    "# df_concat.show()"
   ]
  },
  {
   "cell_type": "code",
   "execution_count": 12,
   "id": "3c756638",
   "metadata": {},
   "outputs": [],
   "source": [
    "# Remove the unwanted coloumn\n",
    "\n",
    "df_concat =  df_concat.drop(df_concat[\"date\"])\n",
    "# df_concat"
   ]
  },
  {
   "cell_type": "code",
   "execution_count": 13,
   "id": "143d6976-15d2-4efd-b978-9fc4acb4d543",
   "metadata": {},
   "outputs": [],
   "source": [
    "# Remove the title for analysis\n",
    "\n",
    "df_concat =  df_concat.drop(df_concat[\"title\"])\n",
    "# df_concat"
   ]
  },
  {
   "cell_type": "code",
   "execution_count": 14,
   "id": "c3d34b0b-410c-4a2b-ab7b-780baf0353cb",
   "metadata": {},
   "outputs": [],
   "source": [
    "# In order to avaoid the confusion convert everything to lowercase\n",
    "from pyspark.sql.functions import col, split, lower, regexp_replace, length\n",
    "\n",
    "df_concat = df_concat\\\n",
    ".withColumn(\"text\", regexp_replace(lower(col(\"text\")), r\"[^0-9a-z]\", \" \"))\\\n",
    ".where(length(\"text\")>0)\n",
    "\n",
    "# df_concat"
   ]
  },
  {
   "cell_type": "code",
   "execution_count": 15,
   "id": "c24daf05-c26c-44cd-945c-68735ef5031b",
   "metadata": {},
   "outputs": [
    {
     "name": "stderr",
     "output_type": "stream",
     "text": [
      "[nltk_data] Downloading package stopwords to\n",
      "[nltk_data]     /Users/poojaakki/nltk_data...\n",
      "[nltk_data]   Package stopwords is already up-to-date!\n"
     ]
    }
   ],
   "source": [
    "# remove stop words from it\n",
    "import nltk\n",
    "nltk.download('stopwords')\n",
    "from nltk.corpus import stopwords\n",
    "stop = stopwords.words('english')\n"
   ]
  },
  {
   "cell_type": "code",
   "execution_count": 16,
   "id": "80b547ef-f09f-41db-84b0-99982929cf87",
   "metadata": {},
   "outputs": [],
   "source": [
    "df_concat = df_concat.withColumn('words',F.split(F.col('text'),' '))\n",
    "# df_concat"
   ]
  },
  {
   "cell_type": "code",
   "execution_count": 17,
   "id": "52299c32-7650-4396-a7b6-d8bb8f28d834",
   "metadata": {},
   "outputs": [],
   "source": [
    "from pyspark.ml.feature import StopWordsRemover \n",
    "\n",
    "stopwordsRemovalFeature = StopWordsRemover(inputCol=\"words\", \n",
    "                   outputCol=\"words without stop\").setStopWords(stop)"
   ]
  },
  {
   "cell_type": "code",
   "execution_count": 18,
   "id": "9477e023-a186-4f32-98f1-d3dba1c2368e",
   "metadata": {},
   "outputs": [],
   "source": [
    "from pyspark.ml import Pipeline\n",
    "\n",
    "stopWordRemovalPipeline = Pipeline(stages=[stopwordsRemovalFeature])\n",
    "pipelineFitRemoveStopWords = stopWordRemovalPipeline.fit(df_concat)"
   ]
  },
  {
   "cell_type": "code",
   "execution_count": 19,
   "id": "8e3e66d4-0ec4-4222-b7a0-f9d34162431c",
   "metadata": {},
   "outputs": [],
   "source": [
    "df_concat = pipelineFitRemoveStopWords.transform(df_concat)"
   ]
  },
  {
   "cell_type": "code",
   "execution_count": 20,
   "id": "4e0ad9f1-2d7a-401f-81d9-c80c23d6c698",
   "metadata": {},
   "outputs": [],
   "source": [
    "# df_concat"
   ]
  },
  {
   "cell_type": "code",
   "execution_count": 21,
   "id": "07f34f6a-f560-4491-8291-818317c57c67",
   "metadata": {},
   "outputs": [],
   "source": [
    "# convert array of strings to strings\n",
    "from pyspark.sql.functions import concat_ws\n",
    "\n",
    "df_concat = df_concat.withColumn(\"text1\", concat_ws(\" \", df_concat[\"words without stop\"]))\n",
    "# df_concat"
   ]
  },
  {
   "cell_type": "code",
   "execution_count": 22,
   "id": "d71dafa7-c5c3-4325-9ed6-169a0cd57036",
   "metadata": {},
   "outputs": [
    {
     "name": "stderr",
     "output_type": "stream",
     "text": [
      "                                                                                \r"
     ]
    },
    {
     "data": {
      "text/html": [
       "<table border='1'>\n",
       "<tr><th>text</th><th>subject</th><th>Flag</th><th>id</th><th>text1</th></tr>\n",
       "<tr><td>washington  reute...</td><td>politicsNews</td><td>True_News</td><td>94489283131</td><td>washington  reute...</td></tr>\n",
       "<tr><td>berlin  reuters  ...</td><td>worldnews</td><td>True_News</td><td>111669151903</td><td>berlin  reuters  ...</td></tr>\n",
       "<tr><td> reuters    three...</td><td>politicsNews</td><td>True_News</td><td>85899347725</td><td> reuters    three...</td></tr>\n",
       "<tr><td>havana  reuters  ...</td><td>politicsNews</td><td>True_News</td><td>68719478171</td><td>havana  reuters  ...</td></tr>\n",
       "<tr><td>white house couns...</td><td>News</td><td>Fake_News</td><td>1520</td><td>white house couns...</td></tr>\n",
       "<tr><td>washington  reute...</td><td>politicsNews</td><td>True_News</td><td>103079215130</td><td>washington  reute...</td></tr>\n",
       "<tr><td>one of the tenets...</td><td>News</td><td>Fake_News</td><td>17179869317</td><td>one tenets christ...</td></tr>\n",
       "<tr><td>white house press...</td><td>News</td><td>Fake_News</td><td>2410</td><td>white house press...</td></tr>\n",
       "<tr><td>washington  reute...</td><td>politicsNews</td><td>True_News</td><td>68719477551</td><td>washington  reute...</td></tr>\n",
       "<tr><td>remote controlled...</td><td>Government News</td><td>Fake_News</td><td>34359741870</td><td>remote controlled...</td></tr>\n",
       "<tr><td>the list of estab...</td><td>News</td><td>Fake_News</td><td>17179869507</td><td>list establishmen...</td></tr>\n",
       "<tr><td>rush limbaugh is ...</td><td>Government News</td><td>Fake_News</td><td>34359741915</td><td>rush limbaugh spo...</td></tr>\n",
       "<tr><td> </td><td>politics</td><td>Fake_News</td><td>25769805911</td><td> </td></tr>\n",
       "<tr><td>washington  reute...</td><td>politicsNews</td><td>True_News</td><td>85899346141</td><td>washington  reute...</td></tr>\n",
       "<tr><td>washington  reute...</td><td>politicsNews</td><td>True_News</td><td>77309411918</td><td>washington  reute...</td></tr>\n",
       "<tr><td>mogadishu  reuter...</td><td>worldnews</td><td>True_News</td><td>111669152575</td><td>mogadishu  reuter...</td></tr>\n",
       "<tr><td>this woman s rema...</td><td>left-news</td><td>Fake_News</td><td>51539609230</td><td>woman remarks exe...</td></tr>\n",
       "<tr><td>washington  reute...</td><td>politicsNews</td><td>True_News</td><td>85899346129</td><td>washington  reute...</td></tr>\n",
       "<tr><td>apparently  if yo...</td><td>News</td><td>Fake_News</td><td>1759</td><td>apparently  unqua...</td></tr>\n",
       "<tr><td>this is a great t...</td><td>politics</td><td>Fake_News</td><td>34359740381</td><td>great take foreig...</td></tr>\n",
       "</table>\n",
       "only showing top 20 rows\n"
      ],
      "text/plain": [
       "+--------------------+---------------+---------+------------+--------------------+\n",
       "|                text|        subject|     Flag|          id|               text1|\n",
       "+--------------------+---------------+---------+------------+--------------------+\n",
       "|washington  reute...|   politicsNews|True_News| 94489283131|washington  reute...|\n",
       "|berlin  reuters  ...|      worldnews|True_News|111669151903|berlin  reuters  ...|\n",
       "| reuters    three...|   politicsNews|True_News| 85899347725| reuters    three...|\n",
       "|havana  reuters  ...|   politicsNews|True_News| 68719478171|havana  reuters  ...|\n",
       "|white house couns...|           News|Fake_News|        1520|white house couns...|\n",
       "|washington  reute...|   politicsNews|True_News|103079215130|washington  reute...|\n",
       "|one of the tenets...|           News|Fake_News| 17179869317|one tenets christ...|\n",
       "|white house press...|           News|Fake_News|        2410|white house press...|\n",
       "|washington  reute...|   politicsNews|True_News| 68719477551|washington  reute...|\n",
       "|remote controlled...|Government News|Fake_News| 34359741870|remote controlled...|\n",
       "|the list of estab...|           News|Fake_News| 17179869507|list establishmen...|\n",
       "|rush limbaugh is ...|Government News|Fake_News| 34359741915|rush limbaugh spo...|\n",
       "|                    |       politics|Fake_News| 25769805911|                    |\n",
       "|washington  reute...|   politicsNews|True_News| 85899346141|washington  reute...|\n",
       "|washington  reute...|   politicsNews|True_News| 77309411918|washington  reute...|\n",
       "|mogadishu  reuter...|      worldnews|True_News|111669152575|mogadishu  reuter...|\n",
       "|this woman s rema...|      left-news|Fake_News| 51539609230|woman remarks exe...|\n",
       "|washington  reute...|   politicsNews|True_News| 85899346129|washington  reute...|\n",
       "|apparently  if yo...|           News|Fake_News|        1759|apparently  unqua...|\n",
       "|this is a great t...|       politics|Fake_News| 34359740381|great take foreig...|\n",
       "+--------------------+---------------+---------+------------+--------------------+\n",
       "only showing top 20 rows"
      ]
     },
     "execution_count": 22,
     "metadata": {},
     "output_type": "execute_result"
    }
   ],
   "source": [
    "df_concat = df_concat.drop(\"words\",\"words without stop\")\n",
    "\n",
    "df_concat"
   ]
  },
  {
   "cell_type": "code",
   "execution_count": 23,
   "id": "dff8f3e4-d720-4a7a-b532-e6e8145b71e0",
   "metadata": {},
   "outputs": [
    {
     "name": "stderr",
     "output_type": "stream",
     "text": [
      "                                                                                \r"
     ]
    },
    {
     "data": {
      "text/html": [
       "<table border='1'>\n",
       "<tr><th>subject</th><th>Flag</th><th>id</th><th>text1</th></tr>\n",
       "<tr><td>politicsNews</td><td>True_News</td><td>94489283131</td><td>washington  reute...</td></tr>\n",
       "<tr><td>worldnews</td><td>True_News</td><td>111669151903</td><td>berlin  reuters  ...</td></tr>\n",
       "<tr><td>politicsNews</td><td>True_News</td><td>85899347725</td><td> reuters    three...</td></tr>\n",
       "<tr><td>politicsNews</td><td>True_News</td><td>68719478171</td><td>havana  reuters  ...</td></tr>\n",
       "<tr><td>News</td><td>Fake_News</td><td>1520</td><td>white house couns...</td></tr>\n",
       "<tr><td>politicsNews</td><td>True_News</td><td>103079215130</td><td>washington  reute...</td></tr>\n",
       "<tr><td>News</td><td>Fake_News</td><td>17179869317</td><td>one tenets christ...</td></tr>\n",
       "<tr><td>News</td><td>Fake_News</td><td>2410</td><td>white house press...</td></tr>\n",
       "<tr><td>politicsNews</td><td>True_News</td><td>68719477551</td><td>washington  reute...</td></tr>\n",
       "<tr><td>Government News</td><td>Fake_News</td><td>34359741870</td><td>remote controlled...</td></tr>\n",
       "<tr><td>News</td><td>Fake_News</td><td>17179869507</td><td>list establishmen...</td></tr>\n",
       "<tr><td>Government News</td><td>Fake_News</td><td>34359741915</td><td>rush limbaugh spo...</td></tr>\n",
       "<tr><td>politics</td><td>Fake_News</td><td>25769805911</td><td> </td></tr>\n",
       "<tr><td>politicsNews</td><td>True_News</td><td>85899346141</td><td>washington  reute...</td></tr>\n",
       "<tr><td>politicsNews</td><td>True_News</td><td>77309411918</td><td>washington  reute...</td></tr>\n",
       "<tr><td>worldnews</td><td>True_News</td><td>111669152575</td><td>mogadishu  reuter...</td></tr>\n",
       "<tr><td>left-news</td><td>Fake_News</td><td>51539609230</td><td>woman remarks exe...</td></tr>\n",
       "<tr><td>politicsNews</td><td>True_News</td><td>85899346129</td><td>washington  reute...</td></tr>\n",
       "<tr><td>News</td><td>Fake_News</td><td>1759</td><td>apparently  unqua...</td></tr>\n",
       "<tr><td>politics</td><td>Fake_News</td><td>34359740381</td><td>great take foreig...</td></tr>\n",
       "</table>\n",
       "only showing top 20 rows\n"
      ],
      "text/plain": [
       "+---------------+---------+------------+--------------------+\n",
       "|        subject|     Flag|          id|               text1|\n",
       "+---------------+---------+------------+--------------------+\n",
       "|   politicsNews|True_News| 94489283131|washington  reute...|\n",
       "|      worldnews|True_News|111669151903|berlin  reuters  ...|\n",
       "|   politicsNews|True_News| 85899347725| reuters    three...|\n",
       "|   politicsNews|True_News| 68719478171|havana  reuters  ...|\n",
       "|           News|Fake_News|        1520|white house couns...|\n",
       "|   politicsNews|True_News|103079215130|washington  reute...|\n",
       "|           News|Fake_News| 17179869317|one tenets christ...|\n",
       "|           News|Fake_News|        2410|white house press...|\n",
       "|   politicsNews|True_News| 68719477551|washington  reute...|\n",
       "|Government News|Fake_News| 34359741870|remote controlled...|\n",
       "|           News|Fake_News| 17179869507|list establishmen...|\n",
       "|Government News|Fake_News| 34359741915|rush limbaugh spo...|\n",
       "|       politics|Fake_News| 25769805911|                    |\n",
       "|   politicsNews|True_News| 85899346141|washington  reute...|\n",
       "|   politicsNews|True_News| 77309411918|washington  reute...|\n",
       "|      worldnews|True_News|111669152575|mogadishu  reuter...|\n",
       "|      left-news|Fake_News| 51539609230|woman remarks exe...|\n",
       "|   politicsNews|True_News| 85899346129|washington  reute...|\n",
       "|           News|Fake_News|        1759|apparently  unqua...|\n",
       "|       politics|Fake_News| 34359740381|great take foreig...|\n",
       "+---------------+---------+------------+--------------------+\n",
       "only showing top 20 rows"
      ]
     },
     "execution_count": 23,
     "metadata": {},
     "output_type": "execute_result"
    }
   ],
   "source": [
    "df_concat = df_concat.drop(\"text\")\n",
    "\n",
    "df_concat"
   ]
  },
  {
   "cell_type": "code",
   "execution_count": 24,
   "id": "fdb5514e-08a1-4445-8cc4-b75470172e9c",
   "metadata": {},
   "outputs": [
    {
     "name": "stderr",
     "output_type": "stream",
     "text": [
      "                                                                                \r"
     ]
    },
    {
     "data": {
      "text/html": [
       "<table border='1'>\n",
       "<tr><th>subject</th><th>Flag</th><th>id</th><th>text</th></tr>\n",
       "<tr><td>politicsNews</td><td>True_News</td><td>94489283131</td><td>washington  reute...</td></tr>\n",
       "<tr><td>worldnews</td><td>True_News</td><td>111669151903</td><td>berlin  reuters  ...</td></tr>\n",
       "<tr><td>politicsNews</td><td>True_News</td><td>85899347725</td><td> reuters    three...</td></tr>\n",
       "<tr><td>politicsNews</td><td>True_News</td><td>68719478171</td><td>havana  reuters  ...</td></tr>\n",
       "<tr><td>News</td><td>Fake_News</td><td>1520</td><td>white house couns...</td></tr>\n",
       "<tr><td>politicsNews</td><td>True_News</td><td>103079215130</td><td>washington  reute...</td></tr>\n",
       "<tr><td>News</td><td>Fake_News</td><td>17179869317</td><td>one tenets christ...</td></tr>\n",
       "<tr><td>News</td><td>Fake_News</td><td>2410</td><td>white house press...</td></tr>\n",
       "<tr><td>politicsNews</td><td>True_News</td><td>68719477551</td><td>washington  reute...</td></tr>\n",
       "<tr><td>Government News</td><td>Fake_News</td><td>34359741870</td><td>remote controlled...</td></tr>\n",
       "<tr><td>News</td><td>Fake_News</td><td>17179869507</td><td>list establishmen...</td></tr>\n",
       "<tr><td>Government News</td><td>Fake_News</td><td>34359741915</td><td>rush limbaugh spo...</td></tr>\n",
       "<tr><td>politics</td><td>Fake_News</td><td>25769805911</td><td> </td></tr>\n",
       "<tr><td>politicsNews</td><td>True_News</td><td>85899346141</td><td>washington  reute...</td></tr>\n",
       "<tr><td>politicsNews</td><td>True_News</td><td>77309411918</td><td>washington  reute...</td></tr>\n",
       "<tr><td>worldnews</td><td>True_News</td><td>111669152575</td><td>mogadishu  reuter...</td></tr>\n",
       "<tr><td>left-news</td><td>Fake_News</td><td>51539609230</td><td>woman remarks exe...</td></tr>\n",
       "<tr><td>politicsNews</td><td>True_News</td><td>85899346129</td><td>washington  reute...</td></tr>\n",
       "<tr><td>News</td><td>Fake_News</td><td>1759</td><td>apparently  unqua...</td></tr>\n",
       "<tr><td>politics</td><td>Fake_News</td><td>34359740381</td><td>great take foreig...</td></tr>\n",
       "</table>\n",
       "only showing top 20 rows\n"
      ],
      "text/plain": [
       "+---------------+---------+------------+--------------------+\n",
       "|        subject|     Flag|          id|                text|\n",
       "+---------------+---------+------------+--------------------+\n",
       "|   politicsNews|True_News| 94489283131|washington  reute...|\n",
       "|      worldnews|True_News|111669151903|berlin  reuters  ...|\n",
       "|   politicsNews|True_News| 85899347725| reuters    three...|\n",
       "|   politicsNews|True_News| 68719478171|havana  reuters  ...|\n",
       "|           News|Fake_News|        1520|white house couns...|\n",
       "|   politicsNews|True_News|103079215130|washington  reute...|\n",
       "|           News|Fake_News| 17179869317|one tenets christ...|\n",
       "|           News|Fake_News|        2410|white house press...|\n",
       "|   politicsNews|True_News| 68719477551|washington  reute...|\n",
       "|Government News|Fake_News| 34359741870|remote controlled...|\n",
       "|           News|Fake_News| 17179869507|list establishmen...|\n",
       "|Government News|Fake_News| 34359741915|rush limbaugh spo...|\n",
       "|       politics|Fake_News| 25769805911|                    |\n",
       "|   politicsNews|True_News| 85899346141|washington  reute...|\n",
       "|   politicsNews|True_News| 77309411918|washington  reute...|\n",
       "|      worldnews|True_News|111669152575|mogadishu  reuter...|\n",
       "|      left-news|Fake_News| 51539609230|woman remarks exe...|\n",
       "|   politicsNews|True_News| 85899346129|washington  reute...|\n",
       "|           News|Fake_News|        1759|apparently  unqua...|\n",
       "|       politics|Fake_News| 34359740381|great take foreig...|\n",
       "+---------------+---------+------------+--------------------+\n",
       "only showing top 20 rows"
      ]
     },
     "execution_count": 24,
     "metadata": {},
     "output_type": "execute_result"
    }
   ],
   "source": [
    "df_concat = df_concat.withColumnRenamed(\"text1\",\"text\")\n",
    "\n",
    "df_concat"
   ]
  },
  {
   "cell_type": "code",
   "execution_count": 25,
   "id": "9cf03244-bc7f-4ef6-a3ec-7b4df5a07600",
   "metadata": {},
   "outputs": [],
   "source": [
    "# most frequent words in fake news\n",
    "\n",
    "# import pyspark.sql.functions as F\n",
    "\n",
    "# fake_words_freq_df = df_concat.withColumn(\"text\", F.split(\"text\", \" \")) \\\n",
    "#     .groupBy(\"Flag\") \\\n",
    "#     .agg(F.collect_list(F.col(\"text\")).alias(\"text\")) \\\n",
    "#     .withColumn(\"w\", F.array_distinct(F.flatten(\"text\"))) \\\n",
    "#     .withColumn(\"text\", F.array_join(F.expr(\"filter(w, x -> size(filter(text, y -> array_contains(y, x))) = size(text))\"), \" \")) \\\n",
    "#     .drop(\"w\")\n",
    "\n",
    "# fake_words_freq_df"
   ]
  },
  {
   "cell_type": "code",
   "execution_count": 26,
   "id": "a1570119-2933-4882-8287-cb3487a2e343",
   "metadata": {},
   "outputs": [],
   "source": [
    "from nltk import tokenize\n",
    "\n",
    "token_space = tokenize.WhitespaceTokenizer()\n",
    "\n",
    "def counter(text, column_text, quantity):\n",
    "    all_words = ' '.join([text for text in text[column_text]])\n",
    "    token_phrase = token_space.tokenize(all_words)\n",
    "    frequency = nltk.FreqDist(token_phrase)\n",
    "    df_frequency = pd.DataFrame({\"Word\": list(frequency.keys()),\n",
    "                                   \"Frequency\": list(frequency.values())})\n",
    "    df_frequency = df_frequency.nlargest(columns = \"Frequency\", n = quantity)\n",
    "    plt.figure(figsize=(12,8))\n",
    "    ax = sns.barplot(data = df_frequency, x = \"Word\", y = \"Frequency\", color = 'blue')\n",
    "    ax.set(ylabel = \"Count\")\n",
    "    plt.xticks(rotation='vertical')\n",
    "    plt.show()"
   ]
  },
  {
   "cell_type": "code",
   "execution_count": 27,
   "id": "95616b60-10aa-45c6-b99e-a0a6d410afc1",
   "metadata": {},
   "outputs": [],
   "source": [
    "# most frequent words in fake news\n",
    "\n",
    "df_fake = df_concat.filter(df_concat[\"Flag\"] == \"Fake_News\")\n",
    "\n",
    "df_fake_text = df_fake.select(\"text\")\n",
    "\n",
    "# df_fake_text.show()"
   ]
  },
  {
   "cell_type": "code",
   "execution_count": 28,
   "id": "a2d3d3a7-f27c-4b22-bc2c-68b352b849ae",
   "metadata": {},
   "outputs": [],
   "source": [
    "from pyspark.sql.functions import explode\n",
    "\n",
    "df_fake_text = df_fake_text\\\n",
    ".withColumn(\"words\", split(col(\"text\"), \" \"))\\\n",
    ".where(length(\"text\")>0)\n",
    "\n",
    "df_freq_fake = df_fake_text\\\n",
    ".select(explode(col(\"words\")).alias(\"word\"))\\\n",
    ".groupBy(\"word\").count()\\\n",
    "\n",
    "# df_freq_fake.orderBy(col(\"count\").desc()).show()"
   ]
  },
  {
   "cell_type": "code",
   "execution_count": 29,
   "id": "aa43bcb0-0e44-4533-9908-5e5499720fd1",
   "metadata": {},
   "outputs": [],
   "source": [
    "# most frequent words in true news\n",
    "\n",
    "df_true = df_concat.filter(df_concat[\"Flag\"] == \"True_News\")\n",
    "\n",
    "df_true_text = df_true.select(\"text\")\n",
    "\n",
    "# df_true_text.show()"
   ]
  },
  {
   "cell_type": "code",
   "execution_count": 30,
   "id": "c1d301e6-6901-4f6d-81bf-43e9d33dbc6a",
   "metadata": {},
   "outputs": [],
   "source": [
    "df_true_text = df_true_text\\\n",
    ".withColumn(\"line\", regexp_replace(lower(col(\"text\")), r\"[^0-9a-z]\", \" \"))\\\n",
    ".withColumn(\"words\", split(col(\"line\"), \" \"))\\\n",
    ".where(length(\"line\")>0)\n",
    "\n",
    "# df_true_text"
   ]
  },
  {
   "cell_type": "code",
   "execution_count": 31,
   "id": "c8540eb5-1966-4b6f-a4f4-adf4f88c577a",
   "metadata": {},
   "outputs": [],
   "source": [
    "from pyspark.sql.functions import explode\n",
    "\n",
    "df_fake_text = df_fake_text\\\n",
    ".withColumn(\"words\", split(col(\"text\"), \" \"))\\\n",
    ".where(length(\"text\")>0)\n",
    "\n",
    "df_freq_fake = df_fake_text\\\n",
    ".select(explode(col(\"words\")).alias(\"word\"))\\\n",
    ".groupBy(\"word\").count()\\\n",
    "\n",
    "# df_freq_fake.orderBy(col(\"count\").desc()).show()"
   ]
  },
  {
   "cell_type": "markdown",
   "id": "bf9fa185-f6ab-471b-a15a-26d1e4583e1e",
   "metadata": {},
   "source": [
    "#### Logistic Regression"
   ]
  },
  {
   "cell_type": "code",
   "execution_count": 32,
   "id": "ff29d0f7-4f90-4569-838f-35068d8412f0",
   "metadata": {},
   "outputs": [],
   "source": [
    "df = df_concat\n",
    "\n",
    "# df"
   ]
  },
  {
   "cell_type": "code",
   "execution_count": 33,
   "id": "a6a19b7a-6a6a-42ec-a5d5-62f8c4f54b67",
   "metadata": {},
   "outputs": [],
   "source": [
    "from pyspark.sql.functions import when\n",
    "\n",
    "df3 = df.withColumn(\"Flag\", when(df.Flag == \"True_News\",1) \\\n",
    "      .when(df.Flag == \"Fake_News\",0) \\\n",
    "      .otherwise(df.Flag))\n",
    "\n",
    "# df3"
   ]
  },
  {
   "cell_type": "code",
   "execution_count": 34,
   "id": "328f26be-4bc7-4849-816d-c396d00d39b5",
   "metadata": {},
   "outputs": [
    {
     "name": "stdout",
     "output_type": "stream",
     "text": [
      "root\n",
      " |-- subject: string (nullable = true)\n",
      " |-- Flag: integer (nullable = true)\n",
      " |-- id: long (nullable = false)\n",
      " |-- text: string (nullable = false)\n",
      "\n"
     ]
    },
    {
     "name": "stderr",
     "output_type": "stream",
     "text": [
      "                                                                                \r"
     ]
    },
    {
     "data": {
      "text/plain": [
       "44898"
      ]
     },
     "execution_count": 34,
     "metadata": {},
     "output_type": "execute_result"
    }
   ],
   "source": [
    "df3 = df3.withColumn(\"Flag\",col(\"Flag\").cast(\"int\"))\n",
    "df3.printSchema()\n",
    "df3.count()"
   ]
  },
  {
   "cell_type": "code",
   "execution_count": 35,
   "id": "a444b1c5-06cf-45b5-966c-cddee6608214",
   "metadata": {},
   "outputs": [
    {
     "name": "stderr",
     "output_type": "stream",
     "text": [
      "                                                                                \r"
     ]
    }
   ],
   "source": [
    "# x values and Y values\n",
    "\n",
    "x = df3.select('text').rdd.flatMap(lambda x: x).collect()\n",
    "y = df3.select('Flag').rdd.flatMap(lambda x: x).collect()"
   ]
  },
  {
   "cell_type": "code",
   "execution_count": 36,
   "id": "4d6fc825-65cc-41c5-a32d-79df0f147b2e",
   "metadata": {},
   "outputs": [],
   "source": [
    "from sklearn.model_selection import train_test_split\n",
    "from sklearn.metrics import classification_report\n",
    "\n",
    "x_train, x_test, y_train, y_test = train_test_split(x,y,test_size=.25)"
   ]
  },
  {
   "cell_type": "code",
   "execution_count": 37,
   "id": "7c021327-26a8-4a64-aaa6-8dcb234d3f9b",
   "metadata": {},
   "outputs": [
    {
     "data": {
      "text/plain": [
       "'american translation   baby nothin  wrong  good boy loved everyone   never mind brother wanted man world   pretty much everyone strapped suicide vest least stressful day right  seem like nice family ibrahim abdeslam  31  detonated suicide vest outside cafe comptoir voltaire  close scenes deadly bataclan concert theatre hall atrocities  friday night kill anyone brother mohamed  council worker  arrested brussels saturday third sibling  salah  one world wanted men becoming subject international man hunt abdeslam salah currently wanted man worldbut today abdeslam family defended sick actions said  surprised  blew  even though spent time war torn syria mother suggested suicide jacket may gone accident said could carried attack  stressed  speaking outside family home molenebeek  told reporters sure planned kill anyone said   plan  sure  fact suicide belt exploded without killing anyone says lot  even saw two days attacks  signs plans anything violent family admit ibrahim spent  long time  syria added   really surprised salah involved  ibrahim different  see radicalised  least part  much ever thought would commit atrocity like  another family member said would wanted become suicide bomber  may explosives went prematurely accident  may stress   added ibrahim  seriously injured innocent bystander blew  rented seat leon used attacks car used terrorists murdered diners outside casa nostra pizza restaurant la belle equipe cafe later found abandoned 20 minutes away montreal cache weapons inside '"
      ]
     },
     "execution_count": 37,
     "metadata": {},
     "output_type": "execute_result"
    }
   ],
   "source": [
    "x_train[0]"
   ]
  },
  {
   "cell_type": "code",
   "execution_count": 38,
   "id": "3c19d2aa-afaf-462b-87de-e902312ad233",
   "metadata": {},
   "outputs": [
    {
     "data": {
      "text/plain": [
       "0"
      ]
     },
     "execution_count": 38,
     "metadata": {},
     "output_type": "execute_result"
    }
   ],
   "source": [
    "y_train[0]"
   ]
  },
  {
   "cell_type": "code",
   "execution_count": 39,
   "id": "f2ac6478-8538-4f5e-b58b-305180c40e2a",
   "metadata": {},
   "outputs": [],
   "source": [
    "#vectorize the text\n",
    "\n",
    "from sklearn.feature_extraction.text import TfidfVectorizer"
   ]
  },
  {
   "cell_type": "code",
   "execution_count": 40,
   "id": "ec160a67-d003-45a2-ba86-5c44d8878c2e",
   "metadata": {},
   "outputs": [],
   "source": [
    "vectorization = TfidfVectorizer()\n",
    "xv_train = vectorization.fit_transform(x_train)\n",
    "xv_test = vectorization.transform(x_test)"
   ]
  },
  {
   "cell_type": "code",
   "execution_count": 41,
   "id": "c8175c86-f483-4606-8d33-d59c4e8f4882",
   "metadata": {},
   "outputs": [
    {
     "data": {
      "text/plain": [
       "<33673x104877 sparse matrix of type '<class 'numpy.float64'>'\n",
       "\twith 5477389 stored elements in Compressed Sparse Row format>"
      ]
     },
     "execution_count": 41,
     "metadata": {},
     "output_type": "execute_result"
    }
   ],
   "source": [
    "xv_train"
   ]
  },
  {
   "cell_type": "code",
   "execution_count": 42,
   "id": "d20e7fa8-fa28-4237-91b9-c69c7bf4a279",
   "metadata": {},
   "outputs": [
    {
     "data": {
      "text/plain": [
       "array([0., 0., 0., ..., 0., 0., 0.])"
      ]
     },
     "execution_count": 42,
     "metadata": {},
     "output_type": "execute_result"
    }
   ],
   "source": [
    "xv_train.toarray()[0]"
   ]
  },
  {
   "cell_type": "code",
   "execution_count": 43,
   "id": "0d9fc314-def7-4d88-92fe-942d012d7c58",
   "metadata": {},
   "outputs": [],
   "source": [
    "from sklearn.linear_model import LogisticRegression"
   ]
  },
  {
   "cell_type": "code",
   "execution_count": 44,
   "id": "caf0a8a7-48a6-49e1-ba86-00042022bb8d",
   "metadata": {},
   "outputs": [
    {
     "data": {
      "text/plain": [
       "LogisticRegression()"
      ]
     },
     "execution_count": 44,
     "metadata": {},
     "output_type": "execute_result"
    }
   ],
   "source": [
    "LR = LogisticRegression()\n",
    "LR.fit(xv_train, y_train)"
   ]
  },
  {
   "cell_type": "code",
   "execution_count": 45,
   "id": "fe9ee1b1-b16a-42fa-9226-8c9c4338732b",
   "metadata": {},
   "outputs": [
    {
     "data": {
      "text/plain": [
       "0.9879732739420936"
      ]
     },
     "execution_count": 45,
     "metadata": {},
     "output_type": "execute_result"
    }
   ],
   "source": [
    "LR.score(xv_test, y_test)"
   ]
  },
  {
   "cell_type": "code",
   "execution_count": 55,
   "id": "2a5ae986-e771-46de-a6cb-96020b558fed",
   "metadata": {},
   "outputs": [
    {
     "data": {
      "text/plain": [
       "array([0, 0, 1, ..., 0, 0, 0])"
      ]
     },
     "execution_count": 55,
     "metadata": {},
     "output_type": "execute_result"
    }
   ],
   "source": [
    "pred_LR = LR.predict(xv_test)\n",
    "pred_LR"
   ]
  },
  {
   "cell_type": "code",
   "execution_count": 47,
   "id": "8ff2e26c-ec46-4e5a-b9e5-452d3c04ce04",
   "metadata": {},
   "outputs": [
    {
     "name": "stdout",
     "output_type": "stream",
     "text": [
      "              precision    recall  f1-score   support\n",
      "\n",
      "           0       0.99      0.99      0.99      5810\n",
      "           1       0.99      0.99      0.99      5415\n",
      "\n",
      "    accuracy                           0.99     11225\n",
      "   macro avg       0.99      0.99      0.99     11225\n",
      "weighted avg       0.99      0.99      0.99     11225\n",
      "\n"
     ]
    }
   ],
   "source": [
    "print(classification_report(y_test, pred_LR))"
   ]
  },
  {
   "cell_type": "code",
   "execution_count": 48,
   "id": "8108ea8b-4192-40b7-8113-6082b1e8d982",
   "metadata": {},
   "outputs": [],
   "source": [
    "import re, string\n",
    "def wordopt(text):\n",
    "    text = text.lower()\n",
    "    text = re.sub('\\[.*?\\]', '', text)\n",
    "    text = re.sub(\"\\\\W\",\" \",text) \n",
    "    text = re.sub('https?://\\S+|www\\.\\S+', '', text)\n",
    "    text = re.sub('<.*?>+', '', text)\n",
    "    text = re.sub('[%s]' % re.escape(string.punctuation), '', text)\n",
    "    text = re.sub('\\n', '', text)\n",
    "    text = re.sub('\\w*\\d\\w*', '', text)    \n",
    "    return text"
   ]
  },
  {
   "cell_type": "code",
   "execution_count": 51,
   "id": "05d34421-4a9f-44a3-af73-2d6361e2298e",
   "metadata": {},
   "outputs": [],
   "source": [
    "import pandas as pd\n",
    "def output_lable(n):\n",
    "    if n == 0:\n",
    "        return \"Fake News\"\n",
    "    elif n == 1:\n",
    "        return \"Not A Fake News\"\n",
    "    \n",
    "def manual_testing(news):\n",
    "    testing_news = {\"text\":[news]}\n",
    "    new_def_test = pd.DataFrame(testing_news)\n",
    "    new_def_test[\"text\"] = new_def_test[\"text\"].apply(wordopt) \n",
    "    new_x_test = new_def_test[\"text\"]\n",
    "    new_xv_test = vectorization.transform(new_x_test)\n",
    "    pred_LR = LR.predict(new_xv_test)\n",
    "    print(\"*****\")\n",
    "    print(new_xv_test)\n",
    "    print(type(pred_LR[0]))\n",
    "    print(type(pred_LR[0]))\n",
    "    # pred_DT = DT.predict(new_xv_test)\n",
    "    # pred_GBC = GBC.predict(new_xv_test)\n",
    "    # pred_RFC = RFC.predict(new_xv_test)\n",
    "\n",
    "    return print(\"\\n\\nLR Prediction: {} \\n\".format(output_lable(pred_LR[0])))"
   ]
  },
  {
   "cell_type": "code",
   "execution_count": 52,
   "id": "0ddc1a59-579c-407f-af0c-2b68161de342",
   "metadata": {},
   "outputs": [
    {
     "name": "stdin",
     "output_type": "stream",
     "text": [
      " The following statements were posted to the verified Twitter accounts of U.S. President Donald Trump, @realDonaldTrump and @POTUS.  The opinions expressed are his own. Reuters has not edited the statements or confirmed their accuracy.  @realDonaldTrump : - Vanity Fair, which looks like it is on its last legs, is bending over backwards in apologizing for the minor hit they took at Crooked H. Anna Wintour, who was all set to be Amb to Court of St James’s & a big fundraiser for CH, is beside herself in grief & begging for forgiveness! [1024 EST] -- Source link: (bit.ly/2jBh4LU) (bit.ly/2jpEXYR)\n"
     ]
    },
    {
     "name": "stdout",
     "output_type": "stream",
     "text": [
      "*****\n",
      "  (0, 101949)\t0.24159989211014318\n",
      "  (0, 99051)\t0.14461019564675218\n",
      "  (0, 98713)\t0.17563313359496768\n",
      "  (0, 96071)\t0.06829499578042293\n",
      "  (0, 95362)\t0.04120098320105787\n",
      "  (0, 94218)\t0.07121244319202534\n",
      "  (0, 88770)\t0.21077403635538\n",
      "  (0, 88462)\t0.127034988721595\n",
      "  (0, 87622)\t0.08928785749971403\n",
      "  (0, 84265)\t0.07924792240558552\n",
      "  (0, 79484)\t0.041679050939101715\n",
      "  (0, 77208)\t0.21313728545600577\n",
      "  (0, 74039)\t0.03974160789705344\n",
      "  (0, 73524)\t0.1300508614184592\n",
      "  (0, 73388)\t0.0985523304355116\n",
      "  (0, 68401)\t0.1285780017253633\n",
      "  (0, 61588)\t0.13800930668429917\n",
      "  (0, 57451)\t0.3163725623600713\n",
      "  (0, 56806)\t0.10621887336705747\n",
      "  (0, 56165)\t0.12336171852581311\n",
      "  (0, 56005)\t0.05330697592223333\n",
      "  (0, 55314)\t0.15501949080015626\n",
      "  (0, 54677)\t0.051865006558304144\n",
      "  (0, 49449)\t0.09636624553816153\n",
      "  (0, 44362)\t0.09477692409278825\n",
      "  (0, 41142)\t0.1689040626059586\n",
      "  (0, 38261)\t0.14793124762564905\n",
      "  (0, 37259)\t0.17940803083507834\n",
      "  (0, 37025)\t0.08033355805935756\n",
      "  (0, 34963)\t0.10721585310873813\n",
      "  (0, 34532)\t0.10180905072073478\n",
      "  (0, 31727)\t0.15251665799699285\n",
      "  (0, 30080)\t0.045625552309203746\n",
      "  (0, 25233)\t0.13658848289001752\n",
      "  (0, 24702)\t0.0755125505215566\n",
      "  (0, 23472)\t0.09524004802514546\n",
      "  (0, 20188)\t0.1908111107921285\n",
      "  (0, 15165)\t0.21371324271363748\n",
      "  (0, 14843)\t0.08190119366159052\n",
      "  (0, 14550)\t0.16249931562182024\n",
      "  (0, 14246)\t0.1908111107921285\n",
      "  (0, 13981)\t0.156202020307282\n",
      "  (0, 12542)\t0.16587436670619624\n",
      "  (0, 10309)\t0.16561695162605447\n",
      "  (0, 9874)\t0.17271221071099357\n",
      "  (0, 9229)\t0.23184112522137174\n",
      "  (0, 7106)\t0.14581659343579872\n",
      "  (0, 7084)\t0.11302016092174196\n",
      "<class 'numpy.int64'>\n",
      "<class 'numpy.int64'>\n",
      "\n",
      "\n",
      "LR Prediction: Not A Fake News \n",
      "\n"
     ]
    }
   ],
   "source": [
    "news = str(input())\n",
    "manual_testing(news)"
   ]
  },
  {
   "cell_type": "code",
   "execution_count": null,
   "id": "b03e4596-4fe6-46b9-9f21-3891870ba01c",
   "metadata": {},
   "outputs": [],
   "source": []
  }
 ],
 "metadata": {
  "kernelspec": {
   "display_name": "Python 3 (ipykernel)",
   "language": "python",
   "name": "python3"
  },
  "language_info": {
   "codemirror_mode": {
    "name": "ipython",
    "version": 3
   },
   "file_extension": ".py",
   "mimetype": "text/x-python",
   "name": "python",
   "nbconvert_exporter": "python",
   "pygments_lexer": "ipython3",
   "version": "3.9.12"
  }
 },
 "nbformat": 4,
 "nbformat_minor": 5
}
