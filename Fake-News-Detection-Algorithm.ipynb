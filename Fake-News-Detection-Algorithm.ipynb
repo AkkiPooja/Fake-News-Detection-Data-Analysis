{
 "cells": [
  {
   "cell_type": "code",
   "execution_count": 1,
   "id": "12db00c9",
   "metadata": {},
   "outputs": [
    {
     "name": "stderr",
     "output_type": "stream",
     "text": [
      "Setting default log level to \"WARN\".\n",
      "To adjust logging level use sc.setLogLevel(newLevel). For SparkR, use setLogLevel(newLevel).\n"
     ]
    },
    {
     "name": "stdout",
     "output_type": "stream",
     "text": [
      "22/11/29 16:17:04 WARN NativeCodeLoader: Unable to load native-hadoop library for your platform... using builtin-java classes where applicable\n",
      "22/11/29 16:17:05 WARN Utils: Service 'SparkUI' could not bind on port 4040. Attempting port 4041.\n"
     ]
    },
    {
     "name": "stderr",
     "output_type": "stream",
     "text": [
      "/Users/poojaakki/opt/anaconda3/lib/python3.9/site-packages/pyspark/sql/context.py:157: FutureWarning: Deprecated in 3.0.0. Use SparkSession.builder.getOrCreate() instead.\n",
      "  warnings.warn(\n"
     ]
    }
   ],
   "source": [
    "import os\n",
    "import pyspark\n",
    "conf = pyspark.SparkConf()\n",
    "# conf.set('spark.ui.proxyBase'\n",
    "# , '/user/' + os.environ['JUPYTERHUB_USER'] + '/proxy/4041')\n",
    "conf.set('spark.sql.repl.eagerEval.enabled', True)\n",
    "conf.set('spark.driver.memory','4g')\n",
    "sc = pyspark.SparkContext(conf=conf)\n",
    "spark = pyspark.SQLContext.getOrCreate(sc)"
   ]
  },
  {
   "cell_type": "code",
   "execution_count": 2,
   "id": "739eae2e",
   "metadata": {},
   "outputs": [
    {
     "name": "stdout",
     "output_type": "stream",
     "text": [
      "+--------------------+--------------------+-------+-----------------+\n",
      "|               title|                text|subject|             date|\n",
      "+--------------------+--------------------+-------+-----------------+\n",
      "| Donald Trump Sen...|Donald Trump just...|   News|December 31, 2017|\n",
      "| Drunk Bragging T...|House Intelligenc...|   News|December 31, 2017|\n",
      "| Sheriff David Cl...|On Friday, it was...|   News|December 30, 2017|\n",
      "| Trump Is So Obse...|On Christmas day,...|   News|December 29, 2017|\n",
      "| Pope Francis Jus...|Pope Francis used...|   News|December 25, 2017|\n",
      "| Racist Alabama C...|The number of cas...|   News|December 25, 2017|\n",
      "| Fresh Off The Go...|Donald Trump spen...|   News|December 23, 2017|\n",
      "| Trump Said Some ...|In the wake of ye...|   News|December 23, 2017|\n",
      "| Former CIA Direc...|Many people have ...|   News|December 22, 2017|\n",
      "| WATCH: Brand-New...|Just when you mig...|   News|December 21, 2017|\n",
      "| Papa John’s Foun...|A centerpiece of ...|   News|December 21, 2017|\n",
      "| WATCH: Paul Ryan...|Republicans are w...|   News|December 21, 2017|\n",
      "| Bad News For Tru...|Republicans have ...|   News|December 21, 2017|\n",
      "| WATCH: Lindsey G...|The media has bee...|   News|December 20, 2017|\n",
      "| Heiress To Disne...|Abigail Disney is...|   News|December 20, 2017|\n",
      "| Tone Deaf Trump:...|Donald Trump just...|   News|December 20, 2017|\n",
      "| The Internet Bru...|A new animatronic...|   News|December 19, 2017|\n",
      "| Mueller Spokesma...|Trump supporters ...|   News|December 17, 2017|\n",
      "| SNL Hilariously ...|Right now, the wh...|   News|December 17, 2017|\n",
      "| Republican Senat...|Senate Majority W...|   News|December 16, 2017|\n",
      "+--------------------+--------------------+-------+-----------------+\n",
      "only showing top 20 rows\n",
      "\n"
     ]
    }
   ],
   "source": [
    "# Read the csv files from datasets\n",
    "\n",
    "#Fake news\n",
    "df_fake = spark.read.option(\"header\", \"true\").csv(\"/Users/poojaakki/Desktop/projects/Fake-News-Detection-Data-Analysis/datasets/News _dataset/Fake.csv\")\n",
    "df_fake.show()"
   ]
  },
  {
   "cell_type": "code",
   "execution_count": 3,
   "id": "6fdf7c39",
   "metadata": {},
   "outputs": [
    {
     "name": "stdout",
     "output_type": "stream",
     "text": [
      "+--------------------+--------------------+--------------------+------------------+\n",
      "|               title|                text|             subject|              date|\n",
      "+--------------------+--------------------+--------------------+------------------+\n",
      "|As U.S. budget fi...|WASHINGTON (Reute...|        politicsNews|December 31, 2017 |\n",
      "|U.S. military to ...|WASHINGTON (Reute...|        politicsNews|December 29, 2017 |\n",
      "|Senior U.S. Repub...|WASHINGTON (Reute...|        politicsNews|December 31, 2017 |\n",
      "|FBI Russia probe ...|WASHINGTON (Reute...|        politicsNews|December 30, 2017 |\n",
      "|Trump wants Posta...|SEATTLE/WASHINGTO...|        politicsNews|December 29, 2017 |\n",
      "|White House, Cong...|WEST PALM BEACH, ...|        politicsNews|December 29, 2017 |\n",
      "|Trump says Russia...|WEST PALM BEACH, ...|        politicsNews|December 29, 2017 |\n",
      "|Factbox: Trump on...|The following sta...|        politicsNews|December 29, 2017 |\n",
      "|Trump on Twitter ...|The following sta...|        politicsNews|December 29, 2017 |\n",
      "|Alabama official ...|WASHINGTON (Reute...|        politicsNews|December 28, 2017 |\n",
      "|Jones certified U...|(Reuters) - Alaba...|        politicsNews|December 28, 2017 |\n",
      "|New York governor...|NEW YORK/WASHINGT...|        politicsNews|December 28, 2017 |\n",
      "|Factbox: Trump on...|The following sta...|        politicsNews|December 28, 2017 |\n",
      "|Trump on Twitter ...|\"The following st...| Associates Up 83...|      politicsNews|\n",
      "|Man says he deliv...| (In Dec. 25 stor...|        politicsNews|December 25, 2017 |\n",
      "|Virginia official...|(Reuters) - A lot...|        politicsNews|December 27, 2017 |\n",
      "|U.S. lawmakers qu...|WASHINGTON (Reute...|        politicsNews|December 27, 2017 |\n",
      "|Trump on Twitter ...|The following sta...|        politicsNews|December 26, 2017 |\n",
      "|U.S. appeals cour...|(Reuters) - A U.S...|        politicsNews|December 26, 2017 |\n",
      "|Treasury Secretar...|(Reuters) - A gif...|        politicsNews|December 24, 2017 |\n",
      "+--------------------+--------------------+--------------------+------------------+\n",
      "only showing top 20 rows\n",
      "\n"
     ]
    }
   ],
   "source": [
    "#Truth news\n",
    "df_true = spark.read.option(\"header\", \"true\").csv(\"/Users/poojaakki/Desktop/projects/Fake-News-Detection-Data-Analysis/datasets/News _dataset/True.csv\")\n",
    "df_true.show()"
   ]
  },
  {
   "cell_type": "code",
   "execution_count": 4,
   "id": "9eaef2c6",
   "metadata": {},
   "outputs": [
    {
     "name": "stdout",
     "output_type": "stream",
     "text": [
      "(23489, 4)\n",
      "(21417, 4)\n"
     ]
    }
   ],
   "source": [
    "# count of data and the. umber of coloumns\n",
    "print((df_fake.count(), len(df_fake.columns)))\n",
    "print((df_true.count(), len(df_true.columns)))"
   ]
  },
  {
   "cell_type": "code",
   "execution_count": 5,
   "id": "58c30187",
   "metadata": {},
   "outputs": [
    {
     "name": "stdout",
     "output_type": "stream",
     "text": [
      "+--------------------+--------------------+-------+-----------------+---------+\n",
      "|               title|                text|subject|             date|     Flag|\n",
      "+--------------------+--------------------+-------+-----------------+---------+\n",
      "| Donald Trump Sen...|Donald Trump just...|   News|December 31, 2017|Fake_News|\n",
      "| Drunk Bragging T...|House Intelligenc...|   News|December 31, 2017|Fake_News|\n",
      "| Sheriff David Cl...|On Friday, it was...|   News|December 30, 2017|Fake_News|\n",
      "| Trump Is So Obse...|On Christmas day,...|   News|December 29, 2017|Fake_News|\n",
      "| Pope Francis Jus...|Pope Francis used...|   News|December 25, 2017|Fake_News|\n",
      "| Racist Alabama C...|The number of cas...|   News|December 25, 2017|Fake_News|\n",
      "| Fresh Off The Go...|Donald Trump spen...|   News|December 23, 2017|Fake_News|\n",
      "| Trump Said Some ...|In the wake of ye...|   News|December 23, 2017|Fake_News|\n",
      "| Former CIA Direc...|Many people have ...|   News|December 22, 2017|Fake_News|\n",
      "| WATCH: Brand-New...|Just when you mig...|   News|December 21, 2017|Fake_News|\n",
      "| Papa John’s Foun...|A centerpiece of ...|   News|December 21, 2017|Fake_News|\n",
      "| WATCH: Paul Ryan...|Republicans are w...|   News|December 21, 2017|Fake_News|\n",
      "| Bad News For Tru...|Republicans have ...|   News|December 21, 2017|Fake_News|\n",
      "| WATCH: Lindsey G...|The media has bee...|   News|December 20, 2017|Fake_News|\n",
      "| Heiress To Disne...|Abigail Disney is...|   News|December 20, 2017|Fake_News|\n",
      "| Tone Deaf Trump:...|Donald Trump just...|   News|December 20, 2017|Fake_News|\n",
      "| The Internet Bru...|A new animatronic...|   News|December 19, 2017|Fake_News|\n",
      "| Mueller Spokesma...|Trump supporters ...|   News|December 17, 2017|Fake_News|\n",
      "| SNL Hilariously ...|Right now, the wh...|   News|December 17, 2017|Fake_News|\n",
      "| Republican Senat...|Senate Majority W...|   News|December 16, 2017|Fake_News|\n",
      "+--------------------+--------------------+-------+-----------------+---------+\n",
      "only showing top 20 rows\n",
      "\n"
     ]
    }
   ],
   "source": [
    "#Add the column for fake news and also a column for true news\n",
    "from pyspark.sql.functions import lit\n",
    "\n",
    "df_fake = df_fake.withColumn(\"Flag\", lit(\"Fake_News\"))\n",
    "df_fake.show()"
   ]
  },
  {
   "cell_type": "code",
   "execution_count": 6,
   "id": "b48d8968",
   "metadata": {},
   "outputs": [
    {
     "name": "stdout",
     "output_type": "stream",
     "text": [
      "+--------------------+--------------------+--------------------+------------------+---------+\n",
      "|               title|                text|             subject|              date|     Flag|\n",
      "+--------------------+--------------------+--------------------+------------------+---------+\n",
      "|As U.S. budget fi...|WASHINGTON (Reute...|        politicsNews|December 31, 2017 |True_News|\n",
      "|U.S. military to ...|WASHINGTON (Reute...|        politicsNews|December 29, 2017 |True_News|\n",
      "|Senior U.S. Repub...|WASHINGTON (Reute...|        politicsNews|December 31, 2017 |True_News|\n",
      "|FBI Russia probe ...|WASHINGTON (Reute...|        politicsNews|December 30, 2017 |True_News|\n",
      "|Trump wants Posta...|SEATTLE/WASHINGTO...|        politicsNews|December 29, 2017 |True_News|\n",
      "|White House, Cong...|WEST PALM BEACH, ...|        politicsNews|December 29, 2017 |True_News|\n",
      "|Trump says Russia...|WEST PALM BEACH, ...|        politicsNews|December 29, 2017 |True_News|\n",
      "|Factbox: Trump on...|The following sta...|        politicsNews|December 29, 2017 |True_News|\n",
      "|Trump on Twitter ...|The following sta...|        politicsNews|December 29, 2017 |True_News|\n",
      "|Alabama official ...|WASHINGTON (Reute...|        politicsNews|December 28, 2017 |True_News|\n",
      "|Jones certified U...|(Reuters) - Alaba...|        politicsNews|December 28, 2017 |True_News|\n",
      "|New York governor...|NEW YORK/WASHINGT...|        politicsNews|December 28, 2017 |True_News|\n",
      "|Factbox: Trump on...|The following sta...|        politicsNews|December 28, 2017 |True_News|\n",
      "|Trump on Twitter ...|\"The following st...| Associates Up 83...|      politicsNews|True_News|\n",
      "|Man says he deliv...| (In Dec. 25 stor...|        politicsNews|December 25, 2017 |True_News|\n",
      "|Virginia official...|(Reuters) - A lot...|        politicsNews|December 27, 2017 |True_News|\n",
      "|U.S. lawmakers qu...|WASHINGTON (Reute...|        politicsNews|December 27, 2017 |True_News|\n",
      "|Trump on Twitter ...|The following sta...|        politicsNews|December 26, 2017 |True_News|\n",
      "|U.S. appeals cour...|(Reuters) - A U.S...|        politicsNews|December 26, 2017 |True_News|\n",
      "|Treasury Secretar...|(Reuters) - A gif...|        politicsNews|December 24, 2017 |True_News|\n",
      "+--------------------+--------------------+--------------------+------------------+---------+\n",
      "only showing top 20 rows\n",
      "\n"
     ]
    }
   ],
   "source": [
    "df_true = df_true.withColumn(\"Flag\", lit(\"True_News\"))\n",
    "df_true.show()"
   ]
  },
  {
   "cell_type": "code",
   "execution_count": 7,
   "id": "4783d4fb",
   "metadata": {},
   "outputs": [
    {
     "name": "stdout",
     "output_type": "stream",
     "text": [
      "+--------------------+--------------------+-------+-----------------+---------+\n",
      "|               title|                text|subject|             date|     Flag|\n",
      "+--------------------+--------------------+-------+-----------------+---------+\n",
      "| Donald Trump Sen...|Donald Trump just...|   News|December 31, 2017|Fake_News|\n",
      "| Drunk Bragging T...|House Intelligenc...|   News|December 31, 2017|Fake_News|\n",
      "| Sheriff David Cl...|On Friday, it was...|   News|December 30, 2017|Fake_News|\n",
      "| Trump Is So Obse...|On Christmas day,...|   News|December 29, 2017|Fake_News|\n",
      "| Pope Francis Jus...|Pope Francis used...|   News|December 25, 2017|Fake_News|\n",
      "| Racist Alabama C...|The number of cas...|   News|December 25, 2017|Fake_News|\n",
      "| Fresh Off The Go...|Donald Trump spen...|   News|December 23, 2017|Fake_News|\n",
      "| Trump Said Some ...|In the wake of ye...|   News|December 23, 2017|Fake_News|\n",
      "| Former CIA Direc...|Many people have ...|   News|December 22, 2017|Fake_News|\n",
      "| WATCH: Brand-New...|Just when you mig...|   News|December 21, 2017|Fake_News|\n",
      "| Papa John’s Foun...|A centerpiece of ...|   News|December 21, 2017|Fake_News|\n",
      "| WATCH: Paul Ryan...|Republicans are w...|   News|December 21, 2017|Fake_News|\n",
      "| Bad News For Tru...|Republicans have ...|   News|December 21, 2017|Fake_News|\n",
      "| WATCH: Lindsey G...|The media has bee...|   News|December 20, 2017|Fake_News|\n",
      "| Heiress To Disne...|Abigail Disney is...|   News|December 20, 2017|Fake_News|\n",
      "| Tone Deaf Trump:...|Donald Trump just...|   News|December 20, 2017|Fake_News|\n",
      "| The Internet Bru...|A new animatronic...|   News|December 19, 2017|Fake_News|\n",
      "| Mueller Spokesma...|Trump supporters ...|   News|December 17, 2017|Fake_News|\n",
      "| SNL Hilariously ...|Right now, the wh...|   News|December 17, 2017|Fake_News|\n",
      "| Republican Senat...|Senate Majority W...|   News|December 16, 2017|Fake_News|\n",
      "+--------------------+--------------------+-------+-----------------+---------+\n",
      "only showing top 20 rows\n",
      "\n"
     ]
    }
   ],
   "source": [
    "#concat the two tables\n",
    "df_concat = df_fake.unionByName(df_true, allowMissingColumns=True)\n",
    "df_concat.show()"
   ]
  },
  {
   "cell_type": "code",
   "execution_count": 8,
   "id": "2ca7ec2c",
   "metadata": {},
   "outputs": [
    {
     "name": "stdout",
     "output_type": "stream",
     "text": [
      "+--------------------+--------------------+-------+-----------------+---------+---+\n",
      "|               title|                text|subject|             date|     Flag| id|\n",
      "+--------------------+--------------------+-------+-----------------+---------+---+\n",
      "| Donald Trump Sen...|Donald Trump just...|   News|December 31, 2017|Fake_News|  0|\n",
      "| Drunk Bragging T...|House Intelligenc...|   News|December 31, 2017|Fake_News|  1|\n",
      "| Sheriff David Cl...|On Friday, it was...|   News|December 30, 2017|Fake_News|  2|\n",
      "| Trump Is So Obse...|On Christmas day,...|   News|December 29, 2017|Fake_News|  3|\n",
      "| Pope Francis Jus...|Pope Francis used...|   News|December 25, 2017|Fake_News|  4|\n",
      "| Racist Alabama C...|The number of cas...|   News|December 25, 2017|Fake_News|  5|\n",
      "| Fresh Off The Go...|Donald Trump spen...|   News|December 23, 2017|Fake_News|  6|\n",
      "| Trump Said Some ...|In the wake of ye...|   News|December 23, 2017|Fake_News|  7|\n",
      "| Former CIA Direc...|Many people have ...|   News|December 22, 2017|Fake_News|  8|\n",
      "| WATCH: Brand-New...|Just when you mig...|   News|December 21, 2017|Fake_News|  9|\n",
      "| Papa John’s Foun...|A centerpiece of ...|   News|December 21, 2017|Fake_News| 10|\n",
      "| WATCH: Paul Ryan...|Republicans are w...|   News|December 21, 2017|Fake_News| 11|\n",
      "| Bad News For Tru...|Republicans have ...|   News|December 21, 2017|Fake_News| 12|\n",
      "| WATCH: Lindsey G...|The media has bee...|   News|December 20, 2017|Fake_News| 13|\n",
      "| Heiress To Disne...|Abigail Disney is...|   News|December 20, 2017|Fake_News| 14|\n",
      "| Tone Deaf Trump:...|Donald Trump just...|   News|December 20, 2017|Fake_News| 15|\n",
      "| The Internet Bru...|A new animatronic...|   News|December 19, 2017|Fake_News| 16|\n",
      "| Mueller Spokesma...|Trump supporters ...|   News|December 17, 2017|Fake_News| 17|\n",
      "| SNL Hilariously ...|Right now, the wh...|   News|December 17, 2017|Fake_News| 18|\n",
      "| Republican Senat...|Senate Majority W...|   News|December 16, 2017|Fake_News| 19|\n",
      "+--------------------+--------------------+-------+-----------------+---------+---+\n",
      "only showing top 20 rows\n",
      "\n"
     ]
    }
   ],
   "source": [
    "#specifying the row number to each row\n",
    "\n",
    "from pyspark.sql.functions import monotonically_increasing_id \n",
    "\n",
    "df_concat = df_concat.select(\"*\").withColumn(\"id\", monotonically_increasing_id())\n",
    "\n",
    "df_concat.show()"
   ]
  },
  {
   "cell_type": "code",
   "execution_count": 9,
   "id": "e005e429",
   "metadata": {},
   "outputs": [
    {
     "name": "stdout",
     "output_type": "stream",
     "text": [
      "(44906, 6)\n"
     ]
    }
   ],
   "source": [
    "print((df_concat.count(), len(df_concat.columns)))"
   ]
  },
  {
   "cell_type": "code",
   "execution_count": 10,
   "id": "a40c86a2",
   "metadata": {},
   "outputs": [
    {
     "name": "stdout",
     "output_type": "stream",
     "text": [
      "+--------------------+--------------------+----------------+-------------------+---------+------------+\n",
      "|               title|                text|         subject|               date|     Flag|          id|\n",
      "+--------------------+--------------------+----------------+-------------------+---------+------------+\n",
      "|“HARRY, HARRY!” C...|President Trump s...| Government News|        Jul 2, 2017|Fake_News| 34359741452|\n",
      "| Conservatives Ar...|If it weren t for...|            News|  December 31, 2016|Fake_News|  8589934724|\n",
      "|ERIC TRUMP School...|                    |       left-news|       Oct 23, 2016|Fake_News| 42949675948|\n",
      "|MUSLIM TEENS Stag...|\"Oh and as an add...| fjs);}(document|           'script'|Fake_News| 51539608638|\n",
      "|Classless Obama C...|Lack of leadershi...|        politics|        Dec 3, 2017|Fake_News| 25769803897|\n",
      "|Republican Trump'...|WASHINGTON (Reute...|    politicsNews|       May 5, 2016 |True_News| 94489282035|\n",
      "|WHO NEEDS DEMOCRA...|No wonder we ve h...|       left-news|       Dec 23, 2015|Fake_News| 51539608686|\n",
      "| Candace Cameron ...|When you ve never...|            News|  February 10, 2016|Fake_News| 17179871231|\n",
      "|OUCH! WATCH: Snea...| Punishment is no...|       left-news|       Sep 29, 2016|Fake_News| 42949676097|\n",
      "|10-Year Old Write...|The National Park...| Government News|       Sep 15, 2017|Fake_News| 34359741359|\n",
      "|Senate committee ...|WASHINGTON (Reute...|    politicsNews|  January 31, 2017 |True_News| 85899346137|\n",
      "|Iraq's Kurds beef...|BAGHDAD (Reuters)...|       worldnews|  October 13, 2017 |True_News|120259084718|\n",
      "|France eyes legal...|PARIS (Reuters) -...|       worldnews|September 12, 2017 |True_News|128849019082|\n",
      "|HILARIOUS! WHITE ...|The White House p...|        politics|       Mar 14, 2017|Fake_News| 25769806011|\n",
      "|Aide tries to ref...|WASHINGTON (Reute...|    politicsNews|  December 7, 2017 |True_News| 68719476986|\n",
      "|Trump names six U...|CHICAGO (Reuters)...|    politicsNews|   August 16, 2016 |True_News| 94489280814|\n",
      "|Companies have up...|WASHINGTON (Reute...|    politicsNews| December 23, 2017 |True_News| 68719476762|\n",
      "|Ted Cruz wins Wyo...|CASPER, Wyo. (Reu...|    politicsNews|    April 16, 2016 |True_News| 94489282268|\n",
      "|McCain presses U....|WASHINGTON (Reute...|    politicsNews| February 10, 2016 |True_News|103079215208|\n",
      "|Assange says Wiki...|WASHINGTON (Reute...|    politicsNews|   August 25, 2016 |True_News| 94489280755|\n",
      "+--------------------+--------------------+----------------+-------------------+---------+------------+\n",
      "only showing top 20 rows\n",
      "\n"
     ]
    }
   ],
   "source": [
    "#### has to randomly shuffle the data\n",
    "import pyspark.sql.functions as F\n",
    "\n",
    "df_concat = df_concat.select(\"*\").orderBy(F.rand())\n",
    "df_concat.show()"
   ]
  },
  {
   "cell_type": "code",
   "execution_count": 11,
   "id": "3c756638",
   "metadata": {},
   "outputs": [
    {
     "data": {
      "text/html": [
       "<table border='1'>\n",
       "<tr><th>title</th><th>text</th><th>subject</th><th>Flag</th><th>id</th></tr>\n",
       "<tr><td>“HARRY, HARRY!” C...</td><td>President Trump s...</td><td>Government News</td><td>Fake_News</td><td>34359741452</td></tr>\n",
       "<tr><td> Conservatives Ar...</td><td>If it weren t for...</td><td>News</td><td>Fake_News</td><td>8589934724</td></tr>\n",
       "<tr><td>ERIC TRUMP School...</td><td> </td><td>left-news</td><td>Fake_News</td><td>42949675948</td></tr>\n",
       "<tr><td>MUSLIM TEENS Stag...</td><td>&quot;Oh and as an add...</td><td> fjs);}(document</td><td>Fake_News</td><td>51539608638</td></tr>\n",
       "<tr><td>Classless Obama C...</td><td>Lack of leadershi...</td><td>politics</td><td>Fake_News</td><td>25769803897</td></tr>\n",
       "<tr><td>Republican Trump&#x27;...</td><td>WASHINGTON (Reute...</td><td>politicsNews</td><td>True_News</td><td>94489282035</td></tr>\n",
       "<tr><td>WHO NEEDS DEMOCRA...</td><td>No wonder we ve h...</td><td>left-news</td><td>Fake_News</td><td>51539608686</td></tr>\n",
       "<tr><td> Candace Cameron ...</td><td>When you ve never...</td><td>News</td><td>Fake_News</td><td>17179871231</td></tr>\n",
       "<tr><td>OUCH! WATCH: Snea...</td><td> Punishment is no...</td><td>left-news</td><td>Fake_News</td><td>42949676097</td></tr>\n",
       "<tr><td>10-Year Old Write...</td><td>The National Park...</td><td>Government News</td><td>Fake_News</td><td>34359741359</td></tr>\n",
       "<tr><td>Senate committee ...</td><td>WASHINGTON (Reute...</td><td>politicsNews</td><td>True_News</td><td>85899346137</td></tr>\n",
       "<tr><td>Iraq&#x27;s Kurds beef...</td><td>BAGHDAD (Reuters)...</td><td>worldnews</td><td>True_News</td><td>120259084718</td></tr>\n",
       "<tr><td>France eyes legal...</td><td>PARIS (Reuters) -...</td><td>worldnews</td><td>True_News</td><td>128849019082</td></tr>\n",
       "<tr><td>HILARIOUS! WHITE ...</td><td>The White House p...</td><td>politics</td><td>Fake_News</td><td>25769806011</td></tr>\n",
       "<tr><td>Aide tries to ref...</td><td>WASHINGTON (Reute...</td><td>politicsNews</td><td>True_News</td><td>68719476986</td></tr>\n",
       "<tr><td>Trump names six U...</td><td>CHICAGO (Reuters)...</td><td>politicsNews</td><td>True_News</td><td>94489280814</td></tr>\n",
       "<tr><td>Companies have up...</td><td>WASHINGTON (Reute...</td><td>politicsNews</td><td>True_News</td><td>68719476762</td></tr>\n",
       "<tr><td>Ted Cruz wins Wyo...</td><td>CASPER, Wyo. (Reu...</td><td>politicsNews</td><td>True_News</td><td>94489282268</td></tr>\n",
       "<tr><td>McCain presses U....</td><td>WASHINGTON (Reute...</td><td>politicsNews</td><td>True_News</td><td>103079215208</td></tr>\n",
       "<tr><td>Assange says Wiki...</td><td>WASHINGTON (Reute...</td><td>politicsNews</td><td>True_News</td><td>94489280755</td></tr>\n",
       "</table>\n",
       "only showing top 20 rows\n"
      ],
      "text/plain": [
       "+--------------------+--------------------+----------------+---------+------------+\n",
       "|               title|                text|         subject|     Flag|          id|\n",
       "+--------------------+--------------------+----------------+---------+------------+\n",
       "|“HARRY, HARRY!” C...|President Trump s...| Government News|Fake_News| 34359741452|\n",
       "| Conservatives Ar...|If it weren t for...|            News|Fake_News|  8589934724|\n",
       "|ERIC TRUMP School...|                    |       left-news|Fake_News| 42949675948|\n",
       "|MUSLIM TEENS Stag...|\"Oh and as an add...| fjs);}(document|Fake_News| 51539608638|\n",
       "|Classless Obama C...|Lack of leadershi...|        politics|Fake_News| 25769803897|\n",
       "|Republican Trump'...|WASHINGTON (Reute...|    politicsNews|True_News| 94489282035|\n",
       "|WHO NEEDS DEMOCRA...|No wonder we ve h...|       left-news|Fake_News| 51539608686|\n",
       "| Candace Cameron ...|When you ve never...|            News|Fake_News| 17179871231|\n",
       "|OUCH! WATCH: Snea...| Punishment is no...|       left-news|Fake_News| 42949676097|\n",
       "|10-Year Old Write...|The National Park...| Government News|Fake_News| 34359741359|\n",
       "|Senate committee ...|WASHINGTON (Reute...|    politicsNews|True_News| 85899346137|\n",
       "|Iraq's Kurds beef...|BAGHDAD (Reuters)...|       worldnews|True_News|120259084718|\n",
       "|France eyes legal...|PARIS (Reuters) -...|       worldnews|True_News|128849019082|\n",
       "|HILARIOUS! WHITE ...|The White House p...|        politics|Fake_News| 25769806011|\n",
       "|Aide tries to ref...|WASHINGTON (Reute...|    politicsNews|True_News| 68719476986|\n",
       "|Trump names six U...|CHICAGO (Reuters)...|    politicsNews|True_News| 94489280814|\n",
       "|Companies have up...|WASHINGTON (Reute...|    politicsNews|True_News| 68719476762|\n",
       "|Ted Cruz wins Wyo...|CASPER, Wyo. (Reu...|    politicsNews|True_News| 94489282268|\n",
       "|McCain presses U....|WASHINGTON (Reute...|    politicsNews|True_News|103079215208|\n",
       "|Assange says Wiki...|WASHINGTON (Reute...|    politicsNews|True_News| 94489280755|\n",
       "+--------------------+--------------------+----------------+---------+------------+\n",
       "only showing top 20 rows"
      ]
     },
     "execution_count": 11,
     "metadata": {},
     "output_type": "execute_result"
    }
   ],
   "source": [
    "# Remove the unwanted coloumn\n",
    "\n",
    "df_concat =  df_concat.drop(df_concat[\"date\"])\n",
    "df_concat"
   ]
  },
  {
   "cell_type": "code",
   "execution_count": 12,
   "id": "143d6976-15d2-4efd-b978-9fc4acb4d543",
   "metadata": {},
   "outputs": [
    {
     "data": {
      "text/html": [
       "<table border='1'>\n",
       "<tr><th>text</th><th>subject</th><th>Flag</th><th>id</th></tr>\n",
       "<tr><td>President Trump s...</td><td>Government News</td><td>Fake_News</td><td>34359741452</td></tr>\n",
       "<tr><td>If it weren t for...</td><td>News</td><td>Fake_News</td><td>8589934724</td></tr>\n",
       "<tr><td> </td><td>left-news</td><td>Fake_News</td><td>42949675948</td></tr>\n",
       "<tr><td>&quot;Oh and as an add...</td><td> fjs);}(document</td><td>Fake_News</td><td>51539608638</td></tr>\n",
       "<tr><td>Lack of leadershi...</td><td>politics</td><td>Fake_News</td><td>25769803897</td></tr>\n",
       "<tr><td>WASHINGTON (Reute...</td><td>politicsNews</td><td>True_News</td><td>94489282035</td></tr>\n",
       "<tr><td>No wonder we ve h...</td><td>left-news</td><td>Fake_News</td><td>51539608686</td></tr>\n",
       "<tr><td>When you ve never...</td><td>News</td><td>Fake_News</td><td>17179871231</td></tr>\n",
       "<tr><td> Punishment is no...</td><td>left-news</td><td>Fake_News</td><td>42949676097</td></tr>\n",
       "<tr><td>The National Park...</td><td>Government News</td><td>Fake_News</td><td>34359741359</td></tr>\n",
       "<tr><td>WASHINGTON (Reute...</td><td>politicsNews</td><td>True_News</td><td>85899346137</td></tr>\n",
       "<tr><td>BAGHDAD (Reuters)...</td><td>worldnews</td><td>True_News</td><td>120259084718</td></tr>\n",
       "<tr><td>PARIS (Reuters) -...</td><td>worldnews</td><td>True_News</td><td>128849019082</td></tr>\n",
       "<tr><td>The White House p...</td><td>politics</td><td>Fake_News</td><td>25769806011</td></tr>\n",
       "<tr><td>WASHINGTON (Reute...</td><td>politicsNews</td><td>True_News</td><td>68719476986</td></tr>\n",
       "<tr><td>CHICAGO (Reuters)...</td><td>politicsNews</td><td>True_News</td><td>94489280814</td></tr>\n",
       "<tr><td>WASHINGTON (Reute...</td><td>politicsNews</td><td>True_News</td><td>68719476762</td></tr>\n",
       "<tr><td>CASPER, Wyo. (Reu...</td><td>politicsNews</td><td>True_News</td><td>94489282268</td></tr>\n",
       "<tr><td>WASHINGTON (Reute...</td><td>politicsNews</td><td>True_News</td><td>103079215208</td></tr>\n",
       "<tr><td>WASHINGTON (Reute...</td><td>politicsNews</td><td>True_News</td><td>94489280755</td></tr>\n",
       "</table>\n",
       "only showing top 20 rows\n"
      ],
      "text/plain": [
       "+--------------------+----------------+---------+------------+\n",
       "|                text|         subject|     Flag|          id|\n",
       "+--------------------+----------------+---------+------------+\n",
       "|President Trump s...| Government News|Fake_News| 34359741452|\n",
       "|If it weren t for...|            News|Fake_News|  8589934724|\n",
       "|                    |       left-news|Fake_News| 42949675948|\n",
       "|\"Oh and as an add...| fjs);}(document|Fake_News| 51539608638|\n",
       "|Lack of leadershi...|        politics|Fake_News| 25769803897|\n",
       "|WASHINGTON (Reute...|    politicsNews|True_News| 94489282035|\n",
       "|No wonder we ve h...|       left-news|Fake_News| 51539608686|\n",
       "|When you ve never...|            News|Fake_News| 17179871231|\n",
       "| Punishment is no...|       left-news|Fake_News| 42949676097|\n",
       "|The National Park...| Government News|Fake_News| 34359741359|\n",
       "|WASHINGTON (Reute...|    politicsNews|True_News| 85899346137|\n",
       "|BAGHDAD (Reuters)...|       worldnews|True_News|120259084718|\n",
       "|PARIS (Reuters) -...|       worldnews|True_News|128849019082|\n",
       "|The White House p...|        politics|Fake_News| 25769806011|\n",
       "|WASHINGTON (Reute...|    politicsNews|True_News| 68719476986|\n",
       "|CHICAGO (Reuters)...|    politicsNews|True_News| 94489280814|\n",
       "|WASHINGTON (Reute...|    politicsNews|True_News| 68719476762|\n",
       "|CASPER, Wyo. (Reu...|    politicsNews|True_News| 94489282268|\n",
       "|WASHINGTON (Reute...|    politicsNews|True_News|103079215208|\n",
       "|WASHINGTON (Reute...|    politicsNews|True_News| 94489280755|\n",
       "+--------------------+----------------+---------+------------+\n",
       "only showing top 20 rows"
      ]
     },
     "execution_count": 12,
     "metadata": {},
     "output_type": "execute_result"
    }
   ],
   "source": [
    "# Remove the title for analysis\n",
    "\n",
    "df_concat =  df_concat.drop(df_concat[\"title\"])\n",
    "df_concat"
   ]
  },
  {
   "cell_type": "code",
   "execution_count": 13,
   "id": "c3d34b0b-410c-4a2b-ab7b-780baf0353cb",
   "metadata": {},
   "outputs": [
    {
     "name": "stderr",
     "output_type": "stream",
     "text": [
      "                                                                                \r"
     ]
    },
    {
     "data": {
      "text/html": [
       "<table border='1'>\n",
       "<tr><th>text</th><th>subject</th><th>Flag</th><th>id</th></tr>\n",
       "<tr><td>president trump s...</td><td>Government News</td><td>Fake_News</td><td>34359741452</td></tr>\n",
       "<tr><td>if it weren t for...</td><td>News</td><td>Fake_News</td><td>8589934724</td></tr>\n",
       "<tr><td> </td><td>left-news</td><td>Fake_News</td><td>42949675948</td></tr>\n",
       "<tr><td> oh and as an add...</td><td> fjs);}(document</td><td>Fake_News</td><td>51539608638</td></tr>\n",
       "<tr><td>lack of leadershi...</td><td>politics</td><td>Fake_News</td><td>25769803897</td></tr>\n",
       "<tr><td>washington  reute...</td><td>politicsNews</td><td>True_News</td><td>94489282035</td></tr>\n",
       "<tr><td>no wonder we ve h...</td><td>left-news</td><td>Fake_News</td><td>51539608686</td></tr>\n",
       "<tr><td>when you ve never...</td><td>News</td><td>Fake_News</td><td>17179871231</td></tr>\n",
       "<tr><td> punishment is no...</td><td>left-news</td><td>Fake_News</td><td>42949676097</td></tr>\n",
       "<tr><td>the national park...</td><td>Government News</td><td>Fake_News</td><td>34359741359</td></tr>\n",
       "<tr><td>washington  reute...</td><td>politicsNews</td><td>True_News</td><td>85899346137</td></tr>\n",
       "<tr><td>baghdad  reuters ...</td><td>worldnews</td><td>True_News</td><td>120259084718</td></tr>\n",
       "<tr><td>paris  reuters   ...</td><td>worldnews</td><td>True_News</td><td>128849019082</td></tr>\n",
       "<tr><td>the white house p...</td><td>politics</td><td>Fake_News</td><td>25769806011</td></tr>\n",
       "<tr><td>washington  reute...</td><td>politicsNews</td><td>True_News</td><td>68719476986</td></tr>\n",
       "<tr><td>chicago  reuters ...</td><td>politicsNews</td><td>True_News</td><td>94489280814</td></tr>\n",
       "<tr><td>washington  reute...</td><td>politicsNews</td><td>True_News</td><td>68719476762</td></tr>\n",
       "<tr><td>casper  wyo   reu...</td><td>politicsNews</td><td>True_News</td><td>94489282268</td></tr>\n",
       "<tr><td>washington  reute...</td><td>politicsNews</td><td>True_News</td><td>103079215208</td></tr>\n",
       "<tr><td>washington  reute...</td><td>politicsNews</td><td>True_News</td><td>94489280755</td></tr>\n",
       "</table>\n",
       "only showing top 20 rows\n"
      ],
      "text/plain": [
       "+--------------------+----------------+---------+------------+\n",
       "|                text|         subject|     Flag|          id|\n",
       "+--------------------+----------------+---------+------------+\n",
       "|president trump s...| Government News|Fake_News| 34359741452|\n",
       "|if it weren t for...|            News|Fake_News|  8589934724|\n",
       "|                    |       left-news|Fake_News| 42949675948|\n",
       "| oh and as an add...| fjs);}(document|Fake_News| 51539608638|\n",
       "|lack of leadershi...|        politics|Fake_News| 25769803897|\n",
       "|washington  reute...|    politicsNews|True_News| 94489282035|\n",
       "|no wonder we ve h...|       left-news|Fake_News| 51539608686|\n",
       "|when you ve never...|            News|Fake_News| 17179871231|\n",
       "| punishment is no...|       left-news|Fake_News| 42949676097|\n",
       "|the national park...| Government News|Fake_News| 34359741359|\n",
       "|washington  reute...|    politicsNews|True_News| 85899346137|\n",
       "|baghdad  reuters ...|       worldnews|True_News|120259084718|\n",
       "|paris  reuters   ...|       worldnews|True_News|128849019082|\n",
       "|the white house p...|        politics|Fake_News| 25769806011|\n",
       "|washington  reute...|    politicsNews|True_News| 68719476986|\n",
       "|chicago  reuters ...|    politicsNews|True_News| 94489280814|\n",
       "|washington  reute...|    politicsNews|True_News| 68719476762|\n",
       "|casper  wyo   reu...|    politicsNews|True_News| 94489282268|\n",
       "|washington  reute...|    politicsNews|True_News|103079215208|\n",
       "|washington  reute...|    politicsNews|True_News| 94489280755|\n",
       "+--------------------+----------------+---------+------------+\n",
       "only showing top 20 rows"
      ]
     },
     "execution_count": 13,
     "metadata": {},
     "output_type": "execute_result"
    }
   ],
   "source": [
    "# In order to avaoid the confusion convert everything to lowercase\n",
    "from pyspark.sql.functions import col, split, lower, regexp_replace, length\n",
    "\n",
    "df_concat = df_concat\\\n",
    ".withColumn(\"text\", regexp_replace(lower(col(\"text\")), r\"[^0-9a-z]\", \" \"))\\\n",
    ".where(length(\"text\")>0)\n",
    "\n",
    "df_concat"
   ]
  },
  {
   "cell_type": "code",
   "execution_count": 14,
   "id": "c24daf05-c26c-44cd-945c-68735ef5031b",
   "metadata": {},
   "outputs": [
    {
     "name": "stderr",
     "output_type": "stream",
     "text": [
      "[nltk_data] Downloading package stopwords to\n",
      "[nltk_data]     /Users/poojaakki/nltk_data...\n",
      "[nltk_data]   Package stopwords is already up-to-date!\n"
     ]
    }
   ],
   "source": [
    "# remove stop words from it\n",
    "import nltk\n",
    "nltk.download('stopwords')\n",
    "from nltk.corpus import stopwords\n",
    "stop = stopwords.words('english')\n",
    "\n"
   ]
  },
  {
   "cell_type": "code",
   "execution_count": 15,
   "id": "80b547ef-f09f-41db-84b0-99982929cf87",
   "metadata": {},
   "outputs": [
    {
     "name": "stderr",
     "output_type": "stream",
     "text": [
      "                                                                                \r"
     ]
    },
    {
     "data": {
      "text/html": [
       "<table border='1'>\n",
       "<tr><th>text</th><th>subject</th><th>Flag</th><th>id</th><th>words</th></tr>\n",
       "<tr><td>president trump s...</td><td>Government News</td><td>Fake_News</td><td>34359741452</td><td>[president, trump...</td></tr>\n",
       "<tr><td>if it weren t for...</td><td>News</td><td>Fake_News</td><td>8589934724</td><td>[if, it, weren, t...</td></tr>\n",
       "<tr><td> </td><td>left-news</td><td>Fake_News</td><td>42949675948</td><td>[, ]</td></tr>\n",
       "<tr><td> oh and as an add...</td><td> fjs);}(document</td><td>Fake_News</td><td>51539608638</td><td>[, oh, and, as, a...</td></tr>\n",
       "<tr><td>lack of leadershi...</td><td>politics</td><td>Fake_News</td><td>25769803897</td><td>[lack, of, leader...</td></tr>\n",
       "<tr><td>washington  reute...</td><td>politicsNews</td><td>True_News</td><td>94489282035</td><td>[washington, , re...</td></tr>\n",
       "<tr><td>no wonder we ve h...</td><td>left-news</td><td>Fake_News</td><td>51539608686</td><td>[no, wonder, we, ...</td></tr>\n",
       "<tr><td>when you ve never...</td><td>News</td><td>Fake_News</td><td>17179871231</td><td>[when, you, ve, n...</td></tr>\n",
       "<tr><td> punishment is no...</td><td>left-news</td><td>Fake_News</td><td>42949676097</td><td>[, punishment, is...</td></tr>\n",
       "<tr><td>the national park...</td><td>Government News</td><td>Fake_News</td><td>34359741359</td><td>[the, national, p...</td></tr>\n",
       "<tr><td>washington  reute...</td><td>politicsNews</td><td>True_News</td><td>85899346137</td><td>[washington, , re...</td></tr>\n",
       "<tr><td>baghdad  reuters ...</td><td>worldnews</td><td>True_News</td><td>120259084718</td><td>[baghdad, , reute...</td></tr>\n",
       "<tr><td>paris  reuters   ...</td><td>worldnews</td><td>True_News</td><td>128849019082</td><td>[paris, , reuters...</td></tr>\n",
       "<tr><td>the white house p...</td><td>politics</td><td>Fake_News</td><td>25769806011</td><td>[the, white, hous...</td></tr>\n",
       "<tr><td>washington  reute...</td><td>politicsNews</td><td>True_News</td><td>68719476986</td><td>[washington, , re...</td></tr>\n",
       "<tr><td>chicago  reuters ...</td><td>politicsNews</td><td>True_News</td><td>94489280814</td><td>[chicago, , reute...</td></tr>\n",
       "<tr><td>washington  reute...</td><td>politicsNews</td><td>True_News</td><td>68719476762</td><td>[washington, , re...</td></tr>\n",
       "<tr><td>casper  wyo   reu...</td><td>politicsNews</td><td>True_News</td><td>94489282268</td><td>[casper, , wyo, ,...</td></tr>\n",
       "<tr><td>washington  reute...</td><td>politicsNews</td><td>True_News</td><td>103079215208</td><td>[washington, , re...</td></tr>\n",
       "<tr><td>washington  reute...</td><td>politicsNews</td><td>True_News</td><td>94489280755</td><td>[washington, , re...</td></tr>\n",
       "</table>\n",
       "only showing top 20 rows\n"
      ],
      "text/plain": [
       "+--------------------+----------------+---------+------------+--------------------+\n",
       "|                text|         subject|     Flag|          id|               words|\n",
       "+--------------------+----------------+---------+------------+--------------------+\n",
       "|president trump s...| Government News|Fake_News| 34359741452|[president, trump...|\n",
       "|if it weren t for...|            News|Fake_News|  8589934724|[if, it, weren, t...|\n",
       "|                    |       left-news|Fake_News| 42949675948|                [, ]|\n",
       "| oh and as an add...| fjs);}(document|Fake_News| 51539608638|[, oh, and, as, a...|\n",
       "|lack of leadershi...|        politics|Fake_News| 25769803897|[lack, of, leader...|\n",
       "|washington  reute...|    politicsNews|True_News| 94489282035|[washington, , re...|\n",
       "|no wonder we ve h...|       left-news|Fake_News| 51539608686|[no, wonder, we, ...|\n",
       "|when you ve never...|            News|Fake_News| 17179871231|[when, you, ve, n...|\n",
       "| punishment is no...|       left-news|Fake_News| 42949676097|[, punishment, is...|\n",
       "|the national park...| Government News|Fake_News| 34359741359|[the, national, p...|\n",
       "|washington  reute...|    politicsNews|True_News| 85899346137|[washington, , re...|\n",
       "|baghdad  reuters ...|       worldnews|True_News|120259084718|[baghdad, , reute...|\n",
       "|paris  reuters   ...|       worldnews|True_News|128849019082|[paris, , reuters...|\n",
       "|the white house p...|        politics|Fake_News| 25769806011|[the, white, hous...|\n",
       "|washington  reute...|    politicsNews|True_News| 68719476986|[washington, , re...|\n",
       "|chicago  reuters ...|    politicsNews|True_News| 94489280814|[chicago, , reute...|\n",
       "|washington  reute...|    politicsNews|True_News| 68719476762|[washington, , re...|\n",
       "|casper  wyo   reu...|    politicsNews|True_News| 94489282268|[casper, , wyo, ,...|\n",
       "|washington  reute...|    politicsNews|True_News|103079215208|[washington, , re...|\n",
       "|washington  reute...|    politicsNews|True_News| 94489280755|[washington, , re...|\n",
       "+--------------------+----------------+---------+------------+--------------------+\n",
       "only showing top 20 rows"
      ]
     },
     "execution_count": 15,
     "metadata": {},
     "output_type": "execute_result"
    }
   ],
   "source": [
    "df_concat = df_concat.withColumn('words',F.split(F.col('text'),' '))\n",
    "df_concat"
   ]
  },
  {
   "cell_type": "code",
   "execution_count": 16,
   "id": "52299c32-7650-4396-a7b6-d8bb8f28d834",
   "metadata": {},
   "outputs": [],
   "source": [
    "from pyspark.ml.feature import StopWordsRemover \n",
    "\n",
    "stopwordsRemovalFeature = StopWordsRemover(inputCol=\"words\", \n",
    "                   outputCol=\"words without stop\").setStopWords(stop)"
   ]
  },
  {
   "cell_type": "code",
   "execution_count": 17,
   "id": "9477e023-a186-4f32-98f1-d3dba1c2368e",
   "metadata": {},
   "outputs": [],
   "source": [
    "from pyspark.ml import Pipeline\n",
    "\n",
    "stopWordRemovalPipeline = Pipeline(stages=[stopwordsRemovalFeature])\n",
    "pipelineFitRemoveStopWords = stopWordRemovalPipeline.fit(df_concat)"
   ]
  },
  {
   "cell_type": "code",
   "execution_count": 18,
   "id": "8e3e66d4-0ec4-4222-b7a0-f9d34162431c",
   "metadata": {},
   "outputs": [],
   "source": [
    "df_concat = pipelineFitRemoveStopWords.transform(df_concat)"
   ]
  },
  {
   "cell_type": "code",
   "execution_count": 19,
   "id": "4e0ad9f1-2d7a-401f-81d9-c80c23d6c698",
   "metadata": {},
   "outputs": [
    {
     "name": "stderr",
     "output_type": "stream",
     "text": [
      "                                                                                \r"
     ]
    },
    {
     "data": {
      "text/html": [
       "<table border='1'>\n",
       "<tr><th>text</th><th>subject</th><th>Flag</th><th>id</th><th>words</th><th>words without stop</th></tr>\n",
       "<tr><td>president trump s...</td><td>Government News</td><td>Fake_News</td><td>34359741452</td><td>[president, trump...</td><td>[president, trump...</td></tr>\n",
       "<tr><td>if it weren t for...</td><td>News</td><td>Fake_News</td><td>8589934724</td><td>[if, it, weren, t...</td><td>[electoral, colle...</td></tr>\n",
       "<tr><td> </td><td>left-news</td><td>Fake_News</td><td>42949675948</td><td>[, ]</td><td>[, ]</td></tr>\n",
       "<tr><td> oh and as an add...</td><td> fjs);}(document</td><td>Fake_News</td><td>51539608638</td><td>[, oh, and, as, a...</td><td>[, oh, added, bon...</td></tr>\n",
       "<tr><td>lack of leadershi...</td><td>politics</td><td>Fake_News</td><td>25769803897</td><td>[lack, of, leader...</td><td>[lack, leadership...</td></tr>\n",
       "<tr><td>washington  reute...</td><td>politicsNews</td><td>True_News</td><td>94489282035</td><td>[washington, , re...</td><td>[washington, , re...</td></tr>\n",
       "<tr><td>no wonder we ve h...</td><td>left-news</td><td>Fake_News</td><td>51539608686</td><td>[no, wonder, we, ...</td><td>[wonder, worst, d...</td></tr>\n",
       "<tr><td>when you ve never...</td><td>News</td><td>Fake_News</td><td>17179871231</td><td>[when, you, ve, n...</td><td>[never, taught, f...</td></tr>\n",
       "<tr><td> punishment is no...</td><td>left-news</td><td>Fake_News</td><td>42949676097</td><td>[, punishment, is...</td><td>[, punishment, re...</td></tr>\n",
       "<tr><td>the national park...</td><td>Government News</td><td>Fake_News</td><td>34359741359</td><td>[the, national, p...</td><td>[national, park, ...</td></tr>\n",
       "<tr><td>washington  reute...</td><td>politicsNews</td><td>True_News</td><td>85899346137</td><td>[washington, , re...</td><td>[washington, , re...</td></tr>\n",
       "<tr><td>baghdad  reuters ...</td><td>worldnews</td><td>True_News</td><td>120259084718</td><td>[baghdad, , reute...</td><td>[baghdad, , reute...</td></tr>\n",
       "<tr><td>paris  reuters   ...</td><td>worldnews</td><td>True_News</td><td>128849019082</td><td>[paris, , reuters...</td><td>[paris, , reuters...</td></tr>\n",
       "<tr><td>the white house p...</td><td>politics</td><td>Fake_News</td><td>25769806011</td><td>[the, white, hous...</td><td>[white, house, pu...</td></tr>\n",
       "<tr><td>washington  reute...</td><td>politicsNews</td><td>True_News</td><td>68719476986</td><td>[washington, , re...</td><td>[washington, , re...</td></tr>\n",
       "<tr><td>chicago  reuters ...</td><td>politicsNews</td><td>True_News</td><td>94489280814</td><td>[chicago, , reute...</td><td>[chicago, , reute...</td></tr>\n",
       "<tr><td>washington  reute...</td><td>politicsNews</td><td>True_News</td><td>68719476762</td><td>[washington, , re...</td><td>[washington, , re...</td></tr>\n",
       "<tr><td>casper  wyo   reu...</td><td>politicsNews</td><td>True_News</td><td>94489282268</td><td>[casper, , wyo, ,...</td><td>[casper, , wyo, ,...</td></tr>\n",
       "<tr><td>washington  reute...</td><td>politicsNews</td><td>True_News</td><td>103079215208</td><td>[washington, , re...</td><td>[washington, , re...</td></tr>\n",
       "<tr><td>washington  reute...</td><td>politicsNews</td><td>True_News</td><td>94489280755</td><td>[washington, , re...</td><td>[washington, , re...</td></tr>\n",
       "</table>\n",
       "only showing top 20 rows\n"
      ],
      "text/plain": [
       "+--------------------+----------------+---------+------------+--------------------+--------------------+\n",
       "|                text|         subject|     Flag|          id|               words|  words without stop|\n",
       "+--------------------+----------------+---------+------------+--------------------+--------------------+\n",
       "|president trump s...| Government News|Fake_News| 34359741452|[president, trump...|[president, trump...|\n",
       "|if it weren t for...|            News|Fake_News|  8589934724|[if, it, weren, t...|[electoral, colle...|\n",
       "|                    |       left-news|Fake_News| 42949675948|                [, ]|                [, ]|\n",
       "| oh and as an add...| fjs);}(document|Fake_News| 51539608638|[, oh, and, as, a...|[, oh, added, bon...|\n",
       "|lack of leadershi...|        politics|Fake_News| 25769803897|[lack, of, leader...|[lack, leadership...|\n",
       "|washington  reute...|    politicsNews|True_News| 94489282035|[washington, , re...|[washington, , re...|\n",
       "|no wonder we ve h...|       left-news|Fake_News| 51539608686|[no, wonder, we, ...|[wonder, worst, d...|\n",
       "|when you ve never...|            News|Fake_News| 17179871231|[when, you, ve, n...|[never, taught, f...|\n",
       "| punishment is no...|       left-news|Fake_News| 42949676097|[, punishment, is...|[, punishment, re...|\n",
       "|the national park...| Government News|Fake_News| 34359741359|[the, national, p...|[national, park, ...|\n",
       "|washington  reute...|    politicsNews|True_News| 85899346137|[washington, , re...|[washington, , re...|\n",
       "|baghdad  reuters ...|       worldnews|True_News|120259084718|[baghdad, , reute...|[baghdad, , reute...|\n",
       "|paris  reuters   ...|       worldnews|True_News|128849019082|[paris, , reuters...|[paris, , reuters...|\n",
       "|the white house p...|        politics|Fake_News| 25769806011|[the, white, hous...|[white, house, pu...|\n",
       "|washington  reute...|    politicsNews|True_News| 68719476986|[washington, , re...|[washington, , re...|\n",
       "|chicago  reuters ...|    politicsNews|True_News| 94489280814|[chicago, , reute...|[chicago, , reute...|\n",
       "|washington  reute...|    politicsNews|True_News| 68719476762|[washington, , re...|[washington, , re...|\n",
       "|casper  wyo   reu...|    politicsNews|True_News| 94489282268|[casper, , wyo, ,...|[casper, , wyo, ,...|\n",
       "|washington  reute...|    politicsNews|True_News|103079215208|[washington, , re...|[washington, , re...|\n",
       "|washington  reute...|    politicsNews|True_News| 94489280755|[washington, , re...|[washington, , re...|\n",
       "+--------------------+----------------+---------+------------+--------------------+--------------------+\n",
       "only showing top 20 rows"
      ]
     },
     "execution_count": 19,
     "metadata": {},
     "output_type": "execute_result"
    }
   ],
   "source": [
    "df_concat"
   ]
  },
  {
   "cell_type": "code",
   "execution_count": 20,
   "id": "07f34f6a-f560-4491-8291-818317c57c67",
   "metadata": {},
   "outputs": [
    {
     "name": "stderr",
     "output_type": "stream",
     "text": [
      "                                                                                \r"
     ]
    },
    {
     "data": {
      "text/html": [
       "<table border='1'>\n",
       "<tr><th>text</th><th>subject</th><th>Flag</th><th>id</th><th>words</th><th>words without stop</th><th>text1</th></tr>\n",
       "<tr><td>president trump s...</td><td>Government News</td><td>Fake_News</td><td>34359741452</td><td>[president, trump...</td><td>[president, trump...</td><td>president trump s...</td></tr>\n",
       "<tr><td>if it weren t for...</td><td>News</td><td>Fake_News</td><td>8589934724</td><td>[if, it, weren, t...</td><td>[electoral, colle...</td><td>electoral college...</td></tr>\n",
       "<tr><td> </td><td>left-news</td><td>Fake_News</td><td>42949675948</td><td>[, ]</td><td>[, ]</td><td> </td></tr>\n",
       "<tr><td> oh and as an add...</td><td> fjs);}(document</td><td>Fake_News</td><td>51539608638</td><td>[, oh, and, as, a...</td><td>[, oh, added, bon...</td><td> oh added bonus  ...</td></tr>\n",
       "<tr><td>lack of leadershi...</td><td>politics</td><td>Fake_News</td><td>25769803897</td><td>[lack, of, leader...</td><td>[lack, leadership...</td><td>lack leadership  ...</td></tr>\n",
       "<tr><td>washington  reute...</td><td>politicsNews</td><td>True_News</td><td>94489282035</td><td>[washington, , re...</td><td>[washington, , re...</td><td>washington  reute...</td></tr>\n",
       "<tr><td>no wonder we ve h...</td><td>left-news</td><td>Fake_News</td><td>51539608686</td><td>[no, wonder, we, ...</td><td>[wonder, worst, d...</td><td>wonder worst demo...</td></tr>\n",
       "<tr><td>when you ve never...</td><td>News</td><td>Fake_News</td><td>17179871231</td><td>[when, you, ve, n...</td><td>[never, taught, f...</td><td>never taught figu...</td></tr>\n",
       "<tr><td> punishment is no...</td><td>left-news</td><td>Fake_News</td><td>42949676097</td><td>[, punishment, is...</td><td>[, punishment, re...</td><td> punishment reven...</td></tr>\n",
       "<tr><td>the national park...</td><td>Government News</td><td>Fake_News</td><td>34359741359</td><td>[the, national, p...</td><td>[national, park, ...</td><td>national park ser...</td></tr>\n",
       "<tr><td>washington  reute...</td><td>politicsNews</td><td>True_News</td><td>85899346137</td><td>[washington, , re...</td><td>[washington, , re...</td><td>washington  reute...</td></tr>\n",
       "<tr><td>baghdad  reuters ...</td><td>worldnews</td><td>True_News</td><td>120259084718</td><td>[baghdad, , reute...</td><td>[baghdad, , reute...</td><td>baghdad  reuters ...</td></tr>\n",
       "<tr><td>paris  reuters   ...</td><td>worldnews</td><td>True_News</td><td>128849019082</td><td>[paris, , reuters...</td><td>[paris, , reuters...</td><td>paris  reuters   ...</td></tr>\n",
       "<tr><td>the white house p...</td><td>politics</td><td>Fake_News</td><td>25769806011</td><td>[the, white, hous...</td><td>[white, house, pu...</td><td>white house publi...</td></tr>\n",
       "<tr><td>washington  reute...</td><td>politicsNews</td><td>True_News</td><td>68719476986</td><td>[washington, , re...</td><td>[washington, , re...</td><td>washington  reute...</td></tr>\n",
       "<tr><td>chicago  reuters ...</td><td>politicsNews</td><td>True_News</td><td>94489280814</td><td>[chicago, , reute...</td><td>[chicago, , reute...</td><td>chicago  reuters ...</td></tr>\n",
       "<tr><td>washington  reute...</td><td>politicsNews</td><td>True_News</td><td>68719476762</td><td>[washington, , re...</td><td>[washington, , re...</td><td>washington  reute...</td></tr>\n",
       "<tr><td>casper  wyo   reu...</td><td>politicsNews</td><td>True_News</td><td>94489282268</td><td>[casper, , wyo, ,...</td><td>[casper, , wyo, ,...</td><td>casper  wyo   reu...</td></tr>\n",
       "<tr><td>washington  reute...</td><td>politicsNews</td><td>True_News</td><td>103079215208</td><td>[washington, , re...</td><td>[washington, , re...</td><td>washington  reute...</td></tr>\n",
       "<tr><td>washington  reute...</td><td>politicsNews</td><td>True_News</td><td>94489280755</td><td>[washington, , re...</td><td>[washington, , re...</td><td>washington  reute...</td></tr>\n",
       "</table>\n",
       "only showing top 20 rows\n"
      ],
      "text/plain": [
       "+--------------------+----------------+---------+------------+--------------------+--------------------+--------------------+\n",
       "|                text|         subject|     Flag|          id|               words|  words without stop|               text1|\n",
       "+--------------------+----------------+---------+------------+--------------------+--------------------+--------------------+\n",
       "|president trump s...| Government News|Fake_News| 34359741452|[president, trump...|[president, trump...|president trump s...|\n",
       "|if it weren t for...|            News|Fake_News|  8589934724|[if, it, weren, t...|[electoral, colle...|electoral college...|\n",
       "|                    |       left-news|Fake_News| 42949675948|                [, ]|                [, ]|                    |\n",
       "| oh and as an add...| fjs);}(document|Fake_News| 51539608638|[, oh, and, as, a...|[, oh, added, bon...| oh added bonus  ...|\n",
       "|lack of leadershi...|        politics|Fake_News| 25769803897|[lack, of, leader...|[lack, leadership...|lack leadership  ...|\n",
       "|washington  reute...|    politicsNews|True_News| 94489282035|[washington, , re...|[washington, , re...|washington  reute...|\n",
       "|no wonder we ve h...|       left-news|Fake_News| 51539608686|[no, wonder, we, ...|[wonder, worst, d...|wonder worst demo...|\n",
       "|when you ve never...|            News|Fake_News| 17179871231|[when, you, ve, n...|[never, taught, f...|never taught figu...|\n",
       "| punishment is no...|       left-news|Fake_News| 42949676097|[, punishment, is...|[, punishment, re...| punishment reven...|\n",
       "|the national park...| Government News|Fake_News| 34359741359|[the, national, p...|[national, park, ...|national park ser...|\n",
       "|washington  reute...|    politicsNews|True_News| 85899346137|[washington, , re...|[washington, , re...|washington  reute...|\n",
       "|baghdad  reuters ...|       worldnews|True_News|120259084718|[baghdad, , reute...|[baghdad, , reute...|baghdad  reuters ...|\n",
       "|paris  reuters   ...|       worldnews|True_News|128849019082|[paris, , reuters...|[paris, , reuters...|paris  reuters   ...|\n",
       "|the white house p...|        politics|Fake_News| 25769806011|[the, white, hous...|[white, house, pu...|white house publi...|\n",
       "|washington  reute...|    politicsNews|True_News| 68719476986|[washington, , re...|[washington, , re...|washington  reute...|\n",
       "|chicago  reuters ...|    politicsNews|True_News| 94489280814|[chicago, , reute...|[chicago, , reute...|chicago  reuters ...|\n",
       "|washington  reute...|    politicsNews|True_News| 68719476762|[washington, , re...|[washington, , re...|washington  reute...|\n",
       "|casper  wyo   reu...|    politicsNews|True_News| 94489282268|[casper, , wyo, ,...|[casper, , wyo, ,...|casper  wyo   reu...|\n",
       "|washington  reute...|    politicsNews|True_News|103079215208|[washington, , re...|[washington, , re...|washington  reute...|\n",
       "|washington  reute...|    politicsNews|True_News| 94489280755|[washington, , re...|[washington, , re...|washington  reute...|\n",
       "+--------------------+----------------+---------+------------+--------------------+--------------------+--------------------+\n",
       "only showing top 20 rows"
      ]
     },
     "execution_count": 20,
     "metadata": {},
     "output_type": "execute_result"
    }
   ],
   "source": [
    "# convert array of strings to strings\n",
    "from pyspark.sql.functions import concat_ws\n",
    "\n",
    "df_concat = df_concat.withColumn(\"text1\", concat_ws(\" \", df_concat[\"words without stop\"]))\n",
    "df_concat"
   ]
  },
  {
   "cell_type": "code",
   "execution_count": 21,
   "id": "d71dafa7-c5c3-4325-9ed6-169a0cd57036",
   "metadata": {},
   "outputs": [
    {
     "name": "stderr",
     "output_type": "stream",
     "text": [
      "                                                                                \r"
     ]
    },
    {
     "data": {
      "text/html": [
       "<table border='1'>\n",
       "<tr><th>text</th><th>subject</th><th>Flag</th><th>id</th><th>text1</th></tr>\n",
       "<tr><td>president trump s...</td><td>Government News</td><td>Fake_News</td><td>34359741452</td><td>president trump s...</td></tr>\n",
       "<tr><td>if it weren t for...</td><td>News</td><td>Fake_News</td><td>8589934724</td><td>electoral college...</td></tr>\n",
       "<tr><td> </td><td>left-news</td><td>Fake_News</td><td>42949675948</td><td> </td></tr>\n",
       "<tr><td> oh and as an add...</td><td> fjs);}(document</td><td>Fake_News</td><td>51539608638</td><td> oh added bonus  ...</td></tr>\n",
       "<tr><td>lack of leadershi...</td><td>politics</td><td>Fake_News</td><td>25769803897</td><td>lack leadership  ...</td></tr>\n",
       "<tr><td>washington  reute...</td><td>politicsNews</td><td>True_News</td><td>94489282035</td><td>washington  reute...</td></tr>\n",
       "<tr><td>no wonder we ve h...</td><td>left-news</td><td>Fake_News</td><td>51539608686</td><td>wonder worst demo...</td></tr>\n",
       "<tr><td>when you ve never...</td><td>News</td><td>Fake_News</td><td>17179871231</td><td>never taught figu...</td></tr>\n",
       "<tr><td> punishment is no...</td><td>left-news</td><td>Fake_News</td><td>42949676097</td><td> punishment reven...</td></tr>\n",
       "<tr><td>the national park...</td><td>Government News</td><td>Fake_News</td><td>34359741359</td><td>national park ser...</td></tr>\n",
       "<tr><td>washington  reute...</td><td>politicsNews</td><td>True_News</td><td>85899346137</td><td>washington  reute...</td></tr>\n",
       "<tr><td>baghdad  reuters ...</td><td>worldnews</td><td>True_News</td><td>120259084718</td><td>baghdad  reuters ...</td></tr>\n",
       "<tr><td>paris  reuters   ...</td><td>worldnews</td><td>True_News</td><td>128849019082</td><td>paris  reuters   ...</td></tr>\n",
       "<tr><td>the white house p...</td><td>politics</td><td>Fake_News</td><td>25769806011</td><td>white house publi...</td></tr>\n",
       "<tr><td>washington  reute...</td><td>politicsNews</td><td>True_News</td><td>68719476986</td><td>washington  reute...</td></tr>\n",
       "<tr><td>chicago  reuters ...</td><td>politicsNews</td><td>True_News</td><td>94489280814</td><td>chicago  reuters ...</td></tr>\n",
       "<tr><td>washington  reute...</td><td>politicsNews</td><td>True_News</td><td>68719476762</td><td>washington  reute...</td></tr>\n",
       "<tr><td>casper  wyo   reu...</td><td>politicsNews</td><td>True_News</td><td>94489282268</td><td>casper  wyo   reu...</td></tr>\n",
       "<tr><td>washington  reute...</td><td>politicsNews</td><td>True_News</td><td>103079215208</td><td>washington  reute...</td></tr>\n",
       "<tr><td>washington  reute...</td><td>politicsNews</td><td>True_News</td><td>94489280755</td><td>washington  reute...</td></tr>\n",
       "</table>\n",
       "only showing top 20 rows\n"
      ],
      "text/plain": [
       "+--------------------+----------------+---------+------------+--------------------+\n",
       "|                text|         subject|     Flag|          id|               text1|\n",
       "+--------------------+----------------+---------+------------+--------------------+\n",
       "|president trump s...| Government News|Fake_News| 34359741452|president trump s...|\n",
       "|if it weren t for...|            News|Fake_News|  8589934724|electoral college...|\n",
       "|                    |       left-news|Fake_News| 42949675948|                    |\n",
       "| oh and as an add...| fjs);}(document|Fake_News| 51539608638| oh added bonus  ...|\n",
       "|lack of leadershi...|        politics|Fake_News| 25769803897|lack leadership  ...|\n",
       "|washington  reute...|    politicsNews|True_News| 94489282035|washington  reute...|\n",
       "|no wonder we ve h...|       left-news|Fake_News| 51539608686|wonder worst demo...|\n",
       "|when you ve never...|            News|Fake_News| 17179871231|never taught figu...|\n",
       "| punishment is no...|       left-news|Fake_News| 42949676097| punishment reven...|\n",
       "|the national park...| Government News|Fake_News| 34359741359|national park ser...|\n",
       "|washington  reute...|    politicsNews|True_News| 85899346137|washington  reute...|\n",
       "|baghdad  reuters ...|       worldnews|True_News|120259084718|baghdad  reuters ...|\n",
       "|paris  reuters   ...|       worldnews|True_News|128849019082|paris  reuters   ...|\n",
       "|the white house p...|        politics|Fake_News| 25769806011|white house publi...|\n",
       "|washington  reute...|    politicsNews|True_News| 68719476986|washington  reute...|\n",
       "|chicago  reuters ...|    politicsNews|True_News| 94489280814|chicago  reuters ...|\n",
       "|washington  reute...|    politicsNews|True_News| 68719476762|washington  reute...|\n",
       "|casper  wyo   reu...|    politicsNews|True_News| 94489282268|casper  wyo   reu...|\n",
       "|washington  reute...|    politicsNews|True_News|103079215208|washington  reute...|\n",
       "|washington  reute...|    politicsNews|True_News| 94489280755|washington  reute...|\n",
       "+--------------------+----------------+---------+------------+--------------------+\n",
       "only showing top 20 rows"
      ]
     },
     "execution_count": 21,
     "metadata": {},
     "output_type": "execute_result"
    }
   ],
   "source": [
    "df_concat = df_concat.drop(\"words\",\"words without stop\")\n",
    "\n",
    "df_concat"
   ]
  },
  {
   "cell_type": "code",
   "execution_count": 22,
   "id": "dff8f3e4-d720-4a7a-b532-e6e8145b71e0",
   "metadata": {},
   "outputs": [
    {
     "data": {
      "text/html": [
       "<table border='1'>\n",
       "<tr><th>subject</th><th>Flag</th><th>id</th><th>text1</th></tr>\n",
       "<tr><td>Government News</td><td>Fake_News</td><td>34359741452</td><td>president trump s...</td></tr>\n",
       "<tr><td>News</td><td>Fake_News</td><td>8589934724</td><td>electoral college...</td></tr>\n",
       "<tr><td>left-news</td><td>Fake_News</td><td>42949675948</td><td> </td></tr>\n",
       "<tr><td> fjs);}(document</td><td>Fake_News</td><td>51539608638</td><td> oh added bonus  ...</td></tr>\n",
       "<tr><td>politics</td><td>Fake_News</td><td>25769803897</td><td>lack leadership  ...</td></tr>\n",
       "<tr><td>politicsNews</td><td>True_News</td><td>94489282035</td><td>washington  reute...</td></tr>\n",
       "<tr><td>left-news</td><td>Fake_News</td><td>51539608686</td><td>wonder worst demo...</td></tr>\n",
       "<tr><td>News</td><td>Fake_News</td><td>17179871231</td><td>never taught figu...</td></tr>\n",
       "<tr><td>left-news</td><td>Fake_News</td><td>42949676097</td><td> punishment reven...</td></tr>\n",
       "<tr><td>Government News</td><td>Fake_News</td><td>34359741359</td><td>national park ser...</td></tr>\n",
       "<tr><td>politicsNews</td><td>True_News</td><td>85899346137</td><td>washington  reute...</td></tr>\n",
       "<tr><td>worldnews</td><td>True_News</td><td>120259084718</td><td>baghdad  reuters ...</td></tr>\n",
       "<tr><td>worldnews</td><td>True_News</td><td>128849019082</td><td>paris  reuters   ...</td></tr>\n",
       "<tr><td>politics</td><td>Fake_News</td><td>25769806011</td><td>white house publi...</td></tr>\n",
       "<tr><td>politicsNews</td><td>True_News</td><td>68719476986</td><td>washington  reute...</td></tr>\n",
       "<tr><td>politicsNews</td><td>True_News</td><td>94489280814</td><td>chicago  reuters ...</td></tr>\n",
       "<tr><td>politicsNews</td><td>True_News</td><td>68719476762</td><td>washington  reute...</td></tr>\n",
       "<tr><td>politicsNews</td><td>True_News</td><td>94489282268</td><td>casper  wyo   reu...</td></tr>\n",
       "<tr><td>politicsNews</td><td>True_News</td><td>103079215208</td><td>washington  reute...</td></tr>\n",
       "<tr><td>politicsNews</td><td>True_News</td><td>94489280755</td><td>washington  reute...</td></tr>\n",
       "</table>\n",
       "only showing top 20 rows\n"
      ],
      "text/plain": [
       "+----------------+---------+------------+--------------------+\n",
       "|         subject|     Flag|          id|               text1|\n",
       "+----------------+---------+------------+--------------------+\n",
       "| Government News|Fake_News| 34359741452|president trump s...|\n",
       "|            News|Fake_News|  8589934724|electoral college...|\n",
       "|       left-news|Fake_News| 42949675948|                    |\n",
       "| fjs);}(document|Fake_News| 51539608638| oh added bonus  ...|\n",
       "|        politics|Fake_News| 25769803897|lack leadership  ...|\n",
       "|    politicsNews|True_News| 94489282035|washington  reute...|\n",
       "|       left-news|Fake_News| 51539608686|wonder worst demo...|\n",
       "|            News|Fake_News| 17179871231|never taught figu...|\n",
       "|       left-news|Fake_News| 42949676097| punishment reven...|\n",
       "| Government News|Fake_News| 34359741359|national park ser...|\n",
       "|    politicsNews|True_News| 85899346137|washington  reute...|\n",
       "|       worldnews|True_News|120259084718|baghdad  reuters ...|\n",
       "|       worldnews|True_News|128849019082|paris  reuters   ...|\n",
       "|        politics|Fake_News| 25769806011|white house publi...|\n",
       "|    politicsNews|True_News| 68719476986|washington  reute...|\n",
       "|    politicsNews|True_News| 94489280814|chicago  reuters ...|\n",
       "|    politicsNews|True_News| 68719476762|washington  reute...|\n",
       "|    politicsNews|True_News| 94489282268|casper  wyo   reu...|\n",
       "|    politicsNews|True_News|103079215208|washington  reute...|\n",
       "|    politicsNews|True_News| 94489280755|washington  reute...|\n",
       "+----------------+---------+------------+--------------------+\n",
       "only showing top 20 rows"
      ]
     },
     "execution_count": 22,
     "metadata": {},
     "output_type": "execute_result"
    }
   ],
   "source": [
    "df_concat = df_concat.drop(\"text\")\n",
    "\n",
    "df_concat"
   ]
  },
  {
   "cell_type": "code",
   "execution_count": 23,
   "id": "fdb5514e-08a1-4445-8cc4-b75470172e9c",
   "metadata": {},
   "outputs": [
    {
     "data": {
      "text/html": [
       "<table border='1'>\n",
       "<tr><th>subject</th><th>Flag</th><th>id</th><th>text</th></tr>\n",
       "<tr><td>Government News</td><td>Fake_News</td><td>34359741452</td><td>president trump s...</td></tr>\n",
       "<tr><td>News</td><td>Fake_News</td><td>8589934724</td><td>electoral college...</td></tr>\n",
       "<tr><td>left-news</td><td>Fake_News</td><td>42949675948</td><td> </td></tr>\n",
       "<tr><td> fjs);}(document</td><td>Fake_News</td><td>51539608638</td><td> oh added bonus  ...</td></tr>\n",
       "<tr><td>politics</td><td>Fake_News</td><td>25769803897</td><td>lack leadership  ...</td></tr>\n",
       "<tr><td>politicsNews</td><td>True_News</td><td>94489282035</td><td>washington  reute...</td></tr>\n",
       "<tr><td>left-news</td><td>Fake_News</td><td>51539608686</td><td>wonder worst demo...</td></tr>\n",
       "<tr><td>News</td><td>Fake_News</td><td>17179871231</td><td>never taught figu...</td></tr>\n",
       "<tr><td>left-news</td><td>Fake_News</td><td>42949676097</td><td> punishment reven...</td></tr>\n",
       "<tr><td>Government News</td><td>Fake_News</td><td>34359741359</td><td>national park ser...</td></tr>\n",
       "<tr><td>politicsNews</td><td>True_News</td><td>85899346137</td><td>washington  reute...</td></tr>\n",
       "<tr><td>worldnews</td><td>True_News</td><td>120259084718</td><td>baghdad  reuters ...</td></tr>\n",
       "<tr><td>worldnews</td><td>True_News</td><td>128849019082</td><td>paris  reuters   ...</td></tr>\n",
       "<tr><td>politics</td><td>Fake_News</td><td>25769806011</td><td>white house publi...</td></tr>\n",
       "<tr><td>politicsNews</td><td>True_News</td><td>68719476986</td><td>washington  reute...</td></tr>\n",
       "<tr><td>politicsNews</td><td>True_News</td><td>94489280814</td><td>chicago  reuters ...</td></tr>\n",
       "<tr><td>politicsNews</td><td>True_News</td><td>68719476762</td><td>washington  reute...</td></tr>\n",
       "<tr><td>politicsNews</td><td>True_News</td><td>94489282268</td><td>casper  wyo   reu...</td></tr>\n",
       "<tr><td>politicsNews</td><td>True_News</td><td>103079215208</td><td>washington  reute...</td></tr>\n",
       "<tr><td>politicsNews</td><td>True_News</td><td>94489280755</td><td>washington  reute...</td></tr>\n",
       "</table>\n",
       "only showing top 20 rows\n"
      ],
      "text/plain": [
       "+----------------+---------+------------+--------------------+\n",
       "|         subject|     Flag|          id|                text|\n",
       "+----------------+---------+------------+--------------------+\n",
       "| Government News|Fake_News| 34359741452|president trump s...|\n",
       "|            News|Fake_News|  8589934724|electoral college...|\n",
       "|       left-news|Fake_News| 42949675948|                    |\n",
       "| fjs);}(document|Fake_News| 51539608638| oh added bonus  ...|\n",
       "|        politics|Fake_News| 25769803897|lack leadership  ...|\n",
       "|    politicsNews|True_News| 94489282035|washington  reute...|\n",
       "|       left-news|Fake_News| 51539608686|wonder worst demo...|\n",
       "|            News|Fake_News| 17179871231|never taught figu...|\n",
       "|       left-news|Fake_News| 42949676097| punishment reven...|\n",
       "| Government News|Fake_News| 34359741359|national park ser...|\n",
       "|    politicsNews|True_News| 85899346137|washington  reute...|\n",
       "|       worldnews|True_News|120259084718|baghdad  reuters ...|\n",
       "|       worldnews|True_News|128849019082|paris  reuters   ...|\n",
       "|        politics|Fake_News| 25769806011|white house publi...|\n",
       "|    politicsNews|True_News| 68719476986|washington  reute...|\n",
       "|    politicsNews|True_News| 94489280814|chicago  reuters ...|\n",
       "|    politicsNews|True_News| 68719476762|washington  reute...|\n",
       "|    politicsNews|True_News| 94489282268|casper  wyo   reu...|\n",
       "|    politicsNews|True_News|103079215208|washington  reute...|\n",
       "|    politicsNews|True_News| 94489280755|washington  reute...|\n",
       "+----------------+---------+------------+--------------------+\n",
       "only showing top 20 rows"
      ]
     },
     "execution_count": 23,
     "metadata": {},
     "output_type": "execute_result"
    }
   ],
   "source": [
    "df_concat = df_concat.withColumnRenamed(\"text1\",\"text\")\n",
    "\n",
    "df_concat"
   ]
  },
  {
   "cell_type": "code",
   "execution_count": 24,
   "id": "9cf03244-bc7f-4ef6-a3ec-7b4df5a07600",
   "metadata": {},
   "outputs": [],
   "source": [
    "# most frequent words in fake news\n",
    "\n",
    "# import pyspark.sql.functions as F\n",
    "\n",
    "# fake_words_freq_df = df_concat.withColumn(\"text\", F.split(\"text\", \" \")) \\\n",
    "#     .groupBy(\"Flag\") \\\n",
    "#     .agg(F.collect_list(F.col(\"text\")).alias(\"text\")) \\\n",
    "#     .withColumn(\"w\", F.array_distinct(F.flatten(\"text\"))) \\\n",
    "#     .withColumn(\"text\", F.array_join(F.expr(\"filter(w, x -> size(filter(text, y -> array_contains(y, x))) = size(text))\"), \" \")) \\\n",
    "#     .drop(\"w\")\n",
    "\n",
    "# fake_words_freq_df"
   ]
  },
  {
   "cell_type": "code",
   "execution_count": 25,
   "id": "a1570119-2933-4882-8287-cb3487a2e343",
   "metadata": {},
   "outputs": [],
   "source": [
    "from nltk import tokenize\n",
    "\n",
    "token_space = tokenize.WhitespaceTokenizer()\n",
    "\n",
    "def counter(text, column_text, quantity):\n",
    "    all_words = ' '.join([text for text in text[column_text]])\n",
    "    token_phrase = token_space.tokenize(all_words)\n",
    "    frequency = nltk.FreqDist(token_phrase)\n",
    "    df_frequency = pd.DataFrame({\"Word\": list(frequency.keys()),\n",
    "                                   \"Frequency\": list(frequency.values())})\n",
    "    df_frequency = df_frequency.nlargest(columns = \"Frequency\", n = quantity)\n",
    "    plt.figure(figsize=(12,8))\n",
    "    ax = sns.barplot(data = df_frequency, x = \"Word\", y = \"Frequency\", color = 'blue')\n",
    "    ax.set(ylabel = \"Count\")\n",
    "    plt.xticks(rotation='vertical')\n",
    "    plt.show()"
   ]
  },
  {
   "cell_type": "code",
   "execution_count": 40,
   "id": "95616b60-10aa-45c6-b99e-a0a6d410afc1",
   "metadata": {},
   "outputs": [
    {
     "name": "stdout",
     "output_type": "stream",
     "text": [
      "+--------------------+\n",
      "|                text|\n",
      "+--------------------+\n",
      "|president trump s...|\n",
      "|electoral college...|\n",
      "|                    |\n",
      "| oh added bonus  ...|\n",
      "|lack leadership  ...|\n",
      "|wonder worst demo...|\n",
      "|never taught figu...|\n",
      "| punishment reven...|\n",
      "|national park ser...|\n",
      "|white house publi...|\n",
      "|sarah palin hear ...|\n",
      "|https   www youtu...|\n",
      "|donald trump obse...|\n",
      "|donald trump hit ...|\n",
      "|hysterical  sadly...|\n",
      "|tune alternate cu...|\n",
      "|hey barack hussei...|\n",
      "| law order candid...|\n",
      "|omarosa manigault...|\n",
      "|one month electio...|\n",
      "+--------------------+\n",
      "only showing top 20 rows\n",
      "\n"
     ]
    }
   ],
   "source": [
    "# most frequent words in fake news\n",
    "\n",
    "df_fake = df_concat.filter(df_concat[\"Flag\"] == \"Fake_News\")\n",
    "\n",
    "df_fake_text = df_fake.select(\"text\")\n",
    "\n",
    "df_fake_text.show()"
   ]
  },
  {
   "cell_type": "code",
   "execution_count": 47,
   "id": "a2d3d3a7-f27c-4b22-bc2c-68b352b849ae",
   "metadata": {},
   "outputs": [
    {
     "name": "stderr",
     "output_type": "stream",
     "text": [
      "[Stage 114:>                                                        (0 + 8) / 8]\r"
     ]
    },
    {
     "name": "stdout",
     "output_type": "stream",
     "text": [
      "+---------+-------+\n",
      "|     word|  count|\n",
      "+---------+-------+\n",
      "|         |1305341|\n",
      "|    trump|  76773|\n",
      "|     said|  32978|\n",
      "|president|  26921|\n",
      "|   people|  25870|\n",
      "|      one|  23900|\n",
      "|    would|  23022|\n",
      "|  clinton|  18660|\n",
      "|    obama|  18344|\n",
      "|     like|  17514|\n",
      "|   donald|  17160|\n",
      "|     also|  15029|\n",
      "|       us|  14363|\n",
      "|     news|  14179|\n",
      "|      new|  14095|\n",
      "|  hillary|  13738|\n",
      "|     even|  13690|\n",
      "|     time|  13493|\n",
      "|    state|  13247|\n",
      "|    white|  12831|\n",
      "+---------+-------+\n",
      "only showing top 20 rows\n",
      "\n"
     ]
    },
    {
     "name": "stderr",
     "output_type": "stream",
     "text": [
      "                                                                                \r"
     ]
    }
   ],
   "source": [
    "from pyspark.sql.functions import explode\n",
    "\n",
    "df_fake_text = df_fake_text\\\n",
    ".withColumn(\"words\", split(col(\"text\"), \" \"))\\\n",
    ".where(length(\"text\")>0)\n",
    "\n",
    "df_freq_fake = df_fake_text\\\n",
    ".select(explode(col(\"words\")).alias(\"word\"))\\\n",
    ".groupBy(\"word\").count()\\\n",
    "\n",
    "df_freq_fake.orderBy(col(\"count\").desc()).show()"
   ]
  },
  {
   "cell_type": "code",
   "execution_count": 48,
   "id": "aa43bcb0-0e44-4533-9908-5e5499720fd1",
   "metadata": {},
   "outputs": [
    {
     "name": "stdout",
     "output_type": "stream",
     "text": [
      "+--------------------+\n",
      "|                text|\n",
      "+--------------------+\n",
      "|washington  reute...|\n",
      "|washington  reute...|\n",
      "|baghdad  reuters ...|\n",
      "|paris  reuters   ...|\n",
      "|washington  reute...|\n",
      "|chicago  reuters ...|\n",
      "|washington  reute...|\n",
      "|casper  wyo   reu...|\n",
      "|washington  reute...|\n",
      "|washington  reute...|\n",
      "| reuters    propo...|\n",
      "|atlanta  reuters ...|\n",
      "|washington  reute...|\n",
      "|washington  reute...|\n",
      "|new york  reuters...|\n",
      "|moscow  reuters  ...|\n",
      "|washington  reute...|\n",
      "|berlin  reuters  ...|\n",
      "|berlin  reuters  ...|\n",
      "|washington  reute...|\n",
      "+--------------------+\n",
      "only showing top 20 rows\n",
      "\n"
     ]
    }
   ],
   "source": [
    "# most frequent words in true news\n",
    "\n",
    "df_true = df_concat.filter(df_concat[\"Flag\"] == \"True_News\")\n",
    "\n",
    "df_true_text = df_true.select(\"text\")\n",
    "\n",
    "df_true_text.show()"
   ]
  },
  {
   "cell_type": "code",
   "execution_count": 49,
   "id": "c1d301e6-6901-4f6d-81bf-43e9d33dbc6a",
   "metadata": {},
   "outputs": [
    {
     "name": "stderr",
     "output_type": "stream",
     "text": [
      "                                                                                \r"
     ]
    },
    {
     "data": {
      "text/html": [
       "<table border='1'>\n",
       "<tr><th>text</th><th>line</th><th>words</th></tr>\n",
       "<tr><td>washington  reute...</td><td>washington  reute...</td><td>[washington, , re...</td></tr>\n",
       "<tr><td>washington  reute...</td><td>washington  reute...</td><td>[washington, , re...</td></tr>\n",
       "<tr><td>baghdad  reuters ...</td><td>baghdad  reuters ...</td><td>[baghdad, , reute...</td></tr>\n",
       "<tr><td>paris  reuters   ...</td><td>paris  reuters   ...</td><td>[paris, , reuters...</td></tr>\n",
       "<tr><td>washington  reute...</td><td>washington  reute...</td><td>[washington, , re...</td></tr>\n",
       "<tr><td>chicago  reuters ...</td><td>chicago  reuters ...</td><td>[chicago, , reute...</td></tr>\n",
       "<tr><td>washington  reute...</td><td>washington  reute...</td><td>[washington, , re...</td></tr>\n",
       "<tr><td>casper  wyo   reu...</td><td>casper  wyo   reu...</td><td>[casper, , wyo, ,...</td></tr>\n",
       "<tr><td>washington  reute...</td><td>washington  reute...</td><td>[washington, , re...</td></tr>\n",
       "<tr><td>washington  reute...</td><td>washington  reute...</td><td>[washington, , re...</td></tr>\n",
       "<tr><td> reuters    propo...</td><td> reuters    propo...</td><td>[, reuters, , , ,...</td></tr>\n",
       "<tr><td>atlanta  reuters ...</td><td>atlanta  reuters ...</td><td>[atlanta, , reute...</td></tr>\n",
       "<tr><td>washington  reute...</td><td>washington  reute...</td><td>[washington, , re...</td></tr>\n",
       "<tr><td>washington  reute...</td><td>washington  reute...</td><td>[washington, , re...</td></tr>\n",
       "<tr><td>new york  reuters...</td><td>new york  reuters...</td><td>[new, york, , reu...</td></tr>\n",
       "<tr><td>moscow  reuters  ...</td><td>moscow  reuters  ...</td><td>[moscow, , reuter...</td></tr>\n",
       "<tr><td>washington  reute...</td><td>washington  reute...</td><td>[washington, , re...</td></tr>\n",
       "<tr><td>berlin  reuters  ...</td><td>berlin  reuters  ...</td><td>[berlin, , reuter...</td></tr>\n",
       "<tr><td>berlin  reuters  ...</td><td>berlin  reuters  ...</td><td>[berlin, , reuter...</td></tr>\n",
       "<tr><td>washington  reute...</td><td>washington  reute...</td><td>[washington, , re...</td></tr>\n",
       "</table>\n",
       "only showing top 20 rows\n"
      ],
      "text/plain": [
       "+--------------------+--------------------+--------------------+\n",
       "|                text|                line|               words|\n",
       "+--------------------+--------------------+--------------------+\n",
       "|washington  reute...|washington  reute...|[washington, , re...|\n",
       "|washington  reute...|washington  reute...|[washington, , re...|\n",
       "|baghdad  reuters ...|baghdad  reuters ...|[baghdad, , reute...|\n",
       "|paris  reuters   ...|paris  reuters   ...|[paris, , reuters...|\n",
       "|washington  reute...|washington  reute...|[washington, , re...|\n",
       "|chicago  reuters ...|chicago  reuters ...|[chicago, , reute...|\n",
       "|washington  reute...|washington  reute...|[washington, , re...|\n",
       "|casper  wyo   reu...|casper  wyo   reu...|[casper, , wyo, ,...|\n",
       "|washington  reute...|washington  reute...|[washington, , re...|\n",
       "|washington  reute...|washington  reute...|[washington, , re...|\n",
       "| reuters    propo...| reuters    propo...|[, reuters, , , ,...|\n",
       "|atlanta  reuters ...|atlanta  reuters ...|[atlanta, , reute...|\n",
       "|washington  reute...|washington  reute...|[washington, , re...|\n",
       "|washington  reute...|washington  reute...|[washington, , re...|\n",
       "|new york  reuters...|new york  reuters...|[new, york, , reu...|\n",
       "|moscow  reuters  ...|moscow  reuters  ...|[moscow, , reuter...|\n",
       "|washington  reute...|washington  reute...|[washington, , re...|\n",
       "|berlin  reuters  ...|berlin  reuters  ...|[berlin, , reuter...|\n",
       "|berlin  reuters  ...|berlin  reuters  ...|[berlin, , reuter...|\n",
       "|washington  reute...|washington  reute...|[washington, , re...|\n",
       "+--------------------+--------------------+--------------------+\n",
       "only showing top 20 rows"
      ]
     },
     "execution_count": 49,
     "metadata": {},
     "output_type": "execute_result"
    }
   ],
   "source": [
    "df_true_text = df_true_text\\\n",
    ".withColumn(\"line\", regexp_replace(lower(col(\"text\")), r\"[^0-9a-z]\", \" \"))\\\n",
    ".withColumn(\"words\", split(col(\"line\"), \" \"))\\\n",
    ".where(length(\"line\")>0)\n",
    "\n",
    "df_true_text"
   ]
  },
  {
   "cell_type": "code",
   "execution_count": null,
   "id": "c8540eb5-1966-4b6f-a4f4-adf4f88c577a",
   "metadata": {},
   "outputs": [],
   "source": []
  }
 ],
 "metadata": {
  "kernelspec": {
   "display_name": "Python 3 (ipykernel)",
   "language": "python",
   "name": "python3"
  },
  "language_info": {
   "codemirror_mode": {
    "name": "ipython",
    "version": 3
   },
   "file_extension": ".py",
   "mimetype": "text/x-python",
   "name": "python",
   "nbconvert_exporter": "python",
   "pygments_lexer": "ipython3",
   "version": "3.9.12"
  }
 },
 "nbformat": 4,
 "nbformat_minor": 5
}
