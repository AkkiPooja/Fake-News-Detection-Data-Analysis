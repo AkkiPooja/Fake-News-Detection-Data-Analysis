{
 "cells": [
  {
   "cell_type": "code",
   "execution_count": 1,
   "id": "12db00c9",
   "metadata": {},
   "outputs": [
    {
     "name": "stderr",
     "output_type": "stream",
     "text": [
      "Setting default log level to \"WARN\".\n",
      "To adjust logging level use sc.setLogLevel(newLevel). For SparkR, use setLogLevel(newLevel).\n"
     ]
    },
    {
     "name": "stdout",
     "output_type": "stream",
     "text": [
      "22/11/28 13:13:38 WARN NativeCodeLoader: Unable to load native-hadoop library for your platform... using builtin-java classes where applicable\n",
      "22/11/28 13:13:39 WARN Utils: Service 'SparkUI' could not bind on port 4040. Attempting port 4041.\n"
     ]
    },
    {
     "name": "stderr",
     "output_type": "stream",
     "text": [
      "/Users/poojaakki/opt/anaconda3/lib/python3.9/site-packages/pyspark/sql/context.py:157: FutureWarning: Deprecated in 3.0.0. Use SparkSession.builder.getOrCreate() instead.\n",
      "  warnings.warn(\n"
     ]
    }
   ],
   "source": [
    "import os\n",
    "import pyspark\n",
    "conf = pyspark.SparkConf()\n",
    "# conf.set('spark.ui.proxyBase'\n",
    "# , '/user/' + os.environ['JUPYTERHUB_USER'] + '/proxy/4041')\n",
    "conf.set('spark.sql.repl.eagerEval.enabled', True)\n",
    "conf.set('spark.driver.memory','4g')\n",
    "sc = pyspark.SparkContext(conf=conf)\n",
    "spark = pyspark.SQLContext.getOrCreate(sc)"
   ]
  },
  {
   "cell_type": "code",
   "execution_count": 61,
   "id": "739eae2e",
   "metadata": {},
   "outputs": [
    {
     "name": "stdout",
     "output_type": "stream",
     "text": [
      "+--------------------+--------------------+-------+-----------------+\n",
      "|               title|                text|subject|             date|\n",
      "+--------------------+--------------------+-------+-----------------+\n",
      "| Donald Trump Sen...|Donald Trump just...|   News|December 31, 2017|\n",
      "| Drunk Bragging T...|House Intelligenc...|   News|December 31, 2017|\n",
      "| Sheriff David Cl...|On Friday, it was...|   News|December 30, 2017|\n",
      "| Trump Is So Obse...|On Christmas day,...|   News|December 29, 2017|\n",
      "| Pope Francis Jus...|Pope Francis used...|   News|December 25, 2017|\n",
      "| Racist Alabama C...|The number of cas...|   News|December 25, 2017|\n",
      "| Fresh Off The Go...|Donald Trump spen...|   News|December 23, 2017|\n",
      "| Trump Said Some ...|In the wake of ye...|   News|December 23, 2017|\n",
      "| Former CIA Direc...|Many people have ...|   News|December 22, 2017|\n",
      "| WATCH: Brand-New...|Just when you mig...|   News|December 21, 2017|\n",
      "| Papa John’s Foun...|A centerpiece of ...|   News|December 21, 2017|\n",
      "| WATCH: Paul Ryan...|Republicans are w...|   News|December 21, 2017|\n",
      "| Bad News For Tru...|Republicans have ...|   News|December 21, 2017|\n",
      "| WATCH: Lindsey G...|The media has bee...|   News|December 20, 2017|\n",
      "| Heiress To Disne...|Abigail Disney is...|   News|December 20, 2017|\n",
      "| Tone Deaf Trump:...|Donald Trump just...|   News|December 20, 2017|\n",
      "| The Internet Bru...|A new animatronic...|   News|December 19, 2017|\n",
      "| Mueller Spokesma...|Trump supporters ...|   News|December 17, 2017|\n",
      "| SNL Hilariously ...|Right now, the wh...|   News|December 17, 2017|\n",
      "| Republican Senat...|Senate Majority W...|   News|December 16, 2017|\n",
      "+--------------------+--------------------+-------+-----------------+\n",
      "only showing top 20 rows\n",
      "\n"
     ]
    }
   ],
   "source": [
    "# Read the csv files from datasets\n",
    "\n",
    "#Fake news\n",
    "df_fake = spark.read.option(\"header\", \"true\").csv(\"/Users/poojaakki/Desktop/projects/Fake-News-Detection-Data-Analysis/datasets/News _dataset/Fake.csv\")\n",
    "df_fake.show()"
   ]
  },
  {
   "cell_type": "code",
   "execution_count": 62,
   "id": "6fdf7c39",
   "metadata": {},
   "outputs": [
    {
     "name": "stdout",
     "output_type": "stream",
     "text": [
      "+--------------------+--------------------+--------------------+------------------+\n",
      "|               title|                text|             subject|              date|\n",
      "+--------------------+--------------------+--------------------+------------------+\n",
      "|As U.S. budget fi...|WASHINGTON (Reute...|        politicsNews|December 31, 2017 |\n",
      "|U.S. military to ...|WASHINGTON (Reute...|        politicsNews|December 29, 2017 |\n",
      "|Senior U.S. Repub...|WASHINGTON (Reute...|        politicsNews|December 31, 2017 |\n",
      "|FBI Russia probe ...|WASHINGTON (Reute...|        politicsNews|December 30, 2017 |\n",
      "|Trump wants Posta...|SEATTLE/WASHINGTO...|        politicsNews|December 29, 2017 |\n",
      "|White House, Cong...|WEST PALM BEACH, ...|        politicsNews|December 29, 2017 |\n",
      "|Trump says Russia...|WEST PALM BEACH, ...|        politicsNews|December 29, 2017 |\n",
      "|Factbox: Trump on...|The following sta...|        politicsNews|December 29, 2017 |\n",
      "|Trump on Twitter ...|The following sta...|        politicsNews|December 29, 2017 |\n",
      "|Alabama official ...|WASHINGTON (Reute...|        politicsNews|December 28, 2017 |\n",
      "|Jones certified U...|(Reuters) - Alaba...|        politicsNews|December 28, 2017 |\n",
      "|New York governor...|NEW YORK/WASHINGT...|        politicsNews|December 28, 2017 |\n",
      "|Factbox: Trump on...|The following sta...|        politicsNews|December 28, 2017 |\n",
      "|Trump on Twitter ...|\"The following st...| Associates Up 83...|      politicsNews|\n",
      "|Man says he deliv...| (In Dec. 25 stor...|        politicsNews|December 25, 2017 |\n",
      "|Virginia official...|(Reuters) - A lot...|        politicsNews|December 27, 2017 |\n",
      "|U.S. lawmakers qu...|WASHINGTON (Reute...|        politicsNews|December 27, 2017 |\n",
      "|Trump on Twitter ...|The following sta...|        politicsNews|December 26, 2017 |\n",
      "|U.S. appeals cour...|(Reuters) - A U.S...|        politicsNews|December 26, 2017 |\n",
      "|Treasury Secretar...|(Reuters) - A gif...|        politicsNews|December 24, 2017 |\n",
      "+--------------------+--------------------+--------------------+------------------+\n",
      "only showing top 20 rows\n",
      "\n"
     ]
    }
   ],
   "source": [
    "#Truth news\n",
    "df_true = spark.read.option(\"header\", \"true\").csv(\"/Users/poojaakki/Desktop/projects/Fake-News-Detection-Data-Analysis/datasets/News _dataset/True.csv\")\n",
    "df_true.show()"
   ]
  },
  {
   "cell_type": "code",
   "execution_count": 63,
   "id": "9eaef2c6",
   "metadata": {},
   "outputs": [
    {
     "name": "stdout",
     "output_type": "stream",
     "text": [
      "(23489, 4)\n",
      "(21417, 4)\n"
     ]
    }
   ],
   "source": [
    "# count of data and the. umber of coloumns\n",
    "print((df_fake.count(), len(df_fake.columns)))\n",
    "print((df_true.count(), len(df_true.columns)))"
   ]
  },
  {
   "cell_type": "code",
   "execution_count": 64,
   "id": "58c30187",
   "metadata": {},
   "outputs": [
    {
     "name": "stdout",
     "output_type": "stream",
     "text": [
      "+--------------------+--------------------+-------+-----------------+---------+\n",
      "|               title|                text|subject|             date|     Flag|\n",
      "+--------------------+--------------------+-------+-----------------+---------+\n",
      "| Donald Trump Sen...|Donald Trump just...|   News|December 31, 2017|Fake_News|\n",
      "| Drunk Bragging T...|House Intelligenc...|   News|December 31, 2017|Fake_News|\n",
      "| Sheriff David Cl...|On Friday, it was...|   News|December 30, 2017|Fake_News|\n",
      "| Trump Is So Obse...|On Christmas day,...|   News|December 29, 2017|Fake_News|\n",
      "| Pope Francis Jus...|Pope Francis used...|   News|December 25, 2017|Fake_News|\n",
      "| Racist Alabama C...|The number of cas...|   News|December 25, 2017|Fake_News|\n",
      "| Fresh Off The Go...|Donald Trump spen...|   News|December 23, 2017|Fake_News|\n",
      "| Trump Said Some ...|In the wake of ye...|   News|December 23, 2017|Fake_News|\n",
      "| Former CIA Direc...|Many people have ...|   News|December 22, 2017|Fake_News|\n",
      "| WATCH: Brand-New...|Just when you mig...|   News|December 21, 2017|Fake_News|\n",
      "| Papa John’s Foun...|A centerpiece of ...|   News|December 21, 2017|Fake_News|\n",
      "| WATCH: Paul Ryan...|Republicans are w...|   News|December 21, 2017|Fake_News|\n",
      "| Bad News For Tru...|Republicans have ...|   News|December 21, 2017|Fake_News|\n",
      "| WATCH: Lindsey G...|The media has bee...|   News|December 20, 2017|Fake_News|\n",
      "| Heiress To Disne...|Abigail Disney is...|   News|December 20, 2017|Fake_News|\n",
      "| Tone Deaf Trump:...|Donald Trump just...|   News|December 20, 2017|Fake_News|\n",
      "| The Internet Bru...|A new animatronic...|   News|December 19, 2017|Fake_News|\n",
      "| Mueller Spokesma...|Trump supporters ...|   News|December 17, 2017|Fake_News|\n",
      "| SNL Hilariously ...|Right now, the wh...|   News|December 17, 2017|Fake_News|\n",
      "| Republican Senat...|Senate Majority W...|   News|December 16, 2017|Fake_News|\n",
      "+--------------------+--------------------+-------+-----------------+---------+\n",
      "only showing top 20 rows\n",
      "\n"
     ]
    }
   ],
   "source": [
    "#Add the column for fake news and also a column for true news\n",
    "from pyspark.sql.functions import lit\n",
    "\n",
    "df_fake = df_fake.withColumn(\"Flag\", lit(\"Fake_News\"))\n",
    "df_fake.show()"
   ]
  },
  {
   "cell_type": "code",
   "execution_count": 65,
   "id": "b48d8968",
   "metadata": {},
   "outputs": [
    {
     "name": "stdout",
     "output_type": "stream",
     "text": [
      "+--------------------+--------------------+--------------------+------------------+---------+\n",
      "|               title|                text|             subject|              date|     Flag|\n",
      "+--------------------+--------------------+--------------------+------------------+---------+\n",
      "|As U.S. budget fi...|WASHINGTON (Reute...|        politicsNews|December 31, 2017 |True_News|\n",
      "|U.S. military to ...|WASHINGTON (Reute...|        politicsNews|December 29, 2017 |True_News|\n",
      "|Senior U.S. Repub...|WASHINGTON (Reute...|        politicsNews|December 31, 2017 |True_News|\n",
      "|FBI Russia probe ...|WASHINGTON (Reute...|        politicsNews|December 30, 2017 |True_News|\n",
      "|Trump wants Posta...|SEATTLE/WASHINGTO...|        politicsNews|December 29, 2017 |True_News|\n",
      "|White House, Cong...|WEST PALM BEACH, ...|        politicsNews|December 29, 2017 |True_News|\n",
      "|Trump says Russia...|WEST PALM BEACH, ...|        politicsNews|December 29, 2017 |True_News|\n",
      "|Factbox: Trump on...|The following sta...|        politicsNews|December 29, 2017 |True_News|\n",
      "|Trump on Twitter ...|The following sta...|        politicsNews|December 29, 2017 |True_News|\n",
      "|Alabama official ...|WASHINGTON (Reute...|        politicsNews|December 28, 2017 |True_News|\n",
      "|Jones certified U...|(Reuters) - Alaba...|        politicsNews|December 28, 2017 |True_News|\n",
      "|New York governor...|NEW YORK/WASHINGT...|        politicsNews|December 28, 2017 |True_News|\n",
      "|Factbox: Trump on...|The following sta...|        politicsNews|December 28, 2017 |True_News|\n",
      "|Trump on Twitter ...|\"The following st...| Associates Up 83...|      politicsNews|True_News|\n",
      "|Man says he deliv...| (In Dec. 25 stor...|        politicsNews|December 25, 2017 |True_News|\n",
      "|Virginia official...|(Reuters) - A lot...|        politicsNews|December 27, 2017 |True_News|\n",
      "|U.S. lawmakers qu...|WASHINGTON (Reute...|        politicsNews|December 27, 2017 |True_News|\n",
      "|Trump on Twitter ...|The following sta...|        politicsNews|December 26, 2017 |True_News|\n",
      "|U.S. appeals cour...|(Reuters) - A U.S...|        politicsNews|December 26, 2017 |True_News|\n",
      "|Treasury Secretar...|(Reuters) - A gif...|        politicsNews|December 24, 2017 |True_News|\n",
      "+--------------------+--------------------+--------------------+------------------+---------+\n",
      "only showing top 20 rows\n",
      "\n"
     ]
    }
   ],
   "source": [
    "df_true = df_true.withColumn(\"Flag\", lit(\"True_News\"))\n",
    "df_true.show()"
   ]
  },
  {
   "cell_type": "code",
   "execution_count": 66,
   "id": "4783d4fb",
   "metadata": {},
   "outputs": [
    {
     "name": "stdout",
     "output_type": "stream",
     "text": [
      "+--------------------+--------------------+-------+-----------------+---------+\n",
      "|               title|                text|subject|             date|     Flag|\n",
      "+--------------------+--------------------+-------+-----------------+---------+\n",
      "| Donald Trump Sen...|Donald Trump just...|   News|December 31, 2017|Fake_News|\n",
      "| Drunk Bragging T...|House Intelligenc...|   News|December 31, 2017|Fake_News|\n",
      "| Sheriff David Cl...|On Friday, it was...|   News|December 30, 2017|Fake_News|\n",
      "| Trump Is So Obse...|On Christmas day,...|   News|December 29, 2017|Fake_News|\n",
      "| Pope Francis Jus...|Pope Francis used...|   News|December 25, 2017|Fake_News|\n",
      "| Racist Alabama C...|The number of cas...|   News|December 25, 2017|Fake_News|\n",
      "| Fresh Off The Go...|Donald Trump spen...|   News|December 23, 2017|Fake_News|\n",
      "| Trump Said Some ...|In the wake of ye...|   News|December 23, 2017|Fake_News|\n",
      "| Former CIA Direc...|Many people have ...|   News|December 22, 2017|Fake_News|\n",
      "| WATCH: Brand-New...|Just when you mig...|   News|December 21, 2017|Fake_News|\n",
      "| Papa John’s Foun...|A centerpiece of ...|   News|December 21, 2017|Fake_News|\n",
      "| WATCH: Paul Ryan...|Republicans are w...|   News|December 21, 2017|Fake_News|\n",
      "| Bad News For Tru...|Republicans have ...|   News|December 21, 2017|Fake_News|\n",
      "| WATCH: Lindsey G...|The media has bee...|   News|December 20, 2017|Fake_News|\n",
      "| Heiress To Disne...|Abigail Disney is...|   News|December 20, 2017|Fake_News|\n",
      "| Tone Deaf Trump:...|Donald Trump just...|   News|December 20, 2017|Fake_News|\n",
      "| The Internet Bru...|A new animatronic...|   News|December 19, 2017|Fake_News|\n",
      "| Mueller Spokesma...|Trump supporters ...|   News|December 17, 2017|Fake_News|\n",
      "| SNL Hilariously ...|Right now, the wh...|   News|December 17, 2017|Fake_News|\n",
      "| Republican Senat...|Senate Majority W...|   News|December 16, 2017|Fake_News|\n",
      "+--------------------+--------------------+-------+-----------------+---------+\n",
      "only showing top 20 rows\n",
      "\n"
     ]
    }
   ],
   "source": [
    "#concat the two tables\n",
    "df_concat = df_fake.unionByName(df_true, allowMissingColumns=True)\n",
    "df_concat.show()"
   ]
  },
  {
   "cell_type": "code",
   "execution_count": 67,
   "id": "2ca7ec2c",
   "metadata": {},
   "outputs": [
    {
     "name": "stdout",
     "output_type": "stream",
     "text": [
      "+--------------------+--------------------+-------+-----------------+---------+---+\n",
      "|               title|                text|subject|             date|     Flag| id|\n",
      "+--------------------+--------------------+-------+-----------------+---------+---+\n",
      "| Donald Trump Sen...|Donald Trump just...|   News|December 31, 2017|Fake_News|  0|\n",
      "| Drunk Bragging T...|House Intelligenc...|   News|December 31, 2017|Fake_News|  1|\n",
      "| Sheriff David Cl...|On Friday, it was...|   News|December 30, 2017|Fake_News|  2|\n",
      "| Trump Is So Obse...|On Christmas day,...|   News|December 29, 2017|Fake_News|  3|\n",
      "| Pope Francis Jus...|Pope Francis used...|   News|December 25, 2017|Fake_News|  4|\n",
      "| Racist Alabama C...|The number of cas...|   News|December 25, 2017|Fake_News|  5|\n",
      "| Fresh Off The Go...|Donald Trump spen...|   News|December 23, 2017|Fake_News|  6|\n",
      "| Trump Said Some ...|In the wake of ye...|   News|December 23, 2017|Fake_News|  7|\n",
      "| Former CIA Direc...|Many people have ...|   News|December 22, 2017|Fake_News|  8|\n",
      "| WATCH: Brand-New...|Just when you mig...|   News|December 21, 2017|Fake_News|  9|\n",
      "| Papa John’s Foun...|A centerpiece of ...|   News|December 21, 2017|Fake_News| 10|\n",
      "| WATCH: Paul Ryan...|Republicans are w...|   News|December 21, 2017|Fake_News| 11|\n",
      "| Bad News For Tru...|Republicans have ...|   News|December 21, 2017|Fake_News| 12|\n",
      "| WATCH: Lindsey G...|The media has bee...|   News|December 20, 2017|Fake_News| 13|\n",
      "| Heiress To Disne...|Abigail Disney is...|   News|December 20, 2017|Fake_News| 14|\n",
      "| Tone Deaf Trump:...|Donald Trump just...|   News|December 20, 2017|Fake_News| 15|\n",
      "| The Internet Bru...|A new animatronic...|   News|December 19, 2017|Fake_News| 16|\n",
      "| Mueller Spokesma...|Trump supporters ...|   News|December 17, 2017|Fake_News| 17|\n",
      "| SNL Hilariously ...|Right now, the wh...|   News|December 17, 2017|Fake_News| 18|\n",
      "| Republican Senat...|Senate Majority W...|   News|December 16, 2017|Fake_News| 19|\n",
      "+--------------------+--------------------+-------+-----------------+---------+---+\n",
      "only showing top 20 rows\n",
      "\n"
     ]
    }
   ],
   "source": [
    "#specifying the row number to each row\n",
    "\n",
    "from pyspark.sql.functions import monotonically_increasing_id \n",
    "\n",
    "df_concat = df_concat.select(\"*\").withColumn(\"id\", monotonically_increasing_id())\n",
    "\n",
    "df_concat.show()"
   ]
  },
  {
   "cell_type": "code",
   "execution_count": 68,
   "id": "e005e429",
   "metadata": {},
   "outputs": [
    {
     "name": "stdout",
     "output_type": "stream",
     "text": [
      "(44906, 6)\n"
     ]
    }
   ],
   "source": [
    "print((df_concat.count(), len(df_concat.columns)))"
   ]
  },
  {
   "cell_type": "code",
   "execution_count": 69,
   "id": "a40c86a2",
   "metadata": {},
   "outputs": [
    {
     "name": "stdout",
     "output_type": "stream",
     "text": [
      "+--------------------+--------------------+------------+-------------------+---------+------------+\n",
      "|               title|                text|     subject|               date|     Flag|          id|\n",
      "+--------------------+--------------------+------------+-------------------+---------+------------+\n",
      "|EPA chief wants s...|WASHINGTON (Reute...|politicsNews|     July 11, 2017 |True_News| 68719479551|\n",
      "|Clinton outpaces ...|WASHINGTON/NEW YO...|politicsNews|     June 16, 2016 |True_News| 94489281463|\n",
      "|DEMOCRATS ARE AFR...|Don t let Hillary...|    politics|       Apr 25, 2016|Fake_News| 34359739457|\n",
      "|Danish minister r...|COPENHAGEN (Reute...|   worldnews|September 26, 2017 |True_News|120259086228|\n",
      "|Brexit with no de...|LONDON (Reuters) ...|   worldnews|  November 7, 2017 |True_News|111669151362|\n",
      "|Flint’s #CrookedM...|Flint s Democrat ...|   left-news|       Sep 14, 2016|Fake_News| 42949676178|\n",
      "|COVER-UP? New Det...|Shawn Helton  21s...|     US_News| September 30, 2016|Fake_News| 51539609947|\n",
      "|Judge blocks prov...|AUSTIN, Texas (Re...|politicsNews|   August 31, 2017 |True_News| 68719478700|\n",
      "| It Sure Looks Li...|The Republican Pa...|        News|      July 25, 2016|Fake_News|  8589936837|\n",
      "| Trump Comes For ...|Donald Trump seem...|        News|    August 10, 2017|Fake_News|         592|\n",
      "| Watch Chris Chri...|Nothing shows a p...|        News|   February 5, 2016|Fake_News| 17179871331|\n",
      "| Trump Says He Do...|A new report from...|        News|      June 18, 2017|Fake_News|        1097|\n",
      "|Black Racists Tri...|Conservative bada...|   left-news|        Jul 6, 2016|Fake_News| 51539607817|\n",
      "| Mississippi Gove...|In a strong south...|        News|       May 13, 2016|Fake_News| 17179869412|\n",
      "|Putin rejects acc...|WASHINGTON/MOSCOW...|politicsNews|  October 12, 2016 |True_News| 85899348149|\n",
      "|Pastor freed from...|(Reuters) - A pas...|politicsNews|  January 20, 2016 |True_News|103079215500|\n",
      "| Trump Continues ...|The relationship ...|        News|   December 4, 2016|Fake_News|  8589935070|\n",
      "|UK says has const...|LONDON (Reuters) ...|   worldnews| November 24, 2017 |True_News|111669149815|\n",
      "|MY FAVORITE EXCUS...|              Enjoy:|    politics|       Apr 17, 2017|Fake_News| 25769805723|\n",
      "|Ultra-Orthodox pr...|JERUSALEM (Reuter...|   worldnews|September 17, 2017 |True_News|120259087048|\n",
      "+--------------------+--------------------+------------+-------------------+---------+------------+\n",
      "only showing top 20 rows\n",
      "\n"
     ]
    }
   ],
   "source": [
    "#### has to randomly shuffle the data\n",
    "import pyspark.sql.functions as F\n",
    "\n",
    "df_concat = df_concat.select(\"*\").orderBy(F.rand())\n",
    "df_concat.show()"
   ]
  },
  {
   "cell_type": "code",
   "execution_count": 70,
   "id": "3c756638",
   "metadata": {},
   "outputs": [
    {
     "data": {
      "text/html": [
       "<table border='1'>\n",
       "<tr><th>title</th><th>text</th><th>subject</th><th>Flag</th><th>id</th></tr>\n",
       "<tr><td>EPA chief wants s...</td><td>WASHINGTON (Reute...</td><td>politicsNews</td><td>True_News</td><td>68719479551</td></tr>\n",
       "<tr><td>Clinton outpaces ...</td><td>WASHINGTON/NEW YO...</td><td>politicsNews</td><td>True_News</td><td>94489281463</td></tr>\n",
       "<tr><td>DEMOCRATS ARE AFR...</td><td>Don t let Hillary...</td><td>politics</td><td>Fake_News</td><td>34359739457</td></tr>\n",
       "<tr><td>Danish minister r...</td><td>COPENHAGEN (Reute...</td><td>worldnews</td><td>True_News</td><td>120259086228</td></tr>\n",
       "<tr><td>Brexit with no de...</td><td>LONDON (Reuters) ...</td><td>worldnews</td><td>True_News</td><td>111669151362</td></tr>\n",
       "<tr><td>Flint’s #CrookedM...</td><td>Flint s Democrat ...</td><td>left-news</td><td>Fake_News</td><td>42949676178</td></tr>\n",
       "<tr><td>COVER-UP? New Det...</td><td>Shawn Helton  21s...</td><td>US_News</td><td>Fake_News</td><td>51539609947</td></tr>\n",
       "<tr><td>Judge blocks prov...</td><td>AUSTIN, Texas (Re...</td><td>politicsNews</td><td>True_News</td><td>68719478700</td></tr>\n",
       "<tr><td> It Sure Looks Li...</td><td>The Republican Pa...</td><td>News</td><td>Fake_News</td><td>8589936837</td></tr>\n",
       "<tr><td> Trump Comes For ...</td><td>Donald Trump seem...</td><td>News</td><td>Fake_News</td><td>592</td></tr>\n",
       "<tr><td> Watch Chris Chri...</td><td>Nothing shows a p...</td><td>News</td><td>Fake_News</td><td>17179871331</td></tr>\n",
       "<tr><td> Trump Says He Do...</td><td>A new report from...</td><td>News</td><td>Fake_News</td><td>1097</td></tr>\n",
       "<tr><td>Black Racists Tri...</td><td>Conservative bada...</td><td>left-news</td><td>Fake_News</td><td>51539607817</td></tr>\n",
       "<tr><td> Mississippi Gove...</td><td>In a strong south...</td><td>News</td><td>Fake_News</td><td>17179869412</td></tr>\n",
       "<tr><td>Putin rejects acc...</td><td>WASHINGTON/MOSCOW...</td><td>politicsNews</td><td>True_News</td><td>85899348149</td></tr>\n",
       "<tr><td>Pastor freed from...</td><td>(Reuters) - A pas...</td><td>politicsNews</td><td>True_News</td><td>103079215500</td></tr>\n",
       "<tr><td> Trump Continues ...</td><td>The relationship ...</td><td>News</td><td>Fake_News</td><td>8589935070</td></tr>\n",
       "<tr><td>UK says has const...</td><td>LONDON (Reuters) ...</td><td>worldnews</td><td>True_News</td><td>111669149815</td></tr>\n",
       "<tr><td>MY FAVORITE EXCUS...</td><td>Enjoy:</td><td>politics</td><td>Fake_News</td><td>25769805723</td></tr>\n",
       "<tr><td>Ultra-Orthodox pr...</td><td>JERUSALEM (Reuter...</td><td>worldnews</td><td>True_News</td><td>120259087048</td></tr>\n",
       "</table>\n",
       "only showing top 20 rows\n"
      ],
      "text/plain": [
       "+--------------------+--------------------+------------+---------+------------+\n",
       "|               title|                text|     subject|     Flag|          id|\n",
       "+--------------------+--------------------+------------+---------+------------+\n",
       "|EPA chief wants s...|WASHINGTON (Reute...|politicsNews|True_News| 68719479551|\n",
       "|Clinton outpaces ...|WASHINGTON/NEW YO...|politicsNews|True_News| 94489281463|\n",
       "|DEMOCRATS ARE AFR...|Don t let Hillary...|    politics|Fake_News| 34359739457|\n",
       "|Danish minister r...|COPENHAGEN (Reute...|   worldnews|True_News|120259086228|\n",
       "|Brexit with no de...|LONDON (Reuters) ...|   worldnews|True_News|111669151362|\n",
       "|Flint’s #CrookedM...|Flint s Democrat ...|   left-news|Fake_News| 42949676178|\n",
       "|COVER-UP? New Det...|Shawn Helton  21s...|     US_News|Fake_News| 51539609947|\n",
       "|Judge blocks prov...|AUSTIN, Texas (Re...|politicsNews|True_News| 68719478700|\n",
       "| It Sure Looks Li...|The Republican Pa...|        News|Fake_News|  8589936837|\n",
       "| Trump Comes For ...|Donald Trump seem...|        News|Fake_News|         592|\n",
       "| Watch Chris Chri...|Nothing shows a p...|        News|Fake_News| 17179871331|\n",
       "| Trump Says He Do...|A new report from...|        News|Fake_News|        1097|\n",
       "|Black Racists Tri...|Conservative bada...|   left-news|Fake_News| 51539607817|\n",
       "| Mississippi Gove...|In a strong south...|        News|Fake_News| 17179869412|\n",
       "|Putin rejects acc...|WASHINGTON/MOSCOW...|politicsNews|True_News| 85899348149|\n",
       "|Pastor freed from...|(Reuters) - A pas...|politicsNews|True_News|103079215500|\n",
       "| Trump Continues ...|The relationship ...|        News|Fake_News|  8589935070|\n",
       "|UK says has const...|LONDON (Reuters) ...|   worldnews|True_News|111669149815|\n",
       "|MY FAVORITE EXCUS...|              Enjoy:|    politics|Fake_News| 25769805723|\n",
       "|Ultra-Orthodox pr...|JERUSALEM (Reuter...|   worldnews|True_News|120259087048|\n",
       "+--------------------+--------------------+------------+---------+------------+\n",
       "only showing top 20 rows"
      ]
     },
     "execution_count": 70,
     "metadata": {},
     "output_type": "execute_result"
    }
   ],
   "source": [
    "# Remove the unwanted coloumn\n",
    "\n",
    "df_concat =  df_concat.drop(df_concat[\"date\"])\n",
    "df_concat"
   ]
  },
  {
   "cell_type": "code",
   "execution_count": 71,
   "id": "143d6976-15d2-4efd-b978-9fc4acb4d543",
   "metadata": {},
   "outputs": [
    {
     "data": {
      "text/html": [
       "<table border='1'>\n",
       "<tr><th>text</th><th>subject</th><th>Flag</th><th>id</th></tr>\n",
       "<tr><td>WASHINGTON (Reute...</td><td>politicsNews</td><td>True_News</td><td>68719479551</td></tr>\n",
       "<tr><td>WASHINGTON/NEW YO...</td><td>politicsNews</td><td>True_News</td><td>94489281463</td></tr>\n",
       "<tr><td>Don t let Hillary...</td><td>politics</td><td>Fake_News</td><td>34359739457</td></tr>\n",
       "<tr><td>COPENHAGEN (Reute...</td><td>worldnews</td><td>True_News</td><td>120259086228</td></tr>\n",
       "<tr><td>LONDON (Reuters) ...</td><td>worldnews</td><td>True_News</td><td>111669151362</td></tr>\n",
       "<tr><td>Flint s Democrat ...</td><td>left-news</td><td>Fake_News</td><td>42949676178</td></tr>\n",
       "<tr><td>Shawn Helton  21s...</td><td>US_News</td><td>Fake_News</td><td>51539609947</td></tr>\n",
       "<tr><td>AUSTIN, Texas (Re...</td><td>politicsNews</td><td>True_News</td><td>68719478700</td></tr>\n",
       "<tr><td>The Republican Pa...</td><td>News</td><td>Fake_News</td><td>8589936837</td></tr>\n",
       "<tr><td>Donald Trump seem...</td><td>News</td><td>Fake_News</td><td>592</td></tr>\n",
       "<tr><td>Nothing shows a p...</td><td>News</td><td>Fake_News</td><td>17179871331</td></tr>\n",
       "<tr><td>A new report from...</td><td>News</td><td>Fake_News</td><td>1097</td></tr>\n",
       "<tr><td>Conservative bada...</td><td>left-news</td><td>Fake_News</td><td>51539607817</td></tr>\n",
       "<tr><td>In a strong south...</td><td>News</td><td>Fake_News</td><td>17179869412</td></tr>\n",
       "<tr><td>WASHINGTON/MOSCOW...</td><td>politicsNews</td><td>True_News</td><td>85899348149</td></tr>\n",
       "<tr><td>(Reuters) - A pas...</td><td>politicsNews</td><td>True_News</td><td>103079215500</td></tr>\n",
       "<tr><td>The relationship ...</td><td>News</td><td>Fake_News</td><td>8589935070</td></tr>\n",
       "<tr><td>LONDON (Reuters) ...</td><td>worldnews</td><td>True_News</td><td>111669149815</td></tr>\n",
       "<tr><td>Enjoy:</td><td>politics</td><td>Fake_News</td><td>25769805723</td></tr>\n",
       "<tr><td>JERUSALEM (Reuter...</td><td>worldnews</td><td>True_News</td><td>120259087048</td></tr>\n",
       "</table>\n",
       "only showing top 20 rows\n"
      ],
      "text/plain": [
       "+--------------------+------------+---------+------------+\n",
       "|                text|     subject|     Flag|          id|\n",
       "+--------------------+------------+---------+------------+\n",
       "|WASHINGTON (Reute...|politicsNews|True_News| 68719479551|\n",
       "|WASHINGTON/NEW YO...|politicsNews|True_News| 94489281463|\n",
       "|Don t let Hillary...|    politics|Fake_News| 34359739457|\n",
       "|COPENHAGEN (Reute...|   worldnews|True_News|120259086228|\n",
       "|LONDON (Reuters) ...|   worldnews|True_News|111669151362|\n",
       "|Flint s Democrat ...|   left-news|Fake_News| 42949676178|\n",
       "|Shawn Helton  21s...|     US_News|Fake_News| 51539609947|\n",
       "|AUSTIN, Texas (Re...|politicsNews|True_News| 68719478700|\n",
       "|The Republican Pa...|        News|Fake_News|  8589936837|\n",
       "|Donald Trump seem...|        News|Fake_News|         592|\n",
       "|Nothing shows a p...|        News|Fake_News| 17179871331|\n",
       "|A new report from...|        News|Fake_News|        1097|\n",
       "|Conservative bada...|   left-news|Fake_News| 51539607817|\n",
       "|In a strong south...|        News|Fake_News| 17179869412|\n",
       "|WASHINGTON/MOSCOW...|politicsNews|True_News| 85899348149|\n",
       "|(Reuters) - A pas...|politicsNews|True_News|103079215500|\n",
       "|The relationship ...|        News|Fake_News|  8589935070|\n",
       "|LONDON (Reuters) ...|   worldnews|True_News|111669149815|\n",
       "|              Enjoy:|    politics|Fake_News| 25769805723|\n",
       "|JERUSALEM (Reuter...|   worldnews|True_News|120259087048|\n",
       "+--------------------+------------+---------+------------+\n",
       "only showing top 20 rows"
      ]
     },
     "execution_count": 71,
     "metadata": {},
     "output_type": "execute_result"
    }
   ],
   "source": [
    "# Remove the title for analysis\n",
    "\n",
    "df_concat =  df_concat.drop(df_concat[\"title\"])\n",
    "df_concat"
   ]
  },
  {
   "cell_type": "code",
   "execution_count": 72,
   "id": "c3d34b0b-410c-4a2b-ab7b-780baf0353cb",
   "metadata": {},
   "outputs": [
    {
     "name": "stderr",
     "output_type": "stream",
     "text": [
      "                                                                                \r"
     ]
    },
    {
     "data": {
      "text/html": [
       "<table border='1'>\n",
       "<tr><th>text</th><th>subject</th><th>Flag</th><th>id</th></tr>\n",
       "<tr><td>washington  reute...</td><td>politicsNews</td><td>True_News</td><td>68719479551</td></tr>\n",
       "<tr><td>washington new yo...</td><td>politicsNews</td><td>True_News</td><td>94489281463</td></tr>\n",
       "<tr><td>don t let hillary...</td><td>politics</td><td>Fake_News</td><td>34359739457</td></tr>\n",
       "<tr><td>copenhagen  reute...</td><td>worldnews</td><td>True_News</td><td>120259086228</td></tr>\n",
       "<tr><td>london  reuters  ...</td><td>worldnews</td><td>True_News</td><td>111669151362</td></tr>\n",
       "<tr><td>flint s democrat ...</td><td>left-news</td><td>Fake_News</td><td>42949676178</td></tr>\n",
       "<tr><td>shawn helton  21s...</td><td>US_News</td><td>Fake_News</td><td>51539609947</td></tr>\n",
       "<tr><td>austin  texas  re...</td><td>politicsNews</td><td>True_News</td><td>68719478700</td></tr>\n",
       "<tr><td>the republican pa...</td><td>News</td><td>Fake_News</td><td>8589936837</td></tr>\n",
       "<tr><td>donald trump seem...</td><td>News</td><td>Fake_News</td><td>592</td></tr>\n",
       "<tr><td>nothing shows a p...</td><td>News</td><td>Fake_News</td><td>17179871331</td></tr>\n",
       "<tr><td>a new report from...</td><td>News</td><td>Fake_News</td><td>1097</td></tr>\n",
       "<tr><td>conservative bada...</td><td>left-news</td><td>Fake_News</td><td>51539607817</td></tr>\n",
       "<tr><td>in a strong south...</td><td>News</td><td>Fake_News</td><td>17179869412</td></tr>\n",
       "<tr><td>washington moscow...</td><td>politicsNews</td><td>True_News</td><td>85899348149</td></tr>\n",
       "<tr><td> reuters    a pas...</td><td>politicsNews</td><td>True_News</td><td>103079215500</td></tr>\n",
       "<tr><td>the relationship ...</td><td>News</td><td>Fake_News</td><td>8589935070</td></tr>\n",
       "<tr><td>london  reuters  ...</td><td>worldnews</td><td>True_News</td><td>111669149815</td></tr>\n",
       "<tr><td>enjoy </td><td>politics</td><td>Fake_News</td><td>25769805723</td></tr>\n",
       "<tr><td>jerusalem  reuter...</td><td>worldnews</td><td>True_News</td><td>120259087048</td></tr>\n",
       "</table>\n",
       "only showing top 20 rows\n"
      ],
      "text/plain": [
       "+--------------------+------------+---------+------------+\n",
       "|                text|     subject|     Flag|          id|\n",
       "+--------------------+------------+---------+------------+\n",
       "|washington  reute...|politicsNews|True_News| 68719479551|\n",
       "|washington new yo...|politicsNews|True_News| 94489281463|\n",
       "|don t let hillary...|    politics|Fake_News| 34359739457|\n",
       "|copenhagen  reute...|   worldnews|True_News|120259086228|\n",
       "|london  reuters  ...|   worldnews|True_News|111669151362|\n",
       "|flint s democrat ...|   left-news|Fake_News| 42949676178|\n",
       "|shawn helton  21s...|     US_News|Fake_News| 51539609947|\n",
       "|austin  texas  re...|politicsNews|True_News| 68719478700|\n",
       "|the republican pa...|        News|Fake_News|  8589936837|\n",
       "|donald trump seem...|        News|Fake_News|         592|\n",
       "|nothing shows a p...|        News|Fake_News| 17179871331|\n",
       "|a new report from...|        News|Fake_News|        1097|\n",
       "|conservative bada...|   left-news|Fake_News| 51539607817|\n",
       "|in a strong south...|        News|Fake_News| 17179869412|\n",
       "|washington moscow...|politicsNews|True_News| 85899348149|\n",
       "| reuters    a pas...|politicsNews|True_News|103079215500|\n",
       "|the relationship ...|        News|Fake_News|  8589935070|\n",
       "|london  reuters  ...|   worldnews|True_News|111669149815|\n",
       "|              enjoy |    politics|Fake_News| 25769805723|\n",
       "|jerusalem  reuter...|   worldnews|True_News|120259087048|\n",
       "+--------------------+------------+---------+------------+\n",
       "only showing top 20 rows"
      ]
     },
     "execution_count": 72,
     "metadata": {},
     "output_type": "execute_result"
    }
   ],
   "source": [
    "# In order to avaoid the confusion convert everything to lowercase\n",
    "from pyspark.sql.functions import col, split, lower, regexp_replace, length\n",
    "\n",
    "df_concat = df_concat\\\n",
    ".withColumn(\"text\", regexp_replace(lower(col(\"text\")), r\"[^0-9a-z]\", \" \"))\\\n",
    ".where(length(\"text\")>0)\n",
    "\n",
    "df_concat"
   ]
  },
  {
   "cell_type": "code",
   "execution_count": 73,
   "id": "c24daf05-c26c-44cd-945c-68735ef5031b",
   "metadata": {},
   "outputs": [
    {
     "name": "stderr",
     "output_type": "stream",
     "text": [
      "[nltk_data] Downloading package stopwords to\n",
      "[nltk_data]     /Users/poojaakki/nltk_data...\n",
      "[nltk_data]   Package stopwords is already up-to-date!\n"
     ]
    }
   ],
   "source": [
    "# remove stop words from it\n",
    "import nltk\n",
    "nltk.download('stopwords')\n",
    "from nltk.corpus import stopwords\n",
    "stop = stopwords.words('english')\n",
    "\n"
   ]
  },
  {
   "cell_type": "code",
   "execution_count": 79,
   "id": "80b547ef-f09f-41db-84b0-99982929cf87",
   "metadata": {},
   "outputs": [
    {
     "name": "stderr",
     "output_type": "stream",
     "text": [
      "                                                                                \r"
     ]
    },
    {
     "data": {
      "text/html": [
       "<table border='1'>\n",
       "<tr><th>text</th><th>subject</th><th>Flag</th><th>id</th><th>words</th></tr>\n",
       "<tr><td>washington  reute...</td><td>politicsNews</td><td>True_News</td><td>68719479551</td><td>[washington, , re...</td></tr>\n",
       "<tr><td>washington new yo...</td><td>politicsNews</td><td>True_News</td><td>94489281463</td><td>[washington, new,...</td></tr>\n",
       "<tr><td>don t let hillary...</td><td>politics</td><td>Fake_News</td><td>34359739457</td><td>[don, t, let, hil...</td></tr>\n",
       "<tr><td>copenhagen  reute...</td><td>worldnews</td><td>True_News</td><td>120259086228</td><td>[copenhagen, , re...</td></tr>\n",
       "<tr><td>london  reuters  ...</td><td>worldnews</td><td>True_News</td><td>111669151362</td><td>[london, , reuter...</td></tr>\n",
       "<tr><td>flint s democrat ...</td><td>left-news</td><td>Fake_News</td><td>42949676178</td><td>[flint, s, democr...</td></tr>\n",
       "<tr><td>shawn helton  21s...</td><td>US_News</td><td>Fake_News</td><td>51539609947</td><td>[shawn, helton, ,...</td></tr>\n",
       "<tr><td>austin  texas  re...</td><td>politicsNews</td><td>True_News</td><td>68719478700</td><td>[austin, , texas,...</td></tr>\n",
       "<tr><td>the republican pa...</td><td>News</td><td>Fake_News</td><td>8589936837</td><td>[the, republican,...</td></tr>\n",
       "<tr><td>donald trump seem...</td><td>News</td><td>Fake_News</td><td>592</td><td>[donald, trump, s...</td></tr>\n",
       "<tr><td>nothing shows a p...</td><td>News</td><td>Fake_News</td><td>17179871331</td><td>[nothing, shows, ...</td></tr>\n",
       "<tr><td>a new report from...</td><td>News</td><td>Fake_News</td><td>1097</td><td>[a, new, report, ...</td></tr>\n",
       "<tr><td>conservative bada...</td><td>left-news</td><td>Fake_News</td><td>51539607817</td><td>[conservative, ba...</td></tr>\n",
       "<tr><td>in a strong south...</td><td>News</td><td>Fake_News</td><td>17179869412</td><td>[in, a, strong, s...</td></tr>\n",
       "<tr><td>washington moscow...</td><td>politicsNews</td><td>True_News</td><td>85899348149</td><td>[washington, mosc...</td></tr>\n",
       "<tr><td> reuters    a pas...</td><td>politicsNews</td><td>True_News</td><td>103079215500</td><td>[, reuters, , , ,...</td></tr>\n",
       "<tr><td>the relationship ...</td><td>News</td><td>Fake_News</td><td>8589935070</td><td>[the, relationshi...</td></tr>\n",
       "<tr><td>london  reuters  ...</td><td>worldnews</td><td>True_News</td><td>111669149815</td><td>[london, , reuter...</td></tr>\n",
       "<tr><td>enjoy </td><td>politics</td><td>Fake_News</td><td>25769805723</td><td>[enjoy, ]</td></tr>\n",
       "<tr><td>jerusalem  reuter...</td><td>worldnews</td><td>True_News</td><td>120259087048</td><td>[jerusalem, , reu...</td></tr>\n",
       "</table>\n",
       "only showing top 20 rows\n"
      ],
      "text/plain": [
       "+--------------------+------------+---------+------------+--------------------+\n",
       "|                text|     subject|     Flag|          id|               words|\n",
       "+--------------------+------------+---------+------------+--------------------+\n",
       "|washington  reute...|politicsNews|True_News| 68719479551|[washington, , re...|\n",
       "|washington new yo...|politicsNews|True_News| 94489281463|[washington, new,...|\n",
       "|don t let hillary...|    politics|Fake_News| 34359739457|[don, t, let, hil...|\n",
       "|copenhagen  reute...|   worldnews|True_News|120259086228|[copenhagen, , re...|\n",
       "|london  reuters  ...|   worldnews|True_News|111669151362|[london, , reuter...|\n",
       "|flint s democrat ...|   left-news|Fake_News| 42949676178|[flint, s, democr...|\n",
       "|shawn helton  21s...|     US_News|Fake_News| 51539609947|[shawn, helton, ,...|\n",
       "|austin  texas  re...|politicsNews|True_News| 68719478700|[austin, , texas,...|\n",
       "|the republican pa...|        News|Fake_News|  8589936837|[the, republican,...|\n",
       "|donald trump seem...|        News|Fake_News|         592|[donald, trump, s...|\n",
       "|nothing shows a p...|        News|Fake_News| 17179871331|[nothing, shows, ...|\n",
       "|a new report from...|        News|Fake_News|        1097|[a, new, report, ...|\n",
       "|conservative bada...|   left-news|Fake_News| 51539607817|[conservative, ba...|\n",
       "|in a strong south...|        News|Fake_News| 17179869412|[in, a, strong, s...|\n",
       "|washington moscow...|politicsNews|True_News| 85899348149|[washington, mosc...|\n",
       "| reuters    a pas...|politicsNews|True_News|103079215500|[, reuters, , , ,...|\n",
       "|the relationship ...|        News|Fake_News|  8589935070|[the, relationshi...|\n",
       "|london  reuters  ...|   worldnews|True_News|111669149815|[london, , reuter...|\n",
       "|              enjoy |    politics|Fake_News| 25769805723|           [enjoy, ]|\n",
       "|jerusalem  reuter...|   worldnews|True_News|120259087048|[jerusalem, , reu...|\n",
       "+--------------------+------------+---------+------------+--------------------+\n",
       "only showing top 20 rows"
      ]
     },
     "execution_count": 79,
     "metadata": {},
     "output_type": "execute_result"
    }
   ],
   "source": [
    "df_concat = df_concat.withColumn('words',F.split(F.col('text'),' '))\n",
    "df_concat"
   ]
  },
  {
   "cell_type": "code",
   "execution_count": 80,
   "id": "52299c32-7650-4396-a7b6-d8bb8f28d834",
   "metadata": {},
   "outputs": [],
   "source": [
    "from pyspark.ml.feature import StopWordsRemover \n",
    "\n",
    "stopwordsRemovalFeature = StopWordsRemover(inputCol=\"words\", \n",
    "                   outputCol=\"words without stop\").setStopWords(stop)"
   ]
  },
  {
   "cell_type": "code",
   "execution_count": 81,
   "id": "9477e023-a186-4f32-98f1-d3dba1c2368e",
   "metadata": {},
   "outputs": [],
   "source": [
    "from pyspark.ml import Pipeline\n",
    "\n",
    "stopWordRemovalPipeline = Pipeline(stages=[stopwordsRemovalFeature])\n",
    "pipelineFitRemoveStopWords = stopWordRemovalPipeline.fit(df_concat)"
   ]
  },
  {
   "cell_type": "code",
   "execution_count": 82,
   "id": "8e3e66d4-0ec4-4222-b7a0-f9d34162431c",
   "metadata": {},
   "outputs": [],
   "source": [
    "df_concat = pipelineFitRemoveStopWords.transform(df_concat)"
   ]
  },
  {
   "cell_type": "code",
   "execution_count": 83,
   "id": "4e0ad9f1-2d7a-401f-81d9-c80c23d6c698",
   "metadata": {},
   "outputs": [
    {
     "name": "stderr",
     "output_type": "stream",
     "text": [
      "                                                                                \r"
     ]
    },
    {
     "data": {
      "text/html": [
       "<table border='1'>\n",
       "<tr><th>text</th><th>subject</th><th>Flag</th><th>id</th><th>words</th><th>words without stop</th></tr>\n",
       "<tr><td>washington  reute...</td><td>politicsNews</td><td>True_News</td><td>68719479551</td><td>[washington, , re...</td><td>[washington, , re...</td></tr>\n",
       "<tr><td>washington new yo...</td><td>politicsNews</td><td>True_News</td><td>94489281463</td><td>[washington, new,...</td><td>[washington, new,...</td></tr>\n",
       "<tr><td>don t let hillary...</td><td>politics</td><td>Fake_News</td><td>34359739457</td><td>[don, t, let, hil...</td><td>[let, hillary, ch...</td></tr>\n",
       "<tr><td>copenhagen  reute...</td><td>worldnews</td><td>True_News</td><td>120259086228</td><td>[copenhagen, , re...</td><td>[copenhagen, , re...</td></tr>\n",
       "<tr><td>london  reuters  ...</td><td>worldnews</td><td>True_News</td><td>111669151362</td><td>[london, , reuter...</td><td>[london, , reuter...</td></tr>\n",
       "<tr><td>flint s democrat ...</td><td>left-news</td><td>Fake_News</td><td>42949676178</td><td>[flint, s, democr...</td><td>[flint, democrat,...</td></tr>\n",
       "<tr><td>shawn helton  21s...</td><td>US_News</td><td>Fake_News</td><td>51539609947</td><td>[shawn, helton, ,...</td><td>[shawn, helton, ,...</td></tr>\n",
       "<tr><td>austin  texas  re...</td><td>politicsNews</td><td>True_News</td><td>68719478700</td><td>[austin, , texas,...</td><td>[austin, , texas,...</td></tr>\n",
       "<tr><td>the republican pa...</td><td>News</td><td>Fake_News</td><td>8589936837</td><td>[the, republican,...</td><td>[republican, part...</td></tr>\n",
       "<tr><td>donald trump seem...</td><td>News</td><td>Fake_News</td><td>592</td><td>[donald, trump, s...</td><td>[donald, trump, s...</td></tr>\n",
       "<tr><td>nothing shows a p...</td><td>News</td><td>Fake_News</td><td>17179871331</td><td>[nothing, shows, ...</td><td>[nothing, shows, ...</td></tr>\n",
       "<tr><td>a new report from...</td><td>News</td><td>Fake_News</td><td>1097</td><td>[a, new, report, ...</td><td>[new, report, new...</td></tr>\n",
       "<tr><td>conservative bada...</td><td>left-news</td><td>Fake_News</td><td>51539607817</td><td>[conservative, ba...</td><td>[conservative, ba...</td></tr>\n",
       "<tr><td>in a strong south...</td><td>News</td><td>Fake_News</td><td>17179869412</td><td>[in, a, strong, s...</td><td>[strong, southern...</td></tr>\n",
       "<tr><td>washington moscow...</td><td>politicsNews</td><td>True_News</td><td>85899348149</td><td>[washington, mosc...</td><td>[washington, mosc...</td></tr>\n",
       "<tr><td> reuters    a pas...</td><td>politicsNews</td><td>True_News</td><td>103079215500</td><td>[, reuters, , , ,...</td><td>[, reuters, , , ,...</td></tr>\n",
       "<tr><td>the relationship ...</td><td>News</td><td>Fake_News</td><td>8589935070</td><td>[the, relationshi...</td><td>[relationship, un...</td></tr>\n",
       "<tr><td>london  reuters  ...</td><td>worldnews</td><td>True_News</td><td>111669149815</td><td>[london, , reuter...</td><td>[london, , reuter...</td></tr>\n",
       "<tr><td>enjoy </td><td>politics</td><td>Fake_News</td><td>25769805723</td><td>[enjoy, ]</td><td>[enjoy, ]</td></tr>\n",
       "<tr><td>jerusalem  reuter...</td><td>worldnews</td><td>True_News</td><td>120259087048</td><td>[jerusalem, , reu...</td><td>[jerusalem, , reu...</td></tr>\n",
       "</table>\n",
       "only showing top 20 rows\n"
      ],
      "text/plain": [
       "+--------------------+------------+---------+------------+--------------------+--------------------+\n",
       "|                text|     subject|     Flag|          id|               words|  words without stop|\n",
       "+--------------------+------------+---------+------------+--------------------+--------------------+\n",
       "|washington  reute...|politicsNews|True_News| 68719479551|[washington, , re...|[washington, , re...|\n",
       "|washington new yo...|politicsNews|True_News| 94489281463|[washington, new,...|[washington, new,...|\n",
       "|don t let hillary...|    politics|Fake_News| 34359739457|[don, t, let, hil...|[let, hillary, ch...|\n",
       "|copenhagen  reute...|   worldnews|True_News|120259086228|[copenhagen, , re...|[copenhagen, , re...|\n",
       "|london  reuters  ...|   worldnews|True_News|111669151362|[london, , reuter...|[london, , reuter...|\n",
       "|flint s democrat ...|   left-news|Fake_News| 42949676178|[flint, s, democr...|[flint, democrat,...|\n",
       "|shawn helton  21s...|     US_News|Fake_News| 51539609947|[shawn, helton, ,...|[shawn, helton, ,...|\n",
       "|austin  texas  re...|politicsNews|True_News| 68719478700|[austin, , texas,...|[austin, , texas,...|\n",
       "|the republican pa...|        News|Fake_News|  8589936837|[the, republican,...|[republican, part...|\n",
       "|donald trump seem...|        News|Fake_News|         592|[donald, trump, s...|[donald, trump, s...|\n",
       "|nothing shows a p...|        News|Fake_News| 17179871331|[nothing, shows, ...|[nothing, shows, ...|\n",
       "|a new report from...|        News|Fake_News|        1097|[a, new, report, ...|[new, report, new...|\n",
       "|conservative bada...|   left-news|Fake_News| 51539607817|[conservative, ba...|[conservative, ba...|\n",
       "|in a strong south...|        News|Fake_News| 17179869412|[in, a, strong, s...|[strong, southern...|\n",
       "|washington moscow...|politicsNews|True_News| 85899348149|[washington, mosc...|[washington, mosc...|\n",
       "| reuters    a pas...|politicsNews|True_News|103079215500|[, reuters, , , ,...|[, reuters, , , ,...|\n",
       "|the relationship ...|        News|Fake_News|  8589935070|[the, relationshi...|[relationship, un...|\n",
       "|london  reuters  ...|   worldnews|True_News|111669149815|[london, , reuter...|[london, , reuter...|\n",
       "|              enjoy |    politics|Fake_News| 25769805723|           [enjoy, ]|           [enjoy, ]|\n",
       "|jerusalem  reuter...|   worldnews|True_News|120259087048|[jerusalem, , reu...|[jerusalem, , reu...|\n",
       "+--------------------+------------+---------+------------+--------------------+--------------------+\n",
       "only showing top 20 rows"
      ]
     },
     "execution_count": 83,
     "metadata": {},
     "output_type": "execute_result"
    }
   ],
   "source": [
    "df_concat"
   ]
  },
  {
   "cell_type": "code",
   "execution_count": 89,
   "id": "07f34f6a-f560-4491-8291-818317c57c67",
   "metadata": {},
   "outputs": [
    {
     "name": "stderr",
     "output_type": "stream",
     "text": [
      "                                                                                \r"
     ]
    },
    {
     "data": {
      "text/html": [
       "<table border='1'>\n",
       "<tr><th>text</th><th>subject</th><th>Flag</th><th>id</th><th>words</th><th>words without stop</th><th>text1</th></tr>\n",
       "<tr><td>washington  reute...</td><td>politicsNews</td><td>True_News</td><td>68719479551</td><td>[washington, , re...</td><td>[washington, , re...</td><td>washington  reute...</td></tr>\n",
       "<tr><td>washington new yo...</td><td>politicsNews</td><td>True_News</td><td>94489281463</td><td>[washington, new,...</td><td>[washington, new,...</td><td>washington new yo...</td></tr>\n",
       "<tr><td>don t let hillary...</td><td>politics</td><td>Fake_News</td><td>34359739457</td><td>[don, t, let, hil...</td><td>[let, hillary, ch...</td><td>let hillary cheer...</td></tr>\n",
       "<tr><td>copenhagen  reute...</td><td>worldnews</td><td>True_News</td><td>120259086228</td><td>[copenhagen, , re...</td><td>[copenhagen, , re...</td><td>copenhagen  reute...</td></tr>\n",
       "<tr><td>london  reuters  ...</td><td>worldnews</td><td>True_News</td><td>111669151362</td><td>[london, , reuter...</td><td>[london, , reuter...</td><td>london  reuters  ...</td></tr>\n",
       "<tr><td>flint s democrat ...</td><td>left-news</td><td>Fake_News</td><td>42949676178</td><td>[flint, s, democr...</td><td>[flint, democrat,...</td><td>flint democrat ma...</td></tr>\n",
       "<tr><td>shawn helton  21s...</td><td>US_News</td><td>Fake_News</td><td>51539609947</td><td>[shawn, helton, ,...</td><td>[shawn, helton, ,...</td><td>shawn helton  21s...</td></tr>\n",
       "<tr><td>austin  texas  re...</td><td>politicsNews</td><td>True_News</td><td>68719478700</td><td>[austin, , texas,...</td><td>[austin, , texas,...</td><td>austin  texas  re...</td></tr>\n",
       "<tr><td>the republican pa...</td><td>News</td><td>Fake_News</td><td>8589936837</td><td>[the, republican,...</td><td>[republican, part...</td><td>republican party ...</td></tr>\n",
       "<tr><td>donald trump seem...</td><td>News</td><td>Fake_News</td><td>592</td><td>[donald, trump, s...</td><td>[donald, trump, s...</td><td>donald trump seem...</td></tr>\n",
       "<tr><td>nothing shows a p...</td><td>News</td><td>Fake_News</td><td>17179871331</td><td>[nothing, shows, ...</td><td>[nothing, shows, ...</td><td>nothing shows per...</td></tr>\n",
       "<tr><td>a new report from...</td><td>News</td><td>Fake_News</td><td>1097</td><td>[a, new, report, ...</td><td>[new, report, new...</td><td>new report new yo...</td></tr>\n",
       "<tr><td>conservative bada...</td><td>left-news</td><td>Fake_News</td><td>51539607817</td><td>[conservative, ba...</td><td>[conservative, ba...</td><td>conservative bada...</td></tr>\n",
       "<tr><td>in a strong south...</td><td>News</td><td>Fake_News</td><td>17179869412</td><td>[in, a, strong, s...</td><td>[strong, southern...</td><td>strong southern d...</td></tr>\n",
       "<tr><td>washington moscow...</td><td>politicsNews</td><td>True_News</td><td>85899348149</td><td>[washington, mosc...</td><td>[washington, mosc...</td><td>washington moscow...</td></tr>\n",
       "<tr><td> reuters    a pas...</td><td>politicsNews</td><td>True_News</td><td>103079215500</td><td>[, reuters, , , ,...</td><td>[, reuters, , , ,...</td><td> reuters    pasto...</td></tr>\n",
       "<tr><td>the relationship ...</td><td>News</td><td>Fake_News</td><td>8589935070</td><td>[the, relationshi...</td><td>[relationship, un...</td><td>relationship unit...</td></tr>\n",
       "<tr><td>london  reuters  ...</td><td>worldnews</td><td>True_News</td><td>111669149815</td><td>[london, , reuter...</td><td>[london, , reuter...</td><td>london  reuters  ...</td></tr>\n",
       "<tr><td>enjoy </td><td>politics</td><td>Fake_News</td><td>25769805723</td><td>[enjoy, ]</td><td>[enjoy, ]</td><td>enjoy </td></tr>\n",
       "<tr><td>jerusalem  reuter...</td><td>worldnews</td><td>True_News</td><td>120259087048</td><td>[jerusalem, , reu...</td><td>[jerusalem, , reu...</td><td>jerusalem  reuter...</td></tr>\n",
       "</table>\n",
       "only showing top 20 rows\n"
      ],
      "text/plain": [
       "+--------------------+------------+---------+------------+--------------------+--------------------+--------------------+\n",
       "|                text|     subject|     Flag|          id|               words|  words without stop|               text1|\n",
       "+--------------------+------------+---------+------------+--------------------+--------------------+--------------------+\n",
       "|washington  reute...|politicsNews|True_News| 68719479551|[washington, , re...|[washington, , re...|washington  reute...|\n",
       "|washington new yo...|politicsNews|True_News| 94489281463|[washington, new,...|[washington, new,...|washington new yo...|\n",
       "|don t let hillary...|    politics|Fake_News| 34359739457|[don, t, let, hil...|[let, hillary, ch...|let hillary cheer...|\n",
       "|copenhagen  reute...|   worldnews|True_News|120259086228|[copenhagen, , re...|[copenhagen, , re...|copenhagen  reute...|\n",
       "|london  reuters  ...|   worldnews|True_News|111669151362|[london, , reuter...|[london, , reuter...|london  reuters  ...|\n",
       "|flint s democrat ...|   left-news|Fake_News| 42949676178|[flint, s, democr...|[flint, democrat,...|flint democrat ma...|\n",
       "|shawn helton  21s...|     US_News|Fake_News| 51539609947|[shawn, helton, ,...|[shawn, helton, ,...|shawn helton  21s...|\n",
       "|austin  texas  re...|politicsNews|True_News| 68719478700|[austin, , texas,...|[austin, , texas,...|austin  texas  re...|\n",
       "|the republican pa...|        News|Fake_News|  8589936837|[the, republican,...|[republican, part...|republican party ...|\n",
       "|donald trump seem...|        News|Fake_News|         592|[donald, trump, s...|[donald, trump, s...|donald trump seem...|\n",
       "|nothing shows a p...|        News|Fake_News| 17179871331|[nothing, shows, ...|[nothing, shows, ...|nothing shows per...|\n",
       "|a new report from...|        News|Fake_News|        1097|[a, new, report, ...|[new, report, new...|new report new yo...|\n",
       "|conservative bada...|   left-news|Fake_News| 51539607817|[conservative, ba...|[conservative, ba...|conservative bada...|\n",
       "|in a strong south...|        News|Fake_News| 17179869412|[in, a, strong, s...|[strong, southern...|strong southern d...|\n",
       "|washington moscow...|politicsNews|True_News| 85899348149|[washington, mosc...|[washington, mosc...|washington moscow...|\n",
       "| reuters    a pas...|politicsNews|True_News|103079215500|[, reuters, , , ,...|[, reuters, , , ,...| reuters    pasto...|\n",
       "|the relationship ...|        News|Fake_News|  8589935070|[the, relationshi...|[relationship, un...|relationship unit...|\n",
       "|london  reuters  ...|   worldnews|True_News|111669149815|[london, , reuter...|[london, , reuter...|london  reuters  ...|\n",
       "|              enjoy |    politics|Fake_News| 25769805723|           [enjoy, ]|           [enjoy, ]|              enjoy |\n",
       "|jerusalem  reuter...|   worldnews|True_News|120259087048|[jerusalem, , reu...|[jerusalem, , reu...|jerusalem  reuter...|\n",
       "+--------------------+------------+---------+------------+--------------------+--------------------+--------------------+\n",
       "only showing top 20 rows"
      ]
     },
     "execution_count": 89,
     "metadata": {},
     "output_type": "execute_result"
    }
   ],
   "source": [
    "# convert array of strings to strings\n",
    "from pyspark.sql.functions import concat_ws\n",
    "\n",
    "df_concat = df_concat.withColumn(\"text1\", concat_ws(\" \", df_concat[\"words without stop\"]))\n",
    "df_concat"
   ]
  },
  {
   "cell_type": "code",
   "execution_count": 91,
   "id": "d71dafa7-c5c3-4325-9ed6-169a0cd57036",
   "metadata": {},
   "outputs": [
    {
     "name": "stderr",
     "output_type": "stream",
     "text": [
      "                                                                                \r"
     ]
    },
    {
     "data": {
      "text/html": [
       "<table border='1'>\n",
       "<tr><th>text</th><th>subject</th><th>Flag</th><th>id</th><th>text1</th></tr>\n",
       "<tr><td>washington  reute...</td><td>politicsNews</td><td>True_News</td><td>68719479551</td><td>washington  reute...</td></tr>\n",
       "<tr><td>washington new yo...</td><td>politicsNews</td><td>True_News</td><td>94489281463</td><td>washington new yo...</td></tr>\n",
       "<tr><td>don t let hillary...</td><td>politics</td><td>Fake_News</td><td>34359739457</td><td>let hillary cheer...</td></tr>\n",
       "<tr><td>copenhagen  reute...</td><td>worldnews</td><td>True_News</td><td>120259086228</td><td>copenhagen  reute...</td></tr>\n",
       "<tr><td>london  reuters  ...</td><td>worldnews</td><td>True_News</td><td>111669151362</td><td>london  reuters  ...</td></tr>\n",
       "<tr><td>flint s democrat ...</td><td>left-news</td><td>Fake_News</td><td>42949676178</td><td>flint democrat ma...</td></tr>\n",
       "<tr><td>shawn helton  21s...</td><td>US_News</td><td>Fake_News</td><td>51539609947</td><td>shawn helton  21s...</td></tr>\n",
       "<tr><td>austin  texas  re...</td><td>politicsNews</td><td>True_News</td><td>68719478700</td><td>austin  texas  re...</td></tr>\n",
       "<tr><td>the republican pa...</td><td>News</td><td>Fake_News</td><td>8589936837</td><td>republican party ...</td></tr>\n",
       "<tr><td>donald trump seem...</td><td>News</td><td>Fake_News</td><td>592</td><td>donald trump seem...</td></tr>\n",
       "<tr><td>nothing shows a p...</td><td>News</td><td>Fake_News</td><td>17179871331</td><td>nothing shows per...</td></tr>\n",
       "<tr><td>a new report from...</td><td>News</td><td>Fake_News</td><td>1097</td><td>new report new yo...</td></tr>\n",
       "<tr><td>conservative bada...</td><td>left-news</td><td>Fake_News</td><td>51539607817</td><td>conservative bada...</td></tr>\n",
       "<tr><td>in a strong south...</td><td>News</td><td>Fake_News</td><td>17179869412</td><td>strong southern d...</td></tr>\n",
       "<tr><td>washington moscow...</td><td>politicsNews</td><td>True_News</td><td>85899348149</td><td>washington moscow...</td></tr>\n",
       "<tr><td> reuters    a pas...</td><td>politicsNews</td><td>True_News</td><td>103079215500</td><td> reuters    pasto...</td></tr>\n",
       "<tr><td>the relationship ...</td><td>News</td><td>Fake_News</td><td>8589935070</td><td>relationship unit...</td></tr>\n",
       "<tr><td>london  reuters  ...</td><td>worldnews</td><td>True_News</td><td>111669149815</td><td>london  reuters  ...</td></tr>\n",
       "<tr><td>enjoy </td><td>politics</td><td>Fake_News</td><td>25769805723</td><td>enjoy </td></tr>\n",
       "<tr><td>jerusalem  reuter...</td><td>worldnews</td><td>True_News</td><td>120259087048</td><td>jerusalem  reuter...</td></tr>\n",
       "</table>\n",
       "only showing top 20 rows\n"
      ],
      "text/plain": [
       "+--------------------+------------+---------+------------+--------------------+\n",
       "|                text|     subject|     Flag|          id|               text1|\n",
       "+--------------------+------------+---------+------------+--------------------+\n",
       "|washington  reute...|politicsNews|True_News| 68719479551|washington  reute...|\n",
       "|washington new yo...|politicsNews|True_News| 94489281463|washington new yo...|\n",
       "|don t let hillary...|    politics|Fake_News| 34359739457|let hillary cheer...|\n",
       "|copenhagen  reute...|   worldnews|True_News|120259086228|copenhagen  reute...|\n",
       "|london  reuters  ...|   worldnews|True_News|111669151362|london  reuters  ...|\n",
       "|flint s democrat ...|   left-news|Fake_News| 42949676178|flint democrat ma...|\n",
       "|shawn helton  21s...|     US_News|Fake_News| 51539609947|shawn helton  21s...|\n",
       "|austin  texas  re...|politicsNews|True_News| 68719478700|austin  texas  re...|\n",
       "|the republican pa...|        News|Fake_News|  8589936837|republican party ...|\n",
       "|donald trump seem...|        News|Fake_News|         592|donald trump seem...|\n",
       "|nothing shows a p...|        News|Fake_News| 17179871331|nothing shows per...|\n",
       "|a new report from...|        News|Fake_News|        1097|new report new yo...|\n",
       "|conservative bada...|   left-news|Fake_News| 51539607817|conservative bada...|\n",
       "|in a strong south...|        News|Fake_News| 17179869412|strong southern d...|\n",
       "|washington moscow...|politicsNews|True_News| 85899348149|washington moscow...|\n",
       "| reuters    a pas...|politicsNews|True_News|103079215500| reuters    pasto...|\n",
       "|the relationship ...|        News|Fake_News|  8589935070|relationship unit...|\n",
       "|london  reuters  ...|   worldnews|True_News|111669149815|london  reuters  ...|\n",
       "|              enjoy |    politics|Fake_News| 25769805723|              enjoy |\n",
       "|jerusalem  reuter...|   worldnews|True_News|120259087048|jerusalem  reuter...|\n",
       "+--------------------+------------+---------+------------+--------------------+\n",
       "only showing top 20 rows"
      ]
     },
     "execution_count": 91,
     "metadata": {},
     "output_type": "execute_result"
    }
   ],
   "source": [
    "df_concat = df_concat.drop(\"words\",\"words without stop\")\n",
    "\n",
    "df_concat"
   ]
  },
  {
   "cell_type": "code",
   "execution_count": 92,
   "id": "dff8f3e4-d720-4a7a-b532-e6e8145b71e0",
   "metadata": {},
   "outputs": [
    {
     "data": {
      "text/html": [
       "<table border='1'>\n",
       "<tr><th>subject</th><th>Flag</th><th>id</th><th>text1</th></tr>\n",
       "<tr><td>politicsNews</td><td>True_News</td><td>68719479551</td><td>washington  reute...</td></tr>\n",
       "<tr><td>politicsNews</td><td>True_News</td><td>94489281463</td><td>washington new yo...</td></tr>\n",
       "<tr><td>politics</td><td>Fake_News</td><td>34359739457</td><td>let hillary cheer...</td></tr>\n",
       "<tr><td>worldnews</td><td>True_News</td><td>120259086228</td><td>copenhagen  reute...</td></tr>\n",
       "<tr><td>worldnews</td><td>True_News</td><td>111669151362</td><td>london  reuters  ...</td></tr>\n",
       "<tr><td>left-news</td><td>Fake_News</td><td>42949676178</td><td>flint democrat ma...</td></tr>\n",
       "<tr><td>US_News</td><td>Fake_News</td><td>51539609947</td><td>shawn helton  21s...</td></tr>\n",
       "<tr><td>politicsNews</td><td>True_News</td><td>68719478700</td><td>austin  texas  re...</td></tr>\n",
       "<tr><td>News</td><td>Fake_News</td><td>8589936837</td><td>republican party ...</td></tr>\n",
       "<tr><td>News</td><td>Fake_News</td><td>592</td><td>donald trump seem...</td></tr>\n",
       "<tr><td>News</td><td>Fake_News</td><td>17179871331</td><td>nothing shows per...</td></tr>\n",
       "<tr><td>News</td><td>Fake_News</td><td>1097</td><td>new report new yo...</td></tr>\n",
       "<tr><td>left-news</td><td>Fake_News</td><td>51539607817</td><td>conservative bada...</td></tr>\n",
       "<tr><td>News</td><td>Fake_News</td><td>17179869412</td><td>strong southern d...</td></tr>\n",
       "<tr><td>politicsNews</td><td>True_News</td><td>85899348149</td><td>washington moscow...</td></tr>\n",
       "<tr><td>politicsNews</td><td>True_News</td><td>103079215500</td><td> reuters    pasto...</td></tr>\n",
       "<tr><td>News</td><td>Fake_News</td><td>8589935070</td><td>relationship unit...</td></tr>\n",
       "<tr><td>worldnews</td><td>True_News</td><td>111669149815</td><td>london  reuters  ...</td></tr>\n",
       "<tr><td>politics</td><td>Fake_News</td><td>25769805723</td><td>enjoy </td></tr>\n",
       "<tr><td>worldnews</td><td>True_News</td><td>120259087048</td><td>jerusalem  reuter...</td></tr>\n",
       "</table>\n",
       "only showing top 20 rows\n"
      ],
      "text/plain": [
       "+------------+---------+------------+--------------------+\n",
       "|     subject|     Flag|          id|               text1|\n",
       "+------------+---------+------------+--------------------+\n",
       "|politicsNews|True_News| 68719479551|washington  reute...|\n",
       "|politicsNews|True_News| 94489281463|washington new yo...|\n",
       "|    politics|Fake_News| 34359739457|let hillary cheer...|\n",
       "|   worldnews|True_News|120259086228|copenhagen  reute...|\n",
       "|   worldnews|True_News|111669151362|london  reuters  ...|\n",
       "|   left-news|Fake_News| 42949676178|flint democrat ma...|\n",
       "|     US_News|Fake_News| 51539609947|shawn helton  21s...|\n",
       "|politicsNews|True_News| 68719478700|austin  texas  re...|\n",
       "|        News|Fake_News|  8589936837|republican party ...|\n",
       "|        News|Fake_News|         592|donald trump seem...|\n",
       "|        News|Fake_News| 17179871331|nothing shows per...|\n",
       "|        News|Fake_News|        1097|new report new yo...|\n",
       "|   left-news|Fake_News| 51539607817|conservative bada...|\n",
       "|        News|Fake_News| 17179869412|strong southern d...|\n",
       "|politicsNews|True_News| 85899348149|washington moscow...|\n",
       "|politicsNews|True_News|103079215500| reuters    pasto...|\n",
       "|        News|Fake_News|  8589935070|relationship unit...|\n",
       "|   worldnews|True_News|111669149815|london  reuters  ...|\n",
       "|    politics|Fake_News| 25769805723|              enjoy |\n",
       "|   worldnews|True_News|120259087048|jerusalem  reuter...|\n",
       "+------------+---------+------------+--------------------+\n",
       "only showing top 20 rows"
      ]
     },
     "execution_count": 92,
     "metadata": {},
     "output_type": "execute_result"
    }
   ],
   "source": [
    "df_concat = df_concat.drop(\"text\")\n",
    "\n",
    "df_concat"
   ]
  },
  {
   "cell_type": "code",
   "execution_count": 93,
   "id": "fdb5514e-08a1-4445-8cc4-b75470172e9c",
   "metadata": {},
   "outputs": [
    {
     "name": "stderr",
     "output_type": "stream",
     "text": [
      "                                                                                \r"
     ]
    },
    {
     "data": {
      "text/html": [
       "<table border='1'>\n",
       "<tr><th>subject</th><th>Flag</th><th>id</th><th>text</th></tr>\n",
       "<tr><td>politicsNews</td><td>True_News</td><td>68719479551</td><td>washington  reute...</td></tr>\n",
       "<tr><td>politicsNews</td><td>True_News</td><td>94489281463</td><td>washington new yo...</td></tr>\n",
       "<tr><td>politics</td><td>Fake_News</td><td>34359739457</td><td>let hillary cheer...</td></tr>\n",
       "<tr><td>worldnews</td><td>True_News</td><td>120259086228</td><td>copenhagen  reute...</td></tr>\n",
       "<tr><td>worldnews</td><td>True_News</td><td>111669151362</td><td>london  reuters  ...</td></tr>\n",
       "<tr><td>left-news</td><td>Fake_News</td><td>42949676178</td><td>flint democrat ma...</td></tr>\n",
       "<tr><td>US_News</td><td>Fake_News</td><td>51539609947</td><td>shawn helton  21s...</td></tr>\n",
       "<tr><td>politicsNews</td><td>True_News</td><td>68719478700</td><td>austin  texas  re...</td></tr>\n",
       "<tr><td>News</td><td>Fake_News</td><td>8589936837</td><td>republican party ...</td></tr>\n",
       "<tr><td>News</td><td>Fake_News</td><td>592</td><td>donald trump seem...</td></tr>\n",
       "<tr><td>News</td><td>Fake_News</td><td>17179871331</td><td>nothing shows per...</td></tr>\n",
       "<tr><td>News</td><td>Fake_News</td><td>1097</td><td>new report new yo...</td></tr>\n",
       "<tr><td>left-news</td><td>Fake_News</td><td>51539607817</td><td>conservative bada...</td></tr>\n",
       "<tr><td>News</td><td>Fake_News</td><td>17179869412</td><td>strong southern d...</td></tr>\n",
       "<tr><td>politicsNews</td><td>True_News</td><td>85899348149</td><td>washington moscow...</td></tr>\n",
       "<tr><td>politicsNews</td><td>True_News</td><td>103079215500</td><td> reuters    pasto...</td></tr>\n",
       "<tr><td>News</td><td>Fake_News</td><td>8589935070</td><td>relationship unit...</td></tr>\n",
       "<tr><td>worldnews</td><td>True_News</td><td>111669149815</td><td>london  reuters  ...</td></tr>\n",
       "<tr><td>politics</td><td>Fake_News</td><td>25769805723</td><td>enjoy </td></tr>\n",
       "<tr><td>worldnews</td><td>True_News</td><td>120259087048</td><td>jerusalem  reuter...</td></tr>\n",
       "</table>\n",
       "only showing top 20 rows\n"
      ],
      "text/plain": [
       "+------------+---------+------------+--------------------+\n",
       "|     subject|     Flag|          id|                text|\n",
       "+------------+---------+------------+--------------------+\n",
       "|politicsNews|True_News| 68719479551|washington  reute...|\n",
       "|politicsNews|True_News| 94489281463|washington new yo...|\n",
       "|    politics|Fake_News| 34359739457|let hillary cheer...|\n",
       "|   worldnews|True_News|120259086228|copenhagen  reute...|\n",
       "|   worldnews|True_News|111669151362|london  reuters  ...|\n",
       "|   left-news|Fake_News| 42949676178|flint democrat ma...|\n",
       "|     US_News|Fake_News| 51539609947|shawn helton  21s...|\n",
       "|politicsNews|True_News| 68719478700|austin  texas  re...|\n",
       "|        News|Fake_News|  8589936837|republican party ...|\n",
       "|        News|Fake_News|         592|donald trump seem...|\n",
       "|        News|Fake_News| 17179871331|nothing shows per...|\n",
       "|        News|Fake_News|        1097|new report new yo...|\n",
       "|   left-news|Fake_News| 51539607817|conservative bada...|\n",
       "|        News|Fake_News| 17179869412|strong southern d...|\n",
       "|politicsNews|True_News| 85899348149|washington moscow...|\n",
       "|politicsNews|True_News|103079215500| reuters    pasto...|\n",
       "|        News|Fake_News|  8589935070|relationship unit...|\n",
       "|   worldnews|True_News|111669149815|london  reuters  ...|\n",
       "|    politics|Fake_News| 25769805723|              enjoy |\n",
       "|   worldnews|True_News|120259087048|jerusalem  reuter...|\n",
       "+------------+---------+------------+--------------------+\n",
       "only showing top 20 rows"
      ]
     },
     "execution_count": 93,
     "metadata": {},
     "output_type": "execute_result"
    }
   ],
   "source": [
    "df_concat = df_concat.withColumnRenamed(\"text1\",\"text\")\n",
    "\n",
    "df_concat"
   ]
  },
  {
   "cell_type": "code",
   "execution_count": 113,
   "id": "9cf03244-bc7f-4ef6-a3ec-7b4df5a07600",
   "metadata": {},
   "outputs": [
    {
     "name": "stderr",
     "output_type": "stream",
     "text": [
      "[Stage 207:===============================>                        (9 + 7) / 16]\r"
     ]
    },
    {
     "name": "stdout",
     "output_type": "stream",
     "text": [
      "+---------+-----+\n",
      "|     Flag|count|\n",
      "+---------+-----+\n",
      "|Fake_News|23481|\n",
      "|True_News|21417|\n",
      "+---------+-----+\n",
      "\n"
     ]
    },
    {
     "name": "stderr",
     "output_type": "stream",
     "text": [
      "                                                                                \r"
     ]
    }
   ],
   "source": [
    "# How many articles per subject?\n",
    "# import matplotlib.pyplot as plt\n",
    "\n",
    "print(df_concat.groupby('Flag').count())\n",
    "#df_concat.groupby('subject','text').count().plot(kind=\"bar\")\n",
    "#plt.show()"
   ]
  },
  {
   "cell_type": "code",
   "execution_count": null,
   "id": "a1570119-2933-4882-8287-cb3487a2e343",
   "metadata": {},
   "outputs": [],
   "source": []
  }
 ],
 "metadata": {
  "kernelspec": {
   "display_name": "Python 3 (ipykernel)",
   "language": "python",
   "name": "python3"
  },
  "language_info": {
   "codemirror_mode": {
    "name": "ipython",
    "version": 3
   },
   "file_extension": ".py",
   "mimetype": "text/x-python",
   "name": "python",
   "nbconvert_exporter": "python",
   "pygments_lexer": "ipython3",
   "version": "3.9.12"
  }
 },
 "nbformat": 4,
 "nbformat_minor": 5
}
