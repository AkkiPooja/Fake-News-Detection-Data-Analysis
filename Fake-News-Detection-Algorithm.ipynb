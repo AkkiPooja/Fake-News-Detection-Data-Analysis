{
 "cells": [
  {
   "cell_type": "markdown",
   "id": "2b6d5012-8238-4506-87e1-d985b9045a66",
   "metadata": {},
   "source": [
    "Fake News Detection"
   ]
  },
  {
   "cell_type": "code",
   "execution_count": 1,
   "id": "4700c700-4e6f-41fc-a130-4d6cebfa11c0",
   "metadata": {},
   "outputs": [
    {
     "name": "stdout",
     "output_type": "stream",
     "text": [
      "22/12/20 14:15:31 WARN Utils: Your hostname, Poojas-MacBook-Pro.local resolves to a loopback address: 127.0.0.1; using 172.20.10.3 instead (on interface en0)\n",
      "22/12/20 14:15:31 WARN Utils: Set SPARK_LOCAL_IP if you need to bind to another address\n"
     ]
    },
    {
     "name": "stderr",
     "output_type": "stream",
     "text": [
      "Setting default log level to \"WARN\".\n",
      "To adjust logging level use sc.setLogLevel(newLevel). For SparkR, use setLogLevel(newLevel).\n"
     ]
    },
    {
     "name": "stdout",
     "output_type": "stream",
     "text": [
      "22/12/20 14:15:33 WARN NativeCodeLoader: Unable to load native-hadoop library for your platform... using builtin-java classes where applicable\n"
     ]
    },
    {
     "name": "stderr",
     "output_type": "stream",
     "text": [
      "/Users/poojaakki/opt/anaconda3/lib/python3.9/site-packages/pyspark/sql/context.py:157: FutureWarning: Deprecated in 3.0.0. Use SparkSession.builder.getOrCreate() instead.\n",
      "  warnings.warn(\n"
     ]
    }
   ],
   "source": [
    "import os\n",
    "import pyspark\n",
    "conf = pyspark.SparkConf()\n",
    "# conf.set('spark.ui.proxyBase'\n",
    "# , '/user/' + os.environ['JUPYTERHUB_USER'] + '/proxy/4041')\n",
    "conf.set('spark.sql.repl.eagerEval.enabled', True)\n",
    "conf.set('spark.driver.memory','4g')\n",
    "sc = pyspark.SparkContext(conf=conf)\n",
    "spark = pyspark.SQLContext.getOrCreate(sc)"
   ]
  },
  {
   "cell_type": "code",
   "execution_count": 2,
   "id": "52b73545-e2e0-4db7-a571-5e8c303b3575",
   "metadata": {},
   "outputs": [],
   "source": [
    "import pandas as pd\n",
    "from pyspark.sql.types import StructType, StructField\n",
    "from pyspark.sql.types import StringType\n",
    "\n",
    "schema= StructType(\n",
    "      [StructField('title',StringType(),True),\n",
    "      StructField('text',StringType(),True),\n",
    "      StructField('subject',StringType(),True),\n",
    "      StructField('date',StringType(),True)])\n",
    "\n",
    "df0 = pd.read_csv('/Users/poojaakki/Desktop/projects/Fake-News-Detection-Data-Analysis/datasets/Kaggle/fake.csv')\n",
    "df1 = pd.read_csv('/Users/poojaakki/Desktop/projects/Fake-News-Detection-Data-Analysis/datasets/Kaggle/true.csv')\n",
    "df_fake = spark.createDataFrame(df0,schema=schema)\n",
    "df_true = spark.createDataFrame(df1,schema=schema)"
   ]
  },
  {
   "cell_type": "code",
   "execution_count": 3,
   "id": "54de89ac-6ac2-4559-a965-5c15485efbfe",
   "metadata": {},
   "outputs": [
    {
     "name": "stdout",
     "output_type": "stream",
     "text": [
      "22/12/20 14:15:37 WARN TaskSetManager: Stage 0 contains a task of very large size (5255 KiB). The maximum recommended task size is 1000 KiB.\n"
     ]
    },
    {
     "name": "stderr",
     "output_type": "stream",
     "text": [
      "[Stage 0:>                                                          (0 + 1) / 1]\r"
     ]
    },
    {
     "name": "stdout",
     "output_type": "stream",
     "text": [
      "22/12/20 14:15:42 WARN PythonRunner: Detected deadlock while completing task 0.0 in stage 0 (TID 0): Attempting to kill Python Worker\n",
      "+--------------------+--------------------+-------+-----------------+\n",
      "|               title|                text|subject|             date|\n",
      "+--------------------+--------------------+-------+-----------------+\n",
      "| Donald Trump Sen...|Donald Trump just...|   News|December 31, 2017|\n",
      "| Drunk Bragging T...|House Intelligenc...|   News|December 31, 2017|\n",
      "| Sheriff David Cl...|On Friday, it was...|   News|December 30, 2017|\n",
      "| Trump Is So Obse...|On Christmas day,...|   News|December 29, 2017|\n",
      "| Pope Francis Jus...|Pope Francis used...|   News|December 25, 2017|\n",
      "| Racist Alabama C...|The number of cas...|   News|December 25, 2017|\n",
      "| Fresh Off The Go...|Donald Trump spen...|   News|December 23, 2017|\n",
      "| Trump Said Some ...|In the wake of ye...|   News|December 23, 2017|\n",
      "| Former CIA Direc...|Many people have ...|   News|December 22, 2017|\n",
      "| WATCH: Brand-New...|Just when you mig...|   News|December 21, 2017|\n",
      "| Papa John’s Foun...|A centerpiece of ...|   News|December 21, 2017|\n",
      "| WATCH: Paul Ryan...|Republicans are w...|   News|December 21, 2017|\n",
      "| Bad News For Tru...|Republicans have ...|   News|December 21, 2017|\n",
      "| WATCH: Lindsey G...|The media has bee...|   News|December 20, 2017|\n",
      "| Heiress To Disne...|Abigail Disney is...|   News|December 20, 2017|\n",
      "| Tone Deaf Trump:...|Donald Trump just...|   News|December 20, 2017|\n",
      "| The Internet Bru...|A new animatronic...|   News|December 19, 2017|\n",
      "| Mueller Spokesma...|Trump supporters ...|   News|December 17, 2017|\n",
      "| SNL Hilariously ...|Right now, the wh...|   News|December 17, 2017|\n",
      "| Republican Senat...|Senate Majority W...|   News|December 16, 2017|\n",
      "+--------------------+--------------------+-------+-----------------+\n",
      "only showing top 20 rows\n",
      "\n"
     ]
    },
    {
     "name": "stderr",
     "output_type": "stream",
     "text": [
      "                                                                                \r"
     ]
    }
   ],
   "source": [
    "# Display fake news\n",
    "\n",
    "df_fake.show()"
   ]
  },
  {
   "cell_type": "code",
   "execution_count": 4,
   "id": "304887a4-614c-4e41-bdd0-c6e2c59b0d33",
   "metadata": {},
   "outputs": [
    {
     "name": "stdout",
     "output_type": "stream",
     "text": [
      "22/12/20 14:15:42 WARN TaskSetManager: Stage 1 contains a task of very large size (4983 KiB). The maximum recommended task size is 1000 KiB.\n"
     ]
    },
    {
     "name": "stderr",
     "output_type": "stream",
     "text": [
      "[Stage 1:>                                                          (0 + 1) / 1]\r"
     ]
    },
    {
     "name": "stdout",
     "output_type": "stream",
     "text": [
      "22/12/20 14:15:46 WARN PythonRunner: Detected deadlock while completing task 0.0 in stage 1 (TID 1): Attempting to kill Python Worker\n",
      "+--------------------+--------------------+------------+------------------+\n",
      "|               title|                text|     subject|              date|\n",
      "+--------------------+--------------------+------------+------------------+\n",
      "|As U.S. budget fi...|WASHINGTON (Reute...|politicsNews|December 31, 2017 |\n",
      "|U.S. military to ...|WASHINGTON (Reute...|politicsNews|December 29, 2017 |\n",
      "|Senior U.S. Repub...|WASHINGTON (Reute...|politicsNews|December 31, 2017 |\n",
      "|FBI Russia probe ...|WASHINGTON (Reute...|politicsNews|December 30, 2017 |\n",
      "|Trump wants Posta...|SEATTLE/WASHINGTO...|politicsNews|December 29, 2017 |\n",
      "|White House, Cong...|WEST PALM BEACH, ...|politicsNews|December 29, 2017 |\n",
      "|Trump says Russia...|WEST PALM BEACH, ...|politicsNews|December 29, 2017 |\n",
      "|Factbox: Trump on...|The following sta...|politicsNews|December 29, 2017 |\n",
      "|Trump on Twitter ...|The following sta...|politicsNews|December 29, 2017 |\n",
      "|Alabama official ...|WASHINGTON (Reute...|politicsNews|December 28, 2017 |\n",
      "|Jones certified U...|(Reuters) - Alaba...|politicsNews|December 28, 2017 |\n",
      "|New York governor...|NEW YORK/WASHINGT...|politicsNews|December 28, 2017 |\n",
      "|Factbox: Trump on...|The following sta...|politicsNews|December 28, 2017 |\n",
      "|Trump on Twitter ...|The following sta...|politicsNews|December 28, 2017 |\n",
      "|Man says he deliv...| (In Dec. 25 stor...|politicsNews|December 25, 2017 |\n",
      "|Virginia official...|(Reuters) - A lot...|politicsNews|December 27, 2017 |\n",
      "|U.S. lawmakers qu...|WASHINGTON (Reute...|politicsNews|December 27, 2017 |\n",
      "|Trump on Twitter ...|The following sta...|politicsNews|December 26, 2017 |\n",
      "|U.S. appeals cour...|(Reuters) - A U.S...|politicsNews|December 26, 2017 |\n",
      "|Treasury Secretar...|(Reuters) - A gif...|politicsNews|December 24, 2017 |\n",
      "+--------------------+--------------------+------------+------------------+\n",
      "only showing top 20 rows\n",
      "\n"
     ]
    },
    {
     "name": "stderr",
     "output_type": "stream",
     "text": [
      "                                                                                \r"
     ]
    }
   ],
   "source": [
    "# Display fake news\n",
    "\n",
    "df_true.show()"
   ]
  },
  {
   "cell_type": "code",
   "execution_count": 5,
   "id": "47d9d708-63ea-4d44-9651-8d59165e9911",
   "metadata": {},
   "outputs": [],
   "source": [
    "# add a label to the data for fake news as 0 and true news as 1 and shuffle using rand\n",
    "from pyspark.sql.functions import lit, rand\n",
    "\n",
    "df= df_true.withColumn('flag', lit(1)).union(df_fake.withColumn('flag', lit(0))).orderBy(rand())"
   ]
  },
  {
   "cell_type": "code",
   "execution_count": 6,
   "id": "fef51cca-ad22-4b64-9d26-6fc0d05d9cb9",
   "metadata": {},
   "outputs": [
    {
     "name": "stdout",
     "output_type": "stream",
     "text": [
      "root\n",
      " |-- title: string (nullable = true)\n",
      " |-- text: string (nullable = true)\n",
      " |-- subject: string (nullable = true)\n",
      " |-- date: string (nullable = true)\n",
      " |-- flag: integer (nullable = false)\n",
      "\n"
     ]
    }
   ],
   "source": [
    "df.printSchema()"
   ]
  },
  {
   "cell_type": "code",
   "execution_count": 6,
   "id": "8f1fcb54-bc8c-433c-beab-ad188b095115",
   "metadata": {},
   "outputs": [
    {
     "name": "stdout",
     "output_type": "stream",
     "text": [
      "22/12/20 14:15:46 WARN TaskSetManager: Stage 2 contains a task of very large size (4983 KiB). The maximum recommended task size is 1000 KiB.\n",
      "+--------------------+--------------------+---------------+------------------+----+\n",
      "|               title|                text|        subject|              date|flag|\n",
      "+--------------------+--------------------+---------------+------------------+----+\n",
      "|CROOKED HILLARY’S...|Mere months after...|       politics|      Mar 22, 2017|   0|\n",
      "|Trump paid $38 mi...|WASHINGTON (Reute...|   politicsNews|   March 15, 2017 |   1|\n",
      "|Ep #10: Patrick H...|Join Patrick ever...|        US_News|  January 19, 2017|   0|\n",
      "| The IRS Already ...|Donald Trump s ta...|           News|      May 13, 2016|   0|\n",
      "|NEW VIDEO Of Unit...|Watch here:@Unite...|       politics|      Apr 12, 2017|   0|\n",
      "|New York governor...|(Reuters) - New Y...|   politicsNews|   March 20, 2017 |   1|\n",
      "| Here’s How The N...|Georgia risks los...|           News|    March 19, 2016|   0|\n",
      "|Trump's orders ta...|WASHINGTON (Reute...|   politicsNews|   March 31, 2017 |   1|\n",
      "|TAXPAYER FUNDED C...|When the majority...|       politics|      Aug 24, 2016|   0|\n",
      "| WATCH: Trump Cru...|Donald Trump is a...|           News|  October 28, 2016|   0|\n",
      "|(VIDEO) BRAVO! TV...|       I VE HAD IT! |       politics|      Jul 20, 2015|   0|\n",
      "|GUESS WHERE THE B...|Holy smokes! Coul...|Government News|      Apr 30, 2015|   0|\n",
      "|Islamic State cal...|DUBAI (Reuters) -...|   politicsNews|    July 31, 2016 |   1|\n",
      "|Venezuela opposit...|CARACAS (Reuters)...|      worldnews| October 16, 2017 |   1|\n",
      "|WASTED? CNN ANCHO...|Don Lemon wasted?...|       politics|       Jan 1, 2017|   0|\n",
      "|FATHER OF HIGH SC...| They shot him in...|       politics|      Jul 11, 2015|   0|\n",
      "|Exclusive: Billio...|BOSTON (Reuters) ...|   politicsNews|November 15, 2016 |   1|\n",
      "|South Dakota gove...|(Reuters) - South...|   politicsNews|    March 1, 2016 |   1|\n",
      "| Patton Oswalt’s ...|Patton Oswalt is ...|           News| November 27, 2016|   0|\n",
      "| Hillary Said We ...|Sometimes, it suc...|           News|  November 9, 2016|   0|\n",
      "+--------------------+--------------------+---------------+------------------+----+\n",
      "only showing top 20 rows\n",
      "\n"
     ]
    }
   ],
   "source": [
    "df.show()"
   ]
  },
  {
   "cell_type": "markdown",
   "id": "a21a641d-9487-42d1-bcc2-b398cd5b5308",
   "metadata": {
    "tags": []
   },
   "source": [
    "#Graph Analysis"
   ]
  },
  {
   "cell_type": "code",
   "execution_count": 7,
   "id": "d07d8f0d-7fb2-472f-996e-924c2aac78eb",
   "metadata": {},
   "outputs": [
    {
     "name": "stdout",
     "output_type": "stream",
     "text": [
      "22/12/20 12:34:16 WARN TaskSetManager: Stage 2 contains a task of very large size (5255 KiB). The maximum recommended task size is 1000 KiB.\n"
     ]
    },
    {
     "data": {
      "text/plain": [
       "<AxesSubplot:xlabel='date'>"
      ]
     },
     "execution_count": 7,
     "metadata": {},
     "output_type": "execute_result"
    },
    {
     "data": {
      "image/png": "[encoded data removed]",
      "text/plain": [
       "<Figure size 432x288 with 1 Axes>"
      ]
     },
     "metadata": {
      "needs_background": "light"
     },
     "output_type": "display_data"
    }
   ],
   "source": [
    "# number of fake and true news spread based on date\n",
    "import calendar\n",
    "from pyspark.sql.functions import col,to_timestamp, to_date, when, date_format\n",
    "from calendar import month_abbr\n",
    "\n",
    "d = {'January':1, 'February':2, 'March':3, 'April':4, 'May':5, 'June':6, 'July':7, 'August':8, 'September':9, 'October':10, 'November':11, 'Decenmber':12 }\n",
    "\n",
    "df_pandas = df_fake.toPandas()\n",
    "df_pandas['date'] = df_pandas.date.str.replace(',',\"\")\n",
    "\n",
    "monthDict = {'Jan': '01', 'Feb':'02', 'Mar':'03', 'Apr':'04', 'May':'05', 'Jun':'06', \n",
    "            'Jul':'07', 'Aug':'08', 'Sep':'09', 'Oct':'10', 'Nov':'11', 'Dec':'12'}\n",
    "\n",
    "from datetime import datetime\n",
    "\n",
    "def check_date(x):\n",
    "    correctDate = None\n",
    "    try:\n",
    "        correctDate=datetime.strptime(x, \"%m-%d-%Y\") \n",
    "    except ValueError:\n",
    "        correctDate = None\n",
    "    return correctDate\n",
    "\n",
    "\n",
    "def convert(x):\n",
    "    x[0] = x[0].capitalize()\n",
    "    x[0] = x[0][0:3]\n",
    "    if x[0] in monthDict.keys():\n",
    "        x[0] = monthDict[x[0]]\n",
    "    return x\n",
    "\n",
    "df_pandas['date'] = df_pandas['date'].str.lower().map(lambda x: x.rstrip())\n",
    "df_pandas['date'] = df_pandas['date'].str.lower().map(lambda x: x.split(' '))\n",
    "df_pandas['date'] = df_pandas['date'].map(lambda x: convert(x))\n",
    "df_pandas['date'] = df_pandas['date'].agg(lambda x: '-'.join(map(str, x)))\n",
    "df_pandas['date'] = df_pandas['date'].map(lambda x:check_date(x))\n",
    "df_pandas.groupby(df_pandas.date)['text'].count().plot(kind=\"line\")\n"
   ]
  },
  {
   "cell_type": "code",
   "execution_count": 8,
   "id": "5e7fddb5-03e3-4a2b-83f0-f3e1c1411de2",
   "metadata": {},
   "outputs": [
    {
     "name": "stdout",
     "output_type": "stream",
     "text": [
      "22/12/20 12:34:27 WARN TaskSetManager: Stage 3 contains a task of very large size (4983 KiB). The maximum recommended task size is 1000 KiB.\n"
     ]
    },
    {
     "data": {
      "text/plain": [
       "<AxesSubplot:xlabel='date'>"
      ]
     },
     "execution_count": 8,
     "metadata": {},
     "output_type": "execute_result"
    },
    {
     "data": {
      "image/png": "[encoded data removed]",
      "text/plain": [
       "<Figure size 432x288 with 1 Axes>"
      ]
     },
     "metadata": {
      "needs_background": "light"
     },
     "output_type": "display_data"
    }
   ],
   "source": [
    "# number of true news spread based on date\n",
    "import calendar\n",
    "from pyspark.sql.functions import col,to_timestamp, to_date, when, date_format\n",
    "from calendar import month_abbr\n",
    "\n",
    "d = {'January':1, 'February':2, 'March':3, 'April':4, 'May':5, 'June':6, 'July':7, 'August':8, 'September':9, 'October':10, 'November':11, 'Decenmber':12 }\n",
    "\n",
    "df_pandas = df_true.toPandas()\n",
    "df_pandas['date'] = df_pandas.date.str.replace(',',\"\")\n",
    "\n",
    "monthDict = {'Jan': '01', 'Feb':'02', 'Mar':'03', 'Apr':'04', 'May':'05', 'Jun':'06', \n",
    "            'Jul':'07', 'Aug':'08', 'Sep':'09', 'Oct':'10', 'Nov':'11', 'Dec':'12'}\n",
    "\n",
    "from datetime import datetime\n",
    "\n",
    "def check_date(x):\n",
    "    correctDate = None\n",
    "    try:\n",
    "        correctDate=datetime.strptime(x, \"%m-%d-%Y\") \n",
    "    except ValueError:\n",
    "        correctDate = None\n",
    "    return correctDate\n",
    "\n",
    "\n",
    "def convert(x):\n",
    "    x[0] = x[0].capitalize()\n",
    "    x[0] = x[0][0:3]\n",
    "    if x[0] in monthDict.keys():\n",
    "        x[0] = monthDict[x[0]]\n",
    "    return x\n",
    "\n",
    "df_pandas['date'] = df_pandas['date'].str.lower().map(lambda x: x.rstrip())\n",
    "df_pandas['date'] = df_pandas['date'].str.lower().map(lambda x: x.split(' '))\n",
    "df_pandas['date'] = df_pandas['date'].map(lambda x: convert(x))\n",
    "df_pandas['date'] = df_pandas['date'].agg(lambda x: '-'.join(map(str, x)))\n",
    "df_pandas['date'] = df_pandas['date'].map(lambda x:check_date(x))\n",
    "df_pandas.groupby(df_pandas.date)['text'].count().plot(kind=\"line\")\n"
   ]
  },
  {
   "cell_type": "code",
   "execution_count": 9,
   "id": "0c6c2eb9-6523-48e9-b0a5-228d4b3db576",
   "metadata": {},
   "outputs": [
    {
     "name": "stdout",
     "output_type": "stream",
     "text": [
      "22/12/20 12:34:29 WARN TaskSetManager: Stage 4 contains a task of very large size (4983 KiB). The maximum recommended task size is 1000 KiB.\n",
      "22/12/20 12:34:29 WARN TaskSetManager: Stage 7 contains a task of very large size (4983 KiB). The maximum recommended task size is 1000 KiB.\n"
     ]
    },
    {
     "data": {
      "text/html": [
       "<table border='1'>\n",
       "<tr><th>subject</th><th>count</th></tr>\n",
       "<tr><td>politicsNews</td><td>11272</td></tr>\n",
       "<tr><td>worldnews</td><td>10145</td></tr>\n",
       "<tr><td>News</td><td>9050</td></tr>\n",
       "<tr><td>politics</td><td>6841</td></tr>\n",
       "<tr><td>left-news</td><td>4459</td></tr>\n",
       "<tr><td>Government News</td><td>1570</td></tr>\n",
       "<tr><td>US_News</td><td>783</td></tr>\n",
       "<tr><td>Middle-east</td><td>778</td></tr>\n",
       "</table>\n"
      ],
      "text/plain": [
       "+---------------+-----+\n",
       "|        subject|count|\n",
       "+---------------+-----+\n",
       "|   politicsNews|11272|\n",
       "|      worldnews|10145|\n",
       "|           News| 9050|\n",
       "|       politics| 6841|\n",
       "|      left-news| 4459|\n",
       "|Government News| 1570|\n",
       "|        US_News|  783|\n",
       "|    Middle-east|  778|\n",
       "+---------------+-----+"
      ]
     },
     "execution_count": 9,
     "metadata": {},
     "output_type": "execute_result"
    }
   ],
   "source": [
    "#types of news and highest number of news in order fromt he dataset\n",
    "from pyspark.sql.functions import col\n",
    "\n",
    "df.groupby('subject').count().sort(col(\"count\").desc())"
   ]
  },
  {
   "cell_type": "code",
   "execution_count": 10,
   "id": "ddfc7782-6748-4c48-b9b5-271717685655",
   "metadata": {},
   "outputs": [
    {
     "name": "stdout",
     "output_type": "stream",
     "text": [
      "22/12/20 12:34:30 WARN TaskSetManager: Stage 10 contains a task of very large size (4983 KiB). The maximum recommended task size is 1000 KiB.\n",
      "22/12/20 12:34:30 WARN TaskSetManager: Stage 11 contains a task of very large size (4983 KiB). The maximum recommended task size is 1000 KiB.\n"
     ]
    },
    {
     "name": "stderr",
     "output_type": "stream",
     "text": [
      "                                                                                \r"
     ]
    },
    {
     "data": {
      "text/plain": [
       "<AxesSubplot:title={'center':'Points Scored by Team'}, ylabel='title'>"
      ]
     },
     "execution_count": 10,
     "metadata": {},
     "output_type": "execute_result"
    },
    {
     "data": {
      "image/png": "[encoded data removed]",
      "text/plain": [
       "<Figure size 432x288 with 1 Axes>"
      ]
     },
     "metadata": {},
     "output_type": "display_data"
    }
   ],
   "source": [
    "# Pie chart with counts of various news subjects Political and world news contained the highest counts .\n",
    "from matplotlib import pyplot as plt\n",
    "\n",
    "df1 = df\n",
    "\n",
    "df1 = df1.toPandas()\n",
    "\n",
    "colors = ['pink', 'silver', 'steelblue']\n",
    "\n",
    "df1.groupby(['subject'])['title'].count().plot(kind='pie', y='count', autopct='%1.0f%%',\n",
    "                                colors = ['red', 'pink', 'steelblue'],\n",
    "                                title='Points Scored by Team')\n"
   ]
  },
  {
   "cell_type": "code",
   "execution_count": 11,
   "id": "35e99e97-a9d5-4cb8-9739-b9f587caf546",
   "metadata": {},
   "outputs": [
    {
     "name": "stdout",
     "output_type": "stream",
     "text": [
      "22/12/20 12:34:33 WARN TaskSetManager: Stage 14 contains a task of very large size (5255 KiB). The maximum recommended task size is 1000 KiB.\n",
      "22/12/20 12:34:33 WARN TaskSetManager: Stage 17 contains a task of very large size (5255 KiB). The maximum recommended task size is 1000 KiB.\n"
     ]
    },
    {
     "data": {
      "text/html": [
       "<table border='1'>\n",
       "<tr><th>subject</th><th>count</th></tr>\n",
       "<tr><td>News</td><td>9050</td></tr>\n",
       "<tr><td>politics</td><td>6841</td></tr>\n",
       "<tr><td>Government News</td><td>1570</td></tr>\n",
       "<tr><td>left-news</td><td>4459</td></tr>\n",
       "<tr><td>US_News</td><td>783</td></tr>\n",
       "<tr><td>Middle-east</td><td>778</td></tr>\n",
       "</table>\n"
      ],
      "text/plain": [
       "+---------------+-----+\n",
       "|        subject|count|\n",
       "+---------------+-----+\n",
       "|           News| 9050|\n",
       "|       politics| 6841|\n",
       "|Government News| 1570|\n",
       "|      left-news| 4459|\n",
       "|        US_News|  783|\n",
       "|    Middle-east|  778|\n",
       "+---------------+-----+"
      ]
     },
     "execution_count": 11,
     "metadata": {},
     "output_type": "execute_result"
    }
   ],
   "source": [
    "# type of article which have fake news\n",
    "\n",
    "df1_fake = df_fake\n",
    "\n",
    "df1_fake.groupby(['subject']).count()"
   ]
  },
  {
   "cell_type": "code",
   "execution_count": 12,
   "id": "4215e74f-e356-4916-bc8c-5dc2c6c4dea5",
   "metadata": {},
   "outputs": [
    {
     "name": "stdout",
     "output_type": "stream",
     "text": [
      "22/12/20 12:34:35 WARN TaskSetManager: Stage 20 contains a task of very large size (4983 KiB). The maximum recommended task size is 1000 KiB.\n",
      "22/12/20 12:34:35 WARN TaskSetManager: Stage 23 contains a task of very large size (4983 KiB). The maximum recommended task size is 1000 KiB.\n"
     ]
    },
    {
     "data": {
      "text/html": [
       "<table border='1'>\n",
       "<tr><th>subject</th><th>count</th></tr>\n",
       "<tr><td>politicsNews</td><td>11272</td></tr>\n",
       "<tr><td>worldnews</td><td>10145</td></tr>\n",
       "</table>\n"
      ],
      "text/plain": [
       "+------------+-----+\n",
       "|     subject|count|\n",
       "+------------+-----+\n",
       "|politicsNews|11272|\n",
       "|   worldnews|10145|\n",
       "+------------+-----+"
      ]
     },
     "execution_count": 12,
     "metadata": {},
     "output_type": "execute_result"
    }
   ],
   "source": [
    "# type of article which have true news\n",
    "\n",
    "df1_true = df_true\n",
    "\n",
    "df1_true.groupby(['subject']).count()"
   ]
  },
  {
   "cell_type": "code",
   "execution_count": 13,
   "id": "e92245b8-0876-4eba-82d6-ff9fe16368df",
   "metadata": {},
   "outputs": [],
   "source": [
    "# text pre-processing\n",
    "\n",
    "from pyspark.sql.functions import col, split, lower, regexp_replace, length\n",
    "\n",
    "df = df.select('title',(lower(regexp_replace('text', \"[^a-zA-Z\\\\s]\", \"\")).alias('text')), 'subject', 'date', 'flag')"
   ]
  },
  {
   "cell_type": "code",
   "execution_count": 14,
   "id": "afed8e9a-409b-4e9b-830e-e027d3d694c5",
   "metadata": {},
   "outputs": [],
   "source": [
    "# tokenize the text\n",
    "\n",
    "from pyspark.ml.feature import Tokenizer\n",
    "\n",
    "tokenizer = Tokenizer(inputCol='text', outputCol='words_token')\n",
    "\n",
    "df = tokenizer.transform(df).select('title','words_token','subject','date','flag')"
   ]
  },
  {
   "cell_type": "code",
   "execution_count": 15,
   "id": "14f450f5-b0f2-495a-8d06-f3e02cd2aa64",
   "metadata": {},
   "outputs": [
    {
     "name": "stdout",
     "output_type": "stream",
     "text": [
      "22/12/20 12:34:43 WARN TaskSetManager: Stage 26 contains a task of very large size (4983 KiB). The maximum recommended task size is 1000 KiB.\n"
     ]
    },
    {
     "data": {
      "text/plain": [
       "Row(title='SPECTRE OF BENGHAZI: DOJ Drops Charges Against Alleged Arms Dealer of Libyan Weapons', words_token=['st', 'century', 'wire', 'says', 'the', 'us', 'department', 'of', 'justice', 'doj', 'is', 'dropping', 'all', 'charges', 'against', 'an', 'arms', 'dealer', 'whose', 'weapons', 'made', 'it', 'into', 'the', 'hands', 'of', 'radical', 'libya', 'militantsearly', 'this', 'week', 'a', 'motion', 'was', 'filed', 'by', 'the', 'doj', 'to', 'drop', 'charges', 'against', 'an', 'american', 'arms', 'dealer', 'named', 'marc', 'turi', 'according', 'to', 'federal', 'court', 'records', 'obtained', 'by', 'politicoalso', 'according', 'to', 'politico', 'the', 'deal', 'averts', 'a', 'trial', 'that', 'threatened', 'to', 'cast', 'additional', 'scrutiny', 'on', 'hillary', 'clinton', 's', 'private', 'emails', 'as', 'secretary', 'of', 'state', 'and', 'to', 'expose', 'reported', 'central', 'intelligence', 'agency', 'attempts', 'to', 'arm', 'rebels', 'fighting', 'libyan', 'leader', 'moammar', 'qadhafi', '', '', 'libya', 'fallout', '', '', '', 'photo', 'illustration', 'wire', 's', 'shawn', 'heltonin', 'the', 'book', 'entitled', 'definitive', 'report', 'by', 'both', 'jack', 'murphy', 'army', 'green', 'beret', 'and', 'brandon', 'webb', 'navy', 'seal', 'a', 'close', 'friend', 'of', 'glen', 'doherty', 'one', 'of', 'the', 'americans', 'killed', 'during', 'the', 'benghazi', 'siege', 'it', 'was', 'revealed', 'that', 'obama', 's', 'former', 'deputy', 'nsa', 'advisor', 'and', 'current', 'cia', 'director', 'john', 'brennan', 'had', 'been', 'directing', 'covert', 'blackops', 'in', 'libya', 'as', 'well', 'as', 'other', 'parts', 'in', 'north', 'africa', 'prior', 'to', 'the', 'siege', 'that', 'left', 'four', 'americans', 'dead', 'at', 'a', 'compound', 'in', 'benghazibrennan', 's', 'covert', 'operations', 'were', 'said', 'to', 'have', '', 'prompted', 'retaliation', '', 'inside', 'the', 'compound', 'in', 'libya', '', '', 'as', 'former', 'cia', 'director', 'david', 'petraeus', 'had', 'been', 'blackmailed', 'into', 'resignation', 'by', 'senior', 'cia', 'officialsall', 'of', 'this', 'information', 'was', 'preceded', 'by', 'a', 'massive', 'coverup', 'involving', 'mainstream', 'media', 'assistant', 'secretary', 'of', 'state', 'for', 'african', 'affairs', 'susan', 'rice', 'and', 'secretary', 'of', 'state', 'hillary', 'clinton', 'both', 'of', 'whom', 'initially', 'blamed', 'the', 'siege', 'on', 'a', 'heavily', 'propagandized', 'youtube', 'film', 'entitled', '', 'the', 'innocence', 'of', 'muslims', '', 'this', 'meme', 'was', 'spread', 'on', 'many', 'major', 'talk', 'shows', 'even', 'though', 'evidence', 'failed', 'to', 'connect', 'the', 'film', 'to', 'the', 'attackin', 'addition', 'the', 'white', 'house', 'and', 'president', 'barack', 'obama', 'had', 'many', 'inconsistencies', 'in', 'their', 'talking', 'points', 'about', 'benghazi', 'first', 'labeling', 'it', 'a', 'terror', 'attack', 'then', 'quickly', 'shifting', 'gears', 'denying', 'that', 'there', 'were', 'al', 'qaeda', 'operatives', 'anywhere', 'near', 'the', 'compoundus', 'ambassador', 'christopher', 'stevens', 'was', 'said', 'to', 'have', 'helped', 'manage', 'a', 'large', 'gunrunning', 'operation', 'from', 'the', '', 'special', 'mission', 'compound', '', 'in', 'benghazi', 'as', 'he', 'was', 'also', 'said', 'to', 'have', 'helped', 'ship', 'guns', 'to', '', 'alqaedalinked', 'opposition', '', 'to', 'assist', 'in', 'the', 'takedown', 'of', 'former', 'dictator', 'moammar', 'gadhafiin', 'a', 'business', 'insider', 'report', 'from', 'october', 'of', '', 'the', 'benghazi', 'story', 'dovetailed', 'the', 'growing', 'proxy', 'war', 'in', 'syria', 'in', 'march', '', 'stevens', 'became', 'the', 'official', 'us', 'liaison', 'to', 'the', 'alqaedalinked', 'libyan', 'opposition', 'working', 'directly', 'with', 'abdelhakim', 'belhadj', 'of', 'the', 'libyan', 'islamic', 'fighting', 'group', '', '', 'a', 'group', 'that', 'has', 'now', 'disbanded', 'with', 'some', 'fighters', 'reportedly', 'participating', 'in', 'the', 'attack', 'that', 'took', 'stevens', '', 'lifein', 'november', '', 'the', 'telegraph', 'reported', 'that', 'belhadj', 'acting', 'as', 'head', 'of', 'the', 'tripoli', 'military', 'council', '', 'met', 'with', 'free', 'syrian', 'army', 'fsa', 'leaders', 'in', 'istanbul', 'and', 'on', 'the', 'border', 'with', 'turkey', '', 'in', 'an', 'effort', 'by', 'the', 'new', 'libyan', 'government', 'to', 'provide', 'money', 'and', 'weapons', 'to', 'the', 'growing', 'insurgency', 'in', 'syria', 'as', 'wire', 'has', 'previously', 'reported', 'in', '', '', 'it', 's', 'worth', 'noting', 'here', 'like', 'libya', 's', 'new', 'militant', 'governor', 'of', 'tripoli', 'abdel', 'hakim', 'belhadj', 'the', 'chechen', 'terrorist', 'group', 'kata', 'ib', 'mohadzherin', 's', 'leader', 'airat', 'vakhitov', 'was', 'also', 'under', 'us', 'supervision', 'for', 'years', '', 'imprisoned', 'at', 'guantanamo', 'bay', 'cuba', 'circa', '', 'after', 'being', 'captured', 'by', 'us', 'forces', 'in', 'afghanistan', 'both', 'were', 'belhadj', 'and', 'vakhitov', 'were', 'released', 'by', 'the', 'pentagon', 'only', 'to', 'be', 'repatriated', 'in', 'the', 'field', 'again', '', '', 'back', 'into', 'fighting', 'regions', 'to', 'organise', 'al', 'qaedatype', 'islamist', 'groups', '', '', 'both', 'active', 'in', 'countries', 'which', 'the', 'us', 'and', 'nato', 'have', 'been', 'actively', 'vying', 'for', 'regime', 'change', '', '', 'in', 'libya', 'and', 'syria', 'respectively', 'you', 'can', 'draw', 'your', 'own', 'conclusions', 'here', 'about', 'what', 'guantanamo', 'is', 'in', 'reality', 'a', 'fact', 'which', 'was', 'confirmed', 'by', 'thepenny', 'lane', 'leaks', 'regarding', 'the', 'recruitment', 'of', 'double', 'agents', 'out', 'of', 'gitmo', 'interestingly', 'in', 'a', 'ny', 'times', 'article', 'from', 'december', 'of', '', 'entitled', 'usapproved', 'arms', 'for', 'libya', 'rebels', 'fell', 'into', 'jihadis', '', 'hands', '', 'we', 'see', 'an', 'acknowledgement', 'of', 'an', 'arms', 'shipment', 'at', 'the', 'behest', 'of', 'the', 'obama', 'administration', 'under', 'the', 'watchful', 'eye', 'of', 'former', 'secretary', 'of', 'state', 'hillary', 'clinton', '', '', 'but', 'the', 'mainstream', 'media', 'appears', 'to', 'have', 'provided', 'cover', 'for', 'the', 'white', 'house', 'and', 'state', 'department', 'by', 'blaming', 'qatar', 'for', 'the', 'weapons', 'transfer', 'to', 'militants', 'the', 'obama', 'administration', 'secretly', 'gave', 'its', 'blessing', 'to', 'arms', 'shipments', 'to', 'libyan', 'rebels', 'from', 'qatar', 'last', 'year', 'but', 'american', 'officials', 'later', 'grew', 'alarmed', 'as', 'evidence', 'grew', 'that', 'qatar', 'was', 'turning', 'some', 'of', 'the', 'weapons', 'over', 'to', 'islamic', 'militants', 'according', 'to', 'united', 'states', 'officials', 'and', 'foreign', 'diplomatsno', 'evidence', 'has', 'emerged', 'linking', 'the', 'weapons', 'provided', 'by', 'the', 'qataris', 'during', 'the', 'uprising', 'against', 'col', 'muammar', 'elqaddafi', 'to', 'the', 'attack', 'that', 'killed', 'four', 'americans', 'at', 'the', 'united', 'states', 'diplomatic', 'compound', 'in', 'benghazi', 'libya', 'in', 'septemberbut', 'in', 'the', 'months', 'before', 'the', 'obama', 'administration', 'clearly', 'was', 'worried', 'about', 'the', 'consequences', 'of', 'its', 'hidden', 'hand', 'in', 'helping', 'arm', 'libyan', 'militants', 'concerns', 'that', 'have', 'not', 'previously', 'been', 'reported', 'the', 'weapons', 'and', 'money', 'from', 'qatar', 'strengthened', 'militant', 'groups', 'in', 'libya', 'allowing', 'them', 'to', 'become', 'a', 'destabilizing', 'force', 'since', 'the', 'fall', 'of', 'the', 'qaddafi', 'government', 'the', 'spectre', 'of', 'benghazi', 'looms', 'large', 'when', 'connecting', 'the', 'middle', 'eastern', 'dots', 'over', 'the', 'past', 'five', 'yearsmore', 'from', 'zero', 'hedge', 'below', '', '', 'trail', 'of', 'blood', '', '', '', 'many', 'questions', 'about', '', 's', 'benghazi', 'terror', 'siege', 'remain', 'unanswered', 'image', 'source', 'foxnewsdoj', 'drops', 'charges', 'against', 'arms', 'dealer', 'who', '', 'threatened', 'to', 'expose', '', 'hillary', 'arming', 'islamic', 'extremistszero', 'hedgein', 'what', 'would', 'under', 'other', 'circumstances', 'likely', 'be', 'a', 'major', 'media', 'spectacle', 'politico', 'reported', 'that', 'the', 'obama', 'administration', 'is', 'moving', 'to', 'dismiss', 'charges', 'against', 'an', 'arms', 'dealer', 'whom', 'it', 'had', 'accused', 'of', 'selling', 'weapons', 'destined', 'for', 'libyan', 'rebels', 'and', 'who', 'had', 'threatened', 'to', 'expose', 'hillary', 'clinton', 's', 'talks', 'about', 'arming', 'antiqaddafi', 'rebelsaccording', 'to', 'a', 'motion', 'filed', 'in', 'federal', 'court', 'in', 'phoenix', 'the', 'doj', 'on', 'monday', 'filed', 'a', 'motion', 'to', 'drop', 'the', 'case', 'against', 'the', 'arms', 'dealer', 'an', 'american', 'named', 'marc', 'turi', 'one', 'potential', 'reason', 'for', 'the', 'surprising', 'move', 'is', 'that', 'as', 'politico', 'writes', 'the', 'deal', 'averts', 'a', 'trial', 'that', 'threatened', 'to', 'cast', 'additional', 'scrutiny', 'on', 'hillary', 'clinton', 's', 'private', 'emails', 'as', 'secretary', 'of', 'state', 'and', 'to', 'expose', 'reported', 'central', 'intelligence', 'agency', 'attempts', 'to', 'arm', 'rebels', 'fighting', 'libyan', 'leader', 'moammar', 'qadhafituri', 'was', 'indicted', 'in', '', 'on', 'four', 'felony', 'counts', 'two', 'of', 'arms', 'dealing', 'in', 'violation', 'of', 'the', 'arms', 'export', 'control', 'act', 'and', 'two', 'of', 'lying', 'to', 'the', 'state', 'department', 'in', 'official', 'applications', 'the', 'charges', 'accused', 'turi', 'of', 'claiming', 'that', 'the', 'weapons', 'involved', 'were', 'destined', 'for', 'qatar', 'and', 'the', 'united', 'arab', 'emirates', 'when', 'the', 'arms', 'were', 'actually', 'intended', 'to', 'reach', 'libya', 'turi', 's', 'lawyers', 'argued', 'that', 'the', 'shipments', 'were', 'part', 'of', 'a', 'us', 'governmentauthorized', 'effort', 'to', 'arm', 'libyan', 'rebels', 'it', 's', 'unclear', 'if', 'any', 'of', 'the', 'weapons', 'made', 'it', 'to', 'libya', 'and', 'there', 's', 'no', 'evidence', 'linking', 'weapons', 'provided', 'by', 'the', 'us', 'government', 'to', 'the', 'benghazi', 'attacksaccording', 'to', 'politico', 'government', 'lawyers', 'were', 'facing', 'a', 'wednesday', 'deadline', 'to', 'produce', 'documents', 'to', 'turi', 's', 'legal', 'team', 'and', 'the', 'trial', 'was', 'officially', 'set', 'to', 'begin', 'on', 'election', 'day', 'although', 'it', 'likely', 'would', 'have', 'been', 'delayed', 'by', 'protracted', 'disputes', 'about', 'classified', 'information', 'in', 'the', 'case', 'a', 'turi', 'associate', 'asserted', 'that', 'the', 'government', 'dropped', 'the', 'case', 'because', 'the', 'proceedings', 'could', 'have', 'embarrassed', 'clinton', 'and', 'president', 'barack', 'obama', 'by', 'calling', 'attention', 'to', 'the', 'reported', 'role', 'of', 'their', 'administration', 'in', 'supplying', 'weapons', 'that', 'fell', 'into', 'the', 'hands', 'of', 'islamic', 'extremist', 'militantsmaking', 'matters', 'worse', 'turi', 's', 'case', 'had', 'delved', 'into', 'emails', 'sent', 'to', 'and', 'from', 'the', 'controversial', 'private', 'account', 'that', 'clinton', 'used', 'as', 'secretary', 'of', 'state', 'which', 'the', 'defense', 'planned', 'to', 'harness', 'at', 'any', 'trial', 'they', 'don', 't', 'want', 'this', 'stuff', 'to', 'come', 'out', 'because', 'it', 'will', 'look', 'really', 'bad', 'for', 'obama', 'and', 'clinton', 'just', 'before', 'the', 'election', '', 'said', 'the', 'associateleery', 'of', 'admitting', 'the', 'actual', 'truth', 'in', 'the', 'dismissal', 'motion', 'prosecutors', 'were', 'vague', 'saying', 'that', '', 'discovery', 'rulings', '', 'from', 'us', 'district', 'court', 'judge', 'david', 'campbell', 'contributed', 'to', 'the', 'decision', 'to', 'drop', 'the', 'case', 'the', 'joint', 'motion', 'asks', 'the', 'judge', 'to', 'accept', 'a', 'confidential', 'agreement', 'to', 'resolve', 'the', 'case', 'through', 'a', 'civil', 'settlement', 'between', 'the', 'state', 'department', 'and', 'the', 'arms', 'brokerthis', 'story', 'continues', 'at', 'zero', 'hedge', 'read', 'more', 'isis', 'news', 'at', 'st', 'century', 'wire', 'isis', 'files', '', '', 'read', 'more', 'libya', 'news', 'at', 'st', 'century', 'wire', 'libya', 'filessupport', 'our', 'work', 'by', 'subscribing', '', 'becoming', 'a', 'member', 'wiretv'], subject='US_News', date='October 5, 2016', flag=0)"
      ]
     },
     "execution_count": 15,
     "metadata": {},
     "output_type": "execute_result"
    }
   ],
   "source": [
    "df.first()"
   ]
  },
  {
   "cell_type": "code",
   "execution_count": 16,
   "id": "5fcbfe70-d172-4436-b3d2-b460542502b4",
   "metadata": {},
   "outputs": [],
   "source": [
    "#remove empty string from the frame\n",
    "from pyspark.sql.functions import udf\n",
    "import pyspark.sql.functions as f\n",
    "from pyspark.sql.types import ArrayType\n",
    "\n",
    "def space_removal(f):\n",
    "    clean_tokens = []\n",
    "    for tok in f:\n",
    "        if tok:\n",
    "            clean_tokens.append(tok)\n",
    "    return clean_tokens\n",
    "\n",
    "udf_space_removal = udf(space_removal, ArrayType(StringType()))\n",
    "\n",
    "df = df.withColumn('words_token', udf_space_removal(f.col('words_token')))"
   ]
  },
  {
   "cell_type": "code",
   "execution_count": 17,
   "id": "86ab0b29-4320-459f-8ea4-12f06f6df2b4",
   "metadata": {},
   "outputs": [
    {
     "name": "stdout",
     "output_type": "stream",
     "text": [
      "22/12/20 12:35:04 WARN TaskSetManager: Stage 27 contains a task of very large size (4983 KiB). The maximum recommended task size is 1000 KiB.\n",
      "22/12/20 12:35:04 WARN TaskSetManager: Stage 28 contains a task of very large size (4983 KiB). The maximum recommended task size is 1000 KiB.\n"
     ]
    },
    {
     "name": "stderr",
     "output_type": "stream",
     "text": [
      "                                                                                \r"
     ]
    },
    {
     "data": {
      "text/plain": [
       "Row(title='SPECTRE OF BENGHAZI: DOJ Drops Charges Against Alleged Arms Dealer of Libyan Weapons', words_token=['st', 'century', 'wire', 'says', 'the', 'us', 'department', 'of', 'justice', 'doj', 'is', 'dropping', 'all', 'charges', 'against', 'an', 'arms', 'dealer', 'whose', 'weapons', 'made', 'it', 'into', 'the', 'hands', 'of', 'radical', 'libya', 'militantsearly', 'this', 'week', 'a', 'motion', 'was', 'filed', 'by', 'the', 'doj', 'to', 'drop', 'charges', 'against', 'an', 'american', 'arms', 'dealer', 'named', 'marc', 'turi', 'according', 'to', 'federal', 'court', 'records', 'obtained', 'by', 'politicoalso', 'according', 'to', 'politico', 'the', 'deal', 'averts', 'a', 'trial', 'that', 'threatened', 'to', 'cast', 'additional', 'scrutiny', 'on', 'hillary', 'clinton', 's', 'private', 'emails', 'as', 'secretary', 'of', 'state', 'and', 'to', 'expose', 'reported', 'central', 'intelligence', 'agency', 'attempts', 'to', 'arm', 'rebels', 'fighting', 'libyan', 'leader', 'moammar', 'qadhafi', 'libya', 'fallout', 'photo', 'illustration', 'wire', 's', 'shawn', 'heltonin', 'the', 'book', 'entitled', 'definitive', 'report', 'by', 'both', 'jack', 'murphy', 'army', 'green', 'beret', 'and', 'brandon', 'webb', 'navy', 'seal', 'a', 'close', 'friend', 'of', 'glen', 'doherty', 'one', 'of', 'the', 'americans', 'killed', 'during', 'the', 'benghazi', 'siege', 'it', 'was', 'revealed', 'that', 'obama', 's', 'former', 'deputy', 'nsa', 'advisor', 'and', 'current', 'cia', 'director', 'john', 'brennan', 'had', 'been', 'directing', 'covert', 'blackops', 'in', 'libya', 'as', 'well', 'as', 'other', 'parts', 'in', 'north', 'africa', 'prior', 'to', 'the', 'siege', 'that', 'left', 'four', 'americans', 'dead', 'at', 'a', 'compound', 'in', 'benghazibrennan', 's', 'covert', 'operations', 'were', 'said', 'to', 'have', 'prompted', 'retaliation', 'inside', 'the', 'compound', 'in', 'libya', 'as', 'former', 'cia', 'director', 'david', 'petraeus', 'had', 'been', 'blackmailed', 'into', 'resignation', 'by', 'senior', 'cia', 'officialsall', 'of', 'this', 'information', 'was', 'preceded', 'by', 'a', 'massive', 'coverup', 'involving', 'mainstream', 'media', 'assistant', 'secretary', 'of', 'state', 'for', 'african', 'affairs', 'susan', 'rice', 'and', 'secretary', 'of', 'state', 'hillary', 'clinton', 'both', 'of', 'whom', 'initially', 'blamed', 'the', 'siege', 'on', 'a', 'heavily', 'propagandized', 'youtube', 'film', 'entitled', 'the', 'innocence', 'of', 'muslims', 'this', 'meme', 'was', 'spread', 'on', 'many', 'major', 'talk', 'shows', 'even', 'though', 'evidence', 'failed', 'to', 'connect', 'the', 'film', 'to', 'the', 'attackin', 'addition', 'the', 'white', 'house', 'and', 'president', 'barack', 'obama', 'had', 'many', 'inconsistencies', 'in', 'their', 'talking', 'points', 'about', 'benghazi', 'first', 'labeling', 'it', 'a', 'terror', 'attack', 'then', 'quickly', 'shifting', 'gears', 'denying', 'that', 'there', 'were', 'al', 'qaeda', 'operatives', 'anywhere', 'near', 'the', 'compoundus', 'ambassador', 'christopher', 'stevens', 'was', 'said', 'to', 'have', 'helped', 'manage', 'a', 'large', 'gunrunning', 'operation', 'from', 'the', 'special', 'mission', 'compound', 'in', 'benghazi', 'as', 'he', 'was', 'also', 'said', 'to', 'have', 'helped', 'ship', 'guns', 'to', 'alqaedalinked', 'opposition', 'to', 'assist', 'in', 'the', 'takedown', 'of', 'former', 'dictator', 'moammar', 'gadhafiin', 'a', 'business', 'insider', 'report', 'from', 'october', 'of', 'the', 'benghazi', 'story', 'dovetailed', 'the', 'growing', 'proxy', 'war', 'in', 'syria', 'in', 'march', 'stevens', 'became', 'the', 'official', 'us', 'liaison', 'to', 'the', 'alqaedalinked', 'libyan', 'opposition', 'working', 'directly', 'with', 'abdelhakim', 'belhadj', 'of', 'the', 'libyan', 'islamic', 'fighting', 'group', 'a', 'group', 'that', 'has', 'now', 'disbanded', 'with', 'some', 'fighters', 'reportedly', 'participating', 'in', 'the', 'attack', 'that', 'took', 'stevens', 'lifein', 'november', 'the', 'telegraph', 'reported', 'that', 'belhadj', 'acting', 'as', 'head', 'of', 'the', 'tripoli', 'military', 'council', 'met', 'with', 'free', 'syrian', 'army', 'fsa', 'leaders', 'in', 'istanbul', 'and', 'on', 'the', 'border', 'with', 'turkey', 'in', 'an', 'effort', 'by', 'the', 'new', 'libyan', 'government', 'to', 'provide', 'money', 'and', 'weapons', 'to', 'the', 'growing', 'insurgency', 'in', 'syria', 'as', 'wire', 'has', 'previously', 'reported', 'in', 'it', 's', 'worth', 'noting', 'here', 'like', 'libya', 's', 'new', 'militant', 'governor', 'of', 'tripoli', 'abdel', 'hakim', 'belhadj', 'the', 'chechen', 'terrorist', 'group', 'kata', 'ib', 'mohadzherin', 's', 'leader', 'airat', 'vakhitov', 'was', 'also', 'under', 'us', 'supervision', 'for', 'years', 'imprisoned', 'at', 'guantanamo', 'bay', 'cuba', 'circa', 'after', 'being', 'captured', 'by', 'us', 'forces', 'in', 'afghanistan', 'both', 'were', 'belhadj', 'and', 'vakhitov', 'were', 'released', 'by', 'the', 'pentagon', 'only', 'to', 'be', 'repatriated', 'in', 'the', 'field', 'again', 'back', 'into', 'fighting', 'regions', 'to', 'organise', 'al', 'qaedatype', 'islamist', 'groups', 'both', 'active', 'in', 'countries', 'which', 'the', 'us', 'and', 'nato', 'have', 'been', 'actively', 'vying', 'for', 'regime', 'change', 'in', 'libya', 'and', 'syria', 'respectively', 'you', 'can', 'draw', 'your', 'own', 'conclusions', 'here', 'about', 'what', 'guantanamo', 'is', 'in', 'reality', 'a', 'fact', 'which', 'was', 'confirmed', 'by', 'thepenny', 'lane', 'leaks', 'regarding', 'the', 'recruitment', 'of', 'double', 'agents', 'out', 'of', 'gitmo', 'interestingly', 'in', 'a', 'ny', 'times', 'article', 'from', 'december', 'of', 'entitled', 'usapproved', 'arms', 'for', 'libya', 'rebels', 'fell', 'into', 'jihadis', 'hands', 'we', 'see', 'an', 'acknowledgement', 'of', 'an', 'arms', 'shipment', 'at', 'the', 'behest', 'of', 'the', 'obama', 'administration', 'under', 'the', 'watchful', 'eye', 'of', 'former', 'secretary', 'of', 'state', 'hillary', 'clinton', 'but', 'the', 'mainstream', 'media', 'appears', 'to', 'have', 'provided', 'cover', 'for', 'the', 'white', 'house', 'and', 'state', 'department', 'by', 'blaming', 'qatar', 'for', 'the', 'weapons', 'transfer', 'to', 'militants', 'the', 'obama', 'administration', 'secretly', 'gave', 'its', 'blessing', 'to', 'arms', 'shipments', 'to', 'libyan', 'rebels', 'from', 'qatar', 'last', 'year', 'but', 'american', 'officials', 'later', 'grew', 'alarmed', 'as', 'evidence', 'grew', 'that', 'qatar', 'was', 'turning', 'some', 'of', 'the', 'weapons', 'over', 'to', 'islamic', 'militants', 'according', 'to', 'united', 'states', 'officials', 'and', 'foreign', 'diplomatsno', 'evidence', 'has', 'emerged', 'linking', 'the', 'weapons', 'provided', 'by', 'the', 'qataris', 'during', 'the', 'uprising', 'against', 'col', 'muammar', 'elqaddafi', 'to', 'the', 'attack', 'that', 'killed', 'four', 'americans', 'at', 'the', 'united', 'states', 'diplomatic', 'compound', 'in', 'benghazi', 'libya', 'in', 'septemberbut', 'in', 'the', 'months', 'before', 'the', 'obama', 'administration', 'clearly', 'was', 'worried', 'about', 'the', 'consequences', 'of', 'its', 'hidden', 'hand', 'in', 'helping', 'arm', 'libyan', 'militants', 'concerns', 'that', 'have', 'not', 'previously', 'been', 'reported', 'the', 'weapons', 'and', 'money', 'from', 'qatar', 'strengthened', 'militant', 'groups', 'in', 'libya', 'allowing', 'them', 'to', 'become', 'a', 'destabilizing', 'force', 'since', 'the', 'fall', 'of', 'the', 'qaddafi', 'government', 'the', 'spectre', 'of', 'benghazi', 'looms', 'large', 'when', 'connecting', 'the', 'middle', 'eastern', 'dots', 'over', 'the', 'past', 'five', 'yearsmore', 'from', 'zero', 'hedge', 'below', 'trail', 'of', 'blood', 'many', 'questions', 'about', 's', 'benghazi', 'terror', 'siege', 'remain', 'unanswered', 'image', 'source', 'foxnewsdoj', 'drops', 'charges', 'against', 'arms', 'dealer', 'who', 'threatened', 'to', 'expose', 'hillary', 'arming', 'islamic', 'extremistszero', 'hedgein', 'what', 'would', 'under', 'other', 'circumstances', 'likely', 'be', 'a', 'major', 'media', 'spectacle', 'politico', 'reported', 'that', 'the', 'obama', 'administration', 'is', 'moving', 'to', 'dismiss', 'charges', 'against', 'an', 'arms', 'dealer', 'whom', 'it', 'had', 'accused', 'of', 'selling', 'weapons', 'destined', 'for', 'libyan', 'rebels', 'and', 'who', 'had', 'threatened', 'to', 'expose', 'hillary', 'clinton', 's', 'talks', 'about', 'arming', 'antiqaddafi', 'rebelsaccording', 'to', 'a', 'motion', 'filed', 'in', 'federal', 'court', 'in', 'phoenix', 'the', 'doj', 'on', 'monday', 'filed', 'a', 'motion', 'to', 'drop', 'the', 'case', 'against', 'the', 'arms', 'dealer', 'an', 'american', 'named', 'marc', 'turi', 'one', 'potential', 'reason', 'for', 'the', 'surprising', 'move', 'is', 'that', 'as', 'politico', 'writes', 'the', 'deal', 'averts', 'a', 'trial', 'that', 'threatened', 'to', 'cast', 'additional', 'scrutiny', 'on', 'hillary', 'clinton', 's', 'private', 'emails', 'as', 'secretary', 'of', 'state', 'and', 'to', 'expose', 'reported', 'central', 'intelligence', 'agency', 'attempts', 'to', 'arm', 'rebels', 'fighting', 'libyan', 'leader', 'moammar', 'qadhafituri', 'was', 'indicted', 'in', 'on', 'four', 'felony', 'counts', 'two', 'of', 'arms', 'dealing', 'in', 'violation', 'of', 'the', 'arms', 'export', 'control', 'act', 'and', 'two', 'of', 'lying', 'to', 'the', 'state', 'department', 'in', 'official', 'applications', 'the', 'charges', 'accused', 'turi', 'of', 'claiming', 'that', 'the', 'weapons', 'involved', 'were', 'destined', 'for', 'qatar', 'and', 'the', 'united', 'arab', 'emirates', 'when', 'the', 'arms', 'were', 'actually', 'intended', 'to', 'reach', 'libya', 'turi', 's', 'lawyers', 'argued', 'that', 'the', 'shipments', 'were', 'part', 'of', 'a', 'us', 'governmentauthorized', 'effort', 'to', 'arm', 'libyan', 'rebels', 'it', 's', 'unclear', 'if', 'any', 'of', 'the', 'weapons', 'made', 'it', 'to', 'libya', 'and', 'there', 's', 'no', 'evidence', 'linking', 'weapons', 'provided', 'by', 'the', 'us', 'government', 'to', 'the', 'benghazi', 'attacksaccording', 'to', 'politico', 'government', 'lawyers', 'were', 'facing', 'a', 'wednesday', 'deadline', 'to', 'produce', 'documents', 'to', 'turi', 's', 'legal', 'team', 'and', 'the', 'trial', 'was', 'officially', 'set', 'to', 'begin', 'on', 'election', 'day', 'although', 'it', 'likely', 'would', 'have', 'been', 'delayed', 'by', 'protracted', 'disputes', 'about', 'classified', 'information', 'in', 'the', 'case', 'a', 'turi', 'associate', 'asserted', 'that', 'the', 'government', 'dropped', 'the', 'case', 'because', 'the', 'proceedings', 'could', 'have', 'embarrassed', 'clinton', 'and', 'president', 'barack', 'obama', 'by', 'calling', 'attention', 'to', 'the', 'reported', 'role', 'of', 'their', 'administration', 'in', 'supplying', 'weapons', 'that', 'fell', 'into', 'the', 'hands', 'of', 'islamic', 'extremist', 'militantsmaking', 'matters', 'worse', 'turi', 's', 'case', 'had', 'delved', 'into', 'emails', 'sent', 'to', 'and', 'from', 'the', 'controversial', 'private', 'account', 'that', 'clinton', 'used', 'as', 'secretary', 'of', 'state', 'which', 'the', 'defense', 'planned', 'to', 'harness', 'at', 'any', 'trial', 'they', 'don', 't', 'want', 'this', 'stuff', 'to', 'come', 'out', 'because', 'it', 'will', 'look', 'really', 'bad', 'for', 'obama', 'and', 'clinton', 'just', 'before', 'the', 'election', 'said', 'the', 'associateleery', 'of', 'admitting', 'the', 'actual', 'truth', 'in', 'the', 'dismissal', 'motion', 'prosecutors', 'were', 'vague', 'saying', 'that', 'discovery', 'rulings', 'from', 'us', 'district', 'court', 'judge', 'david', 'campbell', 'contributed', 'to', 'the', 'decision', 'to', 'drop', 'the', 'case', 'the', 'joint', 'motion', 'asks', 'the', 'judge', 'to', 'accept', 'a', 'confidential', 'agreement', 'to', 'resolve', 'the', 'case', 'through', 'a', 'civil', 'settlement', 'between', 'the', 'state', 'department', 'and', 'the', 'arms', 'brokerthis', 'story', 'continues', 'at', 'zero', 'hedge', 'read', 'more', 'isis', 'news', 'at', 'st', 'century', 'wire', 'isis', 'files', 'read', 'more', 'libya', 'news', 'at', 'st', 'century', 'wire', 'libya', 'filessupport', 'our', 'work', 'by', 'subscribing', 'becoming', 'a', 'member', 'wiretv'], subject='US_News', date='October 5, 2016', flag=0)"
      ]
     },
     "execution_count": 17,
     "metadata": {},
     "output_type": "execute_result"
    }
   ],
   "source": [
    "df.first()"
   ]
  },
  {
   "cell_type": "code",
   "execution_count": 18,
   "id": "92ad4e15-b56a-4eb7-85a1-e50299b52fb2",
   "metadata": {},
   "outputs": [
    {
     "name": "stderr",
     "output_type": "stream",
     "text": [
      "[nltk_data] Error loading stopwords: <urlopen error [Errno 8] nodename\n",
      "[nltk_data]     nor servname provided, or not known>\n"
     ]
    }
   ],
   "source": [
    "import nltk\n",
    "nltk.download('stopwords')\n",
    "from nltk.corpus import stopwords\n",
    "stop = stopwords.words('english')"
   ]
  },
  {
   "cell_type": "code",
   "execution_count": 19,
   "id": "f9056b40-9d7f-403c-8244-0f5e51d3dc47",
   "metadata": {},
   "outputs": [],
   "source": [
    "# remove the stop words\n",
    "from pyspark.ml.feature import StopWordsRemover\n",
    "\n",
    "stop_words_remover = StopWordsRemover(inputCol='words_token', outputCol='text').setStopWords(stop)"
   ]
  },
  {
   "cell_type": "code",
   "execution_count": 20,
   "id": "b74dc0ff-7c4b-412c-8db9-c608dade0533",
   "metadata": {},
   "outputs": [],
   "source": [
    "from pyspark.ml import Pipeline\n",
    "\n",
    "stopWordRemovalPipeline = Pipeline(stages=[stop_words_remover])\n",
    "pipelineFitRemoveStopWords = stopWordRemovalPipeline.fit(df)"
   ]
  },
  {
   "cell_type": "code",
   "execution_count": 21,
   "id": "04e09d68-33c7-47d1-a1c0-ed3cf1740ef3",
   "metadata": {},
   "outputs": [],
   "source": [
    "df = pipelineFitRemoveStopWords.transform(df) #added here"
   ]
  },
  {
   "cell_type": "code",
   "execution_count": 22,
   "id": "80ea64a0-9283-4a15-bf05-7f0d44f09bcd",
   "metadata": {},
   "outputs": [
    {
     "name": "stdout",
     "output_type": "stream",
     "text": [
      "22/12/20 12:35:16 WARN TaskSetManager: Stage 31 contains a task of very large size (4983 KiB). The maximum recommended task size is 1000 KiB.\n",
      "22/12/20 12:35:16 WARN TaskSetManager: Stage 32 contains a task of very large size (4983 KiB). The maximum recommended task size is 1000 KiB.\n"
     ]
    },
    {
     "data": {
      "text/plain": [
       "Row(title='SPECTRE OF BENGHAZI: DOJ Drops Charges Against Alleged Arms Dealer of Libyan Weapons', words_token=['st', 'century', 'wire', 'says', 'the', 'us', 'department', 'of', 'justice', 'doj', 'is', 'dropping', 'all', 'charges', 'against', 'an', 'arms', 'dealer', 'whose', 'weapons', 'made', 'it', 'into', 'the', 'hands', 'of', 'radical', 'libya', 'militantsearly', 'this', 'week', 'a', 'motion', 'was', 'filed', 'by', 'the', 'doj', 'to', 'drop', 'charges', 'against', 'an', 'american', 'arms', 'dealer', 'named', 'marc', 'turi', 'according', 'to', 'federal', 'court', 'records', 'obtained', 'by', 'politicoalso', 'according', 'to', 'politico', 'the', 'deal', 'averts', 'a', 'trial', 'that', 'threatened', 'to', 'cast', 'additional', 'scrutiny', 'on', 'hillary', 'clinton', 's', 'private', 'emails', 'as', 'secretary', 'of', 'state', 'and', 'to', 'expose', 'reported', 'central', 'intelligence', 'agency', 'attempts', 'to', 'arm', 'rebels', 'fighting', 'libyan', 'leader', 'moammar', 'qadhafi', 'libya', 'fallout', 'photo', 'illustration', 'wire', 's', 'shawn', 'heltonin', 'the', 'book', 'entitled', 'definitive', 'report', 'by', 'both', 'jack', 'murphy', 'army', 'green', 'beret', 'and', 'brandon', 'webb', 'navy', 'seal', 'a', 'close', 'friend', 'of', 'glen', 'doherty', 'one', 'of', 'the', 'americans', 'killed', 'during', 'the', 'benghazi', 'siege', 'it', 'was', 'revealed', 'that', 'obama', 's', 'former', 'deputy', 'nsa', 'advisor', 'and', 'current', 'cia', 'director', 'john', 'brennan', 'had', 'been', 'directing', 'covert', 'blackops', 'in', 'libya', 'as', 'well', 'as', 'other', 'parts', 'in', 'north', 'africa', 'prior', 'to', 'the', 'siege', 'that', 'left', 'four', 'americans', 'dead', 'at', 'a', 'compound', 'in', 'benghazibrennan', 's', 'covert', 'operations', 'were', 'said', 'to', 'have', 'prompted', 'retaliation', 'inside', 'the', 'compound', 'in', 'libya', 'as', 'former', 'cia', 'director', 'david', 'petraeus', 'had', 'been', 'blackmailed', 'into', 'resignation', 'by', 'senior', 'cia', 'officialsall', 'of', 'this', 'information', 'was', 'preceded', 'by', 'a', 'massive', 'coverup', 'involving', 'mainstream', 'media', 'assistant', 'secretary', 'of', 'state', 'for', 'african', 'affairs', 'susan', 'rice', 'and', 'secretary', 'of', 'state', 'hillary', 'clinton', 'both', 'of', 'whom', 'initially', 'blamed', 'the', 'siege', 'on', 'a', 'heavily', 'propagandized', 'youtube', 'film', 'entitled', 'the', 'innocence', 'of', 'muslims', 'this', 'meme', 'was', 'spread', 'on', 'many', 'major', 'talk', 'shows', 'even', 'though', 'evidence', 'failed', 'to', 'connect', 'the', 'film', 'to', 'the', 'attackin', 'addition', 'the', 'white', 'house', 'and', 'president', 'barack', 'obama', 'had', 'many', 'inconsistencies', 'in', 'their', 'talking', 'points', 'about', 'benghazi', 'first', 'labeling', 'it', 'a', 'terror', 'attack', 'then', 'quickly', 'shifting', 'gears', 'denying', 'that', 'there', 'were', 'al', 'qaeda', 'operatives', 'anywhere', 'near', 'the', 'compoundus', 'ambassador', 'christopher', 'stevens', 'was', 'said', 'to', 'have', 'helped', 'manage', 'a', 'large', 'gunrunning', 'operation', 'from', 'the', 'special', 'mission', 'compound', 'in', 'benghazi', 'as', 'he', 'was', 'also', 'said', 'to', 'have', 'helped', 'ship', 'guns', 'to', 'alqaedalinked', 'opposition', 'to', 'assist', 'in', 'the', 'takedown', 'of', 'former', 'dictator', 'moammar', 'gadhafiin', 'a', 'business', 'insider', 'report', 'from', 'october', 'of', 'the', 'benghazi', 'story', 'dovetailed', 'the', 'growing', 'proxy', 'war', 'in', 'syria', 'in', 'march', 'stevens', 'became', 'the', 'official', 'us', 'liaison', 'to', 'the', 'alqaedalinked', 'libyan', 'opposition', 'working', 'directly', 'with', 'abdelhakim', 'belhadj', 'of', 'the', 'libyan', 'islamic', 'fighting', 'group', 'a', 'group', 'that', 'has', 'now', 'disbanded', 'with', 'some', 'fighters', 'reportedly', 'participating', 'in', 'the', 'attack', 'that', 'took', 'stevens', 'lifein', 'november', 'the', 'telegraph', 'reported', 'that', 'belhadj', 'acting', 'as', 'head', 'of', 'the', 'tripoli', 'military', 'council', 'met', 'with', 'free', 'syrian', 'army', 'fsa', 'leaders', 'in', 'istanbul', 'and', 'on', 'the', 'border', 'with', 'turkey', 'in', 'an', 'effort', 'by', 'the', 'new', 'libyan', 'government', 'to', 'provide', 'money', 'and', 'weapons', 'to', 'the', 'growing', 'insurgency', 'in', 'syria', 'as', 'wire', 'has', 'previously', 'reported', 'in', 'it', 's', 'worth', 'noting', 'here', 'like', 'libya', 's', 'new', 'militant', 'governor', 'of', 'tripoli', 'abdel', 'hakim', 'belhadj', 'the', 'chechen', 'terrorist', 'group', 'kata', 'ib', 'mohadzherin', 's', 'leader', 'airat', 'vakhitov', 'was', 'also', 'under', 'us', 'supervision', 'for', 'years', 'imprisoned', 'at', 'guantanamo', 'bay', 'cuba', 'circa', 'after', 'being', 'captured', 'by', 'us', 'forces', 'in', 'afghanistan', 'both', 'were', 'belhadj', 'and', 'vakhitov', 'were', 'released', 'by', 'the', 'pentagon', 'only', 'to', 'be', 'repatriated', 'in', 'the', 'field', 'again', 'back', 'into', 'fighting', 'regions', 'to', 'organise', 'al', 'qaedatype', 'islamist', 'groups', 'both', 'active', 'in', 'countries', 'which', 'the', 'us', 'and', 'nato', 'have', 'been', 'actively', 'vying', 'for', 'regime', 'change', 'in', 'libya', 'and', 'syria', 'respectively', 'you', 'can', 'draw', 'your', 'own', 'conclusions', 'here', 'about', 'what', 'guantanamo', 'is', 'in', 'reality', 'a', 'fact', 'which', 'was', 'confirmed', 'by', 'thepenny', 'lane', 'leaks', 'regarding', 'the', 'recruitment', 'of', 'double', 'agents', 'out', 'of', 'gitmo', 'interestingly', 'in', 'a', 'ny', 'times', 'article', 'from', 'december', 'of', 'entitled', 'usapproved', 'arms', 'for', 'libya', 'rebels', 'fell', 'into', 'jihadis', 'hands', 'we', 'see', 'an', 'acknowledgement', 'of', 'an', 'arms', 'shipment', 'at', 'the', 'behest', 'of', 'the', 'obama', 'administration', 'under', 'the', 'watchful', 'eye', 'of', 'former', 'secretary', 'of', 'state', 'hillary', 'clinton', 'but', 'the', 'mainstream', 'media', 'appears', 'to', 'have', 'provided', 'cover', 'for', 'the', 'white', 'house', 'and', 'state', 'department', 'by', 'blaming', 'qatar', 'for', 'the', 'weapons', 'transfer', 'to', 'militants', 'the', 'obama', 'administration', 'secretly', 'gave', 'its', 'blessing', 'to', 'arms', 'shipments', 'to', 'libyan', 'rebels', 'from', 'qatar', 'last', 'year', 'but', 'american', 'officials', 'later', 'grew', 'alarmed', 'as', 'evidence', 'grew', 'that', 'qatar', 'was', 'turning', 'some', 'of', 'the', 'weapons', 'over', 'to', 'islamic', 'militants', 'according', 'to', 'united', 'states', 'officials', 'and', 'foreign', 'diplomatsno', 'evidence', 'has', 'emerged', 'linking', 'the', 'weapons', 'provided', 'by', 'the', 'qataris', 'during', 'the', 'uprising', 'against', 'col', 'muammar', 'elqaddafi', 'to', 'the', 'attack', 'that', 'killed', 'four', 'americans', 'at', 'the', 'united', 'states', 'diplomatic', 'compound', 'in', 'benghazi', 'libya', 'in', 'septemberbut', 'in', 'the', 'months', 'before', 'the', 'obama', 'administration', 'clearly', 'was', 'worried', 'about', 'the', 'consequences', 'of', 'its', 'hidden', 'hand', 'in', 'helping', 'arm', 'libyan', 'militants', 'concerns', 'that', 'have', 'not', 'previously', 'been', 'reported', 'the', 'weapons', 'and', 'money', 'from', 'qatar', 'strengthened', 'militant', 'groups', 'in', 'libya', 'allowing', 'them', 'to', 'become', 'a', 'destabilizing', 'force', 'since', 'the', 'fall', 'of', 'the', 'qaddafi', 'government', 'the', 'spectre', 'of', 'benghazi', 'looms', 'large', 'when', 'connecting', 'the', 'middle', 'eastern', 'dots', 'over', 'the', 'past', 'five', 'yearsmore', 'from', 'zero', 'hedge', 'below', 'trail', 'of', 'blood', 'many', 'questions', 'about', 's', 'benghazi', 'terror', 'siege', 'remain', 'unanswered', 'image', 'source', 'foxnewsdoj', 'drops', 'charges', 'against', 'arms', 'dealer', 'who', 'threatened', 'to', 'expose', 'hillary', 'arming', 'islamic', 'extremistszero', 'hedgein', 'what', 'would', 'under', 'other', 'circumstances', 'likely', 'be', 'a', 'major', 'media', 'spectacle', 'politico', 'reported', 'that', 'the', 'obama', 'administration', 'is', 'moving', 'to', 'dismiss', 'charges', 'against', 'an', 'arms', 'dealer', 'whom', 'it', 'had', 'accused', 'of', 'selling', 'weapons', 'destined', 'for', 'libyan', 'rebels', 'and', 'who', 'had', 'threatened', 'to', 'expose', 'hillary', 'clinton', 's', 'talks', 'about', 'arming', 'antiqaddafi', 'rebelsaccording', 'to', 'a', 'motion', 'filed', 'in', 'federal', 'court', 'in', 'phoenix', 'the', 'doj', 'on', 'monday', 'filed', 'a', 'motion', 'to', 'drop', 'the', 'case', 'against', 'the', 'arms', 'dealer', 'an', 'american', 'named', 'marc', 'turi', 'one', 'potential', 'reason', 'for', 'the', 'surprising', 'move', 'is', 'that', 'as', 'politico', 'writes', 'the', 'deal', 'averts', 'a', 'trial', 'that', 'threatened', 'to', 'cast', 'additional', 'scrutiny', 'on', 'hillary', 'clinton', 's', 'private', 'emails', 'as', 'secretary', 'of', 'state', 'and', 'to', 'expose', 'reported', 'central', 'intelligence', 'agency', 'attempts', 'to', 'arm', 'rebels', 'fighting', 'libyan', 'leader', 'moammar', 'qadhafituri', 'was', 'indicted', 'in', 'on', 'four', 'felony', 'counts', 'two', 'of', 'arms', 'dealing', 'in', 'violation', 'of', 'the', 'arms', 'export', 'control', 'act', 'and', 'two', 'of', 'lying', 'to', 'the', 'state', 'department', 'in', 'official', 'applications', 'the', 'charges', 'accused', 'turi', 'of', 'claiming', 'that', 'the', 'weapons', 'involved', 'were', 'destined', 'for', 'qatar', 'and', 'the', 'united', 'arab', 'emirates', 'when', 'the', 'arms', 'were', 'actually', 'intended', 'to', 'reach', 'libya', 'turi', 's', 'lawyers', 'argued', 'that', 'the', 'shipments', 'were', 'part', 'of', 'a', 'us', 'governmentauthorized', 'effort', 'to', 'arm', 'libyan', 'rebels', 'it', 's', 'unclear', 'if', 'any', 'of', 'the', 'weapons', 'made', 'it', 'to', 'libya', 'and', 'there', 's', 'no', 'evidence', 'linking', 'weapons', 'provided', 'by', 'the', 'us', 'government', 'to', 'the', 'benghazi', 'attacksaccording', 'to', 'politico', 'government', 'lawyers', 'were', 'facing', 'a', 'wednesday', 'deadline', 'to', 'produce', 'documents', 'to', 'turi', 's', 'legal', 'team', 'and', 'the', 'trial', 'was', 'officially', 'set', 'to', 'begin', 'on', 'election', 'day', 'although', 'it', 'likely', 'would', 'have', 'been', 'delayed', 'by', 'protracted', 'disputes', 'about', 'classified', 'information', 'in', 'the', 'case', 'a', 'turi', 'associate', 'asserted', 'that', 'the', 'government', 'dropped', 'the', 'case', 'because', 'the', 'proceedings', 'could', 'have', 'embarrassed', 'clinton', 'and', 'president', 'barack', 'obama', 'by', 'calling', 'attention', 'to', 'the', 'reported', 'role', 'of', 'their', 'administration', 'in', 'supplying', 'weapons', 'that', 'fell', 'into', 'the', 'hands', 'of', 'islamic', 'extremist', 'militantsmaking', 'matters', 'worse', 'turi', 's', 'case', 'had', 'delved', 'into', 'emails', 'sent', 'to', 'and', 'from', 'the', 'controversial', 'private', 'account', 'that', 'clinton', 'used', 'as', 'secretary', 'of', 'state', 'which', 'the', 'defense', 'planned', 'to', 'harness', 'at', 'any', 'trial', 'they', 'don', 't', 'want', 'this', 'stuff', 'to', 'come', 'out', 'because', 'it', 'will', 'look', 'really', 'bad', 'for', 'obama', 'and', 'clinton', 'just', 'before', 'the', 'election', 'said', 'the', 'associateleery', 'of', 'admitting', 'the', 'actual', 'truth', 'in', 'the', 'dismissal', 'motion', 'prosecutors', 'were', 'vague', 'saying', 'that', 'discovery', 'rulings', 'from', 'us', 'district', 'court', 'judge', 'david', 'campbell', 'contributed', 'to', 'the', 'decision', 'to', 'drop', 'the', 'case', 'the', 'joint', 'motion', 'asks', 'the', 'judge', 'to', 'accept', 'a', 'confidential', 'agreement', 'to', 'resolve', 'the', 'case', 'through', 'a', 'civil', 'settlement', 'between', 'the', 'state', 'department', 'and', 'the', 'arms', 'brokerthis', 'story', 'continues', 'at', 'zero', 'hedge', 'read', 'more', 'isis', 'news', 'at', 'st', 'century', 'wire', 'isis', 'files', 'read', 'more', 'libya', 'news', 'at', 'st', 'century', 'wire', 'libya', 'filessupport', 'our', 'work', 'by', 'subscribing', 'becoming', 'a', 'member', 'wiretv'], subject='US_News', date='October 5, 2016', flag=0, text=['st', 'century', 'wire', 'says', 'us', 'department', 'justice', 'doj', 'dropping', 'charges', 'arms', 'dealer', 'whose', 'weapons', 'made', 'hands', 'radical', 'libya', 'militantsearly', 'week', 'motion', 'filed', 'doj', 'drop', 'charges', 'american', 'arms', 'dealer', 'named', 'marc', 'turi', 'according', 'federal', 'court', 'records', 'obtained', 'politicoalso', 'according', 'politico', 'deal', 'averts', 'trial', 'threatened', 'cast', 'additional', 'scrutiny', 'hillary', 'clinton', 'private', 'emails', 'secretary', 'state', 'expose', 'reported', 'central', 'intelligence', 'agency', 'attempts', 'arm', 'rebels', 'fighting', 'libyan', 'leader', 'moammar', 'qadhafi', 'libya', 'fallout', 'photo', 'illustration', 'wire', 'shawn', 'heltonin', 'book', 'entitled', 'definitive', 'report', 'jack', 'murphy', 'army', 'green', 'beret', 'brandon', 'webb', 'navy', 'seal', 'close', 'friend', 'glen', 'doherty', 'one', 'americans', 'killed', 'benghazi', 'siege', 'revealed', 'obama', 'former', 'deputy', 'nsa', 'advisor', 'current', 'cia', 'director', 'john', 'brennan', 'directing', 'covert', 'blackops', 'libya', 'well', 'parts', 'north', 'africa', 'prior', 'siege', 'left', 'four', 'americans', 'dead', 'compound', 'benghazibrennan', 'covert', 'operations', 'said', 'prompted', 'retaliation', 'inside', 'compound', 'libya', 'former', 'cia', 'director', 'david', 'petraeus', 'blackmailed', 'resignation', 'senior', 'cia', 'officialsall', 'information', 'preceded', 'massive', 'coverup', 'involving', 'mainstream', 'media', 'assistant', 'secretary', 'state', 'african', 'affairs', 'susan', 'rice', 'secretary', 'state', 'hillary', 'clinton', 'initially', 'blamed', 'siege', 'heavily', 'propagandized', 'youtube', 'film', 'entitled', 'innocence', 'muslims', 'meme', 'spread', 'many', 'major', 'talk', 'shows', 'even', 'though', 'evidence', 'failed', 'connect', 'film', 'attackin', 'addition', 'white', 'house', 'president', 'barack', 'obama', 'many', 'inconsistencies', 'talking', 'points', 'benghazi', 'first', 'labeling', 'terror', 'attack', 'quickly', 'shifting', 'gears', 'denying', 'al', 'qaeda', 'operatives', 'anywhere', 'near', 'compoundus', 'ambassador', 'christopher', 'stevens', 'said', 'helped', 'manage', 'large', 'gunrunning', 'operation', 'special', 'mission', 'compound', 'benghazi', 'also', 'said', 'helped', 'ship', 'guns', 'alqaedalinked', 'opposition', 'assist', 'takedown', 'former', 'dictator', 'moammar', 'gadhafiin', 'business', 'insider', 'report', 'october', 'benghazi', 'story', 'dovetailed', 'growing', 'proxy', 'war', 'syria', 'march', 'stevens', 'became', 'official', 'us', 'liaison', 'alqaedalinked', 'libyan', 'opposition', 'working', 'directly', 'abdelhakim', 'belhadj', 'libyan', 'islamic', 'fighting', 'group', 'group', 'disbanded', 'fighters', 'reportedly', 'participating', 'attack', 'took', 'stevens', 'lifein', 'november', 'telegraph', 'reported', 'belhadj', 'acting', 'head', 'tripoli', 'military', 'council', 'met', 'free', 'syrian', 'army', 'fsa', 'leaders', 'istanbul', 'border', 'turkey', 'effort', 'new', 'libyan', 'government', 'provide', 'money', 'weapons', 'growing', 'insurgency', 'syria', 'wire', 'previously', 'reported', 'worth', 'noting', 'like', 'libya', 'new', 'militant', 'governor', 'tripoli', 'abdel', 'hakim', 'belhadj', 'chechen', 'terrorist', 'group', 'kata', 'ib', 'mohadzherin', 'leader', 'airat', 'vakhitov', 'also', 'us', 'supervision', 'years', 'imprisoned', 'guantanamo', 'bay', 'cuba', 'circa', 'captured', 'us', 'forces', 'afghanistan', 'belhadj', 'vakhitov', 'released', 'pentagon', 'repatriated', 'field', 'back', 'fighting', 'regions', 'organise', 'al', 'qaedatype', 'islamist', 'groups', 'active', 'countries', 'us', 'nato', 'actively', 'vying', 'regime', 'change', 'libya', 'syria', 'respectively', 'draw', 'conclusions', 'guantanamo', 'reality', 'fact', 'confirmed', 'thepenny', 'lane', 'leaks', 'regarding', 'recruitment', 'double', 'agents', 'gitmo', 'interestingly', 'ny', 'times', 'article', 'december', 'entitled', 'usapproved', 'arms', 'libya', 'rebels', 'fell', 'jihadis', 'hands', 'see', 'acknowledgement', 'arms', 'shipment', 'behest', 'obama', 'administration', 'watchful', 'eye', 'former', 'secretary', 'state', 'hillary', 'clinton', 'mainstream', 'media', 'appears', 'provided', 'cover', 'white', 'house', 'state', 'department', 'blaming', 'qatar', 'weapons', 'transfer', 'militants', 'obama', 'administration', 'secretly', 'gave', 'blessing', 'arms', 'shipments', 'libyan', 'rebels', 'qatar', 'last', 'year', 'american', 'officials', 'later', 'grew', 'alarmed', 'evidence', 'grew', 'qatar', 'turning', 'weapons', 'islamic', 'militants', 'according', 'united', 'states', 'officials', 'foreign', 'diplomatsno', 'evidence', 'emerged', 'linking', 'weapons', 'provided', 'qataris', 'uprising', 'col', 'muammar', 'elqaddafi', 'attack', 'killed', 'four', 'americans', 'united', 'states', 'diplomatic', 'compound', 'benghazi', 'libya', 'septemberbut', 'months', 'obama', 'administration', 'clearly', 'worried', 'consequences', 'hidden', 'hand', 'helping', 'arm', 'libyan', 'militants', 'concerns', 'previously', 'reported', 'weapons', 'money', 'qatar', 'strengthened', 'militant', 'groups', 'libya', 'allowing', 'become', 'destabilizing', 'force', 'since', 'fall', 'qaddafi', 'government', 'spectre', 'benghazi', 'looms', 'large', 'connecting', 'middle', 'eastern', 'dots', 'past', 'five', 'yearsmore', 'zero', 'hedge', 'trail', 'blood', 'many', 'questions', 'benghazi', 'terror', 'siege', 'remain', 'unanswered', 'image', 'source', 'foxnewsdoj', 'drops', 'charges', 'arms', 'dealer', 'threatened', 'expose', 'hillary', 'arming', 'islamic', 'extremistszero', 'hedgein', 'would', 'circumstances', 'likely', 'major', 'media', 'spectacle', 'politico', 'reported', 'obama', 'administration', 'moving', 'dismiss', 'charges', 'arms', 'dealer', 'accused', 'selling', 'weapons', 'destined', 'libyan', 'rebels', 'threatened', 'expose', 'hillary', 'clinton', 'talks', 'arming', 'antiqaddafi', 'rebelsaccording', 'motion', 'filed', 'federal', 'court', 'phoenix', 'doj', 'monday', 'filed', 'motion', 'drop', 'case', 'arms', 'dealer', 'american', 'named', 'marc', 'turi', 'one', 'potential', 'reason', 'surprising', 'move', 'politico', 'writes', 'deal', 'averts', 'trial', 'threatened', 'cast', 'additional', 'scrutiny', 'hillary', 'clinton', 'private', 'emails', 'secretary', 'state', 'expose', 'reported', 'central', 'intelligence', 'agency', 'attempts', 'arm', 'rebels', 'fighting', 'libyan', 'leader', 'moammar', 'qadhafituri', 'indicted', 'four', 'felony', 'counts', 'two', 'arms', 'dealing', 'violation', 'arms', 'export', 'control', 'act', 'two', 'lying', 'state', 'department', 'official', 'applications', 'charges', 'accused', 'turi', 'claiming', 'weapons', 'involved', 'destined', 'qatar', 'united', 'arab', 'emirates', 'arms', 'actually', 'intended', 'reach', 'libya', 'turi', 'lawyers', 'argued', 'shipments', 'part', 'us', 'governmentauthorized', 'effort', 'arm', 'libyan', 'rebels', 'unclear', 'weapons', 'made', 'libya', 'evidence', 'linking', 'weapons', 'provided', 'us', 'government', 'benghazi', 'attacksaccording', 'politico', 'government', 'lawyers', 'facing', 'wednesday', 'deadline', 'produce', 'documents', 'turi', 'legal', 'team', 'trial', 'officially', 'set', 'begin', 'election', 'day', 'although', 'likely', 'would', 'delayed', 'protracted', 'disputes', 'classified', 'information', 'case', 'turi', 'associate', 'asserted', 'government', 'dropped', 'case', 'proceedings', 'could', 'embarrassed', 'clinton', 'president', 'barack', 'obama', 'calling', 'attention', 'reported', 'role', 'administration', 'supplying', 'weapons', 'fell', 'hands', 'islamic', 'extremist', 'militantsmaking', 'matters', 'worse', 'turi', 'case', 'delved', 'emails', 'sent', 'controversial', 'private', 'account', 'clinton', 'used', 'secretary', 'state', 'defense', 'planned', 'harness', 'trial', 'want', 'stuff', 'come', 'look', 'really', 'bad', 'obama', 'clinton', 'election', 'said', 'associateleery', 'admitting', 'actual', 'truth', 'dismissal', 'motion', 'prosecutors', 'vague', 'saying', 'discovery', 'rulings', 'us', 'district', 'court', 'judge', 'david', 'campbell', 'contributed', 'decision', 'drop', 'case', 'joint', 'motion', 'asks', 'judge', 'accept', 'confidential', 'agreement', 'resolve', 'case', 'civil', 'settlement', 'state', 'department', 'arms', 'brokerthis', 'story', 'continues', 'zero', 'hedge', 'read', 'isis', 'news', 'st', 'century', 'wire', 'isis', 'files', 'read', 'libya', 'news', 'st', 'century', 'wire', 'libya', 'filessupport', 'work', 'subscribing', 'becoming', 'member', 'wiretv'])"
      ]
     },
     "execution_count": 22,
     "metadata": {},
     "output_type": "execute_result"
    }
   ],
   "source": [
    "df.first()"
   ]
  },
  {
   "cell_type": "code",
   "execution_count": 23,
   "id": "f94d9533-351e-4b7a-a356-cbbf76aa76fa",
   "metadata": {},
   "outputs": [
    {
     "name": "stdout",
     "output_type": "stream",
     "text": [
      "22/12/20 12:35:36 WARN TaskSetManager: Stage 35 contains a task of very large size (4983 KiB). The maximum recommended task size is 1000 KiB.\n",
      "22/12/20 12:35:36 WARN TaskSetManager: Stage 36 contains a task of very large size (4983 KiB). The maximum recommended task size is 1000 KiB.\n",
      "+--------------------+--------------------+---------+------------------+----+--------------------+\n",
      "|               title|         words_token|  subject|              date|flag|                text|\n",
      "+--------------------+--------------------+---------+------------------+----+--------------------+\n",
      "|SPECTRE OF BENGHA...|[st, century, wir...|  US_News|   October 5, 2016|   0|st century wire s...|\n",
      "|LOL! ONE HILARIOU...|[watching, sports...| politics|      Sep 28, 2017|   0|watching sports t...|\n",
      "|Britain to submit...|[london, reuters,...|worldnews|November 19, 2017 |   1|london reuters br...|\n",
      "|Russia's Lavrov t...|[moscow, reuters,...|worldnews|December 26, 2017 |   1|moscow reuters ru...|\n",
      "| Anti-Gay Pastor ...|[this, hypocrite,...|     News|   August 26, 2016|   0|hypocrite got ass...|\n",
      "+--------------------+--------------------+---------+------------------+----+--------------------+\n",
      "only showing top 5 rows\n",
      "\n"
     ]
    }
   ],
   "source": [
    "# most freq words in data\n",
    "\n",
    "from pyspark.sql.functions import concat_ws\n",
    "\n",
    "df_freq = df.withColumn(\"text\", concat_ws(\" \", df[\"text\"]))\n",
    "\n",
    "df_freq.show(5)"
   ]
  },
  {
   "cell_type": "code",
   "execution_count": 24,
   "id": "f3d26157-f87e-4b99-9199-5bfb2ecdf63c",
   "metadata": {},
   "outputs": [],
   "source": [
    "# most frequent fake words\n",
    "\n",
    "df_fake_freq = df_freq.filter(df[\"flag\"] == 0)\n",
    "\n",
    "df_fake_text = df_fake_freq.select(\"text\")\n"
   ]
  },
  {
   "cell_type": "code",
   "execution_count": 25,
   "id": "7164bfbe-2673-4769-8b62-75f7c79cca61",
   "metadata": {},
   "outputs": [
    {
     "name": "stdout",
     "output_type": "stream",
     "text": [
      "22/12/20 12:35:41 WARN TaskSetManager: Stage 39 contains a task of very large size (4983 KiB). The maximum recommended task size is 1000 KiB.\n"
     ]
    },
    {
     "name": "stderr",
     "output_type": "stream",
     "text": [
      "                                                                                \r"
     ]
    },
    {
     "name": "stdout",
     "output_type": "stream",
     "text": [
      "22/12/20 12:35:44 WARN TaskSetManager: Stage 40 contains a task of very large size (4983 KiB). The maximum recommended task size is 1000 KiB.\n"
     ]
    },
    {
     "name": "stderr",
     "output_type": "stream",
     "text": [
      "[Stage 42:=====================>                                    (3 + 5) / 8]\r"
     ]
    },
    {
     "name": "stdout",
     "output_type": "stream",
     "text": [
      "+---------+-----+\n",
      "|     word|count|\n",
      "+---------+-----+\n",
      "|    trump|73933|\n",
      "|     said|31013|\n",
      "|   people|25963|\n",
      "|president|25586|\n",
      "|    would|23427|\n",
      "|      one|22935|\n",
      "|       us|22049|\n",
      "|  clinton|18011|\n",
      "|    obama|17813|\n",
      "|     like|17621|\n",
      "|   donald|17215|\n",
      "|     also|15242|\n",
      "|      new|14158|\n",
      "|     news|14126|\n",
      "|     even|13717|\n",
      "|  hillary|13565|\n",
      "|    white|12778|\n",
      "|     time|12728|\n",
      "|    state|12525|\n",
      "|      via|11273|\n",
      "+---------+-----+\n",
      "only showing top 20 rows\n",
      "\n"
     ]
    },
    {
     "name": "stderr",
     "output_type": "stream",
     "text": [
      "                                                                                \r"
     ]
    }
   ],
   "source": [
    "from pyspark.sql.functions import explode\n",
    "\n",
    "df_fake_text = df_fake_text\\\n",
    ".withColumn(\"words\", split(col(\"text\"), \" \"))\\\n",
    ".where(length(\"text\")>0)\n",
    "\n",
    "df_freq_fake = df_fake_text\\\n",
    ".select(explode(col(\"words\")).alias(\"word\"))\\\n",
    ".groupBy(\"word\").count()\\\n",
    "\n",
    "df_freq_fake.orderBy(col(\"count\").desc()).show()"
   ]
  },
  {
   "cell_type": "code",
   "execution_count": 26,
   "id": "3de2db2f-de9f-4656-ae5d-d9362d799cdc",
   "metadata": {},
   "outputs": [],
   "source": [
    "#graph representtion of most frequent words in fake news\n",
    "# import seaborn as sns \n",
    "\n",
    "# df_graph_fake = df_freq_fake.orderBy(col(\"count\").desc())\n",
    "\n",
    "# df_graph_fake = df_graph_fake.toPandas()\n",
    "\n",
    "# ax = sns.barplot(data = df_graph_fake, x = \"word\", y = \"count\", color = 'blue')\n",
    "# ax.set(ylabel = \"count\")\n",
    "# plt.xticks(rotation='vertical')\n",
    "# plt.show()"
   ]
  },
  {
   "cell_type": "code",
   "execution_count": 27,
   "id": "0e1f3aac-3764-4da3-8b94-d1c24743549c",
   "metadata": {},
   "outputs": [],
   "source": [
    "#most true words\n",
    "\n",
    "df_true_freq = df_freq.filter(df[\"flag\"] == 1)\n",
    "\n",
    "df_true_text = df_true_freq.select(\"text\")"
   ]
  },
  {
   "cell_type": "code",
   "execution_count": 28,
   "id": "2d810c99-54a3-4764-b88e-cf005d1c8c13",
   "metadata": {},
   "outputs": [
    {
     "name": "stdout",
     "output_type": "stream",
     "text": [
      "22/12/20 12:35:54 WARN TaskSetManager: Stage 46 contains a task of very large size (4983 KiB). The maximum recommended task size is 1000 KiB.\n"
     ]
    },
    {
     "name": "stderr",
     "output_type": "stream",
     "text": [
      "                                                                                \r"
     ]
    },
    {
     "name": "stdout",
     "output_type": "stream",
     "text": [
      "22/12/20 12:35:56 WARN TaskSetManager: Stage 47 contains a task of very large size (4983 KiB). The maximum recommended task size is 1000 KiB.\n"
     ]
    },
    {
     "name": "stderr",
     "output_type": "stream",
     "text": [
      "[Stage 49:=======>                                                  (1 + 7) / 8]\r"
     ]
    },
    {
     "name": "stdout",
     "output_type": "stream",
     "text": [
      "+----------+-----+\n",
      "|      word|count|\n",
      "+----------+-----+\n",
      "|      said|98985|\n",
      "|     trump|42577|\n",
      "|        us|41137|\n",
      "|     would|31514|\n",
      "|   reuters|28306|\n",
      "| president|25533|\n",
      "|     state|18753|\n",
      "|government|17976|\n",
      "|    states|17634|\n",
      "|       new|16785|\n",
      "|     house|16405|\n",
      "|      also|15944|\n",
      "|    united|15572|\n",
      "|republican|15288|\n",
      "|    people|15111|\n",
      "|      told|14242|\n",
      "|     could|13697|\n",
      "|       one|12674|\n",
      "|      last|12613|\n",
      "|washington|12140|\n",
      "+----------+-----+\n",
      "only showing top 20 rows\n",
      "\n"
     ]
    },
    {
     "name": "stderr",
     "output_type": "stream",
     "text": [
      "                                                                                \r"
     ]
    }
   ],
   "source": [
    "from pyspark.sql.functions import explode\n",
    "\n",
    "df_true_text = df_true_text\\\n",
    ".withColumn(\"words\", split(col(\"text\"), \" \"))\\\n",
    ".where(length(\"text\")>0)\n",
    "\n",
    "df_freq_true = df_true_text\\\n",
    ".select(explode(col(\"words\")).alias(\"word\"))\\\n",
    ".groupBy(\"word\").count()\\\n",
    "\n",
    "df_freq_true.orderBy(col(\"count\").desc()).show()"
   ]
  },
  {
   "cell_type": "code",
   "execution_count": 29,
   "id": "eec22931-121d-4e9d-849d-f660964bfd78",
   "metadata": {},
   "outputs": [
    {
     "name": "stdout",
     "output_type": "stream",
     "text": [
      "root\n",
      " |-- title: string (nullable = true)\n",
      " |-- words_token: array (nullable = true)\n",
      " |    |-- element: string (containsNull = true)\n",
      " |-- subject: string (nullable = true)\n",
      " |-- date: string (nullable = true)\n",
      " |-- flag: integer (nullable = false)\n",
      " |-- text: string (nullable = false)\n",
      "\n"
     ]
    }
   ],
   "source": [
    "df_freq.printSchema()"
   ]
  },
  {
   "cell_type": "code",
   "execution_count": 30,
   "id": "d7e0b522-c6ba-463c-9d98-24dfcf61768a",
   "metadata": {},
   "outputs": [
    {
     "name": "stdout",
     "output_type": "stream",
     "text": [
      "22/12/20 12:36:03 WARN TaskSetManager: Stage 53 contains a task of very large size (4983 KiB). The maximum recommended task size is 1000 KiB.\n"
     ]
    },
    {
     "data": {
      "text/plain": [
       "44898"
      ]
     },
     "execution_count": 30,
     "metadata": {},
     "output_type": "execute_result"
    }
   ],
   "source": [
    "df_freq.count()"
   ]
  },
  {
   "cell_type": "code",
   "execution_count": 31,
   "id": "5a459d10-e4df-43a9-a0b9-20d2d87c0a77",
   "metadata": {},
   "outputs": [
    {
     "name": "stdout",
     "output_type": "stream",
     "text": [
      "root\n",
      " |-- subject: string (nullable = true)\n",
      " |-- flag: integer (nullable = false)\n",
      " |-- text: string (nullable = false)\n",
      "\n"
     ]
    }
   ],
   "source": [
    "# drop unwanted coloumns\n",
    "\n",
    "df_ml = df_freq.drop(\"title\",\"words_token\",\"date\")\n",
    "df_ml.printSchema()"
   ]
  },
  {
   "cell_type": "code",
   "execution_count": 32,
   "id": "e2aebece-ee74-4a37-9433-238f2fd32d95",
   "metadata": {},
   "outputs": [
    {
     "name": "stdout",
     "output_type": "stream",
     "text": [
      "22/12/20 12:36:11 WARN TaskSetManager: Stage 56 contains a task of very large size (4983 KiB). The maximum recommended task size is 1000 KiB.\n",
      "22/12/20 12:36:11 WARN TaskSetManager: Stage 57 contains a task of very large size (4983 KiB). The maximum recommended task size is 1000 KiB.\n",
      "+------------+----+--------------------+---+\n",
      "|     subject|flag|                text| id|\n",
      "+------------+----+--------------------+---+\n",
      "|     US_News|   0|st century wire s...|  0|\n",
      "|    politics|   0|watching sports t...|  1|\n",
      "|   worldnews|   1|london reuters br...|  2|\n",
      "|   worldnews|   1|moscow reuters ru...|  3|\n",
      "|        News|   0|hypocrite got ass...|  4|\n",
      "|politicsNews|   1|washington reuter...|  5|\n",
      "|   worldnews|   1|benghazi libya re...|  6|\n",
      "|politicsNews|   1|philadelphia reut...|  7|\n",
      "|    politics|   0|liberal lunacy ta...|  8|\n",
      "|   worldnews|   1|lima reuters gove...|  9|\n",
      "|     US_News|   0|st century wire s...| 10|\n",
      "|politicsNews|   1|washington reuter...| 11|\n",
      "|   left-news|   0|san fransisco er ...| 12|\n",
      "|   worldnews|   1|berlin reuters ge...| 13|\n",
      "|politicsNews|   1|reuters republica...| 14|\n",
      "|   worldnews|   1|london reuters te...| 15|\n",
      "|        News|   0|dropping republic...| 16|\n",
      "|politicsNews|   1|huntington wv reu...| 17|\n",
      "|    politics|   0|celebrated congre...| 18|\n",
      "|   worldnews|   1|tokyo reuters tun...| 19|\n",
      "+------------+----+--------------------+---+\n",
      "only showing top 20 rows\n",
      "\n"
     ]
    }
   ],
   "source": [
    "from pyspark.sql.functions import monotonically_increasing_id \n",
    "\n",
    "df_ml = df_ml.select(\"*\").withColumn(\"id\", monotonically_increasing_id())\n",
    "\n",
    "df_ml.show()"
   ]
  },
  {
   "cell_type": "code",
   "execution_count": 33,
   "id": "66c936e2-3d6e-4f62-bbf2-ca93547a3ed6",
   "metadata": {},
   "outputs": [
    {
     "name": "stdout",
     "output_type": "stream",
     "text": [
      "22/12/20 12:36:14 WARN TaskSetManager: Stage 60 contains a task of very large size (4983 KiB). The maximum recommended task size is 1000 KiB.\n",
      "22/12/20 12:36:14 WARN TaskSetManager: Stage 61 contains a task of very large size (4983 KiB). The maximum recommended task size is 1000 KiB.\n"
     ]
    },
    {
     "name": "stderr",
     "output_type": "stream",
     "text": [
      "                                                                                \r"
     ]
    },
    {
     "name": "stdout",
     "output_type": "stream",
     "text": [
      "22/12/20 12:36:18 WARN TaskSetManager: Stage 64 contains a task of very large size (4983 KiB). The maximum recommended task size is 1000 KiB.\n",
      "22/12/20 12:36:18 WARN TaskSetManager: Stage 65 contains a task of very large size (4983 KiB). The maximum recommended task size is 1000 KiB.\n"
     ]
    }
   ],
   "source": [
    "# x values and Y values\n",
    "\n",
    "x = df_ml.select('text').rdd.flatMap(lambda x: x).collect()\n",
    "y = df_ml.select('flag').rdd.flatMap(lambda x: x).collect()"
   ]
  },
  {
   "cell_type": "code",
   "execution_count": 34,
   "id": "8b78c8d4-0c75-4a24-9658-be065015fcb4",
   "metadata": {},
   "outputs": [],
   "source": [
    "from sklearn.model_selection import train_test_split\n",
    "from sklearn.metrics import classification_report\n",
    "\n",
    "x_train, x_test, y_train, y_test = train_test_split(x,y,test_size=.25)"
   ]
  },
  {
   "cell_type": "code",
   "execution_count": 35,
   "id": "7f5d52f9-5e40-40ed-a9e6-15e1aff35790",
   "metadata": {},
   "outputs": [],
   "source": [
    "# print(x_train[0])\n",
    "# print(y_train[0])"
   ]
  },
  {
   "cell_type": "code",
   "execution_count": 36,
   "id": "9fa9c01d-6bc6-4aa2-88e2-bec5be2ffe0b",
   "metadata": {},
   "outputs": [],
   "source": [
    "#vectorize the text\n",
    "\n",
    "from sklearn.feature_extraction.text import TfidfVectorizer"
   ]
  },
  {
   "cell_type": "code",
   "execution_count": 37,
   "id": "88a581c7-1eff-412c-b461-6e3e18d24183",
   "metadata": {},
   "outputs": [],
   "source": [
    "vectorization = TfidfVectorizer()\n",
    "xv_train = vectorization.fit_transform(x_train)\n",
    "xv_test = vectorization.transform(x_test)"
   ]
  },
  {
   "cell_type": "code",
   "execution_count": 38,
   "id": "35d5fc64-0068-4a86-a0af-671fbbaa7a47",
   "metadata": {},
   "outputs": [
    {
     "data": {
      "text/plain": [
       "<33673x185435 sparse matrix of type '<class 'numpy.float64'>'\n",
       "\twith 5448855 stored elements in Compressed Sparse Row format>"
      ]
     },
     "execution_count": 38,
     "metadata": {},
     "output_type": "execute_result"
    }
   ],
   "source": [
    "xv_train"
   ]
  },
  {
   "cell_type": "code",
   "execution_count": 39,
   "id": "e77b3db7-eb5f-4f78-8238-074c846fdc5f",
   "metadata": {},
   "outputs": [
    {
     "data": {
      "text/plain": [
       "array([0., 0., 0., ..., 0., 0., 0.])"
      ]
     },
     "execution_count": 39,
     "metadata": {},
     "output_type": "execute_result"
    }
   ],
   "source": [
    "xv_train.toarray()[0]"
   ]
  },
  {
   "cell_type": "code",
   "execution_count": 40,
   "id": "d640734a-d7dc-48aa-8d6f-07112b6970ec",
   "metadata": {},
   "outputs": [],
   "source": [
    "from sklearn.linear_model import LogisticRegression"
   ]
  },
  {
   "cell_type": "code",
   "execution_count": 41,
   "id": "15be177c-bd0b-441e-a4b6-864909c0414f",
   "metadata": {},
   "outputs": [
    {
     "data": {
      "text/plain": [
       "LogisticRegression()"
      ]
     },
     "execution_count": 41,
     "metadata": {},
     "output_type": "execute_result"
    }
   ],
   "source": [
    "LR = LogisticRegression()\n",
    "LR.fit(xv_train, y_train)"
   ]
  },
  {
   "cell_type": "code",
   "execution_count": 42,
   "id": "a1aab4ff-7b57-4d6c-81da-53d8273c1ff8",
   "metadata": {},
   "outputs": [
    {
     "data": {
      "text/plain": [
       "0.98913140311804"
      ]
     },
     "execution_count": 42,
     "metadata": {},
     "output_type": "execute_result"
    }
   ],
   "source": [
    "LR.score(xv_test, y_test)"
   ]
  },
  {
   "cell_type": "code",
   "execution_count": 43,
   "id": "06daee6b-4065-4f34-b7bc-22a90f2b7452",
   "metadata": {},
   "outputs": [],
   "source": [
    "pred_LR = LR.predict(xv_test)"
   ]
  },
  {
   "cell_type": "code",
   "execution_count": 44,
   "id": "8ba3e649-b971-40ae-a73f-f019d4048097",
   "metadata": {},
   "outputs": [
    {
     "name": "stdout",
     "output_type": "stream",
     "text": [
      "              precision    recall  f1-score   support\n",
      "\n",
      "           0       0.99      0.99      0.99      5800\n",
      "           1       0.99      0.99      0.99      5425\n",
      "\n",
      "    accuracy                           0.99     11225\n",
      "   macro avg       0.99      0.99      0.99     11225\n",
      "weighted avg       0.99      0.99      0.99     11225\n",
      "\n"
     ]
    }
   ],
   "source": [
    "print(classification_report(y_test, pred_LR))"
   ]
  },
  {
   "cell_type": "code",
   "execution_count": 45,
   "id": "4d1ef1ea-c1af-41b5-b4db-3b60a3a7a55e",
   "metadata": {},
   "outputs": [],
   "source": [
    "import re, string\n",
    "def wordopt(text):\n",
    "    text = text.lower()\n",
    "    text = re.sub('\\[.*?\\]', '', text)\n",
    "    text = re.sub(\"\\\\W\",\" \",text) \n",
    "    text = re.sub('https?://\\S+|www\\.\\S+', '', text)\n",
    "    text = re.sub('<.*?>+', '', text)\n",
    "    text = re.sub('[%s]' % re.escape(string.punctuation), '', text)\n",
    "    text = re.sub('\\n', '', text)\n",
    "    text = re.sub('\\w*\\d\\w*', '', text)    \n",
    "    return text"
   ]
  },
  {
   "cell_type": "code",
   "execution_count": 46,
   "id": "db253665-1ce8-4dcf-9189-297f7544ec47",
   "metadata": {},
   "outputs": [],
   "source": [
    "import pandas as pd\n",
    "def output_lable(n):\n",
    "    if n == 0:\n",
    "        return \"Fake News\"\n",
    "    elif n == 1:\n",
    "        return \"Not A Fake News\"\n",
    "    \n",
    "def manual_testing(news):\n",
    "    testing_news = {\"text\":[news]}\n",
    "    new_def_test = pd.DataFrame(testing_news)\n",
    "    new_def_test[\"text\"] = new_def_test[\"text\"].apply(wordopt) \n",
    "    new_x_test = new_def_test[\"text\"]\n",
    "    new_xv_test = vectorization.transform(new_x_test)\n",
    "    pred_LR = LR.predict(new_xv_test)\n",
    "    print(\"*****\")\n",
    "    #print(pred_LR[0])\n",
    "    print(new_xv_test)\n",
    "    print(type(pred_LR[0]))\n",
    "    # pred_DT = DT.predict(new_xv_test)\n",
    "    # pred_GBC = GBC.predict(new_xv_test)\n",
    "    # pred_RFC = RFC.predict(new_xv_test)\n",
    "\n",
    "    return print(\"\\n\\nLR Prediction: {} \\n\".format(output_lable(pred_LR[0])))"
   ]
  },
  {
   "cell_type": "code",
   "execution_count": 48,
   "id": "b36ae219-cfc4-48b7-93e0-562e30fea614",
   "metadata": {},
   "outputs": [
    {
     "name": "stdin",
     "output_type": "stream",
     "text": [
      " WASHINGTON (Reuters) - The head of a conservative Republican faction in the U.S. Congress, who voted this month for a huge expansion of the national debt to pay for tax cuts, called himself a “fiscal conservative” on Sunday and urged budget restraint in 2018. In keeping with a sharp pivot under way among Republicans, U.S. Representative Mark Meadows, speaking on CBS’ “Face the Nation,” drew a hard line on federal spending, which lawmakers are bracing to do battle over in January. When they return from the holidays on Wednesday, lawmakers will begin trying to pass a federal budget in a fight likely to be linked to other issues, such as immigration policy, even as the November congressional election campaigns approach in which Republicans will seek to keep control of Congress. President Donald Trump and his Republicans want a big budget increase in military spending, while Democrats also want proportional increases for non-defense “discretionary” spending on programs that support education, scientific research, infrastructure, public health and environmental protection. “The (Trump) administration has already been willing to say: ‘We’re going to increase non-defense discretionary spending ... by about 7 percent,’” Meadows, chairman of the small but influential House Freedom Caucus, said on the program. “Now, Democrats are saying that’s not enough, we need to give the government a pay raise of 10 to 11 percent. For a fiscal conservative, I don’t see where the rationale is. ... Eventually you run out of other people’s money,” he said. Meadows was among Republicans who voted in late December for their party’s debt-financed tax overhaul, which is expected to balloon the federal budget deficit and add about $1.5 trillion over 10 years to the $20 trillion national debt. “It’s interesting to hear Mark talk about fiscal responsibility,” Democratic U.S. Representative Joseph Crowley said on CBS. Crowley said the Republican tax bill would require the  United States to borrow $1.5 trillion, to be paid off by future generations, to finance tax cuts for corporations and the rich. “This is one of the least ... fiscally responsible bills we’ve ever seen passed in the history of the House of Representatives. I think we’re going to be paying for this for many, many years to come,” Crowley said. Republicans insist the tax package, the biggest U.S. tax overhaul in more than 30 years,  will boost the economy and job growth. House Speaker Paul Ryan, who also supported the tax bill, recently went further than Meadows, making clear in a radio interview that welfare or “entitlement reform,” as the party often calls it, would be a top Republican priority in 2018. In Republican parlance, “entitlement” programs mean food stamps, housing assistance, Medicare and Medicaid health insurance for the elderly, poor and disabled, as well as other programs created by Washington to assist the needy. Democrats seized on Ryan’s early December remarks, saying they showed Republicans would try to pay for their tax overhaul by seeking spending cuts for social programs. But the goals of House Republicans may have to take a back seat to the Senate, where the votes of some Democrats will be needed to approve a budget and prevent a government shutdown. Democrats will use their leverage in the Senate, which Republicans narrowly control, to defend both discretionary non-defense programs and social spending, while tackling the issue of the “Dreamers,” people brought illegally to the country as children. Trump in September put a March 2018 expiration date on the Deferred Action for Childhood Arrivals, or DACA, program, which protects the young immigrants from deportation and provides them with work permits. The president has said in recent Twitter messages he wants funding for his proposed Mexican border wall and other immigration law changes in exchange for agreeing to help the Dreamers. Representative Debbie Dingell told CBS she did not favor linking that issue to other policy objectives, such as wall funding. “We need to do DACA clean,” she said.  On Wednesday, Trump aides will meet with congressional leaders to discuss those issues. That will be followed by a weekend of strategy sessions for Trump and Republican leaders on Jan. 6 and 7, the White House said. Trump was also scheduled to meet on Sunday with Florida Republican Governor Rick Scott, who wants more emergency aid. The House has passed an $81 billion aid package after hurricanes in Florida, Texas and Puerto Rico, and wildfires in California. The package far exceeded the $44 billion requested by the Trump administration. The Senate has not yet voted on the aid.\n"
     ]
    },
    {
     "name": "stdout",
     "output_type": "stream",
     "text": [
      "*****\n",
      "  (0, 184300)\t0.030284592452602826\n",
      "  (0, 183963)\t0.025552917242098468\n",
      "  (0, 183596)\t0.05686888420837353\n",
      "  (0, 182340)\t0.03953335405133784\n",
      "  (0, 181799)\t0.022496249918185843\n",
      "  (0, 180573)\t0.0344853204956523\n",
      "  (0, 180474)\t0.06058334243937645\n",
      "  (0, 179958)\t0.019212449761248803\n",
      "  (0, 179393)\t0.02569396123834514\n",
      "  (0, 179049)\t0.02098274836156773\n",
      "  (0, 179040)\t0.04387130739683543\n",
      "  (0, 178719)\t0.03497764823136557\n",
      "  (0, 178622)\t0.04431847002006811\n",
      "  (0, 178106)\t0.02049935730260634\n",
      "  (0, 177603)\t0.03685646459559613\n",
      "  (0, 177180)\t0.05481770743042387\n",
      "  (0, 177152)\t0.04370261192440142\n",
      "  (0, 176973)\t0.06048029273066762\n",
      "  (0, 176478)\t0.03101885513125031\n",
      "  (0, 176339)\t0.09570963506921168\n",
      "  (0, 173525)\t0.024324999080356742\n",
      "  (0, 173339)\t0.03303672877213291\n",
      "  (0, 172251)\t0.018227433125601704\n",
      "  (0, 170236)\t0.02554183097652187\n",
      "  (0, 169312)\t0.02554404697854207\n",
      "  :\t:\n",
      "  (0, 19141)\t0.02974063612999503\n",
      "  (0, 19073)\t0.038035505114855934\n",
      "  (0, 17072)\t0.03909240522264433\n",
      "  (0, 16973)\t0.05806492840978547\n",
      "  (0, 16914)\t0.0490342146176672\n",
      "  (0, 16770)\t0.031063471009862103\n",
      "  (0, 16742)\t0.026963673267245473\n",
      "  (0, 14985)\t0.03505906694038956\n",
      "  (0, 14261)\t0.035293165842068194\n",
      "  (0, 13178)\t0.05772372648475773\n",
      "  (0, 12483)\t0.020037390409349477\n",
      "  (0, 10712)\t0.038847624206557116\n",
      "  (0, 10710)\t0.04954903235765031\n",
      "  (0, 9974)\t0.04734779159287926\n",
      "  (0, 9017)\t0.040746777893610704\n",
      "  (0, 8954)\t0.03584070851216595\n",
      "  (0, 6656)\t0.050500801940656724\n",
      "  (0, 5703)\t0.044225633168674776\n",
      "  (0, 5581)\t0.02457175019751588\n",
      "  (0, 3762)\t0.0373392031339872\n",
      "  (0, 3746)\t0.10511033409453215\n",
      "  (0, 3544)\t0.04853526288257305\n",
      "  (0, 2103)\t0.044474826237685526\n",
      "  (0, 1757)\t0.03773697343265711\n",
      "  (0, 1411)\t0.02778292236947203\n",
      "<class 'numpy.int64'>\n",
      "\n",
      "\n",
      "LR Prediction: Not A Fake News \n",
      "\n"
     ]
    }
   ],
   "source": [
    "news = str(input())\n",
    "manual_testing(news)"
   ]
  },
  {
   "cell_type": "code",
   "execution_count": null,
   "id": "5614960a-c052-4dca-91ab-08778e0fde38",
   "metadata": {},
   "outputs": [],
   "source": []
  }
 ],
 "metadata": {
  "kernelspec": {
   "display_name": "Python 3 (ipykernel)",
   "language": "python",
   "name": "python3"
  },
  "language_info": {
   "codemirror_mode": {
    "name": "ipython",
    "version": 3
   },
   "file_extension": ".py",
   "mimetype": "text/x-python",
   "name": "python",
   "nbconvert_exporter": "python",
   "pygments_lexer": "ipython3",
   "version": "3.9.12"
  }
 },
 "nbformat": 4,
 "nbformat_minor": 5
}
