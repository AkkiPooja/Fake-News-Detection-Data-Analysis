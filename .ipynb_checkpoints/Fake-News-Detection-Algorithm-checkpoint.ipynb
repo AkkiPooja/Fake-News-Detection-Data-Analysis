{
 "cells": [
  {
   "cell_type": "code",
   "execution_count": 1,
   "id": "12db00c9",
   "metadata": {},
   "outputs": [
    {
     "name": "stderr",
     "output_type": "stream",
     "text": [
      "Setting default log level to \"WARN\".\n",
      "To adjust logging level use sc.setLogLevel(newLevel). For SparkR, use setLogLevel(newLevel).\n"
     ]
    },
    {
     "name": "stdout",
     "output_type": "stream",
     "text": [
      "22/12/01 12:09:35 WARN NativeCodeLoader: Unable to load native-hadoop library for your platform... using builtin-java classes where applicable\n",
      "22/12/01 12:09:36 WARN Utils: Service 'SparkUI' could not bind on port 4040. Attempting port 4041.\n"
     ]
    },
    {
     "name": "stderr",
     "output_type": "stream",
     "text": [
      "/Users/poojaakki/opt/anaconda3/lib/python3.9/site-packages/pyspark/sql/context.py:157: FutureWarning: Deprecated in 3.0.0. Use SparkSession.builder.getOrCreate() instead.\n",
      "  warnings.warn(\n"
     ]
    }
   ],
   "source": [
    "import os\n",
    "import pyspark\n",
    "conf = pyspark.SparkConf()\n",
    "# conf.set('spark.ui.proxyBase'\n",
    "# , '/user/' + os.environ['JUPYTERHUB_USER'] + '/proxy/4041')\n",
    "conf.set('spark.sql.repl.eagerEval.enabled', True)\n",
    "conf.set('spark.driver.memory','4g')\n",
    "sc = pyspark.SparkContext(conf=conf)\n",
    "spark = pyspark.SQLContext.getOrCreate(sc)"
   ]
  },
  {
   "cell_type": "code",
   "execution_count": 2,
   "id": "739eae2e",
   "metadata": {},
   "outputs": [
    {
     "name": "stdout",
     "output_type": "stream",
     "text": [
      "+--------------------+--------------------+-------+-----------------+\n",
      "|               title|                text|subject|             date|\n",
      "+--------------------+--------------------+-------+-----------------+\n",
      "| Donald Trump Sen...|Donald Trump just...|   News|December 31, 2017|\n",
      "| Drunk Bragging T...|House Intelligenc...|   News|December 31, 2017|\n",
      "| Sheriff David Cl...|On Friday, it was...|   News|December 30, 2017|\n",
      "| Trump Is So Obse...|On Christmas day,...|   News|December 29, 2017|\n",
      "| Pope Francis Jus...|Pope Francis used...|   News|December 25, 2017|\n",
      "| Racist Alabama C...|The number of cas...|   News|December 25, 2017|\n",
      "| Fresh Off The Go...|Donald Trump spen...|   News|December 23, 2017|\n",
      "| Trump Said Some ...|In the wake of ye...|   News|December 23, 2017|\n",
      "| Former CIA Direc...|Many people have ...|   News|December 22, 2017|\n",
      "| WATCH: Brand-New...|Just when you mig...|   News|December 21, 2017|\n",
      "| Papa John’s Foun...|A centerpiece of ...|   News|December 21, 2017|\n",
      "| WATCH: Paul Ryan...|Republicans are w...|   News|December 21, 2017|\n",
      "| Bad News For Tru...|Republicans have ...|   News|December 21, 2017|\n",
      "| WATCH: Lindsey G...|The media has bee...|   News|December 20, 2017|\n",
      "| Heiress To Disne...|Abigail Disney is...|   News|December 20, 2017|\n",
      "| Tone Deaf Trump:...|Donald Trump just...|   News|December 20, 2017|\n",
      "| The Internet Bru...|A new animatronic...|   News|December 19, 2017|\n",
      "| Mueller Spokesma...|Trump supporters ...|   News|December 17, 2017|\n",
      "| SNL Hilariously ...|Right now, the wh...|   News|December 17, 2017|\n",
      "| Republican Senat...|Senate Majority W...|   News|December 16, 2017|\n",
      "+--------------------+--------------------+-------+-----------------+\n",
      "only showing top 20 rows\n",
      "\n"
     ]
    }
   ],
   "source": [
    "# Read the csv files from datasets\n",
    "\n",
    "#Fake news\n",
    "df_fake = spark.read.option(\"header\", \"true\").csv(\"/Users/poojaakki/Desktop/projects/Fake-News-Detection-Data-Analysis/datasets/News _dataset/Fake.csv\")\n",
    "df_fake.show()"
   ]
  },
  {
   "cell_type": "code",
   "execution_count": 3,
   "id": "6fdf7c39",
   "metadata": {},
   "outputs": [
    {
     "name": "stdout",
     "output_type": "stream",
     "text": [
      "+--------------------+--------------------+--------------------+------------------+\n",
      "|               title|                text|             subject|              date|\n",
      "+--------------------+--------------------+--------------------+------------------+\n",
      "|As U.S. budget fi...|WASHINGTON (Reute...|        politicsNews|December 31, 2017 |\n",
      "|U.S. military to ...|WASHINGTON (Reute...|        politicsNews|December 29, 2017 |\n",
      "|Senior U.S. Repub...|WASHINGTON (Reute...|        politicsNews|December 31, 2017 |\n",
      "|FBI Russia probe ...|WASHINGTON (Reute...|        politicsNews|December 30, 2017 |\n",
      "|Trump wants Posta...|SEATTLE/WASHINGTO...|        politicsNews|December 29, 2017 |\n",
      "|White House, Cong...|WEST PALM BEACH, ...|        politicsNews|December 29, 2017 |\n",
      "|Trump says Russia...|WEST PALM BEACH, ...|        politicsNews|December 29, 2017 |\n",
      "|Factbox: Trump on...|The following sta...|        politicsNews|December 29, 2017 |\n",
      "|Trump on Twitter ...|The following sta...|        politicsNews|December 29, 2017 |\n",
      "|Alabama official ...|WASHINGTON (Reute...|        politicsNews|December 28, 2017 |\n",
      "|Jones certified U...|(Reuters) - Alaba...|        politicsNews|December 28, 2017 |\n",
      "|New York governor...|NEW YORK/WASHINGT...|        politicsNews|December 28, 2017 |\n",
      "|Factbox: Trump on...|The following sta...|        politicsNews|December 28, 2017 |\n",
      "|Trump on Twitter ...|\"The following st...| Associates Up 83...|      politicsNews|\n",
      "|Man says he deliv...| (In Dec. 25 stor...|        politicsNews|December 25, 2017 |\n",
      "|Virginia official...|(Reuters) - A lot...|        politicsNews|December 27, 2017 |\n",
      "|U.S. lawmakers qu...|WASHINGTON (Reute...|        politicsNews|December 27, 2017 |\n",
      "|Trump on Twitter ...|The following sta...|        politicsNews|December 26, 2017 |\n",
      "|U.S. appeals cour...|(Reuters) - A U.S...|        politicsNews|December 26, 2017 |\n",
      "|Treasury Secretar...|(Reuters) - A gif...|        politicsNews|December 24, 2017 |\n",
      "+--------------------+--------------------+--------------------+------------------+\n",
      "only showing top 20 rows\n",
      "\n"
     ]
    }
   ],
   "source": [
    "#Truth news\n",
    "df_true = spark.read.option(\"header\", \"true\").csv(\"/Users/poojaakki/Desktop/projects/Fake-News-Detection-Data-Analysis/datasets/News _dataset/True.csv\")\n",
    "df_true.show()"
   ]
  },
  {
   "cell_type": "code",
   "execution_count": 4,
   "id": "9eaef2c6",
   "metadata": {},
   "outputs": [
    {
     "name": "stdout",
     "output_type": "stream",
     "text": [
      "(23489, 4)\n",
      "(21417, 4)\n"
     ]
    }
   ],
   "source": [
    "# count of data and the. umber of coloumns\n",
    "print((df_fake.count(), len(df_fake.columns)))\n",
    "print((df_true.count(), len(df_true.columns)))"
   ]
  },
  {
   "cell_type": "code",
   "execution_count": 5,
   "id": "58c30187",
   "metadata": {},
   "outputs": [
    {
     "name": "stdout",
     "output_type": "stream",
     "text": [
      "+--------------------+--------------------+-------+-----------------+---------+\n",
      "|               title|                text|subject|             date|     Flag|\n",
      "+--------------------+--------------------+-------+-----------------+---------+\n",
      "| Donald Trump Sen...|Donald Trump just...|   News|December 31, 2017|Fake_News|\n",
      "| Drunk Bragging T...|House Intelligenc...|   News|December 31, 2017|Fake_News|\n",
      "| Sheriff David Cl...|On Friday, it was...|   News|December 30, 2017|Fake_News|\n",
      "| Trump Is So Obse...|On Christmas day,...|   News|December 29, 2017|Fake_News|\n",
      "| Pope Francis Jus...|Pope Francis used...|   News|December 25, 2017|Fake_News|\n",
      "| Racist Alabama C...|The number of cas...|   News|December 25, 2017|Fake_News|\n",
      "| Fresh Off The Go...|Donald Trump spen...|   News|December 23, 2017|Fake_News|\n",
      "| Trump Said Some ...|In the wake of ye...|   News|December 23, 2017|Fake_News|\n",
      "| Former CIA Direc...|Many people have ...|   News|December 22, 2017|Fake_News|\n",
      "| WATCH: Brand-New...|Just when you mig...|   News|December 21, 2017|Fake_News|\n",
      "| Papa John’s Foun...|A centerpiece of ...|   News|December 21, 2017|Fake_News|\n",
      "| WATCH: Paul Ryan...|Republicans are w...|   News|December 21, 2017|Fake_News|\n",
      "| Bad News For Tru...|Republicans have ...|   News|December 21, 2017|Fake_News|\n",
      "| WATCH: Lindsey G...|The media has bee...|   News|December 20, 2017|Fake_News|\n",
      "| Heiress To Disne...|Abigail Disney is...|   News|December 20, 2017|Fake_News|\n",
      "| Tone Deaf Trump:...|Donald Trump just...|   News|December 20, 2017|Fake_News|\n",
      "| The Internet Bru...|A new animatronic...|   News|December 19, 2017|Fake_News|\n",
      "| Mueller Spokesma...|Trump supporters ...|   News|December 17, 2017|Fake_News|\n",
      "| SNL Hilariously ...|Right now, the wh...|   News|December 17, 2017|Fake_News|\n",
      "| Republican Senat...|Senate Majority W...|   News|December 16, 2017|Fake_News|\n",
      "+--------------------+--------------------+-------+-----------------+---------+\n",
      "only showing top 20 rows\n",
      "\n"
     ]
    }
   ],
   "source": [
    "#Add the column for fake news and also a column for true news\n",
    "from pyspark.sql.functions import lit\n",
    "\n",
    "df_fake = df_fake.withColumn(\"Flag\", lit(\"Fake_News\"))\n",
    "df_fake.show()"
   ]
  },
  {
   "cell_type": "code",
   "execution_count": 6,
   "id": "b48d8968",
   "metadata": {},
   "outputs": [
    {
     "name": "stdout",
     "output_type": "stream",
     "text": [
      "+--------------------+--------------------+--------------------+------------------+---------+\n",
      "|               title|                text|             subject|              date|     Flag|\n",
      "+--------------------+--------------------+--------------------+------------------+---------+\n",
      "|As U.S. budget fi...|WASHINGTON (Reute...|        politicsNews|December 31, 2017 |True_News|\n",
      "|U.S. military to ...|WASHINGTON (Reute...|        politicsNews|December 29, 2017 |True_News|\n",
      "|Senior U.S. Repub...|WASHINGTON (Reute...|        politicsNews|December 31, 2017 |True_News|\n",
      "|FBI Russia probe ...|WASHINGTON (Reute...|        politicsNews|December 30, 2017 |True_News|\n",
      "|Trump wants Posta...|SEATTLE/WASHINGTO...|        politicsNews|December 29, 2017 |True_News|\n",
      "|White House, Cong...|WEST PALM BEACH, ...|        politicsNews|December 29, 2017 |True_News|\n",
      "|Trump says Russia...|WEST PALM BEACH, ...|        politicsNews|December 29, 2017 |True_News|\n",
      "|Factbox: Trump on...|The following sta...|        politicsNews|December 29, 2017 |True_News|\n",
      "|Trump on Twitter ...|The following sta...|        politicsNews|December 29, 2017 |True_News|\n",
      "|Alabama official ...|WASHINGTON (Reute...|        politicsNews|December 28, 2017 |True_News|\n",
      "|Jones certified U...|(Reuters) - Alaba...|        politicsNews|December 28, 2017 |True_News|\n",
      "|New York governor...|NEW YORK/WASHINGT...|        politicsNews|December 28, 2017 |True_News|\n",
      "|Factbox: Trump on...|The following sta...|        politicsNews|December 28, 2017 |True_News|\n",
      "|Trump on Twitter ...|\"The following st...| Associates Up 83...|      politicsNews|True_News|\n",
      "|Man says he deliv...| (In Dec. 25 stor...|        politicsNews|December 25, 2017 |True_News|\n",
      "|Virginia official...|(Reuters) - A lot...|        politicsNews|December 27, 2017 |True_News|\n",
      "|U.S. lawmakers qu...|WASHINGTON (Reute...|        politicsNews|December 27, 2017 |True_News|\n",
      "|Trump on Twitter ...|The following sta...|        politicsNews|December 26, 2017 |True_News|\n",
      "|U.S. appeals cour...|(Reuters) - A U.S...|        politicsNews|December 26, 2017 |True_News|\n",
      "|Treasury Secretar...|(Reuters) - A gif...|        politicsNews|December 24, 2017 |True_News|\n",
      "+--------------------+--------------------+--------------------+------------------+---------+\n",
      "only showing top 20 rows\n",
      "\n"
     ]
    }
   ],
   "source": [
    "df_true = df_true.withColumn(\"Flag\", lit(\"True_News\"))\n",
    "df_true.show()"
   ]
  },
  {
   "cell_type": "code",
   "execution_count": 7,
   "id": "4783d4fb",
   "metadata": {},
   "outputs": [
    {
     "name": "stdout",
     "output_type": "stream",
     "text": [
      "+--------------------+--------------------+-------+-----------------+---------+\n",
      "|               title|                text|subject|             date|     Flag|\n",
      "+--------------------+--------------------+-------+-----------------+---------+\n",
      "| Donald Trump Sen...|Donald Trump just...|   News|December 31, 2017|Fake_News|\n",
      "| Drunk Bragging T...|House Intelligenc...|   News|December 31, 2017|Fake_News|\n",
      "| Sheriff David Cl...|On Friday, it was...|   News|December 30, 2017|Fake_News|\n",
      "| Trump Is So Obse...|On Christmas day,...|   News|December 29, 2017|Fake_News|\n",
      "| Pope Francis Jus...|Pope Francis used...|   News|December 25, 2017|Fake_News|\n",
      "| Racist Alabama C...|The number of cas...|   News|December 25, 2017|Fake_News|\n",
      "| Fresh Off The Go...|Donald Trump spen...|   News|December 23, 2017|Fake_News|\n",
      "| Trump Said Some ...|In the wake of ye...|   News|December 23, 2017|Fake_News|\n",
      "| Former CIA Direc...|Many people have ...|   News|December 22, 2017|Fake_News|\n",
      "| WATCH: Brand-New...|Just when you mig...|   News|December 21, 2017|Fake_News|\n",
      "| Papa John’s Foun...|A centerpiece of ...|   News|December 21, 2017|Fake_News|\n",
      "| WATCH: Paul Ryan...|Republicans are w...|   News|December 21, 2017|Fake_News|\n",
      "| Bad News For Tru...|Republicans have ...|   News|December 21, 2017|Fake_News|\n",
      "| WATCH: Lindsey G...|The media has bee...|   News|December 20, 2017|Fake_News|\n",
      "| Heiress To Disne...|Abigail Disney is...|   News|December 20, 2017|Fake_News|\n",
      "| Tone Deaf Trump:...|Donald Trump just...|   News|December 20, 2017|Fake_News|\n",
      "| The Internet Bru...|A new animatronic...|   News|December 19, 2017|Fake_News|\n",
      "| Mueller Spokesma...|Trump supporters ...|   News|December 17, 2017|Fake_News|\n",
      "| SNL Hilariously ...|Right now, the wh...|   News|December 17, 2017|Fake_News|\n",
      "| Republican Senat...|Senate Majority W...|   News|December 16, 2017|Fake_News|\n",
      "+--------------------+--------------------+-------+-----------------+---------+\n",
      "only showing top 20 rows\n",
      "\n"
     ]
    }
   ],
   "source": [
    "#concat the two tables\n",
    "df_concat = df_fake.unionByName(df_true, allowMissingColumns=True)\n",
    "df_concat.show()"
   ]
  },
  {
   "cell_type": "code",
   "execution_count": 8,
   "id": "2ca7ec2c",
   "metadata": {},
   "outputs": [
    {
     "name": "stdout",
     "output_type": "stream",
     "text": [
      "+--------------------+--------------------+-------+-----------------+---------+---+\n",
      "|               title|                text|subject|             date|     Flag| id|\n",
      "+--------------------+--------------------+-------+-----------------+---------+---+\n",
      "| Donald Trump Sen...|Donald Trump just...|   News|December 31, 2017|Fake_News|  0|\n",
      "| Drunk Bragging T...|House Intelligenc...|   News|December 31, 2017|Fake_News|  1|\n",
      "| Sheriff David Cl...|On Friday, it was...|   News|December 30, 2017|Fake_News|  2|\n",
      "| Trump Is So Obse...|On Christmas day,...|   News|December 29, 2017|Fake_News|  3|\n",
      "| Pope Francis Jus...|Pope Francis used...|   News|December 25, 2017|Fake_News|  4|\n",
      "| Racist Alabama C...|The number of cas...|   News|December 25, 2017|Fake_News|  5|\n",
      "| Fresh Off The Go...|Donald Trump spen...|   News|December 23, 2017|Fake_News|  6|\n",
      "| Trump Said Some ...|In the wake of ye...|   News|December 23, 2017|Fake_News|  7|\n",
      "| Former CIA Direc...|Many people have ...|   News|December 22, 2017|Fake_News|  8|\n",
      "| WATCH: Brand-New...|Just when you mig...|   News|December 21, 2017|Fake_News|  9|\n",
      "| Papa John’s Foun...|A centerpiece of ...|   News|December 21, 2017|Fake_News| 10|\n",
      "| WATCH: Paul Ryan...|Republicans are w...|   News|December 21, 2017|Fake_News| 11|\n",
      "| Bad News For Tru...|Republicans have ...|   News|December 21, 2017|Fake_News| 12|\n",
      "| WATCH: Lindsey G...|The media has bee...|   News|December 20, 2017|Fake_News| 13|\n",
      "| Heiress To Disne...|Abigail Disney is...|   News|December 20, 2017|Fake_News| 14|\n",
      "| Tone Deaf Trump:...|Donald Trump just...|   News|December 20, 2017|Fake_News| 15|\n",
      "| The Internet Bru...|A new animatronic...|   News|December 19, 2017|Fake_News| 16|\n",
      "| Mueller Spokesma...|Trump supporters ...|   News|December 17, 2017|Fake_News| 17|\n",
      "| SNL Hilariously ...|Right now, the wh...|   News|December 17, 2017|Fake_News| 18|\n",
      "| Republican Senat...|Senate Majority W...|   News|December 16, 2017|Fake_News| 19|\n",
      "+--------------------+--------------------+-------+-----------------+---------+---+\n",
      "only showing top 20 rows\n",
      "\n"
     ]
    }
   ],
   "source": [
    "#specifying the row number to each row\n",
    "\n",
    "from pyspark.sql.functions import monotonically_increasing_id \n",
    "\n",
    "df_concat = df_concat.select(\"*\").withColumn(\"id\", monotonically_increasing_id())\n",
    "\n",
    "df_concat.show()"
   ]
  },
  {
   "cell_type": "code",
   "execution_count": 9,
   "id": "e005e429",
   "metadata": {},
   "outputs": [
    {
     "name": "stdout",
     "output_type": "stream",
     "text": [
      "(44906, 6)\n"
     ]
    }
   ],
   "source": [
    "print((df_concat.count(), len(df_concat.columns)))"
   ]
  },
  {
   "cell_type": "code",
   "execution_count": 10,
   "id": "a40c86a2",
   "metadata": {},
   "outputs": [
    {
     "name": "stdout",
     "output_type": "stream",
     "text": [
      "+--------------------+--------------------+------------+-------------------+---------+------------+\n",
      "|               title|                text|     subject|               date|     Flag|          id|\n",
      "+--------------------+--------------------+------------+-------------------+---------+------------+\n",
      "|Israel must enact...|JERUSALEM (Reuter...|   worldnews| December 14, 2017 |True_News|103079216610|\n",
      "|PRESIDENT TRUMP W...|Trump administrat...|   left-news|        Oct 3, 2017|Fake_News| 42949674064|\n",
      "|EXCLUDING WHITES ...|After Black Lives...|   left-news|        Jun 6, 2017|Fake_News| 42949674720|\n",
      "|House panel appro...|WASHINGTON (Reute...|politicsNews|     July 27, 2017 |True_News| 68719479218|\n",
      "|POWERFUL LETTER T...|Dear Mike Tomlin,...|   left-news|       Sep 28, 2017|Fake_News| 42949674097|\n",
      "|Britain's foreign...|LONDON (Reuters) ...|   worldnews|  December 9, 2017 |True_News|103079216991|\n",
      "|PRO-ILLEGAL ADVOC...|THE TRUTH IS MEXI...|    politics|       Feb 25, 2017|Fake_News| 25769806183|\n",
      "|HOW THE CLINTON’S...|In January 2015 a...|   left-news|       Aug 31, 2016|Fake_News| 42949676242|\n",
      "|U.S. 'making a lo...|NEW YORK (Reuters...|   worldnews|September 21, 2017 |True_News|120259086668|\n",
      "|Outgoing Czech go...|PRAGUE (Reuters) ...|   worldnews| November 24, 2017 |True_News|111669149802|\n",
      "|SHOCKING TAXPAYER...|Meanwhile, most A...|   left-news|       Oct 16, 2015|Fake_News| 51539608900|\n",
      "|JUDGE JEANINE Sco...|                    |    politics|       Nov 20, 2016|Fake_News| 25769806956|\n",
      "|Czech election fr...|PRAGUE (Reuters) ...|   worldnews|  October 19, 2017 |True_News|111669152861|\n",
      "|After Nevada, San...|WASHINGTON (Reute...|politicsNews| February 21, 2016 |True_News| 94489283104|\n",
      "|NANCY PELOSI’S Fa...|First of all, the...|    politics|       Oct 22, 2017|Fake_News| 25769804233|\n",
      "| Watch How Trump ...|Trump s latest fi...|        News|      April 1, 2016|Fake_News| 17179870188|\n",
      "| Asian American O...|Asian Americans a...|        News|    October 6, 2016|Fake_News|  8589935845|\n",
      "|VIOLENT LEFT EXPO...|This is what it l...|    politics|       Apr 27, 2016|Fake_News| 34359739443|\n",
      "|France's Macron t...|MOSCOW (Reuters) ...|   worldnews| December 13, 2017 |True_News|103079216753|\n",
      "|Obama to visit Hi...|WASHINGTON/TOKYO ...|politicsNews|      May 10, 2016 |True_News| 94489281975|\n",
      "+--------------------+--------------------+------------+-------------------+---------+------------+\n",
      "only showing top 20 rows\n",
      "\n"
     ]
    }
   ],
   "source": [
    "#### has to randomly shuffle the data\n",
    "import pyspark.sql.functions as F\n",
    "\n",
    "df_concat = df_concat.select(\"*\").orderBy(F.rand())\n",
    "df_concat.show()"
   ]
  },
  {
   "cell_type": "code",
   "execution_count": 11,
   "id": "3c756638",
   "metadata": {},
   "outputs": [
    {
     "data": {
      "text/html": [
       "<table border='1'>\n",
       "<tr><th>title</th><th>text</th><th>subject</th><th>Flag</th><th>id</th></tr>\n",
       "<tr><td>Israel must enact...</td><td>JERUSALEM (Reuter...</td><td>worldnews</td><td>True_News</td><td>103079216610</td></tr>\n",
       "<tr><td>PRESIDENT TRUMP W...</td><td>Trump administrat...</td><td>left-news</td><td>Fake_News</td><td>42949674064</td></tr>\n",
       "<tr><td>EXCLUDING WHITES ...</td><td>After Black Lives...</td><td>left-news</td><td>Fake_News</td><td>42949674720</td></tr>\n",
       "<tr><td>House panel appro...</td><td>WASHINGTON (Reute...</td><td>politicsNews</td><td>True_News</td><td>68719479218</td></tr>\n",
       "<tr><td>POWERFUL LETTER T...</td><td>Dear Mike Tomlin,...</td><td>left-news</td><td>Fake_News</td><td>42949674097</td></tr>\n",
       "<tr><td>Britain&#x27;s foreign...</td><td>LONDON (Reuters) ...</td><td>worldnews</td><td>True_News</td><td>103079216991</td></tr>\n",
       "<tr><td>PRO-ILLEGAL ADVOC...</td><td>THE TRUTH IS MEXI...</td><td>politics</td><td>Fake_News</td><td>25769806183</td></tr>\n",
       "<tr><td>HOW THE CLINTON’S...</td><td>In January 2015 a...</td><td>left-news</td><td>Fake_News</td><td>42949676242</td></tr>\n",
       "<tr><td>U.S. &#x27;making a lo...</td><td>NEW YORK (Reuters...</td><td>worldnews</td><td>True_News</td><td>120259086668</td></tr>\n",
       "<tr><td>Outgoing Czech go...</td><td>PRAGUE (Reuters) ...</td><td>worldnews</td><td>True_News</td><td>111669149802</td></tr>\n",
       "<tr><td>SHOCKING TAXPAYER...</td><td>Meanwhile, most A...</td><td>left-news</td><td>Fake_News</td><td>51539608900</td></tr>\n",
       "<tr><td>JUDGE JEANINE Sco...</td><td> </td><td>politics</td><td>Fake_News</td><td>25769806956</td></tr>\n",
       "<tr><td>Czech election fr...</td><td>PRAGUE (Reuters) ...</td><td>worldnews</td><td>True_News</td><td>111669152861</td></tr>\n",
       "<tr><td>After Nevada, San...</td><td>WASHINGTON (Reute...</td><td>politicsNews</td><td>True_News</td><td>94489283104</td></tr>\n",
       "<tr><td>NANCY PELOSI’S Fa...</td><td>First of all, the...</td><td>politics</td><td>Fake_News</td><td>25769804233</td></tr>\n",
       "<tr><td> Watch How Trump ...</td><td>Trump s latest fi...</td><td>News</td><td>Fake_News</td><td>17179870188</td></tr>\n",
       "<tr><td> Asian American O...</td><td>Asian Americans a...</td><td>News</td><td>Fake_News</td><td>8589935845</td></tr>\n",
       "<tr><td>VIOLENT LEFT EXPO...</td><td>This is what it l...</td><td>politics</td><td>Fake_News</td><td>34359739443</td></tr>\n",
       "<tr><td>France&#x27;s Macron t...</td><td>MOSCOW (Reuters) ...</td><td>worldnews</td><td>True_News</td><td>103079216753</td></tr>\n",
       "<tr><td>Obama to visit Hi...</td><td>WASHINGTON/TOKYO ...</td><td>politicsNews</td><td>True_News</td><td>94489281975</td></tr>\n",
       "</table>\n",
       "only showing top 20 rows\n"
      ],
      "text/plain": [
       "+--------------------+--------------------+------------+---------+------------+\n",
       "|               title|                text|     subject|     Flag|          id|\n",
       "+--------------------+--------------------+------------+---------+------------+\n",
       "|Israel must enact...|JERUSALEM (Reuter...|   worldnews|True_News|103079216610|\n",
       "|PRESIDENT TRUMP W...|Trump administrat...|   left-news|Fake_News| 42949674064|\n",
       "|EXCLUDING WHITES ...|After Black Lives...|   left-news|Fake_News| 42949674720|\n",
       "|House panel appro...|WASHINGTON (Reute...|politicsNews|True_News| 68719479218|\n",
       "|POWERFUL LETTER T...|Dear Mike Tomlin,...|   left-news|Fake_News| 42949674097|\n",
       "|Britain's foreign...|LONDON (Reuters) ...|   worldnews|True_News|103079216991|\n",
       "|PRO-ILLEGAL ADVOC...|THE TRUTH IS MEXI...|    politics|Fake_News| 25769806183|\n",
       "|HOW THE CLINTON’S...|In January 2015 a...|   left-news|Fake_News| 42949676242|\n",
       "|U.S. 'making a lo...|NEW YORK (Reuters...|   worldnews|True_News|120259086668|\n",
       "|Outgoing Czech go...|PRAGUE (Reuters) ...|   worldnews|True_News|111669149802|\n",
       "|SHOCKING TAXPAYER...|Meanwhile, most A...|   left-news|Fake_News| 51539608900|\n",
       "|JUDGE JEANINE Sco...|                    |    politics|Fake_News| 25769806956|\n",
       "|Czech election fr...|PRAGUE (Reuters) ...|   worldnews|True_News|111669152861|\n",
       "|After Nevada, San...|WASHINGTON (Reute...|politicsNews|True_News| 94489283104|\n",
       "|NANCY PELOSI’S Fa...|First of all, the...|    politics|Fake_News| 25769804233|\n",
       "| Watch How Trump ...|Trump s latest fi...|        News|Fake_News| 17179870188|\n",
       "| Asian American O...|Asian Americans a...|        News|Fake_News|  8589935845|\n",
       "|VIOLENT LEFT EXPO...|This is what it l...|    politics|Fake_News| 34359739443|\n",
       "|France's Macron t...|MOSCOW (Reuters) ...|   worldnews|True_News|103079216753|\n",
       "|Obama to visit Hi...|WASHINGTON/TOKYO ...|politicsNews|True_News| 94489281975|\n",
       "+--------------------+--------------------+------------+---------+------------+\n",
       "only showing top 20 rows"
      ]
     },
     "execution_count": 11,
     "metadata": {},
     "output_type": "execute_result"
    }
   ],
   "source": [
    "# Remove the unwanted coloumn\n",
    "\n",
    "df_concat =  df_concat.drop(df_concat[\"date\"])\n",
    "df_concat"
   ]
  },
  {
   "cell_type": "code",
   "execution_count": 12,
   "id": "143d6976-15d2-4efd-b978-9fc4acb4d543",
   "metadata": {},
   "outputs": [
    {
     "data": {
      "text/html": [
       "<table border='1'>\n",
       "<tr><th>text</th><th>subject</th><th>Flag</th><th>id</th></tr>\n",
       "<tr><td>JERUSALEM (Reuter...</td><td>worldnews</td><td>True_News</td><td>103079216610</td></tr>\n",
       "<tr><td>Trump administrat...</td><td>left-news</td><td>Fake_News</td><td>42949674064</td></tr>\n",
       "<tr><td>After Black Lives...</td><td>left-news</td><td>Fake_News</td><td>42949674720</td></tr>\n",
       "<tr><td>WASHINGTON (Reute...</td><td>politicsNews</td><td>True_News</td><td>68719479218</td></tr>\n",
       "<tr><td>Dear Mike Tomlin,...</td><td>left-news</td><td>Fake_News</td><td>42949674097</td></tr>\n",
       "<tr><td>LONDON (Reuters) ...</td><td>worldnews</td><td>True_News</td><td>103079216991</td></tr>\n",
       "<tr><td>THE TRUTH IS MEXI...</td><td>politics</td><td>Fake_News</td><td>25769806183</td></tr>\n",
       "<tr><td>In January 2015 a...</td><td>left-news</td><td>Fake_News</td><td>42949676242</td></tr>\n",
       "<tr><td>NEW YORK (Reuters...</td><td>worldnews</td><td>True_News</td><td>120259086668</td></tr>\n",
       "<tr><td>PRAGUE (Reuters) ...</td><td>worldnews</td><td>True_News</td><td>111669149802</td></tr>\n",
       "<tr><td>Meanwhile, most A...</td><td>left-news</td><td>Fake_News</td><td>51539608900</td></tr>\n",
       "<tr><td> </td><td>politics</td><td>Fake_News</td><td>25769806956</td></tr>\n",
       "<tr><td>PRAGUE (Reuters) ...</td><td>worldnews</td><td>True_News</td><td>111669152861</td></tr>\n",
       "<tr><td>WASHINGTON (Reute...</td><td>politicsNews</td><td>True_News</td><td>94489283104</td></tr>\n",
       "<tr><td>First of all, the...</td><td>politics</td><td>Fake_News</td><td>25769804233</td></tr>\n",
       "<tr><td>Trump s latest fi...</td><td>News</td><td>Fake_News</td><td>17179870188</td></tr>\n",
       "<tr><td>Asian Americans a...</td><td>News</td><td>Fake_News</td><td>8589935845</td></tr>\n",
       "<tr><td>This is what it l...</td><td>politics</td><td>Fake_News</td><td>34359739443</td></tr>\n",
       "<tr><td>MOSCOW (Reuters) ...</td><td>worldnews</td><td>True_News</td><td>103079216753</td></tr>\n",
       "<tr><td>WASHINGTON/TOKYO ...</td><td>politicsNews</td><td>True_News</td><td>94489281975</td></tr>\n",
       "</table>\n",
       "only showing top 20 rows\n"
      ],
      "text/plain": [
       "+--------------------+------------+---------+------------+\n",
       "|                text|     subject|     Flag|          id|\n",
       "+--------------------+------------+---------+------------+\n",
       "|JERUSALEM (Reuter...|   worldnews|True_News|103079216610|\n",
       "|Trump administrat...|   left-news|Fake_News| 42949674064|\n",
       "|After Black Lives...|   left-news|Fake_News| 42949674720|\n",
       "|WASHINGTON (Reute...|politicsNews|True_News| 68719479218|\n",
       "|Dear Mike Tomlin,...|   left-news|Fake_News| 42949674097|\n",
       "|LONDON (Reuters) ...|   worldnews|True_News|103079216991|\n",
       "|THE TRUTH IS MEXI...|    politics|Fake_News| 25769806183|\n",
       "|In January 2015 a...|   left-news|Fake_News| 42949676242|\n",
       "|NEW YORK (Reuters...|   worldnews|True_News|120259086668|\n",
       "|PRAGUE (Reuters) ...|   worldnews|True_News|111669149802|\n",
       "|Meanwhile, most A...|   left-news|Fake_News| 51539608900|\n",
       "|                    |    politics|Fake_News| 25769806956|\n",
       "|PRAGUE (Reuters) ...|   worldnews|True_News|111669152861|\n",
       "|WASHINGTON (Reute...|politicsNews|True_News| 94489283104|\n",
       "|First of all, the...|    politics|Fake_News| 25769804233|\n",
       "|Trump s latest fi...|        News|Fake_News| 17179870188|\n",
       "|Asian Americans a...|        News|Fake_News|  8589935845|\n",
       "|This is what it l...|    politics|Fake_News| 34359739443|\n",
       "|MOSCOW (Reuters) ...|   worldnews|True_News|103079216753|\n",
       "|WASHINGTON/TOKYO ...|politicsNews|True_News| 94489281975|\n",
       "+--------------------+------------+---------+------------+\n",
       "only showing top 20 rows"
      ]
     },
     "execution_count": 12,
     "metadata": {},
     "output_type": "execute_result"
    }
   ],
   "source": [
    "# Remove the title for analysis\n",
    "\n",
    "df_concat =  df_concat.drop(df_concat[\"title\"])\n",
    "df_concat"
   ]
  },
  {
   "cell_type": "code",
   "execution_count": 13,
   "id": "c3d34b0b-410c-4a2b-ab7b-780baf0353cb",
   "metadata": {},
   "outputs": [
    {
     "name": "stderr",
     "output_type": "stream",
     "text": [
      "                                                                                \r"
     ]
    },
    {
     "data": {
      "text/html": [
       "<table border='1'>\n",
       "<tr><th>text</th><th>subject</th><th>Flag</th><th>id</th></tr>\n",
       "<tr><td>jerusalem  reuter...</td><td>worldnews</td><td>True_News</td><td>103079216610</td></tr>\n",
       "<tr><td>trump administrat...</td><td>left-news</td><td>Fake_News</td><td>42949674064</td></tr>\n",
       "<tr><td>after black lives...</td><td>left-news</td><td>Fake_News</td><td>42949674720</td></tr>\n",
       "<tr><td>washington  reute...</td><td>politicsNews</td><td>True_News</td><td>68719479218</td></tr>\n",
       "<tr><td>dear mike tomlin ...</td><td>left-news</td><td>Fake_News</td><td>42949674097</td></tr>\n",
       "<tr><td>london  reuters  ...</td><td>worldnews</td><td>True_News</td><td>103079216991</td></tr>\n",
       "<tr><td>the truth is mexi...</td><td>politics</td><td>Fake_News</td><td>25769806183</td></tr>\n",
       "<tr><td>in january 2015 a...</td><td>left-news</td><td>Fake_News</td><td>42949676242</td></tr>\n",
       "<tr><td>new york  reuters...</td><td>worldnews</td><td>True_News</td><td>120259086668</td></tr>\n",
       "<tr><td>prague  reuters  ...</td><td>worldnews</td><td>True_News</td><td>111669149802</td></tr>\n",
       "<tr><td>meanwhile  most a...</td><td>left-news</td><td>Fake_News</td><td>51539608900</td></tr>\n",
       "<tr><td> </td><td>politics</td><td>Fake_News</td><td>25769806956</td></tr>\n",
       "<tr><td>prague  reuters  ...</td><td>worldnews</td><td>True_News</td><td>111669152861</td></tr>\n",
       "<tr><td>washington  reute...</td><td>politicsNews</td><td>True_News</td><td>94489283104</td></tr>\n",
       "<tr><td>first of all  the...</td><td>politics</td><td>Fake_News</td><td>25769804233</td></tr>\n",
       "<tr><td>trump s latest fi...</td><td>News</td><td>Fake_News</td><td>17179870188</td></tr>\n",
       "<tr><td>asian americans a...</td><td>News</td><td>Fake_News</td><td>8589935845</td></tr>\n",
       "<tr><td>this is what it l...</td><td>politics</td><td>Fake_News</td><td>34359739443</td></tr>\n",
       "<tr><td>moscow  reuters  ...</td><td>worldnews</td><td>True_News</td><td>103079216753</td></tr>\n",
       "<tr><td>washington tokyo ...</td><td>politicsNews</td><td>True_News</td><td>94489281975</td></tr>\n",
       "</table>\n",
       "only showing top 20 rows\n"
      ],
      "text/plain": [
       "+--------------------+------------+---------+------------+\n",
       "|                text|     subject|     Flag|          id|\n",
       "+--------------------+------------+---------+------------+\n",
       "|jerusalem  reuter...|   worldnews|True_News|103079216610|\n",
       "|trump administrat...|   left-news|Fake_News| 42949674064|\n",
       "|after black lives...|   left-news|Fake_News| 42949674720|\n",
       "|washington  reute...|politicsNews|True_News| 68719479218|\n",
       "|dear mike tomlin ...|   left-news|Fake_News| 42949674097|\n",
       "|london  reuters  ...|   worldnews|True_News|103079216991|\n",
       "|the truth is mexi...|    politics|Fake_News| 25769806183|\n",
       "|in january 2015 a...|   left-news|Fake_News| 42949676242|\n",
       "|new york  reuters...|   worldnews|True_News|120259086668|\n",
       "|prague  reuters  ...|   worldnews|True_News|111669149802|\n",
       "|meanwhile  most a...|   left-news|Fake_News| 51539608900|\n",
       "|                    |    politics|Fake_News| 25769806956|\n",
       "|prague  reuters  ...|   worldnews|True_News|111669152861|\n",
       "|washington  reute...|politicsNews|True_News| 94489283104|\n",
       "|first of all  the...|    politics|Fake_News| 25769804233|\n",
       "|trump s latest fi...|        News|Fake_News| 17179870188|\n",
       "|asian americans a...|        News|Fake_News|  8589935845|\n",
       "|this is what it l...|    politics|Fake_News| 34359739443|\n",
       "|moscow  reuters  ...|   worldnews|True_News|103079216753|\n",
       "|washington tokyo ...|politicsNews|True_News| 94489281975|\n",
       "+--------------------+------------+---------+------------+\n",
       "only showing top 20 rows"
      ]
     },
     "execution_count": 13,
     "metadata": {},
     "output_type": "execute_result"
    }
   ],
   "source": [
    "# In order to avaoid the confusion convert everything to lowercase\n",
    "from pyspark.sql.functions import col, split, lower, regexp_replace, length\n",
    "\n",
    "df_concat = df_concat\\\n",
    ".withColumn(\"text\", regexp_replace(lower(col(\"text\")), r\"[^0-9a-z]\", \" \"))\\\n",
    ".where(length(\"text\")>0)\n",
    "\n",
    "df_concat"
   ]
  },
  {
   "cell_type": "code",
   "execution_count": 14,
   "id": "c24daf05-c26c-44cd-945c-68735ef5031b",
   "metadata": {},
   "outputs": [
    {
     "name": "stderr",
     "output_type": "stream",
     "text": [
      "[nltk_data] Downloading package stopwords to\n",
      "[nltk_data]     /Users/poojaakki/nltk_data...\n",
      "[nltk_data]   Package stopwords is already up-to-date!\n"
     ]
    }
   ],
   "source": [
    "# remove stop words from it\n",
    "import nltk\n",
    "nltk.download('stopwords')\n",
    "from nltk.corpus import stopwords\n",
    "stop = stopwords.words('english')\n",
    "\n"
   ]
  },
  {
   "cell_type": "code",
   "execution_count": 15,
   "id": "80b547ef-f09f-41db-84b0-99982929cf87",
   "metadata": {},
   "outputs": [
    {
     "name": "stderr",
     "output_type": "stream",
     "text": [
      "                                                                                \r"
     ]
    },
    {
     "data": {
      "text/html": [
       "<table border='1'>\n",
       "<tr><th>text</th><th>subject</th><th>Flag</th><th>id</th><th>words</th></tr>\n",
       "<tr><td>jerusalem  reuter...</td><td>worldnews</td><td>True_News</td><td>103079216610</td><td>[jerusalem, , reu...</td></tr>\n",
       "<tr><td>trump administrat...</td><td>left-news</td><td>Fake_News</td><td>42949674064</td><td>[trump, administr...</td></tr>\n",
       "<tr><td>after black lives...</td><td>left-news</td><td>Fake_News</td><td>42949674720</td><td>[after, black, li...</td></tr>\n",
       "<tr><td>washington  reute...</td><td>politicsNews</td><td>True_News</td><td>68719479218</td><td>[washington, , re...</td></tr>\n",
       "<tr><td>dear mike tomlin ...</td><td>left-news</td><td>Fake_News</td><td>42949674097</td><td>[dear, mike, toml...</td></tr>\n",
       "<tr><td>london  reuters  ...</td><td>worldnews</td><td>True_News</td><td>103079216991</td><td>[london, , reuter...</td></tr>\n",
       "<tr><td>the truth is mexi...</td><td>politics</td><td>Fake_News</td><td>25769806183</td><td>[the, truth, is, ...</td></tr>\n",
       "<tr><td>in january 2015 a...</td><td>left-news</td><td>Fake_News</td><td>42949676242</td><td>[in, january, 201...</td></tr>\n",
       "<tr><td>new york  reuters...</td><td>worldnews</td><td>True_News</td><td>120259086668</td><td>[new, york, , reu...</td></tr>\n",
       "<tr><td>prague  reuters  ...</td><td>worldnews</td><td>True_News</td><td>111669149802</td><td>[prague, , reuter...</td></tr>\n",
       "<tr><td>meanwhile  most a...</td><td>left-news</td><td>Fake_News</td><td>51539608900</td><td>[meanwhile, , mos...</td></tr>\n",
       "<tr><td> </td><td>politics</td><td>Fake_News</td><td>25769806956</td><td>[, ]</td></tr>\n",
       "<tr><td>prague  reuters  ...</td><td>worldnews</td><td>True_News</td><td>111669152861</td><td>[prague, , reuter...</td></tr>\n",
       "<tr><td>washington  reute...</td><td>politicsNews</td><td>True_News</td><td>94489283104</td><td>[washington, , re...</td></tr>\n",
       "<tr><td>first of all  the...</td><td>politics</td><td>Fake_News</td><td>25769804233</td><td>[first, of, all, ...</td></tr>\n",
       "<tr><td>trump s latest fi...</td><td>News</td><td>Fake_News</td><td>17179870188</td><td>[trump, s, latest...</td></tr>\n",
       "<tr><td>asian americans a...</td><td>News</td><td>Fake_News</td><td>8589935845</td><td>[asian, americans...</td></tr>\n",
       "<tr><td>this is what it l...</td><td>politics</td><td>Fake_News</td><td>34359739443</td><td>[this, is, what, ...</td></tr>\n",
       "<tr><td>moscow  reuters  ...</td><td>worldnews</td><td>True_News</td><td>103079216753</td><td>[moscow, , reuter...</td></tr>\n",
       "<tr><td>washington tokyo ...</td><td>politicsNews</td><td>True_News</td><td>94489281975</td><td>[washington, toky...</td></tr>\n",
       "</table>\n",
       "only showing top 20 rows\n"
      ],
      "text/plain": [
       "+--------------------+------------+---------+------------+--------------------+\n",
       "|                text|     subject|     Flag|          id|               words|\n",
       "+--------------------+------------+---------+------------+--------------------+\n",
       "|jerusalem  reuter...|   worldnews|True_News|103079216610|[jerusalem, , reu...|\n",
       "|trump administrat...|   left-news|Fake_News| 42949674064|[trump, administr...|\n",
       "|after black lives...|   left-news|Fake_News| 42949674720|[after, black, li...|\n",
       "|washington  reute...|politicsNews|True_News| 68719479218|[washington, , re...|\n",
       "|dear mike tomlin ...|   left-news|Fake_News| 42949674097|[dear, mike, toml...|\n",
       "|london  reuters  ...|   worldnews|True_News|103079216991|[london, , reuter...|\n",
       "|the truth is mexi...|    politics|Fake_News| 25769806183|[the, truth, is, ...|\n",
       "|in january 2015 a...|   left-news|Fake_News| 42949676242|[in, january, 201...|\n",
       "|new york  reuters...|   worldnews|True_News|120259086668|[new, york, , reu...|\n",
       "|prague  reuters  ...|   worldnews|True_News|111669149802|[prague, , reuter...|\n",
       "|meanwhile  most a...|   left-news|Fake_News| 51539608900|[meanwhile, , mos...|\n",
       "|                    |    politics|Fake_News| 25769806956|                [, ]|\n",
       "|prague  reuters  ...|   worldnews|True_News|111669152861|[prague, , reuter...|\n",
       "|washington  reute...|politicsNews|True_News| 94489283104|[washington, , re...|\n",
       "|first of all  the...|    politics|Fake_News| 25769804233|[first, of, all, ...|\n",
       "|trump s latest fi...|        News|Fake_News| 17179870188|[trump, s, latest...|\n",
       "|asian americans a...|        News|Fake_News|  8589935845|[asian, americans...|\n",
       "|this is what it l...|    politics|Fake_News| 34359739443|[this, is, what, ...|\n",
       "|moscow  reuters  ...|   worldnews|True_News|103079216753|[moscow, , reuter...|\n",
       "|washington tokyo ...|politicsNews|True_News| 94489281975|[washington, toky...|\n",
       "+--------------------+------------+---------+------------+--------------------+\n",
       "only showing top 20 rows"
      ]
     },
     "execution_count": 15,
     "metadata": {},
     "output_type": "execute_result"
    }
   ],
   "source": [
    "df_concat = df_concat.withColumn('words',F.split(F.col('text'),' '))\n",
    "df_concat"
   ]
  },
  {
   "cell_type": "code",
   "execution_count": 16,
   "id": "52299c32-7650-4396-a7b6-d8bb8f28d834",
   "metadata": {},
   "outputs": [],
   "source": [
    "from pyspark.ml.feature import StopWordsRemover \n",
    "\n",
    "stopwordsRemovalFeature = StopWordsRemover(inputCol=\"words\", \n",
    "                   outputCol=\"words without stop\").setStopWords(stop)"
   ]
  },
  {
   "cell_type": "code",
   "execution_count": 17,
   "id": "9477e023-a186-4f32-98f1-d3dba1c2368e",
   "metadata": {},
   "outputs": [],
   "source": [
    "from pyspark.ml import Pipeline\n",
    "\n",
    "stopWordRemovalPipeline = Pipeline(stages=[stopwordsRemovalFeature])\n",
    "pipelineFitRemoveStopWords = stopWordRemovalPipeline.fit(df_concat)"
   ]
  },
  {
   "cell_type": "code",
   "execution_count": 18,
   "id": "8e3e66d4-0ec4-4222-b7a0-f9d34162431c",
   "metadata": {},
   "outputs": [],
   "source": [
    "df_concat = pipelineFitRemoveStopWords.transform(df_concat)"
   ]
  },
  {
   "cell_type": "code",
   "execution_count": 19,
   "id": "4e0ad9f1-2d7a-401f-81d9-c80c23d6c698",
   "metadata": {},
   "outputs": [
    {
     "name": "stderr",
     "output_type": "stream",
     "text": [
      "                                                                                \r"
     ]
    },
    {
     "data": {
      "text/html": [
       "<table border='1'>\n",
       "<tr><th>text</th><th>subject</th><th>Flag</th><th>id</th><th>words</th><th>words without stop</th></tr>\n",
       "<tr><td>jerusalem  reuter...</td><td>worldnews</td><td>True_News</td><td>103079216610</td><td>[jerusalem, , reu...</td><td>[jerusalem, , reu...</td></tr>\n",
       "<tr><td>trump administrat...</td><td>left-news</td><td>Fake_News</td><td>42949674064</td><td>[trump, administr...</td><td>[trump, administr...</td></tr>\n",
       "<tr><td>after black lives...</td><td>left-news</td><td>Fake_News</td><td>42949674720</td><td>[after, black, li...</td><td>[black, lives, ma...</td></tr>\n",
       "<tr><td>washington  reute...</td><td>politicsNews</td><td>True_News</td><td>68719479218</td><td>[washington, , re...</td><td>[washington, , re...</td></tr>\n",
       "<tr><td>dear mike tomlin ...</td><td>left-news</td><td>Fake_News</td><td>42949674097</td><td>[dear, mike, toml...</td><td>[dear, mike, toml...</td></tr>\n",
       "<tr><td>london  reuters  ...</td><td>worldnews</td><td>True_News</td><td>103079216991</td><td>[london, , reuter...</td><td>[london, , reuter...</td></tr>\n",
       "<tr><td>the truth is mexi...</td><td>politics</td><td>Fake_News</td><td>25769806183</td><td>[the, truth, is, ...</td><td>[truth, mexico, d...</td></tr>\n",
       "<tr><td>in january 2015 a...</td><td>left-news</td><td>Fake_News</td><td>42949676242</td><td>[in, january, 201...</td><td>[january, 2015, g...</td></tr>\n",
       "<tr><td>new york  reuters...</td><td>worldnews</td><td>True_News</td><td>120259086668</td><td>[new, york, , reu...</td><td>[new, york, , reu...</td></tr>\n",
       "<tr><td>prague  reuters  ...</td><td>worldnews</td><td>True_News</td><td>111669149802</td><td>[prague, , reuter...</td><td>[prague, , reuter...</td></tr>\n",
       "<tr><td>meanwhile  most a...</td><td>left-news</td><td>Fake_News</td><td>51539608900</td><td>[meanwhile, , mos...</td><td>[meanwhile, , ame...</td></tr>\n",
       "<tr><td> </td><td>politics</td><td>Fake_News</td><td>25769806956</td><td>[, ]</td><td>[, ]</td></tr>\n",
       "<tr><td>prague  reuters  ...</td><td>worldnews</td><td>True_News</td><td>111669152861</td><td>[prague, , reuter...</td><td>[prague, , reuter...</td></tr>\n",
       "<tr><td>washington  reute...</td><td>politicsNews</td><td>True_News</td><td>94489283104</td><td>[washington, , re...</td><td>[washington, , re...</td></tr>\n",
       "<tr><td>first of all  the...</td><td>politics</td><td>Fake_News</td><td>25769804233</td><td>[first, of, all, ...</td><td>[first, , picture...</td></tr>\n",
       "<tr><td>trump s latest fi...</td><td>News</td><td>Fake_News</td><td>17179870188</td><td>[trump, s, latest...</td><td>[trump, latest, f...</td></tr>\n",
       "<tr><td>asian americans a...</td><td>News</td><td>Fake_News</td><td>8589935845</td><td>[asian, americans...</td><td>[asian, americans...</td></tr>\n",
       "<tr><td>this is what it l...</td><td>politics</td><td>Fake_News</td><td>34359739443</td><td>[this, is, what, ...</td><td>[looks, like, , t...</td></tr>\n",
       "<tr><td>moscow  reuters  ...</td><td>worldnews</td><td>True_News</td><td>103079216753</td><td>[moscow, , reuter...</td><td>[moscow, , reuter...</td></tr>\n",
       "<tr><td>washington tokyo ...</td><td>politicsNews</td><td>True_News</td><td>94489281975</td><td>[washington, toky...</td><td>[washington, toky...</td></tr>\n",
       "</table>\n",
       "only showing top 20 rows\n"
      ],
      "text/plain": [
       "+--------------------+------------+---------+------------+--------------------+--------------------+\n",
       "|                text|     subject|     Flag|          id|               words|  words without stop|\n",
       "+--------------------+------------+---------+------------+--------------------+--------------------+\n",
       "|jerusalem  reuter...|   worldnews|True_News|103079216610|[jerusalem, , reu...|[jerusalem, , reu...|\n",
       "|trump administrat...|   left-news|Fake_News| 42949674064|[trump, administr...|[trump, administr...|\n",
       "|after black lives...|   left-news|Fake_News| 42949674720|[after, black, li...|[black, lives, ma...|\n",
       "|washington  reute...|politicsNews|True_News| 68719479218|[washington, , re...|[washington, , re...|\n",
       "|dear mike tomlin ...|   left-news|Fake_News| 42949674097|[dear, mike, toml...|[dear, mike, toml...|\n",
       "|london  reuters  ...|   worldnews|True_News|103079216991|[london, , reuter...|[london, , reuter...|\n",
       "|the truth is mexi...|    politics|Fake_News| 25769806183|[the, truth, is, ...|[truth, mexico, d...|\n",
       "|in january 2015 a...|   left-news|Fake_News| 42949676242|[in, january, 201...|[january, 2015, g...|\n",
       "|new york  reuters...|   worldnews|True_News|120259086668|[new, york, , reu...|[new, york, , reu...|\n",
       "|prague  reuters  ...|   worldnews|True_News|111669149802|[prague, , reuter...|[prague, , reuter...|\n",
       "|meanwhile  most a...|   left-news|Fake_News| 51539608900|[meanwhile, , mos...|[meanwhile, , ame...|\n",
       "|                    |    politics|Fake_News| 25769806956|                [, ]|                [, ]|\n",
       "|prague  reuters  ...|   worldnews|True_News|111669152861|[prague, , reuter...|[prague, , reuter...|\n",
       "|washington  reute...|politicsNews|True_News| 94489283104|[washington, , re...|[washington, , re...|\n",
       "|first of all  the...|    politics|Fake_News| 25769804233|[first, of, all, ...|[first, , picture...|\n",
       "|trump s latest fi...|        News|Fake_News| 17179870188|[trump, s, latest...|[trump, latest, f...|\n",
       "|asian americans a...|        News|Fake_News|  8589935845|[asian, americans...|[asian, americans...|\n",
       "|this is what it l...|    politics|Fake_News| 34359739443|[this, is, what, ...|[looks, like, , t...|\n",
       "|moscow  reuters  ...|   worldnews|True_News|103079216753|[moscow, , reuter...|[moscow, , reuter...|\n",
       "|washington tokyo ...|politicsNews|True_News| 94489281975|[washington, toky...|[washington, toky...|\n",
       "+--------------------+------------+---------+------------+--------------------+--------------------+\n",
       "only showing top 20 rows"
      ]
     },
     "execution_count": 19,
     "metadata": {},
     "output_type": "execute_result"
    }
   ],
   "source": [
    "df_concat"
   ]
  },
  {
   "cell_type": "code",
   "execution_count": 20,
   "id": "07f34f6a-f560-4491-8291-818317c57c67",
   "metadata": {},
   "outputs": [
    {
     "name": "stderr",
     "output_type": "stream",
     "text": [
      "                                                                                \r"
     ]
    },
    {
     "data": {
      "text/html": [
       "<table border='1'>\n",
       "<tr><th>text</th><th>subject</th><th>Flag</th><th>id</th><th>words</th><th>words without stop</th><th>text1</th></tr>\n",
       "<tr><td>jerusalem  reuter...</td><td>worldnews</td><td>True_News</td><td>103079216610</td><td>[jerusalem, , reu...</td><td>[jerusalem, , reu...</td><td>jerusalem  reuter...</td></tr>\n",
       "<tr><td>trump administrat...</td><td>left-news</td><td>Fake_News</td><td>42949674064</td><td>[trump, administr...</td><td>[trump, administr...</td><td>trump administrat...</td></tr>\n",
       "<tr><td>after black lives...</td><td>left-news</td><td>Fake_News</td><td>42949674720</td><td>[after, black, li...</td><td>[black, lives, ma...</td><td>black lives matte...</td></tr>\n",
       "<tr><td>washington  reute...</td><td>politicsNews</td><td>True_News</td><td>68719479218</td><td>[washington, , re...</td><td>[washington, , re...</td><td>washington  reute...</td></tr>\n",
       "<tr><td>dear mike tomlin ...</td><td>left-news</td><td>Fake_News</td><td>42949674097</td><td>[dear, mike, toml...</td><td>[dear, mike, toml...</td><td>dear mike tomlin ...</td></tr>\n",
       "<tr><td>london  reuters  ...</td><td>worldnews</td><td>True_News</td><td>103079216991</td><td>[london, , reuter...</td><td>[london, , reuter...</td><td>london  reuters  ...</td></tr>\n",
       "<tr><td>the truth is mexi...</td><td>politics</td><td>Fake_News</td><td>25769806183</td><td>[the, truth, is, ...</td><td>[truth, mexico, d...</td><td>truth mexico depe...</td></tr>\n",
       "<tr><td>in january 2015 a...</td><td>left-news</td><td>Fake_News</td><td>42949676242</td><td>[in, january, 201...</td><td>[january, 2015, g...</td><td>january 2015 grou...</td></tr>\n",
       "<tr><td>new york  reuters...</td><td>worldnews</td><td>True_News</td><td>120259086668</td><td>[new, york, , reu...</td><td>[new, york, , reu...</td><td>new york  reuters...</td></tr>\n",
       "<tr><td>prague  reuters  ...</td><td>worldnews</td><td>True_News</td><td>111669149802</td><td>[prague, , reuter...</td><td>[prague, , reuter...</td><td>prague  reuters  ...</td></tr>\n",
       "<tr><td>meanwhile  most a...</td><td>left-news</td><td>Fake_News</td><td>51539608900</td><td>[meanwhile, , mos...</td><td>[meanwhile, , ame...</td><td>meanwhile  americ...</td></tr>\n",
       "<tr><td> </td><td>politics</td><td>Fake_News</td><td>25769806956</td><td>[, ]</td><td>[, ]</td><td> </td></tr>\n",
       "<tr><td>prague  reuters  ...</td><td>worldnews</td><td>True_News</td><td>111669152861</td><td>[prague, , reuter...</td><td>[prague, , reuter...</td><td>prague  reuters  ...</td></tr>\n",
       "<tr><td>washington  reute...</td><td>politicsNews</td><td>True_News</td><td>94489283104</td><td>[washington, , re...</td><td>[washington, , re...</td><td>washington  reute...</td></tr>\n",
       "<tr><td>first of all  the...</td><td>politics</td><td>Fake_News</td><td>25769804233</td><td>[first, of, all, ...</td><td>[first, , picture...</td><td>first  picture pr...</td></tr>\n",
       "<tr><td>trump s latest fi...</td><td>News</td><td>Fake_News</td><td>17179870188</td><td>[trump, s, latest...</td><td>[trump, latest, f...</td><td>trump latest fias...</td></tr>\n",
       "<tr><td>asian americans a...</td><td>News</td><td>Fake_News</td><td>8589935845</td><td>[asian, americans...</td><td>[asian, americans...</td><td>asian americans p...</td></tr>\n",
       "<tr><td>this is what it l...</td><td>politics</td><td>Fake_News</td><td>34359739443</td><td>[this, is, what, ...</td><td>[looks, like, , t...</td><td>looks like  toler...</td></tr>\n",
       "<tr><td>moscow  reuters  ...</td><td>worldnews</td><td>True_News</td><td>103079216753</td><td>[moscow, , reuter...</td><td>[moscow, , reuter...</td><td>moscow  reuters  ...</td></tr>\n",
       "<tr><td>washington tokyo ...</td><td>politicsNews</td><td>True_News</td><td>94489281975</td><td>[washington, toky...</td><td>[washington, toky...</td><td>washington tokyo ...</td></tr>\n",
       "</table>\n",
       "only showing top 20 rows\n"
      ],
      "text/plain": [
       "+--------------------+------------+---------+------------+--------------------+--------------------+--------------------+\n",
       "|                text|     subject|     Flag|          id|               words|  words without stop|               text1|\n",
       "+--------------------+------------+---------+------------+--------------------+--------------------+--------------------+\n",
       "|jerusalem  reuter...|   worldnews|True_News|103079216610|[jerusalem, , reu...|[jerusalem, , reu...|jerusalem  reuter...|\n",
       "|trump administrat...|   left-news|Fake_News| 42949674064|[trump, administr...|[trump, administr...|trump administrat...|\n",
       "|after black lives...|   left-news|Fake_News| 42949674720|[after, black, li...|[black, lives, ma...|black lives matte...|\n",
       "|washington  reute...|politicsNews|True_News| 68719479218|[washington, , re...|[washington, , re...|washington  reute...|\n",
       "|dear mike tomlin ...|   left-news|Fake_News| 42949674097|[dear, mike, toml...|[dear, mike, toml...|dear mike tomlin ...|\n",
       "|london  reuters  ...|   worldnews|True_News|103079216991|[london, , reuter...|[london, , reuter...|london  reuters  ...|\n",
       "|the truth is mexi...|    politics|Fake_News| 25769806183|[the, truth, is, ...|[truth, mexico, d...|truth mexico depe...|\n",
       "|in january 2015 a...|   left-news|Fake_News| 42949676242|[in, january, 201...|[january, 2015, g...|january 2015 grou...|\n",
       "|new york  reuters...|   worldnews|True_News|120259086668|[new, york, , reu...|[new, york, , reu...|new york  reuters...|\n",
       "|prague  reuters  ...|   worldnews|True_News|111669149802|[prague, , reuter...|[prague, , reuter...|prague  reuters  ...|\n",
       "|meanwhile  most a...|   left-news|Fake_News| 51539608900|[meanwhile, , mos...|[meanwhile, , ame...|meanwhile  americ...|\n",
       "|                    |    politics|Fake_News| 25769806956|                [, ]|                [, ]|                    |\n",
       "|prague  reuters  ...|   worldnews|True_News|111669152861|[prague, , reuter...|[prague, , reuter...|prague  reuters  ...|\n",
       "|washington  reute...|politicsNews|True_News| 94489283104|[washington, , re...|[washington, , re...|washington  reute...|\n",
       "|first of all  the...|    politics|Fake_News| 25769804233|[first, of, all, ...|[first, , picture...|first  picture pr...|\n",
       "|trump s latest fi...|        News|Fake_News| 17179870188|[trump, s, latest...|[trump, latest, f...|trump latest fias...|\n",
       "|asian americans a...|        News|Fake_News|  8589935845|[asian, americans...|[asian, americans...|asian americans p...|\n",
       "|this is what it l...|    politics|Fake_News| 34359739443|[this, is, what, ...|[looks, like, , t...|looks like  toler...|\n",
       "|moscow  reuters  ...|   worldnews|True_News|103079216753|[moscow, , reuter...|[moscow, , reuter...|moscow  reuters  ...|\n",
       "|washington tokyo ...|politicsNews|True_News| 94489281975|[washington, toky...|[washington, toky...|washington tokyo ...|\n",
       "+--------------------+------------+---------+------------+--------------------+--------------------+--------------------+\n",
       "only showing top 20 rows"
      ]
     },
     "execution_count": 20,
     "metadata": {},
     "output_type": "execute_result"
    }
   ],
   "source": [
    "# convert array of strings to strings\n",
    "from pyspark.sql.functions import concat_ws\n",
    "\n",
    "df_concat = df_concat.withColumn(\"text1\", concat_ws(\" \", df_concat[\"words without stop\"]))\n",
    "df_concat"
   ]
  },
  {
   "cell_type": "code",
   "execution_count": 21,
   "id": "d71dafa7-c5c3-4325-9ed6-169a0cd57036",
   "metadata": {},
   "outputs": [
    {
     "name": "stderr",
     "output_type": "stream",
     "text": [
      "                                                                                \r"
     ]
    },
    {
     "data": {
      "text/html": [
       "<table border='1'>\n",
       "<tr><th>text</th><th>subject</th><th>Flag</th><th>id</th><th>text1</th></tr>\n",
       "<tr><td>jerusalem  reuter...</td><td>worldnews</td><td>True_News</td><td>103079216610</td><td>jerusalem  reuter...</td></tr>\n",
       "<tr><td>trump administrat...</td><td>left-news</td><td>Fake_News</td><td>42949674064</td><td>trump administrat...</td></tr>\n",
       "<tr><td>after black lives...</td><td>left-news</td><td>Fake_News</td><td>42949674720</td><td>black lives matte...</td></tr>\n",
       "<tr><td>washington  reute...</td><td>politicsNews</td><td>True_News</td><td>68719479218</td><td>washington  reute...</td></tr>\n",
       "<tr><td>dear mike tomlin ...</td><td>left-news</td><td>Fake_News</td><td>42949674097</td><td>dear mike tomlin ...</td></tr>\n",
       "<tr><td>london  reuters  ...</td><td>worldnews</td><td>True_News</td><td>103079216991</td><td>london  reuters  ...</td></tr>\n",
       "<tr><td>the truth is mexi...</td><td>politics</td><td>Fake_News</td><td>25769806183</td><td>truth mexico depe...</td></tr>\n",
       "<tr><td>in january 2015 a...</td><td>left-news</td><td>Fake_News</td><td>42949676242</td><td>january 2015 grou...</td></tr>\n",
       "<tr><td>new york  reuters...</td><td>worldnews</td><td>True_News</td><td>120259086668</td><td>new york  reuters...</td></tr>\n",
       "<tr><td>prague  reuters  ...</td><td>worldnews</td><td>True_News</td><td>111669149802</td><td>prague  reuters  ...</td></tr>\n",
       "<tr><td>meanwhile  most a...</td><td>left-news</td><td>Fake_News</td><td>51539608900</td><td>meanwhile  americ...</td></tr>\n",
       "<tr><td> </td><td>politics</td><td>Fake_News</td><td>25769806956</td><td> </td></tr>\n",
       "<tr><td>prague  reuters  ...</td><td>worldnews</td><td>True_News</td><td>111669152861</td><td>prague  reuters  ...</td></tr>\n",
       "<tr><td>washington  reute...</td><td>politicsNews</td><td>True_News</td><td>94489283104</td><td>washington  reute...</td></tr>\n",
       "<tr><td>first of all  the...</td><td>politics</td><td>Fake_News</td><td>25769804233</td><td>first  picture pr...</td></tr>\n",
       "<tr><td>trump s latest fi...</td><td>News</td><td>Fake_News</td><td>17179870188</td><td>trump latest fias...</td></tr>\n",
       "<tr><td>asian americans a...</td><td>News</td><td>Fake_News</td><td>8589935845</td><td>asian americans p...</td></tr>\n",
       "<tr><td>this is what it l...</td><td>politics</td><td>Fake_News</td><td>34359739443</td><td>looks like  toler...</td></tr>\n",
       "<tr><td>moscow  reuters  ...</td><td>worldnews</td><td>True_News</td><td>103079216753</td><td>moscow  reuters  ...</td></tr>\n",
       "<tr><td>washington tokyo ...</td><td>politicsNews</td><td>True_News</td><td>94489281975</td><td>washington tokyo ...</td></tr>\n",
       "</table>\n",
       "only showing top 20 rows\n"
      ],
      "text/plain": [
       "+--------------------+------------+---------+------------+--------------------+\n",
       "|                text|     subject|     Flag|          id|               text1|\n",
       "+--------------------+------------+---------+------------+--------------------+\n",
       "|jerusalem  reuter...|   worldnews|True_News|103079216610|jerusalem  reuter...|\n",
       "|trump administrat...|   left-news|Fake_News| 42949674064|trump administrat...|\n",
       "|after black lives...|   left-news|Fake_News| 42949674720|black lives matte...|\n",
       "|washington  reute...|politicsNews|True_News| 68719479218|washington  reute...|\n",
       "|dear mike tomlin ...|   left-news|Fake_News| 42949674097|dear mike tomlin ...|\n",
       "|london  reuters  ...|   worldnews|True_News|103079216991|london  reuters  ...|\n",
       "|the truth is mexi...|    politics|Fake_News| 25769806183|truth mexico depe...|\n",
       "|in january 2015 a...|   left-news|Fake_News| 42949676242|january 2015 grou...|\n",
       "|new york  reuters...|   worldnews|True_News|120259086668|new york  reuters...|\n",
       "|prague  reuters  ...|   worldnews|True_News|111669149802|prague  reuters  ...|\n",
       "|meanwhile  most a...|   left-news|Fake_News| 51539608900|meanwhile  americ...|\n",
       "|                    |    politics|Fake_News| 25769806956|                    |\n",
       "|prague  reuters  ...|   worldnews|True_News|111669152861|prague  reuters  ...|\n",
       "|washington  reute...|politicsNews|True_News| 94489283104|washington  reute...|\n",
       "|first of all  the...|    politics|Fake_News| 25769804233|first  picture pr...|\n",
       "|trump s latest fi...|        News|Fake_News| 17179870188|trump latest fias...|\n",
       "|asian americans a...|        News|Fake_News|  8589935845|asian americans p...|\n",
       "|this is what it l...|    politics|Fake_News| 34359739443|looks like  toler...|\n",
       "|moscow  reuters  ...|   worldnews|True_News|103079216753|moscow  reuters  ...|\n",
       "|washington tokyo ...|politicsNews|True_News| 94489281975|washington tokyo ...|\n",
       "+--------------------+------------+---------+------------+--------------------+\n",
       "only showing top 20 rows"
      ]
     },
     "execution_count": 21,
     "metadata": {},
     "output_type": "execute_result"
    }
   ],
   "source": [
    "df_concat = df_concat.drop(\"words\",\"words without stop\")\n",
    "\n",
    "df_concat"
   ]
  },
  {
   "cell_type": "code",
   "execution_count": 22,
   "id": "dff8f3e4-d720-4a7a-b532-e6e8145b71e0",
   "metadata": {},
   "outputs": [
    {
     "data": {
      "text/html": [
       "<table border='1'>\n",
       "<tr><th>subject</th><th>Flag</th><th>id</th><th>text1</th></tr>\n",
       "<tr><td>worldnews</td><td>True_News</td><td>103079216610</td><td>jerusalem  reuter...</td></tr>\n",
       "<tr><td>left-news</td><td>Fake_News</td><td>42949674064</td><td>trump administrat...</td></tr>\n",
       "<tr><td>left-news</td><td>Fake_News</td><td>42949674720</td><td>black lives matte...</td></tr>\n",
       "<tr><td>politicsNews</td><td>True_News</td><td>68719479218</td><td>washington  reute...</td></tr>\n",
       "<tr><td>left-news</td><td>Fake_News</td><td>42949674097</td><td>dear mike tomlin ...</td></tr>\n",
       "<tr><td>worldnews</td><td>True_News</td><td>103079216991</td><td>london  reuters  ...</td></tr>\n",
       "<tr><td>politics</td><td>Fake_News</td><td>25769806183</td><td>truth mexico depe...</td></tr>\n",
       "<tr><td>left-news</td><td>Fake_News</td><td>42949676242</td><td>january 2015 grou...</td></tr>\n",
       "<tr><td>worldnews</td><td>True_News</td><td>120259086668</td><td>new york  reuters...</td></tr>\n",
       "<tr><td>worldnews</td><td>True_News</td><td>111669149802</td><td>prague  reuters  ...</td></tr>\n",
       "<tr><td>left-news</td><td>Fake_News</td><td>51539608900</td><td>meanwhile  americ...</td></tr>\n",
       "<tr><td>politics</td><td>Fake_News</td><td>25769806956</td><td> </td></tr>\n",
       "<tr><td>worldnews</td><td>True_News</td><td>111669152861</td><td>prague  reuters  ...</td></tr>\n",
       "<tr><td>politicsNews</td><td>True_News</td><td>94489283104</td><td>washington  reute...</td></tr>\n",
       "<tr><td>politics</td><td>Fake_News</td><td>25769804233</td><td>first  picture pr...</td></tr>\n",
       "<tr><td>News</td><td>Fake_News</td><td>17179870188</td><td>trump latest fias...</td></tr>\n",
       "<tr><td>News</td><td>Fake_News</td><td>8589935845</td><td>asian americans p...</td></tr>\n",
       "<tr><td>politics</td><td>Fake_News</td><td>34359739443</td><td>looks like  toler...</td></tr>\n",
       "<tr><td>worldnews</td><td>True_News</td><td>103079216753</td><td>moscow  reuters  ...</td></tr>\n",
       "<tr><td>politicsNews</td><td>True_News</td><td>94489281975</td><td>washington tokyo ...</td></tr>\n",
       "</table>\n",
       "only showing top 20 rows\n"
      ],
      "text/plain": [
       "+------------+---------+------------+--------------------+\n",
       "|     subject|     Flag|          id|               text1|\n",
       "+------------+---------+------------+--------------------+\n",
       "|   worldnews|True_News|103079216610|jerusalem  reuter...|\n",
       "|   left-news|Fake_News| 42949674064|trump administrat...|\n",
       "|   left-news|Fake_News| 42949674720|black lives matte...|\n",
       "|politicsNews|True_News| 68719479218|washington  reute...|\n",
       "|   left-news|Fake_News| 42949674097|dear mike tomlin ...|\n",
       "|   worldnews|True_News|103079216991|london  reuters  ...|\n",
       "|    politics|Fake_News| 25769806183|truth mexico depe...|\n",
       "|   left-news|Fake_News| 42949676242|january 2015 grou...|\n",
       "|   worldnews|True_News|120259086668|new york  reuters...|\n",
       "|   worldnews|True_News|111669149802|prague  reuters  ...|\n",
       "|   left-news|Fake_News| 51539608900|meanwhile  americ...|\n",
       "|    politics|Fake_News| 25769806956|                    |\n",
       "|   worldnews|True_News|111669152861|prague  reuters  ...|\n",
       "|politicsNews|True_News| 94489283104|washington  reute...|\n",
       "|    politics|Fake_News| 25769804233|first  picture pr...|\n",
       "|        News|Fake_News| 17179870188|trump latest fias...|\n",
       "|        News|Fake_News|  8589935845|asian americans p...|\n",
       "|    politics|Fake_News| 34359739443|looks like  toler...|\n",
       "|   worldnews|True_News|103079216753|moscow  reuters  ...|\n",
       "|politicsNews|True_News| 94489281975|washington tokyo ...|\n",
       "+------------+---------+------------+--------------------+\n",
       "only showing top 20 rows"
      ]
     },
     "execution_count": 22,
     "metadata": {},
     "output_type": "execute_result"
    }
   ],
   "source": [
    "df_concat = df_concat.drop(\"text\")\n",
    "\n",
    "df_concat"
   ]
  },
  {
   "cell_type": "code",
   "execution_count": 23,
   "id": "fdb5514e-08a1-4445-8cc4-b75470172e9c",
   "metadata": {},
   "outputs": [
    {
     "data": {
      "text/html": [
       "<table border='1'>\n",
       "<tr><th>subject</th><th>Flag</th><th>id</th><th>text</th></tr>\n",
       "<tr><td>worldnews</td><td>True_News</td><td>103079216610</td><td>jerusalem  reuter...</td></tr>\n",
       "<tr><td>left-news</td><td>Fake_News</td><td>42949674064</td><td>trump administrat...</td></tr>\n",
       "<tr><td>left-news</td><td>Fake_News</td><td>42949674720</td><td>black lives matte...</td></tr>\n",
       "<tr><td>politicsNews</td><td>True_News</td><td>68719479218</td><td>washington  reute...</td></tr>\n",
       "<tr><td>left-news</td><td>Fake_News</td><td>42949674097</td><td>dear mike tomlin ...</td></tr>\n",
       "<tr><td>worldnews</td><td>True_News</td><td>103079216991</td><td>london  reuters  ...</td></tr>\n",
       "<tr><td>politics</td><td>Fake_News</td><td>25769806183</td><td>truth mexico depe...</td></tr>\n",
       "<tr><td>left-news</td><td>Fake_News</td><td>42949676242</td><td>january 2015 grou...</td></tr>\n",
       "<tr><td>worldnews</td><td>True_News</td><td>120259086668</td><td>new york  reuters...</td></tr>\n",
       "<tr><td>worldnews</td><td>True_News</td><td>111669149802</td><td>prague  reuters  ...</td></tr>\n",
       "<tr><td>left-news</td><td>Fake_News</td><td>51539608900</td><td>meanwhile  americ...</td></tr>\n",
       "<tr><td>politics</td><td>Fake_News</td><td>25769806956</td><td> </td></tr>\n",
       "<tr><td>worldnews</td><td>True_News</td><td>111669152861</td><td>prague  reuters  ...</td></tr>\n",
       "<tr><td>politicsNews</td><td>True_News</td><td>94489283104</td><td>washington  reute...</td></tr>\n",
       "<tr><td>politics</td><td>Fake_News</td><td>25769804233</td><td>first  picture pr...</td></tr>\n",
       "<tr><td>News</td><td>Fake_News</td><td>17179870188</td><td>trump latest fias...</td></tr>\n",
       "<tr><td>News</td><td>Fake_News</td><td>8589935845</td><td>asian americans p...</td></tr>\n",
       "<tr><td>politics</td><td>Fake_News</td><td>34359739443</td><td>looks like  toler...</td></tr>\n",
       "<tr><td>worldnews</td><td>True_News</td><td>103079216753</td><td>moscow  reuters  ...</td></tr>\n",
       "<tr><td>politicsNews</td><td>True_News</td><td>94489281975</td><td>washington tokyo ...</td></tr>\n",
       "</table>\n",
       "only showing top 20 rows\n"
      ],
      "text/plain": [
       "+------------+---------+------------+--------------------+\n",
       "|     subject|     Flag|          id|                text|\n",
       "+------------+---------+------------+--------------------+\n",
       "|   worldnews|True_News|103079216610|jerusalem  reuter...|\n",
       "|   left-news|Fake_News| 42949674064|trump administrat...|\n",
       "|   left-news|Fake_News| 42949674720|black lives matte...|\n",
       "|politicsNews|True_News| 68719479218|washington  reute...|\n",
       "|   left-news|Fake_News| 42949674097|dear mike tomlin ...|\n",
       "|   worldnews|True_News|103079216991|london  reuters  ...|\n",
       "|    politics|Fake_News| 25769806183|truth mexico depe...|\n",
       "|   left-news|Fake_News| 42949676242|january 2015 grou...|\n",
       "|   worldnews|True_News|120259086668|new york  reuters...|\n",
       "|   worldnews|True_News|111669149802|prague  reuters  ...|\n",
       "|   left-news|Fake_News| 51539608900|meanwhile  americ...|\n",
       "|    politics|Fake_News| 25769806956|                    |\n",
       "|   worldnews|True_News|111669152861|prague  reuters  ...|\n",
       "|politicsNews|True_News| 94489283104|washington  reute...|\n",
       "|    politics|Fake_News| 25769804233|first  picture pr...|\n",
       "|        News|Fake_News| 17179870188|trump latest fias...|\n",
       "|        News|Fake_News|  8589935845|asian americans p...|\n",
       "|    politics|Fake_News| 34359739443|looks like  toler...|\n",
       "|   worldnews|True_News|103079216753|moscow  reuters  ...|\n",
       "|politicsNews|True_News| 94489281975|washington tokyo ...|\n",
       "+------------+---------+------------+--------------------+\n",
       "only showing top 20 rows"
      ]
     },
     "execution_count": 23,
     "metadata": {},
     "output_type": "execute_result"
    }
   ],
   "source": [
    "df_concat = df_concat.withColumnRenamed(\"text1\",\"text\")\n",
    "\n",
    "df_concat"
   ]
  },
  {
   "cell_type": "code",
   "execution_count": 24,
   "id": "9cf03244-bc7f-4ef6-a3ec-7b4df5a07600",
   "metadata": {},
   "outputs": [],
   "source": [
    "# most frequent words in fake news\n",
    "\n",
    "# import pyspark.sql.functions as F\n",
    "\n",
    "# fake_words_freq_df = df_concat.withColumn(\"text\", F.split(\"text\", \" \")) \\\n",
    "#     .groupBy(\"Flag\") \\\n",
    "#     .agg(F.collect_list(F.col(\"text\")).alias(\"text\")) \\\n",
    "#     .withColumn(\"w\", F.array_distinct(F.flatten(\"text\"))) \\\n",
    "#     .withColumn(\"text\", F.array_join(F.expr(\"filter(w, x -> size(filter(text, y -> array_contains(y, x))) = size(text))\"), \" \")) \\\n",
    "#     .drop(\"w\")\n",
    "\n",
    "# fake_words_freq_df"
   ]
  },
  {
   "cell_type": "code",
   "execution_count": 25,
   "id": "a1570119-2933-4882-8287-cb3487a2e343",
   "metadata": {},
   "outputs": [],
   "source": [
    "from nltk import tokenize\n",
    "\n",
    "token_space = tokenize.WhitespaceTokenizer()\n",
    "\n",
    "def counter(text, column_text, quantity):\n",
    "    all_words = ' '.join([text for text in text[column_text]])\n",
    "    token_phrase = token_space.tokenize(all_words)\n",
    "    frequency = nltk.FreqDist(token_phrase)\n",
    "    df_frequency = pd.DataFrame({\"Word\": list(frequency.keys()),\n",
    "                                   \"Frequency\": list(frequency.values())})\n",
    "    df_frequency = df_frequency.nlargest(columns = \"Frequency\", n = quantity)\n",
    "    plt.figure(figsize=(12,8))\n",
    "    ax = sns.barplot(data = df_frequency, x = \"Word\", y = \"Frequency\", color = 'blue')\n",
    "    ax.set(ylabel = \"Count\")\n",
    "    plt.xticks(rotation='vertical')\n",
    "    plt.show()"
   ]
  },
  {
   "cell_type": "code",
   "execution_count": 26,
   "id": "95616b60-10aa-45c6-b99e-a0a6d410afc1",
   "metadata": {},
   "outputs": [
    {
     "name": "stderr",
     "output_type": "stream",
     "text": [
      "[Stage 60:===>                                                     (1 + 8) / 16]\r"
     ]
    },
    {
     "name": "stdout",
     "output_type": "stream",
     "text": [
      "+--------------------+\n",
      "|                text|\n",
      "+--------------------+\n",
      "|trump administrat...|\n",
      "|black lives matte...|\n",
      "|dear mike tomlin ...|\n",
      "|truth mexico depe...|\n",
      "|january 2015 grou...|\n",
      "|meanwhile  americ...|\n",
      "|                    |\n",
      "|first  picture pr...|\n",
      "|trump latest fias...|\n",
      "|asian americans p...|\n",
      "|looks like  toler...|\n",
      "|potentially world...|\n",
      "|last thursday  hi...|\n",
      "|north carolina re...|\n",
      "|among slew basele...|\n",
      "|obama run  use ev...|\n",
      "|secret president ...|\n",
      "|gop known misogyn...|\n",
      "|consortium news e...|\n",
      "|former navy seal ...|\n",
      "+--------------------+\n",
      "only showing top 20 rows\n",
      "\n"
     ]
    },
    {
     "name": "stderr",
     "output_type": "stream",
     "text": [
      "                                                                                \r"
     ]
    }
   ],
   "source": [
    "# most frequent words in fake news\n",
    "\n",
    "df_fake = df_concat.filter(df_concat[\"Flag\"] == \"Fake_News\")\n",
    "\n",
    "df_fake_text = df_fake.select(\"text\")\n",
    "\n",
    "df_fake_text.show()"
   ]
  },
  {
   "cell_type": "code",
   "execution_count": 27,
   "id": "a2d3d3a7-f27c-4b22-bc2c-68b352b849ae",
   "metadata": {},
   "outputs": [
    {
     "name": "stderr",
     "output_type": "stream",
     "text": [
      "[Stage 64:>                                                         (0 + 8) / 8]\r"
     ]
    },
    {
     "name": "stdout",
     "output_type": "stream",
     "text": [
      "+---------+-------+\n",
      "|     word|  count|\n",
      "+---------+-------+\n",
      "|         |1305341|\n",
      "|    trump|  76773|\n",
      "|     said|  32978|\n",
      "|president|  26921|\n",
      "|   people|  25870|\n",
      "|      one|  23900|\n",
      "|    would|  23022|\n",
      "|  clinton|  18660|\n",
      "|    obama|  18344|\n",
      "|     like|  17514|\n",
      "|   donald|  17160|\n",
      "|     also|  15029|\n",
      "|       us|  14363|\n",
      "|     news|  14179|\n",
      "|      new|  14095|\n",
      "|  hillary|  13738|\n",
      "|     even|  13690|\n",
      "|     time|  13493|\n",
      "|    state|  13247|\n",
      "|    white|  12831|\n",
      "+---------+-------+\n",
      "only showing top 20 rows\n",
      "\n"
     ]
    },
    {
     "name": "stderr",
     "output_type": "stream",
     "text": [
      "                                                                                \r"
     ]
    }
   ],
   "source": [
    "from pyspark.sql.functions import explode\n",
    "\n",
    "df_fake_text = df_fake_text\\\n",
    ".withColumn(\"words\", split(col(\"text\"), \" \"))\\\n",
    ".where(length(\"text\")>0)\n",
    "\n",
    "df_freq_fake = df_fake_text\\\n",
    ".select(explode(col(\"words\")).alias(\"word\"))\\\n",
    ".groupBy(\"word\").count()\\\n",
    "\n",
    "df_freq_fake.orderBy(col(\"count\").desc()).show()"
   ]
  },
  {
   "cell_type": "code",
   "execution_count": 28,
   "id": "aa43bcb0-0e44-4533-9908-5e5499720fd1",
   "metadata": {},
   "outputs": [
    {
     "name": "stdout",
     "output_type": "stream",
     "text": [
      "+--------------------+\n",
      "|                text|\n",
      "+--------------------+\n",
      "|jerusalem  reuter...|\n",
      "|washington  reute...|\n",
      "|london  reuters  ...|\n",
      "|new york  reuters...|\n",
      "|prague  reuters  ...|\n",
      "|prague  reuters  ...|\n",
      "|washington  reute...|\n",
      "|moscow  reuters  ...|\n",
      "|washington tokyo ...|\n",
      "|united nations  r...|\n",
      "|washington  reute...|\n",
      "|washington  reute...|\n",
      "|palo alto  calif ...|\n",
      "|bauchi  nigeria  ...|\n",
      "|washington  reute...|\n",
      "|barcelona  reuter...|\n",
      "|barcelona  reuter...|\n",
      "|vatican city  reu...|\n",
      "|washington  reute...|\n",
      "|washington  reute...|\n",
      "+--------------------+\n",
      "only showing top 20 rows\n",
      "\n"
     ]
    }
   ],
   "source": [
    "# most frequent words in true news\n",
    "\n",
    "df_true = df_concat.filter(df_concat[\"Flag\"] == \"True_News\")\n",
    "\n",
    "df_true_text = df_true.select(\"text\")\n",
    "\n",
    "df_true_text.show()"
   ]
  },
  {
   "cell_type": "code",
   "execution_count": 29,
   "id": "c1d301e6-6901-4f6d-81bf-43e9d33dbc6a",
   "metadata": {},
   "outputs": [
    {
     "name": "stderr",
     "output_type": "stream",
     "text": [
      "                                                                                \r"
     ]
    },
    {
     "data": {
      "text/html": [
       "<table border='1'>\n",
       "<tr><th>text</th><th>line</th><th>words</th></tr>\n",
       "<tr><td>jerusalem  reuter...</td><td>jerusalem  reuter...</td><td>[jerusalem, , reu...</td></tr>\n",
       "<tr><td>washington  reute...</td><td>washington  reute...</td><td>[washington, , re...</td></tr>\n",
       "<tr><td>london  reuters  ...</td><td>london  reuters  ...</td><td>[london, , reuter...</td></tr>\n",
       "<tr><td>new york  reuters...</td><td>new york  reuters...</td><td>[new, york, , reu...</td></tr>\n",
       "<tr><td>prague  reuters  ...</td><td>prague  reuters  ...</td><td>[prague, , reuter...</td></tr>\n",
       "<tr><td>prague  reuters  ...</td><td>prague  reuters  ...</td><td>[prague, , reuter...</td></tr>\n",
       "<tr><td>washington  reute...</td><td>washington  reute...</td><td>[washington, , re...</td></tr>\n",
       "<tr><td>moscow  reuters  ...</td><td>moscow  reuters  ...</td><td>[moscow, , reuter...</td></tr>\n",
       "<tr><td>washington tokyo ...</td><td>washington tokyo ...</td><td>[washington, toky...</td></tr>\n",
       "<tr><td>united nations  r...</td><td>united nations  r...</td><td>[united, nations,...</td></tr>\n",
       "<tr><td>washington  reute...</td><td>washington  reute...</td><td>[washington, , re...</td></tr>\n",
       "<tr><td>washington  reute...</td><td>washington  reute...</td><td>[washington, , re...</td></tr>\n",
       "<tr><td>palo alto  calif ...</td><td>palo alto  calif ...</td><td>[palo, alto, , ca...</td></tr>\n",
       "<tr><td>bauchi  nigeria  ...</td><td>bauchi  nigeria  ...</td><td>[bauchi, , nigeri...</td></tr>\n",
       "<tr><td>washington  reute...</td><td>washington  reute...</td><td>[washington, , re...</td></tr>\n",
       "<tr><td>barcelona  reuter...</td><td>barcelona  reuter...</td><td>[barcelona, , reu...</td></tr>\n",
       "<tr><td>barcelona  reuter...</td><td>barcelona  reuter...</td><td>[barcelona, , reu...</td></tr>\n",
       "<tr><td>vatican city  reu...</td><td>vatican city  reu...</td><td>[vatican, city, ,...</td></tr>\n",
       "<tr><td>washington  reute...</td><td>washington  reute...</td><td>[washington, , re...</td></tr>\n",
       "<tr><td>washington  reute...</td><td>washington  reute...</td><td>[washington, , re...</td></tr>\n",
       "</table>\n",
       "only showing top 20 rows\n"
      ],
      "text/plain": [
       "+--------------------+--------------------+--------------------+\n",
       "|                text|                line|               words|\n",
       "+--------------------+--------------------+--------------------+\n",
       "|jerusalem  reuter...|jerusalem  reuter...|[jerusalem, , reu...|\n",
       "|washington  reute...|washington  reute...|[washington, , re...|\n",
       "|london  reuters  ...|london  reuters  ...|[london, , reuter...|\n",
       "|new york  reuters...|new york  reuters...|[new, york, , reu...|\n",
       "|prague  reuters  ...|prague  reuters  ...|[prague, , reuter...|\n",
       "|prague  reuters  ...|prague  reuters  ...|[prague, , reuter...|\n",
       "|washington  reute...|washington  reute...|[washington, , re...|\n",
       "|moscow  reuters  ...|moscow  reuters  ...|[moscow, , reuter...|\n",
       "|washington tokyo ...|washington tokyo ...|[washington, toky...|\n",
       "|united nations  r...|united nations  r...|[united, nations,...|\n",
       "|washington  reute...|washington  reute...|[washington, , re...|\n",
       "|washington  reute...|washington  reute...|[washington, , re...|\n",
       "|palo alto  calif ...|palo alto  calif ...|[palo, alto, , ca...|\n",
       "|bauchi  nigeria  ...|bauchi  nigeria  ...|[bauchi, , nigeri...|\n",
       "|washington  reute...|washington  reute...|[washington, , re...|\n",
       "|barcelona  reuter...|barcelona  reuter...|[barcelona, , reu...|\n",
       "|barcelona  reuter...|barcelona  reuter...|[barcelona, , reu...|\n",
       "|vatican city  reu...|vatican city  reu...|[vatican, city, ,...|\n",
       "|washington  reute...|washington  reute...|[washington, , re...|\n",
       "|washington  reute...|washington  reute...|[washington, , re...|\n",
       "+--------------------+--------------------+--------------------+\n",
       "only showing top 20 rows"
      ]
     },
     "execution_count": 29,
     "metadata": {},
     "output_type": "execute_result"
    }
   ],
   "source": [
    "df_true_text = df_true_text\\\n",
    ".withColumn(\"line\", regexp_replace(lower(col(\"text\")), r\"[^0-9a-z]\", \" \"))\\\n",
    ".withColumn(\"words\", split(col(\"line\"), \" \"))\\\n",
    ".where(length(\"line\")>0)\n",
    "\n",
    "df_true_text"
   ]
  },
  {
   "cell_type": "code",
   "execution_count": null,
   "id": "c8540eb5-1966-4b6f-a4f4-adf4f88c577a",
   "metadata": {},
   "outputs": [],
   "source": []
  }
 ],
 "metadata": {
  "kernelspec": {
   "display_name": "Python 3 (ipykernel)",
   "language": "python",
   "name": "python3"
  },
  "language_info": {
   "codemirror_mode": {
    "name": "ipython",
    "version": 3
   },
   "file_extension": ".py",
   "mimetype": "text/x-python",
   "name": "python",
   "nbconvert_exporter": "python",
   "pygments_lexer": "ipython3",
   "version": "3.9.12"
  }
 },
 "nbformat": 4,
 "nbformat_minor": 5
}
