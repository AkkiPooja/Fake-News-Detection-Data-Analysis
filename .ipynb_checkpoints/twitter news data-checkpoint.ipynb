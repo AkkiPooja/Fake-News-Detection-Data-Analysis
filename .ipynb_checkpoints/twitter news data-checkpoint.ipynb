{
 "cells": [
  {
   "cell_type": "code",
   "execution_count": 10,
   "id": "874ec673-0a97-4af4-915a-a78c07a736b6",
   "metadata": {},
   "outputs": [],
   "source": [
    "import tweepy\n",
    "import requests\n",
    "import os\n",
    "import json\n",
    "import pandas as pd\n",
    "import csv\n",
    "import datetime\n"
   ]
  },
  {
   "cell_type": "code",
   "execution_count": 3,
   "id": "c7d65e4c-6406-4b3b-81b2-1873188e5ebe",
   "metadata": {},
   "outputs": [],
   "source": [
    "consumer_key = \"0CThguieTF82yZhNFtRSYCXyu\"\n",
    "consumer_secret = \"bRejL5bnLEpsaLygweMQcdQ4smYR4socqX588qiMPf3Ek5zaaH\"\n",
    "access_token = \"1602348093650964483-EVlKeDpv8ubB0427g2SpJRKWmg4kl6\"\n",
    "access_token_secret = \"wNIxY1gyHR7KCrZIV1EBUeaf56uQ6rpi7bG9rXarCdelj\""
   ]
  },
  {
   "cell_type": "code",
   "execution_count": 11,
   "id": "38cb6eda-3861-4c81-93a7-a3f7b616fcb9",
   "metadata": {},
   "outputs": [],
   "source": [
    "today = datetime.date.today()\n",
    "yesterday= today - datetime.timedelta(days=1)"
   ]
  },
  {
   "cell_type": "code",
   "execution_count": 24,
   "id": "a2acdfbd-28ea-4a31-82d5-8d9b33670a86",
   "metadata": {},
   "outputs": [],
   "source": [
    "# Authenticate to Twitter API\n",
    "auth = tweepy.OAuth1UserHandler(consumer_key, consumer_secret, access_token, access_token_secret)\n",
    "\n",
    "# Create API object\n",
    "api = tweepy.API(auth)\n",
    "\n",
    "# Set the hashtag you want to search for\n",
    "hashtags = [\"#news\",\"#LatestNews\", \"#TrendingNews\", \"#NewsUpdates\", \"#NewsAlert\", \"#latest_news\", \"#today\", \"#todaynews\", \"#dailynews\"]\n",
    "\n",
    "# Set the number of tweets you want to retrieve\n",
    "num_tweets = 100\n",
    "    \n",
    "# Initialize a list to store the tweets\n",
    "tweets = []\n",
    "\n",
    "# Use the Cursor object to retrieve the tweets\n",
    "for hashtag in hashtags:\n",
    "    for tweet in tweepy.Cursor(api.search_tweets, q=hashtag, lang=\"en\" ,until = today, tweet_mode='extended').items(num_tweets):\n",
    "        # Add the tweet to the list\n",
    "        tweets.append(tweet)\n",
    "\n",
    "# Open a CSV file to write the results\n",
    "with open('tweets.csv', 'w', newline='', encoding='utf-8') as f:\n",
    "    # Create a CSV writer\n",
    "    writer = csv.writer(f)\n",
    "\n",
    "    # Write the header row\n",
    "    writer.writerow([\"Username\", \"Tweet ID\", \"Created At\", \"Tweet Text\"])\n",
    "\n",
    "    # Write the tweets to the CSV file\n",
    "    for tweet in tweets:\n",
    "        username = tweet.user.screen_name\n",
    "        tweet_id = tweet.id\n",
    "        created_at = tweet.created_at\n",
    "        tweet_text = tweet.full_text        \n",
    "        writer.writerow([username, tweet_id, created_at, tweet_text])\n"
   ]
  },
  {
   "cell_type": "code",
   "execution_count": null,
   "id": "2b57745d-23e4-4fe9-9623-c8f04bf49cda",
   "metadata": {},
   "outputs": [],
   "source": []
  }
 ],
 "metadata": {
  "kernelspec": {
   "display_name": "Python [conda env:bigdata-fall22]",
   "language": "python",
   "name": "conda-env-bigdata-fall22-py"
  },
  "language_info": {
   "codemirror_mode": {
    "name": "ipython",
    "version": 3
   },
   "file_extension": ".py",
   "mimetype": "text/x-python",
   "name": "python",
   "nbconvert_exporter": "python",
   "pygments_lexer": "ipython3",
   "version": "3.7.12"
  }
 },
 "nbformat": 4,
 "nbformat_minor": 5
}
